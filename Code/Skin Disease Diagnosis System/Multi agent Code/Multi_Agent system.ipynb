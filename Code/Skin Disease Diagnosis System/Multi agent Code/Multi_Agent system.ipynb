{
 "cells": [
  {
   "cell_type": "markdown",
   "metadata": {},
   "source": [
    "# Multi Agent"
   ]
  },
  {
   "cell_type": "code",
   "execution_count": 56,
   "metadata": {
    "execution": {
     "iopub.execute_input": "2025-05-29T17:20:57.823738Z",
     "iopub.status.busy": "2025-05-29T17:20:57.823004Z",
     "iopub.status.idle": "2025-05-29T17:21:07.115187Z",
     "shell.execute_reply": "2025-05-29T17:21:07.114226Z",
     "shell.execute_reply.started": "2025-05-29T17:20:57.823703Z"
    },
    "trusted": true
   },
   "outputs": [
    {
     "name": "stderr",
     "output_type": "stream",
     "text": [
      "huggingface/tokenizers: The current process just got forked, after parallelism has already been used. Disabling parallelism to avoid deadlocks...\n",
      "To disable this warning, you can either:\n",
      "\t- Avoid using `tokenizers` before the fork if possible\n",
      "\t- Explicitly set the environment variable TOKENIZERS_PARALLELISM=(true | false)\n"
     ]
    },
    {
     "name": "stdout",
     "output_type": "stream",
     "text": [
      "Requirement already satisfied: langchain in /usr/local/lib/python3.11/dist-packages (0.3.22)\n",
      "Collecting langchain\n",
      "  Downloading langchain-0.3.25-py3-none-any.whl.metadata (7.8 kB)\n",
      "Collecting langgraph\n",
      "  Downloading langgraph-0.4.7-py3-none-any.whl.metadata (6.8 kB)\n",
      "Collecting langchain-openai\n",
      "  Downloading langchain_openai-0.3.18-py3-none-any.whl.metadata (2.3 kB)\n",
      "Collecting langchain-core<1.0.0,>=0.3.58 (from langchain)\n",
      "  Downloading langchain_core-0.3.62-py3-none-any.whl.metadata (5.8 kB)\n",
      "Collecting langchain-text-splitters<1.0.0,>=0.3.8 (from langchain)\n",
      "  Downloading langchain_text_splitters-0.3.8-py3-none-any.whl.metadata (1.9 kB)\n",
      "Requirement already satisfied: langsmith<0.4,>=0.1.17 in /usr/local/lib/python3.11/dist-packages (from langchain) (0.3.23)\n",
      "Requirement already satisfied: pydantic<3.0.0,>=2.7.4 in /usr/local/lib/python3.11/dist-packages (from langchain) (2.11.4)\n",
      "Requirement already satisfied: SQLAlchemy<3,>=1.4 in /usr/local/lib/python3.11/dist-packages (from langchain) (2.0.40)\n",
      "Requirement already satisfied: requests<3,>=2 in /usr/local/lib/python3.11/dist-packages (from langchain) (2.32.3)\n",
      "Requirement already satisfied: PyYAML>=5.3 in /usr/local/lib/python3.11/dist-packages (from langchain) (6.0.2)\n",
      "Collecting langgraph-checkpoint>=2.0.26 (from langgraph)\n",
      "  Downloading langgraph_checkpoint-2.0.26-py3-none-any.whl.metadata (4.6 kB)\n",
      "Collecting langgraph-prebuilt>=0.2.0 (from langgraph)\n",
      "  Downloading langgraph_prebuilt-0.2.2-py3-none-any.whl.metadata (4.5 kB)\n",
      "Collecting langgraph-sdk>=0.1.42 (from langgraph)\n",
      "  Downloading langgraph_sdk-0.1.70-py3-none-any.whl.metadata (1.5 kB)\n",
      "Requirement already satisfied: xxhash>=3.5.0 in /usr/local/lib/python3.11/dist-packages (from langgraph) (3.5.0)\n",
      "Requirement already satisfied: openai<2.0.0,>=1.68.2 in /usr/local/lib/python3.11/dist-packages (from langchain-openai) (1.70.0)\n",
      "Requirement already satisfied: tiktoken<1,>=0.7 in /usr/local/lib/python3.11/dist-packages (from langchain-openai) (0.9.0)\n",
      "Requirement already satisfied: tenacity!=8.4.0,<10.0.0,>=8.1.0 in /usr/local/lib/python3.11/dist-packages (from langchain-core<1.0.0,>=0.3.58->langchain) (9.1.2)\n",
      "Requirement already satisfied: jsonpatch<2.0,>=1.33 in /usr/local/lib/python3.11/dist-packages (from langchain-core<1.0.0,>=0.3.58->langchain) (1.33)\n",
      "Collecting packaging<25,>=23.2 (from langchain-core<1.0.0,>=0.3.58->langchain)\n",
      "  Downloading packaging-24.2-py3-none-any.whl.metadata (3.2 kB)\n",
      "Requirement already satisfied: typing-extensions>=4.7 in /usr/local/lib/python3.11/dist-packages (from langchain-core<1.0.0,>=0.3.58->langchain) (4.13.2)\n",
      "Collecting ormsgpack<2.0.0,>=1.8.0 (from langgraph-checkpoint>=2.0.26->langgraph)\n",
      "  Downloading ormsgpack-1.10.0-cp311-cp311-manylinux_2_17_x86_64.manylinux2014_x86_64.whl.metadata (43 kB)\n",
      "\u001b[2K     \u001b[90m━━━━━━━━━━━━━━━━━━━━━━━━━━━━━━━━━━━━━━━━\u001b[0m \u001b[32m43.7/43.7 kB\u001b[0m \u001b[31m1.5 MB/s\u001b[0m eta \u001b[36m0:00:00\u001b[0m\n",
      "\u001b[?25hRequirement already satisfied: httpx>=0.25.2 in /usr/local/lib/python3.11/dist-packages (from langgraph-sdk>=0.1.42->langgraph) (0.28.1)\n",
      "Requirement already satisfied: orjson>=3.10.1 in /usr/local/lib/python3.11/dist-packages (from langgraph-sdk>=0.1.42->langgraph) (3.10.16)\n",
      "Requirement already satisfied: requests-toolbelt<2.0.0,>=1.0.0 in /usr/local/lib/python3.11/dist-packages (from langsmith<0.4,>=0.1.17->langchain) (1.0.0)\n",
      "Requirement already satisfied: zstandard<0.24.0,>=0.23.0 in /usr/local/lib/python3.11/dist-packages (from langsmith<0.4,>=0.1.17->langchain) (0.23.0)\n",
      "Requirement already satisfied: anyio<5,>=3.5.0 in /usr/local/lib/python3.11/dist-packages (from openai<2.0.0,>=1.68.2->langchain-openai) (4.9.0)\n",
      "Requirement already satisfied: distro<2,>=1.7.0 in /usr/local/lib/python3.11/dist-packages (from openai<2.0.0,>=1.68.2->langchain-openai) (1.9.0)\n",
      "Requirement already satisfied: jiter<1,>=0.4.0 in /usr/local/lib/python3.11/dist-packages (from openai<2.0.0,>=1.68.2->langchain-openai) (0.9.0)\n",
      "Requirement already satisfied: sniffio in /usr/local/lib/python3.11/dist-packages (from openai<2.0.0,>=1.68.2->langchain-openai) (1.3.1)\n",
      "Requirement already satisfied: tqdm>4 in /usr/local/lib/python3.11/dist-packages (from openai<2.0.0,>=1.68.2->langchain-openai) (4.67.1)\n",
      "Requirement already satisfied: annotated-types>=0.6.0 in /usr/local/lib/python3.11/dist-packages (from pydantic<3.0.0,>=2.7.4->langchain) (0.7.0)\n",
      "Requirement already satisfied: pydantic-core==2.33.2 in /usr/local/lib/python3.11/dist-packages (from pydantic<3.0.0,>=2.7.4->langchain) (2.33.2)\n",
      "Requirement already satisfied: typing-inspection>=0.4.0 in /usr/local/lib/python3.11/dist-packages (from pydantic<3.0.0,>=2.7.4->langchain) (0.4.0)\n",
      "Requirement already satisfied: charset-normalizer<4,>=2 in /usr/local/lib/python3.11/dist-packages (from requests<3,>=2->langchain) (3.4.2)\n",
      "Requirement already satisfied: idna<4,>=2.5 in /usr/local/lib/python3.11/dist-packages (from requests<3,>=2->langchain) (3.10)\n",
      "Requirement already satisfied: urllib3<3,>=1.21.1 in /usr/local/lib/python3.11/dist-packages (from requests<3,>=2->langchain) (2.4.0)\n",
      "Requirement already satisfied: certifi>=2017.4.17 in /usr/local/lib/python3.11/dist-packages (from requests<3,>=2->langchain) (2025.4.26)\n",
      "Requirement already satisfied: greenlet>=1 in /usr/local/lib/python3.11/dist-packages (from SQLAlchemy<3,>=1.4->langchain) (3.1.1)\n",
      "Requirement already satisfied: regex>=2022.1.18 in /usr/local/lib/python3.11/dist-packages (from tiktoken<1,>=0.7->langchain-openai) (2024.11.6)\n",
      "Requirement already satisfied: httpcore==1.* in /usr/local/lib/python3.11/dist-packages (from httpx>=0.25.2->langgraph-sdk>=0.1.42->langgraph) (1.0.7)\n",
      "Requirement already satisfied: h11<0.15,>=0.13 in /usr/local/lib/python3.11/dist-packages (from httpcore==1.*->httpx>=0.25.2->langgraph-sdk>=0.1.42->langgraph) (0.14.0)\n",
      "Requirement already satisfied: jsonpointer>=1.9 in /usr/local/lib/python3.11/dist-packages (from jsonpatch<2.0,>=1.33->langchain-core<1.0.0,>=0.3.58->langchain) (3.0.0)\n",
      "Downloading langchain-0.3.25-py3-none-any.whl (1.0 MB)\n",
      "\u001b[2K   \u001b[90m━━━━━━━━━━━━━━━━━━━━━━━━━━━━━━━━━━━━━━━━\u001b[0m \u001b[32m1.0/1.0 MB\u001b[0m \u001b[31m17.3 MB/s\u001b[0m eta \u001b[36m0:00:00\u001b[0ma \u001b[36m0:00:01\u001b[0m\n",
      "\u001b[?25hDownloading langgraph-0.4.7-py3-none-any.whl (154 kB)\n",
      "\u001b[2K   \u001b[90m━━━━━━━━━━━━━━━━━━━━━━━━━━━━━━━━━━━━━━━━\u001b[0m \u001b[32m154.9/154.9 kB\u001b[0m \u001b[31m10.4 MB/s\u001b[0m eta \u001b[36m0:00:00\u001b[0m\n",
      "\u001b[?25hDownloading langchain_openai-0.3.18-py3-none-any.whl (63 kB)\n",
      "\u001b[2K   \u001b[90m━━━━━━━━━━━━━━━━━━━━━━━━━━━━━━━━━━━━━━━━\u001b[0m \u001b[32m63.4/63.4 kB\u001b[0m \u001b[31m3.7 MB/s\u001b[0m eta \u001b[36m0:00:00\u001b[0m\n",
      "\u001b[?25hDownloading langchain_core-0.3.62-py3-none-any.whl (438 kB)\n",
      "\u001b[2K   \u001b[90m━━━━━━━━━━━━━━━━━━━━━━━━━━━━━━━━━━━━━━━━\u001b[0m \u001b[32m438.4/438.4 kB\u001b[0m \u001b[31m27.1 MB/s\u001b[0m eta \u001b[36m0:00:00\u001b[0m\n",
      "\u001b[?25hDownloading langchain_text_splitters-0.3.8-py3-none-any.whl (32 kB)\n",
      "Downloading langgraph_checkpoint-2.0.26-py3-none-any.whl (44 kB)\n",
      "\u001b[2K   \u001b[90m━━━━━━━━━━━━━━━━━━━━━━━━━━━━━━━━━━━━━━━━\u001b[0m \u001b[32m44.2/44.2 kB\u001b[0m \u001b[31m2.7 MB/s\u001b[0m eta \u001b[36m0:00:00\u001b[0m\n",
      "\u001b[?25hDownloading langgraph_prebuilt-0.2.2-py3-none-any.whl (23 kB)\n",
      "Downloading langgraph_sdk-0.1.70-py3-none-any.whl (49 kB)\n",
      "\u001b[2K   \u001b[90m━━━━━━━━━━━━━━━━━━━━━━━━━━━━━━━━━━━━━━━━\u001b[0m \u001b[32m50.0/50.0 kB\u001b[0m \u001b[31m3.0 MB/s\u001b[0m eta \u001b[36m0:00:00\u001b[0m\n",
      "\u001b[?25hDownloading ormsgpack-1.10.0-cp311-cp311-manylinux_2_17_x86_64.manylinux2014_x86_64.whl (216 kB)\n",
      "\u001b[2K   \u001b[90m━━━━━━━━━━━━━━━━━━━━━━━━━━━━━━━━━━━━━━━━\u001b[0m \u001b[32m216.5/216.5 kB\u001b[0m \u001b[31m13.3 MB/s\u001b[0m eta \u001b[36m0:00:00\u001b[0m\n",
      "\u001b[?25hDownloading packaging-24.2-py3-none-any.whl (65 kB)\n",
      "\u001b[2K   \u001b[90m━━━━━━━━━━━━━━━━━━━━━━━━━━━━━━━━━━━━━━━━\u001b[0m \u001b[32m65.5/65.5 kB\u001b[0m \u001b[31m4.3 MB/s\u001b[0m eta \u001b[36m0:00:00\u001b[0m\n",
      "\u001b[?25hInstalling collected packages: packaging, ormsgpack, langgraph-sdk, langchain-core, langgraph-checkpoint, langchain-text-splitters, langchain-openai, langgraph-prebuilt, langchain, langgraph\n",
      "  Attempting uninstall: packaging\n",
      "    Found existing installation: packaging 25.0\n",
      "    Uninstalling packaging-25.0:\n",
      "      Successfully uninstalled packaging-25.0\n",
      "  Attempting uninstall: langchain-core\n",
      "    Found existing installation: langchain-core 0.3.50\n",
      "    Uninstalling langchain-core-0.3.50:\n",
      "      Successfully uninstalled langchain-core-0.3.50\n",
      "  Attempting uninstall: langchain-text-splitters\n",
      "    Found existing installation: langchain-text-splitters 0.3.7\n",
      "    Uninstalling langchain-text-splitters-0.3.7:\n",
      "      Successfully uninstalled langchain-text-splitters-0.3.7\n",
      "  Attempting uninstall: langchain\n",
      "    Found existing installation: langchain 0.3.22\n",
      "    Uninstalling langchain-0.3.22:\n",
      "      Successfully uninstalled langchain-0.3.22\n",
      "\u001b[31mERROR: pip's dependency resolver does not currently take into account all the packages that are installed. This behaviour is the source of the following dependency conflicts.\n",
      "datasets 3.6.0 requires fsspec[http]<=2025.3.0,>=2023.1.0, but you have fsspec 2025.3.2 which is incompatible.\n",
      "cesium 0.12.4 requires numpy<3.0,>=2.0, but you have numpy 1.26.4 which is incompatible.\n",
      "bigframes 1.42.0 requires rich<14,>=12.4.4, but you have rich 14.0.0 which is incompatible.\n",
      "plotnine 0.14.5 requires matplotlib>=3.8.0, but you have matplotlib 3.7.2 which is incompatible.\n",
      "pandas-gbq 0.28.0 requires google-api-core<3.0.0dev,>=2.10.2, but you have google-api-core 1.34.1 which is incompatible.\n",
      "mlxtend 0.23.4 requires scikit-learn>=1.3.1, but you have scikit-learn 1.2.2 which is incompatible.\u001b[0m\u001b[31m\n",
      "\u001b[0mSuccessfully installed langchain-0.3.25 langchain-core-0.3.62 langchain-openai-0.3.18 langchain-text-splitters-0.3.8 langgraph-0.4.7 langgraph-checkpoint-2.0.26 langgraph-prebuilt-0.2.2 langgraph-sdk-0.1.70 ormsgpack-1.10.0 packaging-24.2\n"
     ]
    }
   ],
   "source": [
    "# Install required packages if not already installed\n",
    "!pip install --upgrade langchain langgraph langchain-openai"
   ]
  },
  {
   "cell_type": "code",
   "execution_count": 57,
   "metadata": {
    "execution": {
     "iopub.execute_input": "2025-05-29T17:21:24.816538Z",
     "iopub.status.busy": "2025-05-29T17:21:24.816221Z",
     "iopub.status.idle": "2025-05-29T17:21:27.049939Z",
     "shell.execute_reply": "2025-05-29T17:21:27.049329Z",
     "shell.execute_reply.started": "2025-05-29T17:21:24.816510Z"
    },
    "trusted": true
   },
   "outputs": [],
   "source": [
    "import os\n",
    "from langchain.schema import SystemMessage, HumanMessage\n",
    "from langgraph.graph import StateGraph, END\n",
    "from typing import TypedDict\n",
    "import re\n",
    "from langchain_openai import ChatOpenAI"
   ]
  },
  {
   "cell_type": "code",
   "execution_count": 58,
   "metadata": {
    "execution": {
     "iopub.execute_input": "2025-05-29T17:21:39.372323Z",
     "iopub.status.busy": "2025-05-29T17:21:39.372032Z",
     "iopub.status.idle": "2025-05-29T17:21:39.376189Z",
     "shell.execute_reply": "2025-05-29T17:21:39.375270Z",
     "shell.execute_reply.started": "2025-05-29T17:21:39.372304Z"
    },
    "trusted": true
   },
   "outputs": [],
   "source": [
    "# The  API Key\n",
    "os.environ['OPENROUTER_API_KEY'] = \"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\"  # <-- Replace with your key"
   ]
  },
  {
   "cell_type": "code",
   "execution_count": 59,
   "metadata": {
    "execution": {
     "iopub.execute_input": "2025-05-29T17:21:53.279694Z",
     "iopub.status.busy": "2025-05-29T17:21:53.279013Z",
     "iopub.status.idle": "2025-05-29T17:21:53.283326Z",
     "shell.execute_reply": "2025-05-29T17:21:53.282549Z",
     "shell.execute_reply.started": "2025-05-29T17:21:53.279670Z"
    },
    "trusted": true
   },
   "outputs": [],
   "source": [
    "# State\n",
    "class MedicalState(TypedDict):\n",
    "    disease: str\n",
    "    country: str\n",
    "    disease_info: str\n",
    "    hospital_list: str"
   ]
  },
  {
   "cell_type": "code",
   "execution_count": 60,
   "metadata": {
    "execution": {
     "iopub.execute_input": "2025-05-29T17:22:03.406507Z",
     "iopub.status.busy": "2025-05-29T17:22:03.406234Z",
     "iopub.status.idle": "2025-05-29T17:22:03.411223Z",
     "shell.execute_reply": "2025-05-29T17:22:03.410250Z",
     "shell.execute_reply.started": "2025-05-29T17:22:03.406489Z"
    },
    "trusted": true
   },
   "outputs": [],
   "source": [
    "# Memory\n",
    "class AgentMemory:\n",
    "    def __init__(self):\n",
    "        self.chat_log = []\n",
    "    \n",
    "    def update(self, message: str):\n",
    "        self.chat_log.append(message)\n",
    "    \n",
    "    def get_context(self, n=5):\n",
    "        return \"\\n\".join(self.chat_log[-n:])\n",
    "\n",
    "memory = AgentMemory()"
   ]
  },
  {
   "cell_type": "code",
   "execution_count": 61,
   "metadata": {
    "execution": {
     "iopub.execute_input": "2025-05-29T17:22:21.743195Z",
     "iopub.status.busy": "2025-05-29T17:22:21.742626Z",
     "iopub.status.idle": "2025-05-29T17:22:21.747101Z",
     "shell.execute_reply": "2025-05-29T17:22:21.746257Z",
     "shell.execute_reply.started": "2025-05-29T17:22:21.743169Z"
    },
    "trusted": true
   },
   "outputs": [],
   "source": [
    "# LLM initialization\n",
    "def get_llm(model: str = \"gpt-3.5-turbo\", temp: float = 0.2):\n",
    "    return ChatOpenAI(\n",
    "        openai_api_key=os.environ['OPENROUTER_API_KEY'],\n",
    "        openai_api_base=\"https://openrouter.ai/api/v1\",\n",
    "        model=model,\n",
    "        temperature=temp,\n",
    "        max_retries=3,\n",
    "        timeout=30\n",
    "    )"
   ]
  },
  {
   "cell_type": "code",
   "execution_count": 66,
   "metadata": {
    "execution": {
     "iopub.execute_input": "2025-05-29T17:23:37.699831Z",
     "iopub.status.busy": "2025-05-29T17:23:37.699579Z",
     "iopub.status.idle": "2025-05-29T17:23:37.704944Z",
     "shell.execute_reply": "2025-05-29T17:23:37.704117Z",
     "shell.execute_reply.started": "2025-05-29T17:23:37.699813Z"
    },
    "trusted": true
   },
   "outputs": [],
   "source": [
    "# Agent 1: Disease Info Agent\n",
    "def disease_info_agent(state: MedicalState) -> MedicalState:\n",
    "    prompt = f\"\"\"You are a helpful medical assistant.\n",
    "Provide a clear and concise 4–5 sentence description of the skin disease \"{state['disease']}\" and after that only mention the following briefly in this format: \n",
    "1- its symptoms: \n",
    "2- its causes:\n",
    "3- the possible treatments:.\n",
    "\n",
    "Disease: {state['disease']}\n",
    "Description:\"\"\"\n",
    "\n",
    "    llm = get_llm(\"gpt-3.5-turbo\", 0.2)\n",
    "    response = llm.invoke([\n",
    "        SystemMessage(content=\"You are a reliable, medically informed assistant.\"),\n",
    "        HumanMessage(content=prompt)\n",
    "    ]).content\n",
    "    \n",
    "    memory.update(f\"Disease Info: {response}\")\n",
    "    return {**state, \"disease_info\": response}"
   ]
  },
  {
   "cell_type": "code",
   "execution_count": 67,
   "metadata": {
    "execution": {
     "iopub.execute_input": "2025-05-29T17:23:39.680254Z",
     "iopub.status.busy": "2025-05-29T17:23:39.679954Z",
     "iopub.status.idle": "2025-05-29T17:23:39.685514Z",
     "shell.execute_reply": "2025-05-29T17:23:39.684437Z",
     "shell.execute_reply.started": "2025-05-29T17:23:39.680234Z"
    },
    "trusted": true
   },
   "outputs": [],
   "source": [
    "# Agent 2: Hospital Finder Agent\n",
    "def hospital_finder_agent(state: MedicalState) -> MedicalState:\n",
    "    prompt = f\"\"\"List 5 well-known hospitals or dermatology clinics in {state['country']} where someone can go for treatment of a skin disease.\n",
    "Include their:\n",
    "- name\n",
    "- city\n",
    "- contact number (if possible)\n",
    "- a short address\n",
    "\n",
    "Only show relevant institutions with a reputation for dermatology or skin care.\"\"\"\n",
    "\n",
    "    llm = get_llm(\"gpt-3.5-turbo\", 0.2)\n",
    "    response = llm.invoke([\n",
    "        SystemMessage(content=\"You are a medical travel assistant helping people find hospitals.\"),\n",
    "        HumanMessage(content=prompt)\n",
    "    ]).content\n",
    "    \n",
    "    memory.update(f\"Hospital Info: {response}\")\n",
    "    return {**state, \"hospital_list\": response}"
   ]
  },
  {
   "cell_type": "code",
   "execution_count": 68,
   "metadata": {
    "execution": {
     "iopub.execute_input": "2025-05-29T17:23:47.525751Z",
     "iopub.status.busy": "2025-05-29T17:23:47.525191Z",
     "iopub.status.idle": "2025-05-29T17:23:47.529822Z",
     "shell.execute_reply": "2025-05-29T17:23:47.528940Z",
     "shell.execute_reply.started": "2025-05-29T17:23:47.525726Z"
    },
    "trusted": true
   },
   "outputs": [],
   "source": [
    "# Building the Graph\n",
    "def build_workflow():\n",
    "    graph = StateGraph(MedicalState)\n",
    "    graph.add_node(\"describe_disease\", disease_info_agent)\n",
    "    graph.add_node(\"find_hospitals\", hospital_finder_agent)\n",
    "    graph.set_entry_point(\"describe_disease\")\n",
    "    graph.add_edge(\"describe_disease\", \"find_hospitals\")\n",
    "    graph.add_edge(\"find_hospitals\", END)\n",
    "    return graph.compile()"
   ]
  },
  {
   "cell_type": "code",
   "execution_count": 69,
   "metadata": {
    "execution": {
     "iopub.execute_input": "2025-05-29T17:23:59.489723Z",
     "iopub.status.busy": "2025-05-29T17:23:59.489159Z",
     "iopub.status.idle": "2025-05-29T17:24:00.360312Z",
     "shell.execute_reply": "2025-05-29T17:24:00.359634Z",
     "shell.execute_reply.started": "2025-05-29T17:23:59.489701Z"
    },
    "trusted": true
   },
   "outputs": [
    {
     "data": {
      "image/png": "[encoded data removed]",
      "text/plain": [
       "<langgraph.graph.state.CompiledStateGraph object at 0x7c0168f00250>"
      ]
     },
     "execution_count": 69,
     "metadata": {},
     "output_type": "execute_result"
    }
   ],
   "source": [
    "build_workflow()"
   ]
  },
  {
   "cell_type": "code",
   "execution_count": 70,
   "metadata": {
    "execution": {
     "iopub.execute_input": "2025-05-29T17:24:38.932915Z",
     "iopub.status.busy": "2025-05-29T17:24:38.932190Z",
     "iopub.status.idle": "2025-05-29T17:24:38.937293Z",
     "shell.execute_reply": "2025-05-29T17:24:38.936544Z",
     "shell.execute_reply.started": "2025-05-29T17:24:38.932881Z"
    },
    "trusted": true
   },
   "outputs": [],
   "source": [
    "# The Main Function\n",
    "def medical_assistant(disease: str, country: str):\n",
    "    initial_state = {\n",
    "        \"disease\": disease.strip(),\n",
    "        \"country\": country.strip(),\n",
    "        \"disease_info\": \"\",\n",
    "        \"hospital_list\": \"\"\n",
    "    }\n",
    "    \n",
    "    try:\n",
    "        assistant = build_workflow()\n",
    "        final_state = assistant.invoke(initial_state)\n",
    "\n",
    "        output = f\"\"\"\n",
    "==============================\n",
    "Information About: {final_state['disease']}\n",
    "==============================\n",
    "{final_state['disease_info']}\n",
    "\n",
    "==============================\n",
    "Hospitals in {final_state['country']}\n",
    "==============================\n",
    "{final_state['hospital_list']}\n",
    "\"\"\"\n",
    "        return output\n",
    "\n",
    "    except Exception as e:\n",
    "        return f\"An error occurred: {str(e)}\""
   ]
  },
  {
   "cell_type": "markdown",
   "metadata": {},
   "source": [
    "# Test Cases"
   ]
  },
  {
   "cell_type": "code",
   "execution_count": 72,
   "metadata": {
    "execution": {
     "iopub.execute_input": "2025-05-29T17:25:45.389961Z",
     "iopub.status.busy": "2025-05-29T17:25:45.389647Z",
     "iopub.status.idle": "2025-05-29T17:26:02.908963Z",
     "shell.execute_reply": "2025-05-29T17:26:02.908168Z",
     "shell.execute_reply.started": "2025-05-29T17:25:45.389937Z"
    },
    "trusted": true
   },
   "outputs": [
    {
     "name": "stdout",
     "output_type": "stream",
     "text": [
      "Enter your country to find hospitals:  Egypt\n"
     ]
    },
    {
     "name": "stdout",
     "output_type": "stream",
     "text": [
      "\n",
      "Running Medical Assistant...\n",
      "\n",
      "\n",
      "==============================\n",
      "Information About: Actinic_keratosis\n",
      "==============================\n",
      "Actinic keratosis is a common precancerous skin condition caused by long-term sun exposure. It appears as rough, scaly patches on sun-exposed areas such as the face, scalp, ears, and hands. Actinic keratosis can progress to skin cancer if left untreated, so it is important to monitor and manage these lesions promptly. Treatment options include topical medications, cryotherapy (freezing), chemical peels, and photodynamic therapy.\n",
      "\n",
      "Symptoms:\n",
      "- Rough, scaly patches on sun-exposed skin\n",
      "- Itching or burning sensation in the affected areas\n",
      "\n",
      "Causes:\n",
      "- Prolonged exposure to ultraviolet (UV) radiation from the sun\n",
      "- Fair skin, light hair, and blue or green eyes increase the risk\n",
      "- Age and a history of frequent sunburns also contribute to the development of actinic keratosis\n",
      "\n",
      "Possible treatments:\n",
      "- Topical medications such as fluorouracil, imiquimod, or diclofenac\n",
      "- Cryotherapy (freezing) to destroy the abnormal skin cells\n",
      "- Chemical peels to remove the damaged skin layers\n",
      "- Photodynamic therapy using a photosensitizing agent and light to target and destroy the precancerous cells\n",
      "\n",
      "==============================\n",
      "Hospitals in Egypt\n",
      "==============================\n",
      "1. Cairo University Hospitals - Kasr Al Ainy\n",
      "City: Cairo\n",
      "Contact Number: +20 2 23640402\n",
      "Address: Kasr Al Ainy St., El-Manial, Cairo, Egypt\n",
      "\n",
      "2. Dar Al Fouad Hospital\n",
      "City: Giza\n",
      "Contact Number: +20 2 37481000\n",
      "Address: 6th of October City, Giza, Egypt\n",
      "\n",
      "3. Ain Shams University Hospitals\n",
      "City: Cairo\n",
      "Contact Number: +20 2 26837000\n",
      "Address: Abbassia, Cairo, Egypt\n",
      "\n",
      "4. As-Salam International Hospital\n",
      "City: Cairo\n",
      "Contact Number: +20 2 24060000\n",
      "Address: Corniche El Nil, Maadi, Cairo, Egypt\n",
      "\n",
      "5. Alexandria University Hospitals\n",
      "City: Alexandria\n",
      "Contact Number: +20 3 4871900\n",
      "Address: Al Azaritah WA Ash Shatebi, Qesm Bab Sharqi, Alexandria Governorate, Egypt\n",
      "\n"
     ]
    }
   ],
   "source": [
    "# Actinic_keratosis & Egypt\n",
    "if __name__ == \"__main__\":\n",
    "    disease = \"Actinic_keratosis\"\n",
    "    country = input(\"Enter your country to find hospitals: \")\n",
    "\n",
    "    print(\"\\nRunning Medical Assistant...\\n\")\n",
    "    result = medical_assistant(disease, country)\n",
    "    print(result)\n"
   ]
  },
  {
   "cell_type": "code",
   "execution_count": 73,
   "metadata": {
    "execution": {
     "iopub.execute_input": "2025-05-29T17:26:44.708731Z",
     "iopub.status.busy": "2025-05-29T17:26:44.708448Z",
     "iopub.status.idle": "2025-05-29T17:27:00.333269Z",
     "shell.execute_reply": "2025-05-29T17:27:00.332629Z",
     "shell.execute_reply.started": "2025-05-29T17:26:44.708711Z"
    },
    "trusted": true
   },
   "outputs": [
    {
     "name": "stdout",
     "output_type": "stream",
     "text": [
      "Enter your country to find hospitals:  America\n"
     ]
    },
    {
     "name": "stdout",
     "output_type": "stream",
     "text": [
      "\n",
      "Running Medical Assistant...\n",
      "\n",
      "\n",
      "==============================\n",
      "Information About: Basal_cell_carcinoma\n",
      "==============================\n",
      "Basal cell carcinoma is the most common type of skin cancer that arises from the basal cells in the outermost layer of the skin. It typically appears as a pearly or waxy bump, with visible blood vessels, or as a flat, flesh-colored or brown scar-like lesion. This type of skin cancer is usually slow-growing and rarely spreads to other parts of the body, but it can be locally invasive and cause disfigurement if left untreated.\n",
      "\n",
      "1- Symptoms: Pearly or waxy bump, flat flesh-colored or brown scar-like lesion, visible blood vessels.\n",
      "2- Causes: Prolonged exposure to ultraviolet (UV) radiation from the sun, tanning beds, or other sources.\n",
      "3- Treatments: Surgical excision, Mohs surgery, cryotherapy, topical medications, radiation therapy.\n",
      "\n",
      "==============================\n",
      "Hospitals in America\n",
      "==============================\n",
      "1. Mayo Clinic\n",
      "   - City: Rochester, Minnesota\n",
      "   - Contact Number: 507-284-2511\n",
      "   - Address: 200 1st St SW, Rochester, MN 55905\n",
      "\n",
      "2. Cleveland Clinic\n",
      "   - City: Cleveland, Ohio\n",
      "   - Contact Number: 800-223-2273\n",
      "   - Address: 9500 Euclid Ave, Cleveland, OH 44195\n",
      "\n",
      "3. Johns Hopkins Hospital\n",
      "   - City: Baltimore, Maryland\n",
      "   - Contact Number: 410-955-5000\n",
      "   - Address: 1800 Orleans St, Baltimore, MD 21287\n",
      "\n",
      "4. Massachusetts General Hospital\n",
      "   - City: Boston, Massachusetts\n",
      "   - Contact Number: 617-726-2000\n",
      "   - Address: 55 Fruit St, Boston, MA 02114\n",
      "\n",
      "5. Stanford Health Care\n",
      "   - City: Stanford, California\n",
      "   - Contact Number: 650-723-4000\n",
      "   - Address: 300 Pasteur Dr, Stanford, CA 94305\n",
      "\n",
      "These hospitals are renowned for their dermatology departments and provide high-quality care for various skin diseases.\n",
      "\n"
     ]
    }
   ],
   "source": [
    "# Basal_cell_carcinoma & America\n",
    "if __name__ == \"__main__\":\n",
    "    disease = \"Basal_cell_carcinoma\"\n",
    "    country = input(\"Enter your country to find hospitals: \")\n",
    "\n",
    "    print(\"\\nRunning Medical Assistant...\\n\")\n",
    "    result = medical_assistant(disease, country)\n",
    "    print(result)"
   ]
  },
  {
   "cell_type": "code",
   "execution_count": 74,
   "metadata": {
    "execution": {
     "iopub.execute_input": "2025-05-29T17:28:03.203047Z",
     "iopub.status.busy": "2025-05-29T17:28:03.202313Z",
     "iopub.status.idle": "2025-05-29T17:28:30.076819Z",
     "shell.execute_reply": "2025-05-29T17:28:30.076086Z",
     "shell.execute_reply.started": "2025-05-29T17:28:03.203023Z"
    },
    "trusted": true
   },
   "outputs": [
    {
     "name": "stdout",
     "output_type": "stream",
     "text": [
      "Enter your country to find hospitals:  Egypt\n"
     ]
    },
    {
     "name": "stdout",
     "output_type": "stream",
     "text": [
      "\n",
      "Running Medical Assistant...\n",
      "\n",
      "\n",
      "==============================\n",
      "Information About: Benign_keratosis\n",
      "==============================\n",
      "Benign keratosis, also known as seborrheic keratosis, is a common non-cancerous skin growth that appears as a waxy, stuck-on lesion with a rough or scaly surface. These growths are typically brown, black, or tan in color and can vary in size. They are more common in older adults and are usually found on the face, chest, back, or shoulders.\n",
      "\n",
      "1- Symptoms: Benign keratosis presents as raised, wart-like growths on the skin that are usually painless and do not itch.\n",
      "2- Causes: The exact cause of benign keratosis is unknown, but factors such as genetics, sun exposure, and age may play a role in its development.\n",
      "3- Treatments: Benign keratosis does not require treatment unless it becomes bothersome or cosmetically undesirable. Options for removal include cryotherapy, curettage, laser therapy, or surgical excision.\n",
      "\n",
      "==============================\n",
      "Hospitals in Egypt\n",
      "==============================\n",
      "1. Dar Al Fouad Hospital\n",
      "   - City: Cairo\n",
      "   - Contact Number: +20 2 26176000\n",
      "   - Address: Ring Road, El Manteqah as Sadesah, Cairo Governorate, Egypt\n",
      "\n",
      "2. As-Salam International Hospital\n",
      "   - City: Cairo\n",
      "   - Contact Number: +20 2 37486100\n",
      "   - Address: 21 El Tayaran St., Nasr City, Cairo, Egypt\n",
      "\n",
      "3. Cairo University Hospitals\n",
      "   - City: Cairo\n",
      "   - Contact Number: +20 2 23640300\n",
      "   - Address: Al-Saray Street, El Manial, Cairo, Egypt\n",
      "\n",
      "4. Ain Shams University Hospitals\n",
      "   - City: Cairo\n",
      "   - Contact Number: +20 2 26831700\n",
      "   - Address: Ramses St., Abbasia, Cairo, Egypt\n",
      "\n",
      "5. Alexandria University Hospitals\n",
      "   - City: Alexandria\n",
      "   - Contact Number: +20 3 4863100\n",
      "   - Address: Al Azarita WA Ash Shatebi, Qesm Al Attarin, Alexandria Governorate, Egypt\n",
      "\n"
     ]
    }
   ],
   "source": [
    "# Benign_keratosis & Egypt\n",
    "if __name__ == \"__main__\":\n",
    "    disease = \"Benign_keratosis\"\n",
    "    country = input(\"Enter your country to find hospitals: \")\n",
    "\n",
    "    print(\"\\nRunning Medical Assistant...\\n\")\n",
    "    result = medical_assistant(disease, country)\n",
    "    print(result)"
   ]
  },
  {
   "cell_type": "code",
   "execution_count": 75,
   "metadata": {
    "execution": {
     "iopub.execute_input": "2025-05-29T17:29:42.945085Z",
     "iopub.status.busy": "2025-05-29T17:29:42.944355Z",
     "iopub.status.idle": "2025-05-29T17:30:20.022840Z",
     "shell.execute_reply": "2025-05-29T17:30:20.022151Z",
     "shell.execute_reply.started": "2025-05-29T17:29:42.945061Z"
    },
    "trusted": true
   },
   "outputs": [
    {
     "name": "stdout",
     "output_type": "stream",
     "text": [
      "Enter your country to find hospitals:  England\n"
     ]
    },
    {
     "name": "stdout",
     "output_type": "stream",
     "text": [
      "\n",
      "Running Medical Assistant...\n",
      "\n",
      "\n",
      "==============================\n",
      "Information About: Dermatofibroma\n",
      "==============================\n",
      "Dermatofibroma is a common benign skin growth that typically presents as a firm, raised nodule on the skin, most commonly found on the lower extremities. It is usually painless and may have a reddish-brown color. Dermatofibromas are often asymptomatic but can sometimes be itchy or tender to the touch. They are typically harmless and do not require treatment unless they become bothersome or cosmetically undesirable.\n",
      "\n",
      "Symptoms:\n",
      "- Firm, raised nodule on the skin\n",
      "- Reddish-brown color\n",
      "- May be itchy or tender\n",
      "\n",
      "Causes:\n",
      "- The exact cause is unknown, but dermatofibromas may develop in response to minor skin trauma or insect bites\n",
      "\n",
      "Possible treatments:\n",
      "- Observation: Often no treatment is necessary as dermatofibromas are usually harmless\n",
      "- Surgical excision: If the growth is bothersome or for cosmetic reasons\n",
      "- Cryotherapy: Freezing the growth off with liquid nitrogen\n",
      "\n",
      "==============================\n",
      "Hospitals in England\n",
      "==============================\n",
      "1. St John's Institute of Dermatology\n",
      "City: London\n",
      "Contact Number: +44 20 7188 6410\n",
      "Address: Guy's Hospital, Great Maze Pond, London SE1 9RT\n",
      "\n",
      "2. The London Skin and Hair Clinic\n",
      "City: London\n",
      "Contact Number: +44 20 7183 4565\n",
      "Address: 233 High Holborn, London WC1V 7DN\n",
      "\n",
      "3. The Cadogan Clinic\n",
      "City: London\n",
      "Contact Number: +44 20 7901 8500\n",
      "Address: 120 Sloane Street, Chelsea, London SW1X 9BW\n",
      "\n",
      "4. The Harley Street Dermatology Clinic\n",
      "City: London\n",
      "Contact Number: +44 20 7034 5999\n",
      "Address: 48 Harley Street, Marylebone, London W1G 9PU\n",
      "\n",
      "5. The Dermatology Clinic London\n",
      "City: London\n",
      "Contact Number: +44 20 7467 3720\n",
      "Address: 108 Harley Street, Marylebone, London W1G 7ET\n",
      "\n"
     ]
    }
   ],
   "source": [
    "# Dermatofibroma & England\n",
    "if __name__ == \"__main__\":\n",
    "    disease = \"Dermatofibroma\"\n",
    "    country = input(\"Enter your country to find hospitals: \")\n",
    "\n",
    "    print(\"\\nRunning Medical Assistant...\\n\")\n",
    "    result = medical_assistant(disease, country)\n",
    "    print(result)"
   ]
  },
  {
   "cell_type": "code",
   "execution_count": 76,
   "metadata": {
    "execution": {
     "iopub.execute_input": "2025-05-29T17:32:01.958926Z",
     "iopub.status.busy": "2025-05-29T17:32:01.958302Z",
     "iopub.status.idle": "2025-05-29T17:32:26.089417Z",
     "shell.execute_reply": "2025-05-29T17:32:26.088609Z",
     "shell.execute_reply.started": "2025-05-29T17:32:01.958888Z"
    },
    "trusted": true
   },
   "outputs": [
    {
     "name": "stdout",
     "output_type": "stream",
     "text": [
      "Enter your country to find hospitals:  France\n"
     ]
    },
    {
     "name": "stdout",
     "output_type": "stream",
     "text": [
      "\n",
      "Running Medical Assistant...\n",
      "\n",
      "\n",
      "==============================\n",
      "Information About: Melanocytic_nevus\n",
      "==============================\n",
      "Melanocytic nevus, commonly known as a mole, is a benign skin lesion that results from the clustering of melanocytes, the cells responsible for skin pigmentation. These moles can vary in color, size, and shape, and are usually round or oval with well-defined borders. While most moles are harmless, some may exhibit atypical features that warrant further evaluation by a dermatologist to rule out skin cancer.\n",
      "\n",
      "1- Symptoms: Typically, melanocytic nevi appear as small, dark spots on the skin, ranging from light brown to black in color. They may be flat or raised, and can develop anywhere on the body.\n",
      "2- Causes: The exact cause of melanocytic nevi is not fully understood, but they are thought to be influenced by genetic factors and sun exposure. Individuals with fair skin and a history of sunburns are more prone to developing moles.\n",
      "3- Treatments: In most cases, no treatment is necessary for melanocytic nevi. However, if a mole shows signs of changes in size, shape, or color, a dermatologist may recommend removal through surgical excision or other procedures for further evaluation. Regular skin checks and sun protection are important for monitoring and preventing skin changes.\n",
      "\n",
      "==============================\n",
      "Hospitals in France\n",
      "==============================\n",
      "1. **Hôpital Saint-Louis**\n",
      "   - **City:** Paris\n",
      "   - **Contact:** +33 1 42 49 49 49\n",
      "   - **Address:** 1 Avenue Claude Vellefaux, 75010 Paris, France\n",
      "\n",
      "2. **Hôpital Cochin**\n",
      "   - **City:** Paris\n",
      "   - **Contact:** +33 1 58 41 41 41\n",
      "   - **Address:** 27 Rue du Faubourg Saint-Jacques, 75014 Paris, France\n",
      "\n",
      "3. **Hôpital Edouard Herriot**\n",
      "   - **City:** Lyon\n",
      "   - **Contact:** +33 4 72 11 00 33\n",
      "   - **Address:** 5 Place d'Arsonval, 69437 Lyon, France\n",
      "\n",
      "4. **Hôpital de la Timone**\n",
      "   - **City:** Marseille\n",
      "   - **Contact:** +33 4 91 38 00 00\n",
      "   - **Address:** 264 Rue Saint-Pierre, 13385 Marseille, France\n",
      "\n",
      "5. **Hôpital de la Pitié-Salpêtrière**\n",
      "   - **City:** Paris\n",
      "   - **Contact:** +33 1 42 16 00 00\n",
      "   - **Address:** 47-83 Boulevard de l'Hôpital, 75013 Paris, France\n",
      "\n"
     ]
    }
   ],
   "source": [
    "# Melanocytic_nevus & France\n",
    "if __name__ == \"__main__\":\n",
    "    disease = \"Melanocytic_nevus\"\n",
    "    country = input(\"Enter your country to find hospitals: \")\n",
    "\n",
    "    print(\"\\nRunning Medical Assistant...\\n\")\n",
    "    result = medical_assistant(disease, country)\n",
    "    print(result)"
   ]
  },
  {
   "cell_type": "code",
   "execution_count": 77,
   "metadata": {
    "execution": {
     "iopub.execute_input": "2025-05-29T17:33:24.813427Z",
     "iopub.status.busy": "2025-05-29T17:33:24.813140Z",
     "iopub.status.idle": "2025-05-29T17:33:42.205655Z",
     "shell.execute_reply": "2025-05-29T17:33:42.204950Z",
     "shell.execute_reply.started": "2025-05-29T17:33:24.813409Z"
    },
    "trusted": true
   },
   "outputs": [
    {
     "name": "stdout",
     "output_type": "stream",
     "text": [
      "Enter your country to find hospitals:  Germany\n"
     ]
    },
    {
     "name": "stdout",
     "output_type": "stream",
     "text": [
      "\n",
      "Running Medical Assistant...\n",
      "\n",
      "\n",
      "==============================\n",
      "Information About: Melanoma\n",
      "==============================\n",
      "Melanoma is a type of skin cancer that originates in the pigment-producing cells of the skin called melanocytes. It is considered the most serious form of skin cancer due to its ability to spread quickly to other parts of the body. Melanoma is often characterized by changes in the size, shape, or color of existing moles, or the development of new pigmented or unusual-looking growths on the skin.\n",
      "\n",
      "1- Symptoms: Changes in the size, shape, or color of moles, development of new pigmented growths, itching, bleeding, or ulceration of existing moles.\n",
      "2- Causes: Exposure to ultraviolet (UV) radiation from the sun or tanning beds, genetic factors, a history of sunburns, and having fair skin, light eyes, or a large number of moles.\n",
      "3- Treatments: Surgical removal of the melanoma and surrounding tissue, chemotherapy, radiation therapy, immunotherapy, targeted therapy, and clinical trials for advanced cases.\n",
      "\n",
      "==============================\n",
      "Hospitals in Germany\n",
      "==============================\n",
      "1. Charité - Universitätsmedizin Berlin\n",
      "City: Berlin\n",
      "Contact Number: +49 30 45050\n",
      "Address: Charitéplatz 1, 10117 Berlin, Germany\n",
      "\n",
      "2. University Hospital Heidelberg\n",
      "City: Heidelberg\n",
      "Contact Number: +49 6221 56-0\n",
      "Address: Im Neuenheimer Feld 672, 69120 Heidelberg, Germany\n",
      "\n",
      "3. University Hospital Hamburg-Eppendorf (UKE)\n",
      "City: Hamburg\n",
      "Contact Number: +49 40 7410-0\n",
      "Address: Martinistrasse 52, 20246 Hamburg, Germany\n",
      "\n",
      "4. Ludwig Maximilian University Hospital Munich\n",
      "City: Munich\n",
      "Contact Number: +49 89 4400-0\n",
      "Address: Marchioninistrasse 15, 81377 Munich, Germany\n",
      "\n",
      "5. University Hospital Frankfurt\n",
      "City: Frankfurt\n",
      "Contact Number: +49 69 6301-0\n",
      "Address: Theodor-Stern-Kai 7, 60590 Frankfurt am Main, Germany\n",
      "\n"
     ]
    }
   ],
   "source": [
    "# Melanoma & Germany\n",
    "if __name__ == \"__main__\":\n",
    "    disease = \"Melanoma\"\n",
    "    country = input(\"Enter your country to find hospitals: \")\n",
    "\n",
    "    print(\"\\nRunning Medical Assistant...\\n\")\n",
    "    result = medical_assistant(disease, country)\n",
    "    print(result)"
   ]
  },
  {
   "cell_type": "code",
   "execution_count": 78,
   "metadata": {
    "execution": {
     "iopub.execute_input": "2025-05-29T17:34:17.204140Z",
     "iopub.status.busy": "2025-05-29T17:34:17.203773Z",
     "iopub.status.idle": "2025-05-29T17:34:44.290120Z",
     "shell.execute_reply": "2025-05-29T17:34:44.289332Z",
     "shell.execute_reply.started": "2025-05-29T17:34:17.204117Z"
    },
    "trusted": true
   },
   "outputs": [
    {
     "name": "stdout",
     "output_type": "stream",
     "text": [
      "Enter your country to find hospitals:  Egypt\n"
     ]
    },
    {
     "name": "stdout",
     "output_type": "stream",
     "text": [
      "\n",
      "Running Medical Assistant...\n",
      "\n",
      "\n",
      "==============================\n",
      "Information About: Squamous_cell_carcinoma\n",
      "==============================\n",
      "Squamous cell carcinoma is a type of skin cancer that arises from the squamous cells in the outer layer of the skin. It is usually caused by prolonged exposure to ultraviolet (UV) radiation from the sun or tanning beds. This type of skin cancer can appear as a firm, red nodule, a flat sore with a scaly crust, or a new growth or sore that doesn't heal.\n",
      "\n",
      "1- Symptoms: Firm, red nodules, flat sores with scaly crust, non-healing sores.\n",
      "2- Causes: Prolonged exposure to UV radiation from the sun or tanning beds.\n",
      "3- Treatments: Surgical excision, Mohs surgery, radiation therapy, topical medications.\n",
      "\n",
      "==============================\n",
      "Hospitals in Egypt\n",
      "==============================\n",
      "1. Cairo University Hospitals - Kasr Al Ainy\n",
      "City: Cairo\n",
      "Contact Number: +20 2 23640451\n",
      "Address: Kasr Al Ainy St., El-Manial, Cairo, Egypt\n",
      "\n",
      "2. Dar Al Fouad Hospital\n",
      "City: Giza\n",
      "Contact Number: +20 2 37481000\n",
      "Address: 6th of October City, Giza, Egypt\n",
      "\n",
      "3. Ain Shams University Hospitals\n",
      "City: Cairo\n",
      "Contact Number: +20 2 26837000\n",
      "Address: Abbassia, Cairo, Egypt\n",
      "\n",
      "4. As-Salam International Hospital\n",
      "City: Cairo\n",
      "Contact Number: +20 2 24066000\n",
      "Address: Corniche El Nil, Maadi, Cairo, Egypt\n",
      "\n",
      "5. Alexandria University Hospitals\n",
      "City: Alexandria\n",
      "Contact Number: +20 3 4860000\n",
      "Address: Al Azarita, Alexandria, Egypt\n",
      "\n"
     ]
    }
   ],
   "source": [
    "# Squamous_cell_carcinoma & Egypt\n",
    "if __name__ == \"__main__\":\n",
    "    disease = \"Squamous_cell_carcinoma\"\n",
    "    country = input(\"Enter your country to find hospitals: \")\n",
    "\n",
    "    print(\"\\nRunning Medical Assistant...\\n\")\n",
    "    result = medical_assistant(disease, country)\n",
    "    print(result)"
   ]
  },
  {
   "cell_type": "code",
   "execution_count": 79,
   "metadata": {
    "execution": {
     "iopub.execute_input": "2025-05-29T17:35:14.178745Z",
     "iopub.status.busy": "2025-05-29T17:35:14.178229Z",
     "iopub.status.idle": "2025-05-29T17:35:45.450322Z",
     "shell.execute_reply": "2025-05-29T17:35:45.449524Z",
     "shell.execute_reply.started": "2025-05-29T17:35:14.178721Z"
    },
    "trusted": true
   },
   "outputs": [
    {
     "name": "stdout",
     "output_type": "stream",
     "text": [
      "Enter your country to find hospitals:  America\n"
     ]
    },
    {
     "name": "stdout",
     "output_type": "stream",
     "text": [
      "\n",
      "Running Medical Assistant...\n",
      "\n",
      "\n",
      "==============================\n",
      "Information About: Vascular_lesion\n",
      "==============================\n",
      "Vascular lesions are abnormalities in blood vessels that can appear on the skin. These lesions can manifest as red or purple discolorations, often in the form of birthmarks, hemangiomas, or port-wine stains. They are typically benign but can sometimes cause cosmetic concerns or, in rare cases, lead to complications. Vascular lesions are commonly seen in infants and young children but can also develop in adults.\n",
      "\n",
      "Symptoms:\n",
      "- Red or purple discolorations on the skin\n",
      "- Raised or flat marks on the skin\n",
      "- May be present at birth or develop later in life\n",
      "\n",
      "Causes:\n",
      "- Genetics\n",
      "- Hormonal changes\n",
      "- Trauma or injury to blood vessels\n",
      "- Unknown factors in some cases\n",
      "\n",
      "Possible treatments:\n",
      "- Laser therapy\n",
      "- Surgical removal\n",
      "- Medications to help reduce the appearance\n",
      "- Observation in cases where the lesion is not causing any issues\n",
      "\n",
      "==============================\n",
      "Hospitals in America\n",
      "==============================\n",
      "1. Mayo Clinic\n",
      "   - City: Rochester, Minnesota\n",
      "   - Contact Number: 507-284-2511\n",
      "   - Address: 200 1st St SW, Rochester, MN 55905\n",
      "\n",
      "2. Cleveland Clinic\n",
      "   - City: Cleveland, Ohio\n",
      "   - Contact Number: 800-223-2273\n",
      "   - Address: 9500 Euclid Ave, Cleveland, OH 44195\n",
      "\n",
      "3. Johns Hopkins Hospital\n",
      "   - City: Baltimore, Maryland\n",
      "   - Contact Number: 410-955-5000\n",
      "   - Address: 1800 Orleans St, Baltimore, MD 21287\n",
      "\n",
      "4. Massachusetts General Hospital\n",
      "   - City: Boston, Massachusetts\n",
      "   - Contact Number: 617-726-2000\n",
      "   - Address: 55 Fruit St, Boston, MA 02114\n",
      "\n",
      "5. Stanford Health Care\n",
      "   - City: Stanford, California\n",
      "   - Contact Number: 650-723-4000\n",
      "   - Address: 300 Pasteur Dr, Stanford, CA 94305\n",
      "\n",
      "These hospitals are renowned for their dermatology departments and are equipped to provide comprehensive care for various skin diseases.\n",
      "\n"
     ]
    }
   ],
   "source": [
    "# Vascular_lesion & America\n",
    "if __name__ == \"__main__\":\n",
    "    disease = \"Vascular_lesion\"\n",
    "    country = input(\"Enter your country to find hospitals: \")\n",
    "\n",
    "    print(\"\\nRunning Medical Assistant...\\n\")\n",
    "    result = medical_assistant(disease, country)\n",
    "    print(result)"
   ]
  },
  {
   "cell_type": "code",
   "execution_count": null,
   "metadata": {},
   "outputs": [],
   "source": []
  }
 ],
 "metadata": {
  "kaggle": {
   "accelerator": "gpu",
   "dataSources": [],
   "dockerImageVersionId": 31041,
   "isGpuEnabled": true,
   "isInternetEnabled": true,
   "language": "python",
   "sourceType": "notebook"
  },
  "kernelspec": {
   "display_name": "Python 3",
   "language": "python",
   "name": "python3"
  },
  "language_info": {
   "codemirror_mode": {
    "name": "ipython",
    "version": 3
   },
   "file_extension": ".py",
   "mimetype": "text/x-python",
   "name": "python",
   "nbconvert_exporter": "python",
   "pygments_lexer": "ipython3",
   "version": "3.11.11"
  }
 },
 "nbformat": 4,
 "nbformat_minor": 4
}
