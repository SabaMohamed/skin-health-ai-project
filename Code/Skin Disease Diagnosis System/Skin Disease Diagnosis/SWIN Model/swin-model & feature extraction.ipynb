{
 "cells": [
  {
   "cell_type": "code",
   "execution_count": 1,
   "metadata": {
    "_cell_guid": "b1076dfc-b9ad-4769-8c92-a6c4dae69d19",
    "_uuid": "8f2839f25d086af736a60e9eeb907d3b93b6e0e5",
    "execution": {
     "iopub.execute_input": "2025-06-05T01:34:09.713182Z",
     "iopub.status.busy": "2025-06-05T01:34:09.712238Z",
     "iopub.status.idle": "2025-06-05T01:34:09.720736Z",
     "shell.execute_reply": "2025-06-05T01:34:09.719474Z",
     "shell.execute_reply.started": "2025-06-05T01:34:09.713146Z"
    },
    "trusted": true
   },
   "outputs": [],
   "source": [
    "import os\n",
    "import numpy as np\n",
    "import pandas as pd\n",
    "import matplotlib.pyplot as plt\n",
    "import random\n",
    "import cv2\n",
    "import time\n",
    "import torch\n",
    "from torch import nn\n",
    "import torch.nn.functional as F\n",
    "from torch.utils.data import Dataset, DataLoader, WeightedRandomSampler\n",
    "from torch.optim import AdamW\n",
    "from torch.optim.lr_scheduler import OneCycleLR\n",
    "from torchvision import transforms\n",
    "from sklearn.model_selection import train_test_split\n",
    "from sklearn.metrics import classification_report, confusion_matrix, ConfusionMatrixDisplay, accuracy_score\n",
    "from sklearn.utils.class_weight import compute_class_weight\n",
    "from pathlib import Path\n",
    "from PIL import Image\n",
    "from tqdm import tqdm\n",
    "from datetime import datetime\n",
    "from transformers import SwinModel, AutoImageProcessor\n",
    "import warnings\n",
    "warnings.filterwarnings('ignore')"
   ]
  },
  {
   "cell_type": "code",
   "execution_count": 2,
   "metadata": {
    "execution": {
     "iopub.execute_input": "2025-06-05T01:34:11.237057Z",
     "iopub.status.busy": "2025-06-05T01:34:11.236141Z",
     "iopub.status.idle": "2025-06-05T01:34:11.672898Z",
     "shell.execute_reply": "2025-06-05T01:34:11.671890Z",
     "shell.execute_reply.started": "2025-06-05T01:34:11.237013Z"
    },
    "trusted": true
   },
   "outputs": [],
   "source": [
    "import gc\n",
    "import torch\n",
    "\n",
    "# Only delete if the variable exists\n",
    "if 'some_large_tensor' in locals():\n",
    "    del some_large_tensor\n",
    "\n",
    "gc.collect()\n",
    "torch.cuda.empty_cache()"
   ]
  },
  {
   "cell_type": "code",
   "execution_count": 3,
   "metadata": {
    "execution": {
     "iopub.execute_input": "2025-06-05T01:34:11.674852Z",
     "iopub.status.busy": "2025-06-05T01:34:11.674428Z",
     "iopub.status.idle": "2025-06-05T01:34:11.691385Z",
     "shell.execute_reply": "2025-06-05T01:34:11.690458Z",
     "shell.execute_reply.started": "2025-06-05T01:34:11.674823Z"
    },
    "trusted": true
   },
   "outputs": [],
   "source": [
    "# Seting the display options\n",
    "pd.set_option('display.max_colwidth', None)\n",
    "pd.set_option('display.width', None)\n",
    "pd.set_option('display.max_columns', None)"
   ]
  },
  {
   "cell_type": "code",
   "execution_count": 4,
   "metadata": {
    "execution": {
     "iopub.execute_input": "2025-06-05T01:34:13.139194Z",
     "iopub.status.busy": "2025-06-05T01:34:13.138764Z",
     "iopub.status.idle": "2025-06-05T01:34:13.147050Z",
     "shell.execute_reply": "2025-06-05T01:34:13.145910Z",
     "shell.execute_reply.started": "2025-06-05T01:34:13.139164Z"
    },
    "trusted": true
   },
   "outputs": [
    {
     "name": "stdout",
     "output_type": "stream",
     "text": [
      "Using device: cuda\n",
      "GPU: Tesla P100-PCIE-16GB\n"
     ]
    }
   ],
   "source": [
    "# Checking the GPU availability\n",
    "device = torch.device(\"cuda\" if torch.cuda.is_available() else \"cpu\")\n",
    "print(f\"Using device: {device}\")\n",
    "if torch.cuda.is_available():\n",
    "    print(f\"GPU: {torch.cuda.get_device_name(0)}\")"
   ]
  },
  {
   "cell_type": "code",
   "execution_count": 5,
   "metadata": {
    "execution": {
     "iopub.execute_input": "2025-06-05T01:34:13.700833Z",
     "iopub.status.busy": "2025-06-05T01:34:13.700127Z",
     "iopub.status.idle": "2025-06-05T01:34:13.711799Z",
     "shell.execute_reply": "2025-06-05T01:34:13.710759Z",
     "shell.execute_reply.started": "2025-06-05T01:34:13.700800Z"
    },
    "trusted": true
   },
   "outputs": [],
   "source": [
    "# Setting the random seed for reproducibility\n",
    "torch.manual_seed(42)\n",
    "torch.cuda.manual_seed(42)\n",
    "np.random.seed(42)\n",
    "random.seed(42)\n",
    "torch.backends.cudnn.deterministic = True\n",
    "torch.backends.cudnn.benchmark = False"
   ]
  },
  {
   "cell_type": "markdown",
   "metadata": {},
   "source": [
    "# **Loading the Data**"
   ]
  },
  {
   "cell_type": "code",
   "execution_count": 6,
   "metadata": {
    "execution": {
     "iopub.execute_input": "2025-06-05T01:34:15.116811Z",
     "iopub.status.busy": "2025-06-05T01:34:15.116035Z",
     "iopub.status.idle": "2025-06-05T01:34:15.540495Z",
     "shell.execute_reply": "2025-06-05T01:34:15.539583Z",
     "shell.execute_reply.started": "2025-06-05T01:34:15.116780Z"
    },
    "trusted": true
   },
   "outputs": [
    {
     "data": {
      "text/html": [
       "<div>\n",
       "<style scoped>\n",
       "    .dataframe tbody tr th:only-of-type {\n",
       "        vertical-align: middle;\n",
       "    }\n",
       "\n",
       "    .dataframe tbody tr th {\n",
       "        vertical-align: top;\n",
       "    }\n",
       "\n",
       "    .dataframe thead th {\n",
       "        text-align: right;\n",
       "    }\n",
       "</style>\n",
       "<table border=\"1\" class=\"dataframe\">\n",
       "  <thead>\n",
       "    <tr style=\"text-align: right;\">\n",
       "      <th></th>\n",
       "      <th>Unnamed: 0</th>\n",
       "      <th>image</th>\n",
       "      <th>Melanoma</th>\n",
       "      <th>Melanocytic_nevus</th>\n",
       "      <th>Basal_cell_carcinoma</th>\n",
       "      <th>Actinic_keratosis</th>\n",
       "      <th>Benign_keratosis</th>\n",
       "      <th>Dermatofibroma</th>\n",
       "      <th>Vascular_lesion</th>\n",
       "      <th>Squamous_cell_carcinoma</th>\n",
       "      <th>image_path</th>\n",
       "      <th>site_anterior torso</th>\n",
       "      <th>site_head/neck</th>\n",
       "      <th>site_lower extremity</th>\n",
       "      <th>site_oral/genital</th>\n",
       "      <th>site_palms/soles</th>\n",
       "      <th>site_posterior torso</th>\n",
       "      <th>site_upper extremity</th>\n",
       "      <th>sex_female</th>\n",
       "      <th>sex_male</th>\n",
       "      <th>age_1-10</th>\n",
       "      <th>age_11-20</th>\n",
       "      <th>age_21-30</th>\n",
       "      <th>age_31-40</th>\n",
       "      <th>age_41-50</th>\n",
       "      <th>age_51-60</th>\n",
       "      <th>age_61-70</th>\n",
       "      <th>age_71-90</th>\n",
       "      <th>disease_label</th>\n",
       "    </tr>\n",
       "  </thead>\n",
       "  <tbody>\n",
       "    <tr>\n",
       "      <th>0</th>\n",
       "      <td>0</td>\n",
       "      <td>ISIC_0033358</td>\n",
       "      <td>0.0</td>\n",
       "      <td>0.0</td>\n",
       "      <td>0.0</td>\n",
       "      <td>1.0</td>\n",
       "      <td>0.0</td>\n",
       "      <td>0.0</td>\n",
       "      <td>0.0</td>\n",
       "      <td>0.0</td>\n",
       "      <td>/kaggle/input/isic19/ISIC 2019/ISIC_2019_Training_Input/ISIC_2019_Training_Input/ISIC_0033358.jpg</td>\n",
       "      <td>0.0</td>\n",
       "      <td>1.0</td>\n",
       "      <td>0.0</td>\n",
       "      <td>0.0</td>\n",
       "      <td>0.0</td>\n",
       "      <td>0.0</td>\n",
       "      <td>0.0</td>\n",
       "      <td>1.0</td>\n",
       "      <td>0.0</td>\n",
       "      <td>0</td>\n",
       "      <td>0</td>\n",
       "      <td>0</td>\n",
       "      <td>0</td>\n",
       "      <td>0</td>\n",
       "      <td>0</td>\n",
       "      <td>1</td>\n",
       "      <td>0</td>\n",
       "      <td>Actinic_keratosis</td>\n",
       "    </tr>\n",
       "    <tr>\n",
       "      <th>1</th>\n",
       "      <td>1</td>\n",
       "      <td>ISIC_0064621</td>\n",
       "      <td>0.0</td>\n",
       "      <td>0.0</td>\n",
       "      <td>0.0</td>\n",
       "      <td>0.0</td>\n",
       "      <td>0.0</td>\n",
       "      <td>0.0</td>\n",
       "      <td>1.0</td>\n",
       "      <td>0.0</td>\n",
       "      <td>/kaggle/working/augmented_images_finall2/Vascular_lesion/Vascular_lesion_rotation_-30/Vascular_lesion_3410_rotation_-30.jpg</td>\n",
       "      <td>0.0</td>\n",
       "      <td>1.0</td>\n",
       "      <td>0.0</td>\n",
       "      <td>0.0</td>\n",
       "      <td>0.0</td>\n",
       "      <td>0.0</td>\n",
       "      <td>0.0</td>\n",
       "      <td>1.0</td>\n",
       "      <td>0.0</td>\n",
       "      <td>0</td>\n",
       "      <td>0</td>\n",
       "      <td>0</td>\n",
       "      <td>0</td>\n",
       "      <td>0</td>\n",
       "      <td>1</td>\n",
       "      <td>0</td>\n",
       "      <td>0</td>\n",
       "      <td>Vascular_lesion</td>\n",
       "    </tr>\n",
       "    <tr>\n",
       "      <th>2</th>\n",
       "      <td>2</td>\n",
       "      <td>ISIC_0070338</td>\n",
       "      <td>0.0</td>\n",
       "      <td>0.0</td>\n",
       "      <td>0.0</td>\n",
       "      <td>0.0</td>\n",
       "      <td>0.0</td>\n",
       "      <td>0.0</td>\n",
       "      <td>0.0</td>\n",
       "      <td>1.0</td>\n",
       "      <td>/kaggle/working/augmented_images_finall2/Squamous_cell_carcinoma/Squamous_cell_carcinoma_rotation_20rotation_-15/Squamous_cell_carcinoma_224_rotation_20rotation_-15.jpg</td>\n",
       "      <td>0.0</td>\n",
       "      <td>1.0</td>\n",
       "      <td>0.0</td>\n",
       "      <td>0.0</td>\n",
       "      <td>0.0</td>\n",
       "      <td>0.0</td>\n",
       "      <td>0.0</td>\n",
       "      <td>0.0</td>\n",
       "      <td>1.0</td>\n",
       "      <td>0</td>\n",
       "      <td>0</td>\n",
       "      <td>0</td>\n",
       "      <td>0</td>\n",
       "      <td>0</td>\n",
       "      <td>0</td>\n",
       "      <td>0</td>\n",
       "      <td>1</td>\n",
       "      <td>Squamous_cell_carcinoma</td>\n",
       "    </tr>\n",
       "    <tr>\n",
       "      <th>3</th>\n",
       "      <td>3</td>\n",
       "      <td>ISIC_0028864</td>\n",
       "      <td>0.0</td>\n",
       "      <td>1.0</td>\n",
       "      <td>0.0</td>\n",
       "      <td>0.0</td>\n",
       "      <td>0.0</td>\n",
       "      <td>0.0</td>\n",
       "      <td>0.0</td>\n",
       "      <td>0.0</td>\n",
       "      <td>/kaggle/input/isic19/ISIC 2019/ISIC_2019_Training_Input/ISIC_2019_Training_Input/ISIC_0028864.jpg</td>\n",
       "      <td>0.0</td>\n",
       "      <td>0.0</td>\n",
       "      <td>0.0</td>\n",
       "      <td>0.0</td>\n",
       "      <td>0.0</td>\n",
       "      <td>0.0</td>\n",
       "      <td>1.0</td>\n",
       "      <td>1.0</td>\n",
       "      <td>0.0</td>\n",
       "      <td>0</td>\n",
       "      <td>0</td>\n",
       "      <td>0</td>\n",
       "      <td>0</td>\n",
       "      <td>1</td>\n",
       "      <td>0</td>\n",
       "      <td>0</td>\n",
       "      <td>0</td>\n",
       "      <td>Melanocytic_nevus</td>\n",
       "    </tr>\n",
       "    <tr>\n",
       "      <th>4</th>\n",
       "      <td>4</td>\n",
       "      <td>ISIC_0066097</td>\n",
       "      <td>0.0</td>\n",
       "      <td>0.0</td>\n",
       "      <td>0.0</td>\n",
       "      <td>0.0</td>\n",
       "      <td>0.0</td>\n",
       "      <td>0.0</td>\n",
       "      <td>1.0</td>\n",
       "      <td>0.0</td>\n",
       "      <td>/kaggle/working/augmented_images_finall2/Vascular_lesion/Vascular_lesion_rotation_30/Vascular_lesion_3575_rotation_30.jpg</td>\n",
       "      <td>0.0</td>\n",
       "      <td>1.0</td>\n",
       "      <td>0.0</td>\n",
       "      <td>0.0</td>\n",
       "      <td>0.0</td>\n",
       "      <td>0.0</td>\n",
       "      <td>0.0</td>\n",
       "      <td>0.0</td>\n",
       "      <td>1.0</td>\n",
       "      <td>0</td>\n",
       "      <td>0</td>\n",
       "      <td>0</td>\n",
       "      <td>0</td>\n",
       "      <td>1</td>\n",
       "      <td>0</td>\n",
       "      <td>0</td>\n",
       "      <td>0</td>\n",
       "      <td>Vascular_lesion</td>\n",
       "    </tr>\n",
       "  </tbody>\n",
       "</table>\n",
       "</div>"
      ],
      "text/plain": [
       "   Unnamed: 0         image  Melanoma  Melanocytic_nevus  \\\n",
       "0           0  ISIC_0033358       0.0                0.0   \n",
       "1           1  ISIC_0064621       0.0                0.0   \n",
       "2           2  ISIC_0070338       0.0                0.0   \n",
       "3           3  ISIC_0028864       0.0                1.0   \n",
       "4           4  ISIC_0066097       0.0                0.0   \n",
       "\n",
       "   Basal_cell_carcinoma  Actinic_keratosis  Benign_keratosis  Dermatofibroma  \\\n",
       "0                   0.0                1.0               0.0             0.0   \n",
       "1                   0.0                0.0               0.0             0.0   \n",
       "2                   0.0                0.0               0.0             0.0   \n",
       "3                   0.0                0.0               0.0             0.0   \n",
       "4                   0.0                0.0               0.0             0.0   \n",
       "\n",
       "   Vascular_lesion  Squamous_cell_carcinoma  \\\n",
       "0              0.0                      0.0   \n",
       "1              1.0                      0.0   \n",
       "2              0.0                      1.0   \n",
       "3              0.0                      0.0   \n",
       "4              1.0                      0.0   \n",
       "\n",
       "                                                                                                                                                                 image_path  \\\n",
       "0                                                                         /kaggle/input/isic19/ISIC 2019/ISIC_2019_Training_Input/ISIC_2019_Training_Input/ISIC_0033358.jpg   \n",
       "1                                               /kaggle/working/augmented_images_finall2/Vascular_lesion/Vascular_lesion_rotation_-30/Vascular_lesion_3410_rotation_-30.jpg   \n",
       "2  /kaggle/working/augmented_images_finall2/Squamous_cell_carcinoma/Squamous_cell_carcinoma_rotation_20rotation_-15/Squamous_cell_carcinoma_224_rotation_20rotation_-15.jpg   \n",
       "3                                                                         /kaggle/input/isic19/ISIC 2019/ISIC_2019_Training_Input/ISIC_2019_Training_Input/ISIC_0028864.jpg   \n",
       "4                                                 /kaggle/working/augmented_images_finall2/Vascular_lesion/Vascular_lesion_rotation_30/Vascular_lesion_3575_rotation_30.jpg   \n",
       "\n",
       "   site_anterior torso  site_head/neck  site_lower extremity  \\\n",
       "0                  0.0             1.0                   0.0   \n",
       "1                  0.0             1.0                   0.0   \n",
       "2                  0.0             1.0                   0.0   \n",
       "3                  0.0             0.0                   0.0   \n",
       "4                  0.0             1.0                   0.0   \n",
       "\n",
       "   site_oral/genital  site_palms/soles  site_posterior torso  \\\n",
       "0                0.0               0.0                   0.0   \n",
       "1                0.0               0.0                   0.0   \n",
       "2                0.0               0.0                   0.0   \n",
       "3                0.0               0.0                   0.0   \n",
       "4                0.0               0.0                   0.0   \n",
       "\n",
       "   site_upper extremity  sex_female  sex_male  age_1-10  age_11-20  age_21-30  \\\n",
       "0                   0.0         1.0       0.0         0          0          0   \n",
       "1                   0.0         1.0       0.0         0          0          0   \n",
       "2                   0.0         0.0       1.0         0          0          0   \n",
       "3                   1.0         1.0       0.0         0          0          0   \n",
       "4                   0.0         0.0       1.0         0          0          0   \n",
       "\n",
       "   age_31-40  age_41-50  age_51-60  age_61-70  age_71-90  \\\n",
       "0          0          0          0          1          0   \n",
       "1          0          0          1          0          0   \n",
       "2          0          0          0          0          1   \n",
       "3          0          1          0          0          0   \n",
       "4          0          1          0          0          0   \n",
       "\n",
       "             disease_label  \n",
       "0        Actinic_keratosis  \n",
       "1          Vascular_lesion  \n",
       "2  Squamous_cell_carcinoma  \n",
       "3        Melanocytic_nevus  \n",
       "4          Vascular_lesion  "
      ]
     },
     "execution_count": 6,
     "metadata": {},
     "output_type": "execute_result"
    }
   ],
   "source": [
    "train = pd.read_csv(\"/kaggle/input/final-augment-train-df-2/final_augmented_balanced_df_finall2.csv\")\n",
    "train.head()"
   ]
  },
  {
   "cell_type": "code",
   "execution_count": 7,
   "metadata": {
    "execution": {
     "iopub.execute_input": "2025-06-05T01:34:15.542330Z",
     "iopub.status.busy": "2025-06-05T01:34:15.541970Z",
     "iopub.status.idle": "2025-06-05T01:34:15.580071Z",
     "shell.execute_reply": "2025-06-05T01:34:15.579015Z",
     "shell.execute_reply.started": "2025-06-05T01:34:15.542283Z"
    },
    "trusted": true
   },
   "outputs": [],
   "source": [
    "# Loading and preparing the data\n",
    "train['image_path'] = train['image_path'].str.replace(\n",
    "    '/kaggle/working/augmented_images_finall2/', '/kaggle/input/augmented-final-2/', regex=False\n",
    ")\n",
    "train = train.drop(columns=[\"Unnamed: 0\", \"image\"])"
   ]
  },
  {
   "cell_type": "code",
   "execution_count": 8,
   "metadata": {
    "execution": {
     "iopub.execute_input": "2025-06-05T01:34:15.976704Z",
     "iopub.status.busy": "2025-06-05T01:34:15.976029Z",
     "iopub.status.idle": "2025-06-05T01:34:16.011337Z",
     "shell.execute_reply": "2025-06-05T01:34:16.010316Z",
     "shell.execute_reply.started": "2025-06-05T01:34:15.976676Z"
    },
    "trusted": true
   },
   "outputs": [
    {
     "name": "stdout",
     "output_type": "stream",
     "text": [
      "Training data shape: (36860, 27)\n",
      "Testing data shape: (2293, 28)\n"
     ]
    }
   ],
   "source": [
    "test_df = pd.read_csv(\"/kaggle/input/test-df-final-2/test_df_finall.csv\")\n",
    "test_df = test_df.drop(columns=[\"image\"])\n",
    "\n",
    "print(f\"Training data shape: {train.shape}\")\n",
    "print(f\"Testing data shape: {test_df.shape}\")"
   ]
  },
  {
   "cell_type": "code",
   "execution_count": 9,
   "metadata": {
    "execution": {
     "iopub.execute_input": "2025-06-05T01:34:17.343078Z",
     "iopub.status.busy": "2025-06-05T01:34:17.342112Z",
     "iopub.status.idle": "2025-06-05T01:34:17.370819Z",
     "shell.execute_reply": "2025-06-05T01:34:17.369867Z",
     "shell.execute_reply.started": "2025-06-05T01:34:17.343046Z"
    },
    "trusted": true
   },
   "outputs": [
    {
     "data": {
      "text/html": [
       "<div>\n",
       "<style scoped>\n",
       "    .dataframe tbody tr th:only-of-type {\n",
       "        vertical-align: middle;\n",
       "    }\n",
       "\n",
       "    .dataframe tbody tr th {\n",
       "        vertical-align: top;\n",
       "    }\n",
       "\n",
       "    .dataframe thead th {\n",
       "        text-align: right;\n",
       "    }\n",
       "</style>\n",
       "<table border=\"1\" class=\"dataframe\">\n",
       "  <thead>\n",
       "    <tr style=\"text-align: right;\">\n",
       "      <th></th>\n",
       "      <th>Melanoma</th>\n",
       "      <th>Melanocytic_nevus</th>\n",
       "      <th>Basal_cell_carcinoma</th>\n",
       "      <th>Actinic_keratosis</th>\n",
       "      <th>Benign_keratosis</th>\n",
       "      <th>Dermatofibroma</th>\n",
       "      <th>Vascular_lesion</th>\n",
       "      <th>Squamous_cell_carcinoma</th>\n",
       "      <th>image_path</th>\n",
       "      <th>site_anterior torso</th>\n",
       "      <th>site_head/neck</th>\n",
       "      <th>site_lower extremity</th>\n",
       "      <th>site_oral/genital</th>\n",
       "      <th>site_palms/soles</th>\n",
       "      <th>site_posterior torso</th>\n",
       "      <th>site_upper extremity</th>\n",
       "      <th>sex_female</th>\n",
       "      <th>sex_male</th>\n",
       "      <th>age_1-10</th>\n",
       "      <th>age_11-20</th>\n",
       "      <th>age_21-30</th>\n",
       "      <th>age_31-40</th>\n",
       "      <th>age_41-50</th>\n",
       "      <th>age_51-60</th>\n",
       "      <th>age_61-70</th>\n",
       "      <th>age_71-90</th>\n",
       "      <th>disease_label</th>\n",
       "    </tr>\n",
       "  </thead>\n",
       "  <tbody>\n",
       "    <tr>\n",
       "      <th>0</th>\n",
       "      <td>0.0</td>\n",
       "      <td>0.0</td>\n",
       "      <td>0.0</td>\n",
       "      <td>1.0</td>\n",
       "      <td>0.0</td>\n",
       "      <td>0.0</td>\n",
       "      <td>0.0</td>\n",
       "      <td>0.0</td>\n",
       "      <td>/kaggle/input/isic19/ISIC 2019/ISIC_2019_Training_Input/ISIC_2019_Training_Input/ISIC_0033358.jpg</td>\n",
       "      <td>0.0</td>\n",
       "      <td>1.0</td>\n",
       "      <td>0.0</td>\n",
       "      <td>0.0</td>\n",
       "      <td>0.0</td>\n",
       "      <td>0.0</td>\n",
       "      <td>0.0</td>\n",
       "      <td>1.0</td>\n",
       "      <td>0.0</td>\n",
       "      <td>0</td>\n",
       "      <td>0</td>\n",
       "      <td>0</td>\n",
       "      <td>0</td>\n",
       "      <td>0</td>\n",
       "      <td>0</td>\n",
       "      <td>1</td>\n",
       "      <td>0</td>\n",
       "      <td>Actinic_keratosis</td>\n",
       "    </tr>\n",
       "    <tr>\n",
       "      <th>1</th>\n",
       "      <td>0.0</td>\n",
       "      <td>0.0</td>\n",
       "      <td>0.0</td>\n",
       "      <td>0.0</td>\n",
       "      <td>0.0</td>\n",
       "      <td>0.0</td>\n",
       "      <td>1.0</td>\n",
       "      <td>0.0</td>\n",
       "      <td>/kaggle/input/augmented-final-2/Vascular_lesion/Vascular_lesion_rotation_-30/Vascular_lesion_3410_rotation_-30.jpg</td>\n",
       "      <td>0.0</td>\n",
       "      <td>1.0</td>\n",
       "      <td>0.0</td>\n",
       "      <td>0.0</td>\n",
       "      <td>0.0</td>\n",
       "      <td>0.0</td>\n",
       "      <td>0.0</td>\n",
       "      <td>1.0</td>\n",
       "      <td>0.0</td>\n",
       "      <td>0</td>\n",
       "      <td>0</td>\n",
       "      <td>0</td>\n",
       "      <td>0</td>\n",
       "      <td>0</td>\n",
       "      <td>1</td>\n",
       "      <td>0</td>\n",
       "      <td>0</td>\n",
       "      <td>Vascular_lesion</td>\n",
       "    </tr>\n",
       "    <tr>\n",
       "      <th>2</th>\n",
       "      <td>0.0</td>\n",
       "      <td>0.0</td>\n",
       "      <td>0.0</td>\n",
       "      <td>0.0</td>\n",
       "      <td>0.0</td>\n",
       "      <td>0.0</td>\n",
       "      <td>0.0</td>\n",
       "      <td>1.0</td>\n",
       "      <td>/kaggle/input/augmented-final-2/Squamous_cell_carcinoma/Squamous_cell_carcinoma_rotation_20rotation_-15/Squamous_cell_carcinoma_224_rotation_20rotation_-15.jpg</td>\n",
       "      <td>0.0</td>\n",
       "      <td>1.0</td>\n",
       "      <td>0.0</td>\n",
       "      <td>0.0</td>\n",
       "      <td>0.0</td>\n",
       "      <td>0.0</td>\n",
       "      <td>0.0</td>\n",
       "      <td>0.0</td>\n",
       "      <td>1.0</td>\n",
       "      <td>0</td>\n",
       "      <td>0</td>\n",
       "      <td>0</td>\n",
       "      <td>0</td>\n",
       "      <td>0</td>\n",
       "      <td>0</td>\n",
       "      <td>0</td>\n",
       "      <td>1</td>\n",
       "      <td>Squamous_cell_carcinoma</td>\n",
       "    </tr>\n",
       "    <tr>\n",
       "      <th>3</th>\n",
       "      <td>0.0</td>\n",
       "      <td>1.0</td>\n",
       "      <td>0.0</td>\n",
       "      <td>0.0</td>\n",
       "      <td>0.0</td>\n",
       "      <td>0.0</td>\n",
       "      <td>0.0</td>\n",
       "      <td>0.0</td>\n",
       "      <td>/kaggle/input/isic19/ISIC 2019/ISIC_2019_Training_Input/ISIC_2019_Training_Input/ISIC_0028864.jpg</td>\n",
       "      <td>0.0</td>\n",
       "      <td>0.0</td>\n",
       "      <td>0.0</td>\n",
       "      <td>0.0</td>\n",
       "      <td>0.0</td>\n",
       "      <td>0.0</td>\n",
       "      <td>1.0</td>\n",
       "      <td>1.0</td>\n",
       "      <td>0.0</td>\n",
       "      <td>0</td>\n",
       "      <td>0</td>\n",
       "      <td>0</td>\n",
       "      <td>0</td>\n",
       "      <td>1</td>\n",
       "      <td>0</td>\n",
       "      <td>0</td>\n",
       "      <td>0</td>\n",
       "      <td>Melanocytic_nevus</td>\n",
       "    </tr>\n",
       "    <tr>\n",
       "      <th>4</th>\n",
       "      <td>0.0</td>\n",
       "      <td>0.0</td>\n",
       "      <td>0.0</td>\n",
       "      <td>0.0</td>\n",
       "      <td>0.0</td>\n",
       "      <td>0.0</td>\n",
       "      <td>1.0</td>\n",
       "      <td>0.0</td>\n",
       "      <td>/kaggle/input/augmented-final-2/Vascular_lesion/Vascular_lesion_rotation_30/Vascular_lesion_3575_rotation_30.jpg</td>\n",
       "      <td>0.0</td>\n",
       "      <td>1.0</td>\n",
       "      <td>0.0</td>\n",
       "      <td>0.0</td>\n",
       "      <td>0.0</td>\n",
       "      <td>0.0</td>\n",
       "      <td>0.0</td>\n",
       "      <td>0.0</td>\n",
       "      <td>1.0</td>\n",
       "      <td>0</td>\n",
       "      <td>0</td>\n",
       "      <td>0</td>\n",
       "      <td>0</td>\n",
       "      <td>1</td>\n",
       "      <td>0</td>\n",
       "      <td>0</td>\n",
       "      <td>0</td>\n",
       "      <td>Vascular_lesion</td>\n",
       "    </tr>\n",
       "  </tbody>\n",
       "</table>\n",
       "</div>"
      ],
      "text/plain": [
       "   Melanoma  Melanocytic_nevus  Basal_cell_carcinoma  Actinic_keratosis  \\\n",
       "0       0.0                0.0                   0.0                1.0   \n",
       "1       0.0                0.0                   0.0                0.0   \n",
       "2       0.0                0.0                   0.0                0.0   \n",
       "3       0.0                1.0                   0.0                0.0   \n",
       "4       0.0                0.0                   0.0                0.0   \n",
       "\n",
       "   Benign_keratosis  Dermatofibroma  Vascular_lesion  Squamous_cell_carcinoma  \\\n",
       "0               0.0             0.0              0.0                      0.0   \n",
       "1               0.0             0.0              1.0                      0.0   \n",
       "2               0.0             0.0              0.0                      1.0   \n",
       "3               0.0             0.0              0.0                      0.0   \n",
       "4               0.0             0.0              1.0                      0.0   \n",
       "\n",
       "                                                                                                                                                        image_path  \\\n",
       "0                                                                /kaggle/input/isic19/ISIC 2019/ISIC_2019_Training_Input/ISIC_2019_Training_Input/ISIC_0033358.jpg   \n",
       "1                                               /kaggle/input/augmented-final-2/Vascular_lesion/Vascular_lesion_rotation_-30/Vascular_lesion_3410_rotation_-30.jpg   \n",
       "2  /kaggle/input/augmented-final-2/Squamous_cell_carcinoma/Squamous_cell_carcinoma_rotation_20rotation_-15/Squamous_cell_carcinoma_224_rotation_20rotation_-15.jpg   \n",
       "3                                                                /kaggle/input/isic19/ISIC 2019/ISIC_2019_Training_Input/ISIC_2019_Training_Input/ISIC_0028864.jpg   \n",
       "4                                                 /kaggle/input/augmented-final-2/Vascular_lesion/Vascular_lesion_rotation_30/Vascular_lesion_3575_rotation_30.jpg   \n",
       "\n",
       "   site_anterior torso  site_head/neck  site_lower extremity  \\\n",
       "0                  0.0             1.0                   0.0   \n",
       "1                  0.0             1.0                   0.0   \n",
       "2                  0.0             1.0                   0.0   \n",
       "3                  0.0             0.0                   0.0   \n",
       "4                  0.0             1.0                   0.0   \n",
       "\n",
       "   site_oral/genital  site_palms/soles  site_posterior torso  \\\n",
       "0                0.0               0.0                   0.0   \n",
       "1                0.0               0.0                   0.0   \n",
       "2                0.0               0.0                   0.0   \n",
       "3                0.0               0.0                   0.0   \n",
       "4                0.0               0.0                   0.0   \n",
       "\n",
       "   site_upper extremity  sex_female  sex_male  age_1-10  age_11-20  age_21-30  \\\n",
       "0                   0.0         1.0       0.0         0          0          0   \n",
       "1                   0.0         1.0       0.0         0          0          0   \n",
       "2                   0.0         0.0       1.0         0          0          0   \n",
       "3                   1.0         1.0       0.0         0          0          0   \n",
       "4                   0.0         0.0       1.0         0          0          0   \n",
       "\n",
       "   age_31-40  age_41-50  age_51-60  age_61-70  age_71-90  \\\n",
       "0          0          0          0          1          0   \n",
       "1          0          0          1          0          0   \n",
       "2          0          0          0          0          1   \n",
       "3          0          1          0          0          0   \n",
       "4          0          1          0          0          0   \n",
       "\n",
       "             disease_label  \n",
       "0        Actinic_keratosis  \n",
       "1          Vascular_lesion  \n",
       "2  Squamous_cell_carcinoma  \n",
       "3        Melanocytic_nevus  \n",
       "4          Vascular_lesion  "
      ]
     },
     "execution_count": 9,
     "metadata": {},
     "output_type": "execute_result"
    }
   ],
   "source": [
    "train.head()"
   ]
  },
  {
   "cell_type": "code",
   "execution_count": 10,
   "metadata": {
    "execution": {
     "iopub.execute_input": "2025-06-05T01:34:17.716281Z",
     "iopub.status.busy": "2025-06-05T01:34:17.715922Z",
     "iopub.status.idle": "2025-06-05T01:34:17.742946Z",
     "shell.execute_reply": "2025-06-05T01:34:17.741928Z",
     "shell.execute_reply.started": "2025-06-05T01:34:17.716255Z"
    },
    "trusted": true
   },
   "outputs": [
    {
     "data": {
      "text/html": [
       "<div>\n",
       "<style scoped>\n",
       "    .dataframe tbody tr th:only-of-type {\n",
       "        vertical-align: middle;\n",
       "    }\n",
       "\n",
       "    .dataframe tbody tr th {\n",
       "        vertical-align: top;\n",
       "    }\n",
       "\n",
       "    .dataframe thead th {\n",
       "        text-align: right;\n",
       "    }\n",
       "</style>\n",
       "<table border=\"1\" class=\"dataframe\">\n",
       "  <thead>\n",
       "    <tr style=\"text-align: right;\">\n",
       "      <th></th>\n",
       "      <th>Unnamed: 0</th>\n",
       "      <th>Melanoma</th>\n",
       "      <th>Melanocytic_nevus</th>\n",
       "      <th>Basal_cell_carcinoma</th>\n",
       "      <th>Actinic_keratosis</th>\n",
       "      <th>Benign_keratosis</th>\n",
       "      <th>Dermatofibroma</th>\n",
       "      <th>Vascular_lesion</th>\n",
       "      <th>Squamous_cell_carcinoma</th>\n",
       "      <th>image_path</th>\n",
       "      <th>site_anterior torso</th>\n",
       "      <th>site_head/neck</th>\n",
       "      <th>site_lower extremity</th>\n",
       "      <th>site_oral/genital</th>\n",
       "      <th>site_palms/soles</th>\n",
       "      <th>site_posterior torso</th>\n",
       "      <th>site_upper extremity</th>\n",
       "      <th>sex_female</th>\n",
       "      <th>sex_male</th>\n",
       "      <th>age_1-10</th>\n",
       "      <th>age_11-20</th>\n",
       "      <th>age_21-30</th>\n",
       "      <th>age_31-40</th>\n",
       "      <th>age_41-50</th>\n",
       "      <th>age_51-60</th>\n",
       "      <th>age_61-70</th>\n",
       "      <th>age_71-90</th>\n",
       "      <th>disease_label</th>\n",
       "    </tr>\n",
       "  </thead>\n",
       "  <tbody>\n",
       "    <tr>\n",
       "      <th>0</th>\n",
       "      <td>20321</td>\n",
       "      <td>0.0</td>\n",
       "      <td>1.0</td>\n",
       "      <td>0.0</td>\n",
       "      <td>0.0</td>\n",
       "      <td>0.0</td>\n",
       "      <td>0.0</td>\n",
       "      <td>0.0</td>\n",
       "      <td>0.0</td>\n",
       "      <td>/kaggle/input/isic19/ISIC 2019/ISIC_2019_Training_Input/ISIC_2019_Training_Input/ISIC_0069911.jpg</td>\n",
       "      <td>1.0</td>\n",
       "      <td>0.0</td>\n",
       "      <td>0.0</td>\n",
       "      <td>0.0</td>\n",
       "      <td>0.0</td>\n",
       "      <td>0.0</td>\n",
       "      <td>0.0</td>\n",
       "      <td>1.0</td>\n",
       "      <td>0.0</td>\n",
       "      <td>0</td>\n",
       "      <td>0</td>\n",
       "      <td>0</td>\n",
       "      <td>0</td>\n",
       "      <td>0</td>\n",
       "      <td>1</td>\n",
       "      <td>0</td>\n",
       "      <td>0</td>\n",
       "      <td>Melanocytic_nevus</td>\n",
       "    </tr>\n",
       "    <tr>\n",
       "      <th>1</th>\n",
       "      <td>14612</td>\n",
       "      <td>0.0</td>\n",
       "      <td>0.0</td>\n",
       "      <td>0.0</td>\n",
       "      <td>0.0</td>\n",
       "      <td>1.0</td>\n",
       "      <td>0.0</td>\n",
       "      <td>0.0</td>\n",
       "      <td>0.0</td>\n",
       "      <td>/kaggle/input/isic19/ISIC 2019/ISIC_2019_Training_Input/ISIC_2019_Training_Input/ISIC_0060639.jpg</td>\n",
       "      <td>0.0</td>\n",
       "      <td>1.0</td>\n",
       "      <td>0.0</td>\n",
       "      <td>0.0</td>\n",
       "      <td>0.0</td>\n",
       "      <td>0.0</td>\n",
       "      <td>0.0</td>\n",
       "      <td>0.0</td>\n",
       "      <td>1.0</td>\n",
       "      <td>0</td>\n",
       "      <td>0</td>\n",
       "      <td>0</td>\n",
       "      <td>0</td>\n",
       "      <td>1</td>\n",
       "      <td>0</td>\n",
       "      <td>0</td>\n",
       "      <td>0</td>\n",
       "      <td>Benign_keratosis</td>\n",
       "    </tr>\n",
       "    <tr>\n",
       "      <th>2</th>\n",
       "      <td>17067</td>\n",
       "      <td>0.0</td>\n",
       "      <td>0.0</td>\n",
       "      <td>1.0</td>\n",
       "      <td>0.0</td>\n",
       "      <td>0.0</td>\n",
       "      <td>0.0</td>\n",
       "      <td>0.0</td>\n",
       "      <td>0.0</td>\n",
       "      <td>/kaggle/input/isic19/ISIC 2019/ISIC_2019_Training_Input/ISIC_2019_Training_Input/ISIC_0064685.jpg</td>\n",
       "      <td>1.0</td>\n",
       "      <td>0.0</td>\n",
       "      <td>0.0</td>\n",
       "      <td>0.0</td>\n",
       "      <td>0.0</td>\n",
       "      <td>0.0</td>\n",
       "      <td>0.0</td>\n",
       "      <td>1.0</td>\n",
       "      <td>0.0</td>\n",
       "      <td>0</td>\n",
       "      <td>0</td>\n",
       "      <td>0</td>\n",
       "      <td>0</td>\n",
       "      <td>0</td>\n",
       "      <td>0</td>\n",
       "      <td>1</td>\n",
       "      <td>0</td>\n",
       "      <td>Basal_cell_carcinoma</td>\n",
       "    </tr>\n",
       "    <tr>\n",
       "      <th>3</th>\n",
       "      <td>12065</td>\n",
       "      <td>0.0</td>\n",
       "      <td>1.0</td>\n",
       "      <td>0.0</td>\n",
       "      <td>0.0</td>\n",
       "      <td>0.0</td>\n",
       "      <td>0.0</td>\n",
       "      <td>0.0</td>\n",
       "      <td>0.0</td>\n",
       "      <td>/kaggle/input/isic19/ISIC 2019/ISIC_2019_Training_Input/ISIC_2019_Training_Input/ISIC_0056533.jpg</td>\n",
       "      <td>1.0</td>\n",
       "      <td>0.0</td>\n",
       "      <td>0.0</td>\n",
       "      <td>0.0</td>\n",
       "      <td>0.0</td>\n",
       "      <td>0.0</td>\n",
       "      <td>0.0</td>\n",
       "      <td>0.0</td>\n",
       "      <td>1.0</td>\n",
       "      <td>0</td>\n",
       "      <td>0</td>\n",
       "      <td>0</td>\n",
       "      <td>0</td>\n",
       "      <td>0</td>\n",
       "      <td>0</td>\n",
       "      <td>1</td>\n",
       "      <td>0</td>\n",
       "      <td>Melanocytic_nevus</td>\n",
       "    </tr>\n",
       "    <tr>\n",
       "      <th>4</th>\n",
       "      <td>14656</td>\n",
       "      <td>0.0</td>\n",
       "      <td>0.0</td>\n",
       "      <td>1.0</td>\n",
       "      <td>0.0</td>\n",
       "      <td>0.0</td>\n",
       "      <td>0.0</td>\n",
       "      <td>0.0</td>\n",
       "      <td>0.0</td>\n",
       "      <td>/kaggle/input/isic19/ISIC 2019/ISIC_2019_Training_Input/ISIC_2019_Training_Input/ISIC_0060702.jpg</td>\n",
       "      <td>0.0</td>\n",
       "      <td>1.0</td>\n",
       "      <td>0.0</td>\n",
       "      <td>0.0</td>\n",
       "      <td>0.0</td>\n",
       "      <td>0.0</td>\n",
       "      <td>0.0</td>\n",
       "      <td>0.0</td>\n",
       "      <td>1.0</td>\n",
       "      <td>0</td>\n",
       "      <td>0</td>\n",
       "      <td>0</td>\n",
       "      <td>0</td>\n",
       "      <td>0</td>\n",
       "      <td>0</td>\n",
       "      <td>0</td>\n",
       "      <td>1</td>\n",
       "      <td>Basal_cell_carcinoma</td>\n",
       "    </tr>\n",
       "  </tbody>\n",
       "</table>\n",
       "</div>"
      ],
      "text/plain": [
       "   Unnamed: 0  Melanoma  Melanocytic_nevus  Basal_cell_carcinoma  \\\n",
       "0       20321       0.0                1.0                   0.0   \n",
       "1       14612       0.0                0.0                   0.0   \n",
       "2       17067       0.0                0.0                   1.0   \n",
       "3       12065       0.0                1.0                   0.0   \n",
       "4       14656       0.0                0.0                   1.0   \n",
       "\n",
       "   Actinic_keratosis  Benign_keratosis  Dermatofibroma  Vascular_lesion  \\\n",
       "0                0.0               0.0             0.0              0.0   \n",
       "1                0.0               1.0             0.0              0.0   \n",
       "2                0.0               0.0             0.0              0.0   \n",
       "3                0.0               0.0             0.0              0.0   \n",
       "4                0.0               0.0             0.0              0.0   \n",
       "\n",
       "   Squamous_cell_carcinoma  \\\n",
       "0                      0.0   \n",
       "1                      0.0   \n",
       "2                      0.0   \n",
       "3                      0.0   \n",
       "4                      0.0   \n",
       "\n",
       "                                                                                          image_path  \\\n",
       "0  /kaggle/input/isic19/ISIC 2019/ISIC_2019_Training_Input/ISIC_2019_Training_Input/ISIC_0069911.jpg   \n",
       "1  /kaggle/input/isic19/ISIC 2019/ISIC_2019_Training_Input/ISIC_2019_Training_Input/ISIC_0060639.jpg   \n",
       "2  /kaggle/input/isic19/ISIC 2019/ISIC_2019_Training_Input/ISIC_2019_Training_Input/ISIC_0064685.jpg   \n",
       "3  /kaggle/input/isic19/ISIC 2019/ISIC_2019_Training_Input/ISIC_2019_Training_Input/ISIC_0056533.jpg   \n",
       "4  /kaggle/input/isic19/ISIC 2019/ISIC_2019_Training_Input/ISIC_2019_Training_Input/ISIC_0060702.jpg   \n",
       "\n",
       "   site_anterior torso  site_head/neck  site_lower extremity  \\\n",
       "0                  1.0             0.0                   0.0   \n",
       "1                  0.0             1.0                   0.0   \n",
       "2                  1.0             0.0                   0.0   \n",
       "3                  1.0             0.0                   0.0   \n",
       "4                  0.0             1.0                   0.0   \n",
       "\n",
       "   site_oral/genital  site_palms/soles  site_posterior torso  \\\n",
       "0                0.0               0.0                   0.0   \n",
       "1                0.0               0.0                   0.0   \n",
       "2                0.0               0.0                   0.0   \n",
       "3                0.0               0.0                   0.0   \n",
       "4                0.0               0.0                   0.0   \n",
       "\n",
       "   site_upper extremity  sex_female  sex_male  age_1-10  age_11-20  age_21-30  \\\n",
       "0                   0.0         1.0       0.0         0          0          0   \n",
       "1                   0.0         0.0       1.0         0          0          0   \n",
       "2                   0.0         1.0       0.0         0          0          0   \n",
       "3                   0.0         0.0       1.0         0          0          0   \n",
       "4                   0.0         0.0       1.0         0          0          0   \n",
       "\n",
       "   age_31-40  age_41-50  age_51-60  age_61-70  age_71-90         disease_label  \n",
       "0          0          0          1          0          0     Melanocytic_nevus  \n",
       "1          0          1          0          0          0      Benign_keratosis  \n",
       "2          0          0          0          1          0  Basal_cell_carcinoma  \n",
       "3          0          0          0          1          0     Melanocytic_nevus  \n",
       "4          0          0          0          0          1  Basal_cell_carcinoma  "
      ]
     },
     "execution_count": 10,
     "metadata": {},
     "output_type": "execute_result"
    }
   ],
   "source": [
    "test_df.head()"
   ]
  },
  {
   "cell_type": "code",
   "execution_count": 11,
   "metadata": {
    "execution": {
     "iopub.execute_input": "2025-06-05T01:34:19.008253Z",
     "iopub.status.busy": "2025-06-05T01:34:19.007922Z",
     "iopub.status.idle": "2025-06-05T01:34:19.048830Z",
     "shell.execute_reply": "2025-06-05T01:34:19.047877Z",
     "shell.execute_reply.started": "2025-06-05T01:34:19.008226Z"
    },
    "trusted": true
   },
   "outputs": [
    {
     "data": {
      "text/html": [
       "<div>\n",
       "<style scoped>\n",
       "    .dataframe tbody tr th:only-of-type {\n",
       "        vertical-align: middle;\n",
       "    }\n",
       "\n",
       "    .dataframe tbody tr th {\n",
       "        vertical-align: top;\n",
       "    }\n",
       "\n",
       "    .dataframe thead th {\n",
       "        text-align: right;\n",
       "    }\n",
       "</style>\n",
       "<table border=\"1\" class=\"dataframe\">\n",
       "  <thead>\n",
       "    <tr style=\"text-align: right;\">\n",
       "      <th></th>\n",
       "      <th>Melanoma</th>\n",
       "      <th>Melanocytic_nevus</th>\n",
       "      <th>Basal_cell_carcinoma</th>\n",
       "      <th>Actinic_keratosis</th>\n",
       "      <th>Benign_keratosis</th>\n",
       "      <th>Dermatofibroma</th>\n",
       "      <th>Vascular_lesion</th>\n",
       "      <th>Squamous_cell_carcinoma</th>\n",
       "      <th>image_path</th>\n",
       "      <th>site_anterior torso</th>\n",
       "      <th>site_head/neck</th>\n",
       "      <th>site_lower extremity</th>\n",
       "      <th>site_oral/genital</th>\n",
       "      <th>site_palms/soles</th>\n",
       "      <th>site_posterior torso</th>\n",
       "      <th>site_upper extremity</th>\n",
       "      <th>sex_female</th>\n",
       "      <th>sex_male</th>\n",
       "      <th>age_1-10</th>\n",
       "      <th>age_11-20</th>\n",
       "      <th>age_21-30</th>\n",
       "      <th>age_31-40</th>\n",
       "      <th>age_41-50</th>\n",
       "      <th>age_51-60</th>\n",
       "      <th>age_61-70</th>\n",
       "      <th>age_71-90</th>\n",
       "      <th>disease_label</th>\n",
       "    </tr>\n",
       "  </thead>\n",
       "  <tbody>\n",
       "    <tr>\n",
       "      <th>0</th>\n",
       "      <td>0.0</td>\n",
       "      <td>1.0</td>\n",
       "      <td>0.0</td>\n",
       "      <td>0.0</td>\n",
       "      <td>0.0</td>\n",
       "      <td>0.0</td>\n",
       "      <td>0.0</td>\n",
       "      <td>0.0</td>\n",
       "      <td>/kaggle/input/isic19/ISIC 2019/ISIC_2019_Training_Input/ISIC_2019_Training_Input/ISIC_0069911.jpg</td>\n",
       "      <td>1.0</td>\n",
       "      <td>0.0</td>\n",
       "      <td>0.0</td>\n",
       "      <td>0.0</td>\n",
       "      <td>0.0</td>\n",
       "      <td>0.0</td>\n",
       "      <td>0.0</td>\n",
       "      <td>1.0</td>\n",
       "      <td>0.0</td>\n",
       "      <td>0</td>\n",
       "      <td>0</td>\n",
       "      <td>0</td>\n",
       "      <td>0</td>\n",
       "      <td>0</td>\n",
       "      <td>1</td>\n",
       "      <td>0</td>\n",
       "      <td>0</td>\n",
       "      <td>Melanocytic_nevus</td>\n",
       "    </tr>\n",
       "    <tr>\n",
       "      <th>1</th>\n",
       "      <td>0.0</td>\n",
       "      <td>0.0</td>\n",
       "      <td>0.0</td>\n",
       "      <td>0.0</td>\n",
       "      <td>1.0</td>\n",
       "      <td>0.0</td>\n",
       "      <td>0.0</td>\n",
       "      <td>0.0</td>\n",
       "      <td>/kaggle/input/isic19/ISIC 2019/ISIC_2019_Training_Input/ISIC_2019_Training_Input/ISIC_0060639.jpg</td>\n",
       "      <td>0.0</td>\n",
       "      <td>1.0</td>\n",
       "      <td>0.0</td>\n",
       "      <td>0.0</td>\n",
       "      <td>0.0</td>\n",
       "      <td>0.0</td>\n",
       "      <td>0.0</td>\n",
       "      <td>0.0</td>\n",
       "      <td>1.0</td>\n",
       "      <td>0</td>\n",
       "      <td>0</td>\n",
       "      <td>0</td>\n",
       "      <td>0</td>\n",
       "      <td>1</td>\n",
       "      <td>0</td>\n",
       "      <td>0</td>\n",
       "      <td>0</td>\n",
       "      <td>Benign_keratosis</td>\n",
       "    </tr>\n",
       "    <tr>\n",
       "      <th>2</th>\n",
       "      <td>0.0</td>\n",
       "      <td>0.0</td>\n",
       "      <td>1.0</td>\n",
       "      <td>0.0</td>\n",
       "      <td>0.0</td>\n",
       "      <td>0.0</td>\n",
       "      <td>0.0</td>\n",
       "      <td>0.0</td>\n",
       "      <td>/kaggle/input/isic19/ISIC 2019/ISIC_2019_Training_Input/ISIC_2019_Training_Input/ISIC_0064685.jpg</td>\n",
       "      <td>1.0</td>\n",
       "      <td>0.0</td>\n",
       "      <td>0.0</td>\n",
       "      <td>0.0</td>\n",
       "      <td>0.0</td>\n",
       "      <td>0.0</td>\n",
       "      <td>0.0</td>\n",
       "      <td>1.0</td>\n",
       "      <td>0.0</td>\n",
       "      <td>0</td>\n",
       "      <td>0</td>\n",
       "      <td>0</td>\n",
       "      <td>0</td>\n",
       "      <td>0</td>\n",
       "      <td>0</td>\n",
       "      <td>1</td>\n",
       "      <td>0</td>\n",
       "      <td>Basal_cell_carcinoma</td>\n",
       "    </tr>\n",
       "    <tr>\n",
       "      <th>3</th>\n",
       "      <td>0.0</td>\n",
       "      <td>1.0</td>\n",
       "      <td>0.0</td>\n",
       "      <td>0.0</td>\n",
       "      <td>0.0</td>\n",
       "      <td>0.0</td>\n",
       "      <td>0.0</td>\n",
       "      <td>0.0</td>\n",
       "      <td>/kaggle/input/isic19/ISIC 2019/ISIC_2019_Training_Input/ISIC_2019_Training_Input/ISIC_0056533.jpg</td>\n",
       "      <td>1.0</td>\n",
       "      <td>0.0</td>\n",
       "      <td>0.0</td>\n",
       "      <td>0.0</td>\n",
       "      <td>0.0</td>\n",
       "      <td>0.0</td>\n",
       "      <td>0.0</td>\n",
       "      <td>0.0</td>\n",
       "      <td>1.0</td>\n",
       "      <td>0</td>\n",
       "      <td>0</td>\n",
       "      <td>0</td>\n",
       "      <td>0</td>\n",
       "      <td>0</td>\n",
       "      <td>0</td>\n",
       "      <td>1</td>\n",
       "      <td>0</td>\n",
       "      <td>Melanocytic_nevus</td>\n",
       "    </tr>\n",
       "    <tr>\n",
       "      <th>4</th>\n",
       "      <td>0.0</td>\n",
       "      <td>0.0</td>\n",
       "      <td>1.0</td>\n",
       "      <td>0.0</td>\n",
       "      <td>0.0</td>\n",
       "      <td>0.0</td>\n",
       "      <td>0.0</td>\n",
       "      <td>0.0</td>\n",
       "      <td>/kaggle/input/isic19/ISIC 2019/ISIC_2019_Training_Input/ISIC_2019_Training_Input/ISIC_0060702.jpg</td>\n",
       "      <td>0.0</td>\n",
       "      <td>1.0</td>\n",
       "      <td>0.0</td>\n",
       "      <td>0.0</td>\n",
       "      <td>0.0</td>\n",
       "      <td>0.0</td>\n",
       "      <td>0.0</td>\n",
       "      <td>0.0</td>\n",
       "      <td>1.0</td>\n",
       "      <td>0</td>\n",
       "      <td>0</td>\n",
       "      <td>0</td>\n",
       "      <td>0</td>\n",
       "      <td>0</td>\n",
       "      <td>0</td>\n",
       "      <td>0</td>\n",
       "      <td>1</td>\n",
       "      <td>Basal_cell_carcinoma</td>\n",
       "    </tr>\n",
       "  </tbody>\n",
       "</table>\n",
       "</div>"
      ],
      "text/plain": [
       "   Melanoma  Melanocytic_nevus  Basal_cell_carcinoma  Actinic_keratosis  \\\n",
       "0       0.0                1.0                   0.0                0.0   \n",
       "1       0.0                0.0                   0.0                0.0   \n",
       "2       0.0                0.0                   1.0                0.0   \n",
       "3       0.0                1.0                   0.0                0.0   \n",
       "4       0.0                0.0                   1.0                0.0   \n",
       "\n",
       "   Benign_keratosis  Dermatofibroma  Vascular_lesion  Squamous_cell_carcinoma  \\\n",
       "0               0.0             0.0              0.0                      0.0   \n",
       "1               1.0             0.0              0.0                      0.0   \n",
       "2               0.0             0.0              0.0                      0.0   \n",
       "3               0.0             0.0              0.0                      0.0   \n",
       "4               0.0             0.0              0.0                      0.0   \n",
       "\n",
       "                                                                                          image_path  \\\n",
       "0  /kaggle/input/isic19/ISIC 2019/ISIC_2019_Training_Input/ISIC_2019_Training_Input/ISIC_0069911.jpg   \n",
       "1  /kaggle/input/isic19/ISIC 2019/ISIC_2019_Training_Input/ISIC_2019_Training_Input/ISIC_0060639.jpg   \n",
       "2  /kaggle/input/isic19/ISIC 2019/ISIC_2019_Training_Input/ISIC_2019_Training_Input/ISIC_0064685.jpg   \n",
       "3  /kaggle/input/isic19/ISIC 2019/ISIC_2019_Training_Input/ISIC_2019_Training_Input/ISIC_0056533.jpg   \n",
       "4  /kaggle/input/isic19/ISIC 2019/ISIC_2019_Training_Input/ISIC_2019_Training_Input/ISIC_0060702.jpg   \n",
       "\n",
       "   site_anterior torso  site_head/neck  site_lower extremity  \\\n",
       "0                  1.0             0.0                   0.0   \n",
       "1                  0.0             1.0                   0.0   \n",
       "2                  1.0             0.0                   0.0   \n",
       "3                  1.0             0.0                   0.0   \n",
       "4                  0.0             1.0                   0.0   \n",
       "\n",
       "   site_oral/genital  site_palms/soles  site_posterior torso  \\\n",
       "0                0.0               0.0                   0.0   \n",
       "1                0.0               0.0                   0.0   \n",
       "2                0.0               0.0                   0.0   \n",
       "3                0.0               0.0                   0.0   \n",
       "4                0.0               0.0                   0.0   \n",
       "\n",
       "   site_upper extremity  sex_female  sex_male  age_1-10  age_11-20  age_21-30  \\\n",
       "0                   0.0         1.0       0.0         0          0          0   \n",
       "1                   0.0         0.0       1.0         0          0          0   \n",
       "2                   0.0         1.0       0.0         0          0          0   \n",
       "3                   0.0         0.0       1.0         0          0          0   \n",
       "4                   0.0         0.0       1.0         0          0          0   \n",
       "\n",
       "   age_31-40  age_41-50  age_51-60  age_61-70  age_71-90         disease_label  \n",
       "0          0          0          1          0          0     Melanocytic_nevus  \n",
       "1          0          1          0          0          0      Benign_keratosis  \n",
       "2          0          0          0          1          0  Basal_cell_carcinoma  \n",
       "3          0          0          0          1          0     Melanocytic_nevus  \n",
       "4          0          0          0          0          1  Basal_cell_carcinoma  "
      ]
     },
     "execution_count": 11,
     "metadata": {},
     "output_type": "execute_result"
    }
   ],
   "source": [
    "test_df = test_df.drop(columns=[\"Unnamed: 0\"])\n",
    "test_df.head()"
   ]
  },
  {
   "cell_type": "code",
   "execution_count": 13,
   "metadata": {
    "execution": {
     "iopub.execute_input": "2025-06-05T01:34:24.731324Z",
     "iopub.status.busy": "2025-06-05T01:34:24.730992Z",
     "iopub.status.idle": "2025-06-05T01:34:24.741824Z",
     "shell.execute_reply": "2025-06-05T01:34:24.740811Z",
     "shell.execute_reply.started": "2025-06-05T01:34:24.731299Z"
    },
    "trusted": true
   },
   "outputs": [
    {
     "name": "stdout",
     "output_type": "stream",
     "text": [
      "Class names: ['Actinic_keratosis', 'Basal_cell_carcinoma', 'Benign_keratosis', 'Dermatofibroma', 'Melanocytic_nevus', 'Melanoma', 'Squamous_cell_carcinoma', 'Vascular_lesion']\n",
      "Number of classes: 8\n"
     ]
    }
   ],
   "source": [
    "# Define classes and create label mapping\n",
    "unique_classes = sorted(train['disease_label'].unique())\n",
    "NUM_CLASSES = len(unique_classes)\n",
    "print(f\"Class names: {unique_classes}\")\n",
    "print(f\"Number of classes: {NUM_CLASSES}\")"
   ]
  },
  {
   "cell_type": "code",
   "execution_count": 14,
   "metadata": {
    "execution": {
     "iopub.execute_input": "2025-06-05T01:34:26.920287Z",
     "iopub.status.busy": "2025-06-05T01:34:26.919952Z",
     "iopub.status.idle": "2025-06-05T01:34:26.925539Z",
     "shell.execute_reply": "2025-06-05T01:34:26.924392Z",
     "shell.execute_reply.started": "2025-06-05T01:34:26.920263Z"
    },
    "trusted": true
   },
   "outputs": [],
   "source": [
    "label_to_id = {label: idx for idx, label in enumerate(unique_classes)}\n",
    "id_to_label = {idx: label for idx, label in enumerate(unique_classes)}"
   ]
  },
  {
   "cell_type": "markdown",
   "metadata": {},
   "source": [
    "# Train/validation split 80%/20% \n",
    "# (This is not train/ test split, because this split was done during the cleaning already)"
   ]
  },
  {
   "cell_type": "code",
   "execution_count": 15,
   "metadata": {
    "execution": {
     "iopub.execute_input": "2025-06-05T01:34:28.187581Z",
     "iopub.status.busy": "2025-06-05T01:34:28.186991Z",
     "iopub.status.idle": "2025-06-05T01:34:28.245499Z",
     "shell.execute_reply": "2025-06-05T01:34:28.244447Z",
     "shell.execute_reply.started": "2025-06-05T01:34:28.187556Z"
    },
    "trusted": true
   },
   "outputs": [
    {
     "name": "stdout",
     "output_type": "stream",
     "text": [
      "Train set size: 29488\n",
      "Validation set size: 7372\n",
      "Test set size: 2293\n"
     ]
    }
   ],
   "source": [
    "# Split data with stratification\n",
    "train_df, valid_df = train_test_split(train,\n",
    "                                    test_size=0.2,\n",
    "                                    stratify=train['disease_label'],\n",
    "                                    random_state=42)\n",
    "\n",
    "train_df.reset_index(drop=True, inplace=True)\n",
    "valid_df.reset_index(drop=True, inplace=True)\n",
    "\n",
    "print(f\"Train set size: {len(train_df)}\")\n",
    "print(f\"Validation set size: {len(valid_df)}\")\n",
    "print(f\"Test set size: {len(test_df)}\")"
   ]
  },
  {
   "cell_type": "markdown",
   "metadata": {},
   "source": [
    "# **SWIN ViT Model**"
   ]
  },
  {
   "cell_type": "code",
   "execution_count": 16,
   "metadata": {
    "execution": {
     "iopub.execute_input": "2025-06-05T01:34:28.559295Z",
     "iopub.status.busy": "2025-06-05T01:34:28.558960Z",
     "iopub.status.idle": "2025-06-05T01:34:28.790466Z",
     "shell.execute_reply": "2025-06-05T01:34:28.789616Z",
     "shell.execute_reply.started": "2025-06-05T01:34:28.559269Z"
    },
    "trusted": true
   },
   "outputs": [
    {
     "data": {
      "application/vnd.jupyter.widget-view+json": {
       "model_id": "c09bf50403ff4b4188c96edad3e7d6d7",
       "version_major": 2,
       "version_minor": 0
      },
      "text/plain": [
       "preprocessor_config.json:   0%|          | 0.00/255 [00:00<?, ?B/s]"
      ]
     },
     "metadata": {},
     "output_type": "display_data"
    },
    {
     "name": "stderr",
     "output_type": "stream",
     "text": [
      "Using a slow image processor as `use_fast` is unset and a slow processor was saved with this model. `use_fast=True` will be the default behavior in v4.52, even if the model was saved with a slow processor. This will result in minor differences in outputs. You'll still be able to use a slow processor with `use_fast=False`.\n"
     ]
    }
   ],
   "source": [
    "# Initializing the model components\n",
    "model_name = \"microsoft/swin-large-patch4-window7-224-in22k\"\n",
    "image_processor = AutoImageProcessor.from_pretrained(model_name)"
   ]
  },
  {
   "cell_type": "code",
   "execution_count": 17,
   "metadata": {
    "execution": {
     "iopub.execute_input": "2025-06-05T01:34:30.528334Z",
     "iopub.status.busy": "2025-06-05T01:34:30.528055Z",
     "iopub.status.idle": "2025-06-05T01:34:30.537632Z",
     "shell.execute_reply": "2025-06-05T01:34:30.536619Z",
     "shell.execute_reply.started": "2025-06-05T01:34:30.528314Z"
    },
    "trusted": true
   },
   "outputs": [],
   "source": [
    "# Dataset class\n",
    "class SkinLesionDataset(Dataset):\n",
    "    def __init__(self, dataframe, image_processor, is_train=False):\n",
    "        self.dataframe = dataframe\n",
    "        self.image_processor = image_processor\n",
    "        self.is_train = is_train\n",
    "        \n",
    "        if self.is_train:\n",
    "            self.transform = transforms.Compose([\n",
    "                transforms.Resize((224, 224)),\n",
    "                transforms.ToTensor(),\n",
    "                transforms.Normalize(mean=[0.485, 0.456, 0.406], std=[0.229, 0.224, 0.225])\n",
    "            ])\n",
    "        else:\n",
    "            self.transform = transforms.Compose([\n",
    "                transforms.Resize((224, 224)),\n",
    "                transforms.ToTensor(),\n",
    "                transforms.Normalize(mean=[0.485, 0.456, 0.406], std=[0.229, 0.224, 0.225])\n",
    "            ])\n",
    "    \n",
    "    def __len__(self):\n",
    "        return len(self.dataframe)\n",
    "    \n",
    "    def __getitem__(self, idx):\n",
    "        img_path = self.dataframe.iloc[idx]['image_path']\n",
    "        label = self.dataframe.iloc[idx]['disease_label']\n",
    "        label_id = label_to_id[label]\n",
    "        \n",
    "        try:\n",
    "            img = Image.open(img_path).convert('RGB')\n",
    "            img_tensor = self.transform(img)\n",
    "        except Exception as e:\n",
    "            print(f\"Error loading image {img_path}: {e}\")\n",
    "            img_tensor = torch.zeros(3, 224, 224)\n",
    "        \n",
    "        return {\n",
    "            'pixel_values': img_tensor,\n",
    "            'label': label_id\n",
    "        }"
   ]
  },
  {
   "cell_type": "code",
   "execution_count": 18,
   "metadata": {
    "execution": {
     "iopub.execute_input": "2025-06-05T01:34:32.851567Z",
     "iopub.status.busy": "2025-06-05T01:34:32.850928Z",
     "iopub.status.idle": "2025-06-05T01:34:32.856905Z",
     "shell.execute_reply": "2025-06-05T01:34:32.855984Z",
     "shell.execute_reply.started": "2025-06-05T01:34:32.851540Z"
    },
    "trusted": true
   },
   "outputs": [],
   "source": [
    "# Creating the datasets\n",
    "train_dataset = SkinLesionDataset(train_df, image_processor, is_train=True)\n",
    "valid_dataset = SkinLesionDataset(valid_df, image_processor, is_train=False)\n",
    "test_dataset = SkinLesionDataset(test_df, image_processor, is_train=False)"
   ]
  },
  {
   "cell_type": "code",
   "execution_count": 19,
   "metadata": {
    "execution": {
     "iopub.execute_input": "2025-06-05T01:34:33.226043Z",
     "iopub.status.busy": "2025-06-05T01:34:33.225722Z",
     "iopub.status.idle": "2025-06-05T01:34:33.240046Z",
     "shell.execute_reply": "2025-06-05T01:34:33.238801Z",
     "shell.execute_reply.started": "2025-06-05T01:34:33.226019Z"
    },
    "trusted": true
   },
   "outputs": [
    {
     "name": "stdout",
     "output_type": "stream",
     "text": [
      "Class weights: {0: 1.1783887468030692, 1: 1.1783887468030692, 2: 1.1783887468030692, 3: 1.1783887468030692, 4: 0.4855110642781876, 5: 1.1783887468030692, 6: 1.1783887468030692, 7: 1.1783887468030692}\n"
     ]
    }
   ],
   "source": [
    "# Calculating the class weights for handling the imbalanced data\n",
    "train_labels = train_df['disease_label'].values\n",
    "class_weights = compute_class_weight('balanced', classes=unique_classes, y=train_labels)\n",
    "class_weights_dict = {i: class_weights[i] for i in range(len(class_weights))}\n",
    "print(f\"Class weights: {class_weights_dict}\")"
   ]
  },
  {
   "cell_type": "code",
   "execution_count": 20,
   "metadata": {
    "execution": {
     "iopub.execute_input": "2025-06-05T01:34:34.578143Z",
     "iopub.status.busy": "2025-06-05T01:34:34.577872Z",
     "iopub.status.idle": "2025-06-05T01:34:34.591102Z",
     "shell.execute_reply": "2025-06-05T01:34:34.590138Z",
     "shell.execute_reply.started": "2025-06-05T01:34:34.578123Z"
    },
    "trusted": true
   },
   "outputs": [],
   "source": [
    "# Creating a weighted sampler for balanced training\n",
    "train_targets = [label_to_id[label] for label in train_df['disease_label']]\n",
    "sample_weights = [class_weights_dict[target] for target in train_targets]\n",
    "sampler = WeightedRandomSampler(weights=sample_weights, num_samples=len(sample_weights), replacement=True)"
   ]
  },
  {
   "cell_type": "code",
   "execution_count": 21,
   "metadata": {
    "execution": {
     "iopub.execute_input": "2025-06-05T01:34:36.000561Z",
     "iopub.status.busy": "2025-06-05T01:34:36.000208Z",
     "iopub.status.idle": "2025-06-05T01:34:36.007516Z",
     "shell.execute_reply": "2025-06-05T01:34:36.006420Z",
     "shell.execute_reply.started": "2025-06-05T01:34:36.000539Z"
    },
    "trusted": true
   },
   "outputs": [],
   "source": [
    "try:\n",
    "    train_loader = DataLoader(\n",
    "        train_dataset,\n",
    "        batch_size=32,\n",
    "        sampler=sampler,\n",
    "        num_workers=4,\n",
    "        pin_memory=True,\n",
    "        drop_last=True\n",
    "    )\n",
    "\n",
    "    valid_loader = DataLoader(\n",
    "        valid_dataset,\n",
    "        batch_size=256,\n",
    "        shuffle=False,\n",
    "        num_workers=4,\n",
    "        pin_memory=True\n",
    "    )\n",
    "\n",
    "    test_loader = DataLoader(\n",
    "        test_dataset,\n",
    "        batch_size=64,\n",
    "        shuffle=False,\n",
    "        num_workers=4,\n",
    "        pin_memory=True\n",
    "    )\n",
    "except RuntimeError as e:\n",
    "    print(\"Caught RuntimeError when using multiple workers. Retrying with num_workers=2\")\n",
    "    train_loader = DataLoader(\n",
    "        train_dataset,\n",
    "        batch_size=32,\n",
    "        sampler=sampler,\n",
    "        num_workers=2,\n",
    "        pin_memory=True,\n",
    "        drop_last=True\n",
    "    )\n",
    "\n",
    "    valid_loader = DataLoader(\n",
    "        valid_dataset,\n",
    "        batch_size=256,\n",
    "        shuffle=False,\n",
    "        num_workers=2,\n",
    "        pin_memory=True\n",
    "    )\n",
    "\n",
    "    test_loader = DataLoader(\n",
    "        test_dataset,\n",
    "        batch_size=64,\n",
    "        shuffle=False,\n",
    "        num_workers=2,\n",
    "        pin_memory=True\n",
    "    )\n"
   ]
  },
  {
   "cell_type": "code",
   "execution_count": 22,
   "metadata": {
    "execution": {
     "iopub.execute_input": "2025-06-05T01:34:44.347229Z",
     "iopub.status.busy": "2025-06-05T01:34:44.346890Z",
     "iopub.status.idle": "2025-06-05T01:34:44.354743Z",
     "shell.execute_reply": "2025-06-05T01:34:44.353422Z",
     "shell.execute_reply.started": "2025-06-05T01:34:44.347201Z"
    },
    "trusted": true
   },
   "outputs": [],
   "source": [
    "# Enhancing the model with a better architecture (no layer freezing)\n",
    "class OptimizedSwinClassifier(nn.Module):\n",
    "    def __init__(self, num_classes=8, dropout_rate=0.3):\n",
    "        super(OptimizedSwinClassifier, self).__init__()\n",
    "        self.backbone = SwinModel.from_pretrained(model_name)\n",
    "        hidden_size = self.backbone.config.hidden_size\n",
    "        \n",
    "        self.classifier = nn.Sequential(\n",
    "            nn.Dropout(dropout_rate),\n",
    "            nn.Linear(hidden_size, hidden_size // 2),\n",
    "            nn.BatchNorm1d(hidden_size // 2),\n",
    "            nn.ReLU(inplace=True),\n",
    "            nn.Dropout(dropout_rate // 2),\n",
    "            nn.Linear(hidden_size // 2, hidden_size // 4),\n",
    "            nn.BatchNorm1d(hidden_size // 4),\n",
    "            nn.ReLU(inplace=True),\n",
    "            nn.Dropout(dropout_rate // 4),\n",
    "            nn.Linear(hidden_size // 4, num_classes)\n",
    "        )\n",
    "\n",
    "    def forward(self, pixel_values):\n",
    "        outputs = self.backbone(pixel_values=pixel_values)\n",
    "        pooled_output = outputs.last_hidden_state.mean(dim=1)  # Global average pooling\n",
    "        logits = self.classifier(pooled_output)\n",
    "        return logits"
   ]
  },
  {
   "cell_type": "code",
   "execution_count": 23,
   "metadata": {
    "execution": {
     "iopub.execute_input": "2025-06-05T01:34:44.747917Z",
     "iopub.status.busy": "2025-06-05T01:34:44.747003Z",
     "iopub.status.idle": "2025-06-05T01:34:54.531443Z",
     "shell.execute_reply": "2025-06-05T01:34:54.530315Z",
     "shell.execute_reply.started": "2025-06-05T01:34:44.747872Z"
    },
    "trusted": true
   },
   "outputs": [
    {
     "data": {
      "application/vnd.jupyter.widget-view+json": {
       "model_id": "039c01a9382f49db956fbd944f9fe90c",
       "version_major": 2,
       "version_minor": 0
      },
      "text/plain": [
       "config.json:   0%|          | 0.00/1.67M [00:00<?, ?B/s]"
      ]
     },
     "metadata": {},
     "output_type": "display_data"
    },
    {
     "data": {
      "application/vnd.jupyter.widget-view+json": {
       "model_id": "3e39baeae93a4965afb9995b1bdfaa8b",
       "version_major": 2,
       "version_minor": 0
      },
      "text/plain": [
       "pytorch_model.bin:   0%|          | 0.00/915M [00:00<?, ?B/s]"
      ]
     },
     "metadata": {},
     "output_type": "display_data"
    },
    {
     "data": {
      "application/vnd.jupyter.widget-view+json": {
       "model_id": "fbdc6e8129444de9aaeab48d5a471a6c",
       "version_major": 2,
       "version_minor": 0
      },
      "text/plain": [
       "model.safetensors:   0%|          | 0.00/915M [00:00<?, ?B/s]"
      ]
     },
     "metadata": {},
     "output_type": "display_data"
    },
    {
     "data": {
      "text/plain": [
       "OptimizedSwinClassifier(\n",
       "  (backbone): SwinModel(\n",
       "    (embeddings): SwinEmbeddings(\n",
       "      (patch_embeddings): SwinPatchEmbeddings(\n",
       "        (projection): Conv2d(3, 192, kernel_size=(4, 4), stride=(4, 4))\n",
       "      )\n",
       "      (norm): LayerNorm((192,), eps=1e-05, elementwise_affine=True)\n",
       "      (dropout): Dropout(p=0.0, inplace=False)\n",
       "    )\n",
       "    (encoder): SwinEncoder(\n",
       "      (layers): ModuleList(\n",
       "        (0): SwinStage(\n",
       "          (blocks): ModuleList(\n",
       "            (0): SwinLayer(\n",
       "              (layernorm_before): LayerNorm((192,), eps=1e-05, elementwise_affine=True)\n",
       "              (attention): SwinAttention(\n",
       "                (self): SwinSelfAttention(\n",
       "                  (query): Linear(in_features=192, out_features=192, bias=True)\n",
       "                  (key): Linear(in_features=192, out_features=192, bias=True)\n",
       "                  (value): Linear(in_features=192, out_features=192, bias=True)\n",
       "                  (dropout): Dropout(p=0.0, inplace=False)\n",
       "                )\n",
       "                (output): SwinSelfOutput(\n",
       "                  (dense): Linear(in_features=192, out_features=192, bias=True)\n",
       "                  (dropout): Dropout(p=0.0, inplace=False)\n",
       "                )\n",
       "              )\n",
       "              (drop_path): Identity()\n",
       "              (layernorm_after): LayerNorm((192,), eps=1e-05, elementwise_affine=True)\n",
       "              (intermediate): SwinIntermediate(\n",
       "                (dense): Linear(in_features=192, out_features=768, bias=True)\n",
       "                (intermediate_act_fn): GELUActivation()\n",
       "              )\n",
       "              (output): SwinOutput(\n",
       "                (dense): Linear(in_features=768, out_features=192, bias=True)\n",
       "                (dropout): Dropout(p=0.0, inplace=False)\n",
       "              )\n",
       "            )\n",
       "            (1): SwinLayer(\n",
       "              (layernorm_before): LayerNorm((192,), eps=1e-05, elementwise_affine=True)\n",
       "              (attention): SwinAttention(\n",
       "                (self): SwinSelfAttention(\n",
       "                  (query): Linear(in_features=192, out_features=192, bias=True)\n",
       "                  (key): Linear(in_features=192, out_features=192, bias=True)\n",
       "                  (value): Linear(in_features=192, out_features=192, bias=True)\n",
       "                  (dropout): Dropout(p=0.0, inplace=False)\n",
       "                )\n",
       "                (output): SwinSelfOutput(\n",
       "                  (dense): Linear(in_features=192, out_features=192, bias=True)\n",
       "                  (dropout): Dropout(p=0.0, inplace=False)\n",
       "                )\n",
       "              )\n",
       "              (drop_path): SwinDropPath(p=0.004347826354205608)\n",
       "              (layernorm_after): LayerNorm((192,), eps=1e-05, elementwise_affine=True)\n",
       "              (intermediate): SwinIntermediate(\n",
       "                (dense): Linear(in_features=192, out_features=768, bias=True)\n",
       "                (intermediate_act_fn): GELUActivation()\n",
       "              )\n",
       "              (output): SwinOutput(\n",
       "                (dense): Linear(in_features=768, out_features=192, bias=True)\n",
       "                (dropout): Dropout(p=0.0, inplace=False)\n",
       "              )\n",
       "            )\n",
       "          )\n",
       "          (downsample): SwinPatchMerging(\n",
       "            (reduction): Linear(in_features=768, out_features=384, bias=False)\n",
       "            (norm): LayerNorm((768,), eps=1e-05, elementwise_affine=True)\n",
       "          )\n",
       "        )\n",
       "        (1): SwinStage(\n",
       "          (blocks): ModuleList(\n",
       "            (0): SwinLayer(\n",
       "              (layernorm_before): LayerNorm((384,), eps=1e-05, elementwise_affine=True)\n",
       "              (attention): SwinAttention(\n",
       "                (self): SwinSelfAttention(\n",
       "                  (query): Linear(in_features=384, out_features=384, bias=True)\n",
       "                  (key): Linear(in_features=384, out_features=384, bias=True)\n",
       "                  (value): Linear(in_features=384, out_features=384, bias=True)\n",
       "                  (dropout): Dropout(p=0.0, inplace=False)\n",
       "                )\n",
       "                (output): SwinSelfOutput(\n",
       "                  (dense): Linear(in_features=384, out_features=384, bias=True)\n",
       "                  (dropout): Dropout(p=0.0, inplace=False)\n",
       "                )\n",
       "              )\n",
       "              (drop_path): SwinDropPath(p=0.008695652708411217)\n",
       "              (layernorm_after): LayerNorm((384,), eps=1e-05, elementwise_affine=True)\n",
       "              (intermediate): SwinIntermediate(\n",
       "                (dense): Linear(in_features=384, out_features=1536, bias=True)\n",
       "                (intermediate_act_fn): GELUActivation()\n",
       "              )\n",
       "              (output): SwinOutput(\n",
       "                (dense): Linear(in_features=1536, out_features=384, bias=True)\n",
       "                (dropout): Dropout(p=0.0, inplace=False)\n",
       "              )\n",
       "            )\n",
       "            (1): SwinLayer(\n",
       "              (layernorm_before): LayerNorm((384,), eps=1e-05, elementwise_affine=True)\n",
       "              (attention): SwinAttention(\n",
       "                (self): SwinSelfAttention(\n",
       "                  (query): Linear(in_features=384, out_features=384, bias=True)\n",
       "                  (key): Linear(in_features=384, out_features=384, bias=True)\n",
       "                  (value): Linear(in_features=384, out_features=384, bias=True)\n",
       "                  (dropout): Dropout(p=0.0, inplace=False)\n",
       "                )\n",
       "                (output): SwinSelfOutput(\n",
       "                  (dense): Linear(in_features=384, out_features=384, bias=True)\n",
       "                  (dropout): Dropout(p=0.0, inplace=False)\n",
       "                )\n",
       "              )\n",
       "              (drop_path): SwinDropPath(p=0.013043479062616825)\n",
       "              (layernorm_after): LayerNorm((384,), eps=1e-05, elementwise_affine=True)\n",
       "              (intermediate): SwinIntermediate(\n",
       "                (dense): Linear(in_features=384, out_features=1536, bias=True)\n",
       "                (intermediate_act_fn): GELUActivation()\n",
       "              )\n",
       "              (output): SwinOutput(\n",
       "                (dense): Linear(in_features=1536, out_features=384, bias=True)\n",
       "                (dropout): Dropout(p=0.0, inplace=False)\n",
       "              )\n",
       "            )\n",
       "          )\n",
       "          (downsample): SwinPatchMerging(\n",
       "            (reduction): Linear(in_features=1536, out_features=768, bias=False)\n",
       "            (norm): LayerNorm((1536,), eps=1e-05, elementwise_affine=True)\n",
       "          )\n",
       "        )\n",
       "        (2): SwinStage(\n",
       "          (blocks): ModuleList(\n",
       "            (0): SwinLayer(\n",
       "              (layernorm_before): LayerNorm((768,), eps=1e-05, elementwise_affine=True)\n",
       "              (attention): SwinAttention(\n",
       "                (self): SwinSelfAttention(\n",
       "                  (query): Linear(in_features=768, out_features=768, bias=True)\n",
       "                  (key): Linear(in_features=768, out_features=768, bias=True)\n",
       "                  (value): Linear(in_features=768, out_features=768, bias=True)\n",
       "                  (dropout): Dropout(p=0.0, inplace=False)\n",
       "                )\n",
       "                (output): SwinSelfOutput(\n",
       "                  (dense): Linear(in_features=768, out_features=768, bias=True)\n",
       "                  (dropout): Dropout(p=0.0, inplace=False)\n",
       "                )\n",
       "              )\n",
       "              (drop_path): SwinDropPath(p=0.017391305416822433)\n",
       "              (layernorm_after): LayerNorm((768,), eps=1e-05, elementwise_affine=True)\n",
       "              (intermediate): SwinIntermediate(\n",
       "                (dense): Linear(in_features=768, out_features=3072, bias=True)\n",
       "                (intermediate_act_fn): GELUActivation()\n",
       "              )\n",
       "              (output): SwinOutput(\n",
       "                (dense): Linear(in_features=3072, out_features=768, bias=True)\n",
       "                (dropout): Dropout(p=0.0, inplace=False)\n",
       "              )\n",
       "            )\n",
       "            (1): SwinLayer(\n",
       "              (layernorm_before): LayerNorm((768,), eps=1e-05, elementwise_affine=True)\n",
       "              (attention): SwinAttention(\n",
       "                (self): SwinSelfAttention(\n",
       "                  (query): Linear(in_features=768, out_features=768, bias=True)\n",
       "                  (key): Linear(in_features=768, out_features=768, bias=True)\n",
       "                  (value): Linear(in_features=768, out_features=768, bias=True)\n",
       "                  (dropout): Dropout(p=0.0, inplace=False)\n",
       "                )\n",
       "                (output): SwinSelfOutput(\n",
       "                  (dense): Linear(in_features=768, out_features=768, bias=True)\n",
       "                  (dropout): Dropout(p=0.0, inplace=False)\n",
       "                )\n",
       "              )\n",
       "              (drop_path): SwinDropPath(p=0.021739132702350616)\n",
       "              (layernorm_after): LayerNorm((768,), eps=1e-05, elementwise_affine=True)\n",
       "              (intermediate): SwinIntermediate(\n",
       "                (dense): Linear(in_features=768, out_features=3072, bias=True)\n",
       "                (intermediate_act_fn): GELUActivation()\n",
       "              )\n",
       "              (output): SwinOutput(\n",
       "                (dense): Linear(in_features=3072, out_features=768, bias=True)\n",
       "                (dropout): Dropout(p=0.0, inplace=False)\n",
       "              )\n",
       "            )\n",
       "            (2): SwinLayer(\n",
       "              (layernorm_before): LayerNorm((768,), eps=1e-05, elementwise_affine=True)\n",
       "              (attention): SwinAttention(\n",
       "                (self): SwinSelfAttention(\n",
       "                  (query): Linear(in_features=768, out_features=768, bias=True)\n",
       "                  (key): Linear(in_features=768, out_features=768, bias=True)\n",
       "                  (value): Linear(in_features=768, out_features=768, bias=True)\n",
       "                  (dropout): Dropout(p=0.0, inplace=False)\n",
       "                )\n",
       "                (output): SwinSelfOutput(\n",
       "                  (dense): Linear(in_features=768, out_features=768, bias=True)\n",
       "                  (dropout): Dropout(p=0.0, inplace=False)\n",
       "                )\n",
       "              )\n",
       "              (drop_path): SwinDropPath(p=0.02608695812523365)\n",
       "              (layernorm_after): LayerNorm((768,), eps=1e-05, elementwise_affine=True)\n",
       "              (intermediate): SwinIntermediate(\n",
       "                (dense): Linear(in_features=768, out_features=3072, bias=True)\n",
       "                (intermediate_act_fn): GELUActivation()\n",
       "              )\n",
       "              (output): SwinOutput(\n",
       "                (dense): Linear(in_features=3072, out_features=768, bias=True)\n",
       "                (dropout): Dropout(p=0.0, inplace=False)\n",
       "              )\n",
       "            )\n",
       "            (3): SwinLayer(\n",
       "              (layernorm_before): LayerNorm((768,), eps=1e-05, elementwise_affine=True)\n",
       "              (attention): SwinAttention(\n",
       "                (self): SwinSelfAttention(\n",
       "                  (query): Linear(in_features=768, out_features=768, bias=True)\n",
       "                  (key): Linear(in_features=768, out_features=768, bias=True)\n",
       "                  (value): Linear(in_features=768, out_features=768, bias=True)\n",
       "                  (dropout): Dropout(p=0.0, inplace=False)\n",
       "                )\n",
       "                (output): SwinSelfOutput(\n",
       "                  (dense): Linear(in_features=768, out_features=768, bias=True)\n",
       "                  (dropout): Dropout(p=0.0, inplace=False)\n",
       "                )\n",
       "              )\n",
       "              (drop_path): SwinDropPath(p=0.030434783548116684)\n",
       "              (layernorm_after): LayerNorm((768,), eps=1e-05, elementwise_affine=True)\n",
       "              (intermediate): SwinIntermediate(\n",
       "                (dense): Linear(in_features=768, out_features=3072, bias=True)\n",
       "                (intermediate_act_fn): GELUActivation()\n",
       "              )\n",
       "              (output): SwinOutput(\n",
       "                (dense): Linear(in_features=3072, out_features=768, bias=True)\n",
       "                (dropout): Dropout(p=0.0, inplace=False)\n",
       "              )\n",
       "            )\n",
       "            (4): SwinLayer(\n",
       "              (layernorm_before): LayerNorm((768,), eps=1e-05, elementwise_affine=True)\n",
       "              (attention): SwinAttention(\n",
       "                (self): SwinSelfAttention(\n",
       "                  (query): Linear(in_features=768, out_features=768, bias=True)\n",
       "                  (key): Linear(in_features=768, out_features=768, bias=True)\n",
       "                  (value): Linear(in_features=768, out_features=768, bias=True)\n",
       "                  (dropout): Dropout(p=0.0, inplace=False)\n",
       "                )\n",
       "                (output): SwinSelfOutput(\n",
       "                  (dense): Linear(in_features=768, out_features=768, bias=True)\n",
       "                  (dropout): Dropout(p=0.0, inplace=False)\n",
       "                )\n",
       "              )\n",
       "              (drop_path): SwinDropPath(p=0.03478261083364487)\n",
       "              (layernorm_after): LayerNorm((768,), eps=1e-05, elementwise_affine=True)\n",
       "              (intermediate): SwinIntermediate(\n",
       "                (dense): Linear(in_features=768, out_features=3072, bias=True)\n",
       "                (intermediate_act_fn): GELUActivation()\n",
       "              )\n",
       "              (output): SwinOutput(\n",
       "                (dense): Linear(in_features=3072, out_features=768, bias=True)\n",
       "                (dropout): Dropout(p=0.0, inplace=False)\n",
       "              )\n",
       "            )\n",
       "            (5): SwinLayer(\n",
       "              (layernorm_before): LayerNorm((768,), eps=1e-05, elementwise_affine=True)\n",
       "              (attention): SwinAttention(\n",
       "                (self): SwinSelfAttention(\n",
       "                  (query): Linear(in_features=768, out_features=768, bias=True)\n",
       "                  (key): Linear(in_features=768, out_features=768, bias=True)\n",
       "                  (value): Linear(in_features=768, out_features=768, bias=True)\n",
       "                  (dropout): Dropout(p=0.0, inplace=False)\n",
       "                )\n",
       "                (output): SwinSelfOutput(\n",
       "                  (dense): Linear(in_features=768, out_features=768, bias=True)\n",
       "                  (dropout): Dropout(p=0.0, inplace=False)\n",
       "                )\n",
       "              )\n",
       "              (drop_path): SwinDropPath(p=0.03913043811917305)\n",
       "              (layernorm_after): LayerNorm((768,), eps=1e-05, elementwise_affine=True)\n",
       "              (intermediate): SwinIntermediate(\n",
       "                (dense): Linear(in_features=768, out_features=3072, bias=True)\n",
       "                (intermediate_act_fn): GELUActivation()\n",
       "              )\n",
       "              (output): SwinOutput(\n",
       "                (dense): Linear(in_features=3072, out_features=768, bias=True)\n",
       "                (dropout): Dropout(p=0.0, inplace=False)\n",
       "              )\n",
       "            )\n",
       "            (6): SwinLayer(\n",
       "              (layernorm_before): LayerNorm((768,), eps=1e-05, elementwise_affine=True)\n",
       "              (attention): SwinAttention(\n",
       "                (self): SwinSelfAttention(\n",
       "                  (query): Linear(in_features=768, out_features=768, bias=True)\n",
       "                  (key): Linear(in_features=768, out_features=768, bias=True)\n",
       "                  (value): Linear(in_features=768, out_features=768, bias=True)\n",
       "                  (dropout): Dropout(p=0.0, inplace=False)\n",
       "                )\n",
       "                (output): SwinSelfOutput(\n",
       "                  (dense): Linear(in_features=768, out_features=768, bias=True)\n",
       "                  (dropout): Dropout(p=0.0, inplace=False)\n",
       "                )\n",
       "              )\n",
       "              (drop_path): SwinDropPath(p=0.04347826540470123)\n",
       "              (layernorm_after): LayerNorm((768,), eps=1e-05, elementwise_affine=True)\n",
       "              (intermediate): SwinIntermediate(\n",
       "                (dense): Linear(in_features=768, out_features=3072, bias=True)\n",
       "                (intermediate_act_fn): GELUActivation()\n",
       "              )\n",
       "              (output): SwinOutput(\n",
       "                (dense): Linear(in_features=3072, out_features=768, bias=True)\n",
       "                (dropout): Dropout(p=0.0, inplace=False)\n",
       "              )\n",
       "            )\n",
       "            (7): SwinLayer(\n",
       "              (layernorm_before): LayerNorm((768,), eps=1e-05, elementwise_affine=True)\n",
       "              (attention): SwinAttention(\n",
       "                (self): SwinSelfAttention(\n",
       "                  (query): Linear(in_features=768, out_features=768, bias=True)\n",
       "                  (key): Linear(in_features=768, out_features=768, bias=True)\n",
       "                  (value): Linear(in_features=768, out_features=768, bias=True)\n",
       "                  (dropout): Dropout(p=0.0, inplace=False)\n",
       "                )\n",
       "                (output): SwinSelfOutput(\n",
       "                  (dense): Linear(in_features=768, out_features=768, bias=True)\n",
       "                  (dropout): Dropout(p=0.0, inplace=False)\n",
       "                )\n",
       "              )\n",
       "              (drop_path): SwinDropPath(p=0.04782608896493912)\n",
       "              (layernorm_after): LayerNorm((768,), eps=1e-05, elementwise_affine=True)\n",
       "              (intermediate): SwinIntermediate(\n",
       "                (dense): Linear(in_features=768, out_features=3072, bias=True)\n",
       "                (intermediate_act_fn): GELUActivation()\n",
       "              )\n",
       "              (output): SwinOutput(\n",
       "                (dense): Linear(in_features=3072, out_features=768, bias=True)\n",
       "                (dropout): Dropout(p=0.0, inplace=False)\n",
       "              )\n",
       "            )\n",
       "            (8): SwinLayer(\n",
       "              (layernorm_before): LayerNorm((768,), eps=1e-05, elementwise_affine=True)\n",
       "              (attention): SwinAttention(\n",
       "                (self): SwinSelfAttention(\n",
       "                  (query): Linear(in_features=768, out_features=768, bias=True)\n",
       "                  (key): Linear(in_features=768, out_features=768, bias=True)\n",
       "                  (value): Linear(in_features=768, out_features=768, bias=True)\n",
       "                  (dropout): Dropout(p=0.0, inplace=False)\n",
       "                )\n",
       "                (output): SwinSelfOutput(\n",
       "                  (dense): Linear(in_features=768, out_features=768, bias=True)\n",
       "                  (dropout): Dropout(p=0.0, inplace=False)\n",
       "                )\n",
       "              )\n",
       "              (drop_path): SwinDropPath(p=0.052173912525177)\n",
       "              (layernorm_after): LayerNorm((768,), eps=1e-05, elementwise_affine=True)\n",
       "              (intermediate): SwinIntermediate(\n",
       "                (dense): Linear(in_features=768, out_features=3072, bias=True)\n",
       "                (intermediate_act_fn): GELUActivation()\n",
       "              )\n",
       "              (output): SwinOutput(\n",
       "                (dense): Linear(in_features=3072, out_features=768, bias=True)\n",
       "                (dropout): Dropout(p=0.0, inplace=False)\n",
       "              )\n",
       "            )\n",
       "            (9): SwinLayer(\n",
       "              (layernorm_before): LayerNorm((768,), eps=1e-05, elementwise_affine=True)\n",
       "              (attention): SwinAttention(\n",
       "                (self): SwinSelfAttention(\n",
       "                  (query): Linear(in_features=768, out_features=768, bias=True)\n",
       "                  (key): Linear(in_features=768, out_features=768, bias=True)\n",
       "                  (value): Linear(in_features=768, out_features=768, bias=True)\n",
       "                  (dropout): Dropout(p=0.0, inplace=False)\n",
       "                )\n",
       "                (output): SwinSelfOutput(\n",
       "                  (dense): Linear(in_features=768, out_features=768, bias=True)\n",
       "                  (dropout): Dropout(p=0.0, inplace=False)\n",
       "                )\n",
       "              )\n",
       "              (drop_path): SwinDropPath(p=0.056521736085414886)\n",
       "              (layernorm_after): LayerNorm((768,), eps=1e-05, elementwise_affine=True)\n",
       "              (intermediate): SwinIntermediate(\n",
       "                (dense): Linear(in_features=768, out_features=3072, bias=True)\n",
       "                (intermediate_act_fn): GELUActivation()\n",
       "              )\n",
       "              (output): SwinOutput(\n",
       "                (dense): Linear(in_features=3072, out_features=768, bias=True)\n",
       "                (dropout): Dropout(p=0.0, inplace=False)\n",
       "              )\n",
       "            )\n",
       "            (10): SwinLayer(\n",
       "              (layernorm_before): LayerNorm((768,), eps=1e-05, elementwise_affine=True)\n",
       "              (attention): SwinAttention(\n",
       "                (self): SwinSelfAttention(\n",
       "                  (query): Linear(in_features=768, out_features=768, bias=True)\n",
       "                  (key): Linear(in_features=768, out_features=768, bias=True)\n",
       "                  (value): Linear(in_features=768, out_features=768, bias=True)\n",
       "                  (dropout): Dropout(p=0.0, inplace=False)\n",
       "                )\n",
       "                (output): SwinSelfOutput(\n",
       "                  (dense): Linear(in_features=768, out_features=768, bias=True)\n",
       "                  (dropout): Dropout(p=0.0, inplace=False)\n",
       "                )\n",
       "              )\n",
       "              (drop_path): SwinDropPath(p=0.06086956337094307)\n",
       "              (layernorm_after): LayerNorm((768,), eps=1e-05, elementwise_affine=True)\n",
       "              (intermediate): SwinIntermediate(\n",
       "                (dense): Linear(in_features=768, out_features=3072, bias=True)\n",
       "                (intermediate_act_fn): GELUActivation()\n",
       "              )\n",
       "              (output): SwinOutput(\n",
       "                (dense): Linear(in_features=3072, out_features=768, bias=True)\n",
       "                (dropout): Dropout(p=0.0, inplace=False)\n",
       "              )\n",
       "            )\n",
       "            (11): SwinLayer(\n",
       "              (layernorm_before): LayerNorm((768,), eps=1e-05, elementwise_affine=True)\n",
       "              (attention): SwinAttention(\n",
       "                (self): SwinSelfAttention(\n",
       "                  (query): Linear(in_features=768, out_features=768, bias=True)\n",
       "                  (key): Linear(in_features=768, out_features=768, bias=True)\n",
       "                  (value): Linear(in_features=768, out_features=768, bias=True)\n",
       "                  (dropout): Dropout(p=0.0, inplace=False)\n",
       "                )\n",
       "                (output): SwinSelfOutput(\n",
       "                  (dense): Linear(in_features=768, out_features=768, bias=True)\n",
       "                  (dropout): Dropout(p=0.0, inplace=False)\n",
       "                )\n",
       "              )\n",
       "              (drop_path): SwinDropPath(p=0.06521739065647125)\n",
       "              (layernorm_after): LayerNorm((768,), eps=1e-05, elementwise_affine=True)\n",
       "              (intermediate): SwinIntermediate(\n",
       "                (dense): Linear(in_features=768, out_features=3072, bias=True)\n",
       "                (intermediate_act_fn): GELUActivation()\n",
       "              )\n",
       "              (output): SwinOutput(\n",
       "                (dense): Linear(in_features=3072, out_features=768, bias=True)\n",
       "                (dropout): Dropout(p=0.0, inplace=False)\n",
       "              )\n",
       "            )\n",
       "            (12): SwinLayer(\n",
       "              (layernorm_before): LayerNorm((768,), eps=1e-05, elementwise_affine=True)\n",
       "              (attention): SwinAttention(\n",
       "                (self): SwinSelfAttention(\n",
       "                  (query): Linear(in_features=768, out_features=768, bias=True)\n",
       "                  (key): Linear(in_features=768, out_features=768, bias=True)\n",
       "                  (value): Linear(in_features=768, out_features=768, bias=True)\n",
       "                  (dropout): Dropout(p=0.0, inplace=False)\n",
       "                )\n",
       "                (output): SwinSelfOutput(\n",
       "                  (dense): Linear(in_features=768, out_features=768, bias=True)\n",
       "                  (dropout): Dropout(p=0.0, inplace=False)\n",
       "                )\n",
       "              )\n",
       "              (drop_path): SwinDropPath(p=0.06956521421670914)\n",
       "              (layernorm_after): LayerNorm((768,), eps=1e-05, elementwise_affine=True)\n",
       "              (intermediate): SwinIntermediate(\n",
       "                (dense): Linear(in_features=768, out_features=3072, bias=True)\n",
       "                (intermediate_act_fn): GELUActivation()\n",
       "              )\n",
       "              (output): SwinOutput(\n",
       "                (dense): Linear(in_features=3072, out_features=768, bias=True)\n",
       "                (dropout): Dropout(p=0.0, inplace=False)\n",
       "              )\n",
       "            )\n",
       "            (13): SwinLayer(\n",
       "              (layernorm_before): LayerNorm((768,), eps=1e-05, elementwise_affine=True)\n",
       "              (attention): SwinAttention(\n",
       "                (self): SwinSelfAttention(\n",
       "                  (query): Linear(in_features=768, out_features=768, bias=True)\n",
       "                  (key): Linear(in_features=768, out_features=768, bias=True)\n",
       "                  (value): Linear(in_features=768, out_features=768, bias=True)\n",
       "                  (dropout): Dropout(p=0.0, inplace=False)\n",
       "                )\n",
       "                (output): SwinSelfOutput(\n",
       "                  (dense): Linear(in_features=768, out_features=768, bias=True)\n",
       "                  (dropout): Dropout(p=0.0, inplace=False)\n",
       "                )\n",
       "              )\n",
       "              (drop_path): SwinDropPath(p=0.07391304522752762)\n",
       "              (layernorm_after): LayerNorm((768,), eps=1e-05, elementwise_affine=True)\n",
       "              (intermediate): SwinIntermediate(\n",
       "                (dense): Linear(in_features=768, out_features=3072, bias=True)\n",
       "                (intermediate_act_fn): GELUActivation()\n",
       "              )\n",
       "              (output): SwinOutput(\n",
       "                (dense): Linear(in_features=3072, out_features=768, bias=True)\n",
       "                (dropout): Dropout(p=0.0, inplace=False)\n",
       "              )\n",
       "            )\n",
       "            (14): SwinLayer(\n",
       "              (layernorm_before): LayerNorm((768,), eps=1e-05, elementwise_affine=True)\n",
       "              (attention): SwinAttention(\n",
       "                (self): SwinSelfAttention(\n",
       "                  (query): Linear(in_features=768, out_features=768, bias=True)\n",
       "                  (key): Linear(in_features=768, out_features=768, bias=True)\n",
       "                  (value): Linear(in_features=768, out_features=768, bias=True)\n",
       "                  (dropout): Dropout(p=0.0, inplace=False)\n",
       "                )\n",
       "                (output): SwinSelfOutput(\n",
       "                  (dense): Linear(in_features=768, out_features=768, bias=True)\n",
       "                  (dropout): Dropout(p=0.0, inplace=False)\n",
       "                )\n",
       "              )\n",
       "              (drop_path): SwinDropPath(p=0.0782608687877655)\n",
       "              (layernorm_after): LayerNorm((768,), eps=1e-05, elementwise_affine=True)\n",
       "              (intermediate): SwinIntermediate(\n",
       "                (dense): Linear(in_features=768, out_features=3072, bias=True)\n",
       "                (intermediate_act_fn): GELUActivation()\n",
       "              )\n",
       "              (output): SwinOutput(\n",
       "                (dense): Linear(in_features=3072, out_features=768, bias=True)\n",
       "                (dropout): Dropout(p=0.0, inplace=False)\n",
       "              )\n",
       "            )\n",
       "            (15): SwinLayer(\n",
       "              (layernorm_before): LayerNorm((768,), eps=1e-05, elementwise_affine=True)\n",
       "              (attention): SwinAttention(\n",
       "                (self): SwinSelfAttention(\n",
       "                  (query): Linear(in_features=768, out_features=768, bias=True)\n",
       "                  (key): Linear(in_features=768, out_features=768, bias=True)\n",
       "                  (value): Linear(in_features=768, out_features=768, bias=True)\n",
       "                  (dropout): Dropout(p=0.0, inplace=False)\n",
       "                )\n",
       "                (output): SwinSelfOutput(\n",
       "                  (dense): Linear(in_features=768, out_features=768, bias=True)\n",
       "                  (dropout): Dropout(p=0.0, inplace=False)\n",
       "                )\n",
       "              )\n",
       "              (drop_path): SwinDropPath(p=0.08260869979858398)\n",
       "              (layernorm_after): LayerNorm((768,), eps=1e-05, elementwise_affine=True)\n",
       "              (intermediate): SwinIntermediate(\n",
       "                (dense): Linear(in_features=768, out_features=3072, bias=True)\n",
       "                (intermediate_act_fn): GELUActivation()\n",
       "              )\n",
       "              (output): SwinOutput(\n",
       "                (dense): Linear(in_features=3072, out_features=768, bias=True)\n",
       "                (dropout): Dropout(p=0.0, inplace=False)\n",
       "              )\n",
       "            )\n",
       "            (16): SwinLayer(\n",
       "              (layernorm_before): LayerNorm((768,), eps=1e-05, elementwise_affine=True)\n",
       "              (attention): SwinAttention(\n",
       "                (self): SwinSelfAttention(\n",
       "                  (query): Linear(in_features=768, out_features=768, bias=True)\n",
       "                  (key): Linear(in_features=768, out_features=768, bias=True)\n",
       "                  (value): Linear(in_features=768, out_features=768, bias=True)\n",
       "                  (dropout): Dropout(p=0.0, inplace=False)\n",
       "                )\n",
       "                (output): SwinSelfOutput(\n",
       "                  (dense): Linear(in_features=768, out_features=768, bias=True)\n",
       "                  (dropout): Dropout(p=0.0, inplace=False)\n",
       "                )\n",
       "              )\n",
       "              (drop_path): SwinDropPath(p=0.08695652335882187)\n",
       "              (layernorm_after): LayerNorm((768,), eps=1e-05, elementwise_affine=True)\n",
       "              (intermediate): SwinIntermediate(\n",
       "                (dense): Linear(in_features=768, out_features=3072, bias=True)\n",
       "                (intermediate_act_fn): GELUActivation()\n",
       "              )\n",
       "              (output): SwinOutput(\n",
       "                (dense): Linear(in_features=3072, out_features=768, bias=True)\n",
       "                (dropout): Dropout(p=0.0, inplace=False)\n",
       "              )\n",
       "            )\n",
       "            (17): SwinLayer(\n",
       "              (layernorm_before): LayerNorm((768,), eps=1e-05, elementwise_affine=True)\n",
       "              (attention): SwinAttention(\n",
       "                (self): SwinSelfAttention(\n",
       "                  (query): Linear(in_features=768, out_features=768, bias=True)\n",
       "                  (key): Linear(in_features=768, out_features=768, bias=True)\n",
       "                  (value): Linear(in_features=768, out_features=768, bias=True)\n",
       "                  (dropout): Dropout(p=0.0, inplace=False)\n",
       "                )\n",
       "                (output): SwinSelfOutput(\n",
       "                  (dense): Linear(in_features=768, out_features=768, bias=True)\n",
       "                  (dropout): Dropout(p=0.0, inplace=False)\n",
       "                )\n",
       "              )\n",
       "              (drop_path): SwinDropPath(p=0.09130434691905975)\n",
       "              (layernorm_after): LayerNorm((768,), eps=1e-05, elementwise_affine=True)\n",
       "              (intermediate): SwinIntermediate(\n",
       "                (dense): Linear(in_features=768, out_features=3072, bias=True)\n",
       "                (intermediate_act_fn): GELUActivation()\n",
       "              )\n",
       "              (output): SwinOutput(\n",
       "                (dense): Linear(in_features=3072, out_features=768, bias=True)\n",
       "                (dropout): Dropout(p=0.0, inplace=False)\n",
       "              )\n",
       "            )\n",
       "          )\n",
       "          (downsample): SwinPatchMerging(\n",
       "            (reduction): Linear(in_features=3072, out_features=1536, bias=False)\n",
       "            (norm): LayerNorm((3072,), eps=1e-05, elementwise_affine=True)\n",
       "          )\n",
       "        )\n",
       "        (3): SwinStage(\n",
       "          (blocks): ModuleList(\n",
       "            (0): SwinLayer(\n",
       "              (layernorm_before): LayerNorm((1536,), eps=1e-05, elementwise_affine=True)\n",
       "              (attention): SwinAttention(\n",
       "                (self): SwinSelfAttention(\n",
       "                  (query): Linear(in_features=1536, out_features=1536, bias=True)\n",
       "                  (key): Linear(in_features=1536, out_features=1536, bias=True)\n",
       "                  (value): Linear(in_features=1536, out_features=1536, bias=True)\n",
       "                  (dropout): Dropout(p=0.0, inplace=False)\n",
       "                )\n",
       "                (output): SwinSelfOutput(\n",
       "                  (dense): Linear(in_features=1536, out_features=1536, bias=True)\n",
       "                  (dropout): Dropout(p=0.0, inplace=False)\n",
       "                )\n",
       "              )\n",
       "              (drop_path): SwinDropPath(p=0.09565217792987823)\n",
       "              (layernorm_after): LayerNorm((1536,), eps=1e-05, elementwise_affine=True)\n",
       "              (intermediate): SwinIntermediate(\n",
       "                (dense): Linear(in_features=1536, out_features=6144, bias=True)\n",
       "                (intermediate_act_fn): GELUActivation()\n",
       "              )\n",
       "              (output): SwinOutput(\n",
       "                (dense): Linear(in_features=6144, out_features=1536, bias=True)\n",
       "                (dropout): Dropout(p=0.0, inplace=False)\n",
       "              )\n",
       "            )\n",
       "            (1): SwinLayer(\n",
       "              (layernorm_before): LayerNorm((1536,), eps=1e-05, elementwise_affine=True)\n",
       "              (attention): SwinAttention(\n",
       "                (self): SwinSelfAttention(\n",
       "                  (query): Linear(in_features=1536, out_features=1536, bias=True)\n",
       "                  (key): Linear(in_features=1536, out_features=1536, bias=True)\n",
       "                  (value): Linear(in_features=1536, out_features=1536, bias=True)\n",
       "                  (dropout): Dropout(p=0.0, inplace=False)\n",
       "                )\n",
       "                (output): SwinSelfOutput(\n",
       "                  (dense): Linear(in_features=1536, out_features=1536, bias=True)\n",
       "                  (dropout): Dropout(p=0.0, inplace=False)\n",
       "                )\n",
       "              )\n",
       "              (drop_path): SwinDropPath(p=0.10000000149011612)\n",
       "              (layernorm_after): LayerNorm((1536,), eps=1e-05, elementwise_affine=True)\n",
       "              (intermediate): SwinIntermediate(\n",
       "                (dense): Linear(in_features=1536, out_features=6144, bias=True)\n",
       "                (intermediate_act_fn): GELUActivation()\n",
       "              )\n",
       "              (output): SwinOutput(\n",
       "                (dense): Linear(in_features=6144, out_features=1536, bias=True)\n",
       "                (dropout): Dropout(p=0.0, inplace=False)\n",
       "              )\n",
       "            )\n",
       "          )\n",
       "        )\n",
       "      )\n",
       "    )\n",
       "    (layernorm): LayerNorm((1536,), eps=1e-05, elementwise_affine=True)\n",
       "    (pooler): AdaptiveAvgPool1d(output_size=1)\n",
       "  )\n",
       "  (classifier): Sequential(\n",
       "    (0): Dropout(p=0.3, inplace=False)\n",
       "    (1): Linear(in_features=1536, out_features=768, bias=True)\n",
       "    (2): BatchNorm1d(768, eps=1e-05, momentum=0.1, affine=True, track_running_stats=True)\n",
       "    (3): ReLU(inplace=True)\n",
       "    (4): Dropout(p=0.0, inplace=False)\n",
       "    (5): Linear(in_features=768, out_features=384, bias=True)\n",
       "    (6): BatchNorm1d(384, eps=1e-05, momentum=0.1, affine=True, track_running_stats=True)\n",
       "    (7): ReLU(inplace=True)\n",
       "    (8): Dropout(p=0.0, inplace=False)\n",
       "    (9): Linear(in_features=384, out_features=8, bias=True)\n",
       "  )\n",
       ")"
      ]
     },
     "execution_count": 23,
     "metadata": {},
     "output_type": "execute_result"
    }
   ],
   "source": [
    "# Initializing the model\n",
    "model = OptimizedSwinClassifier(num_classes=NUM_CLASSES)\n",
    "model.to(device)"
   ]
  },
  {
   "cell_type": "code",
   "execution_count": 24,
   "metadata": {
    "execution": {
     "iopub.execute_input": "2025-06-05T01:34:54.534264Z",
     "iopub.status.busy": "2025-06-05T01:34:54.533729Z",
     "iopub.status.idle": "2025-06-05T01:34:54.540417Z",
     "shell.execute_reply": "2025-06-05T01:34:54.539260Z",
     "shell.execute_reply.started": "2025-06-05T01:34:54.534226Z"
    },
    "trusted": true
   },
   "outputs": [],
   "source": [
    "# loss function with class weights\n",
    "class_weights_tensor = torch.FloatTensor(list(class_weights_dict.values())).to(device)\n",
    "criterion = nn.CrossEntropyLoss(weight=class_weights_tensor, label_smoothing=0.1)"
   ]
  },
  {
   "cell_type": "code",
   "execution_count": 25,
   "metadata": {
    "execution": {
     "iopub.execute_input": "2025-06-05T01:34:54.542089Z",
     "iopub.status.busy": "2025-06-05T01:34:54.541513Z",
     "iopub.status.idle": "2025-06-05T01:34:54.568252Z",
     "shell.execute_reply": "2025-06-05T01:34:54.567062Z",
     "shell.execute_reply.started": "2025-06-05T01:34:54.542056Z"
    },
    "trusted": true
   },
   "outputs": [],
   "source": [
    "# Optimized optimizer and scheduler\n",
    "optimizer = AdamW(\n",
    "    model.parameters(), \n",
    "    lr=1e-4,\n",
    "    weight_decay=0.01,\n",
    "    eps=1e-8\n",
    ")"
   ]
  },
  {
   "cell_type": "code",
   "execution_count": 26,
   "metadata": {
    "execution": {
     "iopub.execute_input": "2025-06-05T01:34:54.571836Z",
     "iopub.status.busy": "2025-06-05T01:34:54.571337Z",
     "iopub.status.idle": "2025-06-05T01:34:54.587621Z",
     "shell.execute_reply": "2025-06-05T01:34:54.586239Z",
     "shell.execute_reply.started": "2025-06-05T01:34:54.571809Z"
    },
    "trusted": true
   },
   "outputs": [],
   "source": [
    "# OneCycleLR for better convergence\n",
    "num_epochs = 15\n",
    "steps_per_epoch = len(train_loader)\n",
    "scheduler = OneCycleLR(\n",
    "    optimizer,\n",
    "    max_lr=1e-4,\n",
    "    epochs=num_epochs,\n",
    "    steps_per_epoch=steps_per_epoch,\n",
    "    pct_start=0.3,\n",
    "    anneal_strategy='cos'\n",
    ")"
   ]
  },
  {
   "cell_type": "code",
   "execution_count": 27,
   "metadata": {
    "execution": {
     "iopub.execute_input": "2025-06-05T01:34:54.589528Z",
     "iopub.status.busy": "2025-06-05T01:34:54.589190Z",
     "iopub.status.idle": "2025-06-05T01:34:54.611615Z",
     "shell.execute_reply": "2025-06-05T01:34:54.610313Z",
     "shell.execute_reply.started": "2025-06-05T01:34:54.589503Z"
    },
    "trusted": true
   },
   "outputs": [],
   "source": [
    "# Training function with a mixed precision\n",
    "scaler = torch.cuda.amp.GradScaler() if device.type == 'cuda' else None"
   ]
  },
  {
   "cell_type": "code",
   "execution_count": 28,
   "metadata": {
    "execution": {
     "iopub.execute_input": "2025-06-05T01:34:54.613577Z",
     "iopub.status.busy": "2025-06-05T01:34:54.613211Z",
     "iopub.status.idle": "2025-06-05T01:34:54.635111Z",
     "shell.execute_reply": "2025-06-05T01:34:54.633932Z",
     "shell.execute_reply.started": "2025-06-05T01:34:54.613538Z"
    },
    "trusted": true
   },
   "outputs": [],
   "source": [
    "def train_one_epoch(model, dataloader, criterion, optimizer, scheduler, device, scaler=None):\n",
    "    model.train()\n",
    "    running_loss = 0.0\n",
    "    correct = 0\n",
    "    total = 0\n",
    "    \n",
    "    progress_bar = tqdm(dataloader, desc=\"Training\", leave=False)\n",
    "    \n",
    "    for batch in progress_bar:\n",
    "        pixel_values = batch['pixel_values'].to(device, non_blocking=True)\n",
    "        labels = batch['label'].to(device, non_blocking=True)\n",
    "        \n",
    "        optimizer.zero_grad()\n",
    "        \n",
    "        if scaler and device.type == 'cuda':\n",
    "            with torch.cuda.amp.autocast():\n",
    "                logits = model(pixel_values)\n",
    "                loss = criterion(logits, labels)\n",
    "            \n",
    "            scaler.scale(loss).backward()\n",
    "            scaler.step(optimizer)\n",
    "            scaler.update()\n",
    "        else:\n",
    "            logits = model(pixel_values)\n",
    "            loss = criterion(logits, labels)\n",
    "            loss.backward()\n",
    "            optimizer.step()\n",
    "        \n",
    "        scheduler.step()\n",
    "        \n",
    "        running_loss += loss.item()\n",
    "        _, predicted = torch.max(logits, 1)\n",
    "        total += labels.size(0)\n",
    "        correct += (predicted == labels).sum().item()\n",
    "        \n",
    "        progress_bar.set_postfix(\n",
    "            loss=f\"{running_loss/(progress_bar.n+1):.4f}\",\n",
    "            acc=f\"{correct/total:.4f}\",\n",
    "            lr=f\"{scheduler.get_last_lr()[0]:.2e}\"\n",
    "        )\n",
    "    \n",
    "    epoch_loss = running_loss / len(dataloader)\n",
    "    epoch_acc = correct / total\n",
    "    \n",
    "    return epoch_loss, epoch_acc"
   ]
  },
  {
   "cell_type": "code",
   "execution_count": 29,
   "metadata": {
    "execution": {
     "iopub.execute_input": "2025-06-05T01:34:54.637873Z",
     "iopub.status.busy": "2025-06-05T01:34:54.636855Z",
     "iopub.status.idle": "2025-06-05T01:34:54.662723Z",
     "shell.execute_reply": "2025-06-05T01:34:54.661593Z",
     "shell.execute_reply.started": "2025-06-05T01:34:54.637782Z"
    },
    "trusted": true
   },
   "outputs": [],
   "source": [
    "def validate(model, dataloader, criterion, device):\n",
    "    model.eval()\n",
    "    val_loss = 0.0\n",
    "    correct = 0\n",
    "    total = 0\n",
    "    all_preds = []\n",
    "    all_labels = []\n",
    "    \n",
    "    with torch.no_grad():\n",
    "        for batch in tqdm(dataloader, desc=\"Validation\", leave=False):\n",
    "            pixel_values = batch['pixel_values'].to(device, non_blocking=True)\n",
    "            labels = batch['label'].to(device, non_blocking=True)\n",
    "            \n",
    "            if scaler and device.type == 'cuda':\n",
    "                with torch.cuda.amp.autocast():\n",
    "                    logits = model(pixel_values)\n",
    "                    loss = criterion(logits, labels)\n",
    "            else:\n",
    "                logits = model(pixel_values)\n",
    "                loss = criterion(logits, labels)\n",
    "            \n",
    "            val_loss += loss.item()\n",
    "            _, predicted = torch.max(logits, 1)\n",
    "            total += labels.size(0)\n",
    "            correct += (predicted == labels).sum().item()\n",
    "            \n",
    "            all_preds.extend(predicted.cpu().numpy())\n",
    "            all_labels.extend(labels.cpu().numpy())\n",
    "    \n",
    "    val_loss = val_loss / len(dataloader)\n",
    "    val_acc = correct / total\n",
    "    \n",
    "    return val_loss, val_acc, all_preds, all_labels"
   ]
  },
  {
   "cell_type": "code",
   "execution_count": 30,
   "metadata": {
    "execution": {
     "iopub.execute_input": "2025-06-05T01:34:56.383142Z",
     "iopub.status.busy": "2025-06-05T01:34:56.382223Z",
     "iopub.status.idle": "2025-06-05T01:34:56.397670Z",
     "shell.execute_reply": "2025-06-05T01:34:56.396501Z",
     "shell.execute_reply.started": "2025-06-05T01:34:56.383113Z"
    },
    "trusted": true
   },
   "outputs": [
    {
     "name": "stdout",
     "output_type": "stream",
     "text": [
      "Starting optimized training...\n"
     ]
    }
   ],
   "source": [
    "# Training loop\n",
    "print(\"Starting optimized training...\")\n",
    "train_losses = []\n",
    "train_accs = []\n",
    "val_losses = []\n",
    "val_accs = []\n",
    "\n",
    "best_val_acc = 0.0\n",
    "patience = 5\n",
    "patience_counter = 0"
   ]
  },
  {
   "cell_type": "code",
   "execution_count": 31,
   "metadata": {
    "execution": {
     "iopub.execute_input": "2025-06-05T01:34:57.735534Z",
     "iopub.status.busy": "2025-06-05T01:34:57.735209Z",
     "iopub.status.idle": "2025-06-05T01:34:57.740507Z",
     "shell.execute_reply": "2025-06-05T01:34:57.739330Z",
     "shell.execute_reply.started": "2025-06-05T01:34:57.735513Z"
    },
    "trusted": true
   },
   "outputs": [],
   "source": [
    "torch.cuda.empty_cache()"
   ]
  },
  {
   "cell_type": "code",
   "execution_count": 32,
   "metadata": {
    "execution": {
     "iopub.execute_input": "2025-06-05T01:34:58.133429Z",
     "iopub.status.busy": "2025-06-05T01:34:58.132014Z",
     "iopub.status.idle": "2025-06-05T01:34:58.140331Z",
     "shell.execute_reply": "2025-06-05T01:34:58.138591Z",
     "shell.execute_reply.started": "2025-06-05T01:34:58.133386Z"
    },
    "trusted": true
   },
   "outputs": [],
   "source": [
    "def cleanup_old_checkpoints(file_path):\n",
    "    if os.path.isfile(file_path) and file_path.endswith('.pth'):\n",
    "        try:\n",
    "            os.remove(file_path)\n",
    "            print(f\"Removed old checkpoint: {file_path}\")\n",
    "        except Exception as e:\n",
    "            print(f\"Error removing {file_path}: {e}\")\n",
    "    else:\n",
    "        print(f\"File does not exist or is not a .pth file: {file_path}\")"
   ]
  },
  {
   "cell_type": "code",
   "execution_count": 33,
   "metadata": {
    "execution": {
     "iopub.execute_input": "2025-06-05T01:34:59.467931Z",
     "iopub.status.busy": "2025-06-05T01:34:59.467631Z",
     "iopub.status.idle": "2025-06-05T06:48:47.475842Z",
     "shell.execute_reply": "2025-06-05T06:48:47.474931Z",
     "shell.execute_reply.started": "2025-06-05T01:34:59.467911Z"
    },
    "trusted": true
   },
   "outputs": [
    {
     "name": "stdout",
     "output_type": "stream",
     "text": [
      "\n",
      "Epoch 1/15\n"
     ]
    },
    {
     "name": "stderr",
     "output_type": "stream",
     "text": [
      "                                                                                                 \r"
     ]
    },
    {
     "name": "stdout",
     "output_type": "stream",
     "text": [
      "Train Loss: 1.3886, Train Acc: 0.5556\n",
      "Val Loss: 0.9989, Val Acc: 0.7447\n",
      "Removed old checkpoint: best_optimized_swin_model2.pth\n",
      "New best model saved with validation accuracy: 0.7447\n",
      "\n",
      "Epoch 2/15\n"
     ]
    },
    {
     "name": "stderr",
     "output_type": "stream",
     "text": [
      "                                                                                                 \r"
     ]
    },
    {
     "name": "stdout",
     "output_type": "stream",
     "text": [
      "Train Loss: 0.8288, Train Acc: 0.8182\n",
      "Val Loss: 0.8824, Val Acc: 0.7899\n",
      "Removed old checkpoint: best_optimized_swin_model2.pth\n",
      "New best model saved with validation accuracy: 0.7899\n",
      "\n",
      "Epoch 3/15\n"
     ]
    },
    {
     "name": "stderr",
     "output_type": "stream",
     "text": [
      "                                                                                                 \r"
     ]
    },
    {
     "name": "stdout",
     "output_type": "stream",
     "text": [
      "Train Loss: 0.6896, Train Acc: 0.8849\n",
      "Val Loss: 0.7696, Val Acc: 0.8482\n",
      "Removed old checkpoint: best_optimized_swin_model2.pth\n",
      "New best model saved with validation accuracy: 0.8482\n",
      "\n",
      "Epoch 4/15\n"
     ]
    },
    {
     "name": "stderr",
     "output_type": "stream",
     "text": [
      "                                                                                                 \r"
     ]
    },
    {
     "name": "stdout",
     "output_type": "stream",
     "text": [
      "Train Loss: 0.6355, Train Acc: 0.9113\n",
      "Val Loss: 0.7620, Val Acc: 0.8557\n",
      "Removed old checkpoint: best_optimized_swin_model2.pth\n",
      "New best model saved with validation accuracy: 0.8557\n",
      "\n",
      "Epoch 5/15\n"
     ]
    },
    {
     "name": "stderr",
     "output_type": "stream",
     "text": [
      "                                                                                                 \r"
     ]
    },
    {
     "name": "stdout",
     "output_type": "stream",
     "text": [
      "Train Loss: 0.6047, Train Acc: 0.9233\n",
      "Val Loss: 0.7247, Val Acc: 0.8833\n",
      "Removed old checkpoint: best_optimized_swin_model2.pth\n",
      "New best model saved with validation accuracy: 0.8833\n",
      "\n",
      "Epoch 6/15\n"
     ]
    },
    {
     "name": "stderr",
     "output_type": "stream",
     "text": [
      "                                                                                                 \r"
     ]
    },
    {
     "name": "stdout",
     "output_type": "stream",
     "text": [
      "Train Loss: 0.5738, Train Acc: 0.9425\n",
      "Val Loss: 0.7428, Val Acc: 0.8878\n",
      "Removed old checkpoint: best_optimized_swin_model2.pth\n",
      "New best model saved with validation accuracy: 0.8878\n",
      "\n",
      "Epoch 7/15\n"
     ]
    },
    {
     "name": "stderr",
     "output_type": "stream",
     "text": [
      "                                                                                                 \r"
     ]
    },
    {
     "name": "stdout",
     "output_type": "stream",
     "text": [
      "Train Loss: 0.5592, Train Acc: 0.9483\n",
      "Val Loss: 0.7852, Val Acc: 0.8298\n",
      "\n",
      "Epoch 8/15\n"
     ]
    },
    {
     "name": "stderr",
     "output_type": "stream",
     "text": [
      "                                                                                                 \r"
     ]
    },
    {
     "name": "stdout",
     "output_type": "stream",
     "text": [
      "Train Loss: 0.5352, Train Acc: 0.9631\n",
      "Val Loss: 0.7418, Val Acc: 0.8908\n",
      "Removed old checkpoint: best_optimized_swin_model2.pth\n",
      "New best model saved with validation accuracy: 0.8908\n",
      "\n",
      "Epoch 9/15\n"
     ]
    },
    {
     "name": "stderr",
     "output_type": "stream",
     "text": [
      "                                                                                                 \r"
     ]
    },
    {
     "name": "stdout",
     "output_type": "stream",
     "text": [
      "Train Loss: 0.5173, Train Acc: 0.9708\n",
      "Val Loss: 0.7128, Val Acc: 0.9098\n",
      "Removed old checkpoint: best_optimized_swin_model2.pth\n",
      "New best model saved with validation accuracy: 0.9098\n",
      "\n",
      "Epoch 10/15\n"
     ]
    },
    {
     "name": "stderr",
     "output_type": "stream",
     "text": [
      "                                                                                                 \r"
     ]
    },
    {
     "name": "stdout",
     "output_type": "stream",
     "text": [
      "Train Loss: 0.5037, Train Acc: 0.9770\n",
      "Val Loss: 0.7106, Val Acc: 0.9008\n",
      "\n",
      "Epoch 11/15\n"
     ]
    },
    {
     "name": "stderr",
     "output_type": "stream",
     "text": [
      "                                                                                                 \r"
     ]
    },
    {
     "name": "stdout",
     "output_type": "stream",
     "text": [
      "Train Loss: 0.4934, Train Acc: 0.9833\n",
      "Val Loss: 0.6809, Val Acc: 0.9223\n",
      "Removed old checkpoint: best_optimized_swin_model2.pth\n",
      "New best model saved with validation accuracy: 0.9223\n",
      "\n",
      "Epoch 12/15\n"
     ]
    },
    {
     "name": "stderr",
     "output_type": "stream",
     "text": [
      "                                                                                                 \r"
     ]
    },
    {
     "name": "stdout",
     "output_type": "stream",
     "text": [
      "Train Loss: 0.4882, Train Acc: 0.9861\n",
      "Val Loss: 0.6931, Val Acc: 0.9239\n",
      "Removed old checkpoint: best_optimized_swin_model2.pth\n",
      "New best model saved with validation accuracy: 0.9239\n",
      "\n",
      "Epoch 13/15\n"
     ]
    },
    {
     "name": "stderr",
     "output_type": "stream",
     "text": [
      "                                                                                                 \r"
     ]
    },
    {
     "name": "stdout",
     "output_type": "stream",
     "text": [
      "Train Loss: 0.4850, Train Acc: 0.9870\n",
      "Val Loss: 0.7099, Val Acc: 0.9205\n",
      "\n",
      "Epoch 14/15\n"
     ]
    },
    {
     "name": "stderr",
     "output_type": "stream",
     "text": [
      "                                                                                                 \r"
     ]
    },
    {
     "name": "stdout",
     "output_type": "stream",
     "text": [
      "Train Loss: 0.4825, Train Acc: 0.9884\n",
      "Val Loss: 0.6976, Val Acc: 0.9262\n",
      "Removed old checkpoint: best_optimized_swin_model2.pth\n",
      "New best model saved with validation accuracy: 0.9262\n",
      "\n",
      "Epoch 15/15\n"
     ]
    },
    {
     "name": "stderr",
     "output_type": "stream",
     "text": [
      "                                                                                                 \r"
     ]
    },
    {
     "name": "stdout",
     "output_type": "stream",
     "text": [
      "Train Loss: 0.4821, Train Acc: 0.9876\n",
      "Val Loss: 0.6918, Val Acc: 0.9263\n",
      "Removed old checkpoint: best_optimized_swin_model2.pth\n",
      "New best model saved with validation accuracy: 0.9263\n"
     ]
    }
   ],
   "source": [
    "for epoch in range(num_epochs):\n",
    "    print(f\"\\nEpoch {epoch+1}/{num_epochs}\")\n",
    "    \n",
    "    # Train\n",
    "    train_loss, train_acc = train_one_epoch(model, train_loader, criterion, optimizer, scheduler, device, scaler)\n",
    "    train_losses.append(train_loss)\n",
    "    train_accs.append(train_acc)\n",
    "    \n",
    "    # Validate\n",
    "    val_loss, val_acc, val_preds, val_labels = validate(model, valid_loader, criterion, device)\n",
    "    val_losses.append(val_loss)\n",
    "    val_accs.append(val_acc)\n",
    "    \n",
    "    print(f\"Train Loss: {train_loss:.4f}, Train Acc: {train_acc:.4f}\")\n",
    "    print(f\"Val Loss: {val_loss:.4f}, Val Acc: {val_acc:.4f}\")\n",
    "    \n",
    "    # Save best model\n",
    "    if val_acc > best_val_acc:\n",
    "        best_val_acc = val_acc\n",
    "        patience_counter = 0\n",
    "        if 'some_large_tensor' in locals():\n",
    "            del some_large_tensor\n",
    "            gc.collect()\n",
    "            torch.cuda.empty_cache()\n",
    "        torch.cuda.empty_cache()\n",
    "        cleanup_old_checkpoints('best_optimized_swin_model2.pth')\n",
    "        torch.save(model.state_dict(), 'best_optimized_swin_model2.pth')\n",
    "        print(f\"New best model saved with validation accuracy: {val_acc:.4f}\")\n",
    "    else:\n",
    "        patience_counter += 1\n",
    "        torch.cuda.empty_cache()\n",
    "    \n",
    "    # Early stopping\n",
    "    if patience_counter >= patience:\n",
    "        print(f\"Early stopping triggered after {epoch+1} epochs!\")\n",
    "        break"
   ]
  },
  {
   "cell_type": "code",
   "execution_count": 34,
   "metadata": {
    "execution": {
     "iopub.execute_input": "2025-06-05T06:48:47.477834Z",
     "iopub.status.busy": "2025-06-05T06:48:47.477585Z",
     "iopub.status.idle": "2025-06-05T06:48:48.187091Z",
     "shell.execute_reply": "2025-06-05T06:48:48.186506Z",
     "shell.execute_reply.started": "2025-06-05T06:48:47.477812Z"
    },
    "trusted": true
   },
   "outputs": [
    {
     "name": "stdout",
     "output_type": "stream",
     "text": [
      "Loaded best model with validation accuracy: 0.9263\n"
     ]
    }
   ],
   "source": [
    "# Loading the best model for evaluation\n",
    "model.load_state_dict(torch.load('best_optimized_swin_model2.pth'))\n",
    "print(f\"Loaded best model with validation accuracy: {best_val_acc:.4f}\")"
   ]
  },
  {
   "cell_type": "code",
   "execution_count": 35,
   "metadata": {
    "execution": {
     "iopub.execute_input": "2025-06-05T06:48:48.187889Z",
     "iopub.status.busy": "2025-06-05T06:48:48.187713Z",
     "iopub.status.idle": "2025-06-05T06:49:20.306171Z",
     "shell.execute_reply": "2025-06-05T06:49:20.305234Z",
     "shell.execute_reply.started": "2025-06-05T06:48:48.187876Z"
    },
    "trusted": true
   },
   "outputs": [
    {
     "name": "stderr",
     "output_type": "stream",
     "text": [
      "                                                           "
     ]
    },
    {
     "name": "stdout",
     "output_type": "stream",
     "text": [
      "\n",
      "Final Test Accuracy: 0.8696\n"
     ]
    },
    {
     "name": "stderr",
     "output_type": "stream",
     "text": [
      "\r"
     ]
    }
   ],
   "source": [
    "# Test accuracy\n",
    "test_loss, test_acc, test_preds, test_labels = validate(model, test_loader, criterion, device)\n",
    "print(f\"\\nFinal Test Accuracy: {test_acc:.4f}\")"
   ]
  },
  {
   "cell_type": "code",
   "execution_count": 36,
   "metadata": {
    "execution": {
     "iopub.execute_input": "2025-06-05T06:49:20.308296Z",
     "iopub.status.busy": "2025-06-05T06:49:20.308055Z",
     "iopub.status.idle": "2025-06-05T06:49:20.327875Z",
     "shell.execute_reply": "2025-06-05T06:49:20.327320Z",
     "shell.execute_reply.started": "2025-06-05T06:49:20.308274Z"
    },
    "trusted": true
   },
   "outputs": [
    {
     "name": "stdout",
     "output_type": "stream",
     "text": [
      "\n",
      "Classification Report:\n",
      "                         precision    recall  f1-score   support\n",
      "\n",
      "      Actinic_keratosis       0.70      0.66      0.68       125\n",
      "   Basal_cell_carcinoma       0.89      0.93      0.91       301\n",
      "       Benign_keratosis       0.86      0.78      0.81       241\n",
      "         Dermatofibroma       0.94      0.85      0.89        34\n",
      "      Melanocytic_nevus       0.90      0.95      0.92      1071\n",
      "               Melanoma       0.87      0.78      0.82       422\n",
      "Squamous_cell_carcinoma       0.57      0.52      0.54        71\n",
      "        Vascular_lesion       0.96      0.96      0.96        28\n",
      "\n",
      "               accuracy                           0.87      2293\n",
      "              macro avg       0.84      0.81      0.82      2293\n",
      "           weighted avg       0.87      0.87      0.87      2293\n",
      "\n"
     ]
    }
   ],
   "source": [
    "# Classification report\n",
    "print(\"\\nClassification Report:\")\n",
    "report = classification_report(test_labels, test_preds, target_names=unique_classes)\n",
    "print(report)"
   ]
  },
  {
   "cell_type": "code",
   "execution_count": 37,
   "metadata": {
    "execution": {
     "iopub.execute_input": "2025-06-05T06:49:20.328718Z",
     "iopub.status.busy": "2025-06-05T06:49:20.328526Z",
     "iopub.status.idle": "2025-06-05T06:49:21.132136Z",
     "shell.execute_reply": "2025-06-05T06:49:21.131329Z",
     "shell.execute_reply.started": "2025-06-05T06:49:20.328693Z"
    },
    "trusted": true
   },
   "outputs": [
    {
     "data": {
      "text/plain": [
       "<Figure size 1200x1000 with 0 Axes>"
      ]
     },
     "metadata": {},
     "output_type": "display_data"
    },
    {
     "data": {
      "image/png": "[encoded data removed]",
      "text/plain": [
       "<Figure size 640x480 with 2 Axes>"
      ]
     },
     "metadata": {},
     "output_type": "display_data"
    }
   ],
   "source": [
    "# Confusion matrix\n",
    "plt.figure(figsize=(12, 10))\n",
    "cm = confusion_matrix(test_labels, test_preds)\n",
    "disp = ConfusionMatrixDisplay(confusion_matrix=cm, display_labels=unique_classes)\n",
    "disp.plot(cmap=plt.cm.Blues, xticks_rotation=45)\n",
    "plt.title('Test Confusion Matrix - Optimized Model')\n",
    "plt.tight_layout()\n",
    "plt.savefig('optimized_confusion_matrix.png', dpi=300, bbox_inches='tight')\n",
    "plt.show()"
   ]
  },
  {
   "cell_type": "code",
   "execution_count": 38,
   "metadata": {
    "execution": {
     "iopub.execute_input": "2025-06-05T06:49:21.133701Z",
     "iopub.status.busy": "2025-06-05T06:49:21.132994Z",
     "iopub.status.idle": "2025-06-05T06:49:22.497890Z",
     "shell.execute_reply": "2025-06-05T06:49:22.497206Z",
     "shell.execute_reply.started": "2025-06-05T06:49:21.133683Z"
    },
    "trusted": true
   },
   "outputs": [
    {
     "data": {
      "image/png": "[encoded data removed]",
      "text/plain": [
       "<Figure size 1500x500 with 3 Axes>"
      ]
     },
     "metadata": {},
     "output_type": "display_data"
    }
   ],
   "source": [
    "# Learning curves\n",
    "plt.figure(figsize=(15, 5))\n",
    "\n",
    "plt.subplot(1, 3, 1)\n",
    "plt.plot(range(1, len(train_losses)+1), train_losses, 'b-', label='Training Loss', linewidth=2)\n",
    "plt.plot(range(1, len(val_losses)+1), val_losses, 'r-', label='Validation Loss', linewidth=2)\n",
    "plt.xlabel('Epochs')\n",
    "plt.ylabel('Loss')\n",
    "plt.title('Training and Validation Loss')\n",
    "plt.legend()\n",
    "plt.grid(True, alpha=0.3)\n",
    "\n",
    "plt.subplot(1, 3, 2)\n",
    "plt.plot(range(1, len(train_accs)+1), train_accs, 'b-', label='Training Accuracy', linewidth=2)\n",
    "plt.plot(range(1, len(val_accs)+1), val_accs, 'r-', label='Validation Accuracy', linewidth=2)\n",
    "plt.xlabel('Epochs')\n",
    "plt.ylabel('Accuracy')\n",
    "plt.title('Training and Validation Accuracy')\n",
    "plt.legend()\n",
    "plt.grid(True, alpha=0.3)\n",
    "\n",
    "plt.subplot(1, 3, 3)\n",
    "plt.bar(range(len(class_weights)), class_weights, alpha=0.7)\n",
    "plt.xlabel('Class Index')\n",
    "plt.ylabel('Class Weight')\n",
    "plt.title('Class Weights for Imbalanced Data')\n",
    "plt.xticks(range(len(unique_classes)), [cls[:10] for cls in unique_classes], rotation=45)\n",
    "plt.grid(True, alpha=0.3)\n",
    "\n",
    "plt.tight_layout()\n",
    "plt.savefig('optimized_learning_curves.png', dpi=300, bbox_inches='tight')\n",
    "plt.show()"
   ]
  },
  {
   "cell_type": "code",
   "execution_count": 39,
   "metadata": {
    "execution": {
     "iopub.execute_input": "2025-06-05T06:49:22.499123Z",
     "iopub.status.busy": "2025-06-05T06:49:22.498844Z",
     "iopub.status.idle": "2025-06-05T06:49:23.653638Z",
     "shell.execute_reply": "2025-06-05T06:49:23.652998Z",
     "shell.execute_reply.started": "2025-06-05T06:49:22.499099Z"
    },
    "trusted": true
   },
   "outputs": [
    {
     "name": "stdout",
     "output_type": "stream",
     "text": [
      "Final optimized model saved!\n"
     ]
    }
   ],
   "source": [
    "# Saving the final model\n",
    "torch.save(model.state_dict(), 'final_optimized_swin_model3.pth')\n",
    "print(\"Final optimized model saved!\")"
   ]
  },
  {
   "cell_type": "markdown",
   "metadata": {},
   "source": [
    "# **Balanced Accuracy**"
   ]
  },
  {
   "cell_type": "code",
   "execution_count": 40,
   "metadata": {
    "execution": {
     "iopub.execute_input": "2025-06-05T06:49:23.654594Z",
     "iopub.status.busy": "2025-06-05T06:49:23.654325Z",
     "iopub.status.idle": "2025-06-05T06:49:23.658499Z",
     "shell.execute_reply": "2025-06-05T06:49:23.657869Z",
     "shell.execute_reply.started": "2025-06-05T06:49:23.654577Z"
    },
    "trusted": true
   },
   "outputs": [],
   "source": [
    "from sklearn.metrics import balanced_accuracy_score"
   ]
  },
  {
   "cell_type": "code",
   "execution_count": 41,
   "metadata": {
    "execution": {
     "iopub.execute_input": "2025-06-05T06:49:23.659911Z",
     "iopub.status.busy": "2025-06-05T06:49:23.659223Z",
     "iopub.status.idle": "2025-06-05T06:49:23.682162Z",
     "shell.execute_reply": "2025-06-05T06:49:23.681429Z",
     "shell.execute_reply.started": "2025-06-05T06:49:23.659887Z"
    },
    "trusted": true
   },
   "outputs": [
    {
     "name": "stdout",
     "output_type": "stream",
     "text": [
      "Val Loss: 0.6918, Val Acc: 0.9263\n",
      "\n",
      "\n",
      "Balanced Accuracy Rate: 0.9248\n"
     ]
    }
   ],
   "source": [
    "print(f\"Val Loss: {val_loss:.4f}, Val Acc: {val_acc:.4f}\")\n",
    "balanced_acc = balanced_accuracy_score(val_labels, val_preds)\n",
    "print(\"\\n\")\n",
    "print(f\"Balanced Accuracy Rate: {balanced_acc:.4f}\")"
   ]
  },
  {
   "cell_type": "markdown",
   "metadata": {},
   "source": [
    "# **Feature Extraction**"
   ]
  },
  {
   "cell_type": "code",
   "execution_count": 48,
   "metadata": {
    "execution": {
     "iopub.execute_input": "2025-06-05T07:08:54.480300Z",
     "iopub.status.busy": "2025-06-05T07:08:54.479478Z",
     "iopub.status.idle": "2025-06-05T07:08:54.484531Z",
     "shell.execute_reply": "2025-06-05T07:08:54.483948Z",
     "shell.execute_reply.started": "2025-06-05T07:08:54.480275Z"
    },
    "trusted": true
   },
   "outputs": [],
   "source": [
    "import os\n",
    "import numpy as np\n",
    "import pandas as pd\n",
    "import torch\n",
    "from torch import nn\n",
    "from torch.utils.data import Dataset, DataLoader\n",
    "from torchvision import transforms\n",
    "from PIL import Image\n",
    "from tqdm import tqdm\n",
    "import pickle\n",
    "from transformers import SwinModel, AutoImageProcessor\n",
    "import gc"
   ]
  },
  {
   "cell_type": "code",
   "execution_count": 49,
   "metadata": {
    "execution": {
     "iopub.execute_input": "2025-06-05T07:09:03.928537Z",
     "iopub.status.busy": "2025-06-05T07:09:03.927933Z",
     "iopub.status.idle": "2025-06-05T07:09:03.932212Z",
     "shell.execute_reply": "2025-06-05T07:09:03.931604Z",
     "shell.execute_reply.started": "2025-06-05T07:09:03.928504Z"
    },
    "trusted": true
   },
   "outputs": [
    {
     "name": "stdout",
     "output_type": "stream",
     "text": [
      "Using device: cuda\n"
     ]
    }
   ],
   "source": [
    "# Check if GPU is available\n",
    "device = torch.device(\"cuda\" if torch.cuda.is_available() else \"cpu\")\n",
    "print(f\"Using device: {device}\")"
   ]
  },
  {
   "cell_type": "code",
   "execution_count": 50,
   "metadata": {
    "execution": {
     "iopub.execute_input": "2025-06-05T07:09:11.169133Z",
     "iopub.status.busy": "2025-06-05T07:09:11.168430Z",
     "iopub.status.idle": "2025-06-05T07:09:11.172573Z",
     "shell.execute_reply": "2025-06-05T07:09:11.171768Z",
     "shell.execute_reply.started": "2025-06-05T07:09:11.169113Z"
    },
    "trusted": true
   },
   "outputs": [],
   "source": [
    "# Define the class names\n",
    "unique_classes = ['Actinic_keratosis', 'Basal_cell_carcinoma', 'Benign_keratosis', \n",
    "                  'Dermatofibroma', 'Melanocytic_nevus', 'Melanoma', \n",
    "                  'Squamous_cell_carcinoma', 'Vascular_lesion']\n",
    "NUM_CLASSES = len(unique_classes)"
   ]
  },
  {
   "cell_type": "code",
   "execution_count": 51,
   "metadata": {
    "execution": {
     "iopub.execute_input": "2025-06-05T07:09:18.298761Z",
     "iopub.status.busy": "2025-06-05T07:09:18.298123Z",
     "iopub.status.idle": "2025-06-05T07:09:18.301818Z",
     "shell.execute_reply": "2025-06-05T07:09:18.301163Z",
     "shell.execute_reply.started": "2025-06-05T07:09:18.298740Z"
    },
    "trusted": true
   },
   "outputs": [],
   "source": [
    "# Model name\n",
    "model_name = \"microsoft/swin-large-patch4-window7-224-in22k\""
   ]
  },
  {
   "cell_type": "code",
   "execution_count": 52,
   "metadata": {
    "execution": {
     "iopub.execute_input": "2025-06-05T07:09:47.954834Z",
     "iopub.status.busy": "2025-06-05T07:09:47.954230Z",
     "iopub.status.idle": "2025-06-05T07:09:49.148894Z",
     "shell.execute_reply": "2025-06-05T07:09:49.148305Z",
     "shell.execute_reply.started": "2025-06-05T07:09:47.954811Z"
    },
    "trusted": true
   },
   "outputs": [
    {
     "name": "stdout",
     "output_type": "stream",
     "text": [
      "Using device: cuda\n",
      "Loading the trained model...\n"
     ]
    }
   ],
   "source": [
    "# Define the OptimizedSwinClassifier\n",
    "class OptimizedSwinClassifier(nn.Module):\n",
    "    def __init__(self, num_classes=8, dropout_rate=0.3):\n",
    "        super(OptimizedSwinClassifier, self).__init__()\n",
    "        self.backbone = SwinModel.from_pretrained(model_name)\n",
    "        hidden_size = self.backbone.config.hidden_size\n",
    "        \n",
    "        self.classifier = nn.Sequential(\n",
    "            nn.Dropout(dropout_rate),\n",
    "            nn.Linear(hidden_size, hidden_size // 2),\n",
    "            nn.BatchNorm1d(hidden_size // 2),\n",
    "            nn.ReLU(inplace=True),\n",
    "            nn.Dropout(dropout_rate // 2),\n",
    "            nn.Linear(hidden_size // 2, hidden_size // 4),\n",
    "            nn.BatchNorm1d(hidden_size // 4),\n",
    "            nn.ReLU(inplace=True),\n",
    "            nn.Dropout(dropout_rate // 4),\n",
    "            nn.Linear(hidden_size // 4, num_classes)\n",
    "        )\n",
    "    \n",
    "    def forward(self, pixel_values):\n",
    "        outputs = self.backbone(pixel_values=pixel_values)\n",
    "        pooled_output = outputs.last_hidden_state.mean(dim=1)  \n",
    "        logits = self.classifier(pooled_output)\n",
    "        return logits\n",
    "    \n",
    "    def extract_features(self, pixel_values):\n",
    "        \"\"\"Extract the features before the classifier layer (after backbone + pooling)\"\"\"\n",
    "        with torch.no_grad():  # Ensure no gradients are computed\n",
    "            outputs = self.backbone(pixel_values=pixel_values)\n",
    "            pooled_output = outputs.last_hidden_state.mean(dim=1) \n",
    "            return pooled_output.detach().cpu().numpy()\n",
    "\n",
    "# Initializing the model\n",
    "print(\"Loading the trained model...\")\n",
    "model = OptimizedSwinClassifier(num_classes=NUM_CLASSES)"
   ]
  },
  {
   "cell_type": "code",
   "execution_count": 53,
   "metadata": {
    "execution": {
     "iopub.execute_input": "2025-06-05T07:09:52.712601Z",
     "iopub.status.busy": "2025-06-05T07:09:52.711840Z",
     "iopub.status.idle": "2025-06-05T07:09:54.661501Z",
     "shell.execute_reply": "2025-06-05T07:09:54.660758Z",
     "shell.execute_reply.started": "2025-06-05T07:09:52.712578Z"
    },
    "trusted": true
   },
   "outputs": [
    {
     "name": "stdout",
     "output_type": "stream",
     "text": [
      "Loaded model from 'best_optimized_swin_model2.pth'\n",
      "Model loaded successfully!\n"
     ]
    }
   ],
   "source": [
    "# Loading the trained weights\n",
    "try:\n",
    "    model.load_state_dict(torch.load('best_optimized_swin_model2.pth', map_location=device))\n",
    "    print(\"Loaded model from 'best_optimized_swin_model2.pth'\")\n",
    "except FileNotFoundError:\n",
    "    try:\n",
    "        model.load_state_dict(torch.load('final_optimized_swin_model3.pth', map_location=device))\n",
    "        print(\"Loaded model from 'final_optimized_swin_model3.pth'\")\n",
    "    except FileNotFoundError:\n",
    "        print(\"Error: Could not find the trained model file. Please check the file path.\")\n",
    "        raise\n",
    "\n",
    "model.to(device)\n",
    "model.eval()  # Set to evaluation mode\n",
    "print(\"Model loaded successfully!\")"
   ]
  },
  {
   "cell_type": "code",
   "execution_count": 54,
   "metadata": {
    "execution": {
     "iopub.execute_input": "2025-06-05T07:10:06.655694Z",
     "iopub.status.busy": "2025-06-05T07:10:06.655411Z",
     "iopub.status.idle": "2025-06-05T07:10:06.660987Z",
     "shell.execute_reply": "2025-06-05T07:10:06.660308Z",
     "shell.execute_reply.started": "2025-06-05T07:10:06.655674Z"
    },
    "trusted": true
   },
   "outputs": [],
   "source": [
    "# Defining a dataset for feature extraction that returns the image paths\n",
    "class FeatureExtractionDataset(Dataset):\n",
    "    def __init__(self, dataframe):\n",
    "        self.dataframe = dataframe\n",
    "        self.transform = transforms.Compose([\n",
    "            transforms.Resize((224, 224)),\n",
    "            transforms.ToTensor(),\n",
    "            transforms.Normalize(mean=[0.485, 0.456, 0.406], std=[0.229, 0.224, 0.225])\n",
    "        ])\n",
    "    \n",
    "    def __len__(self):\n",
    "        return len(self.dataframe)\n",
    "    \n",
    "    def __getitem__(self, idx):\n",
    "        img_path = self.dataframe.iloc[idx]['image_path']\n",
    "        \n",
    "        try:\n",
    "            # Load the image\n",
    "            img = Image.open(img_path).convert('RGB')\n",
    "            # Apply transformations\n",
    "            img_tensor = self.transform(img)\n",
    "        except Exception as e:\n",
    "            print(f\"Error loading image {img_path}: {e}\")\n",
    "            img_tensor = torch.zeros(3, 224, 224)\n",
    "        \n",
    "        return {\n",
    "            'pixel_values': img_tensor,\n",
    "            'image_path': img_path\n",
    "        }"
   ]
  },
  {
   "cell_type": "code",
   "execution_count": 55,
   "metadata": {
    "execution": {
     "iopub.execute_input": "2025-06-05T07:10:18.618520Z",
     "iopub.status.busy": "2025-06-05T07:10:18.618226Z",
     "iopub.status.idle": "2025-06-05T07:10:18.624507Z",
     "shell.execute_reply": "2025-06-05T07:10:18.623834Z",
     "shell.execute_reply.started": "2025-06-05T07:10:18.618501Z"
    },
    "trusted": true
   },
   "outputs": [],
   "source": [
    "# Function to extract the features\n",
    "def extract_features(dataframe, batch_size=32):\n",
    "    dataset = FeatureExtractionDataset(dataframe)\n",
    "    try:\n",
    "        dataloader = DataLoader(\n",
    "            dataset,\n",
    "            batch_size=batch_size,\n",
    "            shuffle=False,\n",
    "            num_workers=4,\n",
    "            pin_memory=True\n",
    "        )\n",
    "    except RuntimeError:\n",
    "        print(\"Using fewer workers due to runtime constraints...\")\n",
    "        dataloader = DataLoader(\n",
    "            dataset,\n",
    "            batch_size=batch_size,\n",
    "            shuffle=False,\n",
    "            num_workers=2,\n",
    "            pin_memory=True\n",
    "        )\n",
    "    \n",
    "    all_features = []\n",
    "    all_image_paths = []\n",
    "    \n",
    "    with torch.no_grad():\n",
    "        for batch in tqdm(dataloader, desc=\"Extracting features\"):\n",
    "            pixel_values = batch['pixel_values'].to(device, non_blocking=True)\n",
    "            image_paths = batch['image_path']\n",
    "            \n",
    "            # Extract features\n",
    "            features = model.extract_features(pixel_values)\n",
    "            \n",
    "            all_features.append(features)\n",
    "            all_image_paths.extend(image_paths)\n",
    "            \n",
    "            # Clearing the GPU memory periodically\n",
    "            if len(all_features) % 10 == 0:\n",
    "                torch.cuda.empty_cache()\n",
    "    \n",
    "    # Concatenating all the features\n",
    "    all_features = np.concatenate(all_features, axis=0)\n",
    "    \n",
    "    # Creating a dictionary mapping the image paths to the features\n",
    "    features_dict = {img_path: feat for img_path, feat in zip(all_image_paths, all_features)}\n",
    "    \n",
    "    return features_dict"
   ]
  },
  {
   "cell_type": "code",
   "execution_count": 56,
   "metadata": {
    "execution": {
     "iopub.execute_input": "2025-06-05T07:10:32.643533Z",
     "iopub.status.busy": "2025-06-05T07:10:32.643220Z",
     "iopub.status.idle": "2025-06-05T07:10:32.649554Z",
     "shell.execute_reply": "2025-06-05T07:10:32.648837Z",
     "shell.execute_reply.started": "2025-06-05T07:10:32.643512Z"
    },
    "trusted": true
   },
   "outputs": [],
   "source": [
    "# Function to join the features with dataframes\n",
    "def join_features_with_df(df, features_dict, dataset_name):\n",
    "    print(f\"Joining features with {dataset_name} dataframe...\")\n",
    "    \n",
    "    # Creating a new dataframe to store the features\n",
    "    feature_dim = next(iter(features_dict.values())).shape[0]\n",
    "    feature_cols = [f\"feature_{i}\" for i in range(feature_dim)]\n",
    "    \n",
    "    # Initializing an array to store the features in the same order as the dataframe\n",
    "    features_array = np.zeros((len(df), feature_dim))\n",
    "    missing_count = 0\n",
    "    \n",
    "    # Filling the features array\n",
    "    for i, img_path in enumerate(df['image_path']):\n",
    "        if img_path in features_dict:\n",
    "            features_array[i] = features_dict[img_path]\n",
    "        else:\n",
    "            print(f\"Warning: No features found for image {img_path}\")\n",
    "            missing_count += 1\n",
    "    \n",
    "    if missing_count > 0:\n",
    "        print(f\"Warning: {missing_count} images had missing features in {dataset_name}\")\n",
    "    \n",
    "    # Creating a dataframe with the features\n",
    "    features_df = pd.DataFrame(features_array, columns=feature_cols)\n",
    "    \n",
    "    # Joining with the original dataframe\n",
    "    joined_df = pd.concat([df.reset_index(drop=True), features_df], axis=1)\n",
    "    \n",
    "    return joined_df"
   ]
  },
  {
   "cell_type": "code",
   "execution_count": 58,
   "metadata": {
    "execution": {
     "iopub.execute_input": "2025-06-05T07:11:39.737905Z",
     "iopub.status.busy": "2025-06-05T07:11:39.737632Z",
     "iopub.status.idle": "2025-06-05T07:18:09.337103Z",
     "shell.execute_reply": "2025-06-05T07:18:09.336241Z",
     "shell.execute_reply.started": "2025-06-05T07:11:39.737882Z"
    },
    "trusted": true
   },
   "outputs": [
    {
     "name": "stdout",
     "output_type": "stream",
     "text": [
      "==================================================\n",
      "STARTING FEATURE EXTRACTION PROCESS\n",
      "==================================================\n",
      "\n",
      "1. Processing Training Dataset...\n"
     ]
    },
    {
     "name": "stderr",
     "output_type": "stream",
     "text": [
      "Extracting features: 100%|██████████| 922/922 [06:29<00:00,  2.37it/s]"
     ]
    },
    {
     "name": "stdout",
     "output_type": "stream",
     "text": [
      "Extracted features for 29488 training images\n"
     ]
    },
    {
     "name": "stderr",
     "output_type": "stream",
     "text": [
      "\n"
     ]
    }
   ],
   "source": [
    "print(\"=\"*50)\n",
    "print(\"STARTING FEATURE EXTRACTION PROCESS\")\n",
    "print(\"=\"*50)\n",
    "\n",
    "# Extracting the features for the training dataset\n",
    "print(\"\\n1. Processing Training Dataset...\")\n",
    "train_features_dict = extract_features(train_df, batch_size=32)\n",
    "print(f\"Extracted features for {len(train_features_dict)} training images\")"
   ]
  },
  {
   "cell_type": "code",
   "execution_count": 59,
   "metadata": {
    "execution": {
     "iopub.execute_input": "2025-06-05T07:18:09.339166Z",
     "iopub.status.busy": "2025-06-05T07:18:09.338928Z",
     "iopub.status.idle": "2025-06-05T07:18:41.892512Z",
     "shell.execute_reply": "2025-06-05T07:18:41.891669Z",
     "shell.execute_reply.started": "2025-06-05T07:18:09.339144Z"
    },
    "trusted": true
   },
   "outputs": [
    {
     "name": "stdout",
     "output_type": "stream",
     "text": [
      "\n",
      "2. Processing Test Dataset...\n"
     ]
    },
    {
     "name": "stderr",
     "output_type": "stream",
     "text": [
      "Extracting features: 100%|██████████| 72/72 [00:31<00:00,  2.28it/s]\n"
     ]
    },
    {
     "name": "stdout",
     "output_type": "stream",
     "text": [
      "Extracted features for 2293 test images\n"
     ]
    },
    {
     "data": {
      "text/plain": [
       "0"
      ]
     },
     "execution_count": 59,
     "metadata": {},
     "output_type": "execute_result"
    }
   ],
   "source": [
    "# Clearing the memory\n",
    "torch.cuda.empty_cache()\n",
    "gc.collect()\n",
    "# Extracting the features for the test dataset\n",
    "print(\"\\n2. Processing Test Dataset...\")\n",
    "test_features_dict = extract_features(test_df, batch_size=32)\n",
    "print(f\"Extracted features for {len(test_features_dict)} test images\")\n",
    "\n",
    "# Clearing the memory\n",
    "torch.cuda.empty_cache()\n",
    "gc.collect()"
   ]
  },
  {
   "cell_type": "code",
   "execution_count": 60,
   "metadata": {
    "execution": {
     "iopub.execute_input": "2025-06-05T07:18:41.893626Z",
     "iopub.status.busy": "2025-06-05T07:18:41.893354Z",
     "iopub.status.idle": "2025-06-05T07:20:20.664322Z",
     "shell.execute_reply": "2025-06-05T07:20:20.663732Z",
     "shell.execute_reply.started": "2025-06-05T07:18:41.893606Z"
    },
    "trusted": true
   },
   "outputs": [
    {
     "name": "stdout",
     "output_type": "stream",
     "text": [
      "\n",
      "3. Processing Validation Dataset...\n"
     ]
    },
    {
     "name": "stderr",
     "output_type": "stream",
     "text": [
      "Extracting features: 100%|██████████| 231/231 [01:38<00:00,  2.35it/s]\n"
     ]
    },
    {
     "name": "stdout",
     "output_type": "stream",
     "text": [
      "Extracted features for 7372 validation images\n"
     ]
    },
    {
     "data": {
      "text/plain": [
       "0"
      ]
     },
     "execution_count": 60,
     "metadata": {},
     "output_type": "execute_result"
    }
   ],
   "source": [
    "# Extracting the features for the validation dataset\n",
    "print(\"\\n3. Processing Validation Dataset...\")\n",
    "val_features_dict = extract_features(valid_df, batch_size=32)\n",
    "print(f\"Extracted features for {len(val_features_dict)} validation images\")\n",
    "\n",
    "# Clear memory\n",
    "torch.cuda.empty_cache()\n",
    "gc.collect()"
   ]
  },
  {
   "cell_type": "code",
   "execution_count": 61,
   "metadata": {
    "execution": {
     "iopub.execute_input": "2025-06-05T07:20:20.666041Z",
     "iopub.status.busy": "2025-06-05T07:20:20.665817Z",
     "iopub.status.idle": "2025-06-05T07:20:22.607194Z",
     "shell.execute_reply": "2025-06-05T07:20:22.606418Z",
     "shell.execute_reply.started": "2025-06-05T07:20:20.666023Z"
    },
    "trusted": true
   },
   "outputs": [
    {
     "name": "stdout",
     "output_type": "stream",
     "text": [
      "\n",
      "==================================================\n",
      "JOINING FEATURES WITH DATAFRAMES\n",
      "==================================================\n",
      "Joining features with training dataframe...\n",
      "Joining features with validation dataframe...\n",
      "Joining features with test dataframe...\n"
     ]
    }
   ],
   "source": [
    "# Joining the features with the dataframes\n",
    "print(\"\\n\" + \"=\"*50)\n",
    "print(\"JOINING FEATURES WITH DATAFRAMES\")\n",
    "print(\"=\"*50)\n",
    "\n",
    "joined_train_df = join_features_with_df(train_df, train_features_dict, \"training\")\n",
    "joined_val_df = join_features_with_df(valid_df, val_features_dict, \"validation\")\n",
    "joined_test_df = join_features_with_df(test_df, test_features_dict, \"test\")"
   ]
  },
  {
   "cell_type": "code",
   "execution_count": 62,
   "metadata": {
    "execution": {
     "iopub.execute_input": "2025-06-05T07:20:22.608112Z",
     "iopub.status.busy": "2025-06-05T07:20:22.607904Z",
     "iopub.status.idle": "2025-06-05T07:20:22.613529Z",
     "shell.execute_reply": "2025-06-05T07:20:22.612747Z",
     "shell.execute_reply.started": "2025-06-05T07:20:22.608095Z"
    },
    "trusted": true
   },
   "outputs": [
    {
     "name": "stdout",
     "output_type": "stream",
     "text": [
      "\n",
      "Joined Training DataFrame shape: (29488, 1563)\n",
      "Joined Validation DataFrame shape: (7372, 1563)\n",
      "Joined Test DataFrame shape: (2293, 1563)\n"
     ]
    }
   ],
   "source": [
    "# Printing the information about the joined dataframes\n",
    "print(f\"\\nJoined Training DataFrame shape: {joined_train_df.shape}\")\n",
    "print(f\"Joined Validation DataFrame shape: {joined_val_df.shape}\")\n",
    "print(f\"Joined Test DataFrame shape: {joined_test_df.shape}\")"
   ]
  },
  {
   "cell_type": "code",
   "execution_count": 63,
   "metadata": {
    "execution": {
     "iopub.execute_input": "2025-06-05T07:20:22.614604Z",
     "iopub.status.busy": "2025-06-05T07:20:22.614324Z",
     "iopub.status.idle": "2025-06-05T07:22:00.597039Z",
     "shell.execute_reply": "2025-06-05T07:22:00.596427Z",
     "shell.execute_reply.started": "2025-06-05T07:20:22.614582Z"
    },
    "trusted": true
   },
   "outputs": [
    {
     "name": "stdout",
     "output_type": "stream",
     "text": [
      "\n",
      "==================================================\n",
      "SAVING JOINED DATAFRAMES\n",
      "==================================================\n",
      "Saving joined training dataframe...\n",
      "Saved: /kaggle/working/joined_train_df_optimized.csv\n",
      "Saving joined validation dataframe...\n",
      "Saved: /kaggle/working/joined_val_df_optimized.csv\n",
      "Saving joined test dataframe...\n",
      "Saved: /kaggle/working/joined_test_df_optimized.csv\n"
     ]
    }
   ],
   "source": [
    "# Saving the dataframes\n",
    "print(\"\\n\" + \"=\"*50)\n",
    "print(\"SAVING JOINED DATAFRAMES\")\n",
    "print(\"=\"*50)\n",
    "\n",
    "print(\"Saving joined training dataframe...\")\n",
    "joined_train_df.to_csv(\"/kaggle/working/joined_train_df_optimized.csv\", index=False)\n",
    "print(\"Saved: /kaggle/working/joined_train_df_optimized.csv\")\n",
    "\n",
    "print(\"Saving joined validation dataframe...\")\n",
    "joined_val_df.to_csv(\"/kaggle/working/joined_val_df_optimized.csv\", index=False)\n",
    "print(\"Saved: /kaggle/working/joined_val_df_optimized.csv\")\n",
    "\n",
    "print(\"Saving joined test dataframe...\")\n",
    "joined_test_df.to_csv(\"/kaggle/working/joined_test_df_optimized.csv\", index=False)\n",
    "print(\"Saved: /kaggle/working/joined_test_df_optimized.csv\")"
   ]
  },
  {
   "cell_type": "code",
   "execution_count": null,
   "metadata": {
    "trusted": true
   },
   "outputs": [],
   "source": []
  }
 ],
 "metadata": {
  "kaggle": {
   "accelerator": "gpu",
   "dataSources": [
    {
     "datasetId": 54339,
     "sourceId": 104884,
     "sourceType": "datasetVersion"
    },
    {
     "datasetId": 7110226,
     "sourceId": 11360411,
     "sourceType": "datasetVersion"
    },
    {
     "datasetId": 7592492,
     "sourceId": 12062552,
     "sourceType": "datasetVersion"
    },
    {
     "datasetId": 7592498,
     "sourceId": 12062561,
     "sourceType": "datasetVersion"
    },
    {
     "datasetId": 7592641,
     "sourceId": 12062793,
     "sourceType": "datasetVersion"
    },
    {
     "datasetId": 7595042,
     "sourceId": 12066576,
     "sourceType": "datasetVersion"
    }
   ],
   "dockerImageVersionId": 31041,
   "isGpuEnabled": true,
   "isInternetEnabled": true,
   "language": "python",
   "sourceType": "notebook"
  },
  "kernelspec": {
   "display_name": "Python 3",
   "language": "python",
   "name": "python3"
  },
  "language_info": {
   "codemirror_mode": {
    "name": "ipython",
    "version": 3
   },
   "file_extension": ".py",
   "mimetype": "text/x-python",
   "name": "python",
   "nbconvert_exporter": "python",
   "pygments_lexer": "ipython3",
   "version": "3.11.11"
  }
 },
 "nbformat": 4,
 "nbformat_minor": 4
}
