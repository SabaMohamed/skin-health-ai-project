{
 "cells": [
  {
   "cell_type": "code",
   "execution_count": 1,
   "metadata": {
    "execution": {
     "iopub.execute_input": "2025-06-06T02:48:47.598190Z",
     "iopub.status.busy": "2025-06-06T02:48:47.597951Z",
     "iopub.status.idle": "2025-06-06T02:48:47.603692Z",
     "shell.execute_reply": "2025-06-06T02:48:47.602981Z",
     "shell.execute_reply.started": "2025-06-06T02:48:47.598168Z"
    },
    "trusted": true
   },
   "outputs": [],
   "source": [
    "import numpy as np\n",
    "import pandas as pd\n",
    "import matplotlib.pyplot as plt\n",
    "import seaborn as sns\n",
    "import xgboost as xgb\n",
    "from sklearn.model_selection import RandomizedSearchCV, learning_curve\n",
    "from sklearn.metrics import classification_report, confusion_matrix, accuracy_score\n",
    "from sklearn.preprocessing import LabelEncoder\n",
    "import warnings\n",
    "warnings.filterwarnings('ignore')"
   ]
  },
  {
   "cell_type": "code",
   "execution_count": 2,
   "metadata": {
    "execution": {
     "iopub.execute_input": "2025-06-06T02:48:47.604708Z",
     "iopub.status.busy": "2025-06-06T02:48:47.604427Z",
     "iopub.status.idle": "2025-06-06T02:49:07.342808Z",
     "shell.execute_reply": "2025-06-06T02:49:07.341760Z",
     "shell.execute_reply.started": "2025-06-06T02:48:47.604684Z"
    },
    "trusted": true
   },
   "outputs": [],
   "source": [
    "# Reading the data\n",
    "train_df = pd.read_csv(\"/kaggle/input/joined-isic-optimized-87-df/joined_train_df_optimized.csv\")\n",
    "test_df = pd.read_csv(\"/kaggle/input/joined-test-87-isic/joined_test_df_optimized.csv\")"
   ]
  },
  {
   "cell_type": "code",
   "execution_count": 3,
   "metadata": {
    "execution": {
     "iopub.execute_input": "2025-06-06T02:49:07.344824Z",
     "iopub.status.busy": "2025-06-06T02:49:07.344530Z",
     "iopub.status.idle": "2025-06-06T02:49:07.349887Z",
     "shell.execute_reply": "2025-06-06T02:49:07.349057Z",
     "shell.execute_reply.started": "2025-06-06T02:49:07.344800Z"
    },
    "trusted": true
   },
   "outputs": [
    {
     "name": "stdout",
     "output_type": "stream",
     "text": [
      "(29488, 1563)\n",
      "(2293, 1563)\n"
     ]
    }
   ],
   "source": [
    "print(train_df.shape)\n",
    "print(test_df.shape)"
   ]
  },
  {
   "cell_type": "code",
   "execution_count": 4,
   "metadata": {
    "execution": {
     "iopub.execute_input": "2025-06-06T00:59:30.723325Z",
     "iopub.status.busy": "2025-06-06T00:59:30.723078Z",
     "iopub.status.idle": "2025-06-06T00:59:30.854616Z",
     "shell.execute_reply": "2025-06-06T00:59:30.853792Z",
     "shell.execute_reply.started": "2025-06-06T00:59:30.723309Z"
    },
    "trusted": true
   },
   "outputs": [],
   "source": [
    "# Droping the one-hot encoded label columns\n",
    "label_cols = [\n",
    "    'Actinic_keratosis', 'Basal_cell_carcinoma', 'Benign_keratosis', \n",
    "    'Dermatofibroma', 'Melanocytic_nevus', 'Melanoma', \n",
    "    'Squamous_cell_carcinoma', 'Vascular_lesion'\n",
    "]\n",
    "train_df = train_df.drop(columns=label_cols)\n",
    "test_df = test_df.drop(columns=label_cols)"
   ]
  },
  {
   "cell_type": "code",
   "execution_count": 5,
   "metadata": {
    "execution": {
     "iopub.execute_input": "2025-06-06T00:59:32.503077Z",
     "iopub.status.busy": "2025-06-06T00:59:32.502285Z",
     "iopub.status.idle": "2025-06-06T00:59:32.507274Z",
     "shell.execute_reply": "2025-06-06T00:59:32.506495Z",
     "shell.execute_reply.started": "2025-06-06T00:59:32.503044Z"
    },
    "trusted": true
   },
   "outputs": [
    {
     "name": "stdout",
     "output_type": "stream",
     "text": [
      "(29488, 1555)\n",
      "(2293, 1555)\n"
     ]
    }
   ],
   "source": [
    "print(train_df.shape)\n",
    "print(test_df.shape)"
   ]
  },
  {
   "cell_type": "code",
   "execution_count": 6,
   "metadata": {
    "execution": {
     "iopub.execute_input": "2025-06-06T00:59:35.921428Z",
     "iopub.status.busy": "2025-06-06T00:59:35.921148Z",
     "iopub.status.idle": "2025-06-06T00:59:35.932254Z",
     "shell.execute_reply": "2025-06-06T00:59:35.931386Z",
     "shell.execute_reply.started": "2025-06-06T00:59:35.921406Z"
    },
    "trusted": true
   },
   "outputs": [],
   "source": [
    "# Encoding the labels\n",
    "label_encoder = LabelEncoder()\n",
    "y_train = label_encoder.fit_transform(train_df['disease_label'])\n",
    "y_test = label_encoder.transform(test_df['disease_label'])\n",
    "# Saving the inverse mapping for later\n",
    "class_names = label_encoder.classes_"
   ]
  },
  {
   "cell_type": "code",
   "execution_count": 7,
   "metadata": {
    "execution": {
     "iopub.execute_input": "2025-06-06T00:59:38.179857Z",
     "iopub.status.busy": "2025-06-06T00:59:38.179186Z",
     "iopub.status.idle": "2025-06-06T00:59:38.296813Z",
     "shell.execute_reply": "2025-06-06T00:59:38.295973Z",
     "shell.execute_reply.started": "2025-06-06T00:59:38.179830Z"
    },
    "trusted": true
   },
   "outputs": [],
   "source": [
    "X_train = train_df.drop(columns=['disease_label', 'image_path'])  \n",
    "X_test = test_df.drop(columns=['disease_label', 'image_path'])"
   ]
  },
  {
   "cell_type": "code",
   "execution_count": 8,
   "metadata": {
    "execution": {
     "iopub.execute_input": "2025-06-06T00:59:42.272739Z",
     "iopub.status.busy": "2025-06-06T00:59:42.272160Z",
     "iopub.status.idle": "2025-06-06T00:59:42.277355Z",
     "shell.execute_reply": "2025-06-06T00:59:42.276480Z",
     "shell.execute_reply.started": "2025-06-06T00:59:42.272715Z"
    },
    "trusted": true
   },
   "outputs": [
    {
     "name": "stdout",
     "output_type": "stream",
     "text": [
      "Data shapes:\n",
      "X_train: (29488, 1553), y_train: (29488,)\n",
      "X_test: (2293, 1553), y_test: (2293,)\n",
      "Classes: ['Actinic_keratosis' 'Basal_cell_carcinoma' 'Benign_keratosis'\n",
      " 'Dermatofibroma' 'Melanocytic_nevus' 'Melanoma' 'Squamous_cell_carcinoma'\n",
      " 'Vascular_lesion']\n"
     ]
    }
   ],
   "source": [
    "print(\"Data shapes:\")\n",
    "print(f\"X_train: {X_train.shape}, y_train: {y_train.shape}\")\n",
    "print(f\"X_test: {X_test.shape}, y_test: {y_test.shape}\")\n",
    "print(f\"Classes: {class_names}\")"
   ]
  },
  {
   "cell_type": "code",
   "execution_count": 9,
   "metadata": {
    "execution": {
     "iopub.execute_input": "2025-06-06T00:59:46.237218Z",
     "iopub.status.busy": "2025-06-06T00:59:46.236890Z",
     "iopub.status.idle": "2025-06-06T00:59:46.241314Z",
     "shell.execute_reply": "2025-06-06T00:59:46.240752Z",
     "shell.execute_reply.started": "2025-06-06T00:59:46.237198Z"
    },
    "trusted": true
   },
   "outputs": [],
   "source": [
    "baseline_xgb = xgb.XGBClassifier(\n",
    "    tree_method=\"hist\",\n",
    "    device=\"cuda\",\n",
    "    predictor=\"gpu_predictor\",\n",
    "    random_state=42,\n",
    "    n_jobs=1,\n",
    "    eval_metric='mlogloss',\n",
    "    objective='multi:softprob'\n",
    ")"
   ]
  },
  {
   "cell_type": "code",
   "execution_count": 10,
   "metadata": {
    "execution": {
     "iopub.execute_input": "2025-06-06T00:46:09.437634Z",
     "iopub.status.busy": "2025-06-06T00:46:09.437365Z",
     "iopub.status.idle": "2025-06-06T00:48:48.664972Z",
     "shell.execute_reply": "2025-06-06T00:48:48.664257Z",
     "shell.execute_reply.started": "2025-06-06T00:46:09.437616Z"
    },
    "trusted": true
   },
   "outputs": [
    {
     "name": "stdout",
     "output_type": "stream",
     "text": [
      "Training baseline model\n"
     ]
    },
    {
     "data": {
      "text/html": [
       "<style>#sk-container-id-1 {color: black;background-color: white;}#sk-container-id-1 pre{padding: 0;}#sk-container-id-1 div.sk-toggleable {background-color: white;}#sk-container-id-1 label.sk-toggleable__label {cursor: pointer;display: block;width: 100%;margin-bottom: 0;padding: 0.3em;box-sizing: border-box;text-align: center;}#sk-container-id-1 label.sk-toggleable__label-arrow:before {content: \"▸\";float: left;margin-right: 0.25em;color: #696969;}#sk-container-id-1 label.sk-toggleable__label-arrow:hover:before {color: black;}#sk-container-id-1 div.sk-estimator:hover label.sk-toggleable__label-arrow:before {color: black;}#sk-container-id-1 div.sk-toggleable__content {max-height: 0;max-width: 0;overflow: hidden;text-align: left;background-color: #f0f8ff;}#sk-container-id-1 div.sk-toggleable__content pre {margin: 0.2em;color: black;border-radius: 0.25em;background-color: #f0f8ff;}#sk-container-id-1 input.sk-toggleable__control:checked~div.sk-toggleable__content {max-height: 200px;max-width: 100%;overflow: auto;}#sk-container-id-1 input.sk-toggleable__control:checked~label.sk-toggleable__label-arrow:before {content: \"▾\";}#sk-container-id-1 div.sk-estimator input.sk-toggleable__control:checked~label.sk-toggleable__label {background-color: #d4ebff;}#sk-container-id-1 div.sk-label input.sk-toggleable__control:checked~label.sk-toggleable__label {background-color: #d4ebff;}#sk-container-id-1 input.sk-hidden--visually {border: 0;clip: rect(1px 1px 1px 1px);clip: rect(1px, 1px, 1px, 1px);height: 1px;margin: -1px;overflow: hidden;padding: 0;position: absolute;width: 1px;}#sk-container-id-1 div.sk-estimator {font-family: monospace;background-color: #f0f8ff;border: 1px dotted black;border-radius: 0.25em;box-sizing: border-box;margin-bottom: 0.5em;}#sk-container-id-1 div.sk-estimator:hover {background-color: #d4ebff;}#sk-container-id-1 div.sk-parallel-item::after {content: \"\";width: 100%;border-bottom: 1px solid gray;flex-grow: 1;}#sk-container-id-1 div.sk-label:hover label.sk-toggleable__label {background-color: #d4ebff;}#sk-container-id-1 div.sk-serial::before {content: \"\";position: absolute;border-left: 1px solid gray;box-sizing: border-box;top: 0;bottom: 0;left: 50%;z-index: 0;}#sk-container-id-1 div.sk-serial {display: flex;flex-direction: column;align-items: center;background-color: white;padding-right: 0.2em;padding-left: 0.2em;position: relative;}#sk-container-id-1 div.sk-item {position: relative;z-index: 1;}#sk-container-id-1 div.sk-parallel {display: flex;align-items: stretch;justify-content: center;background-color: white;position: relative;}#sk-container-id-1 div.sk-item::before, #sk-container-id-1 div.sk-parallel-item::before {content: \"\";position: absolute;border-left: 1px solid gray;box-sizing: border-box;top: 0;bottom: 0;left: 50%;z-index: -1;}#sk-container-id-1 div.sk-parallel-item {display: flex;flex-direction: column;z-index: 1;position: relative;background-color: white;}#sk-container-id-1 div.sk-parallel-item:first-child::after {align-self: flex-end;width: 50%;}#sk-container-id-1 div.sk-parallel-item:last-child::after {align-self: flex-start;width: 50%;}#sk-container-id-1 div.sk-parallel-item:only-child::after {width: 0;}#sk-container-id-1 div.sk-dashed-wrapped {border: 1px dashed gray;margin: 0 0.4em 0.5em 0.4em;box-sizing: border-box;padding-bottom: 0.4em;background-color: white;}#sk-container-id-1 div.sk-label label {font-family: monospace;font-weight: bold;display: inline-block;line-height: 1.2em;}#sk-container-id-1 div.sk-label-container {text-align: center;}#sk-container-id-1 div.sk-container {/* jupyter's `normalize.less` sets `[hidden] { display: none; }` but bootstrap.min.css set `[hidden] { display: none !important; }` so we also need the `!important` here to be able to override the default hidden behavior on the sphinx rendered scikit-learn.org. See: https://github.com/scikit-learn/scikit-learn/issues/21755 */display: inline-block !important;position: relative;}#sk-container-id-1 div.sk-text-repr-fallback {display: none;}</style><div id=\"sk-container-id-1\" class=\"sk-top-container\"><div class=\"sk-text-repr-fallback\"><pre>XGBClassifier(base_score=None, booster=None, callbacks=None,\n",
       "              colsample_bylevel=None, colsample_bynode=None,\n",
       "              colsample_bytree=None, device=&#x27;cuda&#x27;, early_stopping_rounds=None,\n",
       "              enable_categorical=False, eval_metric=&#x27;mlogloss&#x27;,\n",
       "              feature_types=None, gamma=None, grow_policy=None,\n",
       "              importance_type=None, interaction_constraints=None,\n",
       "              learning_rate=None, max_bin=None, max_cat_threshold=None,\n",
       "              max_cat_to_onehot=None, max_delta_step=None, max_depth=None,\n",
       "              max_leaves=None, min_child_weight=None, missing=nan,\n",
       "              monotone_constraints=None, multi_strategy=None, n_estimators=None,\n",
       "              n_jobs=1, num_parallel_tree=None, objective=&#x27;multi:softprob&#x27;, ...)</pre><b>In a Jupyter environment, please rerun this cell to show the HTML representation or trust the notebook. <br />On GitHub, the HTML representation is unable to render, please try loading this page with nbviewer.org.</b></div><div class=\"sk-container\" hidden><div class=\"sk-item\"><div class=\"sk-estimator sk-toggleable\"><input class=\"sk-toggleable__control sk-hidden--visually\" id=\"sk-estimator-id-1\" type=\"checkbox\" checked><label for=\"sk-estimator-id-1\" class=\"sk-toggleable__label sk-toggleable__label-arrow\">XGBClassifier</label><div class=\"sk-toggleable__content\"><pre>XGBClassifier(base_score=None, booster=None, callbacks=None,\n",
       "              colsample_bylevel=None, colsample_bynode=None,\n",
       "              colsample_bytree=None, device=&#x27;cuda&#x27;, early_stopping_rounds=None,\n",
       "              enable_categorical=False, eval_metric=&#x27;mlogloss&#x27;,\n",
       "              feature_types=None, gamma=None, grow_policy=None,\n",
       "              importance_type=None, interaction_constraints=None,\n",
       "              learning_rate=None, max_bin=None, max_cat_threshold=None,\n",
       "              max_cat_to_onehot=None, max_delta_step=None, max_depth=None,\n",
       "              max_leaves=None, min_child_weight=None, missing=nan,\n",
       "              monotone_constraints=None, multi_strategy=None, n_estimators=None,\n",
       "              n_jobs=1, num_parallel_tree=None, objective=&#x27;multi:softprob&#x27;, ...)</pre></div></div></div></div></div>"
      ],
      "text/plain": [
       "XGBClassifier(base_score=None, booster=None, callbacks=None,\n",
       "              colsample_bylevel=None, colsample_bynode=None,\n",
       "              colsample_bytree=None, device='cuda', early_stopping_rounds=None,\n",
       "              enable_categorical=False, eval_metric='mlogloss',\n",
       "              feature_types=None, gamma=None, grow_policy=None,\n",
       "              importance_type=None, interaction_constraints=None,\n",
       "              learning_rate=None, max_bin=None, max_cat_threshold=None,\n",
       "              max_cat_to_onehot=None, max_delta_step=None, max_depth=None,\n",
       "              max_leaves=None, min_child_weight=None, missing=nan,\n",
       "              monotone_constraints=None, multi_strategy=None, n_estimators=None,\n",
       "              n_jobs=1, num_parallel_tree=None, objective='multi:softprob', ...)"
      ]
     },
     "execution_count": 10,
     "metadata": {},
     "output_type": "execute_result"
    }
   ],
   "source": [
    "print(\"Training baseline model\")\n",
    "baseline_xgb.fit(X_train, y_train)"
   ]
  },
  {
   "cell_type": "code",
   "execution_count": 11,
   "metadata": {
    "execution": {
     "iopub.execute_input": "2025-06-06T00:49:06.504519Z",
     "iopub.status.busy": "2025-06-06T00:49:06.503615Z",
     "iopub.status.idle": "2025-06-06T00:49:07.083438Z",
     "shell.execute_reply": "2025-06-06T00:49:07.082764Z",
     "shell.execute_reply.started": "2025-06-06T00:49:06.504490Z"
    },
    "trusted": true
   },
   "outputs": [],
   "source": [
    "# The Baseline predictions and evaluation\n",
    "y_train_pred_baseline = baseline_xgb.predict(X_train)\n",
    "y_test_pred_baseline = baseline_xgb.predict(X_test)\n",
    "\n",
    "train_acc_baseline = accuracy_score(y_train, y_train_pred_baseline)\n",
    "test_acc_baseline = accuracy_score(y_test, y_test_pred_baseline)"
   ]
  },
  {
   "cell_type": "code",
   "execution_count": 12,
   "metadata": {
    "execution": {
     "iopub.execute_input": "2025-06-06T00:49:07.084554Z",
     "iopub.status.busy": "2025-06-06T00:49:07.084353Z",
     "iopub.status.idle": "2025-06-06T00:49:07.088928Z",
     "shell.execute_reply": "2025-06-06T00:49:07.088013Z",
     "shell.execute_reply.started": "2025-06-06T00:49:07.084537Z"
    },
    "trusted": true
   },
   "outputs": [
    {
     "name": "stdout",
     "output_type": "stream",
     "text": [
      "\n",
      "Baseline Model Performance:\n",
      "Training Accuracy: 0.9926\n",
      "Test Accuracy: 0.8696\n"
     ]
    }
   ],
   "source": [
    "print(f\"\\nBaseline Model Performance:\")\n",
    "print(f\"Training Accuracy: {train_acc_baseline:.4f}\")\n",
    "print(f\"Test Accuracy: {test_acc_baseline:.4f}\")"
   ]
  },
  {
   "cell_type": "code",
   "execution_count": 10,
   "metadata": {
    "execution": {
     "iopub.execute_input": "2025-06-06T00:59:55.705542Z",
     "iopub.status.busy": "2025-06-06T00:59:55.705277Z",
     "iopub.status.idle": "2025-06-06T00:59:55.710515Z",
     "shell.execute_reply": "2025-06-06T00:59:55.709721Z",
     "shell.execute_reply.started": "2025-06-06T00:59:55.705523Z"
    },
    "trusted": true
   },
   "outputs": [],
   "source": [
    "# Defining the parameter grid for RandomizedSearchCV\n",
    "param_grid = {\n",
    "    'n_estimators': [100, 200, 300, 500, 800],\n",
    "    'max_depth': [3, 4, 5, 6, 8, 10],\n",
    "    'learning_rate': [0.01, 0.05, 0.1, 0.15, 0.2, 0.3],\n",
    "    'subsample': [0.6, 0.7, 0.8, 0.9, 1.0],\n",
    "    'colsample_bytree': [0.6, 0.7, 0.8, 0.9, 1.0],\n",
    "    'colsample_bylevel': [0.6, 0.7, 0.8, 0.9, 1.0],\n",
    "    'reg_alpha': [0, 0.01, 0.1, 1, 10],\n",
    "    'reg_lambda': [0, 0.01, 0.1, 1, 10],\n",
    "    'min_child_weight': [1, 3, 5, 7],\n",
    "    'gamma': [0, 0.1, 0.2, 0.5, 1.0]\n",
    "}"
   ]
  },
  {
   "cell_type": "code",
   "execution_count": 11,
   "metadata": {
    "execution": {
     "iopub.execute_input": "2025-06-06T00:59:59.509342Z",
     "iopub.status.busy": "2025-06-06T00:59:59.509051Z",
     "iopub.status.idle": "2025-06-06T00:59:59.513342Z",
     "shell.execute_reply": "2025-06-06T00:59:59.512410Z",
     "shell.execute_reply.started": "2025-06-06T00:59:59.509321Z"
    },
    "trusted": true
   },
   "outputs": [],
   "source": [
    "xgb_model = xgb.XGBClassifier(\n",
    "    tree_method=\"hist\",\n",
    "    device=\"cuda\",\n",
    "    predictor=\"gpu_predictor\",\n",
    "    random_state=42,\n",
    "    n_jobs=1,\n",
    "    eval_metric='mlogloss',\n",
    "    objective='multi:softprob'\n",
    ")"
   ]
  },
  {
   "cell_type": "code",
   "execution_count": 12,
   "metadata": {
    "execution": {
     "iopub.execute_input": "2025-06-06T01:00:03.192878Z",
     "iopub.status.busy": "2025-06-06T01:00:03.192555Z",
     "iopub.status.idle": "2025-06-06T02:34:48.992677Z",
     "shell.execute_reply": "2025-06-06T02:34:48.991877Z",
     "shell.execute_reply.started": "2025-06-06T01:00:03.192855Z"
    },
    "trusted": true
   },
   "outputs": [
    {
     "name": "stdout",
     "output_type": "stream",
     "text": [
      "Fitting 5 folds for each of 50 candidates, totalling 250 fits\n"
     ]
    },
    {
     "data": {
      "text/html": [
       "<style>#sk-container-id-1 {color: black;background-color: white;}#sk-container-id-1 pre{padding: 0;}#sk-container-id-1 div.sk-toggleable {background-color: white;}#sk-container-id-1 label.sk-toggleable__label {cursor: pointer;display: block;width: 100%;margin-bottom: 0;padding: 0.3em;box-sizing: border-box;text-align: center;}#sk-container-id-1 label.sk-toggleable__label-arrow:before {content: \"▸\";float: left;margin-right: 0.25em;color: #696969;}#sk-container-id-1 label.sk-toggleable__label-arrow:hover:before {color: black;}#sk-container-id-1 div.sk-estimator:hover label.sk-toggleable__label-arrow:before {color: black;}#sk-container-id-1 div.sk-toggleable__content {max-height: 0;max-width: 0;overflow: hidden;text-align: left;background-color: #f0f8ff;}#sk-container-id-1 div.sk-toggleable__content pre {margin: 0.2em;color: black;border-radius: 0.25em;background-color: #f0f8ff;}#sk-container-id-1 input.sk-toggleable__control:checked~div.sk-toggleable__content {max-height: 200px;max-width: 100%;overflow: auto;}#sk-container-id-1 input.sk-toggleable__control:checked~label.sk-toggleable__label-arrow:before {content: \"▾\";}#sk-container-id-1 div.sk-estimator input.sk-toggleable__control:checked~label.sk-toggleable__label {background-color: #d4ebff;}#sk-container-id-1 div.sk-label input.sk-toggleable__control:checked~label.sk-toggleable__label {background-color: #d4ebff;}#sk-container-id-1 input.sk-hidden--visually {border: 0;clip: rect(1px 1px 1px 1px);clip: rect(1px, 1px, 1px, 1px);height: 1px;margin: -1px;overflow: hidden;padding: 0;position: absolute;width: 1px;}#sk-container-id-1 div.sk-estimator {font-family: monospace;background-color: #f0f8ff;border: 1px dotted black;border-radius: 0.25em;box-sizing: border-box;margin-bottom: 0.5em;}#sk-container-id-1 div.sk-estimator:hover {background-color: #d4ebff;}#sk-container-id-1 div.sk-parallel-item::after {content: \"\";width: 100%;border-bottom: 1px solid gray;flex-grow: 1;}#sk-container-id-1 div.sk-label:hover label.sk-toggleable__label {background-color: #d4ebff;}#sk-container-id-1 div.sk-serial::before {content: \"\";position: absolute;border-left: 1px solid gray;box-sizing: border-box;top: 0;bottom: 0;left: 50%;z-index: 0;}#sk-container-id-1 div.sk-serial {display: flex;flex-direction: column;align-items: center;background-color: white;padding-right: 0.2em;padding-left: 0.2em;position: relative;}#sk-container-id-1 div.sk-item {position: relative;z-index: 1;}#sk-container-id-1 div.sk-parallel {display: flex;align-items: stretch;justify-content: center;background-color: white;position: relative;}#sk-container-id-1 div.sk-item::before, #sk-container-id-1 div.sk-parallel-item::before {content: \"\";position: absolute;border-left: 1px solid gray;box-sizing: border-box;top: 0;bottom: 0;left: 50%;z-index: -1;}#sk-container-id-1 div.sk-parallel-item {display: flex;flex-direction: column;z-index: 1;position: relative;background-color: white;}#sk-container-id-1 div.sk-parallel-item:first-child::after {align-self: flex-end;width: 50%;}#sk-container-id-1 div.sk-parallel-item:last-child::after {align-self: flex-start;width: 50%;}#sk-container-id-1 div.sk-parallel-item:only-child::after {width: 0;}#sk-container-id-1 div.sk-dashed-wrapped {border: 1px dashed gray;margin: 0 0.4em 0.5em 0.4em;box-sizing: border-box;padding-bottom: 0.4em;background-color: white;}#sk-container-id-1 div.sk-label label {font-family: monospace;font-weight: bold;display: inline-block;line-height: 1.2em;}#sk-container-id-1 div.sk-label-container {text-align: center;}#sk-container-id-1 div.sk-container {/* jupyter's `normalize.less` sets `[hidden] { display: none; }` but bootstrap.min.css set `[hidden] { display: none !important; }` so we also need the `!important` here to be able to override the default hidden behavior on the sphinx rendered scikit-learn.org. See: https://github.com/scikit-learn/scikit-learn/issues/21755 */display: inline-block !important;position: relative;}#sk-container-id-1 div.sk-text-repr-fallback {display: none;}</style><div id=\"sk-container-id-1\" class=\"sk-top-container\"><div class=\"sk-text-repr-fallback\"><pre>RandomizedSearchCV(cv=5,\n",
       "                   estimator=XGBClassifier(base_score=None, booster=None,\n",
       "                                           callbacks=None,\n",
       "                                           colsample_bylevel=None,\n",
       "                                           colsample_bynode=None,\n",
       "                                           colsample_bytree=None, device=&#x27;cuda&#x27;,\n",
       "                                           early_stopping_rounds=None,\n",
       "                                           enable_categorical=False,\n",
       "                                           eval_metric=&#x27;mlogloss&#x27;,\n",
       "                                           feature_types=None, gamma=None,\n",
       "                                           grow_policy=None,\n",
       "                                           importance_type=None,\n",
       "                                           interaction_constraints=None,\n",
       "                                           learn...\n",
       "                                                              0.9, 1.0],\n",
       "                                        &#x27;colsample_bytree&#x27;: [0.6, 0.7, 0.8, 0.9,\n",
       "                                                             1.0],\n",
       "                                        &#x27;gamma&#x27;: [0, 0.1, 0.2, 0.5, 1.0],\n",
       "                                        &#x27;learning_rate&#x27;: [0.01, 0.05, 0.1, 0.15,\n",
       "                                                          0.2, 0.3],\n",
       "                                        &#x27;max_depth&#x27;: [3, 4, 5, 6, 8, 10],\n",
       "                                        &#x27;min_child_weight&#x27;: [1, 3, 5, 7],\n",
       "                                        &#x27;n_estimators&#x27;: [100, 200, 300, 500,\n",
       "                                                         800],\n",
       "                                        &#x27;reg_alpha&#x27;: [0, 0.01, 0.1, 1, 10],\n",
       "                                        &#x27;reg_lambda&#x27;: [0, 0.01, 0.1, 1, 10],\n",
       "                                        &#x27;subsample&#x27;: [0.6, 0.7, 0.8, 0.9, 1.0]},\n",
       "                   random_state=42, scoring=&#x27;accuracy&#x27;, verbose=1)</pre><b>In a Jupyter environment, please rerun this cell to show the HTML representation or trust the notebook. <br />On GitHub, the HTML representation is unable to render, please try loading this page with nbviewer.org.</b></div><div class=\"sk-container\" hidden><div class=\"sk-item sk-dashed-wrapped\"><div class=\"sk-label-container\"><div class=\"sk-label sk-toggleable\"><input class=\"sk-toggleable__control sk-hidden--visually\" id=\"sk-estimator-id-1\" type=\"checkbox\" ><label for=\"sk-estimator-id-1\" class=\"sk-toggleable__label sk-toggleable__label-arrow\">RandomizedSearchCV</label><div class=\"sk-toggleable__content\"><pre>RandomizedSearchCV(cv=5,\n",
       "                   estimator=XGBClassifier(base_score=None, booster=None,\n",
       "                                           callbacks=None,\n",
       "                                           colsample_bylevel=None,\n",
       "                                           colsample_bynode=None,\n",
       "                                           colsample_bytree=None, device=&#x27;cuda&#x27;,\n",
       "                                           early_stopping_rounds=None,\n",
       "                                           enable_categorical=False,\n",
       "                                           eval_metric=&#x27;mlogloss&#x27;,\n",
       "                                           feature_types=None, gamma=None,\n",
       "                                           grow_policy=None,\n",
       "                                           importance_type=None,\n",
       "                                           interaction_constraints=None,\n",
       "                                           learn...\n",
       "                                                              0.9, 1.0],\n",
       "                                        &#x27;colsample_bytree&#x27;: [0.6, 0.7, 0.8, 0.9,\n",
       "                                                             1.0],\n",
       "                                        &#x27;gamma&#x27;: [0, 0.1, 0.2, 0.5, 1.0],\n",
       "                                        &#x27;learning_rate&#x27;: [0.01, 0.05, 0.1, 0.15,\n",
       "                                                          0.2, 0.3],\n",
       "                                        &#x27;max_depth&#x27;: [3, 4, 5, 6, 8, 10],\n",
       "                                        &#x27;min_child_weight&#x27;: [1, 3, 5, 7],\n",
       "                                        &#x27;n_estimators&#x27;: [100, 200, 300, 500,\n",
       "                                                         800],\n",
       "                                        &#x27;reg_alpha&#x27;: [0, 0.01, 0.1, 1, 10],\n",
       "                                        &#x27;reg_lambda&#x27;: [0, 0.01, 0.1, 1, 10],\n",
       "                                        &#x27;subsample&#x27;: [0.6, 0.7, 0.8, 0.9, 1.0]},\n",
       "                   random_state=42, scoring=&#x27;accuracy&#x27;, verbose=1)</pre></div></div></div><div class=\"sk-parallel\"><div class=\"sk-parallel-item\"><div class=\"sk-item\"><div class=\"sk-label-container\"><div class=\"sk-label sk-toggleable\"><input class=\"sk-toggleable__control sk-hidden--visually\" id=\"sk-estimator-id-2\" type=\"checkbox\" ><label for=\"sk-estimator-id-2\" class=\"sk-toggleable__label sk-toggleable__label-arrow\">estimator: XGBClassifier</label><div class=\"sk-toggleable__content\"><pre>XGBClassifier(base_score=None, booster=None, callbacks=None,\n",
       "              colsample_bylevel=None, colsample_bynode=None,\n",
       "              colsample_bytree=None, device=&#x27;cuda&#x27;, early_stopping_rounds=None,\n",
       "              enable_categorical=False, eval_metric=&#x27;mlogloss&#x27;,\n",
       "              feature_types=None, gamma=None, grow_policy=None,\n",
       "              importance_type=None, interaction_constraints=None,\n",
       "              learning_rate=None, max_bin=None, max_cat_threshold=None,\n",
       "              max_cat_to_onehot=None, max_delta_step=None, max_depth=None,\n",
       "              max_leaves=None, min_child_weight=None, missing=nan,\n",
       "              monotone_constraints=None, multi_strategy=None, n_estimators=None,\n",
       "              n_jobs=1, num_parallel_tree=None, objective=&#x27;multi:softprob&#x27;, ...)</pre></div></div></div><div class=\"sk-serial\"><div class=\"sk-item\"><div class=\"sk-estimator sk-toggleable\"><input class=\"sk-toggleable__control sk-hidden--visually\" id=\"sk-estimator-id-3\" type=\"checkbox\" ><label for=\"sk-estimator-id-3\" class=\"sk-toggleable__label sk-toggleable__label-arrow\">XGBClassifier</label><div class=\"sk-toggleable__content\"><pre>XGBClassifier(base_score=None, booster=None, callbacks=None,\n",
       "              colsample_bylevel=None, colsample_bynode=None,\n",
       "              colsample_bytree=None, device=&#x27;cuda&#x27;, early_stopping_rounds=None,\n",
       "              enable_categorical=False, eval_metric=&#x27;mlogloss&#x27;,\n",
       "              feature_types=None, gamma=None, grow_policy=None,\n",
       "              importance_type=None, interaction_constraints=None,\n",
       "              learning_rate=None, max_bin=None, max_cat_threshold=None,\n",
       "              max_cat_to_onehot=None, max_delta_step=None, max_depth=None,\n",
       "              max_leaves=None, min_child_weight=None, missing=nan,\n",
       "              monotone_constraints=None, multi_strategy=None, n_estimators=None,\n",
       "              n_jobs=1, num_parallel_tree=None, objective=&#x27;multi:softprob&#x27;, ...)</pre></div></div></div></div></div></div></div></div></div></div>"
      ],
      "text/plain": [
       "RandomizedSearchCV(cv=5,\n",
       "                   estimator=XGBClassifier(base_score=None, booster=None,\n",
       "                                           callbacks=None,\n",
       "                                           colsample_bylevel=None,\n",
       "                                           colsample_bynode=None,\n",
       "                                           colsample_bytree=None, device='cuda',\n",
       "                                           early_stopping_rounds=None,\n",
       "                                           enable_categorical=False,\n",
       "                                           eval_metric='mlogloss',\n",
       "                                           feature_types=None, gamma=None,\n",
       "                                           grow_policy=None,\n",
       "                                           importance_type=None,\n",
       "                                           interaction_constraints=None,\n",
       "                                           learn...\n",
       "                                                              0.9, 1.0],\n",
       "                                        'colsample_bytree': [0.6, 0.7, 0.8, 0.9,\n",
       "                                                             1.0],\n",
       "                                        'gamma': [0, 0.1, 0.2, 0.5, 1.0],\n",
       "                                        'learning_rate': [0.01, 0.05, 0.1, 0.15,\n",
       "                                                          0.2, 0.3],\n",
       "                                        'max_depth': [3, 4, 5, 6, 8, 10],\n",
       "                                        'min_child_weight': [1, 3, 5, 7],\n",
       "                                        'n_estimators': [100, 200, 300, 500,\n",
       "                                                         800],\n",
       "                                        'reg_alpha': [0, 0.01, 0.1, 1, 10],\n",
       "                                        'reg_lambda': [0, 0.01, 0.1, 1, 10],\n",
       "                                        'subsample': [0.6, 0.7, 0.8, 0.9, 1.0]},\n",
       "                   random_state=42, scoring='accuracy', verbose=1)"
      ]
     },
     "execution_count": 12,
     "metadata": {},
     "output_type": "execute_result"
    }
   ],
   "source": [
    "random_search = RandomizedSearchCV(\n",
    "    estimator=xgb_model,\n",
    "    param_distributions=param_grid,\n",
    "    n_iter=50,\n",
    "    cv=5,\n",
    "    scoring='accuracy',\n",
    "    n_jobs=1,\n",
    "    random_state=42,\n",
    "    verbose=1\n",
    ")\n",
    "\n",
    "random_search.fit(X_train, y_train)"
   ]
  },
  {
   "cell_type": "code",
   "execution_count": 13,
   "metadata": {
    "execution": {
     "iopub.execute_input": "2025-06-06T02:34:48.994201Z",
     "iopub.status.busy": "2025-06-06T02:34:48.993962Z",
     "iopub.status.idle": "2025-06-06T02:34:48.998507Z",
     "shell.execute_reply": "2025-06-06T02:34:48.997817Z",
     "shell.execute_reply.started": "2025-06-06T02:34:48.994184Z"
    },
    "trusted": true
   },
   "outputs": [
    {
     "name": "stdout",
     "output_type": "stream",
     "text": [
      "\n",
      "Best parameters found:\n",
      "  subsample: 0.7\n",
      "  reg_lambda: 0\n",
      "  reg_alpha: 10\n",
      "  n_estimators: 100\n",
      "  min_child_weight: 5\n",
      "  max_depth: 3\n",
      "  learning_rate: 0.01\n",
      "  gamma: 0.2\n",
      "  colsample_bytree: 0.8\n",
      "  colsample_bylevel: 1.0\n",
      "\n",
      "Best cross-validation score: 0.9882\n"
     ]
    }
   ],
   "source": [
    "print(f\"\\nBest parameters found:\")\n",
    "for param, value in random_search.best_params_.items():\n",
    "    print(f\"  {param}: {value}\")\n",
    "print(f\"\\nBest cross-validation score: {random_search.best_score_:.4f}\")\n",
    "\n",
    "best_xgb = random_search.best_estimator_"
   ]
  },
  {
   "cell_type": "code",
   "execution_count": 14,
   "metadata": {
    "execution": {
     "iopub.execute_input": "2025-06-06T02:34:48.999404Z",
     "iopub.status.busy": "2025-06-06T02:34:48.999200Z",
     "iopub.status.idle": "2025-06-06T02:34:51.152167Z",
     "shell.execute_reply": "2025-06-06T02:34:51.151621Z",
     "shell.execute_reply.started": "2025-06-06T02:34:48.999389Z"
    },
    "trusted": true
   },
   "outputs": [],
   "source": [
    "# Predictions with the best model\n",
    "y_train_pred = best_xgb.predict(X_train)\n",
    "y_test_pred = best_xgb.predict(X_test)"
   ]
  },
  {
   "cell_type": "code",
   "execution_count": 15,
   "metadata": {
    "execution": {
     "iopub.execute_input": "2025-06-06T02:34:51.154151Z",
     "iopub.status.busy": "2025-06-06T02:34:51.153869Z",
     "iopub.status.idle": "2025-06-06T02:34:51.159238Z",
     "shell.execute_reply": "2025-06-06T02:34:51.158595Z",
     "shell.execute_reply.started": "2025-06-06T02:34:51.154133Z"
    },
    "trusted": true
   },
   "outputs": [],
   "source": [
    "# Calculating the accuracies\n",
    "train_acc = accuracy_score(y_train, y_train_pred)\n",
    "test_acc = accuracy_score(y_test, y_test_pred)"
   ]
  },
  {
   "cell_type": "code",
   "execution_count": 16,
   "metadata": {
    "execution": {
     "iopub.execute_input": "2025-06-06T02:34:51.160150Z",
     "iopub.status.busy": "2025-06-06T02:34:51.159937Z",
     "iopub.status.idle": "2025-06-06T02:34:51.172731Z",
     "shell.execute_reply": "2025-06-06T02:34:51.172140Z",
     "shell.execute_reply.started": "2025-06-06T02:34:51.160135Z"
    },
    "trusted": true
   },
   "outputs": [
    {
     "name": "stdout",
     "output_type": "stream",
     "text": [
      "\n",
      "Optimized Model Performance:\n",
      "Training Accuracy: 0.9910\n",
      "Test Accuracy: 0.8713\n"
     ]
    }
   ],
   "source": [
    "print(f\"\\nOptimized Model Performance:\")\n",
    "print(f\"Training Accuracy: {train_acc:.4f}\")\n",
    "print(f\"Test Accuracy: {test_acc:.4f}\")"
   ]
  },
  {
   "cell_type": "code",
   "execution_count": 18,
   "metadata": {
    "execution": {
     "iopub.execute_input": "2025-06-06T02:46:23.097365Z",
     "iopub.status.busy": "2025-06-06T02:46:23.096634Z",
     "iopub.status.idle": "2025-06-06T02:46:23.101354Z",
     "shell.execute_reply": "2025-06-06T02:46:23.100541Z",
     "shell.execute_reply.started": "2025-06-06T02:46:23.097340Z"
    },
    "trusted": true
   },
   "outputs": [
    {
     "name": "stdout",
     "output_type": "stream",
     "text": [
      "\n",
      "Improvement over baseline:\n",
      "Training Accuracy: -0.0016\n",
      "Test Accuracy: +0.0017\n"
     ]
    }
   ],
   "source": [
    "print(f\"\\nImprovement over baseline:\")\n",
    "print(f\"Training Accuracy: {train_acc - 0.9926:+.4f}\")\n",
    "print(f\"Test Accuracy: {test_acc - 0.8696:+.4f}\")"
   ]
  },
  {
   "cell_type": "code",
   "execution_count": 19,
   "metadata": {
    "execution": {
     "iopub.execute_input": "2025-06-06T02:46:31.406775Z",
     "iopub.status.busy": "2025-06-06T02:46:31.406224Z",
     "iopub.status.idle": "2025-06-06T02:46:31.411620Z",
     "shell.execute_reply": "2025-06-06T02:46:31.410753Z",
     "shell.execute_reply.started": "2025-06-06T02:46:31.406755Z"
    },
    "trusted": true
   },
   "outputs": [],
   "source": [
    "# Convert numeric predictions back to string labels for classification report\n",
    "y_test_true_labels = label_encoder.inverse_transform(y_test)\n",
    "y_test_pred_labels = label_encoder.inverse_transform(y_test_pred)"
   ]
  },
  {
   "cell_type": "code",
   "execution_count": 20,
   "metadata": {
    "execution": {
     "iopub.execute_input": "2025-06-06T02:46:31.715656Z",
     "iopub.status.busy": "2025-06-06T02:46:31.715419Z",
     "iopub.status.idle": "2025-06-06T02:46:31.779335Z",
     "shell.execute_reply": "2025-06-06T02:46:31.778702Z",
     "shell.execute_reply.started": "2025-06-06T02:46:31.715641Z"
    },
    "trusted": true
   },
   "outputs": [
    {
     "name": "stdout",
     "output_type": "stream",
     "text": [
      "                         precision    recall  f1-score   support\n",
      "\n",
      "      Actinic_keratosis     0.7434    0.6720    0.7059       125\n",
      "   Basal_cell_carcinoma     0.9061    0.9302    0.9180       301\n",
      "       Benign_keratosis     0.8702    0.7510    0.8062       241\n",
      "         Dermatofibroma     0.9355    0.8529    0.8923        34\n",
      "      Melanocytic_nevus     0.8779    0.9664    0.9200      1071\n",
      "               Melanoma     0.9011    0.7559    0.8222       422\n",
      "Squamous_cell_carcinoma     0.6056    0.6056    0.6056        71\n",
      "        Vascular_lesion     0.9643    0.9643    0.9643        28\n",
      "\n",
      "               accuracy                         0.8713      2293\n",
      "              macro avg     0.8505    0.8123    0.8293      2293\n",
      "           weighted avg     0.8712    0.8713    0.8685      2293\n",
      "\n"
     ]
    }
   ],
   "source": [
    "print(classification_report(y_test_true_labels, y_test_pred_labels, digits=4))"
   ]
  },
  {
   "cell_type": "code",
   "execution_count": null,
   "metadata": {},
   "outputs": [],
   "source": []
  }
 ],
 "metadata": {
  "kaggle": {
   "accelerator": "gpu",
   "dataSources": [
    {
     "datasetId": 7596036,
     "sourceId": 12067971,
     "sourceType": "datasetVersion"
    },
    {
     "datasetId": 7596326,
     "sourceId": 12068353,
     "sourceType": "datasetVersion"
    },
    {
     "datasetId": 7600728,
     "sourceId": 12074714,
     "sourceType": "datasetVersion"
    }
   ],
   "dockerImageVersionId": 31041,
   "isGpuEnabled": true,
   "isInternetEnabled": true,
   "language": "python",
   "sourceType": "notebook"
  },
  "kernelspec": {
   "display_name": "Python 3",
   "language": "python",
   "name": "python3"
  },
  "language_info": {
   "codemirror_mode": {
    "name": "ipython",
    "version": 3
   },
   "file_extension": ".py",
   "mimetype": "text/x-python",
   "name": "python",
   "nbconvert_exporter": "python",
   "pygments_lexer": "ipython3",
   "version": "3.11.11"
  }
 },
 "nbformat": 4,
 "nbformat_minor": 4
}
