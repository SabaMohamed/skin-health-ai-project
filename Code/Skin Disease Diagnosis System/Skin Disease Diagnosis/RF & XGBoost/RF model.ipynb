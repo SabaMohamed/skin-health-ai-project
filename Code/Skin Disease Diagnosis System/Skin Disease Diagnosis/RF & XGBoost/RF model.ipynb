{
 "cells": [
  {
   "cell_type": "code",
   "execution_count": 3,
   "metadata": {
    "execution": {
     "iopub.execute_input": "2025-06-05T21:28:34.015460Z",
     "iopub.status.busy": "2025-06-05T21:28:34.015133Z",
     "iopub.status.idle": "2025-06-05T21:28:34.021542Z",
     "shell.execute_reply": "2025-06-05T21:28:34.020349Z",
     "shell.execute_reply.started": "2025-06-05T21:28:34.015435Z"
    },
    "trusted": true
   },
   "outputs": [],
   "source": [
    "import pandas as pd\n",
    "import numpy as np\n",
    "\n",
    "import pandas as pd\n",
    "from sklearn.ensemble import RandomForestClassifier\n",
    "from sklearn.model_selection import RandomizedSearchCV, learning_curve\n",
    "from sklearn.metrics import classification_report, confusion_matrix, ConfusionMatrixDisplay\n",
    "import matplotlib.pyplot as plt\n",
    "import numpy as np\n",
    "\n",
    "import seaborn as sns\n",
    "from sklearn.metrics import classification_report, confusion_matrix, accuracy_score\n",
    "import warnings\n",
    "warnings.filterwarnings('ignore')"
   ]
  },
  {
   "cell_type": "code",
   "execution_count": 41,
   "metadata": {
    "_cell_guid": "b1076dfc-b9ad-4769-8c92-a6c4dae69d19",
    "_uuid": "8f2839f25d086af736a60e9eeb907d3b93b6e0e5",
    "execution": {
     "iopub.execute_input": "2025-06-05T22:53:44.804342Z",
     "iopub.status.busy": "2025-06-05T22:53:44.803426Z",
     "iopub.status.idle": "2025-06-05T22:53:59.808220Z",
     "shell.execute_reply": "2025-06-05T22:53:59.807018Z",
     "shell.execute_reply.started": "2025-06-05T22:53:44.804308Z"
    },
    "trusted": true
   },
   "outputs": [],
   "source": [
    "# Loading the data\n",
    "train_df = pd.read_csv(\"/kaggle/input/joined-isic-optimized-87-df/joined_train_df_optimized.csv\")\n",
    "test_df = pd.read_csv(\"/kaggle/input/joined-test-87-isic/joined_test_df_optimized.csv\")"
   ]
  },
  {
   "cell_type": "code",
   "execution_count": 42,
   "metadata": {
    "execution": {
     "iopub.execute_input": "2025-06-05T22:53:59.810268Z",
     "iopub.status.busy": "2025-06-05T22:53:59.809904Z",
     "iopub.status.idle": "2025-06-05T22:53:59.816747Z",
     "shell.execute_reply": "2025-06-05T22:53:59.815031Z",
     "shell.execute_reply.started": "2025-06-05T22:53:59.810230Z"
    },
    "trusted": true
   },
   "outputs": [
    {
     "name": "stdout",
     "output_type": "stream",
     "text": [
      "(29488, 1563)\n",
      "(2293, 1563)\n"
     ]
    }
   ],
   "source": [
    "print(train_df.shape)\n",
    "print(test_df.shape)"
   ]
  },
  {
   "cell_type": "code",
   "execution_count": 43,
   "metadata": {
    "execution": {
     "iopub.execute_input": "2025-06-05T22:54:05.783795Z",
     "iopub.status.busy": "2025-06-05T22:54:05.783390Z",
     "iopub.status.idle": "2025-06-05T22:54:05.795285Z",
     "shell.execute_reply": "2025-06-05T22:54:05.794175Z",
     "shell.execute_reply.started": "2025-06-05T22:54:05.783767Z"
    },
    "trusted": true
   },
   "outputs": [
    {
     "data": {
      "text/plain": [
       "array(['Melanocytic_nevus', 'Basal_cell_carcinoma',\n",
       "       'Squamous_cell_carcinoma', 'Vascular_lesion', 'Dermatofibroma',\n",
       "       'Actinic_keratosis', 'Benign_keratosis', 'Melanoma'], dtype=object)"
      ]
     },
     "execution_count": 43,
     "metadata": {},
     "output_type": "execute_result"
    }
   ],
   "source": [
    "train_df[\"disease_label\"].unique()"
   ]
  },
  {
   "cell_type": "code",
   "execution_count": 44,
   "metadata": {
    "execution": {
     "iopub.execute_input": "2025-06-05T22:54:06.560895Z",
     "iopub.status.busy": "2025-06-05T22:54:06.560558Z",
     "iopub.status.idle": "2025-06-05T22:54:06.568862Z",
     "shell.execute_reply": "2025-06-05T22:54:06.567698Z",
     "shell.execute_reply.started": "2025-06-05T22:54:06.560866Z"
    },
    "trusted": true
   },
   "outputs": [
    {
     "data": {
      "text/plain": [
       "array(['Melanocytic_nevus', 'Benign_keratosis', 'Basal_cell_carcinoma',\n",
       "       'Melanoma', 'Squamous_cell_carcinoma', 'Actinic_keratosis',\n",
       "       'Vascular_lesion', 'Dermatofibroma'], dtype=object)"
      ]
     },
     "execution_count": 44,
     "metadata": {},
     "output_type": "execute_result"
    }
   ],
   "source": [
    "test_df[\"disease_label\"].unique()"
   ]
  },
  {
   "cell_type": "code",
   "execution_count": 45,
   "metadata": {
    "execution": {
     "iopub.execute_input": "2025-06-05T22:54:09.972936Z",
     "iopub.status.busy": "2025-06-05T22:54:09.972595Z",
     "iopub.status.idle": "2025-06-05T22:54:10.001156Z",
     "shell.execute_reply": "2025-06-05T22:54:09.999789Z",
     "shell.execute_reply.started": "2025-06-05T22:54:09.972912Z"
    },
    "trusted": true
   },
   "outputs": [
    {
     "data": {
      "text/plain": [
       "Melanoma                0\n",
       "Melanocytic_nevus       0\n",
       "Basal_cell_carcinoma    0\n",
       "Actinic_keratosis       0\n",
       "Benign_keratosis        0\n",
       "                       ..\n",
       "feature_1531            0\n",
       "feature_1532            0\n",
       "feature_1533            0\n",
       "feature_1534            0\n",
       "feature_1535            0\n",
       "Length: 1563, dtype: int64"
      ]
     },
     "execution_count": 45,
     "metadata": {},
     "output_type": "execute_result"
    }
   ],
   "source": [
    "test_df.isna().sum()"
   ]
  },
  {
   "cell_type": "code",
   "execution_count": 46,
   "metadata": {
    "execution": {
     "iopub.execute_input": "2025-06-05T22:54:11.468088Z",
     "iopub.status.busy": "2025-06-05T22:54:11.467695Z",
     "iopub.status.idle": "2025-06-05T22:54:11.656960Z",
     "shell.execute_reply": "2025-06-05T22:54:11.655472Z",
     "shell.execute_reply.started": "2025-06-05T22:54:11.468063Z"
    },
    "trusted": true
   },
   "outputs": [
    {
     "data": {
      "text/plain": [
       "Melanoma                0\n",
       "Melanocytic_nevus       0\n",
       "Basal_cell_carcinoma    0\n",
       "Actinic_keratosis       0\n",
       "Benign_keratosis        0\n",
       "                       ..\n",
       "feature_1531            0\n",
       "feature_1532            0\n",
       "feature_1533            0\n",
       "feature_1534            0\n",
       "feature_1535            0\n",
       "Length: 1563, dtype: int64"
      ]
     },
     "execution_count": 46,
     "metadata": {},
     "output_type": "execute_result"
    }
   ],
   "source": [
    "train_df.isna().sum()"
   ]
  },
  {
   "cell_type": "code",
   "execution_count": 47,
   "metadata": {
    "execution": {
     "iopub.execute_input": "2025-06-05T22:54:17.867531Z",
     "iopub.status.busy": "2025-06-05T22:54:17.867180Z",
     "iopub.status.idle": "2025-06-05T22:54:17.894821Z",
     "shell.execute_reply": "2025-06-05T22:54:17.893593Z",
     "shell.execute_reply.started": "2025-06-05T22:54:17.867505Z"
    },
    "trusted": true
   },
   "outputs": [
    {
     "data": {
      "text/html": [
       "<div>\n",
       "<style scoped>\n",
       "    .dataframe tbody tr th:only-of-type {\n",
       "        vertical-align: middle;\n",
       "    }\n",
       "\n",
       "    .dataframe tbody tr th {\n",
       "        vertical-align: top;\n",
       "    }\n",
       "\n",
       "    .dataframe thead th {\n",
       "        text-align: right;\n",
       "    }\n",
       "</style>\n",
       "<table border=\"1\" class=\"dataframe\">\n",
       "  <thead>\n",
       "    <tr style=\"text-align: right;\">\n",
       "      <th></th>\n",
       "      <th>Melanoma</th>\n",
       "      <th>Melanocytic_nevus</th>\n",
       "      <th>Basal_cell_carcinoma</th>\n",
       "      <th>Actinic_keratosis</th>\n",
       "      <th>Benign_keratosis</th>\n",
       "      <th>Dermatofibroma</th>\n",
       "      <th>Vascular_lesion</th>\n",
       "      <th>Squamous_cell_carcinoma</th>\n",
       "      <th>image_path</th>\n",
       "      <th>site_anterior torso</th>\n",
       "      <th>...</th>\n",
       "      <th>feature_1526</th>\n",
       "      <th>feature_1527</th>\n",
       "      <th>feature_1528</th>\n",
       "      <th>feature_1529</th>\n",
       "      <th>feature_1530</th>\n",
       "      <th>feature_1531</th>\n",
       "      <th>feature_1532</th>\n",
       "      <th>feature_1533</th>\n",
       "      <th>feature_1534</th>\n",
       "      <th>feature_1535</th>\n",
       "    </tr>\n",
       "  </thead>\n",
       "  <tbody>\n",
       "    <tr>\n",
       "      <th>0</th>\n",
       "      <td>0.0</td>\n",
       "      <td>1.0</td>\n",
       "      <td>0.0</td>\n",
       "      <td>0.0</td>\n",
       "      <td>0.0</td>\n",
       "      <td>0.0</td>\n",
       "      <td>0.0</td>\n",
       "      <td>0.0</td>\n",
       "      <td>/kaggle/input/isic19/ISIC 2019/ISIC_2019_Train...</td>\n",
       "      <td>1.0</td>\n",
       "      <td>...</td>\n",
       "      <td>-0.358680</td>\n",
       "      <td>-0.275448</td>\n",
       "      <td>-0.219601</td>\n",
       "      <td>-0.079318</td>\n",
       "      <td>0.243864</td>\n",
       "      <td>0.161635</td>\n",
       "      <td>-0.135520</td>\n",
       "      <td>-0.225854</td>\n",
       "      <td>-0.295673</td>\n",
       "      <td>0.256497</td>\n",
       "    </tr>\n",
       "    <tr>\n",
       "      <th>1</th>\n",
       "      <td>0.0</td>\n",
       "      <td>0.0</td>\n",
       "      <td>0.0</td>\n",
       "      <td>0.0</td>\n",
       "      <td>1.0</td>\n",
       "      <td>0.0</td>\n",
       "      <td>0.0</td>\n",
       "      <td>0.0</td>\n",
       "      <td>/kaggle/input/isic19/ISIC 2019/ISIC_2019_Train...</td>\n",
       "      <td>0.0</td>\n",
       "      <td>...</td>\n",
       "      <td>0.224395</td>\n",
       "      <td>0.358083</td>\n",
       "      <td>-0.093568</td>\n",
       "      <td>0.005221</td>\n",
       "      <td>-0.162681</td>\n",
       "      <td>0.383933</td>\n",
       "      <td>0.509697</td>\n",
       "      <td>0.352567</td>\n",
       "      <td>0.180713</td>\n",
       "      <td>0.488324</td>\n",
       "    </tr>\n",
       "    <tr>\n",
       "      <th>2</th>\n",
       "      <td>0.0</td>\n",
       "      <td>0.0</td>\n",
       "      <td>1.0</td>\n",
       "      <td>0.0</td>\n",
       "      <td>0.0</td>\n",
       "      <td>0.0</td>\n",
       "      <td>0.0</td>\n",
       "      <td>0.0</td>\n",
       "      <td>/kaggle/input/isic19/ISIC 2019/ISIC_2019_Train...</td>\n",
       "      <td>1.0</td>\n",
       "      <td>...</td>\n",
       "      <td>-0.131074</td>\n",
       "      <td>0.343094</td>\n",
       "      <td>-0.257487</td>\n",
       "      <td>0.175053</td>\n",
       "      <td>-0.265037</td>\n",
       "      <td>0.326875</td>\n",
       "      <td>-0.068459</td>\n",
       "      <td>-0.093237</td>\n",
       "      <td>0.240568</td>\n",
       "      <td>-0.235423</td>\n",
       "    </tr>\n",
       "    <tr>\n",
       "      <th>3</th>\n",
       "      <td>0.0</td>\n",
       "      <td>1.0</td>\n",
       "      <td>0.0</td>\n",
       "      <td>0.0</td>\n",
       "      <td>0.0</td>\n",
       "      <td>0.0</td>\n",
       "      <td>0.0</td>\n",
       "      <td>0.0</td>\n",
       "      <td>/kaggle/input/isic19/ISIC 2019/ISIC_2019_Train...</td>\n",
       "      <td>1.0</td>\n",
       "      <td>...</td>\n",
       "      <td>-0.422874</td>\n",
       "      <td>-0.063306</td>\n",
       "      <td>-0.251134</td>\n",
       "      <td>-0.531468</td>\n",
       "      <td>0.200831</td>\n",
       "      <td>0.284164</td>\n",
       "      <td>-0.155972</td>\n",
       "      <td>-0.101167</td>\n",
       "      <td>-0.100669</td>\n",
       "      <td>0.093928</td>\n",
       "    </tr>\n",
       "    <tr>\n",
       "      <th>4</th>\n",
       "      <td>0.0</td>\n",
       "      <td>0.0</td>\n",
       "      <td>1.0</td>\n",
       "      <td>0.0</td>\n",
       "      <td>0.0</td>\n",
       "      <td>0.0</td>\n",
       "      <td>0.0</td>\n",
       "      <td>0.0</td>\n",
       "      <td>/kaggle/input/isic19/ISIC 2019/ISIC_2019_Train...</td>\n",
       "      <td>0.0</td>\n",
       "      <td>...</td>\n",
       "      <td>-0.335398</td>\n",
       "      <td>0.242917</td>\n",
       "      <td>-0.115023</td>\n",
       "      <td>0.328015</td>\n",
       "      <td>-0.226987</td>\n",
       "      <td>0.445545</td>\n",
       "      <td>0.189325</td>\n",
       "      <td>-0.297067</td>\n",
       "      <td>0.428755</td>\n",
       "      <td>-0.079604</td>\n",
       "    </tr>\n",
       "  </tbody>\n",
       "</table>\n",
       "<p>5 rows × 1563 columns</p>\n",
       "</div>"
      ],
      "text/plain": [
       "   Melanoma  Melanocytic_nevus  Basal_cell_carcinoma  Actinic_keratosis  \\\n",
       "0       0.0                1.0                   0.0                0.0   \n",
       "1       0.0                0.0                   0.0                0.0   \n",
       "2       0.0                0.0                   1.0                0.0   \n",
       "3       0.0                1.0                   0.0                0.0   \n",
       "4       0.0                0.0                   1.0                0.0   \n",
       "\n",
       "   Benign_keratosis  Dermatofibroma  Vascular_lesion  Squamous_cell_carcinoma  \\\n",
       "0               0.0             0.0              0.0                      0.0   \n",
       "1               1.0             0.0              0.0                      0.0   \n",
       "2               0.0             0.0              0.0                      0.0   \n",
       "3               0.0             0.0              0.0                      0.0   \n",
       "4               0.0             0.0              0.0                      0.0   \n",
       "\n",
       "                                          image_path  site_anterior torso  \\\n",
       "0  /kaggle/input/isic19/ISIC 2019/ISIC_2019_Train...                  1.0   \n",
       "1  /kaggle/input/isic19/ISIC 2019/ISIC_2019_Train...                  0.0   \n",
       "2  /kaggle/input/isic19/ISIC 2019/ISIC_2019_Train...                  1.0   \n",
       "3  /kaggle/input/isic19/ISIC 2019/ISIC_2019_Train...                  1.0   \n",
       "4  /kaggle/input/isic19/ISIC 2019/ISIC_2019_Train...                  0.0   \n",
       "\n",
       "   ...  feature_1526  feature_1527  feature_1528  feature_1529  feature_1530  \\\n",
       "0  ...     -0.358680     -0.275448     -0.219601     -0.079318      0.243864   \n",
       "1  ...      0.224395      0.358083     -0.093568      0.005221     -0.162681   \n",
       "2  ...     -0.131074      0.343094     -0.257487      0.175053     -0.265037   \n",
       "3  ...     -0.422874     -0.063306     -0.251134     -0.531468      0.200831   \n",
       "4  ...     -0.335398      0.242917     -0.115023      0.328015     -0.226987   \n",
       "\n",
       "   feature_1531  feature_1532  feature_1533  feature_1534  feature_1535  \n",
       "0      0.161635     -0.135520     -0.225854     -0.295673      0.256497  \n",
       "1      0.383933      0.509697      0.352567      0.180713      0.488324  \n",
       "2      0.326875     -0.068459     -0.093237      0.240568     -0.235423  \n",
       "3      0.284164     -0.155972     -0.101167     -0.100669      0.093928  \n",
       "4      0.445545      0.189325     -0.297067      0.428755     -0.079604  \n",
       "\n",
       "[5 rows x 1563 columns]"
      ]
     },
     "execution_count": 47,
     "metadata": {},
     "output_type": "execute_result"
    }
   ],
   "source": [
    "test_df.head()"
   ]
  },
  {
   "cell_type": "code",
   "execution_count": 48,
   "metadata": {
    "execution": {
     "iopub.execute_input": "2025-06-05T22:54:18.581819Z",
     "iopub.status.busy": "2025-06-05T22:54:18.581431Z",
     "iopub.status.idle": "2025-06-05T22:54:18.607586Z",
     "shell.execute_reply": "2025-06-05T22:54:18.606333Z",
     "shell.execute_reply.started": "2025-06-05T22:54:18.581794Z"
    },
    "trusted": true
   },
   "outputs": [
    {
     "data": {
      "text/html": [
       "<div>\n",
       "<style scoped>\n",
       "    .dataframe tbody tr th:only-of-type {\n",
       "        vertical-align: middle;\n",
       "    }\n",
       "\n",
       "    .dataframe tbody tr th {\n",
       "        vertical-align: top;\n",
       "    }\n",
       "\n",
       "    .dataframe thead th {\n",
       "        text-align: right;\n",
       "    }\n",
       "</style>\n",
       "<table border=\"1\" class=\"dataframe\">\n",
       "  <thead>\n",
       "    <tr style=\"text-align: right;\">\n",
       "      <th></th>\n",
       "      <th>Melanoma</th>\n",
       "      <th>Melanocytic_nevus</th>\n",
       "      <th>Basal_cell_carcinoma</th>\n",
       "      <th>Actinic_keratosis</th>\n",
       "      <th>Benign_keratosis</th>\n",
       "      <th>Dermatofibroma</th>\n",
       "      <th>Vascular_lesion</th>\n",
       "      <th>Squamous_cell_carcinoma</th>\n",
       "      <th>image_path</th>\n",
       "      <th>site_anterior torso</th>\n",
       "      <th>...</th>\n",
       "      <th>feature_1526</th>\n",
       "      <th>feature_1527</th>\n",
       "      <th>feature_1528</th>\n",
       "      <th>feature_1529</th>\n",
       "      <th>feature_1530</th>\n",
       "      <th>feature_1531</th>\n",
       "      <th>feature_1532</th>\n",
       "      <th>feature_1533</th>\n",
       "      <th>feature_1534</th>\n",
       "      <th>feature_1535</th>\n",
       "    </tr>\n",
       "  </thead>\n",
       "  <tbody>\n",
       "    <tr>\n",
       "      <th>0</th>\n",
       "      <td>0.0</td>\n",
       "      <td>1.0</td>\n",
       "      <td>0.0</td>\n",
       "      <td>0.0</td>\n",
       "      <td>0.0</td>\n",
       "      <td>0.0</td>\n",
       "      <td>0.0</td>\n",
       "      <td>0.0</td>\n",
       "      <td>/kaggle/input/isic19/ISIC 2019/ISIC_2019_Train...</td>\n",
       "      <td>0.0</td>\n",
       "      <td>...</td>\n",
       "      <td>-0.381115</td>\n",
       "      <td>0.042536</td>\n",
       "      <td>-0.221526</td>\n",
       "      <td>-0.465344</td>\n",
       "      <td>0.216053</td>\n",
       "      <td>0.265413</td>\n",
       "      <td>-0.112709</td>\n",
       "      <td>-0.198899</td>\n",
       "      <td>-0.056672</td>\n",
       "      <td>0.053271</td>\n",
       "    </tr>\n",
       "    <tr>\n",
       "      <th>1</th>\n",
       "      <td>0.0</td>\n",
       "      <td>0.0</td>\n",
       "      <td>1.0</td>\n",
       "      <td>0.0</td>\n",
       "      <td>0.0</td>\n",
       "      <td>0.0</td>\n",
       "      <td>0.0</td>\n",
       "      <td>0.0</td>\n",
       "      <td>/kaggle/input/isic19/ISIC 2019/ISIC_2019_Train...</td>\n",
       "      <td>0.0</td>\n",
       "      <td>...</td>\n",
       "      <td>0.051138</td>\n",
       "      <td>0.402260</td>\n",
       "      <td>-0.500111</td>\n",
       "      <td>0.215994</td>\n",
       "      <td>-0.128300</td>\n",
       "      <td>0.237245</td>\n",
       "      <td>0.067042</td>\n",
       "      <td>-0.008089</td>\n",
       "      <td>0.299901</td>\n",
       "      <td>-0.179578</td>\n",
       "    </tr>\n",
       "    <tr>\n",
       "      <th>2</th>\n",
       "      <td>0.0</td>\n",
       "      <td>1.0</td>\n",
       "      <td>0.0</td>\n",
       "      <td>0.0</td>\n",
       "      <td>0.0</td>\n",
       "      <td>0.0</td>\n",
       "      <td>0.0</td>\n",
       "      <td>0.0</td>\n",
       "      <td>/kaggle/input/isic19/ISIC 2019/ISIC_2019_Train...</td>\n",
       "      <td>1.0</td>\n",
       "      <td>...</td>\n",
       "      <td>-0.347500</td>\n",
       "      <td>-0.060503</td>\n",
       "      <td>-0.278919</td>\n",
       "      <td>-0.451418</td>\n",
       "      <td>0.150784</td>\n",
       "      <td>0.244543</td>\n",
       "      <td>-0.189390</td>\n",
       "      <td>-0.029913</td>\n",
       "      <td>-0.183265</td>\n",
       "      <td>0.154720</td>\n",
       "    </tr>\n",
       "    <tr>\n",
       "      <th>3</th>\n",
       "      <td>0.0</td>\n",
       "      <td>0.0</td>\n",
       "      <td>0.0</td>\n",
       "      <td>0.0</td>\n",
       "      <td>0.0</td>\n",
       "      <td>0.0</td>\n",
       "      <td>0.0</td>\n",
       "      <td>1.0</td>\n",
       "      <td>/kaggle/input/augmented-final-2/Squamous_cell_...</td>\n",
       "      <td>0.0</td>\n",
       "      <td>...</td>\n",
       "      <td>0.093930</td>\n",
       "      <td>-0.117644</td>\n",
       "      <td>0.286670</td>\n",
       "      <td>-0.218164</td>\n",
       "      <td>0.048146</td>\n",
       "      <td>0.212154</td>\n",
       "      <td>-0.132744</td>\n",
       "      <td>0.460772</td>\n",
       "      <td>-0.104400</td>\n",
       "      <td>0.129038</td>\n",
       "    </tr>\n",
       "    <tr>\n",
       "      <th>4</th>\n",
       "      <td>0.0</td>\n",
       "      <td>0.0</td>\n",
       "      <td>0.0</td>\n",
       "      <td>0.0</td>\n",
       "      <td>0.0</td>\n",
       "      <td>0.0</td>\n",
       "      <td>1.0</td>\n",
       "      <td>0.0</td>\n",
       "      <td>/kaggle/input/augmented-final-2/Vascular_lesio...</td>\n",
       "      <td>0.0</td>\n",
       "      <td>...</td>\n",
       "      <td>0.094021</td>\n",
       "      <td>-0.235975</td>\n",
       "      <td>0.142994</td>\n",
       "      <td>0.097290</td>\n",
       "      <td>-0.164727</td>\n",
       "      <td>-0.069371</td>\n",
       "      <td>-0.329767</td>\n",
       "      <td>0.255132</td>\n",
       "      <td>-0.191676</td>\n",
       "      <td>-0.610850</td>\n",
       "    </tr>\n",
       "  </tbody>\n",
       "</table>\n",
       "<p>5 rows × 1563 columns</p>\n",
       "</div>"
      ],
      "text/plain": [
       "   Melanoma  Melanocytic_nevus  Basal_cell_carcinoma  Actinic_keratosis  \\\n",
       "0       0.0                1.0                   0.0                0.0   \n",
       "1       0.0                0.0                   1.0                0.0   \n",
       "2       0.0                1.0                   0.0                0.0   \n",
       "3       0.0                0.0                   0.0                0.0   \n",
       "4       0.0                0.0                   0.0                0.0   \n",
       "\n",
       "   Benign_keratosis  Dermatofibroma  Vascular_lesion  Squamous_cell_carcinoma  \\\n",
       "0               0.0             0.0              0.0                      0.0   \n",
       "1               0.0             0.0              0.0                      0.0   \n",
       "2               0.0             0.0              0.0                      0.0   \n",
       "3               0.0             0.0              0.0                      1.0   \n",
       "4               0.0             0.0              1.0                      0.0   \n",
       "\n",
       "                                          image_path  site_anterior torso  \\\n",
       "0  /kaggle/input/isic19/ISIC 2019/ISIC_2019_Train...                  0.0   \n",
       "1  /kaggle/input/isic19/ISIC 2019/ISIC_2019_Train...                  0.0   \n",
       "2  /kaggle/input/isic19/ISIC 2019/ISIC_2019_Train...                  1.0   \n",
       "3  /kaggle/input/augmented-final-2/Squamous_cell_...                  0.0   \n",
       "4  /kaggle/input/augmented-final-2/Vascular_lesio...                  0.0   \n",
       "\n",
       "   ...  feature_1526  feature_1527  feature_1528  feature_1529  feature_1530  \\\n",
       "0  ...     -0.381115      0.042536     -0.221526     -0.465344      0.216053   \n",
       "1  ...      0.051138      0.402260     -0.500111      0.215994     -0.128300   \n",
       "2  ...     -0.347500     -0.060503     -0.278919     -0.451418      0.150784   \n",
       "3  ...      0.093930     -0.117644      0.286670     -0.218164      0.048146   \n",
       "4  ...      0.094021     -0.235975      0.142994      0.097290     -0.164727   \n",
       "\n",
       "   feature_1531  feature_1532  feature_1533  feature_1534  feature_1535  \n",
       "0      0.265413     -0.112709     -0.198899     -0.056672      0.053271  \n",
       "1      0.237245      0.067042     -0.008089      0.299901     -0.179578  \n",
       "2      0.244543     -0.189390     -0.029913     -0.183265      0.154720  \n",
       "3      0.212154     -0.132744      0.460772     -0.104400      0.129038  \n",
       "4     -0.069371     -0.329767      0.255132     -0.191676     -0.610850  \n",
       "\n",
       "[5 rows x 1563 columns]"
      ]
     },
     "execution_count": 48,
     "metadata": {},
     "output_type": "execute_result"
    }
   ],
   "source": [
    "train_df.head()"
   ]
  },
  {
   "cell_type": "code",
   "execution_count": 49,
   "metadata": {
    "execution": {
     "iopub.execute_input": "2025-06-05T22:54:25.039540Z",
     "iopub.status.busy": "2025-06-05T22:54:25.039142Z",
     "iopub.status.idle": "2025-06-05T22:54:25.045302Z",
     "shell.execute_reply": "2025-06-05T22:54:25.044025Z",
     "shell.execute_reply.started": "2025-06-05T22:54:25.039514Z"
    },
    "trusted": true
   },
   "outputs": [
    {
     "name": "stdout",
     "output_type": "stream",
     "text": [
      "Train_shape:  (29488, 1563)\n",
      "Test_shape:  (2293, 1563)\n"
     ]
    }
   ],
   "source": [
    "print(\"Train_shape: \", train_df.shape)\n",
    "print(\"Test_shape: \", test_df.shape)"
   ]
  },
  {
   "cell_type": "code",
   "execution_count": 50,
   "metadata": {
    "execution": {
     "iopub.execute_input": "2025-06-05T22:54:44.144145Z",
     "iopub.status.busy": "2025-06-05T22:54:44.143762Z",
     "iopub.status.idle": "2025-06-05T22:54:44.279615Z",
     "shell.execute_reply": "2025-06-05T22:54:44.278502Z",
     "shell.execute_reply.started": "2025-06-05T22:54:44.144120Z"
    },
    "trusted": true
   },
   "outputs": [],
   "source": [
    "# Droping the one-hot encoded label columns (Because the \"Disease Label\" column is enough to train the RF model)\n",
    "label_cols = [\n",
    "    'Melanoma', 'Melanocytic_nevus', 'Basal_cell_carcinoma', \n",
    "    'Actinic_keratosis', 'Benign_keratosis', 'Dermatofibroma', \n",
    "    'Vascular_lesion', 'Squamous_cell_carcinoma'\n",
    "]\n",
    "\n",
    "train_df = train_df.drop(columns=label_cols)\n",
    "test_df = test_df.drop(columns=label_cols)"
   ]
  },
  {
   "cell_type": "code",
   "execution_count": 17,
   "metadata": {
    "execution": {
     "iopub.execute_input": "2025-06-05T21:28:50.847116Z",
     "iopub.status.busy": "2025-06-05T21:28:50.846599Z",
     "iopub.status.idle": "2025-06-05T21:28:50.854207Z",
     "shell.execute_reply": "2025-06-05T21:28:50.853038Z",
     "shell.execute_reply.started": "2025-06-05T21:28:50.847080Z"
    },
    "trusted": true
   },
   "outputs": [
    {
     "name": "stdout",
     "output_type": "stream",
     "text": [
      "Train_shape:  (29488, 1555)\n",
      "Test_shape:  (2293, 1555)\n"
     ]
    }
   ],
   "source": [
    "print(\"Train_shape: \", train_df.shape)\n",
    "print(\"Test_shape: \", test_df.shape)"
   ]
  },
  {
   "cell_type": "code",
   "execution_count": 18,
   "metadata": {
    "execution": {
     "iopub.execute_input": "2025-06-05T21:28:50.855670Z",
     "iopub.status.busy": "2025-06-05T21:28:50.855279Z",
     "iopub.status.idle": "2025-06-05T21:28:50.895416Z",
     "shell.execute_reply": "2025-06-05T21:28:50.894474Z",
     "shell.execute_reply.started": "2025-06-05T21:28:50.855643Z"
    },
    "trusted": true
   },
   "outputs": [
    {
     "data": {
      "text/html": [
       "<div>\n",
       "<style scoped>\n",
       "    .dataframe tbody tr th:only-of-type {\n",
       "        vertical-align: middle;\n",
       "    }\n",
       "\n",
       "    .dataframe tbody tr th {\n",
       "        vertical-align: top;\n",
       "    }\n",
       "\n",
       "    .dataframe thead th {\n",
       "        text-align: right;\n",
       "    }\n",
       "</style>\n",
       "<table border=\"1\" class=\"dataframe\">\n",
       "  <thead>\n",
       "    <tr style=\"text-align: right;\">\n",
       "      <th></th>\n",
       "      <th>image_path</th>\n",
       "      <th>site_anterior torso</th>\n",
       "      <th>site_head/neck</th>\n",
       "      <th>site_lower extremity</th>\n",
       "      <th>site_oral/genital</th>\n",
       "      <th>site_palms/soles</th>\n",
       "      <th>site_posterior torso</th>\n",
       "      <th>site_upper extremity</th>\n",
       "      <th>sex_female</th>\n",
       "      <th>sex_male</th>\n",
       "      <th>...</th>\n",
       "      <th>feature_1526</th>\n",
       "      <th>feature_1527</th>\n",
       "      <th>feature_1528</th>\n",
       "      <th>feature_1529</th>\n",
       "      <th>feature_1530</th>\n",
       "      <th>feature_1531</th>\n",
       "      <th>feature_1532</th>\n",
       "      <th>feature_1533</th>\n",
       "      <th>feature_1534</th>\n",
       "      <th>feature_1535</th>\n",
       "    </tr>\n",
       "  </thead>\n",
       "  <tbody>\n",
       "    <tr>\n",
       "      <th>0</th>\n",
       "      <td>/kaggle/input/isic19/ISIC 2019/ISIC_2019_Train...</td>\n",
       "      <td>0.0</td>\n",
       "      <td>0.0</td>\n",
       "      <td>1.0</td>\n",
       "      <td>0.0</td>\n",
       "      <td>0.0</td>\n",
       "      <td>0.0</td>\n",
       "      <td>0.0</td>\n",
       "      <td>0.0</td>\n",
       "      <td>1.0</td>\n",
       "      <td>...</td>\n",
       "      <td>-0.381115</td>\n",
       "      <td>0.042536</td>\n",
       "      <td>-0.221526</td>\n",
       "      <td>-0.465344</td>\n",
       "      <td>0.216053</td>\n",
       "      <td>0.265413</td>\n",
       "      <td>-0.112709</td>\n",
       "      <td>-0.198899</td>\n",
       "      <td>-0.056672</td>\n",
       "      <td>0.053271</td>\n",
       "    </tr>\n",
       "    <tr>\n",
       "      <th>1</th>\n",
       "      <td>/kaggle/input/isic19/ISIC 2019/ISIC_2019_Train...</td>\n",
       "      <td>0.0</td>\n",
       "      <td>1.0</td>\n",
       "      <td>0.0</td>\n",
       "      <td>0.0</td>\n",
       "      <td>0.0</td>\n",
       "      <td>0.0</td>\n",
       "      <td>0.0</td>\n",
       "      <td>0.0</td>\n",
       "      <td>1.0</td>\n",
       "      <td>...</td>\n",
       "      <td>0.051138</td>\n",
       "      <td>0.402260</td>\n",
       "      <td>-0.500111</td>\n",
       "      <td>0.215994</td>\n",
       "      <td>-0.128300</td>\n",
       "      <td>0.237245</td>\n",
       "      <td>0.067042</td>\n",
       "      <td>-0.008089</td>\n",
       "      <td>0.299901</td>\n",
       "      <td>-0.179578</td>\n",
       "    </tr>\n",
       "    <tr>\n",
       "      <th>2</th>\n",
       "      <td>/kaggle/input/isic19/ISIC 2019/ISIC_2019_Train...</td>\n",
       "      <td>1.0</td>\n",
       "      <td>0.0</td>\n",
       "      <td>0.0</td>\n",
       "      <td>0.0</td>\n",
       "      <td>0.0</td>\n",
       "      <td>0.0</td>\n",
       "      <td>0.0</td>\n",
       "      <td>1.0</td>\n",
       "      <td>0.0</td>\n",
       "      <td>...</td>\n",
       "      <td>-0.347500</td>\n",
       "      <td>-0.060503</td>\n",
       "      <td>-0.278919</td>\n",
       "      <td>-0.451418</td>\n",
       "      <td>0.150784</td>\n",
       "      <td>0.244543</td>\n",
       "      <td>-0.189390</td>\n",
       "      <td>-0.029913</td>\n",
       "      <td>-0.183265</td>\n",
       "      <td>0.154720</td>\n",
       "    </tr>\n",
       "    <tr>\n",
       "      <th>3</th>\n",
       "      <td>/kaggle/input/augmented-final-2/Squamous_cell_...</td>\n",
       "      <td>0.0</td>\n",
       "      <td>0.0</td>\n",
       "      <td>0.0</td>\n",
       "      <td>0.0</td>\n",
       "      <td>0.0</td>\n",
       "      <td>0.0</td>\n",
       "      <td>1.0</td>\n",
       "      <td>0.0</td>\n",
       "      <td>1.0</td>\n",
       "      <td>...</td>\n",
       "      <td>0.093930</td>\n",
       "      <td>-0.117644</td>\n",
       "      <td>0.286670</td>\n",
       "      <td>-0.218164</td>\n",
       "      <td>0.048146</td>\n",
       "      <td>0.212154</td>\n",
       "      <td>-0.132744</td>\n",
       "      <td>0.460772</td>\n",
       "      <td>-0.104400</td>\n",
       "      <td>0.129038</td>\n",
       "    </tr>\n",
       "    <tr>\n",
       "      <th>4</th>\n",
       "      <td>/kaggle/input/augmented-final-2/Vascular_lesio...</td>\n",
       "      <td>0.0</td>\n",
       "      <td>0.0</td>\n",
       "      <td>0.0</td>\n",
       "      <td>0.0</td>\n",
       "      <td>0.0</td>\n",
       "      <td>0.0</td>\n",
       "      <td>1.0</td>\n",
       "      <td>0.0</td>\n",
       "      <td>1.0</td>\n",
       "      <td>...</td>\n",
       "      <td>0.094021</td>\n",
       "      <td>-0.235975</td>\n",
       "      <td>0.142994</td>\n",
       "      <td>0.097290</td>\n",
       "      <td>-0.164727</td>\n",
       "      <td>-0.069371</td>\n",
       "      <td>-0.329767</td>\n",
       "      <td>0.255132</td>\n",
       "      <td>-0.191676</td>\n",
       "      <td>-0.610850</td>\n",
       "    </tr>\n",
       "  </tbody>\n",
       "</table>\n",
       "<p>5 rows × 1555 columns</p>\n",
       "</div>"
      ],
      "text/plain": [
       "                                          image_path  site_anterior torso  \\\n",
       "0  /kaggle/input/isic19/ISIC 2019/ISIC_2019_Train...                  0.0   \n",
       "1  /kaggle/input/isic19/ISIC 2019/ISIC_2019_Train...                  0.0   \n",
       "2  /kaggle/input/isic19/ISIC 2019/ISIC_2019_Train...                  1.0   \n",
       "3  /kaggle/input/augmented-final-2/Squamous_cell_...                  0.0   \n",
       "4  /kaggle/input/augmented-final-2/Vascular_lesio...                  0.0   \n",
       "\n",
       "   site_head/neck  site_lower extremity  site_oral/genital  site_palms/soles  \\\n",
       "0             0.0                   1.0                0.0               0.0   \n",
       "1             1.0                   0.0                0.0               0.0   \n",
       "2             0.0                   0.0                0.0               0.0   \n",
       "3             0.0                   0.0                0.0               0.0   \n",
       "4             0.0                   0.0                0.0               0.0   \n",
       "\n",
       "   site_posterior torso  site_upper extremity  sex_female  sex_male  ...  \\\n",
       "0                   0.0                   0.0         0.0       1.0  ...   \n",
       "1                   0.0                   0.0         0.0       1.0  ...   \n",
       "2                   0.0                   0.0         1.0       0.0  ...   \n",
       "3                   0.0                   1.0         0.0       1.0  ...   \n",
       "4                   0.0                   1.0         0.0       1.0  ...   \n",
       "\n",
       "   feature_1526  feature_1527  feature_1528  feature_1529  feature_1530  \\\n",
       "0     -0.381115      0.042536     -0.221526     -0.465344      0.216053   \n",
       "1      0.051138      0.402260     -0.500111      0.215994     -0.128300   \n",
       "2     -0.347500     -0.060503     -0.278919     -0.451418      0.150784   \n",
       "3      0.093930     -0.117644      0.286670     -0.218164      0.048146   \n",
       "4      0.094021     -0.235975      0.142994      0.097290     -0.164727   \n",
       "\n",
       "   feature_1531  feature_1532  feature_1533 feature_1534  feature_1535  \n",
       "0      0.265413     -0.112709     -0.198899    -0.056672      0.053271  \n",
       "1      0.237245      0.067042     -0.008089     0.299901     -0.179578  \n",
       "2      0.244543     -0.189390     -0.029913    -0.183265      0.154720  \n",
       "3      0.212154     -0.132744      0.460772    -0.104400      0.129038  \n",
       "4     -0.069371     -0.329767      0.255132    -0.191676     -0.610850  \n",
       "\n",
       "[5 rows x 1555 columns]"
      ]
     },
     "execution_count": 18,
     "metadata": {},
     "output_type": "execute_result"
    }
   ],
   "source": [
    "train_df.head()"
   ]
  },
  {
   "cell_type": "code",
   "execution_count": 19,
   "metadata": {
    "execution": {
     "iopub.execute_input": "2025-06-05T21:28:50.896926Z",
     "iopub.status.busy": "2025-06-05T21:28:50.896544Z",
     "iopub.status.idle": "2025-06-05T21:28:51.048167Z",
     "shell.execute_reply": "2025-06-05T21:28:51.046861Z",
     "shell.execute_reply.started": "2025-06-05T21:28:50.896893Z"
    },
    "trusted": true
   },
   "outputs": [],
   "source": [
    "# Seting the X and y\n",
    "X_train = train_df.drop(columns=['disease_label', 'image_path'])\n",
    "y_train = train_df['disease_label']\n",
    "\n",
    "X_test = test_df.drop(columns=['disease_label', 'image_path'])\n",
    "y_test = test_df['disease_label']"
   ]
  },
  {
   "cell_type": "code",
   "execution_count": 20,
   "metadata": {
    "execution": {
     "iopub.execute_input": "2025-06-05T21:28:51.049225Z",
     "iopub.status.busy": "2025-06-05T21:28:51.048942Z",
     "iopub.status.idle": "2025-06-05T21:28:51.076261Z",
     "shell.execute_reply": "2025-06-05T21:28:51.074791Z",
     "shell.execute_reply.started": "2025-06-05T21:28:51.049206Z"
    },
    "trusted": true
   },
   "outputs": [
    {
     "data": {
      "text/html": [
       "<div>\n",
       "<style scoped>\n",
       "    .dataframe tbody tr th:only-of-type {\n",
       "        vertical-align: middle;\n",
       "    }\n",
       "\n",
       "    .dataframe tbody tr th {\n",
       "        vertical-align: top;\n",
       "    }\n",
       "\n",
       "    .dataframe thead th {\n",
       "        text-align: right;\n",
       "    }\n",
       "</style>\n",
       "<table border=\"1\" class=\"dataframe\">\n",
       "  <thead>\n",
       "    <tr style=\"text-align: right;\">\n",
       "      <th></th>\n",
       "      <th>site_anterior torso</th>\n",
       "      <th>site_head/neck</th>\n",
       "      <th>site_lower extremity</th>\n",
       "      <th>site_oral/genital</th>\n",
       "      <th>site_palms/soles</th>\n",
       "      <th>site_posterior torso</th>\n",
       "      <th>site_upper extremity</th>\n",
       "      <th>sex_female</th>\n",
       "      <th>sex_male</th>\n",
       "      <th>age_1-10</th>\n",
       "      <th>...</th>\n",
       "      <th>feature_1526</th>\n",
       "      <th>feature_1527</th>\n",
       "      <th>feature_1528</th>\n",
       "      <th>feature_1529</th>\n",
       "      <th>feature_1530</th>\n",
       "      <th>feature_1531</th>\n",
       "      <th>feature_1532</th>\n",
       "      <th>feature_1533</th>\n",
       "      <th>feature_1534</th>\n",
       "      <th>feature_1535</th>\n",
       "    </tr>\n",
       "  </thead>\n",
       "  <tbody>\n",
       "    <tr>\n",
       "      <th>0</th>\n",
       "      <td>0.0</td>\n",
       "      <td>0.0</td>\n",
       "      <td>1.0</td>\n",
       "      <td>0.0</td>\n",
       "      <td>0.0</td>\n",
       "      <td>0.0</td>\n",
       "      <td>0.0</td>\n",
       "      <td>0.0</td>\n",
       "      <td>1.0</td>\n",
       "      <td>0</td>\n",
       "      <td>...</td>\n",
       "      <td>-0.381115</td>\n",
       "      <td>0.042536</td>\n",
       "      <td>-0.221526</td>\n",
       "      <td>-0.465344</td>\n",
       "      <td>0.216053</td>\n",
       "      <td>0.265413</td>\n",
       "      <td>-0.112709</td>\n",
       "      <td>-0.198899</td>\n",
       "      <td>-0.056672</td>\n",
       "      <td>0.053271</td>\n",
       "    </tr>\n",
       "    <tr>\n",
       "      <th>1</th>\n",
       "      <td>0.0</td>\n",
       "      <td>1.0</td>\n",
       "      <td>0.0</td>\n",
       "      <td>0.0</td>\n",
       "      <td>0.0</td>\n",
       "      <td>0.0</td>\n",
       "      <td>0.0</td>\n",
       "      <td>0.0</td>\n",
       "      <td>1.0</td>\n",
       "      <td>0</td>\n",
       "      <td>...</td>\n",
       "      <td>0.051138</td>\n",
       "      <td>0.402260</td>\n",
       "      <td>-0.500111</td>\n",
       "      <td>0.215994</td>\n",
       "      <td>-0.128300</td>\n",
       "      <td>0.237245</td>\n",
       "      <td>0.067042</td>\n",
       "      <td>-0.008089</td>\n",
       "      <td>0.299901</td>\n",
       "      <td>-0.179578</td>\n",
       "    </tr>\n",
       "    <tr>\n",
       "      <th>2</th>\n",
       "      <td>1.0</td>\n",
       "      <td>0.0</td>\n",
       "      <td>0.0</td>\n",
       "      <td>0.0</td>\n",
       "      <td>0.0</td>\n",
       "      <td>0.0</td>\n",
       "      <td>0.0</td>\n",
       "      <td>1.0</td>\n",
       "      <td>0.0</td>\n",
       "      <td>0</td>\n",
       "      <td>...</td>\n",
       "      <td>-0.347500</td>\n",
       "      <td>-0.060503</td>\n",
       "      <td>-0.278919</td>\n",
       "      <td>-0.451418</td>\n",
       "      <td>0.150784</td>\n",
       "      <td>0.244543</td>\n",
       "      <td>-0.189390</td>\n",
       "      <td>-0.029913</td>\n",
       "      <td>-0.183265</td>\n",
       "      <td>0.154720</td>\n",
       "    </tr>\n",
       "    <tr>\n",
       "      <th>3</th>\n",
       "      <td>0.0</td>\n",
       "      <td>0.0</td>\n",
       "      <td>0.0</td>\n",
       "      <td>0.0</td>\n",
       "      <td>0.0</td>\n",
       "      <td>0.0</td>\n",
       "      <td>1.0</td>\n",
       "      <td>0.0</td>\n",
       "      <td>1.0</td>\n",
       "      <td>0</td>\n",
       "      <td>...</td>\n",
       "      <td>0.093930</td>\n",
       "      <td>-0.117644</td>\n",
       "      <td>0.286670</td>\n",
       "      <td>-0.218164</td>\n",
       "      <td>0.048146</td>\n",
       "      <td>0.212154</td>\n",
       "      <td>-0.132744</td>\n",
       "      <td>0.460772</td>\n",
       "      <td>-0.104400</td>\n",
       "      <td>0.129038</td>\n",
       "    </tr>\n",
       "    <tr>\n",
       "      <th>4</th>\n",
       "      <td>0.0</td>\n",
       "      <td>0.0</td>\n",
       "      <td>0.0</td>\n",
       "      <td>0.0</td>\n",
       "      <td>0.0</td>\n",
       "      <td>0.0</td>\n",
       "      <td>1.0</td>\n",
       "      <td>0.0</td>\n",
       "      <td>1.0</td>\n",
       "      <td>0</td>\n",
       "      <td>...</td>\n",
       "      <td>0.094021</td>\n",
       "      <td>-0.235975</td>\n",
       "      <td>0.142994</td>\n",
       "      <td>0.097290</td>\n",
       "      <td>-0.164727</td>\n",
       "      <td>-0.069371</td>\n",
       "      <td>-0.329767</td>\n",
       "      <td>0.255132</td>\n",
       "      <td>-0.191676</td>\n",
       "      <td>-0.610850</td>\n",
       "    </tr>\n",
       "  </tbody>\n",
       "</table>\n",
       "<p>5 rows × 1553 columns</p>\n",
       "</div>"
      ],
      "text/plain": [
       "   site_anterior torso  site_head/neck  site_lower extremity  \\\n",
       "0                  0.0             0.0                   1.0   \n",
       "1                  0.0             1.0                   0.0   \n",
       "2                  1.0             0.0                   0.0   \n",
       "3                  0.0             0.0                   0.0   \n",
       "4                  0.0             0.0                   0.0   \n",
       "\n",
       "   site_oral/genital  site_palms/soles  site_posterior torso  \\\n",
       "0                0.0               0.0                   0.0   \n",
       "1                0.0               0.0                   0.0   \n",
       "2                0.0               0.0                   0.0   \n",
       "3                0.0               0.0                   0.0   \n",
       "4                0.0               0.0                   0.0   \n",
       "\n",
       "   site_upper extremity  sex_female  sex_male  age_1-10  ...  feature_1526  \\\n",
       "0                   0.0         0.0       1.0         0  ...     -0.381115   \n",
       "1                   0.0         0.0       1.0         0  ...      0.051138   \n",
       "2                   0.0         1.0       0.0         0  ...     -0.347500   \n",
       "3                   1.0         0.0       1.0         0  ...      0.093930   \n",
       "4                   1.0         0.0       1.0         0  ...      0.094021   \n",
       "\n",
       "   feature_1527  feature_1528  feature_1529  feature_1530  feature_1531  \\\n",
       "0      0.042536     -0.221526     -0.465344      0.216053      0.265413   \n",
       "1      0.402260     -0.500111      0.215994     -0.128300      0.237245   \n",
       "2     -0.060503     -0.278919     -0.451418      0.150784      0.244543   \n",
       "3     -0.117644      0.286670     -0.218164      0.048146      0.212154   \n",
       "4     -0.235975      0.142994      0.097290     -0.164727     -0.069371   \n",
       "\n",
       "   feature_1532  feature_1533  feature_1534  feature_1535  \n",
       "0     -0.112709     -0.198899     -0.056672      0.053271  \n",
       "1      0.067042     -0.008089      0.299901     -0.179578  \n",
       "2     -0.189390     -0.029913     -0.183265      0.154720  \n",
       "3     -0.132744      0.460772     -0.104400      0.129038  \n",
       "4     -0.329767      0.255132     -0.191676     -0.610850  \n",
       "\n",
       "[5 rows x 1553 columns]"
      ]
     },
     "execution_count": 20,
     "metadata": {},
     "output_type": "execute_result"
    }
   ],
   "source": [
    "X_train.head()"
   ]
  },
  {
   "cell_type": "code",
   "execution_count": 22,
   "metadata": {
    "execution": {
     "iopub.execute_input": "2025-06-05T21:28:51.122159Z",
     "iopub.status.busy": "2025-06-05T21:28:51.120851Z",
     "iopub.status.idle": "2025-06-05T21:28:51.147171Z",
     "shell.execute_reply": "2025-06-05T21:28:51.145855Z",
     "shell.execute_reply.started": "2025-06-05T21:28:51.122085Z"
    },
    "trusted": true
   },
   "outputs": [
    {
     "name": "stdout",
     "output_type": "stream",
     "text": [
      "Data shapes:\n",
      "X_train: (29488, 1553), y_train: (29488,)\n",
      "X_test: (2293, 1553), y_test: (2293,)\n"
     ]
    }
   ],
   "source": [
    "print(\"Data shapes:\")\n",
    "print(f\"X_train: {X_train.shape}, y_train: {y_train.shape}\")\n",
    "print(f\"X_test: {X_test.shape}, y_test: {y_test.shape}\")"
   ]
  },
  {
   "cell_type": "code",
   "execution_count": 23,
   "metadata": {
    "execution": {
     "iopub.execute_input": "2025-06-05T21:28:51.148660Z",
     "iopub.status.busy": "2025-06-05T21:28:51.148376Z",
     "iopub.status.idle": "2025-06-05T21:28:51.175529Z",
     "shell.execute_reply": "2025-06-05T21:28:51.174273Z",
     "shell.execute_reply.started": "2025-06-05T21:28:51.148638Z"
    },
    "trusted": true
   },
   "outputs": [],
   "source": [
    "rf_baseline = RandomForestClassifier(random_state=42)"
   ]
  },
  {
   "cell_type": "code",
   "execution_count": 24,
   "metadata": {
    "execution": {
     "iopub.execute_input": "2025-06-05T21:28:51.177019Z",
     "iopub.status.busy": "2025-06-05T21:28:51.176591Z",
     "iopub.status.idle": "2025-06-05T21:30:07.567743Z",
     "shell.execute_reply": "2025-06-05T21:30:07.566587Z",
     "shell.execute_reply.started": "2025-06-05T21:28:51.176943Z"
    },
    "trusted": true
   },
   "outputs": [
    {
     "name": "stdout",
     "output_type": "stream",
     "text": [
      "Training accuracy: 0.993\n",
      "Test accuracy: 0.870\n"
     ]
    }
   ],
   "source": [
    "rf_baseline.fit(X_train, y_train)\n",
    "print(\"Training accuracy: {:.3f}\".format(rf_baseline.score(X_train, y_train)))\n",
    "print(\"Test accuracy: {:.3f}\".format(rf_baseline.score(X_test, y_test)))"
   ]
  },
  {
   "cell_type": "code",
   "execution_count": 25,
   "metadata": {
    "execution": {
     "iopub.execute_input": "2025-06-05T21:31:58.449476Z",
     "iopub.status.busy": "2025-06-05T21:31:58.447582Z",
     "iopub.status.idle": "2025-06-05T21:31:58.501559Z",
     "shell.execute_reply": "2025-06-05T21:31:58.500411Z",
     "shell.execute_reply.started": "2025-06-05T21:31:58.449384Z"
    },
    "trusted": true
   },
   "outputs": [
    {
     "data": {
      "text/plain": [
       "['rf_baseline_model.pkl']"
      ]
     },
     "execution_count": 25,
     "metadata": {},
     "output_type": "execute_result"
    }
   ],
   "source": [
    "import joblib\n",
    "\n",
    "# Saving the model\n",
    "joblib.dump(rf_baseline, 'rf_baseline_model.pkl')"
   ]
  },
  {
   "cell_type": "markdown",
   "metadata": {},
   "source": [
    "# Random Search"
   ]
  },
  {
   "cell_type": "code",
   "execution_count": 27,
   "metadata": {
    "execution": {
     "iopub.execute_input": "2025-06-05T21:39:06.656673Z",
     "iopub.status.busy": "2025-06-05T21:39:06.656194Z",
     "iopub.status.idle": "2025-06-05T21:39:07.026907Z",
     "shell.execute_reply": "2025-06-05T21:39:07.025422Z",
     "shell.execute_reply.started": "2025-06-05T21:39:06.656637Z"
    },
    "trusted": true
   },
   "outputs": [],
   "source": [
    "import pandas as pd\n",
    "from sklearn.ensemble import RandomForestClassifier\n",
    "from sklearn.model_selection import cross_val_score\n",
    "from sklearn.metrics import classification_report, confusion_matrix, accuracy_score\n",
    "import matplotlib.pyplot as plt\n",
    "import numpy as np\n",
    "import seaborn as sns\n",
    "import optuna\n",
    "import time\n",
    "import warnings\n",
    "warnings.filterwarnings('ignore')"
   ]
  },
  {
   "cell_type": "code",
   "execution_count": 28,
   "metadata": {
    "execution": {
     "iopub.execute_input": "2025-06-05T21:39:07.029287Z",
     "iopub.status.busy": "2025-06-05T21:39:07.028929Z",
     "iopub.status.idle": "2025-06-05T21:39:07.037152Z",
     "shell.execute_reply": "2025-06-05T21:39:07.035794Z",
     "shell.execute_reply.started": "2025-06-05T21:39:07.029262Z"
    },
    "trusted": true
   },
   "outputs": [],
   "source": [
    "# Defining the objective function for Optuna\n",
    "def objective(trial):\n",
    "    # Defining the hyperparameter search space\n",
    "    params = {\n",
    "        'n_estimators': trial.suggest_int('n_estimators', 50, 300, step=25),\n",
    "        'max_depth': trial.suggest_int('max_depth', 3, 20),\n",
    "        'min_samples_split': trial.suggest_int('min_samples_split', 2, 20),\n",
    "        'min_samples_leaf': trial.suggest_int('min_samples_leaf', 1, 10),\n",
    "        'max_features': trial.suggest_categorical('max_features', ['sqrt', 'log2', None]),\n",
    "        'bootstrap': trial.suggest_categorical('bootstrap', [True, False]),\n",
    "        'class_weight': trial.suggest_categorical('class_weight', ['balanced', 'balanced_subsample', None]),\n",
    "        'random_state': 42,\n",
    "        'n_jobs': -1\n",
    "    }\n",
    "    \n",
    "    # Creating and evaluating the model with a 3-fold CV for speed\n",
    "    rf = RandomForestClassifier(**params)\n",
    "    \n",
    "    # Using a 3-fold CV for a faster evaluation\n",
    "    cv_scores = cross_val_score(rf, X_train, y_train, cv=3, scoring='accuracy', n_jobs=-1)\n",
    "    \n",
    "    return cv_scores.mean()"
   ]
  },
  {
   "cell_type": "code",
   "execution_count": 29,
   "metadata": {
    "execution": {
     "iopub.execute_input": "2025-06-05T21:39:08.564805Z",
     "iopub.status.busy": "2025-06-05T21:39:08.564449Z",
     "iopub.status.idle": "2025-06-05T21:39:08.574131Z",
     "shell.execute_reply": "2025-06-05T21:39:08.573017Z",
     "shell.execute_reply.started": "2025-06-05T21:39:08.564781Z"
    },
    "trusted": true
   },
   "outputs": [
    {
     "name": "stderr",
     "output_type": "stream",
     "text": [
      "[I 2025-06-05 21:39:08,568] A new study created in memory with name: no-name-7daa0225-c9a5-42fc-8551-68aa63cdef6c\n"
     ]
    },
    {
     "name": "stdout",
     "output_type": "stream",
     "text": [
      "\n",
      "Starting Optuna hyperparameter optimization...\n",
      "============================================================\n"
     ]
    }
   ],
   "source": [
    "# Creating a study with aggressive pruning for speed\n",
    "print(\"\\nStarting Optuna hyperparameter optimization...\")\n",
    "print(\"=\" * 60)\n",
    "\n",
    "# Using the TPE sampler for a faster convergence\n",
    "sampler = optuna.samplers.TPESampler(seed=42)\n",
    "study = optuna.create_study(\n",
    "    direction='maximize',\n",
    "    sampler=sampler,\n",
    "    pruner=optuna.pruners.MedianPruner(n_startup_trials=5, n_warmup_steps=1)\n",
    ")"
   ]
  },
  {
   "cell_type": "code",
   "execution_count": 30,
   "metadata": {
    "execution": {
     "iopub.execute_input": "2025-06-05T21:39:10.406541Z",
     "iopub.status.busy": "2025-06-05T21:39:10.406190Z",
     "iopub.status.idle": "2025-06-05T21:39:10.411724Z",
     "shell.execute_reply": "2025-06-05T21:39:10.410231Z",
     "shell.execute_reply.started": "2025-06-05T21:39:10.406515Z"
    },
    "trusted": true
   },
   "outputs": [],
   "source": [
    "# Recording the start time\n",
    "start_time = time.time()"
   ]
  },
  {
   "cell_type": "code",
   "execution_count": 31,
   "metadata": {
    "execution": {
     "iopub.execute_input": "2025-06-05T21:39:10.560148Z",
     "iopub.status.busy": "2025-06-05T21:39:10.559245Z",
     "iopub.status.idle": "2025-06-05T22:42:51.884079Z",
     "shell.execute_reply": "2025-06-05T22:42:51.882321Z",
     "shell.execute_reply.started": "2025-06-05T21:39:10.560104Z"
    },
    "trusted": true
   },
   "outputs": [
    {
     "name": "stderr",
     "output_type": "stream",
     "text": [
      "[I 2025-06-05 21:40:32,305] Trial 0 finished with value: 0.9858925951850569 and parameters: {'n_estimators': 150, 'max_depth': 20, 'min_samples_split': 15, 'min_samples_leaf': 6, 'max_features': 'sqrt', 'bootstrap': True, 'class_weight': None}. Best is trial 0 with value: 0.9858925951850569.\n",
      "[I 2025-06-05 21:41:26,025] Trial 1 finished with value: 0.9892498930766634 and parameters: {'n_estimators': 275, 'max_depth': 6, 'min_samples_split': 5, 'min_samples_leaf': 2, 'max_features': 'log2', 'bootstrap': False, 'class_weight': None}. Best is trial 1 with value: 0.9892498930766634.\n",
      "[I 2025-06-05 22:42:51,873] Trial 2 finished with value: 0.9853839033364049 and parameters: {'n_estimators': 175, 'max_depth': 17, 'min_samples_split': 5, 'min_samples_leaf': 6, 'max_features': None, 'bootstrap': True, 'class_weight': 'balanced_subsample'}. Best is trial 1 with value: 0.9892498930766634.\n"
     ]
    }
   ],
   "source": [
    "# Optimizing (reducing the trials for speed)\n",
    "study.optimize(objective, n_trials=50, timeout=300)  # 5-minute timeout"
   ]
  },
  {
   "cell_type": "code",
   "execution_count": 32,
   "metadata": {
    "execution": {
     "iopub.execute_input": "2025-06-05T22:42:51.887432Z",
     "iopub.status.busy": "2025-06-05T22:42:51.886831Z",
     "iopub.status.idle": "2025-06-05T22:42:51.896170Z",
     "shell.execute_reply": "2025-06-05T22:42:51.894692Z",
     "shell.execute_reply.started": "2025-06-05T22:42:51.887403Z"
    },
    "trusted": true
   },
   "outputs": [],
   "source": [
    "# Recording the end time\n",
    "end_time = time.time()\n",
    "optimization_time = end_time - start_time"
   ]
  },
  {
   "cell_type": "code",
   "execution_count": 33,
   "metadata": {
    "execution": {
     "iopub.execute_input": "2025-06-05T22:42:51.898106Z",
     "iopub.status.busy": "2025-06-05T22:42:51.897704Z",
     "iopub.status.idle": "2025-06-05T22:42:51.921009Z",
     "shell.execute_reply": "2025-06-05T22:42:51.919796Z",
     "shell.execute_reply.started": "2025-06-05T22:42:51.898071Z"
    },
    "trusted": true
   },
   "outputs": [
    {
     "name": "stdout",
     "output_type": "stream",
     "text": [
      "\n",
      "Optimization completed in 3821.48 seconds (63.69 minutes)\n",
      "Number of completed trials: 3\n",
      "Best cross-validation accuracy: 0.9892\n"
     ]
    }
   ],
   "source": [
    "print(f\"\\nOptimization completed in {optimization_time:.2f} seconds ({optimization_time/60:.2f} minutes)\")\n",
    "print(f\"Number of completed trials: {len(study.trials)}\")\n",
    "print(f\"Best cross-validation accuracy: {study.best_value:.4f}\")"
   ]
  },
  {
   "cell_type": "code",
   "execution_count": 34,
   "metadata": {
    "execution": {
     "iopub.execute_input": "2025-06-05T22:42:51.923889Z",
     "iopub.status.busy": "2025-06-05T22:42:51.923529Z",
     "iopub.status.idle": "2025-06-05T22:42:51.949777Z",
     "shell.execute_reply": "2025-06-05T22:42:51.948259Z",
     "shell.execute_reply.started": "2025-06-05T22:42:51.923865Z"
    },
    "trusted": true
   },
   "outputs": [
    {
     "name": "stdout",
     "output_type": "stream",
     "text": [
      "\n",
      "Best hyperparameters:\n",
      "========================================\n",
      "n_estimators: 275\n",
      "max_depth: 6\n",
      "min_samples_split: 5\n",
      "min_samples_leaf: 2\n",
      "max_features: log2\n",
      "bootstrap: False\n",
      "class_weight: None\n"
     ]
    }
   ],
   "source": [
    "# Geting the best parameters\n",
    "best_params = study.best_params\n",
    "print(f\"\\nBest hyperparameters:\")\n",
    "print(\"=\" * 40)\n",
    "for param, value in best_params.items():\n",
    "    print(f\"{param}: {value}\")"
   ]
  },
  {
   "cell_type": "code",
   "execution_count": 35,
   "metadata": {
    "execution": {
     "iopub.execute_input": "2025-06-05T22:42:51.951404Z",
     "iopub.status.busy": "2025-06-05T22:42:51.951021Z",
     "iopub.status.idle": "2025-06-05T22:43:16.895393Z",
     "shell.execute_reply": "2025-06-05T22:43:16.894326Z",
     "shell.execute_reply.started": "2025-06-05T22:42:51.951367Z"
    },
    "trusted": true
   },
   "outputs": [
    {
     "name": "stdout",
     "output_type": "stream",
     "text": [
      "\n",
      "Training final model with best parameters...\n"
     ]
    },
    {
     "data": {
      "text/html": [
       "<style>#sk-container-id-1 {color: black;background-color: white;}#sk-container-id-1 pre{padding: 0;}#sk-container-id-1 div.sk-toggleable {background-color: white;}#sk-container-id-1 label.sk-toggleable__label {cursor: pointer;display: block;width: 100%;margin-bottom: 0;padding: 0.3em;box-sizing: border-box;text-align: center;}#sk-container-id-1 label.sk-toggleable__label-arrow:before {content: \"▸\";float: left;margin-right: 0.25em;color: #696969;}#sk-container-id-1 label.sk-toggleable__label-arrow:hover:before {color: black;}#sk-container-id-1 div.sk-estimator:hover label.sk-toggleable__label-arrow:before {color: black;}#sk-container-id-1 div.sk-toggleable__content {max-height: 0;max-width: 0;overflow: hidden;text-align: left;background-color: #f0f8ff;}#sk-container-id-1 div.sk-toggleable__content pre {margin: 0.2em;color: black;border-radius: 0.25em;background-color: #f0f8ff;}#sk-container-id-1 input.sk-toggleable__control:checked~div.sk-toggleable__content {max-height: 200px;max-width: 100%;overflow: auto;}#sk-container-id-1 input.sk-toggleable__control:checked~label.sk-toggleable__label-arrow:before {content: \"▾\";}#sk-container-id-1 div.sk-estimator input.sk-toggleable__control:checked~label.sk-toggleable__label {background-color: #d4ebff;}#sk-container-id-1 div.sk-label input.sk-toggleable__control:checked~label.sk-toggleable__label {background-color: #d4ebff;}#sk-container-id-1 input.sk-hidden--visually {border: 0;clip: rect(1px 1px 1px 1px);clip: rect(1px, 1px, 1px, 1px);height: 1px;margin: -1px;overflow: hidden;padding: 0;position: absolute;width: 1px;}#sk-container-id-1 div.sk-estimator {font-family: monospace;background-color: #f0f8ff;border: 1px dotted black;border-radius: 0.25em;box-sizing: border-box;margin-bottom: 0.5em;}#sk-container-id-1 div.sk-estimator:hover {background-color: #d4ebff;}#sk-container-id-1 div.sk-parallel-item::after {content: \"\";width: 100%;border-bottom: 1px solid gray;flex-grow: 1;}#sk-container-id-1 div.sk-label:hover label.sk-toggleable__label {background-color: #d4ebff;}#sk-container-id-1 div.sk-serial::before {content: \"\";position: absolute;border-left: 1px solid gray;box-sizing: border-box;top: 0;bottom: 0;left: 50%;z-index: 0;}#sk-container-id-1 div.sk-serial {display: flex;flex-direction: column;align-items: center;background-color: white;padding-right: 0.2em;padding-left: 0.2em;position: relative;}#sk-container-id-1 div.sk-item {position: relative;z-index: 1;}#sk-container-id-1 div.sk-parallel {display: flex;align-items: stretch;justify-content: center;background-color: white;position: relative;}#sk-container-id-1 div.sk-item::before, #sk-container-id-1 div.sk-parallel-item::before {content: \"\";position: absolute;border-left: 1px solid gray;box-sizing: border-box;top: 0;bottom: 0;left: 50%;z-index: -1;}#sk-container-id-1 div.sk-parallel-item {display: flex;flex-direction: column;z-index: 1;position: relative;background-color: white;}#sk-container-id-1 div.sk-parallel-item:first-child::after {align-self: flex-end;width: 50%;}#sk-container-id-1 div.sk-parallel-item:last-child::after {align-self: flex-start;width: 50%;}#sk-container-id-1 div.sk-parallel-item:only-child::after {width: 0;}#sk-container-id-1 div.sk-dashed-wrapped {border: 1px dashed gray;margin: 0 0.4em 0.5em 0.4em;box-sizing: border-box;padding-bottom: 0.4em;background-color: white;}#sk-container-id-1 div.sk-label label {font-family: monospace;font-weight: bold;display: inline-block;line-height: 1.2em;}#sk-container-id-1 div.sk-label-container {text-align: center;}#sk-container-id-1 div.sk-container {/* jupyter's `normalize.less` sets `[hidden] { display: none; }` but bootstrap.min.css set `[hidden] { display: none !important; }` so we also need the `!important` here to be able to override the default hidden behavior on the sphinx rendered scikit-learn.org. See: https://github.com/scikit-learn/scikit-learn/issues/21755 */display: inline-block !important;position: relative;}#sk-container-id-1 div.sk-text-repr-fallback {display: none;}</style><div id=\"sk-container-id-1\" class=\"sk-top-container\"><div class=\"sk-text-repr-fallback\"><pre>RandomForestClassifier(bootstrap=False, max_depth=6, max_features=&#x27;log2&#x27;,\n",
       "                       min_samples_leaf=2, min_samples_split=5,\n",
       "                       n_estimators=275, n_jobs=-1, random_state=42)</pre><b>In a Jupyter environment, please rerun this cell to show the HTML representation or trust the notebook. <br />On GitHub, the HTML representation is unable to render, please try loading this page with nbviewer.org.</b></div><div class=\"sk-container\" hidden><div class=\"sk-item\"><div class=\"sk-estimator sk-toggleable\"><input class=\"sk-toggleable__control sk-hidden--visually\" id=\"sk-estimator-id-1\" type=\"checkbox\" checked><label for=\"sk-estimator-id-1\" class=\"sk-toggleable__label sk-toggleable__label-arrow\">RandomForestClassifier</label><div class=\"sk-toggleable__content\"><pre>RandomForestClassifier(bootstrap=False, max_depth=6, max_features=&#x27;log2&#x27;,\n",
       "                       min_samples_leaf=2, min_samples_split=5,\n",
       "                       n_estimators=275, n_jobs=-1, random_state=42)</pre></div></div></div></div></div>"
      ],
      "text/plain": [
       "RandomForestClassifier(bootstrap=False, max_depth=6, max_features='log2',\n",
       "                       min_samples_leaf=2, min_samples_split=5,\n",
       "                       n_estimators=275, n_jobs=-1, random_state=42)"
      ]
     },
     "execution_count": 35,
     "metadata": {},
     "output_type": "execute_result"
    }
   ],
   "source": [
    "# Training the final model with the best parameters\n",
    "print(\"\\nTraining final model with best parameters...\")\n",
    "best_rf = RandomForestClassifier(**best_params, random_state=42, n_jobs=-1)\n",
    "best_rf.fit(X_train, y_train)"
   ]
  },
  {
   "cell_type": "code",
   "execution_count": 36,
   "metadata": {
    "execution": {
     "iopub.execute_input": "2025-06-05T22:43:16.897058Z",
     "iopub.status.busy": "2025-06-05T22:43:16.896703Z",
     "iopub.status.idle": "2025-06-05T22:43:17.800253Z",
     "shell.execute_reply": "2025-06-05T22:43:17.799275Z",
     "shell.execute_reply.started": "2025-06-05T22:43:16.897019Z"
    },
    "trusted": true
   },
   "outputs": [],
   "source": [
    "# Evaluating the final model\n",
    "final_train_acc = best_rf.score(X_train, y_train)\n",
    "final_test_acc = best_rf.score(X_test, y_test)"
   ]
  },
  {
   "cell_type": "code",
   "execution_count": 37,
   "metadata": {
    "execution": {
     "iopub.execute_input": "2025-06-05T22:43:17.801921Z",
     "iopub.status.busy": "2025-06-05T22:43:17.801594Z",
     "iopub.status.idle": "2025-06-05T22:43:17.808350Z",
     "shell.execute_reply": "2025-06-05T22:43:17.807160Z",
     "shell.execute_reply.started": "2025-06-05T22:43:17.801897Z"
    },
    "trusted": true
   },
   "outputs": [
    {
     "name": "stdout",
     "output_type": "stream",
     "text": [
      "\n",
      "Final Results:\n",
      "========================================\n",
      "Training accuracy: 0.9908\n",
      "Test accuracy: 0.8727\n",
      "Improvement over baseline: 0.0067\n"
     ]
    }
   ],
   "source": [
    "print(f\"\\nFinal Results:\")\n",
    "print(\"=\" * 40)\n",
    "print(f\"Training accuracy: {final_train_acc:.4f}\")\n",
    "print(f\"Test accuracy: {final_test_acc:.4f}\")\n",
    "print(f\"Improvement over baseline: {final_test_acc - 0.866:.4f}\")"
   ]
  },
  {
   "cell_type": "code",
   "execution_count": 38,
   "metadata": {
    "execution": {
     "iopub.execute_input": "2025-06-05T22:43:17.809965Z",
     "iopub.status.busy": "2025-06-05T22:43:17.809593Z",
     "iopub.status.idle": "2025-06-05T22:43:18.008186Z",
     "shell.execute_reply": "2025-06-05T22:43:18.007180Z",
     "shell.execute_reply.started": "2025-06-05T22:43:17.809928Z"
    },
    "trusted": true
   },
   "outputs": [],
   "source": [
    "# Making predictions\n",
    "y_pred = best_rf.predict(X_test)"
   ]
  },
  {
   "cell_type": "code",
   "execution_count": 39,
   "metadata": {
    "execution": {
     "iopub.execute_input": "2025-06-05T22:43:18.009848Z",
     "iopub.status.busy": "2025-06-05T22:43:18.009565Z",
     "iopub.status.idle": "2025-06-05T22:43:18.094882Z",
     "shell.execute_reply": "2025-06-05T22:43:18.093885Z",
     "shell.execute_reply.started": "2025-06-05T22:43:18.009825Z"
    },
    "trusted": true
   },
   "outputs": [
    {
     "name": "stdout",
     "output_type": "stream",
     "text": [
      "\n",
      "Classification Report:\n",
      "============================================================\n",
      "                         precision    recall  f1-score   support\n",
      "\n",
      "      Actinic_keratosis       0.72      0.68      0.70       125\n",
      "   Basal_cell_carcinoma       0.91      0.92      0.91       301\n",
      "       Benign_keratosis       0.88      0.77      0.82       241\n",
      "         Dermatofibroma       0.94      0.85      0.89        34\n",
      "      Melanocytic_nevus       0.88      0.96      0.92      1071\n",
      "               Melanoma       0.91      0.76      0.83       422\n",
      "Squamous_cell_carcinoma       0.59      0.62      0.60        71\n",
      "        Vascular_lesion       0.96      0.96      0.96        28\n",
      "\n",
      "               accuracy                           0.87      2293\n",
      "              macro avg       0.85      0.82      0.83      2293\n",
      "           weighted avg       0.87      0.87      0.87      2293\n",
      "\n"
     ]
    }
   ],
   "source": [
    "# Saving the best Model\n",
    "joblib.dump(best_rf, 'best_rf_model.pkl')\n",
    "\n",
    "# Classification report\n",
    "print(f\"\\nClassification Report:\")\n",
    "print(\"=\" * 60)\n",
    "print(classification_report(y_test, y_pred))"
   ]
  },
  {
   "cell_type": "code",
   "execution_count": null,
   "metadata": {
    "trusted": true
   },
   "outputs": [],
   "source": []
  }
 ],
 "metadata": {
  "kaggle": {
   "accelerator": "none",
   "dataSources": [
    {
     "datasetId": 7596036,
     "sourceId": 12067971,
     "sourceType": "datasetVersion"
    },
    {
     "datasetId": 7596326,
     "sourceId": 12068353,
     "sourceType": "datasetVersion"
    }
   ],
   "dockerImageVersionId": 31040,
   "isGpuEnabled": false,
   "isInternetEnabled": true,
   "language": "python",
   "sourceType": "notebook"
  },
  "kernelspec": {
   "display_name": "Python 3",
   "language": "python",
   "name": "python3"
  },
  "language_info": {
   "codemirror_mode": {
    "name": "ipython",
    "version": 3
   },
   "file_extension": ".py",
   "mimetype": "text/x-python",
   "name": "python",
   "nbconvert_exporter": "python",
   "pygments_lexer": "ipython3",
   "version": "3.11.11"
  }
 },
 "nbformat": 4,
 "nbformat_minor": 4
}
