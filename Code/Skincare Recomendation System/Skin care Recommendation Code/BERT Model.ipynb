{
 "cells": [
  {
   "cell_type": "markdown",
   "metadata": {},
   "source": [
    "# **Table of Contents**\n",
    "### 1) Data preprocessing\n",
    "### 2) Visualizations\n",
    "### 3) Balancing the data (Oversampling)\n",
    "### 4) The BERT Model training\n",
    "### 5) Saving the processed data"
   ]
  },
  {
   "cell_type": "code",
   "execution_count": 1,
   "metadata": {
    "execution": {
     "iopub.execute_input": "2025-06-06T01:32:37.810675Z",
     "iopub.status.busy": "2025-06-06T01:32:37.810285Z",
     "iopub.status.idle": "2025-06-06T01:32:43.258818Z",
     "shell.execute_reply": "2025-06-06T01:32:43.257896Z",
     "shell.execute_reply.started": "2025-06-06T01:32:37.810646Z"
    },
    "trusted": true
   },
   "outputs": [
    {
     "name": "stdout",
     "output_type": "stream",
     "text": [
      "Collecting contractions\n",
      "  Downloading contractions-0.1.73-py2.py3-none-any.whl.metadata (1.2 kB)\n",
      "Collecting textsearch>=0.0.21 (from contractions)\n",
      "  Downloading textsearch-0.0.24-py2.py3-none-any.whl.metadata (1.2 kB)\n",
      "Collecting anyascii (from textsearch>=0.0.21->contractions)\n",
      "  Downloading anyascii-0.3.2-py3-none-any.whl.metadata (1.5 kB)\n",
      "Collecting pyahocorasick (from textsearch>=0.0.21->contractions)\n",
      "  Downloading pyahocorasick-2.1.0-cp310-cp310-manylinux_2_5_x86_64.manylinux1_x86_64.manylinux_2_12_x86_64.manylinux2010_x86_64.whl.metadata (13 kB)\n",
      "Downloading contractions-0.1.73-py2.py3-none-any.whl (8.7 kB)\n",
      "Downloading textsearch-0.0.24-py2.py3-none-any.whl (7.6 kB)\n",
      "Downloading anyascii-0.3.2-py3-none-any.whl (289 kB)\n",
      "\u001b[2K   \u001b[90m━━━━━━━━━━━━━━━━━━━━━━━━━━━━━━━━━━━━━━━━\u001b[0m \u001b[32m289.9/289.9 kB\u001b[0m \u001b[31m4.7 MB/s\u001b[0m eta \u001b[36m0:00:00\u001b[0ma \u001b[36m0:00:01\u001b[0m\n",
      "\u001b[?25hDownloading pyahocorasick-2.1.0-cp310-cp310-manylinux_2_5_x86_64.manylinux1_x86_64.manylinux_2_12_x86_64.manylinux2010_x86_64.whl (110 kB)\n",
      "\u001b[2K   \u001b[90m━━━━━━━━━━━━━━━━━━━━━━━━━━━━━━━━━━━━━━━━\u001b[0m \u001b[32m110.7/110.7 kB\u001b[0m \u001b[31m7.4 MB/s\u001b[0m eta \u001b[36m0:00:00\u001b[0m\n",
      "\u001b[?25hInstalling collected packages: pyahocorasick, anyascii, textsearch, contractions\n",
      "Successfully installed anyascii-0.3.2 contractions-0.1.73 pyahocorasick-2.1.0 textsearch-0.0.24\n"
     ]
    }
   ],
   "source": [
    "!pip install contractions"
   ]
  },
  {
   "cell_type": "markdown",
   "metadata": {},
   "source": [
    "# **Imports**"
   ]
  },
  {
   "cell_type": "code",
   "execution_count": 2,
   "metadata": {
    "execution": {
     "iopub.execute_input": "2025-06-06T01:32:43.260320Z",
     "iopub.status.busy": "2025-06-06T01:32:43.260071Z",
     "iopub.status.idle": "2025-06-06T01:32:45.255543Z",
     "shell.execute_reply": "2025-06-06T01:32:45.254804Z",
     "shell.execute_reply.started": "2025-06-06T01:32:43.260296Z"
    },
    "trusted": true
   },
   "outputs": [],
   "source": [
    "import pandas as pd\n",
    "import pandas as pd\n",
    "import numpy as np \n",
    "\n",
    "import re\n",
    "import nltk\n",
    "from nltk.corpus import stopwords\n",
    "from nltk.tokenize import word_tokenize\n",
    "from nltk.stem import WordNetLemmatizer\n",
    "import contractions\n",
    "\n",
    "import seaborn as sns\n",
    "import matplotlib.pyplot as plt\n",
    "\n",
    "from sklearn.preprocessing import OneHotEncoder\n",
    "\n",
    "from sklearn.metrics import roc_auc_score, confusion_matrix\n",
    "from sklearn.metrics import roc_curve, auc\n",
    "import matplotlib.pyplot as plt"
   ]
  },
  {
   "cell_type": "code",
   "execution_count": 3,
   "metadata": {
    "execution": {
     "iopub.execute_input": "2025-06-06T01:32:45.257557Z",
     "iopub.status.busy": "2025-06-06T01:32:45.257068Z",
     "iopub.status.idle": "2025-06-06T01:33:21.076602Z",
     "shell.execute_reply": "2025-06-06T01:33:21.075627Z",
     "shell.execute_reply.started": "2025-06-06T01:32:45.257525Z"
    },
    "trusted": true
   },
   "outputs": [
    {
     "name": "stderr",
     "output_type": "stream",
     "text": [
      "<ipython-input-3-c0ae73342476>:1: DtypeWarning: Columns (0) have mixed types. Specify dtype option on import or set low_memory=False.\n",
      "  recomend_data = pd.read_csv('/kaggle/input/review-processed-dataset/processed_data.csv')\n"
     ]
    },
    {
     "data": {
      "text/html": [
       "<div>\n",
       "<style scoped>\n",
       "    .dataframe tbody tr th:only-of-type {\n",
       "        vertical-align: middle;\n",
       "    }\n",
       "\n",
       "    .dataframe tbody tr th {\n",
       "        vertical-align: top;\n",
       "    }\n",
       "\n",
       "    .dataframe thead th {\n",
       "        text-align: right;\n",
       "    }\n",
       "</style>\n",
       "<table border=\"1\" class=\"dataframe\">\n",
       "  <thead>\n",
       "    <tr style=\"text-align: right;\">\n",
       "      <th></th>\n",
       "      <th>author_id</th>\n",
       "      <th>skin_type</th>\n",
       "      <th>rating</th>\n",
       "      <th>review_text</th>\n",
       "      <th>total_feedback_count</th>\n",
       "      <th>total_neg_feedback_count</th>\n",
       "      <th>total_pos_feedback_count</th>\n",
       "      <th>product_id</th>\n",
       "      <th>price_usd</th>\n",
       "      <th>product_name</th>\n",
       "      <th>...</th>\n",
       "      <th>has__caprylyl_glycol_</th>\n",
       "      <th>has__potassium_sorbate_</th>\n",
       "      <th>has__polysorbate_</th>\n",
       "      <th>has__sodium_hydroxide_</th>\n",
       "      <th>has__capryliccapric_triglyceride_</th>\n",
       "      <th>has__tocopheryl_acetate_</th>\n",
       "      <th>has__squalane_</th>\n",
       "      <th>has__dimethicone_</th>\n",
       "      <th>has__pentylene_glycol_</th>\n",
       "      <th>has_water_</th>\n",
       "    </tr>\n",
       "  </thead>\n",
       "  <tbody>\n",
       "    <tr>\n",
       "      <th>0</th>\n",
       "      <td>1741593524</td>\n",
       "      <td>dry</td>\n",
       "      <td>5</td>\n",
       "      <td>I use this with the Nudestix “Citrus Clean Bal...</td>\n",
       "      <td>2</td>\n",
       "      <td>0</td>\n",
       "      <td>2</td>\n",
       "      <td>P504322</td>\n",
       "      <td>19.0</td>\n",
       "      <td>Gentle Hydra-Gel Face Cleanser</td>\n",
       "      <td>...</td>\n",
       "      <td>0</td>\n",
       "      <td>0</td>\n",
       "      <td>0</td>\n",
       "      <td>0</td>\n",
       "      <td>0</td>\n",
       "      <td>0</td>\n",
       "      <td>0</td>\n",
       "      <td>0</td>\n",
       "      <td>0</td>\n",
       "      <td>1</td>\n",
       "    </tr>\n",
       "    <tr>\n",
       "      <th>1</th>\n",
       "      <td>5061282401</td>\n",
       "      <td>dry</td>\n",
       "      <td>5</td>\n",
       "      <td>My review title says it all! I get so excited ...</td>\n",
       "      <td>0</td>\n",
       "      <td>0</td>\n",
       "      <td>0</td>\n",
       "      <td>P420652</td>\n",
       "      <td>24.0</td>\n",
       "      <td>Lip Sleeping Mask Intense Hydration with Vitam...</td>\n",
       "      <td>...</td>\n",
       "      <td>0</td>\n",
       "      <td>0</td>\n",
       "      <td>0</td>\n",
       "      <td>0</td>\n",
       "      <td>0</td>\n",
       "      <td>0</td>\n",
       "      <td>0</td>\n",
       "      <td>0</td>\n",
       "      <td>0</td>\n",
       "      <td>1</td>\n",
       "    </tr>\n",
       "  </tbody>\n",
       "</table>\n",
       "<p>2 rows × 38 columns</p>\n",
       "</div>"
      ],
      "text/plain": [
       "    author_id skin_type  rating  \\\n",
       "0  1741593524       dry       5   \n",
       "1  5061282401       dry       5   \n",
       "\n",
       "                                         review_text  total_feedback_count  \\\n",
       "0  I use this with the Nudestix “Citrus Clean Bal...                     2   \n",
       "1  My review title says it all! I get so excited ...                     0   \n",
       "\n",
       "   total_neg_feedback_count  total_pos_feedback_count product_id  price_usd  \\\n",
       "0                         0                         2    P504322       19.0   \n",
       "1                         0                         0    P420652       24.0   \n",
       "\n",
       "                                        product_name  ...  \\\n",
       "0                     Gentle Hydra-Gel Face Cleanser  ...   \n",
       "1  Lip Sleeping Mask Intense Hydration with Vitam...  ...   \n",
       "\n",
       "  has__caprylyl_glycol_ has__potassium_sorbate_ has__polysorbate_  \\\n",
       "0                     0                       0                 0   \n",
       "1                     0                       0                 0   \n",
       "\n",
       "  has__sodium_hydroxide_ has__capryliccapric_triglyceride_  \\\n",
       "0                      0                                 0   \n",
       "1                      0                                 0   \n",
       "\n",
       "   has__tocopheryl_acetate_ has__squalane_  has__dimethicone_  \\\n",
       "0                         0              0                  0   \n",
       "1                         0              0                  0   \n",
       "\n",
       "   has__pentylene_glycol_  has_water_  \n",
       "0                       0           1  \n",
       "1                       0           1  \n",
       "\n",
       "[2 rows x 38 columns]"
      ]
     },
     "execution_count": 3,
     "metadata": {},
     "output_type": "execute_result"
    }
   ],
   "source": [
    "recomend_data = pd.read_csv('/kaggle/input/review-processed-dataset/processed_data.csv')\n",
    "recomend_data.head(2)"
   ]
  },
  {
   "cell_type": "markdown",
   "metadata": {},
   "source": [
    "---------------------------------------------------------------------------------\n",
    "# **1) Data Preprocessing**\n",
    "# Label Encoding"
   ]
  },
  {
   "cell_type": "code",
   "execution_count": 4,
   "metadata": {
    "execution": {
     "iopub.execute_input": "2025-06-06T01:33:21.078062Z",
     "iopub.status.busy": "2025-06-06T01:33:21.077795Z",
     "iopub.status.idle": "2025-06-06T01:33:21.653895Z",
     "shell.execute_reply": "2025-06-06T01:33:21.653063Z",
     "shell.execute_reply.started": "2025-06-06T01:33:21.078040Z"
    },
    "trusted": true
   },
   "outputs": [
    {
     "name": "stdout",
     "output_type": "stream",
     "text": [
      "<class 'pandas.core.frame.DataFrame'>\n",
      "RangeIndex: 863473 entries, 0 to 863472\n",
      "Data columns (total 38 columns):\n",
      " #   Column                             Non-Null Count   Dtype  \n",
      "---  ------                             --------------   -----  \n",
      " 0   author_id                          863473 non-null  object \n",
      " 1   skin_type                          863473 non-null  object \n",
      " 2   rating                             863473 non-null  int64  \n",
      " 3   review_text                        863473 non-null  object \n",
      " 4   total_feedback_count               863473 non-null  int64  \n",
      " 5   total_neg_feedback_count           863473 non-null  int64  \n",
      " 6   total_pos_feedback_count           863473 non-null  int64  \n",
      " 7   product_id                         863473 non-null  object \n",
      " 8   price_usd                          863473 non-null  float64\n",
      " 9   product_name                       863473 non-null  object \n",
      " 10  ingredients                        863473 non-null  object \n",
      " 11  highlights                         863473 non-null  object \n",
      " 12  primary_category                   863473 non-null  object \n",
      " 13  secondary_category                 863473 non-null  object \n",
      " 14  processed_review                   863464 non-null  object \n",
      " 15  review_length                      863473 non-null  int64  \n",
      " 16  processed_ingredients              863473 non-null  object \n",
      " 17  ingredient_count                   863473 non-null  int64  \n",
      " 18  has__glycerin_                     863473 non-null  int64  \n",
      " 19  has__phenoxyethanol_               863473 non-null  int64  \n",
      " 20  has__butylene_glycol_              863473 non-null  int64  \n",
      " 21  has__propanediol_                  863473 non-null  int64  \n",
      " 22  has__tocopherol_                   863473 non-null  int64  \n",
      " 23  has__citric_acid_                  863473 non-null  int64  \n",
      " 24  has__ethylhexylglycerin_           863473 non-null  int64  \n",
      " 25  has__sodium_hyaluronate_           863473 non-null  int64  \n",
      " 26  has__xanthan_gum_                  863473 non-null  int64  \n",
      " 27  has__sodium_benzoate_              863473 non-null  int64  \n",
      " 28  has__caprylyl_glycol_              863473 non-null  int64  \n",
      " 29  has__potassium_sorbate_            863473 non-null  int64  \n",
      " 30  has__polysorbate_                  863473 non-null  int64  \n",
      " 31  has__sodium_hydroxide_             863473 non-null  int64  \n",
      " 32  has__capryliccapric_triglyceride_  863473 non-null  int64  \n",
      " 33  has__tocopheryl_acetate_           863473 non-null  int64  \n",
      " 34  has__squalane_                     863473 non-null  int64  \n",
      " 35  has__dimethicone_                  863473 non-null  int64  \n",
      " 36  has__pentylene_glycol_             863473 non-null  int64  \n",
      " 37  has_water_                         863473 non-null  int64  \n",
      "dtypes: float64(1), int64(26), object(11)\n",
      "memory usage: 250.3+ MB\n"
     ]
    }
   ],
   "source": [
    "recomend_data.info()"
   ]
  },
  {
   "cell_type": "markdown",
   "metadata": {},
   "source": [
    "### **1) Onehot encoding for the skin types**"
   ]
  },
  {
   "cell_type": "code",
   "execution_count": 5,
   "metadata": {
    "execution": {
     "iopub.execute_input": "2025-06-06T01:33:30.661536Z",
     "iopub.status.busy": "2025-06-06T01:33:30.661071Z",
     "iopub.status.idle": "2025-06-06T01:33:31.356558Z",
     "shell.execute_reply": "2025-06-06T01:33:31.355492Z",
     "shell.execute_reply.started": "2025-06-06T01:33:30.661497Z"
    },
    "trusted": true
   },
   "outputs": [
    {
     "name": "stderr",
     "output_type": "stream",
     "text": [
      "/usr/local/lib/python3.10/dist-packages/sklearn/preprocessing/_encoders.py:868: FutureWarning: `sparse` was renamed to `sparse_output` in version 1.2 and will be removed in 1.4. `sparse_output` is ignored unless you leave `sparse` to its default value.\n",
      "  warnings.warn(\n"
     ]
    },
    {
     "data": {
      "text/html": [
       "<div>\n",
       "<style scoped>\n",
       "    .dataframe tbody tr th:only-of-type {\n",
       "        vertical-align: middle;\n",
       "    }\n",
       "\n",
       "    .dataframe tbody tr th {\n",
       "        vertical-align: top;\n",
       "    }\n",
       "\n",
       "    .dataframe thead th {\n",
       "        text-align: right;\n",
       "    }\n",
       "</style>\n",
       "<table border=\"1\" class=\"dataframe\">\n",
       "  <thead>\n",
       "    <tr style=\"text-align: right;\">\n",
       "      <th></th>\n",
       "      <th>author_id</th>\n",
       "      <th>skin_type</th>\n",
       "      <th>rating</th>\n",
       "      <th>review_text</th>\n",
       "      <th>total_feedback_count</th>\n",
       "      <th>total_neg_feedback_count</th>\n",
       "      <th>total_pos_feedback_count</th>\n",
       "      <th>product_id</th>\n",
       "      <th>price_usd</th>\n",
       "      <th>product_name</th>\n",
       "      <th>...</th>\n",
       "      <th>has__capryliccapric_triglyceride_</th>\n",
       "      <th>has__tocopheryl_acetate_</th>\n",
       "      <th>has__squalane_</th>\n",
       "      <th>has__dimethicone_</th>\n",
       "      <th>has__pentylene_glycol_</th>\n",
       "      <th>has_water_</th>\n",
       "      <th>skin_type_combination</th>\n",
       "      <th>skin_type_dry</th>\n",
       "      <th>skin_type_normal</th>\n",
       "      <th>skin_type_oily</th>\n",
       "    </tr>\n",
       "  </thead>\n",
       "  <tbody>\n",
       "    <tr>\n",
       "      <th>0</th>\n",
       "      <td>1741593524</td>\n",
       "      <td>dry</td>\n",
       "      <td>5</td>\n",
       "      <td>I use this with the Nudestix “Citrus Clean Bal...</td>\n",
       "      <td>2</td>\n",
       "      <td>0</td>\n",
       "      <td>2</td>\n",
       "      <td>P504322</td>\n",
       "      <td>19.0</td>\n",
       "      <td>Gentle Hydra-Gel Face Cleanser</td>\n",
       "      <td>...</td>\n",
       "      <td>0</td>\n",
       "      <td>0</td>\n",
       "      <td>0</td>\n",
       "      <td>0</td>\n",
       "      <td>0</td>\n",
       "      <td>1</td>\n",
       "      <td>0.0</td>\n",
       "      <td>1.0</td>\n",
       "      <td>0.0</td>\n",
       "      <td>0.0</td>\n",
       "    </tr>\n",
       "    <tr>\n",
       "      <th>1</th>\n",
       "      <td>5061282401</td>\n",
       "      <td>dry</td>\n",
       "      <td>5</td>\n",
       "      <td>My review title says it all! I get so excited ...</td>\n",
       "      <td>0</td>\n",
       "      <td>0</td>\n",
       "      <td>0</td>\n",
       "      <td>P420652</td>\n",
       "      <td>24.0</td>\n",
       "      <td>Lip Sleeping Mask Intense Hydration with Vitam...</td>\n",
       "      <td>...</td>\n",
       "      <td>0</td>\n",
       "      <td>0</td>\n",
       "      <td>0</td>\n",
       "      <td>0</td>\n",
       "      <td>0</td>\n",
       "      <td>1</td>\n",
       "      <td>0.0</td>\n",
       "      <td>1.0</td>\n",
       "      <td>0.0</td>\n",
       "      <td>0.0</td>\n",
       "    </tr>\n",
       "    <tr>\n",
       "      <th>2</th>\n",
       "      <td>6083038851</td>\n",
       "      <td>combination</td>\n",
       "      <td>5</td>\n",
       "      <td>I’ve always loved this formula for a long time...</td>\n",
       "      <td>0</td>\n",
       "      <td>0</td>\n",
       "      <td>0</td>\n",
       "      <td>P420652</td>\n",
       "      <td>24.0</td>\n",
       "      <td>Lip Sleeping Mask Intense Hydration with Vitam...</td>\n",
       "      <td>...</td>\n",
       "      <td>0</td>\n",
       "      <td>0</td>\n",
       "      <td>0</td>\n",
       "      <td>0</td>\n",
       "      <td>0</td>\n",
       "      <td>1</td>\n",
       "      <td>1.0</td>\n",
       "      <td>0.0</td>\n",
       "      <td>0.0</td>\n",
       "      <td>0.0</td>\n",
       "    </tr>\n",
       "    <tr>\n",
       "      <th>3</th>\n",
       "      <td>47056667835</td>\n",
       "      <td>combination</td>\n",
       "      <td>5</td>\n",
       "      <td>If you have dry cracked lips, this is a must h...</td>\n",
       "      <td>0</td>\n",
       "      <td>0</td>\n",
       "      <td>0</td>\n",
       "      <td>P420652</td>\n",
       "      <td>24.0</td>\n",
       "      <td>Lip Sleeping Mask Intense Hydration with Vitam...</td>\n",
       "      <td>...</td>\n",
       "      <td>0</td>\n",
       "      <td>0</td>\n",
       "      <td>0</td>\n",
       "      <td>0</td>\n",
       "      <td>0</td>\n",
       "      <td>1</td>\n",
       "      <td>1.0</td>\n",
       "      <td>0.0</td>\n",
       "      <td>0.0</td>\n",
       "      <td>0.0</td>\n",
       "    </tr>\n",
       "    <tr>\n",
       "      <th>4</th>\n",
       "      <td>42802569154</td>\n",
       "      <td>normal</td>\n",
       "      <td>4</td>\n",
       "      <td>The scent isn’t my favourite but it works grea...</td>\n",
       "      <td>1</td>\n",
       "      <td>0</td>\n",
       "      <td>1</td>\n",
       "      <td>P420652</td>\n",
       "      <td>24.0</td>\n",
       "      <td>Lip Sleeping Mask Intense Hydration with Vitam...</td>\n",
       "      <td>...</td>\n",
       "      <td>0</td>\n",
       "      <td>0</td>\n",
       "      <td>0</td>\n",
       "      <td>0</td>\n",
       "      <td>0</td>\n",
       "      <td>1</td>\n",
       "      <td>0.0</td>\n",
       "      <td>0.0</td>\n",
       "      <td>1.0</td>\n",
       "      <td>0.0</td>\n",
       "    </tr>\n",
       "  </tbody>\n",
       "</table>\n",
       "<p>5 rows × 42 columns</p>\n",
       "</div>"
      ],
      "text/plain": [
       "     author_id    skin_type  rating  \\\n",
       "0   1741593524          dry       5   \n",
       "1   5061282401          dry       5   \n",
       "2   6083038851  combination       5   \n",
       "3  47056667835  combination       5   \n",
       "4  42802569154       normal       4   \n",
       "\n",
       "                                         review_text  total_feedback_count  \\\n",
       "0  I use this with the Nudestix “Citrus Clean Bal...                     2   \n",
       "1  My review title says it all! I get so excited ...                     0   \n",
       "2  I’ve always loved this formula for a long time...                     0   \n",
       "3  If you have dry cracked lips, this is a must h...                     0   \n",
       "4  The scent isn’t my favourite but it works grea...                     1   \n",
       "\n",
       "   total_neg_feedback_count  total_pos_feedback_count product_id  price_usd  \\\n",
       "0                         0                         2    P504322       19.0   \n",
       "1                         0                         0    P420652       24.0   \n",
       "2                         0                         0    P420652       24.0   \n",
       "3                         0                         0    P420652       24.0   \n",
       "4                         0                         1    P420652       24.0   \n",
       "\n",
       "                                        product_name  ...  \\\n",
       "0                     Gentle Hydra-Gel Face Cleanser  ...   \n",
       "1  Lip Sleeping Mask Intense Hydration with Vitam...  ...   \n",
       "2  Lip Sleeping Mask Intense Hydration with Vitam...  ...   \n",
       "3  Lip Sleeping Mask Intense Hydration with Vitam...  ...   \n",
       "4  Lip Sleeping Mask Intense Hydration with Vitam...  ...   \n",
       "\n",
       "  has__capryliccapric_triglyceride_ has__tocopheryl_acetate_ has__squalane_  \\\n",
       "0                                 0                        0              0   \n",
       "1                                 0                        0              0   \n",
       "2                                 0                        0              0   \n",
       "3                                 0                        0              0   \n",
       "4                                 0                        0              0   \n",
       "\n",
       "  has__dimethicone_ has__pentylene_glycol_  has_water_ skin_type_combination  \\\n",
       "0                 0                      0           1                   0.0   \n",
       "1                 0                      0           1                   0.0   \n",
       "2                 0                      0           1                   1.0   \n",
       "3                 0                      0           1                   1.0   \n",
       "4                 0                      0           1                   0.0   \n",
       "\n",
       "   skin_type_dry  skin_type_normal  skin_type_oily  \n",
       "0            1.0               0.0             0.0  \n",
       "1            1.0               0.0             0.0  \n",
       "2            0.0               0.0             0.0  \n",
       "3            0.0               0.0             0.0  \n",
       "4            0.0               1.0             0.0  \n",
       "\n",
       "[5 rows x 42 columns]"
      ]
     },
     "execution_count": 5,
     "metadata": {},
     "output_type": "execute_result"
    }
   ],
   "source": [
    "# Creating a copy of the dataframe\n",
    "encoded_data = recomend_data.copy()\n",
    "\n",
    "# Initializing the OneHotEncoder\n",
    "encoder = OneHotEncoder(sparse=False)  # sparse=False to get a dense array instead of sparse matrix\n",
    "\n",
    "# Fiting and transforming the skin_type column\n",
    "# The reshaping is needed because the One Hot Encoder expects a 2D array\n",
    "skin_type_encoded = encoder.fit_transform(encoded_data[['skin_type']])\n",
    "\n",
    "# Creating a dataframe with the encoded values\n",
    "skin_type_encoded_df = pd.DataFrame(\n",
    "    skin_type_encoded,\n",
    "    columns=encoder.get_feature_names_out(['skin_type']),\n",
    "    index=encoded_data.index\n",
    ")\n",
    "\n",
    "# Adding the encoded columns to the original dataframe\n",
    "encoded_data = pd.concat([encoded_data, skin_type_encoded_df], axis=1)\n",
    "\n",
    "# Verifying the encoding\n",
    "encoded_data.head()"
   ]
  },
  {
   "cell_type": "code",
   "execution_count": 6,
   "metadata": {
    "execution": {
     "iopub.execute_input": "2025-06-06T01:33:36.713173Z",
     "iopub.status.busy": "2025-06-06T01:33:36.712859Z",
     "iopub.status.idle": "2025-06-06T01:33:36.718758Z",
     "shell.execute_reply": "2025-06-06T01:33:36.717764Z",
     "shell.execute_reply.started": "2025-06-06T01:33:36.713147Z"
    },
    "trusted": true
   },
   "outputs": [
    {
     "data": {
      "text/plain": [
       "(863473, 42)"
      ]
     },
     "execution_count": 6,
     "metadata": {},
     "output_type": "execute_result"
    }
   ],
   "source": [
    "encoded_data.shape"
   ]
  },
  {
   "cell_type": "code",
   "execution_count": 7,
   "metadata": {
    "execution": {
     "iopub.execute_input": "2025-06-06T01:33:37.682008Z",
     "iopub.status.busy": "2025-06-06T01:33:37.681708Z",
     "iopub.status.idle": "2025-06-06T01:33:37.687764Z",
     "shell.execute_reply": "2025-06-06T01:33:37.686791Z",
     "shell.execute_reply.started": "2025-06-06T01:33:37.681986Z"
    },
    "trusted": true
   },
   "outputs": [
    {
     "data": {
      "text/plain": [
       "Index(['author_id', 'skin_type', 'rating', 'review_text',\n",
       "       'total_feedback_count', 'total_neg_feedback_count',\n",
       "       'total_pos_feedback_count', 'product_id', 'price_usd', 'product_name',\n",
       "       'ingredients', 'highlights', 'primary_category', 'secondary_category',\n",
       "       'processed_review', 'review_length', 'processed_ingredients',\n",
       "       'ingredient_count', 'has__glycerin_', 'has__phenoxyethanol_',\n",
       "       'has__butylene_glycol_', 'has__propanediol_', 'has__tocopherol_',\n",
       "       'has__citric_acid_', 'has__ethylhexylglycerin_',\n",
       "       'has__sodium_hyaluronate_', 'has__xanthan_gum_',\n",
       "       'has__sodium_benzoate_', 'has__caprylyl_glycol_',\n",
       "       'has__potassium_sorbate_', 'has__polysorbate_',\n",
       "       'has__sodium_hydroxide_', 'has__capryliccapric_triglyceride_',\n",
       "       'has__tocopheryl_acetate_', 'has__squalane_', 'has__dimethicone_',\n",
       "       'has__pentylene_glycol_', 'has_water_', 'skin_type_combination',\n",
       "       'skin_type_dry', 'skin_type_normal', 'skin_type_oily'],\n",
       "      dtype='object')"
      ]
     },
     "execution_count": 7,
     "metadata": {},
     "output_type": "execute_result"
    }
   ],
   "source": [
    "encoded_data.columns"
   ]
  },
  {
   "cell_type": "code",
   "execution_count": 8,
   "metadata": {
    "execution": {
     "iopub.execute_input": "2025-06-06T01:33:39.761148Z",
     "iopub.status.busy": "2025-06-06T01:33:39.760850Z",
     "iopub.status.idle": "2025-06-06T01:33:39.961611Z",
     "shell.execute_reply": "2025-06-06T01:33:39.960832Z",
     "shell.execute_reply.started": "2025-06-06T01:33:39.761126Z"
    },
    "trusted": true
   },
   "outputs": [
    {
     "data": {
      "text/plain": [
       "Index(['author_id', 'rating', 'review_text', 'total_feedback_count',\n",
       "       'total_neg_feedback_count', 'total_pos_feedback_count', 'product_id',\n",
       "       'price_usd', 'product_name', 'ingredients', 'highlights',\n",
       "       'primary_category', 'secondary_category', 'processed_review',\n",
       "       'review_length', 'processed_ingredients', 'ingredient_count',\n",
       "       'has__glycerin_', 'has__phenoxyethanol_', 'has__butylene_glycol_',\n",
       "       'has__propanediol_', 'has__tocopherol_', 'has__citric_acid_',\n",
       "       'has__ethylhexylglycerin_', 'has__sodium_hyaluronate_',\n",
       "       'has__xanthan_gum_', 'has__sodium_benzoate_', 'has__caprylyl_glycol_',\n",
       "       'has__potassium_sorbate_', 'has__polysorbate_',\n",
       "       'has__sodium_hydroxide_', 'has__capryliccapric_triglyceride_',\n",
       "       'has__tocopheryl_acetate_', 'has__squalane_', 'has__dimethicone_',\n",
       "       'has__pentylene_glycol_', 'has_water_', 'skin_type_combination',\n",
       "       'skin_type_dry', 'skin_type_normal', 'skin_type_oily'],\n",
       "      dtype='object')"
      ]
     },
     "execution_count": 8,
     "metadata": {},
     "output_type": "execute_result"
    }
   ],
   "source": [
    "encoded_data.drop(columns = \"skin_type\", inplace= True)\n",
    "encoded_data.columns"
   ]
  },
  {
   "cell_type": "code",
   "execution_count": 11,
   "metadata": {
    "execution": {
     "iopub.execute_input": "2025-06-06T01:33:45.433456Z",
     "iopub.status.busy": "2025-06-06T01:33:45.433104Z",
     "iopub.status.idle": "2025-06-06T01:33:45.479761Z",
     "shell.execute_reply": "2025-06-06T01:33:45.478796Z",
     "shell.execute_reply.started": "2025-06-06T01:33:45.433424Z"
    },
    "trusted": true
   },
   "outputs": [
    {
     "data": {
      "text/plain": [
       "array(['Cleansers', 'Lip Balms & Treatments', 'Moisturizers',\n",
       "       'Treatments', 'Mini Size', 'Masks', 'Sunscreen', 'Self Tanners',\n",
       "       'Eye Care', 'Wellness'], dtype=object)"
      ]
     },
     "execution_count": 11,
     "metadata": {},
     "output_type": "execute_result"
    }
   ],
   "source": [
    "encoded_data['secondary_category'].unique()"
   ]
  },
  {
   "cell_type": "markdown",
   "metadata": {},
   "source": [
    "<font size = \"20\" color = \"green\">============================</font>\n",
    "\n",
    "## But the 'Mini Size' category doesn't represent any product type, so I will need to handel it\n",
    "\n",
    "# First lets take copy of the recomend_data to handle the mini size category"
   ]
  },
  {
   "cell_type": "code",
   "execution_count": 12,
   "metadata": {
    "execution": {
     "iopub.execute_input": "2025-03-03T13:31:03.046951Z",
     "iopub.status.busy": "2025-03-03T13:31:03.046710Z",
     "iopub.status.idle": "2025-03-03T13:31:03.228931Z",
     "shell.execute_reply": "2025-03-03T13:31:03.228276Z",
     "shell.execute_reply.started": "2025-03-03T13:31:03.046922Z"
    },
    "trusted": true
   },
   "outputs": [],
   "source": [
    "mini_test_df = encoded_data.copy()"
   ]
  },
  {
   "cell_type": "code",
   "execution_count": 13,
   "metadata": {
    "execution": {
     "iopub.execute_input": "2025-03-03T13:31:03.231202Z",
     "iopub.status.busy": "2025-03-03T13:31:03.230946Z",
     "iopub.status.idle": "2025-03-03T13:31:03.236335Z",
     "shell.execute_reply": "2025-03-03T13:31:03.235640Z",
     "shell.execute_reply.started": "2025-03-03T13:31:03.231181Z"
    },
    "trusted": true
   },
   "outputs": [
    {
     "data": {
      "text/plain": [
       "Index(['rating', 'review_text', 'total_feedback_count',\n",
       "       'total_neg_feedback_count', 'total_pos_feedback_count', 'product_id',\n",
       "       'price_usd', 'product_name', 'ingredients', 'highlights',\n",
       "       'primary_category', 'secondary_category', 'processed_review',\n",
       "       'review_length', 'processed_ingredients', 'ingredient_count',\n",
       "       'has__glycerin_', 'has__phenoxyethanol_', 'has__butylene_glycol_',\n",
       "       'has__propanediol_', 'has__tocopherol_', 'has__citric_acid_',\n",
       "       'has__ethylhexylglycerin_', 'has__sodium_hyaluronate_',\n",
       "       'has__xanthan_gum_', 'has__sodium_benzoate_', 'has__caprylyl_glycol_',\n",
       "       'has__potassium_sorbate_', 'has__polysorbate_',\n",
       "       'has__sodium_hydroxide_', 'has__capryliccapric_triglyceride_',\n",
       "       'has__tocopheryl_acetate_', 'has__squalane_', 'has__dimethicone_',\n",
       "       'has__pentylene_glycol_', 'has_water_', 'skin_type_combination',\n",
       "       'skin_type_dry', 'skin_type_normal', 'skin_type_oily'],\n",
       "      dtype='object')"
      ]
     },
     "execution_count": 13,
     "metadata": {},
     "output_type": "execute_result"
    }
   ],
   "source": [
    "mini_test_df.columns"
   ]
  },
  {
   "cell_type": "code",
   "execution_count": 14,
   "metadata": {
    "execution": {
     "iopub.execute_input": "2025-03-03T13:31:03.237423Z",
     "iopub.status.busy": "2025-03-03T13:31:03.237128Z",
     "iopub.status.idle": "2025-03-03T13:31:03.706568Z",
     "shell.execute_reply": "2025-03-03T13:31:03.705740Z",
     "shell.execute_reply.started": "2025-03-03T13:31:03.237402Z"
    },
    "trusted": true
   },
   "outputs": [
    {
     "name": "stdout",
     "output_type": "stream",
     "text": [
      "<class 'pandas.core.frame.DataFrame'>\n",
      "RangeIndex: 863473 entries, 0 to 863472\n",
      "Data columns (total 40 columns):\n",
      " #   Column                             Non-Null Count   Dtype  \n",
      "---  ------                             --------------   -----  \n",
      " 0   rating                             863473 non-null  int64  \n",
      " 1   review_text                        863473 non-null  object \n",
      " 2   total_feedback_count               863473 non-null  int64  \n",
      " 3   total_neg_feedback_count           863473 non-null  int64  \n",
      " 4   total_pos_feedback_count           863473 non-null  int64  \n",
      " 5   product_id                         863473 non-null  object \n",
      " 6   price_usd                          863473 non-null  float64\n",
      " 7   product_name                       863473 non-null  object \n",
      " 8   ingredients                        863473 non-null  object \n",
      " 9   highlights                         863473 non-null  object \n",
      " 10  primary_category                   863473 non-null  object \n",
      " 11  secondary_category                 863473 non-null  object \n",
      " 12  processed_review                   863464 non-null  object \n",
      " 13  review_length                      863473 non-null  int64  \n",
      " 14  processed_ingredients              863473 non-null  object \n",
      " 15  ingredient_count                   863473 non-null  int64  \n",
      " 16  has__glycerin_                     863473 non-null  int64  \n",
      " 17  has__phenoxyethanol_               863473 non-null  int64  \n",
      " 18  has__butylene_glycol_              863473 non-null  int64  \n",
      " 19  has__propanediol_                  863473 non-null  int64  \n",
      " 20  has__tocopherol_                   863473 non-null  int64  \n",
      " 21  has__citric_acid_                  863473 non-null  int64  \n",
      " 22  has__ethylhexylglycerin_           863473 non-null  int64  \n",
      " 23  has__sodium_hyaluronate_           863473 non-null  int64  \n",
      " 24  has__xanthan_gum_                  863473 non-null  int64  \n",
      " 25  has__sodium_benzoate_              863473 non-null  int64  \n",
      " 26  has__caprylyl_glycol_              863473 non-null  int64  \n",
      " 27  has__potassium_sorbate_            863473 non-null  int64  \n",
      " 28  has__polysorbate_                  863473 non-null  int64  \n",
      " 29  has__sodium_hydroxide_             863473 non-null  int64  \n",
      " 30  has__capryliccapric_triglyceride_  863473 non-null  int64  \n",
      " 31  has__tocopheryl_acetate_           863473 non-null  int64  \n",
      " 32  has__squalane_                     863473 non-null  int64  \n",
      " 33  has__dimethicone_                  863473 non-null  int64  \n",
      " 34  has__pentylene_glycol_             863473 non-null  int64  \n",
      " 35  has_water_                         863473 non-null  int64  \n",
      " 36  skin_type_combination              863473 non-null  float64\n",
      " 37  skin_type_dry                      863473 non-null  float64\n",
      " 38  skin_type_normal                   863473 non-null  float64\n",
      " 39  skin_type_oily                     863473 non-null  float64\n",
      "dtypes: float64(5), int64(26), object(9)\n",
      "memory usage: 263.5+ MB\n"
     ]
    }
   ],
   "source": [
    "mini_test_df.info()"
   ]
  },
  {
   "cell_type": "markdown",
   "metadata": {},
   "source": [
    "### I can handle this by finding products labeled as \"Mini Size\" and checking if there are products with the same product_name but a different secondary_category. If a match is found, update the \"Mini Size\" category with the corresponding category."
   ]
  },
  {
   "cell_type": "code",
   "execution_count": 15,
   "metadata": {
    "execution": {
     "iopub.execute_input": "2025-03-03T13:31:03.707491Z",
     "iopub.status.busy": "2025-03-03T13:31:03.707299Z",
     "iopub.status.idle": "2025-03-03T13:31:03.781668Z",
     "shell.execute_reply": "2025-03-03T13:31:03.780846Z",
     "shell.execute_reply.started": "2025-03-03T13:31:03.707474Z"
    },
    "trusted": true
   },
   "outputs": [
    {
     "name": "stdout",
     "output_type": "stream",
     "text": [
      "Number of rows with 'Mini Size' category: 77852\n",
      "Percentage of 'Mini Size' rows: 9.02%\n"
     ]
    }
   ],
   "source": [
    "# Counting the rows where the secondary_category is 'Mini Size'\n",
    "mini_size_count = len(mini_test_df[mini_test_df['secondary_category'] == 'Mini Size'])\n",
    "print(f\"Number of rows with 'Mini Size' category: {mini_size_count}\")\n",
    "\n",
    "# Calculating their percentage of the total rows\n",
    "total_rows = len(mini_test_df)\n",
    "percentage = (mini_size_count / total_rows) * 100\n",
    "print(f\"Percentage of 'Mini Size' rows: {percentage:.2f}%\")"
   ]
  },
  {
   "cell_type": "code",
   "execution_count": 16,
   "metadata": {
    "execution": {
     "iopub.execute_input": "2025-03-03T13:31:03.782767Z",
     "iopub.status.busy": "2025-03-03T13:31:03.782516Z",
     "iopub.status.idle": "2025-03-03T13:31:04.484962Z",
     "shell.execute_reply": "2025-03-03T13:31:04.484190Z",
     "shell.execute_reply.started": "2025-03-03T13:31:03.782735Z"
    },
    "trusted": true
   },
   "outputs": [
    {
     "name": "stdout",
     "output_type": "stream",
     "text": [
      "Updated category distribution:\n",
      "secondary_category\n",
      "Moisturizers              229173\n",
      "Treatments                192003\n",
      "Cleansers                 160834\n",
      "Mini Size                  76726\n",
      "Eye Care                   56315\n",
      "Masks                      49645\n",
      "Lip Balms & Treatments     46004\n",
      "Sunscreen                  34835\n",
      "Self Tanners               10820\n",
      "Wellness                    7118\n",
      "Name: count, dtype: int64\n",
      "\n",
      "Remaining Mini Size items: 76726\n",
      "Percentage of remaining Mini Size items: 8.89%\n"
     ]
    }
   ],
   "source": [
    "# Creating a mapping of product names to their most common category (but I will exclude the Mini Size)\n",
    "category_mapping = (\n",
    "    mini_test_df[mini_test_df['secondary_category'] != 'Mini Size']\n",
    "    .groupby('product_name')['secondary_category']\n",
    "    .agg(lambda x: x.mode()[0] if not x.empty else None)\n",
    "    .to_dict()\n",
    ")\n",
    "\n",
    "# Replacing the Mini Size categories with the corresponding ones\n",
    "mini_size_mask = mini_test_df['secondary_category'] == 'Mini Size'\n",
    "mini_test_df.loc[mini_size_mask, 'secondary_category'] = (\n",
    "    mini_test_df.loc[mini_size_mask, 'product_name']\n",
    "    .map(lambda x: category_mapping.get(x, 'Mini Size'))\n",
    ")\n",
    "\n",
    "# Checking the results\n",
    "print(\"Updated category distribution:\")\n",
    "print(mini_test_df['secondary_category'].value_counts())\n",
    "\n",
    "# Checking how many Mini Size items remaind\n",
    "remaining_mini = (mini_test_df['secondary_category'] == 'Mini Size').sum()\n",
    "print(f\"\\nRemaining Mini Size items: {remaining_mini}\")\n",
    "print(f\"Percentage of remaining Mini Size items: {(remaining_mini/len(mini_test_df))*100:.2f}%\")"
   ]
  },
  {
   "cell_type": "code",
   "execution_count": 17,
   "metadata": {
    "execution": {
     "iopub.execute_input": "2025-03-03T13:31:04.486053Z",
     "iopub.status.busy": "2025-03-03T13:31:04.485756Z",
     "iopub.status.idle": "2025-03-03T13:31:04.491112Z",
     "shell.execute_reply": "2025-03-03T13:31:04.490442Z",
     "shell.execute_reply.started": "2025-03-03T13:31:04.486024Z"
    },
    "trusted": true
   },
   "outputs": [
    {
     "data": {
      "text/plain": [
       "1126"
      ]
     },
     "execution_count": 17,
     "metadata": {},
     "output_type": "execute_result"
    }
   ],
   "source": [
    "77852-76726"
   ]
  },
  {
   "cell_type": "markdown",
   "metadata": {},
   "source": [
    "<font size = \"5\" color = \"yellow\"><b>Only <font color = \"red\">1126</font> products out of <font color = \"red\">77852</font> products are changed from mini size to another category (still there <font color = \"red\">76726</font> products with Mini Size category)</b></font> "
   ]
  },
  {
   "cell_type": "code",
   "execution_count": 18,
   "metadata": {
    "execution": {
     "iopub.execute_input": "2025-03-03T13:31:04.492160Z",
     "iopub.status.busy": "2025-03-03T13:31:04.491863Z",
     "iopub.status.idle": "2025-03-03T13:31:04.506288Z",
     "shell.execute_reply": "2025-03-03T13:31:04.505665Z",
     "shell.execute_reply.started": "2025-03-03T13:31:04.492129Z"
    },
    "trusted": true
   },
   "outputs": [
    {
     "data": {
      "text/plain": [
       "Index(['rating', 'review_text', 'total_feedback_count',\n",
       "       'total_neg_feedback_count', 'total_pos_feedback_count', 'product_id',\n",
       "       'price_usd', 'product_name', 'ingredients', 'highlights',\n",
       "       'primary_category', 'secondary_category', 'processed_review',\n",
       "       'review_length', 'processed_ingredients', 'ingredient_count',\n",
       "       'has__glycerin_', 'has__phenoxyethanol_', 'has__butylene_glycol_',\n",
       "       'has__propanediol_', 'has__tocopherol_', 'has__citric_acid_',\n",
       "       'has__ethylhexylglycerin_', 'has__sodium_hyaluronate_',\n",
       "       'has__xanthan_gum_', 'has__sodium_benzoate_', 'has__caprylyl_glycol_',\n",
       "       'has__potassium_sorbate_', 'has__polysorbate_',\n",
       "       'has__sodium_hydroxide_', 'has__capryliccapric_triglyceride_',\n",
       "       'has__tocopheryl_acetate_', 'has__squalane_', 'has__dimethicone_',\n",
       "       'has__pentylene_glycol_', 'has_water_', 'skin_type_combination',\n",
       "       'skin_type_dry', 'skin_type_normal', 'skin_type_oily'],\n",
       "      dtype='object')"
      ]
     },
     "execution_count": 18,
     "metadata": {},
     "output_type": "execute_result"
    }
   ],
   "source": [
    "mini_test_df.columns"
   ]
  },
  {
   "cell_type": "code",
   "execution_count": 19,
   "metadata": {
    "execution": {
     "iopub.execute_input": "2025-03-03T13:31:04.507266Z",
     "iopub.status.busy": "2025-03-03T13:31:04.507026Z",
     "iopub.status.idle": "2025-03-03T13:31:04.561170Z",
     "shell.execute_reply": "2025-03-03T13:31:04.560579Z",
     "shell.execute_reply.started": "2025-03-03T13:31:04.507215Z"
    },
    "trusted": true
   },
   "outputs": [
    {
     "data": {
      "text/plain": [
       "array(['Cleansers', 'Lip Balms & Treatments', 'Moisturizers',\n",
       "       'Treatments', 'Mini Size', 'Masks', 'Sunscreen', 'Self Tanners',\n",
       "       'Eye Care', 'Wellness'], dtype=object)"
      ]
     },
     "execution_count": 19,
     "metadata": {},
     "output_type": "execute_result"
    }
   ],
   "source": [
    "mini_test_df[\"secondary_category\"].unique()"
   ]
  },
  {
   "cell_type": "code",
   "execution_count": 12,
   "metadata": {
    "execution": {
     "iopub.execute_input": "2025-06-06T01:34:57.587839Z",
     "iopub.status.busy": "2025-06-06T01:34:57.587488Z",
     "iopub.status.idle": "2025-06-06T01:34:57.593270Z",
     "shell.execute_reply": "2025-06-06T01:34:57.592449Z",
     "shell.execute_reply.started": "2025-06-06T01:34:57.587816Z"
    },
    "trusted": true
   },
   "outputs": [
    {
     "data": {
      "text/plain": [
       "Index(['rating', 'review_text', 'total_feedback_count',\n",
       "       'total_neg_feedback_count', 'total_pos_feedback_count', 'product_id',\n",
       "       'price_usd', 'product_name', 'ingredients', 'highlights',\n",
       "       'primary_category', 'secondary_category', 'processed_review',\n",
       "       'review_length', 'processed_ingredients', 'ingredient_count',\n",
       "       'has__glycerin_', 'has__phenoxyethanol_', 'has__butylene_glycol_',\n",
       "       'has__propanediol_', 'has__tocopherol_', 'has__citric_acid_',\n",
       "       'has__ethylhexylglycerin_', 'has__sodium_hyaluronate_',\n",
       "       'has__xanthan_gum_', 'has__sodium_benzoate_', 'has__caprylyl_glycol_',\n",
       "       'has__potassium_sorbate_', 'has__polysorbate_',\n",
       "       'has__sodium_hydroxide_', 'has__capryliccapric_triglyceride_',\n",
       "       'has__tocopheryl_acetate_', 'has__squalane_', 'has__dimethicone_',\n",
       "       'has__pentylene_glycol_', 'has_water_', 'skin_type_combination',\n",
       "       'skin_type_dry', 'skin_type_normal', 'skin_type_oily'],\n",
       "      dtype='object')"
      ]
     },
     "execution_count": 12,
     "metadata": {},
     "output_type": "execute_result"
    }
   ],
   "source": [
    "encoded_data.columns"
   ]
  },
  {
   "cell_type": "markdown",
   "metadata": {},
   "source": [
    "# Now Lets take a Copy of the \"encoded_data\" data frame"
   ]
  },
  {
   "cell_type": "code",
   "execution_count": 13,
   "metadata": {
    "execution": {
     "iopub.execute_input": "2025-06-06T01:39:36.754243Z",
     "iopub.status.busy": "2025-06-06T01:39:36.753896Z",
     "iopub.status.idle": "2025-06-06T01:39:37.432210Z",
     "shell.execute_reply": "2025-06-06T01:39:37.431449Z",
     "shell.execute_reply.started": "2025-06-06T01:39:36.754221Z"
    },
    "trusted": true
   },
   "outputs": [
    {
     "name": "stdout",
     "output_type": "stream",
     "text": [
      "<class 'pandas.core.frame.DataFrame'>\n",
      "RangeIndex: 863473 entries, 0 to 863472\n",
      "Data columns (total 40 columns):\n",
      " #   Column                             Non-Null Count   Dtype  \n",
      "---  ------                             --------------   -----  \n",
      " 0   rating                             863473 non-null  int64  \n",
      " 1   review_text                        863473 non-null  object \n",
      " 2   total_feedback_count               863473 non-null  int64  \n",
      " 3   total_neg_feedback_count           863473 non-null  int64  \n",
      " 4   total_pos_feedback_count           863473 non-null  int64  \n",
      " 5   product_id                         863473 non-null  object \n",
      " 6   price_usd                          863473 non-null  float64\n",
      " 7   product_name                       863473 non-null  object \n",
      " 8   ingredients                        863473 non-null  object \n",
      " 9   highlights                         863473 non-null  object \n",
      " 10  primary_category                   863473 non-null  object \n",
      " 11  secondary_category                 863473 non-null  object \n",
      " 12  processed_review                   863464 non-null  object \n",
      " 13  review_length                      863473 non-null  int64  \n",
      " 14  processed_ingredients              863473 non-null  object \n",
      " 15  ingredient_count                   863473 non-null  int64  \n",
      " 16  has__glycerin_                     863473 non-null  int64  \n",
      " 17  has__phenoxyethanol_               863473 non-null  int64  \n",
      " 18  has__butylene_glycol_              863473 non-null  int64  \n",
      " 19  has__propanediol_                  863473 non-null  int64  \n",
      " 20  has__tocopherol_                   863473 non-null  int64  \n",
      " 21  has__citric_acid_                  863473 non-null  int64  \n",
      " 22  has__ethylhexylglycerin_           863473 non-null  int64  \n",
      " 23  has__sodium_hyaluronate_           863473 non-null  int64  \n",
      " 24  has__xanthan_gum_                  863473 non-null  int64  \n",
      " 25  has__sodium_benzoate_              863473 non-null  int64  \n",
      " 26  has__caprylyl_glycol_              863473 non-null  int64  \n",
      " 27  has__potassium_sorbate_            863473 non-null  int64  \n",
      " 28  has__polysorbate_                  863473 non-null  int64  \n",
      " 29  has__sodium_hydroxide_             863473 non-null  int64  \n",
      " 30  has__capryliccapric_triglyceride_  863473 non-null  int64  \n",
      " 31  has__tocopheryl_acetate_           863473 non-null  int64  \n",
      " 32  has__squalane_                     863473 non-null  int64  \n",
      " 33  has__dimethicone_                  863473 non-null  int64  \n",
      " 34  has__pentylene_glycol_             863473 non-null  int64  \n",
      " 35  has_water_                         863473 non-null  int64  \n",
      " 36  skin_type_combination              863473 non-null  float64\n",
      " 37  skin_type_dry                      863473 non-null  float64\n",
      " 38  skin_type_normal                   863473 non-null  float64\n",
      " 39  skin_type_oily                     863473 non-null  float64\n",
      "dtypes: float64(5), int64(26), object(9)\n",
      "memory usage: 263.5+ MB\n"
     ]
    }
   ],
   "source": [
    "final_df = encoded_data.copy()\n",
    "final_df.info()"
   ]
  },
  {
   "cell_type": "markdown",
   "metadata": {},
   "source": [
    "## **Dropping the rows where  the \"secondary_category\" = \"Mini Size\"**"
   ]
  },
  {
   "cell_type": "code",
   "execution_count": 14,
   "metadata": {
    "execution": {
     "iopub.execute_input": "2025-06-06T01:39:47.380355Z",
     "iopub.status.busy": "2025-06-06T01:39:47.380039Z",
     "iopub.status.idle": "2025-06-06T01:39:47.710169Z",
     "shell.execute_reply": "2025-06-06T01:39:47.709014Z",
     "shell.execute_reply.started": "2025-06-06T01:39:47.380333Z"
    },
    "trusted": true
   },
   "outputs": [
    {
     "name": "stdout",
     "output_type": "stream",
     "text": [
      "Shape after dropping Mini Size rows: (785621, 40)\n",
      "\n",
      "Unique values in secondary_category:\n",
      "['Cleansers' 'Lip Balms & Treatments' 'Moisturizers' 'Treatments' 'Masks'\n",
      " 'Sunscreen' 'Self Tanners' 'Eye Care' 'Wellness']\n"
     ]
    }
   ],
   "source": [
    "# Droping the rows where 'secondary_category' is 'Mini Size'\n",
    "final_df = final_df[final_df['secondary_category'] != 'Mini Size']\n",
    "\n",
    "# Reseting the index after dropping the rows\n",
    "final_df.reset_index(drop=True, inplace=True)\n",
    "\n",
    "# Printing the shape to see how many rows remaind\n",
    "print(f\"Shape after dropping Mini Size rows: {final_df.shape}\")\n",
    "\n",
    "# Printing the unique values in the secondary_category to confirm that the \"Mini Size\" is droped\n",
    "print(\"\\nUnique values in secondary_category:\")\n",
    "print(final_df['secondary_category'].unique())"
   ]
  },
  {
   "cell_type": "code",
   "execution_count": 15,
   "metadata": {
    "execution": {
     "iopub.execute_input": "2025-06-06T01:39:49.379410Z",
     "iopub.status.busy": "2025-06-06T01:39:49.379078Z",
     "iopub.status.idle": "2025-06-06T01:39:49.384685Z",
     "shell.execute_reply": "2025-06-06T01:39:49.383896Z",
     "shell.execute_reply.started": "2025-06-06T01:39:49.379364Z"
    },
    "trusted": true
   },
   "outputs": [
    {
     "data": {
      "text/plain": [
       "(785621, 40)"
      ]
     },
     "execution_count": 15,
     "metadata": {},
     "output_type": "execute_result"
    }
   ],
   "source": [
    "final_df.shape"
   ]
  },
  {
   "cell_type": "code",
   "execution_count": 16,
   "metadata": {
    "execution": {
     "iopub.execute_input": "2025-06-06T01:39:51.663187Z",
     "iopub.status.busy": "2025-06-06T01:39:51.662880Z",
     "iopub.status.idle": "2025-06-06T01:39:51.667776Z",
     "shell.execute_reply": "2025-06-06T01:39:51.666536Z",
     "shell.execute_reply.started": "2025-06-06T01:39:51.663166Z"
    },
    "trusted": true
   },
   "outputs": [],
   "source": [
    "pd.set_option(\"display.max_columns\", None)"
   ]
  },
  {
   "cell_type": "code",
   "execution_count": 17,
   "metadata": {
    "execution": {
     "iopub.execute_input": "2025-06-06T01:39:53.639891Z",
     "iopub.status.busy": "2025-06-06T01:39:53.639314Z",
     "iopub.status.idle": "2025-06-06T01:39:53.663633Z",
     "shell.execute_reply": "2025-06-06T01:39:53.662522Z",
     "shell.execute_reply.started": "2025-06-06T01:39:53.639847Z"
    },
    "trusted": true
   },
   "outputs": [
    {
     "data": {
      "text/html": [
       "<div>\n",
       "<style scoped>\n",
       "    .dataframe tbody tr th:only-of-type {\n",
       "        vertical-align: middle;\n",
       "    }\n",
       "\n",
       "    .dataframe tbody tr th {\n",
       "        vertical-align: top;\n",
       "    }\n",
       "\n",
       "    .dataframe thead th {\n",
       "        text-align: right;\n",
       "    }\n",
       "</style>\n",
       "<table border=\"1\" class=\"dataframe\">\n",
       "  <thead>\n",
       "    <tr style=\"text-align: right;\">\n",
       "      <th></th>\n",
       "      <th>rating</th>\n",
       "      <th>review_text</th>\n",
       "      <th>total_feedback_count</th>\n",
       "      <th>total_neg_feedback_count</th>\n",
       "      <th>total_pos_feedback_count</th>\n",
       "      <th>product_id</th>\n",
       "      <th>price_usd</th>\n",
       "      <th>product_name</th>\n",
       "      <th>ingredients</th>\n",
       "      <th>highlights</th>\n",
       "      <th>primary_category</th>\n",
       "      <th>secondary_category</th>\n",
       "      <th>processed_review</th>\n",
       "      <th>review_length</th>\n",
       "      <th>processed_ingredients</th>\n",
       "      <th>ingredient_count</th>\n",
       "      <th>has__glycerin_</th>\n",
       "      <th>has__phenoxyethanol_</th>\n",
       "      <th>has__butylene_glycol_</th>\n",
       "      <th>has__propanediol_</th>\n",
       "      <th>has__tocopherol_</th>\n",
       "      <th>has__citric_acid_</th>\n",
       "      <th>has__ethylhexylglycerin_</th>\n",
       "      <th>has__sodium_hyaluronate_</th>\n",
       "      <th>has__xanthan_gum_</th>\n",
       "      <th>has__sodium_benzoate_</th>\n",
       "      <th>has__caprylyl_glycol_</th>\n",
       "      <th>has__potassium_sorbate_</th>\n",
       "      <th>has__polysorbate_</th>\n",
       "      <th>has__sodium_hydroxide_</th>\n",
       "      <th>has__capryliccapric_triglyceride_</th>\n",
       "      <th>has__tocopheryl_acetate_</th>\n",
       "      <th>has__squalane_</th>\n",
       "      <th>has__dimethicone_</th>\n",
       "      <th>has__pentylene_glycol_</th>\n",
       "      <th>has_water_</th>\n",
       "      <th>skin_type_combination</th>\n",
       "      <th>skin_type_dry</th>\n",
       "      <th>skin_type_normal</th>\n",
       "      <th>skin_type_oily</th>\n",
       "    </tr>\n",
       "  </thead>\n",
       "  <tbody>\n",
       "    <tr>\n",
       "      <th>0</th>\n",
       "      <td>5</td>\n",
       "      <td>I use this with the Nudestix “Citrus Clean Bal...</td>\n",
       "      <td>2</td>\n",
       "      <td>0</td>\n",
       "      <td>2</td>\n",
       "      <td>P504322</td>\n",
       "      <td>19.0</td>\n",
       "      <td>Gentle Hydra-Gel Face Cleanser</td>\n",
       "      <td>['Water (Aqua), Dipropylene Glycol, Peg-6 Capr...</td>\n",
       "      <td>['Clean at Sephora']</td>\n",
       "      <td>Skincare</td>\n",
       "      <td>Cleansers</td>\n",
       "      <td>use nudestix citrus clean balm makeup melt dou...</td>\n",
       "      <td>283</td>\n",
       "      <td>water | dipropylene glycol | peg capryliccapri...</td>\n",
       "      <td>22</td>\n",
       "      <td>1</td>\n",
       "      <td>0</td>\n",
       "      <td>1</td>\n",
       "      <td>1</td>\n",
       "      <td>1</td>\n",
       "      <td>0</td>\n",
       "      <td>1</td>\n",
       "      <td>1</td>\n",
       "      <td>0</td>\n",
       "      <td>0</td>\n",
       "      <td>0</td>\n",
       "      <td>0</td>\n",
       "      <td>0</td>\n",
       "      <td>0</td>\n",
       "      <td>0</td>\n",
       "      <td>0</td>\n",
       "      <td>0</td>\n",
       "      <td>0</td>\n",
       "      <td>0</td>\n",
       "      <td>1</td>\n",
       "      <td>0.0</td>\n",
       "      <td>1.0</td>\n",
       "      <td>0.0</td>\n",
       "      <td>0.0</td>\n",
       "    </tr>\n",
       "    <tr>\n",
       "      <th>1</th>\n",
       "      <td>5</td>\n",
       "      <td>My review title says it all! I get so excited ...</td>\n",
       "      <td>0</td>\n",
       "      <td>0</td>\n",
       "      <td>0</td>\n",
       "      <td>P420652</td>\n",
       "      <td>24.0</td>\n",
       "      <td>Lip Sleeping Mask Intense Hydration with Vitam...</td>\n",
       "      <td>['Diisostearyl Malate, Hydrogenated Polyisobut...</td>\n",
       "      <td>['allure 2019 Best of Beauty Award Winner', 'C...</td>\n",
       "      <td>Skincare</td>\n",
       "      <td>Lip Balms &amp; Treatments</td>\n",
       "      <td>review title say get excited get bed apply lip...</td>\n",
       "      <td>178</td>\n",
       "      <td>diisostearyl malate | hydrogenated polyisobute...</td>\n",
       "      <td>34</td>\n",
       "      <td>1</td>\n",
       "      <td>0</td>\n",
       "      <td>0</td>\n",
       "      <td>1</td>\n",
       "      <td>0</td>\n",
       "      <td>0</td>\n",
       "      <td>0</td>\n",
       "      <td>0</td>\n",
       "      <td>0</td>\n",
       "      <td>0</td>\n",
       "      <td>0</td>\n",
       "      <td>0</td>\n",
       "      <td>0</td>\n",
       "      <td>0</td>\n",
       "      <td>0</td>\n",
       "      <td>0</td>\n",
       "      <td>0</td>\n",
       "      <td>0</td>\n",
       "      <td>0</td>\n",
       "      <td>1</td>\n",
       "      <td>0.0</td>\n",
       "      <td>1.0</td>\n",
       "      <td>0.0</td>\n",
       "      <td>0.0</td>\n",
       "    </tr>\n",
       "  </tbody>\n",
       "</table>\n",
       "</div>"
      ],
      "text/plain": [
       "   rating                                        review_text  \\\n",
       "0       5  I use this with the Nudestix “Citrus Clean Bal...   \n",
       "1       5  My review title says it all! I get so excited ...   \n",
       "\n",
       "   total_feedback_count  total_neg_feedback_count  total_pos_feedback_count  \\\n",
       "0                     2                         0                         2   \n",
       "1                     0                         0                         0   \n",
       "\n",
       "  product_id  price_usd                                       product_name  \\\n",
       "0    P504322       19.0                     Gentle Hydra-Gel Face Cleanser   \n",
       "1    P420652       24.0  Lip Sleeping Mask Intense Hydration with Vitam...   \n",
       "\n",
       "                                         ingredients  \\\n",
       "0  ['Water (Aqua), Dipropylene Glycol, Peg-6 Capr...   \n",
       "1  ['Diisostearyl Malate, Hydrogenated Polyisobut...   \n",
       "\n",
       "                                          highlights primary_category  \\\n",
       "0                               ['Clean at Sephora']         Skincare   \n",
       "1  ['allure 2019 Best of Beauty Award Winner', 'C...         Skincare   \n",
       "\n",
       "       secondary_category                                   processed_review  \\\n",
       "0               Cleansers  use nudestix citrus clean balm makeup melt dou...   \n",
       "1  Lip Balms & Treatments  review title say get excited get bed apply lip...   \n",
       "\n",
       "   review_length                              processed_ingredients  \\\n",
       "0            283  water | dipropylene glycol | peg capryliccapri...   \n",
       "1            178  diisostearyl malate | hydrogenated polyisobute...   \n",
       "\n",
       "   ingredient_count  has__glycerin_  has__phenoxyethanol_  \\\n",
       "0                22               1                     0   \n",
       "1                34               1                     0   \n",
       "\n",
       "   has__butylene_glycol_  has__propanediol_  has__tocopherol_  \\\n",
       "0                      1                  1                 1   \n",
       "1                      0                  1                 0   \n",
       "\n",
       "   has__citric_acid_  has__ethylhexylglycerin_  has__sodium_hyaluronate_  \\\n",
       "0                  0                         1                         1   \n",
       "1                  0                         0                         0   \n",
       "\n",
       "   has__xanthan_gum_  has__sodium_benzoate_  has__caprylyl_glycol_  \\\n",
       "0                  0                      0                      0   \n",
       "1                  0                      0                      0   \n",
       "\n",
       "   has__potassium_sorbate_  has__polysorbate_  has__sodium_hydroxide_  \\\n",
       "0                        0                  0                       0   \n",
       "1                        0                  0                       0   \n",
       "\n",
       "   has__capryliccapric_triglyceride_  has__tocopheryl_acetate_  \\\n",
       "0                                  0                         0   \n",
       "1                                  0                         0   \n",
       "\n",
       "   has__squalane_  has__dimethicone_  has__pentylene_glycol_  has_water_  \\\n",
       "0               0                  0                       0           1   \n",
       "1               0                  0                       0           1   \n",
       "\n",
       "   skin_type_combination  skin_type_dry  skin_type_normal  skin_type_oily  \n",
       "0                    0.0            1.0               0.0             0.0  \n",
       "1                    0.0            1.0               0.0             0.0  "
      ]
     },
     "execution_count": 17,
     "metadata": {},
     "output_type": "execute_result"
    }
   ],
   "source": [
    "final_df.head(2)"
   ]
  },
  {
   "cell_type": "code",
   "execution_count": 18,
   "metadata": {
    "execution": {
     "iopub.execute_input": "2025-06-06T01:40:54.759358Z",
     "iopub.status.busy": "2025-06-06T01:40:54.758954Z",
     "iopub.status.idle": "2025-06-06T01:40:54.764814Z",
     "shell.execute_reply": "2025-06-06T01:40:54.763841Z",
     "shell.execute_reply.started": "2025-06-06T01:40:54.759328Z"
    },
    "trusted": true
   },
   "outputs": [
    {
     "data": {
      "text/plain": [
       "(785621, 40)"
      ]
     },
     "execution_count": 18,
     "metadata": {},
     "output_type": "execute_result"
    }
   ],
   "source": [
    "final_df.shape"
   ]
  },
  {
   "cell_type": "code",
   "execution_count": 19,
   "metadata": {
    "execution": {
     "iopub.execute_input": "2025-06-06T01:40:55.655399Z",
     "iopub.status.busy": "2025-06-06T01:40:55.654951Z",
     "iopub.status.idle": "2025-06-06T01:40:55.825508Z",
     "shell.execute_reply": "2025-06-06T01:40:55.824604Z",
     "shell.execute_reply.started": "2025-06-06T01:40:55.655347Z"
    },
    "trusted": true
   },
   "outputs": [
    {
     "data": {
      "text/plain": [
       "(785621, 39)"
      ]
     },
     "execution_count": 19,
     "metadata": {},
     "output_type": "execute_result"
    }
   ],
   "source": [
    "final_df = final_df.drop(columns=\"highlights\")\n",
    "final_df.shape"
   ]
  },
  {
   "cell_type": "markdown",
   "metadata": {},
   "source": [
    "# **2) Visualizations**\n",
    "\n",
    "#### visualizing the ratings distribution across the different products categories"
   ]
  },
  {
   "cell_type": "code",
   "execution_count": 30,
   "metadata": {
    "execution": {
     "iopub.execute_input": "2025-03-03T13:31:13.759446Z",
     "iopub.status.busy": "2025-03-03T13:31:13.759219Z",
     "iopub.status.idle": "2025-03-03T13:31:14.680912Z",
     "shell.execute_reply": "2025-03-03T13:31:14.679999Z",
     "shell.execute_reply.started": "2025-03-03T13:31:13.759427Z"
    },
    "trusted": true
   },
   "outputs": [
    {
     "name": "stderr",
     "output_type": "stream",
     "text": [
      "/usr/local/lib/python3.10/dist-packages/seaborn/_oldcore.py:1119: FutureWarning: use_inf_as_na option is deprecated and will be removed in a future version. Convert inf values to NaN before operating instead.\n",
      "  with pd.option_context('mode.use_inf_as_na', True):\n"
     ]
    },
    {
     "data": {
      "image/png": "[encoded data removed]",
      "text/plain": [
       "<Figure size 1000x600 with 1 Axes>"
      ]
     },
     "metadata": {},
     "output_type": "display_data"
    },
    {
     "data": {
      "image/png": "[encoded data removed]",
      "text/plain": [
       "<Figure size 1200x600 with 1 Axes>"
      ]
     },
     "metadata": {},
     "output_type": "display_data"
    }
   ],
   "source": [
    "# The rating distribution\n",
    "plt.figure(figsize=(10, 6))\n",
    "sns.histplot(data=final_df, x='rating')\n",
    "plt.title('Distribution of Ratings')\n",
    "plt.show()\n",
    "\n",
    "# The Average Rating of each Category\n",
    "avg_ratings = final_df.groupby('secondary_category')['rating'].mean().sort_values(ascending=False)\n",
    "plt.figure(figsize=(12, 6))\n",
    "avg_ratings.plot(kind='bar')\n",
    "plt.title('Average Rating by Product Category')\n",
    "plt.xticks(rotation=45)\n",
    "plt.show()"
   ]
  },
  {
   "cell_type": "markdown",
   "metadata": {},
   "source": [
    "# **Observation**\n",
    "### This visualization shows that almost all the categories have products with high ratings which means that there will be a good amount of products that has high ratings for the recommendation"
   ]
  },
  {
   "cell_type": "markdown",
   "metadata": {},
   "source": [
    "# Lets visualize the ratings Counts in the dataset"
   ]
  },
  {
   "cell_type": "code",
   "execution_count": 31,
   "metadata": {
    "execution": {
     "iopub.execute_input": "2025-03-03T13:31:14.682068Z",
     "iopub.status.busy": "2025-03-03T13:31:14.681797Z",
     "iopub.status.idle": "2025-03-03T13:31:14.904279Z",
     "shell.execute_reply": "2025-03-03T13:31:14.903417Z",
     "shell.execute_reply.started": "2025-03-03T13:31:14.682046Z"
    },
    "trusted": true
   },
   "outputs": [
    {
     "name": "stdout",
     "output_type": "stream",
     "text": [
      "Rating Counts:\n",
      "rating\n",
      "1     42525\n",
      "2     37481\n",
      "3     59200\n",
      "4    144636\n",
      "5    501779\n",
      "Name: count, dtype: int64\n"
     ]
    },
    {
     "data": {
      "image/png": "[encoded data removed]",
      "text/plain": [
       "<Figure size 1200x600 with 1 Axes>"
      ]
     },
     "metadata": {},
     "output_type": "display_data"
    },
    {
     "name": "stdout",
     "output_type": "stream",
     "text": [
      "\n",
      "Rating Analysis:\n",
      "         Count  Percentage\n",
      "rating                    \n",
      "1        42525    5.412915\n",
      "2        37481    4.770876\n",
      "3        59200    7.535440\n",
      "4       144636   18.410404\n",
      "5       501779   63.870365\n"
     ]
    }
   ],
   "source": [
    "# The Ratings counts\n",
    "rating_counts = final_df['rating'].value_counts().sort_index()\n",
    "print(\"Rating Counts:\")\n",
    "print(rating_counts)\n",
    "\n",
    "# Plotting both their counts and percentages\n",
    "plt.figure(figsize=(12, 6))\n",
    "sns.countplot(data=final_df, x='rating')\n",
    "plt.title('Distribution of Ratings')\n",
    "\n",
    "# Adding the counts labels on the top of each bar\n",
    "for i in range(len(rating_counts)):\n",
    "    count = rating_counts[i+1]  # ratings are 1-5\n",
    "    percentage = (count/len(final_df))*100\n",
    "    plt.text(i, count, f'n={count}\\n({percentage:.1f}%)',\n",
    "             ha='center', va='bottom')\n",
    "\n",
    "plt.show()\n",
    "\n",
    "# Creating a table of the counts and percentages\n",
    "rating_analysis = pd.DataFrame({\n",
    "    'Count': rating_counts,\n",
    "    'Percentage': (rating_counts/len(final_df))*100\n",
    "})\n",
    "print(\"\\nRating Analysis:\")\n",
    "print(rating_analysis)"
   ]
  },
  {
   "cell_type": "markdown",
   "metadata": {},
   "source": [
    "# **Observation**\n",
    "### The plot shows that most of the products have a high ratings whish means that there is a strong imbalance in the dataset"
   ]
  },
  {
   "cell_type": "markdown",
   "metadata": {},
   "source": [
    "# **Visualizing the most common ingredients**"
   ]
  },
  {
   "cell_type": "code",
   "execution_count": 33,
   "metadata": {
    "execution": {
     "iopub.execute_input": "2025-03-03T13:31:14.910983Z",
     "iopub.status.busy": "2025-03-03T13:31:14.910719Z",
     "iopub.status.idle": "2025-03-03T13:31:15.262816Z",
     "shell.execute_reply": "2025-03-03T13:31:15.261843Z",
     "shell.execute_reply.started": "2025-03-03T13:31:14.910955Z"
    },
    "trusted": true
   },
   "outputs": [
    {
     "data": {
      "image/png": "[encoded data removed]",
      "text/plain": [
       "<Figure size 1500x600 with 1 Axes>"
      ]
     },
     "metadata": {},
     "output_type": "display_data"
    }
   ],
   "source": [
    "# Plotting the most Common Ingredients\n",
    "ingredient_cols = [col for col in final_df.columns if col.startswith('has_')]\n",
    "ingredient_sums = final_df[ingredient_cols].sum().sort_values(ascending=False)\n",
    "\n",
    "plt.figure(figsize=(15, 6))\n",
    "ingredient_sums.plot(kind='bar')\n",
    "plt.title('Most Common Ingredients')\n",
    "plt.xticks(rotation=45)\n",
    "plt.show()"
   ]
  },
  {
   "cell_type": "markdown",
   "metadata": {},
   "source": [
    "### I want to know  and plot the count of products who had a good (high) rating by each skin type"
   ]
  },
  {
   "cell_type": "code",
   "execution_count": 34,
   "metadata": {
    "execution": {
     "iopub.execute_input": "2025-03-03T13:31:15.264158Z",
     "iopub.status.busy": "2025-03-03T13:31:15.263830Z",
     "iopub.status.idle": "2025-03-03T13:31:16.037229Z",
     "shell.execute_reply": "2025-03-03T13:31:16.036137Z",
     "shell.execute_reply.started": "2025-03-03T13:31:15.264127Z"
    },
    "trusted": true
   },
   "outputs": [
    {
     "name": "stdout",
     "output_type": "stream",
     "text": [
      "High Rating Counts by Skin Type (Ratings 4-5):\n",
      "Combination:\n",
      "  Count: 360200\n",
      "  Total Reviews: 435240\n",
      "  Percentage: 82.8%\n",
      "\n",
      "Dry:\n",
      "  Count: 122071\n",
      "  Total Reviews: 149246\n",
      "  Percentage: 81.8%\n",
      "\n",
      "Normal:\n",
      "  Count: 86521\n",
      "  Total Reviews: 105802\n",
      "  Percentage: 81.8%\n",
      "\n",
      "Oily:\n",
      "  Count: 77623\n",
      "  Total Reviews: 95333\n",
      "  Percentage: 81.4%\n",
      "\n"
     ]
    },
    {
     "data": {
      "image/png": "[encoded data removed]",
      "text/plain": [
       "<Figure size 1200x600 with 1 Axes>"
      ]
     },
     "metadata": {},
     "output_type": "display_data"
    }
   ],
   "source": [
    "# Assuming that (4 and 5) are the high ratings\n",
    "high_ratings = [4, 5]\n",
    "\n",
    "# Calculating the counts of the ratings per each skin type\n",
    "high_rating_counts = {\n",
    "    'Combination': len(final_df[(final_df['skin_type_combination'] == 1) & (final_df['rating'].isin(high_ratings))]),\n",
    "    'Dry': len(final_df[(final_df['skin_type_dry'] == 1) & (final_df['rating'].isin(high_ratings))]),\n",
    "    'Normal': len(final_df[(final_df['skin_type_normal'] == 1) & (final_df['rating'].isin(high_ratings))]),\n",
    "    'Oily': len(final_df[(final_df['skin_type_oily'] == 1) & (final_df['rating'].isin(high_ratings))])\n",
    "}\n",
    "\n",
    "# Calculating the total reviews for each skin type for calculating the percentage of the high ratings\n",
    "total_counts = {\n",
    "    'Combination': len(final_df[final_df['skin_type_combination'] == 1]),\n",
    "    'Dry': len(final_df[final_df['skin_type_dry'] == 1]),\n",
    "    'Normal': len(final_df[final_df['skin_type_normal'] == 1]),\n",
    "    'Oily': len(final_df[final_df['skin_type_oily'] == 1])\n",
    "}\n",
    "\n",
    "# Printing the counts and the percentages of the ratings\n",
    "print(\"High Rating Counts by Skin Type (Ratings 4-5):\")\n",
    "for skin_type in high_rating_counts:\n",
    "    count = high_rating_counts[skin_type]\n",
    "    total = total_counts[skin_type]\n",
    "    percentage = (count/total) * 100\n",
    "    print(f\"{skin_type}:\")\n",
    "    print(f\"  Count: {count}\")\n",
    "    print(f\"  Total Reviews: {total}\")\n",
    "    print(f\"  Percentage: {percentage:.1f}%\\n\")\n",
    "\n",
    "# Creating a bar plot for the visualization\n",
    "plt.figure(figsize=(12, 6))\n",
    "bars = plt.bar(high_rating_counts.keys(), high_rating_counts.values())\n",
    "plt.title('Count of High Ratings (4-5) by Skin Type')\n",
    "plt.ylabel('Number of High Ratings')\n",
    "\n",
    "# Adding the value labels on the top of each bar\n",
    "for i, bar in enumerate(bars):\n",
    "    count = high_rating_counts[list(high_rating_counts.keys())[i]]\n",
    "    total = total_counts[list(total_counts.keys())[i]]\n",
    "    percentage = (count/total) * 100\n",
    "    plt.text(bar.get_x() + bar.get_width()/2, bar.get_height(),\n",
    "             f'n={count}\\n({percentage:.1f}%)',\n",
    "             ha='center', va='bottom')\n",
    "\n",
    "plt.show()"
   ]
  },
  {
   "cell_type": "markdown",
   "metadata": {},
   "source": [
    "# **Printing the Skin types distributions**"
   ]
  },
  {
   "cell_type": "code",
   "execution_count": 20,
   "metadata": {
    "execution": {
     "iopub.execute_input": "2025-06-06T01:49:52.237086Z",
     "iopub.status.busy": "2025-06-06T01:49:52.236767Z",
     "iopub.status.idle": "2025-06-06T01:49:52.451091Z",
     "shell.execute_reply": "2025-06-06T01:49:52.449951Z",
     "shell.execute_reply.started": "2025-06-06T01:49:52.237063Z"
    },
    "trusted": true
   },
   "outputs": [
    {
     "data": {
      "image/png": "[encoded data removed]",
      "text/plain": [
       "<Figure size 1000x600 with 1 Axes>"
      ]
     },
     "metadata": {},
     "output_type": "display_data"
    }
   ],
   "source": [
    "# Plotting the skin types distribution\n",
    "plt.figure(figsize=(10, 6))\n",
    "skin_type_cols = ['skin_type_combination', 'skin_type_dry', 'skin_type_normal', 'skin_type_oily']\n",
    "skin_type_sums = final_df[skin_type_cols].sum()\n",
    "plt.pie(skin_type_sums, labels=skin_type_cols, autopct='%1.1f%%')\n",
    "plt.title('Distribution of Skin Types')\n",
    "plt.show()"
   ]
  },
  {
   "cell_type": "code",
   "execution_count": 21,
   "metadata": {
    "execution": {
     "iopub.execute_input": "2025-06-06T01:49:55.615315Z",
     "iopub.status.busy": "2025-06-06T01:49:55.614971Z",
     "iopub.status.idle": "2025-06-06T01:49:55.638298Z",
     "shell.execute_reply": "2025-06-06T01:49:55.637140Z",
     "shell.execute_reply.started": "2025-06-06T01:49:55.615275Z"
    },
    "trusted": true
   },
   "outputs": [
    {
     "name": "stdout",
     "output_type": "stream",
     "text": [
      "skin_type_combination    435240.0\n",
      "skin_type_dry            149246.0\n",
      "skin_type_normal         105802.0\n",
      "skin_type_oily            95333.0\n",
      "dtype: float64\n"
     ]
    }
   ],
   "source": [
    "skin_type_sums = final_df[skin_type_cols].sum()\n",
    "print(skin_type_sums)"
   ]
  },
  {
   "cell_type": "markdown",
   "metadata": {},
   "source": [
    "### Since that the skin type dataset has only 3 skin types (normal, dry and oily), and the products dataset has 4 skin types (combination, normal, dry and oily) there was a need to handel this difference so a dermatologist was contacted to see which is the closest skin type to the combination skin type and the answer of the dermatologist was the \"Normal\" skin type, the dermatologist also said that we can recommend the same products for both the \"Normal\" skin type  and the \"Combination\" skin type, so according to this information we can merge the \"Combination\" skin type and the \"Normal\" skin type under one category (\"Normal\")."
   ]
  },
  {
   "cell_type": "code",
   "execution_count": 22,
   "metadata": {
    "execution": {
     "iopub.execute_input": "2025-06-06T01:49:57.315369Z",
     "iopub.status.busy": "2025-06-06T01:49:57.315068Z",
     "iopub.status.idle": "2025-06-06T01:49:57.866590Z",
     "shell.execute_reply": "2025-06-06T01:49:57.865720Z",
     "shell.execute_reply.started": "2025-06-06T01:49:57.315347Z"
    },
    "trusted": true
   },
   "outputs": [
    {
     "name": "stdout",
     "output_type": "stream",
     "text": [
      "<class 'pandas.core.frame.DataFrame'>\n",
      "RangeIndex: 785621 entries, 0 to 785620\n",
      "Data columns (total 39 columns):\n",
      " #   Column                             Non-Null Count   Dtype  \n",
      "---  ------                             --------------   -----  \n",
      " 0   rating                             785621 non-null  int64  \n",
      " 1   review_text                        785621 non-null  object \n",
      " 2   total_feedback_count               785621 non-null  int64  \n",
      " 3   total_neg_feedback_count           785621 non-null  int64  \n",
      " 4   total_pos_feedback_count           785621 non-null  int64  \n",
      " 5   product_id                         785621 non-null  object \n",
      " 6   price_usd                          785621 non-null  float64\n",
      " 7   product_name                       785621 non-null  object \n",
      " 8   ingredients                        785621 non-null  object \n",
      " 9   primary_category                   785621 non-null  object \n",
      " 10  secondary_category                 785621 non-null  object \n",
      " 11  processed_review                   785612 non-null  object \n",
      " 12  review_length                      785621 non-null  int64  \n",
      " 13  processed_ingredients              785621 non-null  object \n",
      " 14  ingredient_count                   785621 non-null  int64  \n",
      " 15  has__glycerin_                     785621 non-null  int64  \n",
      " 16  has__phenoxyethanol_               785621 non-null  int64  \n",
      " 17  has__butylene_glycol_              785621 non-null  int64  \n",
      " 18  has__propanediol_                  785621 non-null  int64  \n",
      " 19  has__tocopherol_                   785621 non-null  int64  \n",
      " 20  has__citric_acid_                  785621 non-null  int64  \n",
      " 21  has__ethylhexylglycerin_           785621 non-null  int64  \n",
      " 22  has__sodium_hyaluronate_           785621 non-null  int64  \n",
      " 23  has__xanthan_gum_                  785621 non-null  int64  \n",
      " 24  has__sodium_benzoate_              785621 non-null  int64  \n",
      " 25  has__caprylyl_glycol_              785621 non-null  int64  \n",
      " 26  has__potassium_sorbate_            785621 non-null  int64  \n",
      " 27  has__polysorbate_                  785621 non-null  int64  \n",
      " 28  has__sodium_hydroxide_             785621 non-null  int64  \n",
      " 29  has__capryliccapric_triglyceride_  785621 non-null  int64  \n",
      " 30  has__tocopheryl_acetate_           785621 non-null  int64  \n",
      " 31  has__squalane_                     785621 non-null  int64  \n",
      " 32  has__dimethicone_                  785621 non-null  int64  \n",
      " 33  has__pentylene_glycol_             785621 non-null  int64  \n",
      " 34  has_water_                         785621 non-null  int64  \n",
      " 35  skin_type_combination              785621 non-null  float64\n",
      " 36  skin_type_dry                      785621 non-null  float64\n",
      " 37  skin_type_normal                   785621 non-null  float64\n",
      " 38  skin_type_oily                     785621 non-null  float64\n",
      "dtypes: float64(5), int64(26), object(8)\n",
      "memory usage: 233.8+ MB\n"
     ]
    }
   ],
   "source": [
    "# First lets take copy of the final_df to handle the skin types\n",
    "test_merge_skin_types_df = final_df.copy()\n",
    "test_merge_skin_types_df.info()"
   ]
  },
  {
   "cell_type": "code",
   "execution_count": 23,
   "metadata": {
    "execution": {
     "iopub.execute_input": "2025-06-06T01:50:11.483677Z",
     "iopub.status.busy": "2025-06-06T01:50:11.483354Z",
     "iopub.status.idle": "2025-06-06T01:50:17.804157Z",
     "shell.execute_reply": "2025-06-06T01:50:17.803236Z",
     "shell.execute_reply.started": "2025-06-06T01:50:11.483655Z"
    },
    "trusted": true
   },
   "outputs": [
    {
     "name": "stdout",
     "output_type": "stream",
     "text": [
      "Skin Type Distribution after merging:\n",
      "skin_type_dry       149246.0\n",
      "skin_type_normal    541042.0\n",
      "skin_type_oily       95333.0\n",
      "dtype: float64\n",
      "\n",
      "Percentages:\n",
      "skin_type_dry       18.997201\n",
      "skin_type_normal    68.868067\n",
      "skin_type_oily      12.134732\n",
      "dtype: float64 %\n"
     ]
    },
    {
     "data": {
      "image/png": "[encoded data removed]",
      "text/plain": [
       "<Figure size 1000x600 with 1 Axes>"
      ]
     },
     "metadata": {},
     "output_type": "display_data"
    }
   ],
   "source": [
    "# Creating a new skin type columns where the combination is merged with  the normal\n",
    "test_merge_skin_types_df['skin_type_normal'] = test_merge_skin_types_df.apply(\n",
    "    lambda row: 1 if row['skin_type_combination'] == 1 or row['skin_type_normal'] == 1 else 0,\n",
    "    axis=1\n",
    ")\n",
    "\n",
    "# Dropping the combination column since it's now merged with the normal skin type\n",
    "test_merge_skin_types_df.drop('skin_type_combination', axis=1, inplace=True)\n",
    "\n",
    "# Verifying the changes by showing the  distribution\n",
    "skin_type_cols = ['skin_type_dry', 'skin_type_normal', 'skin_type_oily']\n",
    "skin_type_sums = test_merge_skin_types_df[skin_type_cols].sum()\n",
    "\n",
    "# Printing the new counts\n",
    "print(\"Skin Type Distribution after merging:\")\n",
    "print(skin_type_sums)\n",
    "print(\"\\nPercentages:\")\n",
    "print((skin_type_sums / len(test_merge_skin_types_df)) * 100, \"%\")\n",
    "\n",
    "# Visualizing the new distribution\n",
    "plt.figure(figsize=(10, 6))\n",
    "plt.pie(skin_type_sums, labels=skin_type_cols, autopct='%1.1f%%')\n",
    "plt.title('Distribution of Skin Types (After Merging Combination with Normal)')\n",
    "plt.show()"
   ]
  },
  {
   "cell_type": "code",
   "execution_count": 24,
   "metadata": {
    "execution": {
     "iopub.execute_input": "2025-06-06T01:51:44.373769Z",
     "iopub.status.busy": "2025-06-06T01:51:44.373409Z",
     "iopub.status.idle": "2025-06-06T01:51:44.642422Z",
     "shell.execute_reply": "2025-06-06T01:51:44.641483Z",
     "shell.execute_reply.started": "2025-06-06T01:51:44.373744Z"
    },
    "trusted": true
   },
   "outputs": [
    {
     "data": {
      "text/plain": [
       "Index(['rating', 'review_text', 'total_feedback_count',\n",
       "       'total_neg_feedback_count', 'total_pos_feedback_count', 'product_id',\n",
       "       'price_usd', 'product_name', 'ingredients', 'primary_category',\n",
       "       'secondary_category', 'processed_review', 'review_length',\n",
       "       'processed_ingredients', 'ingredient_count', 'has__glycerin_',\n",
       "       'has__phenoxyethanol_', 'has__butylene_glycol_', 'has__propanediol_',\n",
       "       'has__tocopherol_', 'has__citric_acid_', 'has__ethylhexylglycerin_',\n",
       "       'has__sodium_hyaluronate_', 'has__xanthan_gum_',\n",
       "       'has__sodium_benzoate_', 'has__caprylyl_glycol_',\n",
       "       'has__potassium_sorbate_', 'has__polysorbate_',\n",
       "       'has__sodium_hydroxide_', 'has__capryliccapric_triglyceride_',\n",
       "       'has__tocopheryl_acetate_', 'has__squalane_', 'has__dimethicone_',\n",
       "       'has__pentylene_glycol_', 'has_water_', 'skin_type_dry',\n",
       "       'skin_type_normal', 'skin_type_oily'],\n",
       "      dtype='object')"
      ]
     },
     "execution_count": 24,
     "metadata": {},
     "output_type": "execute_result"
    }
   ],
   "source": [
    "final_recommendation_df = test_merge_skin_types_df.copy()\n",
    "final_recommendation_df.columns"
   ]
  },
  {
   "cell_type": "code",
   "execution_count": 25,
   "metadata": {
    "execution": {
     "iopub.execute_input": "2025-06-06T01:51:54.273497Z",
     "iopub.status.busy": "2025-06-06T01:51:54.273137Z",
     "iopub.status.idle": "2025-06-06T01:51:54.296459Z",
     "shell.execute_reply": "2025-06-06T01:51:54.295339Z",
     "shell.execute_reply.started": "2025-06-06T01:51:54.273467Z"
    },
    "trusted": true
   },
   "outputs": [
    {
     "name": "stdout",
     "output_type": "stream",
     "text": [
      "(785621, 38)\n"
     ]
    },
    {
     "data": {
      "text/html": [
       "<div>\n",
       "<style scoped>\n",
       "    .dataframe tbody tr th:only-of-type {\n",
       "        vertical-align: middle;\n",
       "    }\n",
       "\n",
       "    .dataframe tbody tr th {\n",
       "        vertical-align: top;\n",
       "    }\n",
       "\n",
       "    .dataframe thead th {\n",
       "        text-align: right;\n",
       "    }\n",
       "</style>\n",
       "<table border=\"1\" class=\"dataframe\">\n",
       "  <thead>\n",
       "    <tr style=\"text-align: right;\">\n",
       "      <th></th>\n",
       "      <th>rating</th>\n",
       "      <th>review_text</th>\n",
       "      <th>total_feedback_count</th>\n",
       "      <th>total_neg_feedback_count</th>\n",
       "      <th>total_pos_feedback_count</th>\n",
       "      <th>product_id</th>\n",
       "      <th>price_usd</th>\n",
       "      <th>product_name</th>\n",
       "      <th>ingredients</th>\n",
       "      <th>primary_category</th>\n",
       "      <th>secondary_category</th>\n",
       "      <th>processed_review</th>\n",
       "      <th>review_length</th>\n",
       "      <th>processed_ingredients</th>\n",
       "      <th>ingredient_count</th>\n",
       "      <th>has__glycerin_</th>\n",
       "      <th>has__phenoxyethanol_</th>\n",
       "      <th>has__butylene_glycol_</th>\n",
       "      <th>has__propanediol_</th>\n",
       "      <th>has__tocopherol_</th>\n",
       "      <th>has__citric_acid_</th>\n",
       "      <th>has__ethylhexylglycerin_</th>\n",
       "      <th>has__sodium_hyaluronate_</th>\n",
       "      <th>has__xanthan_gum_</th>\n",
       "      <th>has__sodium_benzoate_</th>\n",
       "      <th>has__caprylyl_glycol_</th>\n",
       "      <th>has__potassium_sorbate_</th>\n",
       "      <th>has__polysorbate_</th>\n",
       "      <th>has__sodium_hydroxide_</th>\n",
       "      <th>has__capryliccapric_triglyceride_</th>\n",
       "      <th>has__tocopheryl_acetate_</th>\n",
       "      <th>has__squalane_</th>\n",
       "      <th>has__dimethicone_</th>\n",
       "      <th>has__pentylene_glycol_</th>\n",
       "      <th>has_water_</th>\n",
       "      <th>skin_type_dry</th>\n",
       "      <th>skin_type_normal</th>\n",
       "      <th>skin_type_oily</th>\n",
       "    </tr>\n",
       "  </thead>\n",
       "  <tbody>\n",
       "    <tr>\n",
       "      <th>0</th>\n",
       "      <td>5</td>\n",
       "      <td>I use this with the Nudestix “Citrus Clean Bal...</td>\n",
       "      <td>2</td>\n",
       "      <td>0</td>\n",
       "      <td>2</td>\n",
       "      <td>P504322</td>\n",
       "      <td>19.0</td>\n",
       "      <td>Gentle Hydra-Gel Face Cleanser</td>\n",
       "      <td>['Water (Aqua), Dipropylene Glycol, Peg-6 Capr...</td>\n",
       "      <td>Skincare</td>\n",
       "      <td>Cleansers</td>\n",
       "      <td>use nudestix citrus clean balm makeup melt dou...</td>\n",
       "      <td>283</td>\n",
       "      <td>water | dipropylene glycol | peg capryliccapri...</td>\n",
       "      <td>22</td>\n",
       "      <td>1</td>\n",
       "      <td>0</td>\n",
       "      <td>1</td>\n",
       "      <td>1</td>\n",
       "      <td>1</td>\n",
       "      <td>0</td>\n",
       "      <td>1</td>\n",
       "      <td>1</td>\n",
       "      <td>0</td>\n",
       "      <td>0</td>\n",
       "      <td>0</td>\n",
       "      <td>0</td>\n",
       "      <td>0</td>\n",
       "      <td>0</td>\n",
       "      <td>0</td>\n",
       "      <td>0</td>\n",
       "      <td>0</td>\n",
       "      <td>0</td>\n",
       "      <td>0</td>\n",
       "      <td>1</td>\n",
       "      <td>1.0</td>\n",
       "      <td>0</td>\n",
       "      <td>0.0</td>\n",
       "    </tr>\n",
       "    <tr>\n",
       "      <th>1</th>\n",
       "      <td>5</td>\n",
       "      <td>My review title says it all! I get so excited ...</td>\n",
       "      <td>0</td>\n",
       "      <td>0</td>\n",
       "      <td>0</td>\n",
       "      <td>P420652</td>\n",
       "      <td>24.0</td>\n",
       "      <td>Lip Sleeping Mask Intense Hydration with Vitam...</td>\n",
       "      <td>['Diisostearyl Malate, Hydrogenated Polyisobut...</td>\n",
       "      <td>Skincare</td>\n",
       "      <td>Lip Balms &amp; Treatments</td>\n",
       "      <td>review title say get excited get bed apply lip...</td>\n",
       "      <td>178</td>\n",
       "      <td>diisostearyl malate | hydrogenated polyisobute...</td>\n",
       "      <td>34</td>\n",
       "      <td>1</td>\n",
       "      <td>0</td>\n",
       "      <td>0</td>\n",
       "      <td>1</td>\n",
       "      <td>0</td>\n",
       "      <td>0</td>\n",
       "      <td>0</td>\n",
       "      <td>0</td>\n",
       "      <td>0</td>\n",
       "      <td>0</td>\n",
       "      <td>0</td>\n",
       "      <td>0</td>\n",
       "      <td>0</td>\n",
       "      <td>0</td>\n",
       "      <td>0</td>\n",
       "      <td>0</td>\n",
       "      <td>0</td>\n",
       "      <td>0</td>\n",
       "      <td>0</td>\n",
       "      <td>1</td>\n",
       "      <td>1.0</td>\n",
       "      <td>0</td>\n",
       "      <td>0.0</td>\n",
       "    </tr>\n",
       "    <tr>\n",
       "      <th>2</th>\n",
       "      <td>5</td>\n",
       "      <td>I’ve always loved this formula for a long time...</td>\n",
       "      <td>0</td>\n",
       "      <td>0</td>\n",
       "      <td>0</td>\n",
       "      <td>P420652</td>\n",
       "      <td>24.0</td>\n",
       "      <td>Lip Sleeping Mask Intense Hydration with Vitam...</td>\n",
       "      <td>['Diisostearyl Malate, Hydrogenated Polyisobut...</td>\n",
       "      <td>Skincare</td>\n",
       "      <td>Lip Balms &amp; Treatments</td>\n",
       "      <td>always loved formula long time honestly even u...</td>\n",
       "      <td>152</td>\n",
       "      <td>diisostearyl malate | hydrogenated polyisobute...</td>\n",
       "      <td>34</td>\n",
       "      <td>1</td>\n",
       "      <td>0</td>\n",
       "      <td>0</td>\n",
       "      <td>1</td>\n",
       "      <td>0</td>\n",
       "      <td>0</td>\n",
       "      <td>0</td>\n",
       "      <td>0</td>\n",
       "      <td>0</td>\n",
       "      <td>0</td>\n",
       "      <td>0</td>\n",
       "      <td>0</td>\n",
       "      <td>0</td>\n",
       "      <td>0</td>\n",
       "      <td>0</td>\n",
       "      <td>0</td>\n",
       "      <td>0</td>\n",
       "      <td>0</td>\n",
       "      <td>0</td>\n",
       "      <td>1</td>\n",
       "      <td>0.0</td>\n",
       "      <td>1</td>\n",
       "      <td>0.0</td>\n",
       "    </tr>\n",
       "    <tr>\n",
       "      <th>3</th>\n",
       "      <td>5</td>\n",
       "      <td>If you have dry cracked lips, this is a must h...</td>\n",
       "      <td>0</td>\n",
       "      <td>0</td>\n",
       "      <td>0</td>\n",
       "      <td>P420652</td>\n",
       "      <td>24.0</td>\n",
       "      <td>Lip Sleeping Mask Intense Hydration with Vitam...</td>\n",
       "      <td>['Diisostearyl Malate, Hydrogenated Polyisobut...</td>\n",
       "      <td>Skincare</td>\n",
       "      <td>Lip Balms &amp; Treatments</td>\n",
       "      <td>dry cracked lip must week use learned always b...</td>\n",
       "      <td>108</td>\n",
       "      <td>diisostearyl malate | hydrogenated polyisobute...</td>\n",
       "      <td>34</td>\n",
       "      <td>1</td>\n",
       "      <td>0</td>\n",
       "      <td>0</td>\n",
       "      <td>1</td>\n",
       "      <td>0</td>\n",
       "      <td>0</td>\n",
       "      <td>0</td>\n",
       "      <td>0</td>\n",
       "      <td>0</td>\n",
       "      <td>0</td>\n",
       "      <td>0</td>\n",
       "      <td>0</td>\n",
       "      <td>0</td>\n",
       "      <td>0</td>\n",
       "      <td>0</td>\n",
       "      <td>0</td>\n",
       "      <td>0</td>\n",
       "      <td>0</td>\n",
       "      <td>0</td>\n",
       "      <td>1</td>\n",
       "      <td>0.0</td>\n",
       "      <td>1</td>\n",
       "      <td>0.0</td>\n",
       "    </tr>\n",
       "    <tr>\n",
       "      <th>4</th>\n",
       "      <td>4</td>\n",
       "      <td>The scent isn’t my favourite but it works grea...</td>\n",
       "      <td>1</td>\n",
       "      <td>0</td>\n",
       "      <td>1</td>\n",
       "      <td>P420652</td>\n",
       "      <td>24.0</td>\n",
       "      <td>Lip Sleeping Mask Intense Hydration with Vitam...</td>\n",
       "      <td>['Diisostearyl Malate, Hydrogenated Polyisobut...</td>\n",
       "      <td>Skincare</td>\n",
       "      <td>Lip Balms &amp; Treatments</td>\n",
       "      <td>scent favourite work great put every night go ...</td>\n",
       "      <td>117</td>\n",
       "      <td>diisostearyl malate | hydrogenated polyisobute...</td>\n",
       "      <td>34</td>\n",
       "      <td>1</td>\n",
       "      <td>0</td>\n",
       "      <td>0</td>\n",
       "      <td>1</td>\n",
       "      <td>0</td>\n",
       "      <td>0</td>\n",
       "      <td>0</td>\n",
       "      <td>0</td>\n",
       "      <td>0</td>\n",
       "      <td>0</td>\n",
       "      <td>0</td>\n",
       "      <td>0</td>\n",
       "      <td>0</td>\n",
       "      <td>0</td>\n",
       "      <td>0</td>\n",
       "      <td>0</td>\n",
       "      <td>0</td>\n",
       "      <td>0</td>\n",
       "      <td>0</td>\n",
       "      <td>1</td>\n",
       "      <td>0.0</td>\n",
       "      <td>1</td>\n",
       "      <td>0.0</td>\n",
       "    </tr>\n",
       "  </tbody>\n",
       "</table>\n",
       "</div>"
      ],
      "text/plain": [
       "   rating                                        review_text  \\\n",
       "0       5  I use this with the Nudestix “Citrus Clean Bal...   \n",
       "1       5  My review title says it all! I get so excited ...   \n",
       "2       5  I’ve always loved this formula for a long time...   \n",
       "3       5  If you have dry cracked lips, this is a must h...   \n",
       "4       4  The scent isn’t my favourite but it works grea...   \n",
       "\n",
       "   total_feedback_count  total_neg_feedback_count  total_pos_feedback_count  \\\n",
       "0                     2                         0                         2   \n",
       "1                     0                         0                         0   \n",
       "2                     0                         0                         0   \n",
       "3                     0                         0                         0   \n",
       "4                     1                         0                         1   \n",
       "\n",
       "  product_id  price_usd                                       product_name  \\\n",
       "0    P504322       19.0                     Gentle Hydra-Gel Face Cleanser   \n",
       "1    P420652       24.0  Lip Sleeping Mask Intense Hydration with Vitam...   \n",
       "2    P420652       24.0  Lip Sleeping Mask Intense Hydration with Vitam...   \n",
       "3    P420652       24.0  Lip Sleeping Mask Intense Hydration with Vitam...   \n",
       "4    P420652       24.0  Lip Sleeping Mask Intense Hydration with Vitam...   \n",
       "\n",
       "                                         ingredients primary_category  \\\n",
       "0  ['Water (Aqua), Dipropylene Glycol, Peg-6 Capr...         Skincare   \n",
       "1  ['Diisostearyl Malate, Hydrogenated Polyisobut...         Skincare   \n",
       "2  ['Diisostearyl Malate, Hydrogenated Polyisobut...         Skincare   \n",
       "3  ['Diisostearyl Malate, Hydrogenated Polyisobut...         Skincare   \n",
       "4  ['Diisostearyl Malate, Hydrogenated Polyisobut...         Skincare   \n",
       "\n",
       "       secondary_category                                   processed_review  \\\n",
       "0               Cleansers  use nudestix citrus clean balm makeup melt dou...   \n",
       "1  Lip Balms & Treatments  review title say get excited get bed apply lip...   \n",
       "2  Lip Balms & Treatments  always loved formula long time honestly even u...   \n",
       "3  Lip Balms & Treatments  dry cracked lip must week use learned always b...   \n",
       "4  Lip Balms & Treatments  scent favourite work great put every night go ...   \n",
       "\n",
       "   review_length                              processed_ingredients  \\\n",
       "0            283  water | dipropylene glycol | peg capryliccapri...   \n",
       "1            178  diisostearyl malate | hydrogenated polyisobute...   \n",
       "2            152  diisostearyl malate | hydrogenated polyisobute...   \n",
       "3            108  diisostearyl malate | hydrogenated polyisobute...   \n",
       "4            117  diisostearyl malate | hydrogenated polyisobute...   \n",
       "\n",
       "   ingredient_count  has__glycerin_  has__phenoxyethanol_  \\\n",
       "0                22               1                     0   \n",
       "1                34               1                     0   \n",
       "2                34               1                     0   \n",
       "3                34               1                     0   \n",
       "4                34               1                     0   \n",
       "\n",
       "   has__butylene_glycol_  has__propanediol_  has__tocopherol_  \\\n",
       "0                      1                  1                 1   \n",
       "1                      0                  1                 0   \n",
       "2                      0                  1                 0   \n",
       "3                      0                  1                 0   \n",
       "4                      0                  1                 0   \n",
       "\n",
       "   has__citric_acid_  has__ethylhexylglycerin_  has__sodium_hyaluronate_  \\\n",
       "0                  0                         1                         1   \n",
       "1                  0                         0                         0   \n",
       "2                  0                         0                         0   \n",
       "3                  0                         0                         0   \n",
       "4                  0                         0                         0   \n",
       "\n",
       "   has__xanthan_gum_  has__sodium_benzoate_  has__caprylyl_glycol_  \\\n",
       "0                  0                      0                      0   \n",
       "1                  0                      0                      0   \n",
       "2                  0                      0                      0   \n",
       "3                  0                      0                      0   \n",
       "4                  0                      0                      0   \n",
       "\n",
       "   has__potassium_sorbate_  has__polysorbate_  has__sodium_hydroxide_  \\\n",
       "0                        0                  0                       0   \n",
       "1                        0                  0                       0   \n",
       "2                        0                  0                       0   \n",
       "3                        0                  0                       0   \n",
       "4                        0                  0                       0   \n",
       "\n",
       "   has__capryliccapric_triglyceride_  has__tocopheryl_acetate_  \\\n",
       "0                                  0                         0   \n",
       "1                                  0                         0   \n",
       "2                                  0                         0   \n",
       "3                                  0                         0   \n",
       "4                                  0                         0   \n",
       "\n",
       "   has__squalane_  has__dimethicone_  has__pentylene_glycol_  has_water_  \\\n",
       "0               0                  0                       0           1   \n",
       "1               0                  0                       0           1   \n",
       "2               0                  0                       0           1   \n",
       "3               0                  0                       0           1   \n",
       "4               0                  0                       0           1   \n",
       "\n",
       "   skin_type_dry  skin_type_normal  skin_type_oily  \n",
       "0            1.0                 0             0.0  \n",
       "1            1.0                 0             0.0  \n",
       "2            0.0                 1             0.0  \n",
       "3            0.0                 1             0.0  \n",
       "4            0.0                 1             0.0  "
      ]
     },
     "execution_count": 25,
     "metadata": {},
     "output_type": "execute_result"
    }
   ],
   "source": [
    "print(final_recommendation_df.shape)\n",
    "final_recommendation_df.head()"
   ]
  },
  {
   "cell_type": "code",
   "execution_count": 26,
   "metadata": {
    "execution": {
     "iopub.execute_input": "2025-06-06T01:53:30.784844Z",
     "iopub.status.busy": "2025-06-06T01:53:30.784284Z",
     "iopub.status.idle": "2025-06-06T01:54:10.024684Z",
     "shell.execute_reply": "2025-06-06T01:54:10.023986Z",
     "shell.execute_reply.started": "2025-06-06T01:53:30.784813Z"
    },
    "trusted": true
   },
   "outputs": [],
   "source": [
    "final_recommendation_df.to_csv(\"final_recommendation_df_input_bert.csv\", index=False)"
   ]
  },
  {
   "cell_type": "markdown",
   "metadata": {},
   "source": [
    "# BERT Model (Before Balancing the data)\n",
    "\n",
    "### This code will:\n",
    "1. Load a pre-trained BERT model specifically trained for sentiment analysis\n",
    "2. Process your reviews and assign sentiment scores\n",
    "3. Convert scores to both numerical (1-5) and categorical (Negative/Neutral/Positive) formats also\n"
   ]
  },
  {
   "cell_type": "code",
   "execution_count": 27,
   "metadata": {
    "execution": {
     "iopub.execute_input": "2025-06-06T02:57:19.504434Z",
     "iopub.status.busy": "2025-06-06T02:57:19.504087Z",
     "iopub.status.idle": "2025-06-06T02:57:27.350157Z",
     "shell.execute_reply": "2025-06-06T02:57:27.349307Z",
     "shell.execute_reply.started": "2025-06-06T02:57:19.504369Z"
    },
    "trusted": true
   },
   "outputs": [],
   "source": [
    "import torch\n",
    "import numpy as np\n",
    "import pandas as pd\n",
    "import seaborn as sns\n",
    "import matplotlib.pyplot as plt\n",
    "\n",
    "from tqdm import tqdm\n",
    "from sklearn.metrics import classification_report, accuracy_score\n",
    "from transformers import AutoTokenizer, AutoModelForSequenceClassification\n",
    "from torch.nn.functional import softmax"
   ]
  },
  {
   "cell_type": "code",
   "execution_count": 28,
   "metadata": {
    "execution": {
     "iopub.execute_input": "2025-06-06T02:57:27.351576Z",
     "iopub.status.busy": "2025-06-06T02:57:27.351143Z",
     "iopub.status.idle": "2025-06-06T02:57:27.410224Z",
     "shell.execute_reply": "2025-06-06T02:57:27.409279Z",
     "shell.execute_reply.started": "2025-06-06T02:57:27.351552Z"
    },
    "trusted": true
   },
   "outputs": [
    {
     "name": "stdout",
     "output_type": "stream",
     "text": [
      "Using device: cuda\n"
     ]
    }
   ],
   "source": [
    "# Checking the GPU availability and set device\n",
    "device = torch.device(\"cuda\" if torch.cuda.is_available() else \"cpu\")\n",
    "print(f\"Using device: {device}\")"
   ]
  },
  {
   "cell_type": "code",
   "execution_count": 29,
   "metadata": {
    "execution": {
     "iopub.execute_input": "2025-06-06T02:57:27.411832Z",
     "iopub.status.busy": "2025-06-06T02:57:27.411601Z",
     "iopub.status.idle": "2025-06-06T02:57:44.649558Z",
     "shell.execute_reply": "2025-06-06T02:57:44.648552Z",
     "shell.execute_reply.started": "2025-06-06T02:57:27.411813Z"
    },
    "trusted": true
   },
   "outputs": [
    {
     "name": "stdout",
     "output_type": "stream",
     "text": [
      "Loading pre-trained BERT tokenizer and model...\n"
     ]
    },
    {
     "data": {
      "application/vnd.jupyter.widget-view+json": {
       "model_id": "9aec33d3828c4cd693dfba98ff59c4af",
       "version_major": 2,
       "version_minor": 0
      },
      "text/plain": [
       "tokenizer_config.json:   0%|          | 0.00/39.0 [00:00<?, ?B/s]"
      ]
     },
     "metadata": {},
     "output_type": "display_data"
    },
    {
     "data": {
      "application/vnd.jupyter.widget-view+json": {
       "model_id": "d091cd5450144b5585dae1feffef5a81",
       "version_major": 2,
       "version_minor": 0
      },
      "text/plain": [
       "config.json:   0%|          | 0.00/953 [00:00<?, ?B/s]"
      ]
     },
     "metadata": {},
     "output_type": "display_data"
    },
    {
     "data": {
      "application/vnd.jupyter.widget-view+json": {
       "model_id": "254238161bfd463482fa8eec003460e6",
       "version_major": 2,
       "version_minor": 0
      },
      "text/plain": [
       "vocab.txt:   0%|          | 0.00/872k [00:00<?, ?B/s]"
      ]
     },
     "metadata": {},
     "output_type": "display_data"
    },
    {
     "data": {
      "application/vnd.jupyter.widget-view+json": {
       "model_id": "887c391970fa443293b77dcb2088e7ff",
       "version_major": 2,
       "version_minor": 0
      },
      "text/plain": [
       "special_tokens_map.json:   0%|          | 0.00/112 [00:00<?, ?B/s]"
      ]
     },
     "metadata": {},
     "output_type": "display_data"
    },
    {
     "data": {
      "application/vnd.jupyter.widget-view+json": {
       "model_id": "51fb1d5b2b63474a8961bbb34f260bf6",
       "version_major": 2,
       "version_minor": 0
      },
      "text/plain": [
       "model.safetensors:   0%|          | 0.00/669M [00:00<?, ?B/s]"
      ]
     },
     "metadata": {},
     "output_type": "display_data"
    },
    {
     "data": {
      "text/plain": [
       "BertForSequenceClassification(\n",
       "  (bert): BertModel(\n",
       "    (embeddings): BertEmbeddings(\n",
       "      (word_embeddings): Embedding(105879, 768, padding_idx=0)\n",
       "      (position_embeddings): Embedding(512, 768)\n",
       "      (token_type_embeddings): Embedding(2, 768)\n",
       "      (LayerNorm): LayerNorm((768,), eps=1e-12, elementwise_affine=True)\n",
       "      (dropout): Dropout(p=0.1, inplace=False)\n",
       "    )\n",
       "    (encoder): BertEncoder(\n",
       "      (layer): ModuleList(\n",
       "        (0-11): 12 x BertLayer(\n",
       "          (attention): BertAttention(\n",
       "            (self): BertSdpaSelfAttention(\n",
       "              (query): Linear(in_features=768, out_features=768, bias=True)\n",
       "              (key): Linear(in_features=768, out_features=768, bias=True)\n",
       "              (value): Linear(in_features=768, out_features=768, bias=True)\n",
       "              (dropout): Dropout(p=0.1, inplace=False)\n",
       "            )\n",
       "            (output): BertSelfOutput(\n",
       "              (dense): Linear(in_features=768, out_features=768, bias=True)\n",
       "              (LayerNorm): LayerNorm((768,), eps=1e-12, elementwise_affine=True)\n",
       "              (dropout): Dropout(p=0.1, inplace=False)\n",
       "            )\n",
       "          )\n",
       "          (intermediate): BertIntermediate(\n",
       "            (dense): Linear(in_features=768, out_features=3072, bias=True)\n",
       "            (intermediate_act_fn): GELUActivation()\n",
       "          )\n",
       "          (output): BertOutput(\n",
       "            (dense): Linear(in_features=3072, out_features=768, bias=True)\n",
       "            (LayerNorm): LayerNorm((768,), eps=1e-12, elementwise_affine=True)\n",
       "            (dropout): Dropout(p=0.1, inplace=False)\n",
       "          )\n",
       "        )\n",
       "      )\n",
       "    )\n",
       "    (pooler): BertPooler(\n",
       "      (dense): Linear(in_features=768, out_features=768, bias=True)\n",
       "      (activation): Tanh()\n",
       "    )\n",
       "  )\n",
       "  (dropout): Dropout(p=0.1, inplace=False)\n",
       "  (classifier): Linear(in_features=768, out_features=5, bias=True)\n",
       ")"
      ]
     },
     "execution_count": 29,
     "metadata": {},
     "output_type": "execute_result"
    }
   ],
   "source": [
    "# Loading Pre-trained BERT Model\n",
    "print(\"Loading pre-trained BERT tokenizer and model...\")\n",
    "tokenizer = AutoTokenizer.from_pretrained('nlptown/bert-base-multilingual-uncased-sentiment')\n",
    "model = AutoModelForSequenceClassification.from_pretrained('nlptown/bert-base-multilingual-uncased-sentiment')\n",
    "model.to(device)"
   ]
  },
  {
   "cell_type": "code",
   "execution_count": 30,
   "metadata": {
    "execution": {
     "iopub.execute_input": "2025-06-06T02:59:46.566898Z",
     "iopub.status.busy": "2025-06-06T02:59:46.566199Z",
     "iopub.status.idle": "2025-06-06T02:59:46.571722Z",
     "shell.execute_reply": "2025-06-06T02:59:46.570708Z",
     "shell.execute_reply.started": "2025-06-06T02:59:46.566867Z"
    },
    "trusted": true
   },
   "outputs": [],
   "source": [
    "# Defining the Sentiment Prediction Function\n",
    "def get_sentiment(text, tokenizer, model):\n",
    "    \"\"\"\n",
    "    Returns softmax probability distribution over sentiment classes (1 to 5).\n",
    "    Input text is truncated to 512 tokens (BERT's max).\n",
    "    \"\"\"\n",
    "    encoded = tokenizer(text, truncation=True, max_length=512, return_tensors='pt').to(device)\n",
    "    with torch.no_grad():\n",
    "        output = model(**encoded)\n",
    "    scores = softmax(output.logits, dim=1)\n",
    "    return scores.cpu().numpy()[0]"
   ]
  },
  {
   "cell_type": "code",
   "execution_count": 31,
   "metadata": {
    "execution": {
     "iopub.execute_input": "2025-06-06T03:00:13.833302Z",
     "iopub.status.busy": "2025-06-06T03:00:13.832925Z",
     "iopub.status.idle": "2025-06-06T03:00:14.330758Z",
     "shell.execute_reply": "2025-06-06T03:00:14.330028Z",
     "shell.execute_reply.started": "2025-06-06T03:00:13.833271Z"
    },
    "trusted": true
   },
   "outputs": [],
   "source": [
    "# Data Preprocessing\n",
    "final_recommendation_df = final_recommendation_df.dropna(subset=['processed_review']).copy()\n",
    "final_recommendation_df['processed_review'] = final_recommendation_df['processed_review'].astype(str)"
   ]
  },
  {
   "cell_type": "code",
   "execution_count": 32,
   "metadata": {
    "execution": {
     "iopub.execute_input": "2025-06-06T03:00:23.670216Z",
     "iopub.status.busy": "2025-06-06T03:00:23.669919Z",
     "iopub.status.idle": "2025-06-06T04:43:46.769763Z",
     "shell.execute_reply": "2025-06-06T04:43:46.768900Z",
     "shell.execute_reply.started": "2025-06-06T03:00:23.670194Z"
    },
    "trusted": true
   },
   "outputs": [
    {
     "name": "stdout",
     "output_type": "stream",
     "text": [
      "Predicting sentiment scores in batches...\n"
     ]
    },
    {
     "name": "stderr",
     "output_type": "stream",
     "text": [
      "100%|██████████| 24551/24551 [1:43:23<00:00,  3.96it/s]\n"
     ]
    }
   ],
   "source": [
    "# Batch Sentiment Prediction\n",
    "print(\"Predicting sentiment scores in batches...\")\n",
    "batch_size = 32 \n",
    "sentiments = []\n",
    "\n",
    "for i in tqdm(range(0, len(final_recommendation_df), batch_size)):\n",
    "    batch_texts = final_recommendation_df['processed_review'].iloc[i:i+batch_size].tolist()\n",
    "    batch_scores = [get_sentiment(text, tokenizer, model) for text in batch_texts]\n",
    "    sentiments.extend(batch_scores)"
   ]
  },
  {
   "cell_type": "code",
   "execution_count": 33,
   "metadata": {
    "execution": {
     "iopub.execute_input": "2025-06-06T04:43:46.771158Z",
     "iopub.status.busy": "2025-06-06T04:43:46.770860Z",
     "iopub.status.idle": "2025-06-06T04:43:49.847190Z",
     "shell.execute_reply": "2025-06-06T04:43:49.846058Z",
     "shell.execute_reply.started": "2025-06-06T04:43:46.771134Z"
    },
    "trusted": true
   },
   "outputs": [],
   "source": [
    "# Postprocessing: Convert to Numerical and Categorical Sentiments\n",
    "final_recommendation_df['sentiment_score'] = [np.argmax(score) + 1 for score in sentiments]\n",
    "\n",
    "# Converting them to binary sentiment category (Negative: 1–3, Positive: 4–5)\n",
    "def map_sentiment_category(score):\n",
    "    return 'Negative' if score <= 3 else 'Positive'\n",
    "\n",
    "final_recommendation_df['sentiment_category'] = final_recommendation_df['sentiment_score'].apply(map_sentiment_category)\n",
    "\n",
    "def map_rating_category(rating):\n",
    "    return 'Negative' if rating <= 3 else 'Positive'\n",
    "\n",
    "final_recommendation_df['true_category'] = final_recommendation_df['rating'].apply(map_rating_category)"
   ]
  },
  {
   "cell_type": "code",
   "execution_count": 34,
   "metadata": {
    "execution": {
     "iopub.execute_input": "2025-06-06T04:43:49.849099Z",
     "iopub.status.busy": "2025-06-06T04:43:49.848844Z",
     "iopub.status.idle": "2025-06-06T04:44:24.197705Z",
     "shell.execute_reply": "2025-06-06T04:44:24.196851Z",
     "shell.execute_reply.started": "2025-06-06T04:43:49.849074Z"
    },
    "trusted": true
   },
   "outputs": [
    {
     "name": "stdout",
     "output_type": "stream",
     "text": [
      "\n",
      "Classification Report:\n",
      "              precision    recall  f1-score   support\n",
      "\n",
      "    Negative      0.391     0.789     0.523    139205\n",
      "    Positive      0.942     0.735     0.826    646407\n",
      "\n",
      "    accuracy                          0.745    785612\n",
      "   macro avg      0.666     0.762     0.674    785612\n",
      "weighted avg      0.844     0.745     0.772    785612\n",
      "\n",
      "Accuracy: 0.745\n"
     ]
    }
   ],
   "source": [
    "# Evaluation Metrics\n",
    "y_true = final_recommendation_df['true_category']\n",
    "y_pred = final_recommendation_df['sentiment_category']\n",
    "\n",
    "print(\"\\nClassification Report:\")\n",
    "print(classification_report(y_true, y_pred, digits=3))\n",
    "\n",
    "accuracy = accuracy_score(y_true, y_pred)\n",
    "print(f\"Accuracy: {accuracy:.3f}\")"
   ]
  },
  {
   "cell_type": "code",
   "execution_count": 35,
   "metadata": {
    "execution": {
     "iopub.execute_input": "2025-06-06T04:44:24.199193Z",
     "iopub.status.busy": "2025-06-06T04:44:24.198903Z",
     "iopub.status.idle": "2025-06-06T04:44:24.230399Z",
     "shell.execute_reply": "2025-06-06T04:44:24.229146Z",
     "shell.execute_reply.started": "2025-06-06T04:44:24.199168Z"
    },
    "trusted": true
   },
   "outputs": [
    {
     "name": "stdout",
     "output_type": "stream",
     "text": [
      "Correlation between sentiment score and actual rating: 0.45\n"
     ]
    }
   ],
   "source": [
    "# The Correlation Between the Predicted Score and the Actual Ratings\n",
    "correlation = final_recommendation_df['sentiment_score'].corr(final_recommendation_df['rating'])\n",
    "print(f\"Correlation between sentiment score and actual rating: {correlation:.2f}\")"
   ]
  },
  {
   "cell_type": "code",
   "execution_count": 36,
   "metadata": {
    "execution": {
     "iopub.execute_input": "2025-06-06T04:44:24.231924Z",
     "iopub.status.busy": "2025-06-06T04:44:24.231567Z",
     "iopub.status.idle": "2025-06-06T04:44:24.750437Z",
     "shell.execute_reply": "2025-06-06T04:44:24.749138Z",
     "shell.execute_reply.started": "2025-06-06T04:44:24.231890Z"
    },
    "trusted": true
   },
   "outputs": [
    {
     "data": {
      "image/png": "[encoded data removed]",
      "text/plain": [
       "<Figure size 1000x500 with 1 Axes>"
      ]
     },
     "metadata": {},
     "output_type": "display_data"
    }
   ],
   "source": [
    "# Visualization: Sentiment Distribution\n",
    "plt.figure(figsize=(10, 5))\n",
    "sns.countplot(data=final_recommendation_df, x='sentiment_category', palette='Set2')\n",
    "plt.title('Predicted Sentiment Category Distribution')\n",
    "plt.xlabel('Sentiment Category')\n",
    "plt.ylabel('Review Count')\n",
    "plt.grid(axis='y')\n",
    "plt.tight_layout()\n",
    "plt.show()"
   ]
  },
  {
   "cell_type": "code",
   "execution_count": 40,
   "metadata": {
    "execution": {
     "iopub.execute_input": "2025-06-06T04:44:25.474744Z",
     "iopub.status.busy": "2025-06-06T04:44:25.474469Z",
     "iopub.status.idle": "2025-06-06T04:45:03.921636Z",
     "shell.execute_reply": "2025-06-06T04:45:03.920925Z",
     "shell.execute_reply.started": "2025-06-06T04:44:25.474720Z"
    },
    "trusted": true
   },
   "outputs": [],
   "source": [
    "# Save the processed dataframe\n",
    "final_recommendation_df.to_csv('final_recommendation_df_after_bert.csv', index=False)"
   ]
  },
  {
   "cell_type": "code",
   "execution_count": 41,
   "metadata": {
    "execution": {
     "iopub.execute_input": "2025-06-06T04:48:45.884364Z",
     "iopub.status.busy": "2025-06-06T04:48:45.884037Z",
     "iopub.status.idle": "2025-06-06T04:48:45.895624Z",
     "shell.execute_reply": "2025-06-06T04:48:45.894752Z",
     "shell.execute_reply.started": "2025-06-06T04:48:45.884338Z"
    },
    "trusted": true
   },
   "outputs": [
    {
     "data": {
      "text/plain": [
       "array([5, 1, 3, 4, 2])"
      ]
     },
     "execution_count": 41,
     "metadata": {},
     "output_type": "execute_result"
    }
   ],
   "source": [
    "final_recommendation_df['sentiment_score'].unique()"
   ]
  },
  {
   "cell_type": "code",
   "execution_count": 43,
   "metadata": {
    "execution": {
     "iopub.execute_input": "2025-06-06T04:49:19.138633Z",
     "iopub.status.busy": "2025-06-06T04:49:19.138183Z",
     "iopub.status.idle": "2025-06-06T04:49:19.151508Z",
     "shell.execute_reply": "2025-06-06T04:49:19.150619Z",
     "shell.execute_reply.started": "2025-06-06T04:49:19.138594Z"
    },
    "trusted": true
   },
   "outputs": [
    {
     "data": {
      "text/plain": [
       "array([5, 4, 2, 1, 3])"
      ]
     },
     "execution_count": 43,
     "metadata": {},
     "output_type": "execute_result"
    }
   ],
   "source": [
    "final_recommendation_df['rating'].unique()"
   ]
  },
  {
   "cell_type": "markdown",
   "metadata": {},
   "source": [
    "# BERT With Balanced Data (After Oversampling)"
   ]
  },
  {
   "cell_type": "code",
   "execution_count": 45,
   "metadata": {
    "execution": {
     "iopub.execute_input": "2025-06-06T05:01:55.726077Z",
     "iopub.status.busy": "2025-06-06T05:01:55.725618Z",
     "iopub.status.idle": "2025-06-06T05:01:55.730962Z",
     "shell.execute_reply": "2025-06-06T05:01:55.730011Z",
     "shell.execute_reply.started": "2025-06-06T05:01:55.726031Z"
    },
    "trusted": true
   },
   "outputs": [],
   "source": [
    "from transformers import AutoTokenizer, AutoModelForSequenceClassification\n",
    "from torch.nn.functional import softmax\n",
    "import torch\n",
    "import numpy as np\n",
    "import pandas as pd\n",
    "from tqdm import tqdm\n",
    "from sklearn.metrics import classification_report, accuracy_score\n",
    "import matplotlib.pyplot as plt\n",
    "import seaborn as sns"
   ]
  },
  {
   "cell_type": "code",
   "execution_count": 46,
   "metadata": {
    "execution": {
     "iopub.execute_input": "2025-06-06T05:01:57.109569Z",
     "iopub.status.busy": "2025-06-06T05:01:57.109224Z",
     "iopub.status.idle": "2025-06-06T05:02:15.503431Z",
     "shell.execute_reply": "2025-06-06T05:02:15.502556Z",
     "shell.execute_reply.started": "2025-06-06T05:01:57.109531Z"
    },
    "trusted": true
   },
   "outputs": [
    {
     "name": "stderr",
     "output_type": "stream",
     "text": [
      "<ipython-input-46-100766f234df>:1: DtypeWarning: Columns (0,1,4,5,6,7,8,9,10,11,12,13) have mixed types. Specify dtype option on import or set low_memory=False.\n",
      "  final_recommendation_df=pd.read_csv(\"/kaggle/working/final_recommendation_df_input_bert.csv\")\n"
     ]
    },
    {
     "data": {
      "text/plain": [
       "Index(['rating', 'review_text', 'total_feedback_count',\n",
       "       'total_neg_feedback_count', 'total_pos_feedback_count', 'product_id',\n",
       "       'price_usd', 'product_name', 'ingredients', 'primary_category',\n",
       "       'secondary_category', 'processed_review', 'review_length',\n",
       "       'processed_ingredients', 'ingredient_count', 'has__glycerin_',\n",
       "       'has__phenoxyethanol_', 'has__butylene_glycol_', 'has__propanediol_',\n",
       "       'has__tocopherol_', 'has__citric_acid_', 'has__ethylhexylglycerin_',\n",
       "       'has__sodium_hyaluronate_', 'has__xanthan_gum_',\n",
       "       'has__sodium_benzoate_', 'has__caprylyl_glycol_',\n",
       "       'has__potassium_sorbate_', 'has__polysorbate_',\n",
       "       'has__sodium_hydroxide_', 'has__capryliccapric_triglyceride_',\n",
       "       'has__tocopheryl_acetate_', 'has__squalane_', 'has__dimethicone_',\n",
       "       'has__pentylene_glycol_', 'has_water_', 'skin_type_dry',\n",
       "       'skin_type_normal', 'skin_type_oily'],\n",
       "      dtype='object')"
      ]
     },
     "execution_count": 46,
     "metadata": {},
     "output_type": "execute_result"
    }
   ],
   "source": [
    "final_recommendation_df=pd.read_csv(\"/kaggle/working/final_recommendation_df_input_bert.csv\")\n",
    "final_recommendation_df.columns"
   ]
  },
  {
   "cell_type": "code",
   "execution_count": 47,
   "metadata": {
    "execution": {
     "iopub.execute_input": "2025-06-06T05:02:47.050355Z",
     "iopub.status.busy": "2025-06-06T05:02:47.050015Z",
     "iopub.status.idle": "2025-06-06T05:02:47.054958Z",
     "shell.execute_reply": "2025-06-06T05:02:47.054216Z",
     "shell.execute_reply.started": "2025-06-06T05:02:47.050310Z"
    },
    "trusted": true
   },
   "outputs": [
    {
     "name": "stdout",
     "output_type": "stream",
     "text": [
      "Using device: cuda\n"
     ]
    }
   ],
   "source": [
    "# Checking for the GPU\n",
    "device = torch.device(\"cuda\" if torch.cuda.is_available() else \"cpu\")\n",
    "print(f\"Using device: {device}\")"
   ]
  },
  {
   "cell_type": "code",
   "execution_count": 48,
   "metadata": {
    "execution": {
     "iopub.execute_input": "2025-06-06T05:02:49.867873Z",
     "iopub.status.busy": "2025-06-06T05:02:49.867588Z",
     "iopub.status.idle": "2025-06-06T05:02:50.589033Z",
     "shell.execute_reply": "2025-06-06T05:02:50.588243Z",
     "shell.execute_reply.started": "2025-06-06T05:02:49.867852Z"
    },
    "trusted": true
   },
   "outputs": [
    {
     "name": "stdout",
     "output_type": "stream",
     "text": [
      "Loading model and tokenizer...\n"
     ]
    },
    {
     "data": {
      "text/plain": [
       "BertForSequenceClassification(\n",
       "  (bert): BertModel(\n",
       "    (embeddings): BertEmbeddings(\n",
       "      (word_embeddings): Embedding(105879, 768, padding_idx=0)\n",
       "      (position_embeddings): Embedding(512, 768)\n",
       "      (token_type_embeddings): Embedding(2, 768)\n",
       "      (LayerNorm): LayerNorm((768,), eps=1e-12, elementwise_affine=True)\n",
       "      (dropout): Dropout(p=0.1, inplace=False)\n",
       "    )\n",
       "    (encoder): BertEncoder(\n",
       "      (layer): ModuleList(\n",
       "        (0-11): 12 x BertLayer(\n",
       "          (attention): BertAttention(\n",
       "            (self): BertSdpaSelfAttention(\n",
       "              (query): Linear(in_features=768, out_features=768, bias=True)\n",
       "              (key): Linear(in_features=768, out_features=768, bias=True)\n",
       "              (value): Linear(in_features=768, out_features=768, bias=True)\n",
       "              (dropout): Dropout(p=0.1, inplace=False)\n",
       "            )\n",
       "            (output): BertSelfOutput(\n",
       "              (dense): Linear(in_features=768, out_features=768, bias=True)\n",
       "              (LayerNorm): LayerNorm((768,), eps=1e-12, elementwise_affine=True)\n",
       "              (dropout): Dropout(p=0.1, inplace=False)\n",
       "            )\n",
       "          )\n",
       "          (intermediate): BertIntermediate(\n",
       "            (dense): Linear(in_features=768, out_features=3072, bias=True)\n",
       "            (intermediate_act_fn): GELUActivation()\n",
       "          )\n",
       "          (output): BertOutput(\n",
       "            (dense): Linear(in_features=3072, out_features=768, bias=True)\n",
       "            (LayerNorm): LayerNorm((768,), eps=1e-12, elementwise_affine=True)\n",
       "            (dropout): Dropout(p=0.1, inplace=False)\n",
       "          )\n",
       "        )\n",
       "      )\n",
       "    )\n",
       "    (pooler): BertPooler(\n",
       "      (dense): Linear(in_features=768, out_features=768, bias=True)\n",
       "      (activation): Tanh()\n",
       "    )\n",
       "  )\n",
       "  (dropout): Dropout(p=0.1, inplace=False)\n",
       "  (classifier): Linear(in_features=768, out_features=5, bias=True)\n",
       ")"
      ]
     },
     "execution_count": 48,
     "metadata": {},
     "output_type": "execute_result"
    }
   ],
   "source": [
    "# Loading the pre-trained multilingual BERT sentiment model\n",
    "print(\"Loading model and tokenizer...\")\n",
    "tokenizer = AutoTokenizer.from_pretrained('nlptown/bert-base-multilingual-uncased-sentiment')\n",
    "model = AutoModelForSequenceClassification.from_pretrained('nlptown/bert-base-multilingual-uncased-sentiment')\n",
    "model.to(device)\n",
    "model.eval()"
   ]
  },
  {
   "cell_type": "code",
   "execution_count": 51,
   "metadata": {
    "execution": {
     "iopub.execute_input": "2025-06-06T05:06:01.294955Z",
     "iopub.status.busy": "2025-06-06T05:06:01.294639Z",
     "iopub.status.idle": "2025-06-06T05:06:03.340282Z",
     "shell.execute_reply": "2025-06-06T05:06:03.339577Z",
     "shell.execute_reply.started": "2025-06-06T05:06:01.294928Z"
    },
    "trusted": true
   },
   "outputs": [],
   "source": [
    "# Preprocessing the data before the BERT model training\n",
    "# Drop NaN reviews and convert to string\n",
    "df = final_recommendation_df.dropna(subset=['processed_review', 'rating']).copy()\n",
    "df['processed_review'] = df['processed_review'].astype(str)\n",
    "\n",
    "# Converting the ratings to numeric (in case they are strings)\n",
    "df['rating'] = pd.to_numeric(df['rating'], errors='coerce')\n",
    "\n",
    "# Drop rows where rating could not be converted\n",
    "df = df.dropna(subset=['rating']).copy()\n",
    "df['rating'] = df['rating'].astype(int)\n",
    "\n",
    "# Converting the ratings to binary labels:\n",
    "# Ratings 1–3 → Negative (label 0), Ratings 4–5 → Positive (label 1)\n",
    "def convert_to_binary_label(rating):\n",
    "    return 0 if rating <= 3 else 1\n",
    "\n",
    "df['sentiment_label'] = df['rating'].apply(convert_to_binary_label)\n"
   ]
  },
  {
   "cell_type": "code",
   "execution_count": 50,
   "metadata": {
    "execution": {
     "iopub.execute_input": "2025-06-06T05:05:44.683315Z",
     "iopub.status.busy": "2025-06-06T05:05:44.682978Z",
     "iopub.status.idle": "2025-06-06T05:05:44.688114Z",
     "shell.execute_reply": "2025-06-06T05:05:44.687055Z",
     "shell.execute_reply.started": "2025-06-06T05:05:44.683278Z"
    },
    "trusted": true
   },
   "outputs": [
    {
     "name": "stdout",
     "output_type": "stream",
     "text": [
      "object\n"
     ]
    }
   ],
   "source": [
    "print(df['rating'].dtype)"
   ]
  },
  {
   "cell_type": "markdown",
   "metadata": {},
   "source": [
    "# Balancing the data"
   ]
  },
  {
   "cell_type": "code",
   "execution_count": 52,
   "metadata": {
    "execution": {
     "iopub.execute_input": "2025-06-06T05:06:14.967034Z",
     "iopub.status.busy": "2025-06-06T05:06:14.966708Z",
     "iopub.status.idle": "2025-06-06T05:06:14.972710Z",
     "shell.execute_reply": "2025-06-06T05:06:14.971699Z",
     "shell.execute_reply.started": "2025-06-06T05:06:14.967003Z"
    },
    "trusted": true
   },
   "outputs": [],
   "source": [
    "# STEP 2: Oversampling the Negative Classes by Duplication\n",
    "def oversample_minority_class(df, label_col='sentiment_label'):\n",
    "    class_counts = df[label_col].value_counts()\n",
    "    max_count = class_counts.max()\n",
    "    dfs = []\n",
    "    for label in class_counts.index:\n",
    "        subset = df[df[label_col] == label]\n",
    "        if len(subset) < max_count:\n",
    "            repeat_times = int(np.ceil(max_count / len(subset)))\n",
    "            oversampled = pd.concat([subset] * repeat_times, ignore_index=True).sample(max_count, random_state=42)\n",
    "            dfs.append(oversampled)\n",
    "        else:\n",
    "            dfs.append(subset.sample(max_count, random_state=42))\n",
    "    return pd.concat(dfs).sample(frac=1, random_state=42).reset_index(drop=True)"
   ]
  },
  {
   "cell_type": "code",
   "execution_count": 53,
   "metadata": {
    "execution": {
     "iopub.execute_input": "2025-06-06T05:06:17.934022Z",
     "iopub.status.busy": "2025-06-06T05:06:17.933733Z",
     "iopub.status.idle": "2025-06-06T05:06:23.413223Z",
     "shell.execute_reply": "2025-06-06T05:06:23.412486Z",
     "shell.execute_reply.started": "2025-06-06T05:06:17.934001Z"
    },
    "trusted": true
   },
   "outputs": [
    {
     "name": "stdout",
     "output_type": "stream",
     "text": [
      "Balancing the dataset...\n"
     ]
    }
   ],
   "source": [
    "print(\"Balancing the dataset...\")\n",
    "balanced_df = oversample_minority_class(df)"
   ]
  },
  {
   "cell_type": "code",
   "execution_count": 54,
   "metadata": {
    "execution": {
     "iopub.execute_input": "2025-06-06T05:06:23.414542Z",
     "iopub.status.busy": "2025-06-06T05:06:23.414307Z",
     "iopub.status.idle": "2025-06-06T05:06:23.420253Z",
     "shell.execute_reply": "2025-06-06T05:06:23.419346Z",
     "shell.execute_reply.started": "2025-06-06T05:06:23.414521Z"
    },
    "trusted": true
   },
   "outputs": [],
   "source": [
    "def get_sentiment_scores(texts, tokenizer, model, device, batch_size=32):\n",
    "    all_scores = []\n",
    "\n",
    "    for i in tqdm(range(0, len(texts), batch_size), desc=\"Processing reviews\"):\n",
    "        batch = texts[i:i+batch_size]\n",
    "        encoded = tokenizer(batch, truncation=True, padding=True, max_length=512, return_tensors='pt')\n",
    "        encoded = {k: v.to(device) for k, v in encoded.items()}\n",
    "\n",
    "        with torch.no_grad():\n",
    "            outputs = model(**encoded)\n",
    "            probs = softmax(outputs.logits, dim=1)\n",
    "            scores = probs.cpu().numpy()\n",
    "            all_scores.extend(scores)\n",
    "\n",
    "    return np.array(all_scores)"
   ]
  },
  {
   "cell_type": "code",
   "execution_count": 56,
   "metadata": {
    "execution": {
     "iopub.execute_input": "2025-06-06T05:57:18.424844Z",
     "iopub.status.busy": "2025-06-06T05:57:18.424540Z",
     "iopub.status.idle": "2025-06-06T07:18:49.969303Z",
     "shell.execute_reply": "2025-06-06T07:18:49.968555Z",
     "shell.execute_reply.started": "2025-06-06T05:57:18.424819Z"
    },
    "trusted": true
   },
   "outputs": [
    {
     "name": "stdout",
     "output_type": "stream",
     "text": [
      "Predicting sentiment scores using BERT...\n"
     ]
    },
    {
     "name": "stderr",
     "output_type": "stream",
     "text": [
      "Processing reviews: 100%|██████████| 40392/40392 [1:21:30<00:00,  8.26it/s]\n"
     ]
    }
   ],
   "source": [
    "print(\"Predicting sentiment scores using BERT...\")\n",
    "texts = balanced_df['processed_review'].tolist()\n",
    "scores = get_sentiment_scores(texts, tokenizer, model, device)\n",
    "\n",
    "# Convert softmax scores (5-class) to sentiment score (1 to 5)\n",
    "predicted_scores = np.argmax(scores, axis=1) + 1 \n",
    "\n",
    "# Maping the predicted score to the sentiment labels (+ve/-ve)\n",
    "def score_to_sentiment_label(score):\n",
    "    return 0 if score <= 3 else 1\n",
    "\n",
    "balanced_df['predicted_sentiment_label'] = [score_to_sentiment_label(s) for s in predicted_scores]"
   ]
  },
  {
   "cell_type": "code",
   "execution_count": 57,
   "metadata": {
    "execution": {
     "iopub.execute_input": "2025-06-06T07:18:49.970635Z",
     "iopub.status.busy": "2025-06-06T07:18:49.970414Z",
     "iopub.status.idle": "2025-06-06T07:18:50.603093Z",
     "shell.execute_reply": "2025-06-06T07:18:50.602142Z",
     "shell.execute_reply.started": "2025-06-06T07:18:49.970616Z"
    },
    "trusted": true
   },
   "outputs": [
    {
     "name": "stdout",
     "output_type": "stream",
     "text": [
      "\n",
      "Classification Report:\n",
      "              precision    recall  f1-score   support\n",
      "\n",
      "    Negative       0.75      0.79      0.77    646257\n",
      "    Positive       0.78      0.73      0.76    646257\n",
      "\n",
      "    accuracy                           0.76   1292514\n",
      "   macro avg       0.76      0.76      0.76   1292514\n",
      "weighted avg       0.76      0.76      0.76   1292514\n",
      "\n",
      "Accuracy: 0.7619\n"
     ]
    }
   ],
   "source": [
    "# Classification Report\n",
    "y_true = balanced_df['sentiment_label']\n",
    "y_pred = balanced_df['predicted_sentiment_label']\n",
    "\n",
    "print(\"\\nClassification Report:\")\n",
    "print(classification_report(y_true, y_pred, target_names=['Negative', 'Positive']))\n",
    "print(f\"Accuracy: {accuracy_score(y_true, y_pred):.4f}\")"
   ]
  },
  {
   "cell_type": "code",
   "execution_count": 58,
   "metadata": {
    "execution": {
     "iopub.execute_input": "2025-06-06T07:18:50.605261Z",
     "iopub.status.busy": "2025-06-06T07:18:50.605000Z",
     "iopub.status.idle": "2025-06-06T07:18:50.825416Z",
     "shell.execute_reply": "2025-06-06T07:18:50.824477Z",
     "shell.execute_reply.started": "2025-06-06T07:18:50.605240Z"
    },
    "trusted": true
   },
   "outputs": [
    {
     "data": {
      "image/png": "[encoded data removed]",
      "text/plain": [
       "<Figure size 800x500 with 1 Axes>"
      ]
     },
     "metadata": {},
     "output_type": "display_data"
    }
   ],
   "source": [
    "# Distribution of true sentiment labels\n",
    "plt.figure(figsize=(8, 5))\n",
    "sns.countplot(data=balanced_df, x='sentiment_label')\n",
    "plt.title('True Sentiment Label Distribution (After Oversampling)')\n",
    "plt.xticks([0, 1], ['Negative', 'Positive'])\n",
    "plt.ylabel('Count')\n",
    "plt.show()"
   ]
  },
  {
   "cell_type": "code",
   "execution_count": 60,
   "metadata": {
    "execution": {
     "iopub.execute_input": "2025-06-06T07:18:51.207701Z",
     "iopub.status.busy": "2025-06-06T07:18:51.207368Z",
     "iopub.status.idle": "2025-06-06T07:18:51.239273Z",
     "shell.execute_reply": "2025-06-06T07:18:51.238329Z",
     "shell.execute_reply.started": "2025-06-06T07:18:51.207675Z"
    },
    "trusted": true
   },
   "outputs": [
    {
     "name": "stdout",
     "output_type": "stream",
     "text": [
      "Correlation between predicted sentiment score and actual rating: 0.57\n"
     ]
    }
   ],
   "source": [
    "# Correlation between predicted sentiment score (1-5) and actual rating\n",
    "correlation = balanced_df['predicted_score'].corr(balanced_df['rating'])\n",
    "print(f\"Correlation between predicted sentiment score and actual rating: {correlation:.2f}\")"
   ]
  },
  {
   "cell_type": "code",
   "execution_count": 61,
   "metadata": {
    "execution": {
     "iopub.execute_input": "2025-06-06T07:18:51.240569Z",
     "iopub.status.busy": "2025-06-06T07:18:51.240223Z",
     "iopub.status.idle": "2025-06-06T07:20:07.876348Z",
     "shell.execute_reply": "2025-06-06T07:20:07.875483Z",
     "shell.execute_reply.started": "2025-06-06T07:18:51.240521Z"
    },
    "trusted": true
   },
   "outputs": [],
   "source": [
    "# Save the processed dataframe\n",
    "balanced_df.to_csv('balanced_df_after_bert.csv', index=False)"
   ]
  },
  {
   "cell_type": "code",
   "execution_count": 62,
   "metadata": {
    "execution": {
     "iopub.execute_input": "2025-06-06T07:20:07.877496Z",
     "iopub.status.busy": "2025-06-06T07:20:07.877195Z",
     "iopub.status.idle": "2025-06-06T07:20:08.199887Z",
     "shell.execute_reply": "2025-06-06T07:20:08.198910Z",
     "shell.execute_reply.started": "2025-06-06T07:20:07.877462Z"
    },
    "trusted": true
   },
   "outputs": [
    {
     "name": "stdout",
     "output_type": "stream",
     "text": [
      "\n",
      "ROC-AUC Score: 0.8402\n"
     ]
    }
   ],
   "source": [
    "# ROC-AUC Score\n",
    "binary_probs = np.sum(scores[:, 3:], axis=1)  \n",
    "\n",
    "roc_auc = roc_auc_score(y_true, binary_probs)\n",
    "print(f\"\\nROC-AUC Score: {roc_auc:.4f}\")"
   ]
  },
  {
   "cell_type": "code",
   "execution_count": 63,
   "metadata": {
    "execution": {
     "iopub.execute_input": "2025-06-06T07:20:08.202148Z",
     "iopub.status.busy": "2025-06-06T07:20:08.201918Z",
     "iopub.status.idle": "2025-06-06T07:20:08.645053Z",
     "shell.execute_reply": "2025-06-06T07:20:08.644138Z",
     "shell.execute_reply.started": "2025-06-06T07:20:08.202128Z"
    },
    "trusted": true
   },
   "outputs": [
    {
     "data": {
      "image/png": "[encoded data removed]",
      "text/plain": [
       "<Figure size 800x600 with 1 Axes>"
      ]
     },
     "metadata": {},
     "output_type": "display_data"
    }
   ],
   "source": [
    "# ROC curve and ROC area\n",
    "fpr, tpr, thresholds = roc_curve(y_true, binary_probs)\n",
    "roc_auc = auc(fpr, tpr)\n",
    "\n",
    "plt.figure(figsize=(8, 6))\n",
    "plt.plot(fpr, tpr, color='blue', lw=2, label=f'ROC curve (AUC = {roc_auc:.3f})')\n",
    "plt.plot([0, 1], [0, 1], color='gray', lw=1, linestyle='--')  # Diagonal line\n",
    "plt.xlim([0.0, 1.0])\n",
    "plt.ylim([0.0, 1.05])\n",
    "plt.xlabel('False Positive Rate')\n",
    "plt.ylabel('True Positive Rate (Recall)')\n",
    "plt.title('Receiver Operating Characteristic (ROC) Curve')\n",
    "plt.legend(loc=\"lower right\")\n",
    "plt.grid(True)\n",
    "plt.show()"
   ]
  },
  {
   "cell_type": "markdown",
   "metadata": {},
   "source": [
    "# **Conclusion**\n",
    "# The  BERT Model performance has enhanced after balancing the dataset"
   ]
  },
  {
   "cell_type": "code",
   "execution_count": null,
   "metadata": {},
   "outputs": [],
   "source": []
  }
 ],
 "metadata": {
  "kaggle": {
   "accelerator": "gpu",
   "dataSources": [
    {
     "datasetId": 6731917,
     "sourceId": 10840301,
     "sourceType": "datasetVersion"
    },
    {
     "isSourceIdPinned": true,
     "modelId": 250319,
     "modelInstanceId": 228563,
     "sourceId": 267093,
     "sourceType": "modelInstanceVersion"
    }
   ],
   "dockerImageVersionId": 30919,
   "isGpuEnabled": true,
   "isInternetEnabled": true,
   "language": "python",
   "sourceType": "notebook"
  },
  "kernelspec": {
   "display_name": "Python 3",
   "language": "python",
   "name": "python3"
  },
  "language_info": {
   "codemirror_mode": {
    "name": "ipython",
    "version": 3
   },
   "file_extension": ".py",
   "mimetype": "text/x-python",
   "name": "python",
   "nbconvert_exporter": "python",
   "pygments_lexer": "ipython3",
   "version": "3.10.12"
  }
 },
 "nbformat": 4,
 "nbformat_minor": 4
}
