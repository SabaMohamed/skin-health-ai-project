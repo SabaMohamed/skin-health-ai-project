{
 "cells": [
  {
   "cell_type": "markdown",
   "metadata": {},
   "source": [
    "# **Table of Contents:**\n",
    "## This code will carry the implementation of the filtering process with a Test case together\n",
    "\n",
    "### 1) passing user image to the VGG 16 model.\n",
    "### 2) Filtering the data that was processed by the BERT model.\n",
    "### 3) User- Based Collaborative Filtering.\n",
    "### 4) Content- Based Filtering.\n",
    "### 5) Final recommendation (Intersection)"
   ]
  },
  {
   "cell_type": "code",
   "execution_count": null,
   "metadata": {},
   "outputs": [],
   "source": [
    "import tensorflow as tf\n",
    "import numpy as np\n",
    "from tensorflow.keras.preprocessing import image\n",
    "from tensorflow.keras.models import load_model\n",
    "\n",
    "import pandas as pd\n",
    "import numpy as np\n",
    "from sklearn.metrics.pairwise import cosine_similarity\n",
    "from sklearn.preprocessing import MinMaxScaler\n"
   ]
  },
  {
   "cell_type": "markdown",
   "metadata": {},
   "source": [
    "# Loading VGG 16 Model"
   ]
  },
  {
   "cell_type": "code",
   "execution_count": 10,
   "metadata": {
    "execution": {
     "iopub.execute_input": "2025-06-13T20:05:08.600810Z",
     "iopub.status.busy": "2025-06-13T20:05:08.600473Z",
     "iopub.status.idle": "2025-06-13T20:05:10.337477Z",
     "shell.execute_reply": "2025-06-13T20:05:10.336569Z",
     "shell.execute_reply.started": "2025-06-13T20:05:08.600784Z"
    },
    "trusted": true
   },
   "outputs": [
    {
     "name": "stdout",
     "output_type": "stream",
     "text": [
      "\u001b[1m1/1\u001b[0m \u001b[32m━━━━━━━━━━━━━━━━━━━━\u001b[0m\u001b[37m\u001b[0m \u001b[1m0s\u001b[0m 469ms/step\n",
      "Predicted skin type: dry\n"
     ]
    }
   ],
   "source": [
    "# Defining the custom Cast layer\n",
    "class Cast(tf.keras.layers.Layer):\n",
    "    def __init__(self, **kwargs):\n",
    "        super(Cast, self).__init__(**kwargs)\n",
    "\n",
    "    def call(self, inputs):\n",
    "        return tf.cast(inputs, tf.float32)\n",
    "\n",
    "# Creating the custom objects dictionary including the LeakyReLU\n",
    "custom_objects = {\n",
    "    'Cast': Cast,\n",
    "    'LeakyReLU': tf.keras.layers.LeakyReLU\n",
    "}\n",
    "\n",
    "# Loading the model with the custom objects\n",
    "model = load_model(\n",
    "    '/kaggle/input/skin_model/tensorflow2/default/1/skin_classification_model_Leaky_Relu_3.h5',\n",
    "    custom_objects=custom_objects\n",
    ")\n",
    "\n",
    "\n",
    "# The class names\n",
    "class_names = [\"dry\", \"normal\",\"oily\"]\n",
    "\n",
    "# Function to preprocess the images\n",
    "def preprocess_image(img_path, target_size=(224, 224)):\n",
    "    img = image.load_img(img_path, target_size=target_size)\n",
    "    img_array = image.img_to_array(img)\n",
    "    img_array = img_array / 255.0 \n",
    "    img_array = np.expand_dims(img_array, axis=0)  \n",
    "    return img_array\n",
    "\n",
    "\n",
    "image_path = \"/kaggle/input/test-dry-img/test_dry.jpg\"  \n",
    "img_preprocessed = preprocess_image(image_path)\n",
    "\n",
    "# prediction\n",
    "pred_probs = model.predict(img_preprocessed)\n",
    "pred_class_index = np.argmax(pred_probs, axis=1)[0]\n",
    "pred_class_name = class_names[pred_class_index]\n",
    "\n",
    "# Print the result\n",
    "print(f\"Predicted skin type: {skin_type_result}\")"
   ]
  },
  {
   "cell_type": "markdown",
   "metadata": {},
   "source": [
    "#### The VGGG 16 model classified the input image correctly"
   ]
  },
  {
   "cell_type": "markdown",
   "metadata": {},
   "source": [
    "# Filtering the Reviews data"
   ]
  },
  {
   "cell_type": "code",
   "execution_count": null,
   "metadata": {
    "trusted": true
   },
   "outputs": [],
   "source": [
    "balanced_df=pd.read_csv(\"/kaggle/input/final_recommendation_df.csv\")"
   ]
  },
  {
   "cell_type": "code",
   "execution_count": null,
   "metadata": {
    "trusted": true
   },
   "outputs": [],
   "source": [
    "df= balanced_df.copy()"
   ]
  },
  {
   "cell_type": "code",
   "execution_count": 121,
   "metadata": {
    "execution": {
     "iopub.execute_input": "2025-06-06T17:49:51.775896Z",
     "iopub.status.busy": "2025-06-06T17:49:51.775593Z",
     "iopub.status.idle": "2025-06-06T17:49:51.788775Z",
     "shell.execute_reply": "2025-06-06T17:49:51.788066Z",
     "shell.execute_reply.started": "2025-06-06T17:49:51.775872Z"
    },
    "trusted": true
   },
   "outputs": [
    {
     "data": {
      "text/plain": [
       "array([5, 1, 3, 2, 4])"
      ]
     },
     "execution_count": 121,
     "metadata": {},
     "output_type": "execute_result"
    }
   ],
   "source": [
    "df['predicted_score'].unique()"
   ]
  },
  {
   "cell_type": "code",
   "execution_count": 122,
   "metadata": {
    "execution": {
     "iopub.execute_input": "2025-06-06T17:49:53.056103Z",
     "iopub.status.busy": "2025-06-06T17:49:53.055779Z",
     "iopub.status.idle": "2025-06-06T17:49:53.603779Z",
     "shell.execute_reply": "2025-06-06T17:49:53.603125Z",
     "shell.execute_reply.started": "2025-06-06T17:49:53.056080Z"
    },
    "trusted": true
   },
   "outputs": [],
   "source": [
    "df = df[df['predicted_score'] >= 4].copy()"
   ]
  },
  {
   "cell_type": "code",
   "execution_count": 123,
   "metadata": {
    "execution": {
     "iopub.execute_input": "2025-06-06T17:50:07.408906Z",
     "iopub.status.busy": "2025-06-06T17:50:07.408551Z",
     "iopub.status.idle": "2025-06-06T17:50:07.414160Z",
     "shell.execute_reply": "2025-06-06T17:50:07.413335Z",
     "shell.execute_reply.started": "2025-06-06T17:50:07.408878Z"
    },
    "trusted": true
   },
   "outputs": [
    {
     "data": {
      "text/plain": [
       "Index(['author_id', 'rating', 'review_text', 'total_feedback_count',\n",
       "       'total_neg_feedback_count', 'total_pos_feedback_count', 'product_id',\n",
       "       'price_usd', 'product_name', 'ingredients', 'primary_category',\n",
       "       'secondary_category', 'processed_review', 'review_length',\n",
       "       'processed_ingredients', 'ingredient_count', 'has__glycerin_',\n",
       "       'has__phenoxyethanol_', 'has__butylene_glycol_', 'has__propanediol_',\n",
       "       'has__tocopherol_', 'has__citric_acid_', 'has__ethylhexylglycerin_',\n",
       "       'has__sodium_hyaluronate_', 'has__xanthan_gum_',\n",
       "       'has__sodium_benzoate_', 'has__caprylyl_glycol_',\n",
       "       'has__potassium_sorbate_', 'has__polysorbate_',\n",
       "       'has__sodium_hydroxide_', 'has__capryliccapric_triglyceride_',\n",
       "       'has__tocopheryl_acetate_', 'has__squalane_', 'has__dimethicone_',\n",
       "       'has__pentylene_glycol_', 'has_water_', 'skin_type_dry',\n",
       "       'skin_type_normal', 'skin_type_oily', 'sentiment_label',\n",
       "       'predicted_sentiment_label', 'predicted_score'],\n",
       "      dtype='object')"
      ]
     },
     "execution_count": 123,
     "metadata": {},
     "output_type": "execute_result"
    }
   ],
   "source": [
    "df.columns"
   ]
  },
  {
   "cell_type": "code",
   "execution_count": 124,
   "metadata": {
    "execution": {
     "iopub.execute_input": "2025-06-06T17:50:26.649568Z",
     "iopub.status.busy": "2025-06-06T17:50:26.649279Z",
     "iopub.status.idle": "2025-06-06T17:50:26.688564Z",
     "shell.execute_reply": "2025-06-06T17:50:26.687935Z",
     "shell.execute_reply.started": "2025-06-06T17:50:26.649546Z"
    },
    "trusted": true
   },
   "outputs": [
    {
     "data": {
      "text/plain": [
       "array(['Treatments', 'Moisturizers', 'Eye Care', 'Cleansers', 'Sunscreen',\n",
       "       'Self Tanners', 'Masks', 'Lip Balms & Treatments', 'Wellness'],\n",
       "      dtype=object)"
      ]
     },
     "execution_count": 124,
     "metadata": {},
     "output_type": "execute_result"
    }
   ],
   "source": [
    "df[\"secondary_category\"].unique()"
   ]
  },
  {
   "cell_type": "markdown",
   "metadata": {},
   "source": [
    "## Creating the user input"
   ]
  },
  {
   "cell_type": "code",
   "execution_count": 125,
   "metadata": {
    "execution": {
     "iopub.execute_input": "2025-06-06T17:51:18.986621Z",
     "iopub.status.busy": "2025-06-06T17:51:18.986318Z",
     "iopub.status.idle": "2025-06-06T17:51:18.990793Z",
     "shell.execute_reply": "2025-06-06T17:51:18.989825Z",
     "shell.execute_reply.started": "2025-06-06T17:51:18.986599Z"
    },
    "trusted": true
   },
   "outputs": [],
   "source": [
    "# The User Input\n",
    "user_skin_type = \"dry\"  # from the VGG 16 model\n",
    "user_secondary_category = \"Cleansers\" # The product type\n",
    "user_allergy_ingredient = \"has__pentylene_glycol_\"\n",
    "user_budget = 50.0"
   ]
  },
  {
   "cell_type": "code",
   "execution_count": 126,
   "metadata": {
    "execution": {
     "iopub.execute_input": "2025-06-06T17:51:21.318560Z",
     "iopub.status.busy": "2025-06-06T17:51:21.318276Z",
     "iopub.status.idle": "2025-06-06T17:51:21.409998Z",
     "shell.execute_reply": "2025-06-06T17:51:21.409312Z",
     "shell.execute_reply.started": "2025-06-06T17:51:21.318539Z"
    },
    "trusted": true
   },
   "outputs": [],
   "source": [
    "# 1: SKIN-TYPE FILTERING\n",
    "skin_column = f\"skin_type_{user_skin_type}\"\n",
    "skin_filtered_df = df[df[skin_column] == 1].copy()"
   ]
  },
  {
   "cell_type": "code",
   "execution_count": 127,
   "metadata": {
    "execution": {
     "iopub.execute_input": "2025-06-06T17:51:24.062448Z",
     "iopub.status.busy": "2025-06-06T17:51:24.062166Z",
     "iopub.status.idle": "2025-06-06T17:51:24.089289Z",
     "shell.execute_reply": "2025-06-06T17:51:24.088276Z",
     "shell.execute_reply.started": "2025-06-06T17:51:24.062428Z"
    },
    "trusted": true
   },
   "outputs": [],
   "source": [
    "# 2: CATEGORY & HIGH RATING FILTERING \n",
    "product_filtered_df = skin_filtered_df[\n",
    "    (skin_filtered_df['secondary_category'] == user_secondary_category) &\n",
    "    (skin_filtered_df['rating'] >= 4)\n",
    "].copy()"
   ]
  },
  {
   "cell_type": "code",
   "execution_count": 128,
   "metadata": {
    "execution": {
     "iopub.execute_input": "2025-06-06T17:51:25.774934Z",
     "iopub.status.busy": "2025-06-06T17:51:25.774585Z",
     "iopub.status.idle": "2025-06-06T17:51:25.789672Z",
     "shell.execute_reply": "2025-06-06T17:51:25.788784Z",
     "shell.execute_reply.started": "2025-06-06T17:51:25.774907Z"
    },
    "trusted": true
   },
   "outputs": [],
   "source": [
    "# 3: ALLERGY FILTERING\n",
    "if user_allergy_ingredient in product_filtered_df.columns:\n",
    "    allergy_filtered_df = product_filtered_df[\n",
    "        product_filtered_df[user_allergy_ingredient] == 0\n",
    "    ].copy()\n",
    "else:\n",
    "    allergy_filtered_df = product_filtered_df.copy()"
   ]
  },
  {
   "cell_type": "code",
   "execution_count": 129,
   "metadata": {
    "execution": {
     "iopub.execute_input": "2025-06-06T17:51:27.721719Z",
     "iopub.status.busy": "2025-06-06T17:51:27.721430Z",
     "iopub.status.idle": "2025-06-06T17:51:27.734546Z",
     "shell.execute_reply": "2025-06-06T17:51:27.733866Z",
     "shell.execute_reply.started": "2025-06-06T17:51:27.721698Z"
    },
    "trusted": true
   },
   "outputs": [],
   "source": [
    "# 4: PRICE FILTERING \n",
    "price_filtered_df = allergy_filtered_df[\n",
    "    allergy_filtered_df['price_usd'] <= user_budget\n",
    "].copy()"
   ]
  },
  {
   "cell_type": "code",
   "execution_count": 130,
   "metadata": {
    "execution": {
     "iopub.execute_input": "2025-06-06T17:51:28.528449Z",
     "iopub.status.busy": "2025-06-06T17:51:28.528155Z",
     "iopub.status.idle": "2025-06-06T17:51:28.537641Z",
     "shell.execute_reply": "2025-06-06T17:51:28.536926Z",
     "shell.execute_reply.started": "2025-06-06T17:51:28.528424Z"
    },
    "trusted": true
   },
   "outputs": [],
   "source": [
    "# Save this filtered list for the user&content based filterings\n",
    "filtered_df = price_filtered_df.reset_index(drop=True).copy()"
   ]
  },
  {
   "cell_type": "code",
   "execution_count": 131,
   "metadata": {
    "execution": {
     "iopub.execute_input": "2025-06-06T17:51:30.221597Z",
     "iopub.status.busy": "2025-06-06T17:51:30.221314Z",
     "iopub.status.idle": "2025-06-06T17:51:30.226663Z",
     "shell.execute_reply": "2025-06-06T17:51:30.225944Z",
     "shell.execute_reply.started": "2025-06-06T17:51:30.221577Z"
    },
    "trusted": true
   },
   "outputs": [
    {
     "data": {
      "text/plain": [
       "(11771, 42)"
      ]
     },
     "execution_count": 131,
     "metadata": {},
     "output_type": "execute_result"
    }
   ],
   "source": [
    "filtered_df.shape"
   ]
  },
  {
   "cell_type": "markdown",
   "metadata": {},
   "source": [
    "# User Collabourative Filterring"
   ]
  },
  {
   "cell_type": "code",
   "execution_count": 132,
   "metadata": {
    "execution": {
     "iopub.execute_input": "2025-06-06T17:51:41.710988Z",
     "iopub.status.busy": "2025-06-06T17:51:41.710624Z",
     "iopub.status.idle": "2025-06-06T17:51:41.717248Z",
     "shell.execute_reply": "2025-06-06T17:51:41.716257Z",
     "shell.execute_reply.started": "2025-06-06T17:51:41.710958Z"
    },
    "trusted": true
   },
   "outputs": [],
   "source": [
    "def user_based_collaborative_filtering(df, top_k=10):\n",
    "    # Building a user-item matrix for rating\n",
    "    user_item_matrix = df.pivot_table(index='author_id', columns='product_id', values='rating').fillna(0)\n",
    "\n",
    "    # Calculating the cosine similarity between the users\n",
    "    similarity_matrix = cosine_similarity(user_item_matrix)\n",
    "    similarity_df = pd.DataFrame(similarity_matrix, index=user_item_matrix.index, columns=user_item_matrix.index)\n",
    "\n",
    "    # Take the top similar users\n",
    "    def get_similar_users(user_id, k=5):\n",
    "        if user_id not in similarity_df:\n",
    "            return []\n",
    "        sim_scores = similarity_df[user_id].sort_values(ascending=False)[1:k+1]\n",
    "        return sim_scores.index.tolist()\n",
    "\n",
    "    # Let’s assume a dummy user\n",
    "    dummy_user_id = df['author_id'].value_counts().idxmax()\n",
    "    similar_users = get_similar_users(dummy_user_id, k=20) # chose the top 20 simillar users\n",
    "\n",
    "    # Collect the highly rated products from the similar users\n",
    "    similar_reviews = df[df['author_id'].isin(similar_users)]\n",
    "    recommended_products = similar_reviews[similar_reviews['rating'] >= 4]['product_id'].value_counts().index.tolist()\n",
    "\n",
    "    user_cf_df = df[df['product_id'].isin(recommended_products)].drop_duplicates('product_id')\n",
    "\n",
    "    return user_cf_df"
   ]
  },
  {
   "cell_type": "code",
   "execution_count": 133,
   "metadata": {
    "execution": {
     "iopub.execute_input": "2025-06-06T17:51:44.191224Z",
     "iopub.status.busy": "2025-06-06T17:51:44.190764Z",
     "iopub.status.idle": "2025-06-06T17:51:46.183754Z",
     "shell.execute_reply": "2025-06-06T17:51:46.183066Z",
     "shell.execute_reply.started": "2025-06-06T17:51:44.191182Z"
    },
    "trusted": true
   },
   "outputs": [],
   "source": [
    "user_cf_result = user_based_collaborative_filtering(filtered_df)"
   ]
  },
  {
   "cell_type": "code",
   "execution_count": 134,
   "metadata": {
    "execution": {
     "iopub.execute_input": "2025-06-06T17:51:46.185607Z",
     "iopub.status.busy": "2025-06-06T17:51:46.185287Z",
     "iopub.status.idle": "2025-06-06T17:51:46.190478Z",
     "shell.execute_reply": "2025-06-06T17:51:46.189828Z",
     "shell.execute_reply.started": "2025-06-06T17:51:46.185575Z"
    },
    "trusted": true
   },
   "outputs": [
    {
     "data": {
      "text/plain": [
       "(23, 42)"
      ]
     },
     "execution_count": 134,
     "metadata": {},
     "output_type": "execute_result"
    }
   ],
   "source": [
    "user_cf_result.shape"
   ]
  },
  {
   "cell_type": "markdown",
   "metadata": {},
   "source": [
    "# Content-Based Filtering"
   ]
  },
  {
   "cell_type": "code",
   "execution_count": 135,
   "metadata": {
    "execution": {
     "iopub.execute_input": "2025-06-06T17:51:52.955614Z",
     "iopub.status.busy": "2025-06-06T17:51:52.955333Z",
     "iopub.status.idle": "2025-06-06T17:51:52.960915Z",
     "shell.execute_reply": "2025-06-06T17:51:52.960039Z",
     "shell.execute_reply.started": "2025-06-06T17:51:52.955593Z"
    },
    "trusted": true
   },
   "outputs": [],
   "source": [
    "def content_based_filtering(df, user_secondary_category, user_budget, allergy_column, top_k=10):\n",
    "    # Selecting the relevant features (Ingredients & Price)\n",
    "    ingredient_cols = [col for col in df.columns if col.startswith('has__')]\n",
    "    features = ingredient_cols + ['price_usd']\n",
    "\n",
    "    # Normalizing the price\n",
    "    scaler = MinMaxScaler()\n",
    "    df['price_scaled'] = scaler.fit_transform(df[['price_usd']])\n",
    "    features.remove('price_usd')\n",
    "    features.append('price_scaled')\n",
    "\n",
    "    # Building the content matrix\n",
    "    content_matrix = df[features]\n",
    "\n",
    "    # Building a user profile vector (and this vector will act as our user profile for testing the system)\n",
    "    user_profile = content_matrix.mean().to_frame().T.values\n",
    "\n",
    "    # Calculating the similarity between the user profile and all the products\n",
    "    similarity_scores = cosine_similarity(user_profile, content_matrix)[0]\n",
    "    df['similarity'] = similarity_scores\n",
    "\n",
    "    top_recommendations = df.sort_values(by='similarity', ascending=False).drop_duplicates('product_id')\n",
    "\n",
    "    return top_recommendations.head(top_k)"
   ]
  },
  {
   "cell_type": "code",
   "execution_count": 136,
   "metadata": {
    "execution": {
     "iopub.execute_input": "2025-06-06T17:51:54.643239Z",
     "iopub.status.busy": "2025-06-06T17:51:54.642949Z",
     "iopub.status.idle": "2025-06-06T17:51:54.669138Z",
     "shell.execute_reply": "2025-06-06T17:51:54.668203Z",
     "shell.execute_reply.started": "2025-06-06T17:51:54.643217Z"
    },
    "trusted": true
   },
   "outputs": [],
   "source": [
    "content_based_result = content_based_filtering(\n",
    "    filtered_df, user_secondary_category, user_budget, user_allergy_ingredient, top_k=15\n",
    ")"
   ]
  },
  {
   "cell_type": "code",
   "execution_count": 137,
   "metadata": {
    "execution": {
     "iopub.execute_input": "2025-06-06T17:51:56.483721Z",
     "iopub.status.busy": "2025-06-06T17:51:56.483385Z",
     "iopub.status.idle": "2025-06-06T17:51:56.488537Z",
     "shell.execute_reply": "2025-06-06T17:51:56.487910Z",
     "shell.execute_reply.started": "2025-06-06T17:51:56.483691Z"
    },
    "trusted": true
   },
   "outputs": [
    {
     "data": {
      "text/plain": [
       "(15, 44)"
      ]
     },
     "execution_count": 137,
     "metadata": {},
     "output_type": "execute_result"
    }
   ],
   "source": [
    "content_based_result.shape"
   ]
  },
  {
   "cell_type": "markdown",
   "metadata": {},
   "source": [
    "# Intersection of Both\n"
   ]
  },
  {
   "cell_type": "code",
   "execution_count": 138,
   "metadata": {
    "execution": {
     "iopub.execute_input": "2025-06-06T17:51:58.992119Z",
     "iopub.status.busy": "2025-06-06T17:51:58.991812Z",
     "iopub.status.idle": "2025-06-06T17:51:58.996378Z",
     "shell.execute_reply": "2025-06-06T17:51:58.995527Z",
     "shell.execute_reply.started": "2025-06-06T17:51:58.992098Z"
    },
    "trusted": true
   },
   "outputs": [],
   "source": [
    "def hybrid_recommendation(user_cf_df, content_df):\n",
    "    common_ids = set(user_cf_df['product_id']).intersection(set(content_df['product_id']))\n",
    "    hybrid_df = content_df[content_df['product_id'].isin(common_ids)]\n",
    "    final_df = hybrid_df.sort_values(by='rating', ascending=False).drop_duplicates('product_id')\n",
    "    return final_df"
   ]
  },
  {
   "cell_type": "code",
   "execution_count": 139,
   "metadata": {
    "execution": {
     "iopub.execute_input": "2025-06-06T17:51:59.554465Z",
     "iopub.status.busy": "2025-06-06T17:51:59.554188Z",
     "iopub.status.idle": "2025-06-06T17:51:59.560520Z",
     "shell.execute_reply": "2025-06-06T17:51:59.559666Z",
     "shell.execute_reply.started": "2025-06-06T17:51:59.554445Z"
    },
    "trusted": true
   },
   "outputs": [],
   "source": [
    "final_recommendations = hybrid_recommendation(user_cf_result, content_based_result)"
   ]
  },
  {
   "cell_type": "code",
   "execution_count": 140,
   "metadata": {
    "execution": {
     "iopub.execute_input": "2025-06-06T17:52:00.381343Z",
     "iopub.status.busy": "2025-06-06T17:52:00.381034Z",
     "iopub.status.idle": "2025-06-06T17:52:00.386361Z",
     "shell.execute_reply": "2025-06-06T17:52:00.385435Z",
     "shell.execute_reply.started": "2025-06-06T17:52:00.381317Z"
    },
    "trusted": true
   },
   "outputs": [
    {
     "data": {
      "text/plain": [
       "(2, 44)"
      ]
     },
     "execution_count": 140,
     "metadata": {},
     "output_type": "execute_result"
    }
   ],
   "source": [
    "final_recommendations.shape"
   ]
  },
  {
   "cell_type": "code",
   "execution_count": 141,
   "metadata": {
    "execution": {
     "iopub.execute_input": "2025-06-06T17:52:02.289454Z",
     "iopub.status.busy": "2025-06-06T17:52:02.289170Z",
     "iopub.status.idle": "2025-06-06T17:52:02.297110Z",
     "shell.execute_reply": "2025-06-06T17:52:02.296148Z",
     "shell.execute_reply.started": "2025-06-06T17:52:02.289432Z"
    },
    "trusted": true
   },
   "outputs": [
    {
     "name": "stdout",
     "output_type": "stream",
     "text": [
      "Final Recommended Products:\n",
      "\n",
      "                                            product_name  price_usd  rating  predicted_score                                                                                                                                                                                                                                                                                                                                                                                                                                                                                                                                                                                                                                                                                                                ingredients\n",
      "Acne+ 2% BHA + Azelaic Acid + Niacinamide + AHA Cleanser       35.0       5                5                                                                                                                                                                                                                                                                            ['Salicylic Acid 2%, Aqua (Water, Eau), Cocamidopropyl Hydroxysultaine, Stearyl Alcohol, Propanediol, Disodium Cocoyl Glutamate, Glycolic Acid, Bentonite, Niacinamide, Sodium Hydroxide, Azelaic Acid, Camellia Sinensis Leaf Extract, Tocopherol, Glycerin, Ethylhexylglycerin, Polydextrose, Dextrin, Amylopectin, Sodium Cocoyl Glutamate, Xanthan Gum, Sodium Chloride, Citric Acid, Potassium Sorbate, Phenoxyethanol, Sodium Benzoate.']\n",
      "                 Pineapple Enzyme Pore Clearing Cleanser       29.0       4                4 ['Water/Aqua/Eau, Glycerin**, Decyl Glucoside**, Disodium Coco-Glucoside Citrate**, Disodium Cocoyl Glutamate**, Polyglyceryl-10 Laurate**, Xanthan Gum**, Phenoxyethanol, Saccharide Isomerate**, Coco-Glucoside**, Glyceryl Oleate**, Sodium Lauroyl Lactylate**, Fragrance (Parfum), Argania Spinosa (Argan) Kernel Oil*, Sodium Cocoyl Glutamate**, Aloe Barbadensis Leaf Juice**, Althaea Officinalis Root Extract*, Ananas Sativus (Pineapple) Fruit Extract**, Ethylhexylglycerin, Lactic Acid**, Citric Acid**, Salix Alba (Willow) Bark Extract**, Lactobacillus Ferment**, Sodium Citrate**, Potassium Sorbate**, Sodium Benzoate**, Tocopherol**, Hydrogenated Palm Glycerides Citrate**.**Naturally derived.']\n"
     ]
    }
   ],
   "source": [
    "print(\"Final Recommended Products:\\n\")\n",
    "final_display = final_recommendations[['product_name', 'price_usd', 'rating', 'predicted_score', 'ingredients']]\n",
    "print(final_display.to_string(index=False))"
   ]
  },
  {
   "cell_type": "code",
   "execution_count": 142,
   "metadata": {
    "execution": {
     "iopub.execute_input": "2025-06-06T17:52:16.580083Z",
     "iopub.status.busy": "2025-06-06T17:52:16.579768Z",
     "iopub.status.idle": "2025-06-06T17:52:16.589002Z",
     "shell.execute_reply": "2025-06-06T17:52:16.588158Z",
     "shell.execute_reply.started": "2025-06-06T17:52:16.580060Z"
    },
    "trusted": true
   },
   "outputs": [
    {
     "data": {
      "text/html": [
       "<div>\n",
       "<style scoped>\n",
       "    .dataframe tbody tr th:only-of-type {\n",
       "        vertical-align: middle;\n",
       "    }\n",
       "\n",
       "    .dataframe tbody tr th {\n",
       "        vertical-align: top;\n",
       "    }\n",
       "\n",
       "    .dataframe thead th {\n",
       "        text-align: right;\n",
       "    }\n",
       "</style>\n",
       "<table border=\"1\" class=\"dataframe\">\n",
       "  <thead>\n",
       "    <tr style=\"text-align: right;\">\n",
       "      <th></th>\n",
       "      <th>product_name</th>\n",
       "      <th>price_usd</th>\n",
       "      <th>rating</th>\n",
       "      <th>predicted_score</th>\n",
       "      <th>ingredients</th>\n",
       "    </tr>\n",
       "  </thead>\n",
       "  <tbody>\n",
       "    <tr>\n",
       "      <th>9227</th>\n",
       "      <td>Acne+ 2% BHA + Azelaic Acid + Niacinamide + AH...</td>\n",
       "      <td>35.0</td>\n",
       "      <td>5</td>\n",
       "      <td>5</td>\n",
       "      <td>['Salicylic Acid 2%, Aqua (Water, Eau), Cocami...</td>\n",
       "    </tr>\n",
       "    <tr>\n",
       "      <th>7919</th>\n",
       "      <td>Pineapple Enzyme Pore Clearing Cleanser</td>\n",
       "      <td>29.0</td>\n",
       "      <td>4</td>\n",
       "      <td>4</td>\n",
       "      <td>['Water/Aqua/Eau, Glycerin**, Decyl Glucoside*...</td>\n",
       "    </tr>\n",
       "  </tbody>\n",
       "</table>\n",
       "</div>"
      ],
      "text/plain": [
       "                                           product_name  price_usd  rating  \\\n",
       "9227  Acne+ 2% BHA + Azelaic Acid + Niacinamide + AH...       35.0       5   \n",
       "7919            Pineapple Enzyme Pore Clearing Cleanser       29.0       4   \n",
       "\n",
       "      predicted_score                                        ingredients  \n",
       "9227                5  ['Salicylic Acid 2%, Aqua (Water, Eau), Cocami...  \n",
       "7919                4  ['Water/Aqua/Eau, Glycerin**, Decyl Glucoside*...  "
      ]
     },
     "execution_count": 142,
     "metadata": {},
     "output_type": "execute_result"
    }
   ],
   "source": [
    "final_display"
   ]
  },
  {
   "cell_type": "code",
   "execution_count": null,
   "metadata": {
    "trusted": true
   },
   "outputs": [],
   "source": []
  }
 ],
 "metadata": {
  "kaggle": {
   "accelerator": "gpu",
   "dataSources": [
    {
     "datasetId": 6731917,
     "sourceId": 10840301,
     "sourceType": "datasetVersion"
    },
    {
     "datasetId": 7657762,
     "sourceId": 12158887,
     "sourceType": "datasetVersion"
    },
    {
     "datasetId": 7657796,
     "sourceId": 12158965,
     "sourceType": "datasetVersion"
    },
    {
     "isSourceIdPinned": true,
     "modelId": 250319,
     "modelInstanceId": 228563,
     "sourceId": 267093,
     "sourceType": "modelInstanceVersion"
    }
   ],
   "dockerImageVersionId": 30919,
   "isGpuEnabled": true,
   "isInternetEnabled": true,
   "language": "python",
   "sourceType": "notebook"
  },
  "kernelspec": {
   "display_name": "Python 3",
   "language": "python",
   "name": "python3"
  },
  "language_info": {
   "codemirror_mode": {
    "name": "ipython",
    "version": 3
   },
   "file_extension": ".py",
   "mimetype": "text/x-python",
   "name": "python",
   "nbconvert_exporter": "python",
   "pygments_lexer": "ipython3",
   "version": "3.10.12"
  }
 },
 "nbformat": 4,
 "nbformat_minor": 4
}
