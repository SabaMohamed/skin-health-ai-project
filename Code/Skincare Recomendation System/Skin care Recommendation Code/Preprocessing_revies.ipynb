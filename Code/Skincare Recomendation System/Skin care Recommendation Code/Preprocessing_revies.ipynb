{
 "cells": [
  {
   "cell_type": "markdown",
   "metadata": {},
   "source": [
    "# **Table of contents**\n",
    "### 1) Loading the dataset\n",
    "### 2) Preprocessing the Products data\n",
    "### 3) Preprocessing the reviews data\n",
    "### 4) Merging the data\n",
    "### 5) Preprocessing the review column\n",
    "### 6) Preprocessing the ingredients column\n",
    "### 7) saving the data after preprocessing as csv file\n",
    "### 8) Visualizations*\n",
    "### 9) Label Encoding"
   ]
  },
  {
   "cell_type": "markdown",
   "metadata": {},
   "source": [
    "# Import the needed libraries"
   ]
  },
  {
   "cell_type": "code",
   "execution_count": 1,
   "metadata": {},
   "outputs": [],
   "source": [
    "# !pip install contractions"
   ]
  },
  {
   "cell_type": "markdown",
   "metadata": {},
   "source": [
    "# Imports"
   ]
  },
  {
   "cell_type": "code",
   "execution_count": null,
   "metadata": {},
   "outputs": [],
   "source": [
    "import pandas as pd\n",
    "import numpy as np \n",
    "\n",
    "import re\n",
    "import nltk\n",
    "from nltk.corpus import stopwords\n",
    "from nltk.tokenize import word_tokenize\n",
    "from nltk.stem import WordNetLemmatizer\n",
    "import contractions\n",
    "\n",
    "import seaborn as sns\n",
    "import matplotlib.pyplot as plt\n",
    "\n",
    "from sklearn.preprocessing import OneHotEncoder\n",
    "\n",
    "import plotly.graph_objects as go\n",
    "from plotly.subplots import make_subplots"
   ]
  },
  {
   "cell_type": "markdown",
   "metadata": {},
   "source": [
    "# **1) Loading the datasets**\n",
    "# Loading the Products dataset"
   ]
  },
  {
   "cell_type": "code",
   "execution_count": 3,
   "metadata": {},
   "outputs": [
    {
     "data": {
      "text/html": [
       "<div>\n",
       "<style scoped>\n",
       "    .dataframe tbody tr th:only-of-type {\n",
       "        vertical-align: middle;\n",
       "    }\n",
       "\n",
       "    .dataframe tbody tr th {\n",
       "        vertical-align: top;\n",
       "    }\n",
       "\n",
       "    .dataframe thead th {\n",
       "        text-align: right;\n",
       "    }\n",
       "</style>\n",
       "<table border=\"1\" class=\"dataframe\">\n",
       "  <thead>\n",
       "    <tr style=\"text-align: right;\">\n",
       "      <th></th>\n",
       "      <th>product_id</th>\n",
       "      <th>product_name</th>\n",
       "      <th>brand_id</th>\n",
       "      <th>brand_name</th>\n",
       "      <th>loves_count</th>\n",
       "      <th>rating</th>\n",
       "      <th>reviews</th>\n",
       "      <th>size</th>\n",
       "      <th>variation_type</th>\n",
       "      <th>variation_value</th>\n",
       "      <th>...</th>\n",
       "      <th>online_only</th>\n",
       "      <th>out_of_stock</th>\n",
       "      <th>sephora_exclusive</th>\n",
       "      <th>highlights</th>\n",
       "      <th>primary_category</th>\n",
       "      <th>secondary_category</th>\n",
       "      <th>tertiary_category</th>\n",
       "      <th>child_count</th>\n",
       "      <th>child_max_price</th>\n",
       "      <th>child_min_price</th>\n",
       "    </tr>\n",
       "  </thead>\n",
       "  <tbody>\n",
       "    <tr>\n",
       "      <th>0</th>\n",
       "      <td>P473671</td>\n",
       "      <td>Fragrance Discovery Set</td>\n",
       "      <td>6342</td>\n",
       "      <td>19-69</td>\n",
       "      <td>6320</td>\n",
       "      <td>3.6364</td>\n",
       "      <td>11.0</td>\n",
       "      <td>NaN</td>\n",
       "      <td>NaN</td>\n",
       "      <td>NaN</td>\n",
       "      <td>...</td>\n",
       "      <td>1</td>\n",
       "      <td>0</td>\n",
       "      <td>0</td>\n",
       "      <td>['Unisex/ Genderless Scent', 'Warm &amp;Spicy Scen...</td>\n",
       "      <td>Fragrance</td>\n",
       "      <td>Value &amp; Gift Sets</td>\n",
       "      <td>Perfume Gift Sets</td>\n",
       "      <td>0</td>\n",
       "      <td>NaN</td>\n",
       "      <td>NaN</td>\n",
       "    </tr>\n",
       "    <tr>\n",
       "      <th>1</th>\n",
       "      <td>P473668</td>\n",
       "      <td>La Habana Eau de Parfum</td>\n",
       "      <td>6342</td>\n",
       "      <td>19-69</td>\n",
       "      <td>3827</td>\n",
       "      <td>4.1538</td>\n",
       "      <td>13.0</td>\n",
       "      <td>3.4 oz/ 100 mL</td>\n",
       "      <td>Size + Concentration + Formulation</td>\n",
       "      <td>3.4 oz/ 100 mL</td>\n",
       "      <td>...</td>\n",
       "      <td>1</td>\n",
       "      <td>0</td>\n",
       "      <td>0</td>\n",
       "      <td>['Unisex/ Genderless Scent', 'Layerable Scent'...</td>\n",
       "      <td>Fragrance</td>\n",
       "      <td>Women</td>\n",
       "      <td>Perfume</td>\n",
       "      <td>2</td>\n",
       "      <td>85.0</td>\n",
       "      <td>30.0</td>\n",
       "    </tr>\n",
       "    <tr>\n",
       "      <th>2</th>\n",
       "      <td>P473662</td>\n",
       "      <td>Rainbow Bar Eau de Parfum</td>\n",
       "      <td>6342</td>\n",
       "      <td>19-69</td>\n",
       "      <td>3253</td>\n",
       "      <td>4.2500</td>\n",
       "      <td>16.0</td>\n",
       "      <td>3.4 oz/ 100 mL</td>\n",
       "      <td>Size + Concentration + Formulation</td>\n",
       "      <td>3.4 oz/ 100 mL</td>\n",
       "      <td>...</td>\n",
       "      <td>1</td>\n",
       "      <td>0</td>\n",
       "      <td>0</td>\n",
       "      <td>['Unisex/ Genderless Scent', 'Layerable Scent'...</td>\n",
       "      <td>Fragrance</td>\n",
       "      <td>Women</td>\n",
       "      <td>Perfume</td>\n",
       "      <td>2</td>\n",
       "      <td>75.0</td>\n",
       "      <td>30.0</td>\n",
       "    </tr>\n",
       "    <tr>\n",
       "      <th>3</th>\n",
       "      <td>P473660</td>\n",
       "      <td>Kasbah Eau de Parfum</td>\n",
       "      <td>6342</td>\n",
       "      <td>19-69</td>\n",
       "      <td>3018</td>\n",
       "      <td>4.4762</td>\n",
       "      <td>21.0</td>\n",
       "      <td>3.4 oz/ 100 mL</td>\n",
       "      <td>Size + Concentration + Formulation</td>\n",
       "      <td>3.4 oz/ 100 mL</td>\n",
       "      <td>...</td>\n",
       "      <td>1</td>\n",
       "      <td>0</td>\n",
       "      <td>0</td>\n",
       "      <td>['Unisex/ Genderless Scent', 'Layerable Scent'...</td>\n",
       "      <td>Fragrance</td>\n",
       "      <td>Women</td>\n",
       "      <td>Perfume</td>\n",
       "      <td>2</td>\n",
       "      <td>75.0</td>\n",
       "      <td>30.0</td>\n",
       "    </tr>\n",
       "    <tr>\n",
       "      <th>4</th>\n",
       "      <td>P473658</td>\n",
       "      <td>Purple Haze Eau de Parfum</td>\n",
       "      <td>6342</td>\n",
       "      <td>19-69</td>\n",
       "      <td>2691</td>\n",
       "      <td>3.2308</td>\n",
       "      <td>13.0</td>\n",
       "      <td>3.4 oz/ 100 mL</td>\n",
       "      <td>Size + Concentration + Formulation</td>\n",
       "      <td>3.4 oz/ 100 mL</td>\n",
       "      <td>...</td>\n",
       "      <td>1</td>\n",
       "      <td>0</td>\n",
       "      <td>0</td>\n",
       "      <td>['Unisex/ Genderless Scent', 'Layerable Scent'...</td>\n",
       "      <td>Fragrance</td>\n",
       "      <td>Women</td>\n",
       "      <td>Perfume</td>\n",
       "      <td>2</td>\n",
       "      <td>75.0</td>\n",
       "      <td>30.0</td>\n",
       "    </tr>\n",
       "  </tbody>\n",
       "</table>\n",
       "<p>5 rows × 27 columns</p>\n",
       "</div>"
      ],
      "text/plain": [
       "  product_id               product_name  brand_id brand_name  loves_count  \\\n",
       "0    P473671    Fragrance Discovery Set      6342      19-69         6320   \n",
       "1    P473668    La Habana Eau de Parfum      6342      19-69         3827   \n",
       "2    P473662  Rainbow Bar Eau de Parfum      6342      19-69         3253   \n",
       "3    P473660       Kasbah Eau de Parfum      6342      19-69         3018   \n",
       "4    P473658  Purple Haze Eau de Parfum      6342      19-69         2691   \n",
       "\n",
       "   rating  reviews            size                      variation_type  \\\n",
       "0  3.6364     11.0             NaN                                 NaN   \n",
       "1  4.1538     13.0  3.4 oz/ 100 mL  Size + Concentration + Formulation   \n",
       "2  4.2500     16.0  3.4 oz/ 100 mL  Size + Concentration + Formulation   \n",
       "3  4.4762     21.0  3.4 oz/ 100 mL  Size + Concentration + Formulation   \n",
       "4  3.2308     13.0  3.4 oz/ 100 mL  Size + Concentration + Formulation   \n",
       "\n",
       "  variation_value  ... online_only out_of_stock  sephora_exclusive  \\\n",
       "0             NaN  ...           1            0                  0   \n",
       "1  3.4 oz/ 100 mL  ...           1            0                  0   \n",
       "2  3.4 oz/ 100 mL  ...           1            0                  0   \n",
       "3  3.4 oz/ 100 mL  ...           1            0                  0   \n",
       "4  3.4 oz/ 100 mL  ...           1            0                  0   \n",
       "\n",
       "                                          highlights  primary_category  \\\n",
       "0  ['Unisex/ Genderless Scent', 'Warm &Spicy Scen...         Fragrance   \n",
       "1  ['Unisex/ Genderless Scent', 'Layerable Scent'...         Fragrance   \n",
       "2  ['Unisex/ Genderless Scent', 'Layerable Scent'...         Fragrance   \n",
       "3  ['Unisex/ Genderless Scent', 'Layerable Scent'...         Fragrance   \n",
       "4  ['Unisex/ Genderless Scent', 'Layerable Scent'...         Fragrance   \n",
       "\n",
       "   secondary_category  tertiary_category  child_count  child_max_price  \\\n",
       "0   Value & Gift Sets  Perfume Gift Sets            0              NaN   \n",
       "1               Women            Perfume            2             85.0   \n",
       "2               Women            Perfume            2             75.0   \n",
       "3               Women            Perfume            2             75.0   \n",
       "4               Women            Perfume            2             75.0   \n",
       "\n",
       "   child_min_price  \n",
       "0              NaN  \n",
       "1             30.0  \n",
       "2             30.0  \n",
       "3             30.0  \n",
       "4             30.0  \n",
       "\n",
       "[5 rows x 27 columns]"
      ]
     },
     "execution_count": 3,
     "metadata": {},
     "output_type": "execute_result"
    }
   ],
   "source": [
    "products = pd.read_csv('Recommendation System\\sephora_reviews\\product_info.csv')\n",
    "products.head()"
   ]
  },
  {
   "cell_type": "code",
   "execution_count": 4,
   "metadata": {},
   "outputs": [
    {
     "data": {
      "text/plain": [
       "(8494, 27)"
      ]
     },
     "execution_count": 4,
     "metadata": {},
     "output_type": "execute_result"
    }
   ],
   "source": [
    "products.shape"
   ]
  },
  {
   "cell_type": "markdown",
   "metadata": {},
   "source": [
    "# Loading the reviews data set"
   ]
  },
  {
   "cell_type": "code",
   "execution_count": 5,
   "metadata": {},
   "outputs": [
    {
     "name": "stderr",
     "output_type": "stream",
     "text": [
      "C:\\Users\\saba2\\AppData\\Local\\Temp\\ipykernel_776\\2410055223.py:2: DtypeWarning: Columns (1) have mixed types. Specify dtype option on import or set low_memory=False.\n",
      "  df1 = pd.read_csv(r\"Recommendation System\\sephora_reviews\\reviews_0-250.csv\")\n",
      "C:\\Users\\saba2\\AppData\\Local\\Temp\\ipykernel_776\\2410055223.py:5: DtypeWarning: Columns (1) have mixed types. Specify dtype option on import or set low_memory=False.\n",
      "  df4 = pd.read_csv(r\"Recommendation System\\sephora_reviews\\reviews_750-1250.csv\")\n",
      "C:\\Users\\saba2\\AppData\\Local\\Temp\\ipykernel_776\\2410055223.py:6: DtypeWarning: Columns (1) have mixed types. Specify dtype option on import or set low_memory=False.\n",
      "  df5 = pd.read_csv(r\"Recommendation System\\sephora_reviews\\reviews_1250-end.csv\")\n"
     ]
    },
    {
     "name": "stdout",
     "output_type": "stream",
     "text": [
      "<class 'pandas.core.frame.DataFrame'>\n",
      "Int64Index: 1094411 entries, 0 to 49976\n",
      "Data columns (total 19 columns):\n",
      " #   Column                    Non-Null Count    Dtype  \n",
      "---  ------                    --------------    -----  \n",
      " 0   Unnamed: 0                1094411 non-null  int64  \n",
      " 1   author_id                 1094411 non-null  object \n",
      " 2   rating                    1094411 non-null  int64  \n",
      " 3   is_recommended            926423 non-null   float64\n",
      " 4   helpfulness               532819 non-null   float64\n",
      " 5   total_feedback_count      1094411 non-null  int64  \n",
      " 6   total_neg_feedback_count  1094411 non-null  int64  \n",
      " 7   total_pos_feedback_count  1094411 non-null  int64  \n",
      " 8   submission_time           1094411 non-null  object \n",
      " 9   review_text               1092967 non-null  object \n",
      " 10  review_title              783757 non-null   object \n",
      " 11  skin_tone                 923872 non-null   object \n",
      " 12  eye_color                 884783 non-null   object \n",
      " 13  skin_type                 982854 non-null   object \n",
      " 14  hair_color                867643 non-null   object \n",
      " 15  product_id                1094411 non-null  object \n",
      " 16  product_name              1094411 non-null  object \n",
      " 17  brand_name                1094411 non-null  object \n",
      " 18  price_usd                 1094411 non-null  float64\n",
      "dtypes: float64(3), int64(5), object(11)\n",
      "memory usage: 167.0+ MB\n"
     ]
    }
   ],
   "source": [
    "# Loading in reviews data\n",
    "df1 = pd.read_csv(r\"Recommendation System\\sephora_reviews\\reviews_0-250.csv\")\n",
    "df2 = pd.read_csv(r\"Recommendation System\\sephora_reviews\\reviews_250-500.csv\")\n",
    "df3 = pd.read_csv(r\"Recommendation System\\sephora_reviews\\reviews_500-750.csv\")\n",
    "df4 = pd.read_csv(r\"Recommendation System\\sephora_reviews\\reviews_750-1250.csv\")\n",
    "df5 = pd.read_csv(r\"Recommendation System\\sephora_reviews\\reviews_1250-end.csv\")\n",
    "\n",
    "# Combining the dfs\n",
    "reviews = pd.concat([df1,df2,df3,df4,df5])\n",
    "\n",
    "reviews.info()"
   ]
  },
  {
   "cell_type": "code",
   "execution_count": 6,
   "metadata": {},
   "outputs": [
    {
     "name": "stdout",
     "output_type": "stream",
     "text": [
      "<class 'pandas.core.frame.DataFrame'>\n",
      "RangeIndex: 8494 entries, 0 to 8493\n",
      "Data columns (total 27 columns):\n",
      " #   Column              Non-Null Count  Dtype  \n",
      "---  ------              --------------  -----  \n",
      " 0   product_id          8494 non-null   object \n",
      " 1   product_name        8494 non-null   object \n",
      " 2   brand_id            8494 non-null   int64  \n",
      " 3   brand_name          8494 non-null   object \n",
      " 4   loves_count         8494 non-null   int64  \n",
      " 5   rating              8216 non-null   float64\n",
      " 6   reviews             8216 non-null   float64\n",
      " 7   size                6863 non-null   object \n",
      " 8   variation_type      7050 non-null   object \n",
      " 9   variation_value     6896 non-null   object \n",
      " 10  variation_desc      1250 non-null   object \n",
      " 11  ingredients         7549 non-null   object \n",
      " 12  price_usd           8494 non-null   float64\n",
      " 13  value_price_usd     451 non-null    float64\n",
      " 14  sale_price_usd      270 non-null    float64\n",
      " 15  limited_edition     8494 non-null   int64  \n",
      " 16  new                 8494 non-null   int64  \n",
      " 17  online_only         8494 non-null   int64  \n",
      " 18  out_of_stock        8494 non-null   int64  \n",
      " 19  sephora_exclusive   8494 non-null   int64  \n",
      " 20  highlights          6287 non-null   object \n",
      " 21  primary_category    8494 non-null   object \n",
      " 22  secondary_category  8486 non-null   object \n",
      " 23  tertiary_category   7504 non-null   object \n",
      " 24  child_count         8494 non-null   int64  \n",
      " 25  child_max_price     2754 non-null   float64\n",
      " 26  child_min_price     2754 non-null   float64\n",
      "dtypes: float64(7), int64(8), object(12)\n",
      "memory usage: 1.7+ MB\n"
     ]
    }
   ],
   "source": [
    "products.info()"
   ]
  },
  {
   "cell_type": "markdown",
   "metadata": {},
   "source": [
    "# **2) Preprocessing the Products data**"
   ]
  },
  {
   "cell_type": "markdown",
   "metadata": {},
   "source": [
    "# I will select only the columns that I need from the products dataset"
   ]
  },
  {
   "cell_type": "code",
   "execution_count": 7,
   "metadata": {},
   "outputs": [
    {
     "data": {
      "text/plain": [
       "(8494, 6)"
      ]
     },
     "execution_count": 7,
     "metadata": {},
     "output_type": "execute_result"
    }
   ],
   "source": [
    "products_new = pd.DataFrame(products, columns=['product_id','product_name','ingredients','highlights','primary_category','secondary_category'])\n",
    "products_new.head(5)\n",
    "products_new.shape"
   ]
  },
  {
   "cell_type": "markdown",
   "metadata": {},
   "source": [
    "# Now I will filter the products that are related to my scope"
   ]
  },
  {
   "cell_type": "code",
   "execution_count": 8,
   "metadata": {},
   "outputs": [
    {
     "data": {
      "text/plain": [
       "array(['Fragrance', 'Bath & Body', 'Mini Size', 'Hair', 'Makeup',\n",
       "       'Skincare', 'Tools & Brushes', 'Men', 'Gifts'], dtype=object)"
      ]
     },
     "execution_count": 8,
     "metadata": {},
     "output_type": "execute_result"
    }
   ],
   "source": [
    "products_new['primary_category'].unique()"
   ]
  },
  {
   "cell_type": "code",
   "execution_count": 9,
   "metadata": {},
   "outputs": [
    {
     "data": {
      "text/plain": [
       "array(['Value & Gift Sets', 'Women', 'Body Moisturizers', 'Fragrance',\n",
       "       'Men', 'Candles & Home Scents', 'Body Care',\n",
       "       'Hair Styling & Treatments', 'Shampoo & Conditioner', 'Mini Size',\n",
       "       'Lip', 'Moisturizers', 'Treatments', 'Eye Care',\n",
       "       'Lip Balms & Treatments', 'Sunscreen', 'Cleansers', 'Masks',\n",
       "       'Skincare', 'Face', 'Eye', 'Cheek', 'Hair', 'Tools',\n",
       "       'Brushes & Applicators', 'Makeup Palettes', 'Beauty Tools',\n",
       "       'Accessories', 'Makeup', 'Bath & Shower', 'Wellness',\n",
       "       'High Tech Tools', 'Shop by Concern', nan, 'Self Tanners',\n",
       "       'Shaving', 'Hair Tools', 'Nail', 'Beauty Accessories',\n",
       "       'Beauty Supplements', 'Other Needs', 'Bath & Body'], dtype=object)"
      ]
     },
     "execution_count": 9,
     "metadata": {},
     "output_type": "execute_result"
    }
   ],
   "source": [
    "products_new['secondary_category'].unique()"
   ]
  },
  {
   "cell_type": "code",
   "execution_count": null,
   "metadata": {},
   "outputs": [
    {
     "name": "stdout",
     "output_type": "stream",
     "text": [
      "(8090, 6)\n",
      "['Fragrance' 'Bath & Body' 'Hair' 'Makeup' 'Skincare']\n"
     ]
    }
   ],
   "source": [
    "# Defining  the categories that are related to the skincare, makeup, Bath & Body, fragrance, and Hair\n",
    "categories_to_include = ['Skincare', 'Makeup', 'Bath & Body', 'Fragrance', 'Hair']\n",
    "\n",
    "# Filtering the products DataFrame to include only the relevant categories\n",
    "filtered_products = products_new[products_new['primary_category'].isin(categories_to_include)]\n",
    "\n",
    "# Checking the shape and unique values in the new DataFrame\n",
    "print(filtered_products.shape)\n",
    "print(filtered_products['primary_category'].unique())\n"
   ]
  },
  {
   "cell_type": "code",
   "execution_count": 11,
   "metadata": {},
   "outputs": [
    {
     "data": {
      "text/plain": [
       "array(['Value & Gift Sets', 'Women', 'Body Moisturizers', 'Men',\n",
       "       'Candles & Home Scents', 'Body Care', 'Hair Styling & Treatments',\n",
       "       'Shampoo & Conditioner', 'Mini Size', 'Lip', 'Moisturizers',\n",
       "       'Treatments', 'Eye Care', 'Lip Balms & Treatments', 'Sunscreen',\n",
       "       'Cleansers', 'Masks', 'Face', 'Eye', 'Cheek', 'Tools',\n",
       "       'Brushes & Applicators', 'Makeup Palettes', 'Accessories',\n",
       "       'Bath & Shower', 'Wellness', 'High Tech Tools', 'Shop by Concern',\n",
       "       nan, 'Self Tanners', 'Nail', 'Beauty Supplements'], dtype=object)"
      ]
     },
     "execution_count": 11,
     "metadata": {},
     "output_type": "execute_result"
    }
   ],
   "source": [
    "filtered_products['secondary_category'].unique()"
   ]
  },
  {
   "cell_type": "code",
   "execution_count": 12,
   "metadata": {},
   "outputs": [
    {
     "data": {
      "text/plain": [
       "array(['Value & Gift Sets', 'Women', 'Body Moisturizers', 'Fragrance',\n",
       "       'Men', 'Candles & Home Scents', 'Body Care',\n",
       "       'Hair Styling & Treatments', 'Shampoo & Conditioner', 'Mini Size',\n",
       "       'Lip', 'Moisturizers', 'Treatments', 'Eye Care',\n",
       "       'Lip Balms & Treatments', 'Sunscreen', 'Cleansers', 'Masks',\n",
       "       'Skincare', 'Face', 'Eye', 'Cheek', 'Hair', 'Tools',\n",
       "       'Brushes & Applicators', 'Makeup Palettes', 'Beauty Tools',\n",
       "       'Accessories', 'Makeup', 'Bath & Shower', 'Wellness',\n",
       "       'High Tech Tools', 'Shop by Concern', nan, 'Self Tanners',\n",
       "       'Shaving', 'Hair Tools', 'Nail', 'Beauty Accessories',\n",
       "       'Beauty Supplements', 'Other Needs', 'Bath & Body'], dtype=object)"
      ]
     },
     "execution_count": 12,
     "metadata": {},
     "output_type": "execute_result"
    }
   ],
   "source": [
    "products_new['secondary_category'].unique()"
   ]
  },
  {
   "cell_type": "markdown",
   "metadata": {},
   "source": [
    "#### **I want to know the unique values of the \"secondary_category\" where the  value of the \"primary_category\" is \"Fragrance\"**"
   ]
  },
  {
   "cell_type": "markdown",
   "metadata": {},
   "source": [
    "#### Removing the unwanted categories under the \"Fragrance\" category"
   ]
  },
  {
   "cell_type": "code",
   "execution_count": null,
   "metadata": {},
   "outputs": [
    {
     "name": "stdout",
     "output_type": "stream",
     "text": [
      "['Value & Gift Sets' 'Women' 'Men' 'Candles & Home Scents' 'Mini Size' nan]\n"
     ]
    }
   ],
   "source": [
    "# Filtering the DataFrame where primary_category is \"Fragrance\"\n",
    "fragrance_products = filtered_products[filtered_products['primary_category'] == 'Fragrance']\n",
    "\n",
    "# Getting unique values of the secondary_category column\n",
    "unique_secondary_categories = fragrance_products['secondary_category'].unique()\n",
    "\n",
    "# Displaying the result\n",
    "print(unique_secondary_categories)\n"
   ]
  },
  {
   "cell_type": "code",
   "execution_count": null,
   "metadata": {},
   "outputs": [
    {
     "data": {
      "text/html": [
       "<div>\n",
       "<style scoped>\n",
       "    .dataframe tbody tr th:only-of-type {\n",
       "        vertical-align: middle;\n",
       "    }\n",
       "\n",
       "    .dataframe tbody tr th {\n",
       "        vertical-align: top;\n",
       "    }\n",
       "\n",
       "    .dataframe thead th {\n",
       "        text-align: right;\n",
       "    }\n",
       "</style>\n",
       "<table border=\"1\" class=\"dataframe\">\n",
       "  <thead>\n",
       "    <tr style=\"text-align: right;\">\n",
       "      <th></th>\n",
       "      <th>product_id</th>\n",
       "      <th>product_name</th>\n",
       "      <th>ingredients</th>\n",
       "      <th>highlights</th>\n",
       "      <th>primary_category</th>\n",
       "      <th>secondary_category</th>\n",
       "    </tr>\n",
       "  </thead>\n",
       "  <tbody>\n",
       "    <tr>\n",
       "      <th>1</th>\n",
       "      <td>P473668</td>\n",
       "      <td>La Habana Eau de Parfum</td>\n",
       "      <td>['Alcohol Denat. (SD Alcohol 39C), Parfum (Fra...</td>\n",
       "      <td>['Unisex/ Genderless Scent', 'Layerable Scent'...</td>\n",
       "      <td>Fragrance</td>\n",
       "      <td>Women</td>\n",
       "    </tr>\n",
       "    <tr>\n",
       "      <th>2</th>\n",
       "      <td>P473662</td>\n",
       "      <td>Rainbow Bar Eau de Parfum</td>\n",
       "      <td>['Alcohol Denat. (SD Alcohol 39C), Parfum (Fra...</td>\n",
       "      <td>['Unisex/ Genderless Scent', 'Layerable Scent'...</td>\n",
       "      <td>Fragrance</td>\n",
       "      <td>Women</td>\n",
       "    </tr>\n",
       "    <tr>\n",
       "      <th>3</th>\n",
       "      <td>P473660</td>\n",
       "      <td>Kasbah Eau de Parfum</td>\n",
       "      <td>['Alcohol Denat. (SD Alcohol 39C), Parfum (Fra...</td>\n",
       "      <td>['Unisex/ Genderless Scent', 'Layerable Scent'...</td>\n",
       "      <td>Fragrance</td>\n",
       "      <td>Women</td>\n",
       "    </tr>\n",
       "    <tr>\n",
       "      <th>4</th>\n",
       "      <td>P473658</td>\n",
       "      <td>Purple Haze Eau de Parfum</td>\n",
       "      <td>['Alcohol Denat. (SD Alcohol 39C), Parfum (Fra...</td>\n",
       "      <td>['Unisex/ Genderless Scent', 'Layerable Scent'...</td>\n",
       "      <td>Fragrance</td>\n",
       "      <td>Women</td>\n",
       "    </tr>\n",
       "    <tr>\n",
       "      <th>5</th>\n",
       "      <td>P473661</td>\n",
       "      <td>Kasbah Eau de Parfum Travel Spray</td>\n",
       "      <td>['Alcohol Denat. (SD Alcohol 39C), Parfum (Fra...</td>\n",
       "      <td>['Warm &amp;Spicy Scent', 'Unisex/ Genderless Scen...</td>\n",
       "      <td>Fragrance</td>\n",
       "      <td>Women</td>\n",
       "    </tr>\n",
       "    <tr>\n",
       "      <th>...</th>\n",
       "      <td>...</td>\n",
       "      <td>...</td>\n",
       "      <td>...</td>\n",
       "      <td>...</td>\n",
       "      <td>...</td>\n",
       "      <td>...</td>\n",
       "    </tr>\n",
       "    <tr>\n",
       "      <th>8485</th>\n",
       "      <td>P306857</td>\n",
       "      <td>L’Homme Deodorant</td>\n",
       "      <td>NaN</td>\n",
       "      <td>NaN</td>\n",
       "      <td>Bath &amp; Body</td>\n",
       "      <td>Body Care</td>\n",
       "    </tr>\n",
       "    <tr>\n",
       "      <th>8486</th>\n",
       "      <td>P457262</td>\n",
       "      <td>Y Eau Fraiche</td>\n",
       "      <td>['Alcohol, Parfum / Fragrance, Aqua / Water, L...</td>\n",
       "      <td>['Fresh Scent', 'Layerable Scent']</td>\n",
       "      <td>Fragrance</td>\n",
       "      <td>Men</td>\n",
       "    </tr>\n",
       "    <tr>\n",
       "      <th>8489</th>\n",
       "      <td>P467659</td>\n",
       "      <td>Couture Clutch Eyeshadow Palette</td>\n",
       "      <td>['Talc, Synthetic Fluorphlogopite, Triethylhex...</td>\n",
       "      <td>NaN</td>\n",
       "      <td>Makeup</td>\n",
       "      <td>Eye</td>\n",
       "    </tr>\n",
       "    <tr>\n",
       "      <th>8490</th>\n",
       "      <td>P500874</td>\n",
       "      <td>L'Homme Eau de Parfum</td>\n",
       "      <td>['Alcohol, Aqua / Water / Eau, Parfum / Fragra...</td>\n",
       "      <td>['Layerable Scent', 'Woody &amp; Earthy Scent']</td>\n",
       "      <td>Fragrance</td>\n",
       "      <td>Men</td>\n",
       "    </tr>\n",
       "    <tr>\n",
       "      <th>8493</th>\n",
       "      <td>P505461</td>\n",
       "      <td>Candy Glaze Lip Gloss Stick Duo with Hyaluroni...</td>\n",
       "      <td>['Diisostearyl Malate, Bis-Behenyl/Isostearyl/...</td>\n",
       "      <td>['Hyaluronic Acid', 'High Shine Finish', 'Plum...</td>\n",
       "      <td>Makeup</td>\n",
       "      <td>Lip</td>\n",
       "    </tr>\n",
       "  </tbody>\n",
       "</table>\n",
       "<p>7668 rows × 6 columns</p>\n",
       "</div>"
      ],
      "text/plain": [
       "     product_id                                       product_name  \\\n",
       "1       P473668                            La Habana Eau de Parfum   \n",
       "2       P473662                          Rainbow Bar Eau de Parfum   \n",
       "3       P473660                               Kasbah Eau de Parfum   \n",
       "4       P473658                          Purple Haze Eau de Parfum   \n",
       "5       P473661                  Kasbah Eau de Parfum Travel Spray   \n",
       "...         ...                                                ...   \n",
       "8485    P306857                                  L’Homme Deodorant   \n",
       "8486    P457262                                      Y Eau Fraiche   \n",
       "8489    P467659                   Couture Clutch Eyeshadow Palette   \n",
       "8490    P500874                              L'Homme Eau de Parfum   \n",
       "8493    P505461  Candy Glaze Lip Gloss Stick Duo with Hyaluroni...   \n",
       "\n",
       "                                            ingredients  \\\n",
       "1     ['Alcohol Denat. (SD Alcohol 39C), Parfum (Fra...   \n",
       "2     ['Alcohol Denat. (SD Alcohol 39C), Parfum (Fra...   \n",
       "3     ['Alcohol Denat. (SD Alcohol 39C), Parfum (Fra...   \n",
       "4     ['Alcohol Denat. (SD Alcohol 39C), Parfum (Fra...   \n",
       "5     ['Alcohol Denat. (SD Alcohol 39C), Parfum (Fra...   \n",
       "...                                                 ...   \n",
       "8485                                                NaN   \n",
       "8486  ['Alcohol, Parfum / Fragrance, Aqua / Water, L...   \n",
       "8489  ['Talc, Synthetic Fluorphlogopite, Triethylhex...   \n",
       "8490  ['Alcohol, Aqua / Water / Eau, Parfum / Fragra...   \n",
       "8493  ['Diisostearyl Malate, Bis-Behenyl/Isostearyl/...   \n",
       "\n",
       "                                             highlights primary_category  \\\n",
       "1     ['Unisex/ Genderless Scent', 'Layerable Scent'...        Fragrance   \n",
       "2     ['Unisex/ Genderless Scent', 'Layerable Scent'...        Fragrance   \n",
       "3     ['Unisex/ Genderless Scent', 'Layerable Scent'...        Fragrance   \n",
       "4     ['Unisex/ Genderless Scent', 'Layerable Scent'...        Fragrance   \n",
       "5     ['Warm &Spicy Scent', 'Unisex/ Genderless Scen...        Fragrance   \n",
       "...                                                 ...              ...   \n",
       "8485                                                NaN      Bath & Body   \n",
       "8486                 ['Fresh Scent', 'Layerable Scent']        Fragrance   \n",
       "8489                                                NaN           Makeup   \n",
       "8490        ['Layerable Scent', 'Woody & Earthy Scent']        Fragrance   \n",
       "8493  ['Hyaluronic Acid', 'High Shine Finish', 'Plum...           Makeup   \n",
       "\n",
       "     secondary_category  \n",
       "1                 Women  \n",
       "2                 Women  \n",
       "3                 Women  \n",
       "4                 Women  \n",
       "5                 Women  \n",
       "...                 ...  \n",
       "8485          Body Care  \n",
       "8486                Men  \n",
       "8489                Eye  \n",
       "8490                Men  \n",
       "8493                Lip  \n",
       "\n",
       "[7668 rows x 6 columns]"
      ]
     },
     "execution_count": 14,
     "metadata": {},
     "output_type": "execute_result"
    }
   ],
   "source": [
    "# Defining the categories to keep\n",
    "categories_to_keep = [\"Fragrance\", \"Bath & Body\", \"Hair\", \"Makeup\", \"Skincare\"]\n",
    "\n",
    "# Applying the filtering conditions\n",
    "test = filtered_products[\n",
    "    (\n",
    "        (filtered_products[\"primary_category\"] == \"Fragrance\") &\n",
    "        (filtered_products[\"secondary_category\"].isin([\"Women\", \"Men\"]))\n",
    "    ) |\n",
    "    (filtered_products[\"primary_category\"].isin(categories_to_keep) & \n",
    "     (filtered_products[\"primary_category\"] != \"Fragrance\"))\n",
    "]\n",
    "\n",
    "# Displaying the filtered DataFrame\n",
    "test\n"
   ]
  },
  {
   "cell_type": "code",
   "execution_count": 15,
   "metadata": {},
   "outputs": [
    {
     "data": {
      "text/plain": [
       "array(['Fragrance', 'Bath & Body', 'Hair', 'Makeup', 'Skincare'],\n",
       "      dtype=object)"
      ]
     },
     "execution_count": 15,
     "metadata": {},
     "output_type": "execute_result"
    }
   ],
   "source": [
    "test['primary_category'].unique()"
   ]
  },
  {
   "cell_type": "code",
   "execution_count": 16,
   "metadata": {},
   "outputs": [
    {
     "data": {
      "text/plain": [
       "array(['Women', 'Body Moisturizers', 'Value & Gift Sets', 'Men',\n",
       "       'Body Care', 'Hair Styling & Treatments', 'Shampoo & Conditioner',\n",
       "       'Mini Size', 'Lip', 'Moisturizers', 'Treatments', 'Eye Care',\n",
       "       'Lip Balms & Treatments', 'Sunscreen', 'Cleansers', 'Masks',\n",
       "       'Face', 'Eye', 'Cheek', 'Tools', 'Brushes & Applicators',\n",
       "       'Makeup Palettes', 'Accessories', 'Bath & Shower', 'Wellness',\n",
       "       'High Tech Tools', 'Shop by Concern', 'Self Tanners', 'Nail',\n",
       "       'Beauty Supplements', 'Candles & Home Scents'], dtype=object)"
      ]
     },
     "execution_count": 16,
     "metadata": {},
     "output_type": "execute_result"
    }
   ],
   "source": [
    "test['secondary_category'].unique()"
   ]
  },
  {
   "cell_type": "markdown",
   "metadata": {},
   "source": [
    "#### Here I want to check that the secondary category of the \"Fragrance\" is only \"Men\" and \"women\""
   ]
  },
  {
   "cell_type": "code",
   "execution_count": null,
   "metadata": {},
   "outputs": [
    {
     "name": "stdout",
     "output_type": "stream",
     "text": [
      "['Women' 'Men']\n"
     ]
    }
   ],
   "source": [
    "# Filtering the DataFrame where primary_category is \"Fragrance\"\n",
    "fragrance_products_test = test[test['primary_category'] == 'Fragrance']\n",
    "\n",
    "# Getting unique values of the secondary_category column\n",
    "unique_secondary_categories_test = fragrance_products_test['secondary_category'].unique()\n",
    "\n",
    "# Displaying the result\n",
    "print(unique_secondary_categories_test)\n"
   ]
  },
  {
   "cell_type": "code",
   "execution_count": 18,
   "metadata": {},
   "outputs": [
    {
     "data": {
      "text/html": [
       "<div>\n",
       "<style scoped>\n",
       "    .dataframe tbody tr th:only-of-type {\n",
       "        vertical-align: middle;\n",
       "    }\n",
       "\n",
       "    .dataframe tbody tr th {\n",
       "        vertical-align: top;\n",
       "    }\n",
       "\n",
       "    .dataframe thead th {\n",
       "        text-align: right;\n",
       "    }\n",
       "</style>\n",
       "<table border=\"1\" class=\"dataframe\">\n",
       "  <thead>\n",
       "    <tr style=\"text-align: right;\">\n",
       "      <th></th>\n",
       "      <th>product_id</th>\n",
       "      <th>product_name</th>\n",
       "      <th>ingredients</th>\n",
       "      <th>highlights</th>\n",
       "      <th>primary_category</th>\n",
       "      <th>secondary_category</th>\n",
       "    </tr>\n",
       "  </thead>\n",
       "  <tbody>\n",
       "    <tr>\n",
       "      <th>1</th>\n",
       "      <td>P473668</td>\n",
       "      <td>La Habana Eau de Parfum</td>\n",
       "      <td>['Alcohol Denat. (SD Alcohol 39C), Parfum (Fra...</td>\n",
       "      <td>['Unisex/ Genderless Scent', 'Layerable Scent'...</td>\n",
       "      <td>Fragrance</td>\n",
       "      <td>Women</td>\n",
       "    </tr>\n",
       "    <tr>\n",
       "      <th>2</th>\n",
       "      <td>P473662</td>\n",
       "      <td>Rainbow Bar Eau de Parfum</td>\n",
       "      <td>['Alcohol Denat. (SD Alcohol 39C), Parfum (Fra...</td>\n",
       "      <td>['Unisex/ Genderless Scent', 'Layerable Scent'...</td>\n",
       "      <td>Fragrance</td>\n",
       "      <td>Women</td>\n",
       "    </tr>\n",
       "    <tr>\n",
       "      <th>3</th>\n",
       "      <td>P473660</td>\n",
       "      <td>Kasbah Eau de Parfum</td>\n",
       "      <td>['Alcohol Denat. (SD Alcohol 39C), Parfum (Fra...</td>\n",
       "      <td>['Unisex/ Genderless Scent', 'Layerable Scent'...</td>\n",
       "      <td>Fragrance</td>\n",
       "      <td>Women</td>\n",
       "    </tr>\n",
       "    <tr>\n",
       "      <th>4</th>\n",
       "      <td>P473658</td>\n",
       "      <td>Purple Haze Eau de Parfum</td>\n",
       "      <td>['Alcohol Denat. (SD Alcohol 39C), Parfum (Fra...</td>\n",
       "      <td>['Unisex/ Genderless Scent', 'Layerable Scent'...</td>\n",
       "      <td>Fragrance</td>\n",
       "      <td>Women</td>\n",
       "    </tr>\n",
       "    <tr>\n",
       "      <th>5</th>\n",
       "      <td>P473661</td>\n",
       "      <td>Kasbah Eau de Parfum Travel Spray</td>\n",
       "      <td>['Alcohol Denat. (SD Alcohol 39C), Parfum (Fra...</td>\n",
       "      <td>['Warm &amp;Spicy Scent', 'Unisex/ Genderless Scen...</td>\n",
       "      <td>Fragrance</td>\n",
       "      <td>Women</td>\n",
       "    </tr>\n",
       "  </tbody>\n",
       "</table>\n",
       "</div>"
      ],
      "text/plain": [
       "  product_id                       product_name  \\\n",
       "1    P473668            La Habana Eau de Parfum   \n",
       "2    P473662          Rainbow Bar Eau de Parfum   \n",
       "3    P473660               Kasbah Eau de Parfum   \n",
       "4    P473658          Purple Haze Eau de Parfum   \n",
       "5    P473661  Kasbah Eau de Parfum Travel Spray   \n",
       "\n",
       "                                         ingredients  \\\n",
       "1  ['Alcohol Denat. (SD Alcohol 39C), Parfum (Fra...   \n",
       "2  ['Alcohol Denat. (SD Alcohol 39C), Parfum (Fra...   \n",
       "3  ['Alcohol Denat. (SD Alcohol 39C), Parfum (Fra...   \n",
       "4  ['Alcohol Denat. (SD Alcohol 39C), Parfum (Fra...   \n",
       "5  ['Alcohol Denat. (SD Alcohol 39C), Parfum (Fra...   \n",
       "\n",
       "                                          highlights primary_category  \\\n",
       "1  ['Unisex/ Genderless Scent', 'Layerable Scent'...        Fragrance   \n",
       "2  ['Unisex/ Genderless Scent', 'Layerable Scent'...        Fragrance   \n",
       "3  ['Unisex/ Genderless Scent', 'Layerable Scent'...        Fragrance   \n",
       "4  ['Unisex/ Genderless Scent', 'Layerable Scent'...        Fragrance   \n",
       "5  ['Warm &Spicy Scent', 'Unisex/ Genderless Scen...        Fragrance   \n",
       "\n",
       "  secondary_category  \n",
       "1              Women  \n",
       "2              Women  \n",
       "3              Women  \n",
       "4              Women  \n",
       "5              Women  "
      ]
     },
     "execution_count": 18,
     "metadata": {},
     "output_type": "execute_result"
    }
   ],
   "source": [
    "final_products = test.copy()\n",
    "final_products.head()"
   ]
  },
  {
   "cell_type": "code",
   "execution_count": 19,
   "metadata": {},
   "outputs": [
    {
     "data": {
      "text/plain": [
       "(7668, 6)"
      ]
     },
     "execution_count": 19,
     "metadata": {},
     "output_type": "execute_result"
    }
   ],
   "source": [
    "final_products.shape"
   ]
  },
  {
   "cell_type": "markdown",
   "metadata": {},
   "source": [
    "### **I will drop the products whose secondary category is out of my scope**"
   ]
  },
  {
   "cell_type": "code",
   "execution_count": null,
   "metadata": {},
   "outputs": [],
   "source": [
    "# Defining the categories to drop\n",
    "categories_to_drop = [\n",
    "    \"Value & Gift Sets\", \"Brushes & Applicators\", \"Tools\",\n",
    "    \"Accessories\", \"High Tech Tools\", \"Candles & Home Scents\"\n",
    "]\n",
    "\n",
    "# Droping rows with specified secondary_category values\n",
    "final_products = final_products[~final_products[\"secondary_category\"].isin(categories_to_drop)]\n"
   ]
  },
  {
   "cell_type": "code",
   "execution_count": null,
   "metadata": {},
   "outputs": [
    {
     "data": {
      "text/plain": [
       "array(['Fragrance', 'Bath & Body', 'Hair', 'Makeup', 'Skincare'],\n",
       "      dtype=object)"
      ]
     },
     "execution_count": 21,
     "metadata": {},
     "output_type": "execute_result"
    }
   ],
   "source": [
    "# Displaying the resulting DataFrame\n",
    "final_products['primary_category'].unique()"
   ]
  },
  {
   "cell_type": "code",
   "execution_count": 22,
   "metadata": {},
   "outputs": [
    {
     "data": {
      "text/plain": [
       "array(['Women', 'Body Moisturizers', 'Men', 'Body Care',\n",
       "       'Hair Styling & Treatments', 'Shampoo & Conditioner', 'Mini Size',\n",
       "       'Lip', 'Moisturizers', 'Treatments', 'Eye Care',\n",
       "       'Lip Balms & Treatments', 'Sunscreen', 'Cleansers', 'Masks',\n",
       "       'Face', 'Eye', 'Cheek', 'Makeup Palettes', 'Bath & Shower',\n",
       "       'Wellness', 'Shop by Concern', 'Self Tanners', 'Nail',\n",
       "       'Beauty Supplements'], dtype=object)"
      ]
     },
     "execution_count": 22,
     "metadata": {},
     "output_type": "execute_result"
    }
   ],
   "source": [
    "final_products['secondary_category'].unique()"
   ]
  },
  {
   "cell_type": "markdown",
   "metadata": {},
   "source": [
    "## The discreption of some categories\n",
    "#### **Mini Size:** This category typically includes smaller or travel-sized versions of products. These are often marketed as \"trial sizes,\" convenient for traveling, or for customers who want to test a product without committing to a full-size purchase.\n",
    "\n",
    "#### **Shop by Concern:** This category groups products based on specific skincare or beauty concerns, rather than traditional categories like skincare or makeup. For example, it might include products addressing concerns like acne, aging, dryness, or uneven skin tone.\n",
    "\n",
    "#### **Self Tanners:** Refers to products designed to give the skin a tanned appearance without the need for sun exposure. These products are typically used to achieve a bronzed, sun-kissed look without the harmful effects of UV rays.\n"
   ]
  },
  {
   "cell_type": "code",
   "execution_count": 23,
   "metadata": {},
   "outputs": [
    {
     "data": {
      "text/plain": [
       "(6823, 6)"
      ]
     },
     "execution_count": 23,
     "metadata": {},
     "output_type": "execute_result"
    }
   ],
   "source": [
    "final_products.shape"
   ]
  },
  {
   "cell_type": "markdown",
   "metadata": {},
   "source": [
    "### checking the null values"
   ]
  },
  {
   "cell_type": "code",
   "execution_count": 24,
   "metadata": {},
   "outputs": [
    {
     "data": {
      "text/plain": [
       "product_id               0\n",
       "product_name             0\n",
       "ingredients            269\n",
       "highlights            1598\n",
       "primary_category         0\n",
       "secondary_category       0\n",
       "dtype: int64"
      ]
     },
     "execution_count": 24,
     "metadata": {},
     "output_type": "execute_result"
    }
   ],
   "source": [
    "final_products.isna().sum()"
   ]
  },
  {
   "cell_type": "code",
   "execution_count": 25,
   "metadata": {},
   "outputs": [
    {
     "data": {
      "text/plain": [
       "(6823, 6)"
      ]
     },
     "execution_count": 25,
     "metadata": {},
     "output_type": "execute_result"
    }
   ],
   "source": [
    "final_products.shape"
   ]
  },
  {
   "cell_type": "markdown",
   "metadata": {},
   "source": [
    "# Dropping the null values"
   ]
  },
  {
   "cell_type": "code",
   "execution_count": 28,
   "metadata": {},
   "outputs": [],
   "source": [
    "final_products=final_products.dropna()"
   ]
  },
  {
   "cell_type": "code",
   "execution_count": 29,
   "metadata": {},
   "outputs": [
    {
     "data": {
      "text/plain": [
       "product_id            0\n",
       "product_name          0\n",
       "ingredients           0\n",
       "highlights            0\n",
       "primary_category      0\n",
       "secondary_category    0\n",
       "dtype: int64"
      ]
     },
     "execution_count": 29,
     "metadata": {},
     "output_type": "execute_result"
    }
   ],
   "source": [
    "final_products.isna().sum()"
   ]
  },
  {
   "cell_type": "code",
   "execution_count": 30,
   "metadata": {},
   "outputs": [
    {
     "data": {
      "text/plain": [
       "(5078, 6)"
      ]
     },
     "execution_count": 30,
     "metadata": {},
     "output_type": "execute_result"
    }
   ],
   "source": [
    "final_products.shape"
   ]
  },
  {
   "cell_type": "markdown",
   "metadata": {},
   "source": [
    "# **3) Preprocessing the reviews data**"
   ]
  },
  {
   "cell_type": "code",
   "execution_count": 31,
   "metadata": {},
   "outputs": [
    {
     "data": {
      "text/plain": [
       "Index(['Unnamed: 0', 'author_id', 'rating', 'is_recommended', 'helpfulness',\n",
       "       'total_feedback_count', 'total_neg_feedback_count',\n",
       "       'total_pos_feedback_count', 'submission_time', 'review_text',\n",
       "       'review_title', 'skin_tone', 'eye_color', 'skin_type', 'hair_color',\n",
       "       'product_id', 'product_name', 'brand_name', 'price_usd'],\n",
       "      dtype='object')"
      ]
     },
     "execution_count": 31,
     "metadata": {},
     "output_type": "execute_result"
    }
   ],
   "source": [
    "reviews.columns"
   ]
  },
  {
   "cell_type": "code",
   "execution_count": 32,
   "metadata": {},
   "outputs": [
    {
     "data": {
      "text/plain": [
       "Unnamed: 0                       0\n",
       "author_id                        0\n",
       "rating                           0\n",
       "is_recommended              167988\n",
       "helpfulness                 561592\n",
       "total_feedback_count             0\n",
       "total_neg_feedback_count         0\n",
       "total_pos_feedback_count         0\n",
       "submission_time                  0\n",
       "review_text                   1444\n",
       "review_title                310654\n",
       "skin_tone                   170539\n",
       "eye_color                   209628\n",
       "skin_type                   111557\n",
       "hair_color                  226768\n",
       "product_id                       0\n",
       "product_name                     0\n",
       "brand_name                       0\n",
       "price_usd                        0\n",
       "dtype: int64"
      ]
     },
     "execution_count": 32,
     "metadata": {},
     "output_type": "execute_result"
    }
   ],
   "source": [
    "reviews.isna().sum()"
   ]
  },
  {
   "cell_type": "code",
   "execution_count": 33,
   "metadata": {},
   "outputs": [
    {
     "data": {
      "text/plain": [
       "(1094411, 19)"
      ]
     },
     "execution_count": 33,
     "metadata": {},
     "output_type": "execute_result"
    }
   ],
   "source": [
    "reviews.shape"
   ]
  },
  {
   "cell_type": "markdown",
   "metadata": {},
   "source": [
    "#### **Now I want to filter the reviews data frame to carry only the products in the \"final_products\" data frame, I will do this using the \"product_id\" column**"
   ]
  },
  {
   "cell_type": "code",
   "execution_count": null,
   "metadata": {},
   "outputs": [
    {
     "data": {
      "text/plain": [
       "(953109, 19)"
      ]
     },
     "execution_count": 34,
     "metadata": {},
     "output_type": "execute_result"
    }
   ],
   "source": [
    "# Filtering the 'reviews' dataframe to include only products that are in 'final_products'\n",
    "filtered_reviews = reviews[reviews['product_id'].isin(final_products['product_id'])]\n",
    "\n",
    "# Showing the filtered reviews dataframe\n",
    "filtered_reviews.shape\n"
   ]
  },
  {
   "cell_type": "code",
   "execution_count": 35,
   "metadata": {},
   "outputs": [
    {
     "data": {
      "text/plain": [
       "Unnamed: 0                       0\n",
       "author_id                        0\n",
       "rating                           0\n",
       "is_recommended              128614\n",
       "helpfulness                 487344\n",
       "total_feedback_count             0\n",
       "total_neg_feedback_count         0\n",
       "total_pos_feedback_count         0\n",
       "submission_time                  0\n",
       "review_text                   1279\n",
       "review_title                272564\n",
       "skin_tone                   137690\n",
       "eye_color                   165568\n",
       "skin_type                    88392\n",
       "hair_color                  182100\n",
       "product_id                       0\n",
       "product_name                     0\n",
       "brand_name                       0\n",
       "price_usd                        0\n",
       "dtype: int64"
      ]
     },
     "execution_count": 35,
     "metadata": {},
     "output_type": "execute_result"
    }
   ],
   "source": [
    "filtered_reviews.isna().sum()"
   ]
  },
  {
   "cell_type": "code",
   "execution_count": 36,
   "metadata": {},
   "outputs": [
    {
     "name": "stdout",
     "output_type": "stream",
     "text": [
      "<class 'pandas.core.frame.DataFrame'>\n",
      "Int64Index: 953109 entries, 0 to 49976\n",
      "Data columns (total 19 columns):\n",
      " #   Column                    Non-Null Count   Dtype  \n",
      "---  ------                    --------------   -----  \n",
      " 0   Unnamed: 0                953109 non-null  int64  \n",
      " 1   author_id                 953109 non-null  object \n",
      " 2   rating                    953109 non-null  int64  \n",
      " 3   is_recommended            824495 non-null  float64\n",
      " 4   helpfulness               465765 non-null  float64\n",
      " 5   total_feedback_count      953109 non-null  int64  \n",
      " 6   total_neg_feedback_count  953109 non-null  int64  \n",
      " 7   total_pos_feedback_count  953109 non-null  int64  \n",
      " 8   submission_time           953109 non-null  object \n",
      " 9   review_text               951830 non-null  object \n",
      " 10  review_title              680545 non-null  object \n",
      " 11  skin_tone                 815419 non-null  object \n",
      " 12  eye_color                 787541 non-null  object \n",
      " 13  skin_type                 864717 non-null  object \n",
      " 14  hair_color                771009 non-null  object \n",
      " 15  product_id                953109 non-null  object \n",
      " 16  product_name              953109 non-null  object \n",
      " 17  brand_name                953109 non-null  object \n",
      " 18  price_usd                 953109 non-null  float64\n",
      "dtypes: float64(3), int64(5), object(11)\n",
      "memory usage: 145.4+ MB\n"
     ]
    }
   ],
   "source": [
    "filtered_reviews.info()"
   ]
  },
  {
   "cell_type": "markdown",
   "metadata": {},
   "source": [
    "# Now, I will filter only the columns that I need for the project"
   ]
  },
  {
   "cell_type": "code",
   "execution_count": 37,
   "metadata": {},
   "outputs": [
    {
     "data": {
      "text/plain": [
       "(953109, 19)"
      ]
     },
     "execution_count": 37,
     "metadata": {},
     "output_type": "execute_result"
    }
   ],
   "source": [
    "reviews_copy = filtered_reviews.copy()\n",
    "reviews_copy.shape"
   ]
  },
  {
   "cell_type": "markdown",
   "metadata": {},
   "source": [
    "#### **total_feedback_count:** This column likely refers to the total number of feedback responses (positive or negative) that a specific review has received. This could include likes, thumbs-ups, or other types of feedback from other users who have read the review."
   ]
  },
  {
   "cell_type": "code",
   "execution_count": 38,
   "metadata": {},
   "outputs": [
    {
     "data": {
      "text/html": [
       "<div>\n",
       "<style scoped>\n",
       "    .dataframe tbody tr th:only-of-type {\n",
       "        vertical-align: middle;\n",
       "    }\n",
       "\n",
       "    .dataframe tbody tr th {\n",
       "        vertical-align: top;\n",
       "    }\n",
       "\n",
       "    .dataframe thead th {\n",
       "        text-align: right;\n",
       "    }\n",
       "</style>\n",
       "<table border=\"1\" class=\"dataframe\">\n",
       "  <thead>\n",
       "    <tr style=\"text-align: right;\">\n",
       "      <th></th>\n",
       "      <th>author_id</th>\n",
       "      <th>skin_type</th>\n",
       "      <th>rating</th>\n",
       "      <th>review_text</th>\n",
       "      <th>total_feedback_count</th>\n",
       "      <th>total_neg_feedback_count</th>\n",
       "      <th>total_pos_feedback_count</th>\n",
       "      <th>product_id</th>\n",
       "      <th>price_usd</th>\n",
       "    </tr>\n",
       "  </thead>\n",
       "  <tbody>\n",
       "    <tr>\n",
       "      <th>0</th>\n",
       "      <td>1741593524</td>\n",
       "      <td>dry</td>\n",
       "      <td>5</td>\n",
       "      <td>I use this with the Nudestix “Citrus Clean Bal...</td>\n",
       "      <td>2</td>\n",
       "      <td>0</td>\n",
       "      <td>2</td>\n",
       "      <td>P504322</td>\n",
       "      <td>19.0</td>\n",
       "    </tr>\n",
       "    <tr>\n",
       "      <th>1</th>\n",
       "      <td>31423088263</td>\n",
       "      <td>NaN</td>\n",
       "      <td>1</td>\n",
       "      <td>I bought this lip mask after reading the revie...</td>\n",
       "      <td>0</td>\n",
       "      <td>0</td>\n",
       "      <td>0</td>\n",
       "      <td>P420652</td>\n",
       "      <td>24.0</td>\n",
       "    </tr>\n",
       "    <tr>\n",
       "      <th>2</th>\n",
       "      <td>5061282401</td>\n",
       "      <td>dry</td>\n",
       "      <td>5</td>\n",
       "      <td>My review title says it all! I get so excited ...</td>\n",
       "      <td>0</td>\n",
       "      <td>0</td>\n",
       "      <td>0</td>\n",
       "      <td>P420652</td>\n",
       "      <td>24.0</td>\n",
       "    </tr>\n",
       "    <tr>\n",
       "      <th>3</th>\n",
       "      <td>6083038851</td>\n",
       "      <td>combination</td>\n",
       "      <td>5</td>\n",
       "      <td>I’ve always loved this formula for a long time...</td>\n",
       "      <td>0</td>\n",
       "      <td>0</td>\n",
       "      <td>0</td>\n",
       "      <td>P420652</td>\n",
       "      <td>24.0</td>\n",
       "    </tr>\n",
       "    <tr>\n",
       "      <th>4</th>\n",
       "      <td>47056667835</td>\n",
       "      <td>combination</td>\n",
       "      <td>5</td>\n",
       "      <td>If you have dry cracked lips, this is a must h...</td>\n",
       "      <td>0</td>\n",
       "      <td>0</td>\n",
       "      <td>0</td>\n",
       "      <td>P420652</td>\n",
       "      <td>24.0</td>\n",
       "    </tr>\n",
       "  </tbody>\n",
       "</table>\n",
       "</div>"
      ],
      "text/plain": [
       "     author_id    skin_type  rating  \\\n",
       "0   1741593524          dry       5   \n",
       "1  31423088263          NaN       1   \n",
       "2   5061282401          dry       5   \n",
       "3   6083038851  combination       5   \n",
       "4  47056667835  combination       5   \n",
       "\n",
       "                                         review_text  total_feedback_count  \\\n",
       "0  I use this with the Nudestix “Citrus Clean Bal...                     2   \n",
       "1  I bought this lip mask after reading the revie...                     0   \n",
       "2  My review title says it all! I get so excited ...                     0   \n",
       "3  I’ve always loved this formula for a long time...                     0   \n",
       "4  If you have dry cracked lips, this is a must h...                     0   \n",
       "\n",
       "   total_neg_feedback_count  total_pos_feedback_count product_id  price_usd  \n",
       "0                         0                         2    P504322       19.0  \n",
       "1                         0                         0    P420652       24.0  \n",
       "2                         0                         0    P420652       24.0  \n",
       "3                         0                         0    P420652       24.0  \n",
       "4                         0                         0    P420652       24.0  "
      ]
     },
     "execution_count": 38,
     "metadata": {},
     "output_type": "execute_result"
    }
   ],
   "source": [
    "reviews_copy = pd.DataFrame(reviews_copy, columns=['author_id','skin_type', 'rating','review_text','total_feedback_count','total_neg_feedback_count','total_pos_feedback_count','product_id','price_usd'])\n",
    "reviews_copy.head(5)\n"
   ]
  },
  {
   "cell_type": "code",
   "execution_count": 39,
   "metadata": {},
   "outputs": [
    {
     "data": {
      "text/plain": [
       "(953109, 9)"
      ]
     },
     "execution_count": 39,
     "metadata": {},
     "output_type": "execute_result"
    }
   ],
   "source": [
    "reviews_copy.shape"
   ]
  },
  {
   "cell_type": "code",
   "execution_count": 40,
   "metadata": {},
   "outputs": [
    {
     "data": {
      "text/plain": [
       "Index(['author_id', 'skin_type', 'rating', 'review_text',\n",
       "       'total_feedback_count', 'total_neg_feedback_count',\n",
       "       'total_pos_feedback_count', 'product_id', 'price_usd'],\n",
       "      dtype='object')"
      ]
     },
     "execution_count": 40,
     "metadata": {},
     "output_type": "execute_result"
    }
   ],
   "source": [
    "reviews_copy.columns"
   ]
  },
  {
   "cell_type": "code",
   "execution_count": 41,
   "metadata": {},
   "outputs": [
    {
     "data": {
      "text/plain": [
       "author_id                       0\n",
       "skin_type                   88392\n",
       "rating                          0\n",
       "review_text                  1279\n",
       "total_feedback_count            0\n",
       "total_neg_feedback_count        0\n",
       "total_pos_feedback_count        0\n",
       "product_id                      0\n",
       "price_usd                       0\n",
       "dtype: int64"
      ]
     },
     "execution_count": 41,
     "metadata": {},
     "output_type": "execute_result"
    }
   ],
   "source": [
    "reviews_copy.isna().sum()"
   ]
  },
  {
   "cell_type": "code",
   "execution_count": 42,
   "metadata": {},
   "outputs": [
    {
     "name": "stdout",
     "output_type": "stream",
     "text": [
      "<class 'pandas.core.frame.DataFrame'>\n",
      "Int64Index: 953109 entries, 0 to 49976\n",
      "Data columns (total 9 columns):\n",
      " #   Column                    Non-Null Count   Dtype  \n",
      "---  ------                    --------------   -----  \n",
      " 0   author_id                 953109 non-null  object \n",
      " 1   skin_type                 864717 non-null  object \n",
      " 2   rating                    953109 non-null  int64  \n",
      " 3   review_text               951830 non-null  object \n",
      " 4   total_feedback_count      953109 non-null  int64  \n",
      " 5   total_neg_feedback_count  953109 non-null  int64  \n",
      " 6   total_pos_feedback_count  953109 non-null  int64  \n",
      " 7   product_id                953109 non-null  object \n",
      " 8   price_usd                 953109 non-null  float64\n",
      "dtypes: float64(1), int64(4), object(4)\n",
      "memory usage: 72.7+ MB\n"
     ]
    }
   ],
   "source": [
    "reviews_copy.info()"
   ]
  },
  {
   "cell_type": "code",
   "execution_count": 43,
   "metadata": {},
   "outputs": [
    {
     "data": {
      "text/plain": [
       "(953109, 9)"
      ]
     },
     "execution_count": 43,
     "metadata": {},
     "output_type": "execute_result"
    }
   ],
   "source": [
    "reviews_copy.shape"
   ]
  },
  {
   "cell_type": "code",
   "execution_count": 44,
   "metadata": {},
   "outputs": [],
   "source": [
    "final_reviews = reviews_copy.dropna()"
   ]
  },
  {
   "cell_type": "code",
   "execution_count": 45,
   "metadata": {},
   "outputs": [
    {
     "data": {
      "text/plain": [
       "author_id                   0\n",
       "skin_type                   0\n",
       "rating                      0\n",
       "review_text                 0\n",
       "total_feedback_count        0\n",
       "total_neg_feedback_count    0\n",
       "total_pos_feedback_count    0\n",
       "product_id                  0\n",
       "price_usd                   0\n",
       "dtype: int64"
      ]
     },
     "execution_count": 45,
     "metadata": {},
     "output_type": "execute_result"
    }
   ],
   "source": [
    "final_reviews.isna().sum()"
   ]
  },
  {
   "cell_type": "code",
   "execution_count": 46,
   "metadata": {},
   "outputs": [
    {
     "data": {
      "text/plain": [
       "(863473, 9)"
      ]
     },
     "execution_count": 46,
     "metadata": {},
     "output_type": "execute_result"
    }
   ],
   "source": [
    "final_reviews.shape"
   ]
  },
  {
   "cell_type": "code",
   "execution_count": 48,
   "metadata": {},
   "outputs": [
    {
     "data": {
      "text/plain": [
       "Index(['author_id', 'skin_type', 'rating', 'review_text',\n",
       "       'total_feedback_count', 'total_neg_feedback_count',\n",
       "       'total_pos_feedback_count', 'product_id', 'price_usd'],\n",
       "      dtype='object')"
      ]
     },
     "execution_count": 48,
     "metadata": {},
     "output_type": "execute_result"
    }
   ],
   "source": [
    "final_reviews.columns"
   ]
  },
  {
   "cell_type": "code",
   "execution_count": 49,
   "metadata": {},
   "outputs": [
    {
     "data": {
      "text/plain": [
       "Index(['product_id', 'product_name', 'ingredients', 'highlights',\n",
       "       'primary_category', 'secondary_category'],\n",
       "      dtype='object')"
      ]
     },
     "execution_count": 49,
     "metadata": {},
     "output_type": "execute_result"
    }
   ],
   "source": [
    "final_products.columns"
   ]
  },
  {
   "cell_type": "markdown",
   "metadata": {},
   "source": [
    "# **4) Merging the data**\n",
    "### **Now, I will merge both the reviews and products data in 1 data frame**"
   ]
  },
  {
   "cell_type": "code",
   "execution_count": 50,
   "metadata": {},
   "outputs": [],
   "source": [
    "# Merging final_reviews with final_products based on the product_id\n",
    "final_data = pd.merge(final_reviews, final_products, on='product_id', how='left')"
   ]
  },
  {
   "cell_type": "code",
   "execution_count": null,
   "metadata": {},
   "outputs": [
    {
     "data": {
      "text/html": [
       "<div>\n",
       "<style scoped>\n",
       "    .dataframe tbody tr th:only-of-type {\n",
       "        vertical-align: middle;\n",
       "    }\n",
       "\n",
       "    .dataframe tbody tr th {\n",
       "        vertical-align: top;\n",
       "    }\n",
       "\n",
       "    .dataframe thead th {\n",
       "        text-align: right;\n",
       "    }\n",
       "</style>\n",
       "<table border=\"1\" class=\"dataframe\">\n",
       "  <thead>\n",
       "    <tr style=\"text-align: right;\">\n",
       "      <th></th>\n",
       "      <th>author_id</th>\n",
       "      <th>skin_type</th>\n",
       "      <th>rating</th>\n",
       "      <th>review_text</th>\n",
       "      <th>total_feedback_count</th>\n",
       "      <th>total_neg_feedback_count</th>\n",
       "      <th>total_pos_feedback_count</th>\n",
       "      <th>product_id</th>\n",
       "      <th>price_usd</th>\n",
       "      <th>product_name</th>\n",
       "      <th>ingredients</th>\n",
       "      <th>highlights</th>\n",
       "      <th>primary_category</th>\n",
       "      <th>secondary_category</th>\n",
       "    </tr>\n",
       "  </thead>\n",
       "  <tbody>\n",
       "    <tr>\n",
       "      <th>0</th>\n",
       "      <td>1741593524</td>\n",
       "      <td>dry</td>\n",
       "      <td>5</td>\n",
       "      <td>I use this with the Nudestix “Citrus Clean Bal...</td>\n",
       "      <td>2</td>\n",
       "      <td>0</td>\n",
       "      <td>2</td>\n",
       "      <td>P504322</td>\n",
       "      <td>19.0</td>\n",
       "      <td>Gentle Hydra-Gel Face Cleanser</td>\n",
       "      <td>['Water (Aqua), Dipropylene Glycol, Peg-6 Capr...</td>\n",
       "      <td>['Clean at Sephora']</td>\n",
       "      <td>Skincare</td>\n",
       "      <td>Cleansers</td>\n",
       "    </tr>\n",
       "    <tr>\n",
       "      <th>1</th>\n",
       "      <td>5061282401</td>\n",
       "      <td>dry</td>\n",
       "      <td>5</td>\n",
       "      <td>My review title says it all! I get so excited ...</td>\n",
       "      <td>0</td>\n",
       "      <td>0</td>\n",
       "      <td>0</td>\n",
       "      <td>P420652</td>\n",
       "      <td>24.0</td>\n",
       "      <td>Lip Sleeping Mask Intense Hydration with Vitam...</td>\n",
       "      <td>['Diisostearyl Malate, Hydrogenated Polyisobut...</td>\n",
       "      <td>['allure 2019 Best of Beauty Award Winner', 'C...</td>\n",
       "      <td>Skincare</td>\n",
       "      <td>Lip Balms &amp; Treatments</td>\n",
       "    </tr>\n",
       "    <tr>\n",
       "      <th>2</th>\n",
       "      <td>6083038851</td>\n",
       "      <td>combination</td>\n",
       "      <td>5</td>\n",
       "      <td>I’ve always loved this formula for a long time...</td>\n",
       "      <td>0</td>\n",
       "      <td>0</td>\n",
       "      <td>0</td>\n",
       "      <td>P420652</td>\n",
       "      <td>24.0</td>\n",
       "      <td>Lip Sleeping Mask Intense Hydration with Vitam...</td>\n",
       "      <td>['Diisostearyl Malate, Hydrogenated Polyisobut...</td>\n",
       "      <td>['allure 2019 Best of Beauty Award Winner', 'C...</td>\n",
       "      <td>Skincare</td>\n",
       "      <td>Lip Balms &amp; Treatments</td>\n",
       "    </tr>\n",
       "    <tr>\n",
       "      <th>3</th>\n",
       "      <td>47056667835</td>\n",
       "      <td>combination</td>\n",
       "      <td>5</td>\n",
       "      <td>If you have dry cracked lips, this is a must h...</td>\n",
       "      <td>0</td>\n",
       "      <td>0</td>\n",
       "      <td>0</td>\n",
       "      <td>P420652</td>\n",
       "      <td>24.0</td>\n",
       "      <td>Lip Sleeping Mask Intense Hydration with Vitam...</td>\n",
       "      <td>['Diisostearyl Malate, Hydrogenated Polyisobut...</td>\n",
       "      <td>['allure 2019 Best of Beauty Award Winner', 'C...</td>\n",
       "      <td>Skincare</td>\n",
       "      <td>Lip Balms &amp; Treatments</td>\n",
       "    </tr>\n",
       "    <tr>\n",
       "      <th>4</th>\n",
       "      <td>42802569154</td>\n",
       "      <td>normal</td>\n",
       "      <td>4</td>\n",
       "      <td>The scent isn’t my favourite but it works grea...</td>\n",
       "      <td>1</td>\n",
       "      <td>0</td>\n",
       "      <td>1</td>\n",
       "      <td>P420652</td>\n",
       "      <td>24.0</td>\n",
       "      <td>Lip Sleeping Mask Intense Hydration with Vitam...</td>\n",
       "      <td>['Diisostearyl Malate, Hydrogenated Polyisobut...</td>\n",
       "      <td>['allure 2019 Best of Beauty Award Winner', 'C...</td>\n",
       "      <td>Skincare</td>\n",
       "      <td>Lip Balms &amp; Treatments</td>\n",
       "    </tr>\n",
       "  </tbody>\n",
       "</table>\n",
       "</div>"
      ],
      "text/plain": [
       "     author_id    skin_type  rating  \\\n",
       "0   1741593524          dry       5   \n",
       "1   5061282401          dry       5   \n",
       "2   6083038851  combination       5   \n",
       "3  47056667835  combination       5   \n",
       "4  42802569154       normal       4   \n",
       "\n",
       "                                         review_text  total_feedback_count  \\\n",
       "0  I use this with the Nudestix “Citrus Clean Bal...                     2   \n",
       "1  My review title says it all! I get so excited ...                     0   \n",
       "2  I’ve always loved this formula for a long time...                     0   \n",
       "3  If you have dry cracked lips, this is a must h...                     0   \n",
       "4  The scent isn’t my favourite but it works grea...                     1   \n",
       "\n",
       "   total_neg_feedback_count  total_pos_feedback_count product_id  price_usd  \\\n",
       "0                         0                         2    P504322       19.0   \n",
       "1                         0                         0    P420652       24.0   \n",
       "2                         0                         0    P420652       24.0   \n",
       "3                         0                         0    P420652       24.0   \n",
       "4                         0                         1    P420652       24.0   \n",
       "\n",
       "                                        product_name  \\\n",
       "0                     Gentle Hydra-Gel Face Cleanser   \n",
       "1  Lip Sleeping Mask Intense Hydration with Vitam...   \n",
       "2  Lip Sleeping Mask Intense Hydration with Vitam...   \n",
       "3  Lip Sleeping Mask Intense Hydration with Vitam...   \n",
       "4  Lip Sleeping Mask Intense Hydration with Vitam...   \n",
       "\n",
       "                                         ingredients  \\\n",
       "0  ['Water (Aqua), Dipropylene Glycol, Peg-6 Capr...   \n",
       "1  ['Diisostearyl Malate, Hydrogenated Polyisobut...   \n",
       "2  ['Diisostearyl Malate, Hydrogenated Polyisobut...   \n",
       "3  ['Diisostearyl Malate, Hydrogenated Polyisobut...   \n",
       "4  ['Diisostearyl Malate, Hydrogenated Polyisobut...   \n",
       "\n",
       "                                          highlights primary_category  \\\n",
       "0                               ['Clean at Sephora']         Skincare   \n",
       "1  ['allure 2019 Best of Beauty Award Winner', 'C...         Skincare   \n",
       "2  ['allure 2019 Best of Beauty Award Winner', 'C...         Skincare   \n",
       "3  ['allure 2019 Best of Beauty Award Winner', 'C...         Skincare   \n",
       "4  ['allure 2019 Best of Beauty Award Winner', 'C...         Skincare   \n",
       "\n",
       "       secondary_category  \n",
       "0               Cleansers  \n",
       "1  Lip Balms & Treatments  \n",
       "2  Lip Balms & Treatments  \n",
       "3  Lip Balms & Treatments  \n",
       "4  Lip Balms & Treatments  "
      ]
     },
     "execution_count": 51,
     "metadata": {},
     "output_type": "execute_result"
    }
   ],
   "source": [
    "# Printing the result of the merging\n",
    "final_data.head()"
   ]
  },
  {
   "cell_type": "code",
   "execution_count": 52,
   "metadata": {},
   "outputs": [
    {
     "data": {
      "text/plain": [
       "Index(['author_id', 'skin_type', 'rating', 'review_text',\n",
       "       'total_feedback_count', 'total_neg_feedback_count',\n",
       "       'total_pos_feedback_count', 'product_id', 'price_usd', 'product_name',\n",
       "       'ingredients', 'highlights', 'primary_category', 'secondary_category'],\n",
       "      dtype='object')"
      ]
     },
     "execution_count": 52,
     "metadata": {},
     "output_type": "execute_result"
    }
   ],
   "source": [
    "final_data.columns"
   ]
  },
  {
   "cell_type": "code",
   "execution_count": 53,
   "metadata": {},
   "outputs": [
    {
     "data": {
      "text/plain": [
       "(863473, 14)"
      ]
     },
     "execution_count": 53,
     "metadata": {},
     "output_type": "execute_result"
    }
   ],
   "source": [
    "final_data.shape"
   ]
  },
  {
   "cell_type": "markdown",
   "metadata": {},
   "source": [
    "---------------------------------------------------------------------------------------------------"
   ]
  },
  {
   "cell_type": "markdown",
   "metadata": {},
   "source": [
    "# **5) Preprocessing the text reviews**"
   ]
  },
  {
   "cell_type": "code",
   "execution_count": null,
   "metadata": {},
   "outputs": [
    {
     "name": "stderr",
     "output_type": "stream",
     "text": [
      "[nltk_data] Downloading package punkt to\n",
      "[nltk_data]     C:\\Users\\saba2\\AppData\\Roaming\\nltk_data...\n",
      "[nltk_data]   Package punkt is already up-to-date!\n",
      "[nltk_data] Downloading package stopwords to\n",
      "[nltk_data]     C:\\Users\\saba2\\AppData\\Roaming\\nltk_data...\n",
      "[nltk_data]   Package stopwords is already up-to-date!\n",
      "[nltk_data] Downloading package wordnet to\n",
      "[nltk_data]     C:\\Users\\saba2\\AppData\\Roaming\\nltk_data...\n",
      "[nltk_data]   Package wordnet is already up-to-date!\n",
      "[nltk_data] Downloading package omw-1.4 to\n",
      "[nltk_data]     C:\\Users\\saba2\\AppData\\Roaming\\nltk_data...\n",
      "[nltk_data]   Package omw-1.4 is already up-to-date!\n"
     ]
    }
   ],
   "source": [
    "# Downloading the required NLTK data\n",
    "nltk.download('punkt')\n",
    "nltk.download('stopwords')\n",
    "nltk.download('wordnet')\n",
    "nltk.download('omw-1.4')\n",
    "\n",
    "# This function will preprocess the review text\n",
    "def preprocess_text(text):\n",
    "    # Converting it to lowercase\n",
    "    text = text.lower()\n",
    "    \n",
    "    # Fixing the contractions\n",
    "    text = contractions.fix(text)\n",
    "    \n",
    "    # Removing special characters and numbers\n",
    "    text = re.sub(r'[^a-zA-Z\\s]', '', text)\n",
    "    \n",
    "    # Removing the extra spaces\n",
    "    text = ' '.join(text.split())\n",
    "    \n",
    "    # Tokenization\n",
    "    tokens = word_tokenize(text)\n",
    "    \n",
    "    # Removing stopwords\n",
    "    stop_words = set(stopwords.words('english'))\n",
    "    tokens = [token for token in tokens if token not in stop_words]\n",
    "    \n",
    "    # Lemmatization\n",
    "    lemmatizer = WordNetLemmatizer()\n",
    "    tokens = [lemmatizer.lemmatize(token) for token in tokens]\n",
    "    \n",
    "    # Joining the tokens back into text\n",
    "    processed_text = ' '.join(tokens)\n",
    "    \n",
    "    return processed_text"
   ]
  },
  {
   "cell_type": "code",
   "execution_count": 55,
   "metadata": {},
   "outputs": [
    {
     "name": "stdout",
     "output_type": "stream",
     "text": [
      "Starting text preprocessing...\n",
      "Text preprocessing completed!\n"
     ]
    }
   ],
   "source": [
    "# Creating a copy of the dataframe\n",
    "processed_data = final_data.copy()\n",
    "\n",
    "# Applying the text preprocessing to the review_text column\n",
    "print(\"Starting text preprocessing...\")\n",
    "processed_data['processed_review'] = processed_data['review_text'].apply(preprocess_text)\n",
    "print(\"Text preprocessing completed!\")"
   ]
  },
  {
   "cell_type": "code",
   "execution_count": null,
   "metadata": {},
   "outputs": [
    {
     "name": "stdout",
     "output_type": "stream",
     "text": [
      "\n",
      "Original vs Processed Text Examples:\n",
      "\n",
      "Original: I use this with the Nudestix “Citrus Clean Balm & Make-Up Melt“ to double cleanse and it has complet...\n",
      "Processed: use nudestix citrus clean balm makeup melt double cleanse completely changed skin better makeup melt...\n",
      "\n",
      "Original: My review title says it all! I get so excited to get into bed and apply this lip mask. I do see a di...\n",
      "Processed: review title say get excited get bed apply lip mask see difference suffer dry cracked lip drink lot ...\n",
      "\n",
      "Original: I’ve always loved this formula for a long time. I honestly don’t even use it for night time. I use i...\n",
      "Processed: always loved formula long time honestly even use night time use everyday lip balm love texture gummy...\n"
     ]
    }
   ],
   "source": [
    "# Printing some examples before and after the preprocessing\n",
    "print(\"\\nOriginal vs Processed Text Examples:\")\n",
    "for i in range(3):\n",
    "    print(f\"\\nOriginal: {processed_data['review_text'].iloc[i][:100]}...\")\n",
    "    print(f\"Processed: {processed_data['processed_review'].iloc[i][:100]}...\")"
   ]
  },
  {
   "cell_type": "code",
   "execution_count": 57,
   "metadata": {},
   "outputs": [],
   "source": [
    "# Calculating the review length\n",
    "processed_data['review_length'] = processed_data['processed_review'].apply(len)"
   ]
  },
  {
   "cell_type": "code",
   "execution_count": null,
   "metadata": {},
   "outputs": [
    {
     "name": "stdout",
     "output_type": "stream",
     "text": [
      "\n",
      "Review Length Statistics:\n",
      "count    863473.000000\n",
      "mean        194.137706\n",
      "std         138.502230\n",
      "min           0.000000\n",
      "25%         105.000000\n",
      "50%         160.000000\n",
      "75%         242.000000\n",
      "max        3455.000000\n",
      "Name: review_length, dtype: float64\n"
     ]
    }
   ],
   "source": [
    "# Printing the basic statistics of the review lengths\n",
    "print(\"\\nReview Length Statistics:\")\n",
    "print(processed_data['review_length'].describe())"
   ]
  },
  {
   "cell_type": "code",
   "execution_count": 59,
   "metadata": {},
   "outputs": [
    {
     "data": {
      "text/html": [
       "<div>\n",
       "<style scoped>\n",
       "    .dataframe tbody tr th:only-of-type {\n",
       "        vertical-align: middle;\n",
       "    }\n",
       "\n",
       "    .dataframe tbody tr th {\n",
       "        vertical-align: top;\n",
       "    }\n",
       "\n",
       "    .dataframe thead th {\n",
       "        text-align: right;\n",
       "    }\n",
       "</style>\n",
       "<table border=\"1\" class=\"dataframe\">\n",
       "  <thead>\n",
       "    <tr style=\"text-align: right;\">\n",
       "      <th></th>\n",
       "      <th>author_id</th>\n",
       "      <th>skin_type</th>\n",
       "      <th>rating</th>\n",
       "      <th>review_text</th>\n",
       "      <th>total_feedback_count</th>\n",
       "      <th>total_neg_feedback_count</th>\n",
       "      <th>total_pos_feedback_count</th>\n",
       "      <th>product_id</th>\n",
       "      <th>price_usd</th>\n",
       "      <th>product_name</th>\n",
       "      <th>ingredients</th>\n",
       "      <th>highlights</th>\n",
       "      <th>primary_category</th>\n",
       "      <th>secondary_category</th>\n",
       "      <th>processed_review</th>\n",
       "      <th>review_length</th>\n",
       "    </tr>\n",
       "  </thead>\n",
       "  <tbody>\n",
       "    <tr>\n",
       "      <th>0</th>\n",
       "      <td>1741593524</td>\n",
       "      <td>dry</td>\n",
       "      <td>5</td>\n",
       "      <td>I use this with the Nudestix “Citrus Clean Bal...</td>\n",
       "      <td>2</td>\n",
       "      <td>0</td>\n",
       "      <td>2</td>\n",
       "      <td>P504322</td>\n",
       "      <td>19.0</td>\n",
       "      <td>Gentle Hydra-Gel Face Cleanser</td>\n",
       "      <td>['Water (Aqua), Dipropylene Glycol, Peg-6 Capr...</td>\n",
       "      <td>['Clean at Sephora']</td>\n",
       "      <td>Skincare</td>\n",
       "      <td>Cleansers</td>\n",
       "      <td>use nudestix citrus clean balm makeup melt dou...</td>\n",
       "      <td>283</td>\n",
       "    </tr>\n",
       "    <tr>\n",
       "      <th>1</th>\n",
       "      <td>5061282401</td>\n",
       "      <td>dry</td>\n",
       "      <td>5</td>\n",
       "      <td>My review title says it all! I get so excited ...</td>\n",
       "      <td>0</td>\n",
       "      <td>0</td>\n",
       "      <td>0</td>\n",
       "      <td>P420652</td>\n",
       "      <td>24.0</td>\n",
       "      <td>Lip Sleeping Mask Intense Hydration with Vitam...</td>\n",
       "      <td>['Diisostearyl Malate, Hydrogenated Polyisobut...</td>\n",
       "      <td>['allure 2019 Best of Beauty Award Winner', 'C...</td>\n",
       "      <td>Skincare</td>\n",
       "      <td>Lip Balms &amp; Treatments</td>\n",
       "      <td>review title say get excited get bed apply lip...</td>\n",
       "      <td>178</td>\n",
       "    </tr>\n",
       "  </tbody>\n",
       "</table>\n",
       "</div>"
      ],
      "text/plain": [
       "    author_id skin_type  rating  \\\n",
       "0  1741593524       dry       5   \n",
       "1  5061282401       dry       5   \n",
       "\n",
       "                                         review_text  total_feedback_count  \\\n",
       "0  I use this with the Nudestix “Citrus Clean Bal...                     2   \n",
       "1  My review title says it all! I get so excited ...                     0   \n",
       "\n",
       "   total_neg_feedback_count  total_pos_feedback_count product_id  price_usd  \\\n",
       "0                         0                         2    P504322       19.0   \n",
       "1                         0                         0    P420652       24.0   \n",
       "\n",
       "                                        product_name  \\\n",
       "0                     Gentle Hydra-Gel Face Cleanser   \n",
       "1  Lip Sleeping Mask Intense Hydration with Vitam...   \n",
       "\n",
       "                                         ingredients  \\\n",
       "0  ['Water (Aqua), Dipropylene Glycol, Peg-6 Capr...   \n",
       "1  ['Diisostearyl Malate, Hydrogenated Polyisobut...   \n",
       "\n",
       "                                          highlights primary_category  \\\n",
       "0                               ['Clean at Sephora']         Skincare   \n",
       "1  ['allure 2019 Best of Beauty Award Winner', 'C...         Skincare   \n",
       "\n",
       "       secondary_category                                   processed_review  \\\n",
       "0               Cleansers  use nudestix citrus clean balm makeup melt dou...   \n",
       "1  Lip Balms & Treatments  review title say get excited get bed apply lip...   \n",
       "\n",
       "   review_length  \n",
       "0            283  \n",
       "1            178  "
      ]
     },
     "execution_count": 59,
     "metadata": {},
     "output_type": "execute_result"
    }
   ],
   "source": [
    "processed_data.head(2)"
   ]
  },
  {
   "cell_type": "markdown",
   "metadata": {},
   "source": [
    "# **6) Preprocessing the ingredients column**"
   ]
  },
  {
   "cell_type": "code",
   "execution_count": null,
   "metadata": {},
   "outputs": [],
   "source": [
    "# preprocessing the ingredients column\n",
    "def preprocess_ingredients(ingredients_text):\n",
    "    if not isinstance(ingredients_text, str):\n",
    "        return ''\n",
    "    \n",
    "    # Converting the text to lowercase\n",
    "    ingredients_text = ingredients_text.lower()\n",
    "    \n",
    "    # Removing the text within parentheses ()\n",
    "    ingredients_text = re.sub(r'\\([^)]*\\)', '', ingredients_text)\n",
    "    \n",
    "    # Spliting the ingredients by separators\n",
    "    ingredients_list = re.split(r'[,|.]', ingredients_text)\n",
    "    \n",
    "    # Cleaning each ingredient\n",
    "    cleaned_ingredients = []\n",
    "    for ingredient in ingredients_list:\n",
    "        # Removing the special characters and the extra whitespace\n",
    "        ingredient = re.sub(r'[^a-zA-Z\\s]', '', ingredient)\n",
    "        ingredient = ingredient.strip()\n",
    "        \n",
    "        # Only adding the non empty ingredients\n",
    "        if ingredient:\n",
    "            cleaned_ingredients.append(ingredient)\n",
    "    \n",
    "    # Joining the tokens back into a string with a separator\n",
    "    processed_ingredients = ' | '.join(cleaned_ingredients)\n",
    "    \n",
    "    return processed_ingredients"
   ]
  },
  {
   "cell_type": "code",
   "execution_count": null,
   "metadata": {},
   "outputs": [
    {
     "name": "stdout",
     "output_type": "stream",
     "text": [
      "Starting ingredients preprocessing...\n",
      "Ingredients preprocessing completed!\n"
     ]
    }
   ],
   "source": [
    "# Applying preprocessing to the ingredients column\n",
    "print(\"Starting ingredients preprocessing...\")\n",
    "processed_data['processed_ingredients'] = processed_data['ingredients'].apply(preprocess_ingredients)\n",
    "print(\"Ingredients preprocessing completed!\")"
   ]
  },
  {
   "cell_type": "code",
   "execution_count": null,
   "metadata": {},
   "outputs": [
    {
     "name": "stdout",
     "output_type": "stream",
     "text": [
      "\n",
      "Original vs Processed Ingredients Examples:\n",
      "\n",
      "Original: ['Water (Aqua), Dipropylene Glycol, Peg-6 Caprylic/Capric Glycerides, Glycerin, 1,2-Hexanediol, Polyglyceryl-4 Caprate, Butylene Glycol, Carbomer, Propanediol, Tromethamine, Peg-60 Hydrogenated Castor...\n",
      "Processed: water | dipropylene glycol | peg capryliccapric glycerides | glycerin | hexanediol | polyglyceryl caprate | butylene glycol | carbomer | propanediol | tromethamine | peg hydrogenated castor oil | ethy...\n",
      "\n",
      "Original: ['Diisostearyl Malate, Hydrogenated Polyisobutene, Phyto- Steryl/Isostearyl/Cetyl/Stearyl/Behenyl Dimer Dilinoleate, Hydrogenated Poly(C6-14 Olefin), Polybutene, Microcrystalline Wax / Cera Microcrist...\n",
      "Processed: diisostearyl malate | hydrogenated polyisobutene | phyto sterylisostearylcetylstearylbehenyl dimer dilinoleate | hydrogenated poly | polybutene | microcrystalline wax  cera microcristallina  cire micr...\n",
      "\n",
      "Original: ['Diisostearyl Malate, Hydrogenated Polyisobutene, Phyto- Steryl/Isostearyl/Cetyl/Stearyl/Behenyl Dimer Dilinoleate, Hydrogenated Poly(C6-14 Olefin), Polybutene, Microcrystalline Wax / Cera Microcrist...\n",
      "Processed: diisostearyl malate | hydrogenated polyisobutene | phyto sterylisostearylcetylstearylbehenyl dimer dilinoleate | hydrogenated poly | polybutene | microcrystalline wax  cera microcristallina  cire micr...\n"
     ]
    }
   ],
   "source": [
    "# Printing some examples before and after the preprocessing\n",
    "print(\"\\nOriginal vs Processed Ingredients Examples:\")\n",
    "for i in range(3):\n",
    "    print(f\"\\nOriginal: {processed_data['ingredients'].iloc[i][:200]}...\")\n",
    "    print(f\"Processed: {processed_data['processed_ingredients'].iloc[i][:200]}...\")"
   ]
  },
  {
   "cell_type": "code",
   "execution_count": null,
   "metadata": {},
   "outputs": [],
   "source": [
    "# Creating ingredient count feature\n",
    "processed_data['ingredient_count'] = processed_data['processed_ingredients'].apply(lambda x: len(x.split('|')))"
   ]
  },
  {
   "cell_type": "code",
   "execution_count": null,
   "metadata": {},
   "outputs": [
    {
     "name": "stdout",
     "output_type": "stream",
     "text": [
      "\n",
      "Ingredient Count Statistics:\n",
      "count    863473.000000\n",
      "mean         33.008514\n",
      "std          15.328956\n",
      "min           1.000000\n",
      "25%          23.000000\n",
      "50%          33.000000\n",
      "75%          42.000000\n",
      "max         180.000000\n",
      "Name: ingredient_count, dtype: float64\n"
     ]
    }
   ],
   "source": [
    "# Printing the basic statistics of the ingredient count\n",
    "print(\"\\nIngredient Count Statistics:\")\n",
    "print(processed_data['ingredient_count'].describe())"
   ]
  },
  {
   "cell_type": "code",
   "execution_count": null,
   "metadata": {},
   "outputs": [],
   "source": [
    "# analyzing the common ingredients\n",
    "def get_common_ingredients(ingredients_list, n=20):\n",
    "    \"\"\"\n",
    "    Get the n most common ingredients across all products\n",
    "    \"\"\"\n",
    "    all_ingredients = []\n",
    "    for ingredients in ingredients_list:\n",
    "        if isinstance(ingredients, str):\n",
    "            all_ingredients.extend(ingredients.split('|'))\n",
    "    \n",
    "    # Count occurrences\n",
    "    from collections import Counter\n",
    "    ingredient_counts = Counter(all_ingredients)\n",
    "    \n",
    "    return dict(ingredient_counts.most_common(n))"
   ]
  },
  {
   "cell_type": "code",
   "execution_count": null,
   "metadata": {},
   "outputs": [],
   "source": [
    "# Getting the most common ingredients\n",
    "common_ingredients = get_common_ingredients(processed_data['processed_ingredients'])"
   ]
  },
  {
   "cell_type": "code",
   "execution_count": null,
   "metadata": {},
   "outputs": [
    {
     "name": "stdout",
     "output_type": "stream",
     "text": [
      "\n",
      "Most Common Ingredients:\n",
      " glycerin : 639145\n",
      " phenoxyethanol : 438672\n",
      " butylene glycol : 361302\n",
      " propanediol : 335740\n",
      " tocopherol : 331820\n",
      " citric acid : 307119\n",
      " ethylhexylglycerin : 299336\n",
      " sodium hyaluronate : 286355\n",
      " xanthan gum : 280364\n",
      " sodium benzoate : 260912\n",
      " caprylyl glycol : 249653\n",
      " potassium sorbate : 238424\n",
      " polysorbate : 236388\n",
      " sodium hydroxide : 233058\n",
      " capryliccapric triglyceride : 223993\n",
      " tocopheryl acetate : 205190\n",
      " squalane : 190106\n",
      " dimethicone : 188420\n",
      " pentylene glycol : 188215\n",
      "water : 185211\n"
     ]
    }
   ],
   "source": [
    "# Printing the most common ingredients\n",
    "print(\"\\nMost Common Ingredients:\")\n",
    "for ingredient, count in common_ingredients.items():\n",
    "    print(f\"{ingredient}: {count}\")"
   ]
  },
  {
   "cell_type": "code",
   "execution_count": null,
   "metadata": {},
   "outputs": [
    {
     "data": {
      "image/png": "[encoded data removed]",
      "text/plain": [
       "<Figure size 1500x600 with 1 Axes>"
      ]
     },
     "metadata": {},
     "output_type": "display_data"
    }
   ],
   "source": [
    "# Creating a binary features for common ingredients\n",
    "\n",
    "for ingredient in common_ingredients.keys():\n",
    "    processed_data[f'has_{ingredient.replace(\" \", \"_\")}'] = processed_data['processed_ingredients'].apply(\n",
    "        lambda x: 1 if ingredient in x else 0\n",
    "    )\n",
    "\n",
    "# Visualizing the ingredient distribution\n",
    "import matplotlib.pyplot as plt\n",
    "\n",
    "plt.figure(figsize=(15, 6))\n",
    "plt.bar(common_ingredients.keys(), common_ingredients.values())\n",
    "plt.xticks(rotation=45, ha='right')\n",
    "plt.title('Distribution of Most Common Ingredients')\n",
    "plt.xlabel('Ingredient')\n",
    "plt.ylabel('Count')\n",
    "plt.tight_layout()\n",
    "plt.show()"
   ]
  },
  {
   "cell_type": "code",
   "execution_count": 69,
   "metadata": {},
   "outputs": [
    {
     "data": {
      "text/plain": [
       "Index(['author_id', 'skin_type', 'rating', 'review_text',\n",
       "       'total_feedback_count', 'total_neg_feedback_count',\n",
       "       'total_pos_feedback_count', 'product_id', 'price_usd', 'product_name',\n",
       "       'ingredients', 'highlights', 'primary_category', 'secondary_category',\n",
       "       'processed_review', 'review_length', 'processed_ingredients',\n",
       "       'ingredient_count', 'has__glycerin_', 'has__phenoxyethanol_',\n",
       "       'has__butylene_glycol_', 'has__propanediol_', 'has__tocopherol_',\n",
       "       'has__citric_acid_', 'has__ethylhexylglycerin_',\n",
       "       'has__sodium_hyaluronate_', 'has__xanthan_gum_',\n",
       "       'has__sodium_benzoate_', 'has__caprylyl_glycol_',\n",
       "       'has__potassium_sorbate_', 'has__polysorbate_',\n",
       "       'has__sodium_hydroxide_', 'has__capryliccapric_triglyceride_',\n",
       "       'has__tocopheryl_acetate_', 'has__squalane_', 'has__dimethicone_',\n",
       "       'has__pentylene_glycol_', 'has_water_'],\n",
       "      dtype='object')"
      ]
     },
     "execution_count": 69,
     "metadata": {},
     "output_type": "execute_result"
    }
   ],
   "source": [
    "processed_data.columns"
   ]
  },
  {
   "cell_type": "markdown",
   "metadata": {},
   "source": [
    "# **7) saving the data after preprocessing as csv file**"
   ]
  },
  {
   "cell_type": "code",
   "execution_count": null,
   "metadata": {},
   "outputs": [],
   "source": [
    "# # Save the processed dataframe\n",
    "# processed_data.to_csv('processed_data.csv', index=False)"
   ]
  },
  {
   "cell_type": "code",
   "execution_count": 71,
   "metadata": {},
   "outputs": [
    {
     "name": "stderr",
     "output_type": "stream",
     "text": [
      "C:\\Users\\saba2\\AppData\\Local\\Temp\\ipykernel_776\\3087823563.py:1: DtypeWarning:\n",
      "\n",
      "Columns (0) have mixed types. Specify dtype option on import or set low_memory=False.\n",
      "\n"
     ]
    },
    {
     "data": {
      "text/html": [
       "<div>\n",
       "<style scoped>\n",
       "    .dataframe tbody tr th:only-of-type {\n",
       "        vertical-align: middle;\n",
       "    }\n",
       "\n",
       "    .dataframe tbody tr th {\n",
       "        vertical-align: top;\n",
       "    }\n",
       "\n",
       "    .dataframe thead th {\n",
       "        text-align: right;\n",
       "    }\n",
       "</style>\n",
       "<table border=\"1\" class=\"dataframe\">\n",
       "  <thead>\n",
       "    <tr style=\"text-align: right;\">\n",
       "      <th></th>\n",
       "      <th>author_id</th>\n",
       "      <th>skin_type</th>\n",
       "      <th>rating</th>\n",
       "      <th>review_text</th>\n",
       "      <th>total_feedback_count</th>\n",
       "      <th>total_neg_feedback_count</th>\n",
       "      <th>total_pos_feedback_count</th>\n",
       "      <th>product_id</th>\n",
       "      <th>price_usd</th>\n",
       "      <th>product_name</th>\n",
       "      <th>...</th>\n",
       "      <th>has__caprylyl_glycol_</th>\n",
       "      <th>has__potassium_sorbate_</th>\n",
       "      <th>has__polysorbate_</th>\n",
       "      <th>has__sodium_hydroxide_</th>\n",
       "      <th>has__capryliccapric_triglyceride_</th>\n",
       "      <th>has__tocopheryl_acetate_</th>\n",
       "      <th>has__squalane_</th>\n",
       "      <th>has__dimethicone_</th>\n",
       "      <th>has__pentylene_glycol_</th>\n",
       "      <th>has_water_</th>\n",
       "    </tr>\n",
       "  </thead>\n",
       "  <tbody>\n",
       "    <tr>\n",
       "      <th>0</th>\n",
       "      <td>1741593524</td>\n",
       "      <td>dry</td>\n",
       "      <td>5</td>\n",
       "      <td>I use this with the Nudestix “Citrus Clean Bal...</td>\n",
       "      <td>2</td>\n",
       "      <td>0</td>\n",
       "      <td>2</td>\n",
       "      <td>P504322</td>\n",
       "      <td>19.0</td>\n",
       "      <td>Gentle Hydra-Gel Face Cleanser</td>\n",
       "      <td>...</td>\n",
       "      <td>0</td>\n",
       "      <td>0</td>\n",
       "      <td>0</td>\n",
       "      <td>0</td>\n",
       "      <td>0</td>\n",
       "      <td>0</td>\n",
       "      <td>0</td>\n",
       "      <td>0</td>\n",
       "      <td>0</td>\n",
       "      <td>1</td>\n",
       "    </tr>\n",
       "    <tr>\n",
       "      <th>1</th>\n",
       "      <td>5061282401</td>\n",
       "      <td>dry</td>\n",
       "      <td>5</td>\n",
       "      <td>My review title says it all! I get so excited ...</td>\n",
       "      <td>0</td>\n",
       "      <td>0</td>\n",
       "      <td>0</td>\n",
       "      <td>P420652</td>\n",
       "      <td>24.0</td>\n",
       "      <td>Lip Sleeping Mask Intense Hydration with Vitam...</td>\n",
       "      <td>...</td>\n",
       "      <td>0</td>\n",
       "      <td>0</td>\n",
       "      <td>0</td>\n",
       "      <td>0</td>\n",
       "      <td>0</td>\n",
       "      <td>0</td>\n",
       "      <td>0</td>\n",
       "      <td>0</td>\n",
       "      <td>0</td>\n",
       "      <td>1</td>\n",
       "    </tr>\n",
       "  </tbody>\n",
       "</table>\n",
       "<p>2 rows × 38 columns</p>\n",
       "</div>"
      ],
      "text/plain": [
       "    author_id skin_type  rating  \\\n",
       "0  1741593524       dry       5   \n",
       "1  5061282401       dry       5   \n",
       "\n",
       "                                         review_text  total_feedback_count  \\\n",
       "0  I use this with the Nudestix “Citrus Clean Bal...                     2   \n",
       "1  My review title says it all! I get so excited ...                     0   \n",
       "\n",
       "   total_neg_feedback_count  total_pos_feedback_count product_id  price_usd  \\\n",
       "0                         0                         2    P504322       19.0   \n",
       "1                         0                         0    P420652       24.0   \n",
       "\n",
       "                                        product_name  ...  \\\n",
       "0                     Gentle Hydra-Gel Face Cleanser  ...   \n",
       "1  Lip Sleeping Mask Intense Hydration with Vitam...  ...   \n",
       "\n",
       "  has__caprylyl_glycol_ has__potassium_sorbate_ has__polysorbate_  \\\n",
       "0                     0                       0                 0   \n",
       "1                     0                       0                 0   \n",
       "\n",
       "  has__sodium_hydroxide_ has__capryliccapric_triglyceride_  \\\n",
       "0                      0                                 0   \n",
       "1                      0                                 0   \n",
       "\n",
       "   has__tocopheryl_acetate_ has__squalane_  has__dimethicone_  \\\n",
       "0                         0              0                  0   \n",
       "1                         0              0                  0   \n",
       "\n",
       "   has__pentylene_glycol_  has_water_  \n",
       "0                       0           1  \n",
       "1                       0           1  \n",
       "\n",
       "[2 rows x 38 columns]"
      ]
     },
     "execution_count": 71,
     "metadata": {},
     "output_type": "execute_result"
    }
   ],
   "source": [
    "recomend_data = pd.read_csv('processed_data.csv')\n",
    "recomend_data.head(2)"
   ]
  },
  {
   "cell_type": "markdown",
   "metadata": {},
   "source": [
    "-----------------------------------------------------------------------------------------------\n",
    "# **8) Visualizations**"
   ]
  },
  {
   "cell_type": "markdown",
   "metadata": {},
   "source": [
    "# Counting how many products are in the dataset"
   ]
  },
  {
   "cell_type": "code",
   "execution_count": null,
   "metadata": {},
   "outputs": [
    {
     "name": "stdout",
     "output_type": "stream",
     "text": [
      "Number of unique products: 1703\n"
     ]
    }
   ],
   "source": [
    "# Counting the unique products\n",
    "unique_products = recomend_data['product_id'].nunique()\n",
    "print(f\"Number of unique products: {unique_products}\")"
   ]
  },
  {
   "cell_type": "markdown",
   "metadata": {},
   "source": [
    "# Plotting the distribution of the skin types"
   ]
  },
  {
   "cell_type": "code",
   "execution_count": null,
   "metadata": {},
   "outputs": [
    {
     "name": "stdout",
     "output_type": "stream",
     "text": [
      "Skin Type Distribution:\n",
      "\n",
      "Counts:\n",
      "combination    478487\n",
      "dry            163615\n",
      "normal         115803\n",
      "oily           105568\n",
      "Name: skin_type, dtype: int64\n",
      "\n",
      "Percentages:\n",
      "combination    55.414240\n",
      "dry            18.948479\n",
      "normal         13.411305\n",
      "oily           12.225976\n",
      "Name: skin_type, dtype: float64 %\n"
     ]
    },
    {
     "data": {
      "image/png": "[encoded data removed]",
      "text/plain": [
       "<Figure size 1500x600 with 2 Axes>"
      ]
     },
     "metadata": {},
     "output_type": "display_data"
    }
   ],
   "source": [
    "# Geting the count of each skin type\n",
    "skin_type_counts = recomend_data['skin_type'].value_counts()\n",
    "\n",
    "# Printing the counts and percentages\n",
    "print(\"Skin Type Distribution:\")\n",
    "print(\"\\nCounts:\")\n",
    "print(skin_type_counts)\n",
    "print(\"\\nPercentages:\")\n",
    "print(skin_type_counts / len(recomend_data) * 100, \"%\")\n",
    "\n",
    "# Creating a figure with two subplots side by side\n",
    "fig, (ax1, ax2) = plt.subplots(1, 2, figsize=(15, 6))\n",
    "\n",
    "# Bar plot\n",
    "sns.countplot(data=recomend_data, x='skin_type', ax=ax1)\n",
    "ax1.set_title('Skin Type Distribution (Count)')\n",
    "ax1.set_xlabel('Skin Type')\n",
    "ax1.set_ylabel('Count')\n",
    "ax1.tick_params(axis='x', rotation=45)\n",
    "\n",
    "# Pie chart\n",
    "ax2.pie(skin_type_counts.values, \n",
    "        labels=skin_type_counts.index, \n",
    "        autopct='%1.1f%%',\n",
    "        startangle=90)\n",
    "ax2.set_title('Skin Type Distribution (Percentage)')\n",
    "\n",
    "plt.tight_layout()\n",
    "plt.show()"
   ]
  },
  {
   "cell_type": "markdown",
   "metadata": {},
   "source": [
    "### The distribution of the skin types is not balanced, but I don't think that this imbalance will affect the User-Based Collaborative Filtering so much because already each skin type of them has thousands of  reviews:\n",
    "\n",
    "#### **Their Counts:** <li>combination ==> 478487</li><li>dry ========> 163615</li> <li>normal ======> 115803</li> <li>oily ========> 105568</li>"
   ]
  },
  {
   "cell_type": "markdown",
   "metadata": {},
   "source": [
    "----------------------------------------------------------------------------------------\n",
    "# **9) Label encoding**"
   ]
  },
  {
   "cell_type": "code",
   "execution_count": 87,
   "metadata": {},
   "outputs": [
    {
     "name": "stdout",
     "output_type": "stream",
     "text": [
      "<class 'pandas.core.frame.DataFrame'>\n",
      "RangeIndex: 863473 entries, 0 to 863472\n",
      "Data columns (total 38 columns):\n",
      " #   Column                             Non-Null Count   Dtype  \n",
      "---  ------                             --------------   -----  \n",
      " 0   author_id                          863473 non-null  object \n",
      " 1   skin_type                          863473 non-null  object \n",
      " 2   rating                             863473 non-null  int64  \n",
      " 3   review_text                        863473 non-null  object \n",
      " 4   total_feedback_count               863473 non-null  int64  \n",
      " 5   total_neg_feedback_count           863473 non-null  int64  \n",
      " 6   total_pos_feedback_count           863473 non-null  int64  \n",
      " 7   product_id                         863473 non-null  object \n",
      " 8   price_usd                          863473 non-null  float64\n",
      " 9   product_name                       863473 non-null  object \n",
      " 10  ingredients                        863473 non-null  object \n",
      " 11  highlights                         863473 non-null  object \n",
      " 12  primary_category                   863473 non-null  object \n",
      " 13  secondary_category                 863473 non-null  object \n",
      " 14  processed_review                   863464 non-null  object \n",
      " 15  review_length                      863473 non-null  int64  \n",
      " 16  processed_ingredients              863473 non-null  object \n",
      " 17  ingredient_count                   863473 non-null  int64  \n",
      " 18  has__glycerin_                     863473 non-null  int64  \n",
      " 19  has__phenoxyethanol_               863473 non-null  int64  \n",
      " 20  has__butylene_glycol_              863473 non-null  int64  \n",
      " 21  has__propanediol_                  863473 non-null  int64  \n",
      " 22  has__tocopherol_                   863473 non-null  int64  \n",
      " 23  has__citric_acid_                  863473 non-null  int64  \n",
      " 24  has__ethylhexylglycerin_           863473 non-null  int64  \n",
      " 25  has__sodium_hyaluronate_           863473 non-null  int64  \n",
      " 26  has__xanthan_gum_                  863473 non-null  int64  \n",
      " 27  has__sodium_benzoate_              863473 non-null  int64  \n",
      " 28  has__caprylyl_glycol_              863473 non-null  int64  \n",
      " 29  has__potassium_sorbate_            863473 non-null  int64  \n",
      " 30  has__polysorbate_                  863473 non-null  int64  \n",
      " 31  has__sodium_hydroxide_             863473 non-null  int64  \n",
      " 32  has__capryliccapric_triglyceride_  863473 non-null  int64  \n",
      " 33  has__tocopheryl_acetate_           863473 non-null  int64  \n",
      " 34  has__squalane_                     863473 non-null  int64  \n",
      " 35  has__dimethicone_                  863473 non-null  int64  \n",
      " 36  has__pentylene_glycol_             863473 non-null  int64  \n",
      " 37  has_water_                         863473 non-null  int64  \n",
      "dtypes: float64(1), int64(26), object(11)\n",
      "memory usage: 250.3+ MB\n"
     ]
    }
   ],
   "source": [
    "recomend_data.info()"
   ]
  },
  {
   "cell_type": "markdown",
   "metadata": {},
   "source": [
    "### **1) Onehot encoding for the skin types**"
   ]
  },
  {
   "cell_type": "code",
   "execution_count": null,
   "metadata": {},
   "outputs": [
    {
     "name": "stderr",
     "output_type": "stream",
     "text": [
      "c:\\Users\\saba2\\anaconda3\\lib\\site-packages\\sklearn\\preprocessing\\_encoders.py:828: FutureWarning:\n",
      "\n",
      "`sparse` was renamed to `sparse_output` in version 1.2 and will be removed in 1.4. `sparse_output` is ignored unless you leave `sparse` to its default value.\n",
      "\n"
     ]
    },
    {
     "data": {
      "text/html": [
       "<div>\n",
       "<style scoped>\n",
       "    .dataframe tbody tr th:only-of-type {\n",
       "        vertical-align: middle;\n",
       "    }\n",
       "\n",
       "    .dataframe tbody tr th {\n",
       "        vertical-align: top;\n",
       "    }\n",
       "\n",
       "    .dataframe thead th {\n",
       "        text-align: right;\n",
       "    }\n",
       "</style>\n",
       "<table border=\"1\" class=\"dataframe\">\n",
       "  <thead>\n",
       "    <tr style=\"text-align: right;\">\n",
       "      <th></th>\n",
       "      <th>author_id</th>\n",
       "      <th>skin_type</th>\n",
       "      <th>rating</th>\n",
       "      <th>review_text</th>\n",
       "      <th>total_feedback_count</th>\n",
       "      <th>total_neg_feedback_count</th>\n",
       "      <th>total_pos_feedback_count</th>\n",
       "      <th>product_id</th>\n",
       "      <th>price_usd</th>\n",
       "      <th>product_name</th>\n",
       "      <th>...</th>\n",
       "      <th>has__capryliccapric_triglyceride_</th>\n",
       "      <th>has__tocopheryl_acetate_</th>\n",
       "      <th>has__squalane_</th>\n",
       "      <th>has__dimethicone_</th>\n",
       "      <th>has__pentylene_glycol_</th>\n",
       "      <th>has_water_</th>\n",
       "      <th>skin_type_combination</th>\n",
       "      <th>skin_type_dry</th>\n",
       "      <th>skin_type_normal</th>\n",
       "      <th>skin_type_oily</th>\n",
       "    </tr>\n",
       "  </thead>\n",
       "  <tbody>\n",
       "    <tr>\n",
       "      <th>0</th>\n",
       "      <td>1741593524</td>\n",
       "      <td>dry</td>\n",
       "      <td>5</td>\n",
       "      <td>I use this with the Nudestix “Citrus Clean Bal...</td>\n",
       "      <td>2</td>\n",
       "      <td>0</td>\n",
       "      <td>2</td>\n",
       "      <td>P504322</td>\n",
       "      <td>19.0</td>\n",
       "      <td>Gentle Hydra-Gel Face Cleanser</td>\n",
       "      <td>...</td>\n",
       "      <td>0</td>\n",
       "      <td>0</td>\n",
       "      <td>0</td>\n",
       "      <td>0</td>\n",
       "      <td>0</td>\n",
       "      <td>1</td>\n",
       "      <td>0.0</td>\n",
       "      <td>1.0</td>\n",
       "      <td>0.0</td>\n",
       "      <td>0.0</td>\n",
       "    </tr>\n",
       "    <tr>\n",
       "      <th>1</th>\n",
       "      <td>5061282401</td>\n",
       "      <td>dry</td>\n",
       "      <td>5</td>\n",
       "      <td>My review title says it all! I get so excited ...</td>\n",
       "      <td>0</td>\n",
       "      <td>0</td>\n",
       "      <td>0</td>\n",
       "      <td>P420652</td>\n",
       "      <td>24.0</td>\n",
       "      <td>Lip Sleeping Mask Intense Hydration with Vitam...</td>\n",
       "      <td>...</td>\n",
       "      <td>0</td>\n",
       "      <td>0</td>\n",
       "      <td>0</td>\n",
       "      <td>0</td>\n",
       "      <td>0</td>\n",
       "      <td>1</td>\n",
       "      <td>0.0</td>\n",
       "      <td>1.0</td>\n",
       "      <td>0.0</td>\n",
       "      <td>0.0</td>\n",
       "    </tr>\n",
       "    <tr>\n",
       "      <th>2</th>\n",
       "      <td>6083038851</td>\n",
       "      <td>combination</td>\n",
       "      <td>5</td>\n",
       "      <td>I’ve always loved this formula for a long time...</td>\n",
       "      <td>0</td>\n",
       "      <td>0</td>\n",
       "      <td>0</td>\n",
       "      <td>P420652</td>\n",
       "      <td>24.0</td>\n",
       "      <td>Lip Sleeping Mask Intense Hydration with Vitam...</td>\n",
       "      <td>...</td>\n",
       "      <td>0</td>\n",
       "      <td>0</td>\n",
       "      <td>0</td>\n",
       "      <td>0</td>\n",
       "      <td>0</td>\n",
       "      <td>1</td>\n",
       "      <td>1.0</td>\n",
       "      <td>0.0</td>\n",
       "      <td>0.0</td>\n",
       "      <td>0.0</td>\n",
       "    </tr>\n",
       "    <tr>\n",
       "      <th>3</th>\n",
       "      <td>47056667835</td>\n",
       "      <td>combination</td>\n",
       "      <td>5</td>\n",
       "      <td>If you have dry cracked lips, this is a must h...</td>\n",
       "      <td>0</td>\n",
       "      <td>0</td>\n",
       "      <td>0</td>\n",
       "      <td>P420652</td>\n",
       "      <td>24.0</td>\n",
       "      <td>Lip Sleeping Mask Intense Hydration with Vitam...</td>\n",
       "      <td>...</td>\n",
       "      <td>0</td>\n",
       "      <td>0</td>\n",
       "      <td>0</td>\n",
       "      <td>0</td>\n",
       "      <td>0</td>\n",
       "      <td>1</td>\n",
       "      <td>1.0</td>\n",
       "      <td>0.0</td>\n",
       "      <td>0.0</td>\n",
       "      <td>0.0</td>\n",
       "    </tr>\n",
       "    <tr>\n",
       "      <th>4</th>\n",
       "      <td>42802569154</td>\n",
       "      <td>normal</td>\n",
       "      <td>4</td>\n",
       "      <td>The scent isn’t my favourite but it works grea...</td>\n",
       "      <td>1</td>\n",
       "      <td>0</td>\n",
       "      <td>1</td>\n",
       "      <td>P420652</td>\n",
       "      <td>24.0</td>\n",
       "      <td>Lip Sleeping Mask Intense Hydration with Vitam...</td>\n",
       "      <td>...</td>\n",
       "      <td>0</td>\n",
       "      <td>0</td>\n",
       "      <td>0</td>\n",
       "      <td>0</td>\n",
       "      <td>0</td>\n",
       "      <td>1</td>\n",
       "      <td>0.0</td>\n",
       "      <td>0.0</td>\n",
       "      <td>1.0</td>\n",
       "      <td>0.0</td>\n",
       "    </tr>\n",
       "  </tbody>\n",
       "</table>\n",
       "<p>5 rows × 42 columns</p>\n",
       "</div>"
      ],
      "text/plain": [
       "     author_id    skin_type  rating  \\\n",
       "0   1741593524          dry       5   \n",
       "1   5061282401          dry       5   \n",
       "2   6083038851  combination       5   \n",
       "3  47056667835  combination       5   \n",
       "4  42802569154       normal       4   \n",
       "\n",
       "                                         review_text  total_feedback_count  \\\n",
       "0  I use this with the Nudestix “Citrus Clean Bal...                     2   \n",
       "1  My review title says it all! I get so excited ...                     0   \n",
       "2  I’ve always loved this formula for a long time...                     0   \n",
       "3  If you have dry cracked lips, this is a must h...                     0   \n",
       "4  The scent isn’t my favourite but it works grea...                     1   \n",
       "\n",
       "   total_neg_feedback_count  total_pos_feedback_count product_id  price_usd  \\\n",
       "0                         0                         2    P504322       19.0   \n",
       "1                         0                         0    P420652       24.0   \n",
       "2                         0                         0    P420652       24.0   \n",
       "3                         0                         0    P420652       24.0   \n",
       "4                         0                         1    P420652       24.0   \n",
       "\n",
       "                                        product_name  ...  \\\n",
       "0                     Gentle Hydra-Gel Face Cleanser  ...   \n",
       "1  Lip Sleeping Mask Intense Hydration with Vitam...  ...   \n",
       "2  Lip Sleeping Mask Intense Hydration with Vitam...  ...   \n",
       "3  Lip Sleeping Mask Intense Hydration with Vitam...  ...   \n",
       "4  Lip Sleeping Mask Intense Hydration with Vitam...  ...   \n",
       "\n",
       "  has__capryliccapric_triglyceride_ has__tocopheryl_acetate_ has__squalane_  \\\n",
       "0                                 0                        0              0   \n",
       "1                                 0                        0              0   \n",
       "2                                 0                        0              0   \n",
       "3                                 0                        0              0   \n",
       "4                                 0                        0              0   \n",
       "\n",
       "  has__dimethicone_ has__pentylene_glycol_  has_water_ skin_type_combination  \\\n",
       "0                 0                      0           1                   0.0   \n",
       "1                 0                      0           1                   0.0   \n",
       "2                 0                      0           1                   1.0   \n",
       "3                 0                      0           1                   1.0   \n",
       "4                 0                      0           1                   0.0   \n",
       "\n",
       "   skin_type_dry  skin_type_normal  skin_type_oily  \n",
       "0            1.0               0.0             0.0  \n",
       "1            1.0               0.0             0.0  \n",
       "2            0.0               0.0             0.0  \n",
       "3            0.0               0.0             0.0  \n",
       "4            0.0               1.0             0.0  \n",
       "\n",
       "[5 rows x 42 columns]"
      ]
     },
     "execution_count": 88,
     "metadata": {},
     "output_type": "execute_result"
    }
   ],
   "source": [
    "# Creating a copy of the dataframe\n",
    "encoded_data = recomend_data.copy()\n",
    "\n",
    "# Initializing the OneHotEncoder\n",
    "encoder = OneHotEncoder(sparse=False)  # sparse=False to get a dense array instead of sparse matrix\n",
    "\n",
    "# Reshaping the the skin_type column because OneHotEncoder expects 2D array\n",
    "skin_type_encoded = encoder.fit_transform(encoded_data[['skin_type']])\n",
    "\n",
    "# Creating a dataframe with the encoded values\n",
    "skin_type_encoded_df = pd.DataFrame(\n",
    "    skin_type_encoded, \n",
    "    columns=encoder.get_feature_names_out(['skin_type']),\n",
    "    index=encoded_data.index\n",
    ")\n",
    "\n",
    "# Adding the encoded columns to the original dataframe\n",
    "encoded_data = pd.concat([encoded_data, skin_type_encoded_df], axis=1)\n",
    "\n",
    "# Verifying the encoding\n",
    "encoded_data.head()"
   ]
  },
  {
   "cell_type": "code",
   "execution_count": 89,
   "metadata": {},
   "outputs": [
    {
     "data": {
      "text/plain": [
       "(863473, 42)"
      ]
     },
     "execution_count": 89,
     "metadata": {},
     "output_type": "execute_result"
    }
   ],
   "source": [
    "encoded_data.shape"
   ]
  },
  {
   "cell_type": "code",
   "execution_count": 90,
   "metadata": {},
   "outputs": [
    {
     "data": {
      "text/plain": [
       "Index(['author_id', 'skin_type', 'rating', 'review_text',\n",
       "       'total_feedback_count', 'total_neg_feedback_count',\n",
       "       'total_pos_feedback_count', 'product_id', 'price_usd', 'product_name',\n",
       "       'ingredients', 'highlights', 'primary_category', 'secondary_category',\n",
       "       'processed_review', 'review_length', 'processed_ingredients',\n",
       "       'ingredient_count', 'has__glycerin_', 'has__phenoxyethanol_',\n",
       "       'has__butylene_glycol_', 'has__propanediol_', 'has__tocopherol_',\n",
       "       'has__citric_acid_', 'has__ethylhexylglycerin_',\n",
       "       'has__sodium_hyaluronate_', 'has__xanthan_gum_',\n",
       "       'has__sodium_benzoate_', 'has__caprylyl_glycol_',\n",
       "       'has__potassium_sorbate_', 'has__polysorbate_',\n",
       "       'has__sodium_hydroxide_', 'has__capryliccapric_triglyceride_',\n",
       "       'has__tocopheryl_acetate_', 'has__squalane_', 'has__dimethicone_',\n",
       "       'has__pentylene_glycol_', 'has_water_', 'skin_type_combination',\n",
       "       'skin_type_dry', 'skin_type_normal', 'skin_type_oily'],\n",
       "      dtype='object')"
      ]
     },
     "execution_count": 90,
     "metadata": {},
     "output_type": "execute_result"
    }
   ],
   "source": [
    "encoded_data.columns"
   ]
  },
  {
   "cell_type": "code",
   "execution_count": 91,
   "metadata": {},
   "outputs": [
    {
     "data": {
      "text/plain": [
       "Index(['author_id', 'rating', 'review_text', 'total_feedback_count',\n",
       "       'total_neg_feedback_count', 'total_pos_feedback_count', 'product_id',\n",
       "       'price_usd', 'product_name', 'ingredients', 'highlights',\n",
       "       'primary_category', 'secondary_category', 'processed_review',\n",
       "       'review_length', 'processed_ingredients', 'ingredient_count',\n",
       "       'has__glycerin_', 'has__phenoxyethanol_', 'has__butylene_glycol_',\n",
       "       'has__propanediol_', 'has__tocopherol_', 'has__citric_acid_',\n",
       "       'has__ethylhexylglycerin_', 'has__sodium_hyaluronate_',\n",
       "       'has__xanthan_gum_', 'has__sodium_benzoate_', 'has__caprylyl_glycol_',\n",
       "       'has__potassium_sorbate_', 'has__polysorbate_',\n",
       "       'has__sodium_hydroxide_', 'has__capryliccapric_triglyceride_',\n",
       "       'has__tocopheryl_acetate_', 'has__squalane_', 'has__dimethicone_',\n",
       "       'has__pentylene_glycol_', 'has_water_', 'skin_type_combination',\n",
       "       'skin_type_dry', 'skin_type_normal', 'skin_type_oily'],\n",
       "      dtype='object')"
      ]
     },
     "execution_count": 91,
     "metadata": {},
     "output_type": "execute_result"
    }
   ],
   "source": [
    "encoded_data.drop(columns = \"skin_type\", inplace= True)\n",
    "encoded_data.columns"
   ]
  },
  {
   "cell_type": "code",
   "execution_count": 92,
   "metadata": {},
   "outputs": [
    {
     "data": {
      "text/plain": [
       "Index(['rating', 'review_text', 'total_feedback_count',\n",
       "       'total_neg_feedback_count', 'total_pos_feedback_count', 'product_id',\n",
       "       'price_usd', 'product_name', 'ingredients', 'highlights',\n",
       "       'primary_category', 'secondary_category', 'processed_review',\n",
       "       'review_length', 'processed_ingredients', 'ingredient_count',\n",
       "       'has__glycerin_', 'has__phenoxyethanol_', 'has__butylene_glycol_',\n",
       "       'has__propanediol_', 'has__tocopherol_', 'has__citric_acid_',\n",
       "       'has__ethylhexylglycerin_', 'has__sodium_hyaluronate_',\n",
       "       'has__xanthan_gum_', 'has__sodium_benzoate_', 'has__caprylyl_glycol_',\n",
       "       'has__potassium_sorbate_', 'has__polysorbate_',\n",
       "       'has__sodium_hydroxide_', 'has__capryliccapric_triglyceride_',\n",
       "       'has__tocopheryl_acetate_', 'has__squalane_', 'has__dimethicone_',\n",
       "       'has__pentylene_glycol_', 'has_water_', 'skin_type_combination',\n",
       "       'skin_type_dry', 'skin_type_normal', 'skin_type_oily'],\n",
       "      dtype='object')"
      ]
     },
     "execution_count": 92,
     "metadata": {},
     "output_type": "execute_result"
    }
   ],
   "source": [
    "encoded_data.drop(columns = \"author_id\", inplace= True)\n",
    "encoded_data.columns"
   ]
  },
  {
   "cell_type": "code",
   "execution_count": 93,
   "metadata": {},
   "outputs": [
    {
     "data": {
      "text/plain": [
       "(863473, 40)"
      ]
     },
     "execution_count": 93,
     "metadata": {},
     "output_type": "execute_result"
    }
   ],
   "source": [
    "encoded_data.shape"
   ]
  },
  {
   "cell_type": "code",
   "execution_count": 94,
   "metadata": {},
   "outputs": [
    {
     "data": {
      "text/plain": [
       "array(['Cleansers', 'Lip Balms & Treatments', 'Moisturizers',\n",
       "       'Treatments', 'Mini Size', 'Masks', 'Sunscreen', 'Self Tanners',\n",
       "       'Eye Care', 'Wellness'], dtype=object)"
      ]
     },
     "execution_count": 94,
     "metadata": {},
     "output_type": "execute_result"
    }
   ],
   "source": [
    "encoded_data['secondary_category'].unique()"
   ]
  },
  {
   "cell_type": "markdown",
   "metadata": {},
   "source": [
    "<font size = \"20\" color = \"green\">============================</font>"
   ]
  },
  {
   "cell_type": "markdown",
   "metadata": {},
   "source": [
    "## But the 'Mini Size' category doesn't represent any product type, so I will need to handel it"
   ]
  },
  {
   "cell_type": "markdown",
   "metadata": {},
   "source": [
    "# First lets take copy of the recomend_data to handle the mini size category"
   ]
  },
  {
   "cell_type": "code",
   "execution_count": 97,
   "metadata": {},
   "outputs": [],
   "source": [
    "mini_test_df = encoded_data.copy()"
   ]
  },
  {
   "cell_type": "code",
   "execution_count": 98,
   "metadata": {},
   "outputs": [
    {
     "data": {
      "text/plain": [
       "Index(['rating', 'review_text', 'total_feedback_count',\n",
       "       'total_neg_feedback_count', 'total_pos_feedback_count', 'product_id',\n",
       "       'price_usd', 'product_name', 'ingredients', 'highlights',\n",
       "       'primary_category', 'secondary_category', 'processed_review',\n",
       "       'review_length', 'processed_ingredients', 'ingredient_count',\n",
       "       'has__glycerin_', 'has__phenoxyethanol_', 'has__butylene_glycol_',\n",
       "       'has__propanediol_', 'has__tocopherol_', 'has__citric_acid_',\n",
       "       'has__ethylhexylglycerin_', 'has__sodium_hyaluronate_',\n",
       "       'has__xanthan_gum_', 'has__sodium_benzoate_', 'has__caprylyl_glycol_',\n",
       "       'has__potassium_sorbate_', 'has__polysorbate_',\n",
       "       'has__sodium_hydroxide_', 'has__capryliccapric_triglyceride_',\n",
       "       'has__tocopheryl_acetate_', 'has__squalane_', 'has__dimethicone_',\n",
       "       'has__pentylene_glycol_', 'has_water_', 'skin_type_combination',\n",
       "       'skin_type_dry', 'skin_type_normal', 'skin_type_oily'],\n",
       "      dtype='object')"
      ]
     },
     "execution_count": 98,
     "metadata": {},
     "output_type": "execute_result"
    }
   ],
   "source": [
    "mini_test_df.columns"
   ]
  },
  {
   "cell_type": "code",
   "execution_count": 99,
   "metadata": {},
   "outputs": [
    {
     "name": "stdout",
     "output_type": "stream",
     "text": [
      "<class 'pandas.core.frame.DataFrame'>\n",
      "RangeIndex: 863473 entries, 0 to 863472\n",
      "Data columns (total 40 columns):\n",
      " #   Column                             Non-Null Count   Dtype  \n",
      "---  ------                             --------------   -----  \n",
      " 0   rating                             863473 non-null  int64  \n",
      " 1   review_text                        863473 non-null  object \n",
      " 2   total_feedback_count               863473 non-null  int64  \n",
      " 3   total_neg_feedback_count           863473 non-null  int64  \n",
      " 4   total_pos_feedback_count           863473 non-null  int64  \n",
      " 5   product_id                         863473 non-null  object \n",
      " 6   price_usd                          863473 non-null  float64\n",
      " 7   product_name                       863473 non-null  object \n",
      " 8   ingredients                        863473 non-null  object \n",
      " 9   highlights                         863473 non-null  object \n",
      " 10  primary_category                   863473 non-null  object \n",
      " 11  secondary_category                 863473 non-null  object \n",
      " 12  processed_review                   863464 non-null  object \n",
      " 13  review_length                      863473 non-null  int64  \n",
      " 14  processed_ingredients              863473 non-null  object \n",
      " 15  ingredient_count                   863473 non-null  int64  \n",
      " 16  has__glycerin_                     863473 non-null  int64  \n",
      " 17  has__phenoxyethanol_               863473 non-null  int64  \n",
      " 18  has__butylene_glycol_              863473 non-null  int64  \n",
      " 19  has__propanediol_                  863473 non-null  int64  \n",
      " 20  has__tocopherol_                   863473 non-null  int64  \n",
      " 21  has__citric_acid_                  863473 non-null  int64  \n",
      " 22  has__ethylhexylglycerin_           863473 non-null  int64  \n",
      " 23  has__sodium_hyaluronate_           863473 non-null  int64  \n",
      " 24  has__xanthan_gum_                  863473 non-null  int64  \n",
      " 25  has__sodium_benzoate_              863473 non-null  int64  \n",
      " 26  has__caprylyl_glycol_              863473 non-null  int64  \n",
      " 27  has__potassium_sorbate_            863473 non-null  int64  \n",
      " 28  has__polysorbate_                  863473 non-null  int64  \n",
      " 29  has__sodium_hydroxide_             863473 non-null  int64  \n",
      " 30  has__capryliccapric_triglyceride_  863473 non-null  int64  \n",
      " 31  has__tocopheryl_acetate_           863473 non-null  int64  \n",
      " 32  has__squalane_                     863473 non-null  int64  \n",
      " 33  has__dimethicone_                  863473 non-null  int64  \n",
      " 34  has__pentylene_glycol_             863473 non-null  int64  \n",
      " 35  has_water_                         863473 non-null  int64  \n",
      " 36  skin_type_combination              863473 non-null  float64\n",
      " 37  skin_type_dry                      863473 non-null  float64\n",
      " 38  skin_type_normal                   863473 non-null  float64\n",
      " 39  skin_type_oily                     863473 non-null  float64\n",
      "dtypes: float64(5), int64(26), object(9)\n",
      "memory usage: 263.5+ MB\n"
     ]
    }
   ],
   "source": [
    "mini_test_df.info()"
   ]
  },
  {
   "cell_type": "markdown",
   "metadata": {},
   "source": [
    "\n",
    "### I can handle this by finding products labeled as \"Mini Size\" and checking if there are products with the same product_name but a different secondary_category. If a match is found, update the \"Mini Size\" category with the corresponding category."
   ]
  },
  {
   "cell_type": "code",
   "execution_count": null,
   "metadata": {},
   "outputs": [
    {
     "name": "stdout",
     "output_type": "stream",
     "text": [
      "Number of rows with 'Mini Size' category: 77852\n",
      "Percentage of 'Mini Size' rows: 9.02%\n"
     ]
    }
   ],
   "source": [
    "# Counting the  rows where secondary_category is 'Mini Size'\n",
    "mini_size_count = len(mini_test_df[mini_test_df['secondary_category'] == 'Mini Size'])\n",
    "print(f\"Number of rows with 'Mini Size' category: {mini_size_count}\")\n",
    "\n",
    "# Calculating their percentage of the total rows\n",
    "total_rows = len(mini_test_df)\n",
    "percentage = (mini_size_count / total_rows) * 100\n",
    "print(f\"Percentage of 'Mini Size' rows: {percentage:.2f}%\")"
   ]
  },
  {
   "cell_type": "code",
   "execution_count": null,
   "metadata": {},
   "outputs": [
    {
     "name": "stdout",
     "output_type": "stream",
     "text": [
      "Updated category distribution:\n",
      "Moisturizers              229173\n",
      "Treatments                192003\n",
      "Cleansers                 160834\n",
      "Mini Size                  76726\n",
      "Eye Care                   56315\n",
      "Masks                      49645\n",
      "Lip Balms & Treatments     46004\n",
      "Sunscreen                  34835\n",
      "Self Tanners               10820\n",
      "Wellness                    7118\n",
      "Name: secondary_category, dtype: int64\n",
      "\n",
      "Remaining Mini Size items: 76726\n",
      "Percentage of remaining Mini Size items: 8.89%\n"
     ]
    }
   ],
   "source": [
    "# Creating a mapping of product names to their most common category (but I will exclude the Mini Size)\n",
    "category_mapping = (\n",
    "    mini_test_df[mini_test_df['secondary_category'] != 'Mini Size']\n",
    "    .groupby('product_name')['secondary_category']\n",
    "    .agg(lambda x: x.mode()[0] if not x.empty else None)\n",
    "    .to_dict()\n",
    ")\n",
    "\n",
    "# Replacing the Mini Size categories with the corresponding ones\n",
    "mini_size_mask = mini_test_df['secondary_category'] == 'Mini Size'\n",
    "mini_test_df.loc[mini_size_mask, 'secondary_category'] = (\n",
    "    mini_test_df.loc[mini_size_mask, 'product_name']\n",
    "    .map(lambda x: category_mapping.get(x, 'Mini Size'))\n",
    ")\n",
    "\n",
    "# Checking the results\n",
    "print(\"Updated category distribution:\")\n",
    "print(mini_test_df['secondary_category'].value_counts())\n",
    "\n",
    "# Checking how many Mini Size items remain\n",
    "remaining_mini = (mini_test_df['secondary_category'] == 'Mini Size').sum()\n",
    "print(f\"\\nRemaining Mini Size items: {remaining_mini}\")\n",
    "print(f\"Percentage of remaining Mini Size items: {(remaining_mini/len(mini_test_df))*100:.2f}%\")"
   ]
  },
  {
   "cell_type": "code",
   "execution_count": 102,
   "metadata": {},
   "outputs": [
    {
     "data": {
      "text/plain": [
       "1126"
      ]
     },
     "execution_count": 102,
     "metadata": {},
     "output_type": "execute_result"
    }
   ],
   "source": [
    "77852-76726"
   ]
  },
  {
   "cell_type": "markdown",
   "metadata": {},
   "source": [
    "<font size = \"5\"><b>Only <font color = \"red\">1126</font> products out of <font color = \"red\">77852</font> products are changed from mini size to another category (still there <font color = \"red\">76726</font> products with Mini Size category)</b></font> "
   ]
  },
  {
   "cell_type": "code",
   "execution_count": 103,
   "metadata": {},
   "outputs": [
    {
     "data": {
      "text/plain": [
       "Index(['rating', 'review_text', 'total_feedback_count',\n",
       "       'total_neg_feedback_count', 'total_pos_feedback_count', 'product_id',\n",
       "       'price_usd', 'product_name', 'ingredients', 'highlights',\n",
       "       'primary_category', 'secondary_category', 'processed_review',\n",
       "       'review_length', 'processed_ingredients', 'ingredient_count',\n",
       "       'has__glycerin_', 'has__phenoxyethanol_', 'has__butylene_glycol_',\n",
       "       'has__propanediol_', 'has__tocopherol_', 'has__citric_acid_',\n",
       "       'has__ethylhexylglycerin_', 'has__sodium_hyaluronate_',\n",
       "       'has__xanthan_gum_', 'has__sodium_benzoate_', 'has__caprylyl_glycol_',\n",
       "       'has__potassium_sorbate_', 'has__polysorbate_',\n",
       "       'has__sodium_hydroxide_', 'has__capryliccapric_triglyceride_',\n",
       "       'has__tocopheryl_acetate_', 'has__squalane_', 'has__dimethicone_',\n",
       "       'has__pentylene_glycol_', 'has_water_', 'skin_type_combination',\n",
       "       'skin_type_dry', 'skin_type_normal', 'skin_type_oily'],\n",
       "      dtype='object')"
      ]
     },
     "execution_count": 103,
     "metadata": {},
     "output_type": "execute_result"
    }
   ],
   "source": [
    "mini_test_df.columns"
   ]
  },
  {
   "cell_type": "code",
   "execution_count": 104,
   "metadata": {},
   "outputs": [
    {
     "data": {
      "text/plain": [
       "array(['Cleansers', 'Lip Balms & Treatments', 'Moisturizers',\n",
       "       'Treatments', 'Mini Size', 'Masks', 'Sunscreen', 'Self Tanners',\n",
       "       'Eye Care', 'Wellness'], dtype=object)"
      ]
     },
     "execution_count": 104,
     "metadata": {},
     "output_type": "execute_result"
    }
   ],
   "source": [
    "mini_test_df[\"secondary_category\"].unique()"
   ]
  },
  {
   "cell_type": "code",
   "execution_count": 105,
   "metadata": {},
   "outputs": [
    {
     "data": {
      "text/plain": [
       "Index(['rating', 'review_text', 'total_feedback_count',\n",
       "       'total_neg_feedback_count', 'total_pos_feedback_count', 'product_id',\n",
       "       'price_usd', 'product_name', 'ingredients', 'highlights',\n",
       "       'primary_category', 'secondary_category', 'processed_review',\n",
       "       'review_length', 'processed_ingredients', 'ingredient_count',\n",
       "       'has__glycerin_', 'has__phenoxyethanol_', 'has__butylene_glycol_',\n",
       "       'has__propanediol_', 'has__tocopherol_', 'has__citric_acid_',\n",
       "       'has__ethylhexylglycerin_', 'has__sodium_hyaluronate_',\n",
       "       'has__xanthan_gum_', 'has__sodium_benzoate_', 'has__caprylyl_glycol_',\n",
       "       'has__potassium_sorbate_', 'has__polysorbate_',\n",
       "       'has__sodium_hydroxide_', 'has__capryliccapric_triglyceride_',\n",
       "       'has__tocopheryl_acetate_', 'has__squalane_', 'has__dimethicone_',\n",
       "       'has__pentylene_glycol_', 'has_water_', 'skin_type_combination',\n",
       "       'skin_type_dry', 'skin_type_normal', 'skin_type_oily'],\n",
       "      dtype='object')"
      ]
     },
     "execution_count": 105,
     "metadata": {},
     "output_type": "execute_result"
    }
   ],
   "source": [
    "encoded_data.columns"
   ]
  },
  {
   "cell_type": "markdown",
   "metadata": {},
   "source": [
    "# Now Lets take a Copy of the \"encoded_data\" data frame"
   ]
  },
  {
   "cell_type": "code",
   "execution_count": 106,
   "metadata": {},
   "outputs": [
    {
     "name": "stdout",
     "output_type": "stream",
     "text": [
      "<class 'pandas.core.frame.DataFrame'>\n",
      "RangeIndex: 863473 entries, 0 to 863472\n",
      "Data columns (total 40 columns):\n",
      " #   Column                             Non-Null Count   Dtype  \n",
      "---  ------                             --------------   -----  \n",
      " 0   rating                             863473 non-null  int64  \n",
      " 1   review_text                        863473 non-null  object \n",
      " 2   total_feedback_count               863473 non-null  int64  \n",
      " 3   total_neg_feedback_count           863473 non-null  int64  \n",
      " 4   total_pos_feedback_count           863473 non-null  int64  \n",
      " 5   product_id                         863473 non-null  object \n",
      " 6   price_usd                          863473 non-null  float64\n",
      " 7   product_name                       863473 non-null  object \n",
      " 8   ingredients                        863473 non-null  object \n",
      " 9   highlights                         863473 non-null  object \n",
      " 10  primary_category                   863473 non-null  object \n",
      " 11  secondary_category                 863473 non-null  object \n",
      " 12  processed_review                   863464 non-null  object \n",
      " 13  review_length                      863473 non-null  int64  \n",
      " 14  processed_ingredients              863473 non-null  object \n",
      " 15  ingredient_count                   863473 non-null  int64  \n",
      " 16  has__glycerin_                     863473 non-null  int64  \n",
      " 17  has__phenoxyethanol_               863473 non-null  int64  \n",
      " 18  has__butylene_glycol_              863473 non-null  int64  \n",
      " 19  has__propanediol_                  863473 non-null  int64  \n",
      " 20  has__tocopherol_                   863473 non-null  int64  \n",
      " 21  has__citric_acid_                  863473 non-null  int64  \n",
      " 22  has__ethylhexylglycerin_           863473 non-null  int64  \n",
      " 23  has__sodium_hyaluronate_           863473 non-null  int64  \n",
      " 24  has__xanthan_gum_                  863473 non-null  int64  \n",
      " 25  has__sodium_benzoate_              863473 non-null  int64  \n",
      " 26  has__caprylyl_glycol_              863473 non-null  int64  \n",
      " 27  has__potassium_sorbate_            863473 non-null  int64  \n",
      " 28  has__polysorbate_                  863473 non-null  int64  \n",
      " 29  has__sodium_hydroxide_             863473 non-null  int64  \n",
      " 30  has__capryliccapric_triglyceride_  863473 non-null  int64  \n",
      " 31  has__tocopheryl_acetate_           863473 non-null  int64  \n",
      " 32  has__squalane_                     863473 non-null  int64  \n",
      " 33  has__dimethicone_                  863473 non-null  int64  \n",
      " 34  has__pentylene_glycol_             863473 non-null  int64  \n",
      " 35  has_water_                         863473 non-null  int64  \n",
      " 36  skin_type_combination              863473 non-null  float64\n",
      " 37  skin_type_dry                      863473 non-null  float64\n",
      " 38  skin_type_normal                   863473 non-null  float64\n",
      " 39  skin_type_oily                     863473 non-null  float64\n",
      "dtypes: float64(5), int64(26), object(9)\n",
      "memory usage: 263.5+ MB\n"
     ]
    }
   ],
   "source": [
    "final_df = encoded_data.copy()\n",
    "final_df.info()"
   ]
  },
  {
   "cell_type": "code",
   "execution_count": null,
   "metadata": {},
   "outputs": [
    {
     "name": "stdout",
     "output_type": "stream",
     "text": [
      "Shape after dropping Mini Size rows: (785621, 40)\n",
      "\n",
      "Unique values in secondary_category:\n",
      "['Cleansers' 'Lip Balms & Treatments' 'Moisturizers' 'Treatments' 'Masks'\n",
      " 'Sunscreen' 'Self Tanners' 'Eye Care' 'Wellness']\n"
     ]
    }
   ],
   "source": [
    "# Droping the rows where 'secondary_category' is 'Mini Size'\n",
    "final_df = final_df[final_df['secondary_category'] != 'Mini Size']\n",
    "\n",
    "# Reseting the index after dropping rows\n",
    "final_df.reset_index(drop=True, inplace=True)\n",
    "\n",
    "# Printing the shape to see how many rows remain\n",
    "print(f\"Shape after dropping Mini Size rows: {final_df.shape}\")\n",
    "\n",
    "# Verifying the unique values in secondary_category to confirm Mini Size is gone\n",
    "print(\"\\nUnique values in secondary_category:\")\n",
    "print(final_df['secondary_category'].unique())"
   ]
  },
  {
   "cell_type": "code",
   "execution_count": 108,
   "metadata": {},
   "outputs": [
    {
     "data": {
      "text/plain": [
       "(785621, 40)"
      ]
     },
     "execution_count": 108,
     "metadata": {},
     "output_type": "execute_result"
    }
   ],
   "source": [
    "final_df.shape"
   ]
  },
  {
   "cell_type": "code",
   "execution_count": 109,
   "metadata": {},
   "outputs": [],
   "source": [
    "pd.set_option(\"display.max_columns\", None)"
   ]
  },
  {
   "cell_type": "code",
   "execution_count": 110,
   "metadata": {},
   "outputs": [
    {
     "data": {
      "text/html": [
       "<div>\n",
       "<style scoped>\n",
       "    .dataframe tbody tr th:only-of-type {\n",
       "        vertical-align: middle;\n",
       "    }\n",
       "\n",
       "    .dataframe tbody tr th {\n",
       "        vertical-align: top;\n",
       "    }\n",
       "\n",
       "    .dataframe thead th {\n",
       "        text-align: right;\n",
       "    }\n",
       "</style>\n",
       "<table border=\"1\" class=\"dataframe\">\n",
       "  <thead>\n",
       "    <tr style=\"text-align: right;\">\n",
       "      <th></th>\n",
       "      <th>rating</th>\n",
       "      <th>review_text</th>\n",
       "      <th>total_feedback_count</th>\n",
       "      <th>total_neg_feedback_count</th>\n",
       "      <th>total_pos_feedback_count</th>\n",
       "      <th>product_id</th>\n",
       "      <th>price_usd</th>\n",
       "      <th>product_name</th>\n",
       "      <th>ingredients</th>\n",
       "      <th>highlights</th>\n",
       "      <th>primary_category</th>\n",
       "      <th>secondary_category</th>\n",
       "      <th>processed_review</th>\n",
       "      <th>review_length</th>\n",
       "      <th>processed_ingredients</th>\n",
       "      <th>ingredient_count</th>\n",
       "      <th>has__glycerin_</th>\n",
       "      <th>has__phenoxyethanol_</th>\n",
       "      <th>has__butylene_glycol_</th>\n",
       "      <th>has__propanediol_</th>\n",
       "      <th>has__tocopherol_</th>\n",
       "      <th>has__citric_acid_</th>\n",
       "      <th>has__ethylhexylglycerin_</th>\n",
       "      <th>has__sodium_hyaluronate_</th>\n",
       "      <th>has__xanthan_gum_</th>\n",
       "      <th>has__sodium_benzoate_</th>\n",
       "      <th>has__caprylyl_glycol_</th>\n",
       "      <th>has__potassium_sorbate_</th>\n",
       "      <th>has__polysorbate_</th>\n",
       "      <th>has__sodium_hydroxide_</th>\n",
       "      <th>has__capryliccapric_triglyceride_</th>\n",
       "      <th>has__tocopheryl_acetate_</th>\n",
       "      <th>has__squalane_</th>\n",
       "      <th>has__dimethicone_</th>\n",
       "      <th>has__pentylene_glycol_</th>\n",
       "      <th>has_water_</th>\n",
       "      <th>skin_type_combination</th>\n",
       "      <th>skin_type_dry</th>\n",
       "      <th>skin_type_normal</th>\n",
       "      <th>skin_type_oily</th>\n",
       "    </tr>\n",
       "  </thead>\n",
       "  <tbody>\n",
       "    <tr>\n",
       "      <th>0</th>\n",
       "      <td>5</td>\n",
       "      <td>I use this with the Nudestix “Citrus Clean Bal...</td>\n",
       "      <td>2</td>\n",
       "      <td>0</td>\n",
       "      <td>2</td>\n",
       "      <td>P504322</td>\n",
       "      <td>19.0</td>\n",
       "      <td>Gentle Hydra-Gel Face Cleanser</td>\n",
       "      <td>['Water (Aqua), Dipropylene Glycol, Peg-6 Capr...</td>\n",
       "      <td>['Clean at Sephora']</td>\n",
       "      <td>Skincare</td>\n",
       "      <td>Cleansers</td>\n",
       "      <td>use nudestix citrus clean balm makeup melt dou...</td>\n",
       "      <td>283</td>\n",
       "      <td>water | dipropylene glycol | peg capryliccapri...</td>\n",
       "      <td>22</td>\n",
       "      <td>1</td>\n",
       "      <td>0</td>\n",
       "      <td>1</td>\n",
       "      <td>1</td>\n",
       "      <td>1</td>\n",
       "      <td>0</td>\n",
       "      <td>1</td>\n",
       "      <td>1</td>\n",
       "      <td>0</td>\n",
       "      <td>0</td>\n",
       "      <td>0</td>\n",
       "      <td>0</td>\n",
       "      <td>0</td>\n",
       "      <td>0</td>\n",
       "      <td>0</td>\n",
       "      <td>0</td>\n",
       "      <td>0</td>\n",
       "      <td>0</td>\n",
       "      <td>0</td>\n",
       "      <td>1</td>\n",
       "      <td>0.0</td>\n",
       "      <td>1.0</td>\n",
       "      <td>0.0</td>\n",
       "      <td>0.0</td>\n",
       "    </tr>\n",
       "    <tr>\n",
       "      <th>1</th>\n",
       "      <td>5</td>\n",
       "      <td>My review title says it all! I get so excited ...</td>\n",
       "      <td>0</td>\n",
       "      <td>0</td>\n",
       "      <td>0</td>\n",
       "      <td>P420652</td>\n",
       "      <td>24.0</td>\n",
       "      <td>Lip Sleeping Mask Intense Hydration with Vitam...</td>\n",
       "      <td>['Diisostearyl Malate, Hydrogenated Polyisobut...</td>\n",
       "      <td>['allure 2019 Best of Beauty Award Winner', 'C...</td>\n",
       "      <td>Skincare</td>\n",
       "      <td>Lip Balms &amp; Treatments</td>\n",
       "      <td>review title say get excited get bed apply lip...</td>\n",
       "      <td>178</td>\n",
       "      <td>diisostearyl malate | hydrogenated polyisobute...</td>\n",
       "      <td>34</td>\n",
       "      <td>1</td>\n",
       "      <td>0</td>\n",
       "      <td>0</td>\n",
       "      <td>1</td>\n",
       "      <td>0</td>\n",
       "      <td>0</td>\n",
       "      <td>0</td>\n",
       "      <td>0</td>\n",
       "      <td>0</td>\n",
       "      <td>0</td>\n",
       "      <td>0</td>\n",
       "      <td>0</td>\n",
       "      <td>0</td>\n",
       "      <td>0</td>\n",
       "      <td>0</td>\n",
       "      <td>0</td>\n",
       "      <td>0</td>\n",
       "      <td>0</td>\n",
       "      <td>0</td>\n",
       "      <td>1</td>\n",
       "      <td>0.0</td>\n",
       "      <td>1.0</td>\n",
       "      <td>0.0</td>\n",
       "      <td>0.0</td>\n",
       "    </tr>\n",
       "  </tbody>\n",
       "</table>\n",
       "</div>"
      ],
      "text/plain": [
       "   rating                                        review_text  \\\n",
       "0       5  I use this with the Nudestix “Citrus Clean Bal...   \n",
       "1       5  My review title says it all! I get so excited ...   \n",
       "\n",
       "   total_feedback_count  total_neg_feedback_count  total_pos_feedback_count  \\\n",
       "0                     2                         0                         2   \n",
       "1                     0                         0                         0   \n",
       "\n",
       "  product_id  price_usd                                       product_name  \\\n",
       "0    P504322       19.0                     Gentle Hydra-Gel Face Cleanser   \n",
       "1    P420652       24.0  Lip Sleeping Mask Intense Hydration with Vitam...   \n",
       "\n",
       "                                         ingredients  \\\n",
       "0  ['Water (Aqua), Dipropylene Glycol, Peg-6 Capr...   \n",
       "1  ['Diisostearyl Malate, Hydrogenated Polyisobut...   \n",
       "\n",
       "                                          highlights primary_category  \\\n",
       "0                               ['Clean at Sephora']         Skincare   \n",
       "1  ['allure 2019 Best of Beauty Award Winner', 'C...         Skincare   \n",
       "\n",
       "       secondary_category                                   processed_review  \\\n",
       "0               Cleansers  use nudestix citrus clean balm makeup melt dou...   \n",
       "1  Lip Balms & Treatments  review title say get excited get bed apply lip...   \n",
       "\n",
       "   review_length                              processed_ingredients  \\\n",
       "0            283  water | dipropylene glycol | peg capryliccapri...   \n",
       "1            178  diisostearyl malate | hydrogenated polyisobute...   \n",
       "\n",
       "   ingredient_count  has__glycerin_  has__phenoxyethanol_  \\\n",
       "0                22               1                     0   \n",
       "1                34               1                     0   \n",
       "\n",
       "   has__butylene_glycol_  has__propanediol_  has__tocopherol_  \\\n",
       "0                      1                  1                 1   \n",
       "1                      0                  1                 0   \n",
       "\n",
       "   has__citric_acid_  has__ethylhexylglycerin_  has__sodium_hyaluronate_  \\\n",
       "0                  0                         1                         1   \n",
       "1                  0                         0                         0   \n",
       "\n",
       "   has__xanthan_gum_  has__sodium_benzoate_  has__caprylyl_glycol_  \\\n",
       "0                  0                      0                      0   \n",
       "1                  0                      0                      0   \n",
       "\n",
       "   has__potassium_sorbate_  has__polysorbate_  has__sodium_hydroxide_  \\\n",
       "0                        0                  0                       0   \n",
       "1                        0                  0                       0   \n",
       "\n",
       "   has__capryliccapric_triglyceride_  has__tocopheryl_acetate_  \\\n",
       "0                                  0                         0   \n",
       "1                                  0                         0   \n",
       "\n",
       "   has__squalane_  has__dimethicone_  has__pentylene_glycol_  has_water_  \\\n",
       "0               0                  0                       0           1   \n",
       "1               0                  0                       0           1   \n",
       "\n",
       "   skin_type_combination  skin_type_dry  skin_type_normal  skin_type_oily  \n",
       "0                    0.0            1.0               0.0             0.0  \n",
       "1                    0.0            1.0               0.0             0.0  "
      ]
     },
     "execution_count": 110,
     "metadata": {},
     "output_type": "execute_result"
    }
   ],
   "source": [
    "final_df.head(2)"
   ]
  }
 ],
 "metadata": {
  "kernelspec": {
   "display_name": "base",
   "language": "python",
   "name": "python3"
  },
  "language_info": {
   "codemirror_mode": {
    "name": "ipython",
    "version": 3
   },
   "file_extension": ".py",
   "mimetype": "text/x-python",
   "name": "python",
   "nbconvert_exporter": "python",
   "pygments_lexer": "ipython3",
   "version": "3.12.7"
  }
 },
 "nbformat": 4,
 "nbformat_minor": 2
}
