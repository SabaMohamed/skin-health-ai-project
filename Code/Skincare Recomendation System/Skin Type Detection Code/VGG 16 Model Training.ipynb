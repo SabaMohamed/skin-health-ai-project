{
 "cells": [
  {
   "cell_type": "markdown",
   "metadata": {},
   "source": [
    "# **Imports**"
   ]
  },
  {
   "cell_type": "code",
   "execution_count": 1,
   "metadata": {
    "execution": {
     "iopub.execute_input": "2025-02-22T06:39:38.642683Z",
     "iopub.status.busy": "2025-02-22T06:39:38.6425Z",
     "iopub.status.idle": "2025-02-22T06:39:50.751632Z",
     "shell.execute_reply": "2025-02-22T06:39:50.750724Z",
     "shell.execute_reply.started": "2025-02-22T06:39:38.642664Z"
    },
    "id": "-LTT2G-po_U7"
   },
   "outputs": [],
   "source": [
    "from tensorflow.keras.applications import VGG16\n",
    "from tensorflow.keras.layers import Dense, Dropout, Flatten\n",
    "from tensorflow.keras.models import Model\n",
    "from tensorflow.keras.optimizers import Adam\n",
    "from tensorflow.keras.preprocessing.image import ImageDataGenerator\n",
    "from tensorflow.keras.applications.vgg16 import preprocess_input\n",
    "from tensorflow.keras.preprocessing import image\n",
    "import numpy as np\n",
    "import pandas as pd\n",
    "import matplotlib.pyplot as plt\n",
    "\n",
    "import os\n",
    "import tensorflow as tf\n",
    "import cv2\n",
    "\n",
    "from tensorflow.keras.applications import VGG16\n",
    "from tensorflow.keras.models import Model\n",
    "from tensorflow.keras.layers import Dense, Flatten, Conv2D, BatchNormalization\n",
    "from tensorflow.keras.optimizers import Adam\n",
    "from tensorflow.keras.regularizers import l2\n",
    "from tensorflow.keras.layers import LeakyReLU\n",
    "import shutil\n",
    "import random\n",
    "from tensorflow.keras.layers import Flatten, Dense, Dropout, BatchNormalization, LeakyReLU\n",
    "from sklearn.model_selection import StratifiedKFold\n",
    "\n",
    "from sklearn.metrics import classification_report\n",
    "import seaborn as sns\n",
    "from sklearn.metrics import confusion_matrix, classification_report"
   ]
  },
  {
   "cell_type": "code",
   "execution_count": 2,
   "metadata": {
    "execution": {
     "iopub.execute_input": "2025-02-22T06:40:14.302723Z",
     "iopub.status.busy": "2025-02-22T06:40:14.302418Z",
     "iopub.status.idle": "2025-02-22T06:40:14.306501Z",
     "shell.execute_reply": "2025-02-22T06:40:14.305509Z",
     "shell.execute_reply.started": "2025-02-22T06:40:14.302702Z"
    },
    "id": "HcM5FZ3So_U7"
   },
   "outputs": [],
   "source": [
    "# Enable Mixed Precision Training (AMP)\n",
    "from tensorflow.keras import mixed_precision\n",
    "mixed_precision.set_global_policy('mixed_float16')"
   ]
  },
  {
   "cell_type": "code",
   "execution_count": 3,
   "metadata": {
    "execution": {
     "iopub.execute_input": "2025-02-22T06:40:14.707476Z",
     "iopub.status.busy": "2025-02-22T06:40:14.707245Z",
     "iopub.status.idle": "2025-02-22T06:40:14.711244Z",
     "shell.execute_reply": "2025-02-22T06:40:14.710156Z",
     "shell.execute_reply.started": "2025-02-22T06:40:14.707457Z"
    },
    "id": "DydZymu1o_U8"
   },
   "outputs": [],
   "source": [
    "# Enable XLA Compilation for additional speedup\n",
    "tf.config.optimizer.set_jit(True)"
   ]
  },
  {
   "cell_type": "code",
   "execution_count": 6,
   "metadata": {
    "colab": {
     "base_uri": "https://localhost:8080/"
    },
    "id": "5E6ecumcVLvG",
    "outputId": "9c6444d5-2cdd-4e69-ec7f-fe931af2a810"
   },
   "outputs": [
    {
     "name": "stdout",
     "output_type": "stream",
     "text": [
      "Mounted at /content/drive\n"
     ]
    }
   ],
   "source": [
    "from google.colab import drive\n",
    "drive.mount('/content/drive')"
   ]
  },
  {
   "cell_type": "markdown",
   "metadata": {},
   "source": [
    "# **Loading the Dataset**"
   ]
  },
  {
   "cell_type": "code",
   "execution_count": 7,
   "metadata": {
    "execution": {
     "iopub.execute_input": "2025-02-22T06:40:23.231119Z",
     "iopub.status.busy": "2025-02-22T06:40:23.230831Z",
     "iopub.status.idle": "2025-02-22T06:40:23.234791Z",
     "shell.execute_reply": "2025-02-22T06:40:23.233911Z",
     "shell.execute_reply.started": "2025-02-22T06:40:23.231099Z"
    },
    "id": "q3e1L1lpo_U8"
   },
   "outputs": [],
   "source": [
    "# Defining the dataset directories\n",
    "train_dir = '/content/drive/My Drive/Skin_1000_dataset/skin types/train'\n",
    "val_dir = '/content/drive/My Drive/Skin_1000_dataset/skin types/valid'\n",
    "test_dir = '/content/drive/My Drive/Skin_1000_dataset/skin types/test'\n"
   ]
  },
  {
   "cell_type": "code",
   "execution_count": 8,
   "metadata": {
    "colab": {
     "base_uri": "https://localhost:8080/"
    },
    "execution": {
     "iopub.execute_input": "2025-02-22T06:41:16.986492Z",
     "iopub.status.busy": "2025-02-22T06:41:16.986058Z",
     "iopub.status.idle": "2025-02-22T06:41:17.281953Z",
     "shell.execute_reply": "2025-02-22T06:41:17.281029Z",
     "shell.execute_reply.started": "2025-02-22T06:41:16.986457Z"
    },
    "id": "I6BCoZZRo_U8",
    "outputId": "19fbd4f1-f9a3-4ef5-da3d-b236fa8fe817"
   },
   "outputs": [
    {
     "name": "stdout",
     "output_type": "stream",
     "text": [
      "Train Oily Images: 450\n",
      "Train Dry Images: 270\n",
      "Train Normal Images: 333\n",
      "-----------------------------------------------------\n",
      "Test Oily Images: 15\n",
      "Test Dry Images: 10\n",
      "Test Normal Images: 18\n",
      "-----------------------------------------------------\n",
      "valid Oily Images: 34\n",
      "valid Dry Images: 25\n",
      "vali Normal Images: 28\n"
     ]
    }
   ],
   "source": [
    "# this function is to count the images in the directory\n",
    "def count_images(directory):\n",
    "    return sum(len(files) for _, _, files in os.walk(directory))\n",
    "\n",
    "# Counting the images in the train directory\n",
    "train_oily_count = count_images(os.path.join(train_dir, 'oily'))\n",
    "train_dry_count = count_images(os.path.join(train_dir, 'dry'))\n",
    "train_normal_count = count_images(os.path.join(train_dir, 'normal'))\n",
    "\n",
    "# Counting the images in the test directory\n",
    "test_oily_count = count_images(os.path.join(test_dir, 'oily'))\n",
    "test_dry_count = count_images(os.path.join(test_dir, 'dry'))\n",
    "test_normal_count = count_images(os.path.join(test_dir, 'normal'))\n",
    "\n",
    "# Counting the images in the valid directory\n",
    "valid_oily_count = count_images(os.path.join(val_dir, 'oily'))\n",
    "valid_dry_count = count_images(os.path.join(val_dir, 'dry'))\n",
    "valid_normal_count = count_images(os.path.join(val_dir, 'normal'))\n",
    "\n",
    "# Printing the counts\n",
    "print(f\"Train Oily Images: {train_oily_count}\")\n",
    "print(f\"Train Dry Images: {train_dry_count}\")\n",
    "print(f\"Train Normal Images: {train_normal_count}\")\n",
    "print(\"-----------------------------------------------------\")\n",
    "print(f\"Test Oily Images: {test_oily_count}\")\n",
    "print(f\"Test Dry Images: {test_dry_count}\")\n",
    "print(f\"Test Normal Images: {test_normal_count}\")\n",
    "print(\"-----------------------------------------------------\")\n",
    "print(f\"valid Oily Images: {valid_oily_count}\")\n",
    "print(f\"valid Dry Images: {valid_dry_count}\")\n",
    "print(f\"vali Normal Images: {valid_normal_count}\")"
   ]
  },
  {
   "cell_type": "markdown",
   "metadata": {},
   "source": [
    "# **Visualizing the class distribution in the training dataset**"
   ]
  },
  {
   "cell_type": "code",
   "execution_count": 9,
   "metadata": {
    "colab": {
     "base_uri": "https://localhost:8080/",
     "height": 564
    },
    "execution": {
     "iopub.execute_input": "2025-02-22T06:41:28.652693Z",
     "iopub.status.busy": "2025-02-22T06:41:28.652401Z",
     "iopub.status.idle": "2025-02-22T06:41:29.079947Z",
     "shell.execute_reply": "2025-02-22T06:41:29.079246Z",
     "shell.execute_reply.started": "2025-02-22T06:41:28.652672Z"
    },
    "id": "DM4DU1sKo_U9",
    "outputId": "ef7d9496-52b6-4a5a-de8f-e7032a948b5c"
   },
   "outputs": [
    {
     "data": {
      "image/png": "[encoded data removed]",
      "text/plain": [
       "<Figure size 800x600 with 1 Axes>"
      ]
     },
     "metadata": {},
     "output_type": "display_data"
    }
   ],
   "source": [
    "# Getting the class names (the folders) and filter out any hidden directories\n",
    "class_names = [folder for folder in os.listdir(train_dir) if os.path.isdir(os.path.join(train_dir, folder))]\n",
    "\n",
    "# Initializing an empty list to carry the class counts\n",
    "class_counts = []\n",
    "\n",
    "# Looping through each class folder and count the number of images\n",
    "for class_name in class_names:\n",
    "    class_path = os.path.join(train_dir, class_name)\n",
    "    if os.path.isdir(class_path):\n",
    "        class_count = len(os.listdir(class_path))  # Number of images in the class folder\n",
    "        class_counts.append(class_count)\n",
    "\n",
    "# Plotting the class distribution\n",
    "plt.figure(figsize=(8, 6))\n",
    "plt.bar(class_names, class_counts, color=['skyblue', 'lightgreen', 'salmon'])\n",
    "plt.xlabel('Class')\n",
    "plt.ylabel('Number of Samples')\n",
    "plt.title('Class Distribution in the Training Set')\n",
    "plt.show()"
   ]
  },
  {
   "cell_type": "markdown",
   "metadata": {
    "id": "8YRCjn_GXmGU"
   },
   "source": [
    "# **Balancing the Training classes using Oversampling**"
   ]
  },
  {
   "cell_type": "code",
   "execution_count": 10,
   "metadata": {
    "colab": {
     "base_uri": "https://localhost:8080/"
    },
    "id": "l6nbB7fZXsJ5",
    "outputId": "77aefbb7-f139-40fc-9188-d614f0aba8e1"
   },
   "outputs": [
    {
     "name": "stdout",
     "output_type": "stream",
     "text": [
      "Oversampling complete!\n"
     ]
    }
   ],
   "source": [
    "# Define the directories\n",
    "dry_dir = os.path.join(train_dir, \"dry\")\n",
    "normal_dir = os.path.join(train_dir, \"normal\")\n",
    "\n",
    "# Define target count (same as Oily: 450 images)\n",
    "target_count = 450\n",
    "\n",
    "def oversample_images(class_dir, target_count):\n",
    "    images = os.listdir(class_dir)\n",
    "    current_count = len(images)\n",
    "\n",
    "    while len(os.listdir(class_dir)) < target_count:\n",
    "        img_to_copy = random.choice(images)\n",
    "        img_path = os.path.join(class_dir, img_to_copy)\n",
    "        new_img_path = os.path.join(class_dir, f\"copy_{len(os.listdir(class_dir))}_{img_to_copy}\")\n",
    "        shutil.copy(img_path, new_img_path)\n",
    "\n",
    "# Oversample Dry and Normal classes\n",
    "oversample_images(dry_dir, target_count)\n",
    "oversample_images(normal_dir, target_count)\n",
    "\n",
    "print(\"Oversampling complete!\")\n"
   ]
  },
  {
   "cell_type": "markdown",
   "metadata": {},
   "source": [
    "# **Displaying the class counts after the oversampling**"
   ]
  },
  {
   "cell_type": "code",
   "execution_count": 11,
   "metadata": {
    "colab": {
     "base_uri": "https://localhost:8080/"
    },
    "id": "fWNXbJMZYkvH",
    "outputId": "3310ce62-5da4-4ea9-82d8-feb17b8706a8"
   },
   "outputs": [
    {
     "name": "stdout",
     "output_type": "stream",
     "text": [
      "Train Oily Images: 450\n",
      "Train Dry Images: 450\n",
      "Train Normal Images: 450\n",
      "-----------------------------------------------------\n",
      "Test Oily Images: 15\n",
      "Test Dry Images: 10\n",
      "Test Normal Images: 18\n",
      "-----------------------------------------------------\n",
      "valid Oily Images: 34\n",
      "valid Dry Images: 25\n",
      "vali Normal Images: 28\n"
     ]
    }
   ],
   "source": [
    "# this function is to count the images in the directory\n",
    "def count_images(directory):\n",
    "    return sum(len(files) for _, _, files in os.walk(directory))\n",
    "\n",
    "# Count images in the train directory\n",
    "train_oily_count = count_images(os.path.join(train_dir, 'oily'))\n",
    "train_dry_count = count_images(os.path.join(train_dir, 'dry'))\n",
    "train_normal_count = count_images(os.path.join(train_dir, 'normal'))\n",
    "\n",
    "# Count images in the test directory\n",
    "test_oily_count = count_images(os.path.join(test_dir, 'oily'))\n",
    "test_dry_count = count_images(os.path.join(test_dir, 'dry'))\n",
    "test_normal_count = count_images(os.path.join(test_dir, 'normal'))\n",
    "\n",
    "# Count images in the valid directory\n",
    "valid_oily_count = count_images(os.path.join(val_dir, 'oily'))\n",
    "valid_dry_count = count_images(os.path.join(val_dir, 'dry'))\n",
    "valid_normal_count = count_images(os.path.join(val_dir, 'normal'))\n",
    "\n",
    "# Print the counts\n",
    "print(f\"Train Oily Images: {train_oily_count}\")\n",
    "print(f\"Train Dry Images: {train_dry_count}\")\n",
    "print(f\"Train Normal Images: {train_normal_count}\")\n",
    "print(\"-----------------------------------------------------\")\n",
    "print(f\"Test Oily Images: {test_oily_count}\")\n",
    "print(f\"Test Dry Images: {test_dry_count}\")\n",
    "print(f\"Test Normal Images: {test_normal_count}\")\n",
    "print(\"-----------------------------------------------------\")\n",
    "print(f\"valid Oily Images: {valid_oily_count}\")\n",
    "print(f\"valid Dry Images: {valid_dry_count}\")\n",
    "print(f\"vali Normal Images: {valid_normal_count}\")"
   ]
  },
  {
   "cell_type": "markdown",
   "metadata": {
    "id": "bBzmuV7H1b-p"
   },
   "source": [
    "# **Merging the Validation the Test Sets**\n",
    "## we need to copy all the images from the valid set into the test set to merge them."
   ]
  },
  {
   "cell_type": "code",
   "execution_count": 12,
   "metadata": {
    "colab": {
     "base_uri": "https://localhost:8080/"
    },
    "id": "Bn44l5zQ1Xdh",
    "outputId": "8dc31e53-9b9a-4f10-eb11-dd514929e50d"
   },
   "outputs": [
    {
     "name": "stdout",
     "output_type": "stream",
     "text": [
      "Moved 49 images to /content/drive/My Drive/Skin_1000_dataset/skin types/test/oily\n",
      "Moved 46 images to /content/drive/My Drive/Skin_1000_dataset/skin types/test/normal\n",
      "Moved 35 images to /content/drive/My Drive/Skin_1000_dataset/skin types/test/dry\n",
      "Validation set merged into the test set successfully!\n"
     ]
    }
   ],
   "source": [
    "# Looping through each class folder in the validation set\n",
    "for class_name in os.listdir(val_dir):\n",
    "    val_class_path = os.path.join(val_dir, class_name)\n",
    "    test_class_path = os.path.join(test_dir, class_name)\n",
    "\n",
    "    # Skipping the non directory files\n",
    "    if not os.path.isdir(val_class_path):\n",
    "        continue\n",
    "\n",
    "    # Ensuring that the test folder exists\n",
    "    os.makedirs(test_class_path, exist_ok=True)\n",
    "\n",
    "    # Moving all the images from the validation set to the testing set\n",
    "    for img_name in os.listdir(val_class_path):\n",
    "        src_path = os.path.join(val_class_path, img_name)\n",
    "        dest_path = os.path.join(test_class_path, img_name)\n",
    "\n",
    "        # Checking if it's an actual file before moving\n",
    "        if os.path.isfile(src_path):\n",
    "            shutil.move(src_path, dest_path)\n",
    "\n",
    "    print(f\"Moved {len(os.listdir(test_class_path))} images to {test_class_path}\")\n",
    "\n",
    "print(\"Validation set merged into the test set successfully!\")"
   ]
  },
  {
   "cell_type": "markdown",
   "metadata": {},
   "source": [
    "# **Displaying the class counts after merging the test and the validation sets together**"
   ]
  },
  {
   "cell_type": "code",
   "execution_count": 13,
   "metadata": {
    "colab": {
     "base_uri": "https://localhost:8080/"
    },
    "id": "vXtxyCQe3ag9",
    "outputId": "180b35a5-2443-497d-b6b0-84f1e5e8f282"
   },
   "outputs": [
    {
     "name": "stdout",
     "output_type": "stream",
     "text": [
      "Train Oily Images: 450\n",
      "Train Dry Images: 450\n",
      "Train Normal Images: 450\n",
      "-----------------------------------------------------\n",
      "Test Oily Images: 49\n",
      "Test Dry Images: 35\n",
      "Test Normal Images: 46\n",
      "-----------------------------------------------------\n",
      "valid Oily Images: 0\n",
      "valid Dry Images: 0\n",
      "vali Normal Images: 0\n"
     ]
    }
   ],
   "source": [
    "# this function is to count the images in the directory\n",
    "def count_images(directory):\n",
    "    return sum(len(files) for _, _, files in os.walk(directory))\n",
    "\n",
    "# Counting the images in the train directory\n",
    "train_oily_count = count_images(os.path.join(train_dir, 'oily'))\n",
    "train_dry_count = count_images(os.path.join(train_dir, 'dry'))\n",
    "train_normal_count = count_images(os.path.join(train_dir, 'normal'))\n",
    "\n",
    "# Counting the images in the test directory\n",
    "test_oily_count = count_images(os.path.join(test_dir, 'oily'))\n",
    "test_dry_count = count_images(os.path.join(test_dir, 'dry'))\n",
    "test_normal_count = count_images(os.path.join(test_dir, 'normal'))\n",
    "\n",
    "# Counting the images in the valid directory\n",
    "valid_oily_count = count_images(os.path.join(val_dir, 'oily'))\n",
    "valid_dry_count = count_images(os.path.join(val_dir, 'dry'))\n",
    "valid_normal_count = count_images(os.path.join(val_dir, 'normal'))\n",
    "\n",
    "# Printing the counts\n",
    "print(f\"Train Oily Images: {train_oily_count}\")\n",
    "print(f\"Train Dry Images: {train_dry_count}\")\n",
    "print(f\"Train Normal Images: {train_normal_count}\")\n",
    "print(\"-----------------------------------------------------\")\n",
    "print(f\"Test Oily Images: {test_oily_count}\")\n",
    "print(f\"Test Dry Images: {test_dry_count}\")\n",
    "print(f\"Test Normal Images: {test_normal_count}\")\n",
    "print(\"-----------------------------------------------------\")\n",
    "print(f\"valid Oily Images: {valid_oily_count}\")\n",
    "print(f\"valid Dry Images: {valid_dry_count}\")\n",
    "print(f\"vali Normal Images: {valid_normal_count}\")"
   ]
  },
  {
   "cell_type": "markdown",
   "metadata": {
    "id": "_f0w9ngf3nRN"
   },
   "source": [
    "# **The code of the K- Fold Cross Validation and fine tuning the pretrained VGG16 Model**"
   ]
  },
  {
   "cell_type": "code",
   "execution_count": null,
   "metadata": {
    "colab": {
     "base_uri": "https://localhost:8080/"
    },
    "id": "uhryCOnt6EPS",
    "outputId": "d1f5506c-8402-4c36-986c-b611e00ca3d2"
   },
   "outputs": [
    {
     "name": "stdout",
     "output_type": "stream",
     "text": [
      "\n",
      "🔹 Training Fold 1/5...\n",
      "Found 1080 validated image filenames belonging to 3 classes.\n",
      "Found 270 validated image filenames belonging to 3 classes.\n",
      "Downloading data from https://storage.googleapis.com/tensorflow/keras-applications/vgg16/vgg16_weights_tf_dim_ordering_tf_kernels_notop.h5\n",
      "\u001b[1m58889256/58889256\u001b[0m \u001b[32m━━━━━━━━━━━━━━━━━━━━\u001b[0m\u001b[37m\u001b[0m \u001b[1m4s\u001b[0m 0us/step\n"
     ]
    },
    {
     "name": "stderr",
     "output_type": "stream",
     "text": [
      "/usr/local/lib/python3.11/dist-packages/keras/src/layers/activations/leaky_relu.py:41: UserWarning: Argument `alpha` is deprecated. Use `negative_slope` instead.\n",
      "  warnings.warn(\n",
      "/usr/local/lib/python3.11/dist-packages/keras/src/trainers/data_adapters/py_dataset_adapter.py:121: UserWarning: Your `PyDataset` class should call `super().__init__(**kwargs)` in its constructor. `**kwargs` can include `workers`, `use_multiprocessing`, `max_queue_size`. Do not pass these arguments to `fit()`, as they will be ignored.\n",
      "  self._warn_if_super_not_called()\n"
     ]
    },
    {
     "name": "stdout",
     "output_type": "stream",
     "text": [
      "Epoch 1/50\n",
      "\u001b[1m34/34\u001b[0m \u001b[32m━━━━━━━━━━━━━━━━━━━━\u001b[0m\u001b[37m\u001b[0m \u001b[1m438s\u001b[0m 12s/step - accuracy: 0.3273 - loss: 2.9141 - val_accuracy: 0.4667 - val_loss: 2.6858\n",
      "Epoch 2/50\n",
      "\u001b[1m34/34\u001b[0m \u001b[32m━━━━━━━━━━━━━━━━━━━━\u001b[0m\u001b[37m\u001b[0m \u001b[1m29s\u001b[0m 638ms/step - accuracy: 0.5121 - loss: 2.4858 - val_accuracy: 0.5556 - val_loss: 2.4017\n",
      "Epoch 3/50\n",
      "\u001b[1m34/34\u001b[0m \u001b[32m━━━━━━━━━━━━━━━━━━━━\u001b[0m\u001b[37m\u001b[0m \u001b[1m21s\u001b[0m 620ms/step - accuracy: 0.5392 - loss: 2.4106 - val_accuracy: 0.5815 - val_loss: 2.3151\n",
      "Epoch 4/50\n",
      "\u001b[1m34/34\u001b[0m \u001b[32m━━━━━━━━━━━━━━━━━━━━\u001b[0m\u001b[37m\u001b[0m \u001b[1m22s\u001b[0m 653ms/step - accuracy: 0.5974 - loss: 2.2441 - val_accuracy: 0.6111 - val_loss: 2.2593\n",
      "Epoch 5/50\n",
      "\u001b[1m34/34\u001b[0m \u001b[32m━━━━━━━━━━━━━━━━━━━━\u001b[0m\u001b[37m\u001b[0m \u001b[1m21s\u001b[0m 621ms/step - accuracy: 0.5947 - loss: 2.2481 - val_accuracy: 0.6407 - val_loss: 2.1807\n",
      "Epoch 6/50\n",
      "\u001b[1m34/34\u001b[0m \u001b[32m━━━━━━━━━━━━━━━━━━━━\u001b[0m\u001b[37m\u001b[0m \u001b[1m42s\u001b[0m 659ms/step - accuracy: 0.6246 - loss: 2.1411 - val_accuracy: 0.6333 - val_loss: 2.1136\n",
      "Epoch 7/50\n",
      "\u001b[1m34/34\u001b[0m \u001b[32m━━━━━━━━━━━━━━━━━━━━\u001b[0m\u001b[37m\u001b[0m \u001b[1m22s\u001b[0m 639ms/step - accuracy: 0.6368 - loss: 2.1348 - val_accuracy: 0.7000 - val_loss: 2.0761\n",
      "Epoch 8/50\n",
      "\u001b[1m34/34\u001b[0m \u001b[32m━━━━━━━━━━━━━━━━━━━━\u001b[0m\u001b[37m\u001b[0m \u001b[1m22s\u001b[0m 662ms/step - accuracy: 0.6812 - loss: 2.0453 - val_accuracy: 0.6370 - val_loss: 2.1080\n",
      "Epoch 9/50\n",
      "\u001b[1m34/34\u001b[0m \u001b[32m━━━━━━━━━━━━━━━━━━━━\u001b[0m\u001b[37m\u001b[0m \u001b[1m40s\u001b[0m 629ms/step - accuracy: 0.6370 - loss: 2.0647 - val_accuracy: 0.6556 - val_loss: 2.0644\n",
      "Epoch 10/50\n",
      "\u001b[1m34/34\u001b[0m \u001b[32m━━━━━━━━━━━━━━━━━━━━\u001b[0m\u001b[37m\u001b[0m \u001b[1m22s\u001b[0m 657ms/step - accuracy: 0.6700 - loss: 2.0570 - val_accuracy: 0.6444 - val_loss: 2.0937\n",
      "Epoch 11/50\n",
      "\u001b[1m34/34\u001b[0m \u001b[32m━━━━━━━━━━━━━━━━━━━━\u001b[0m\u001b[37m\u001b[0m \u001b[1m41s\u001b[0m 643ms/step - accuracy: 0.7048 - loss: 1.9695 - val_accuracy: 0.7296 - val_loss: 1.9275\n",
      "Epoch 12/50\n",
      "\u001b[1m34/34\u001b[0m \u001b[32m━━━━━━━━━━━━━━━━━━━━\u001b[0m\u001b[37m\u001b[0m \u001b[1m22s\u001b[0m 655ms/step - accuracy: 0.6982 - loss: 1.9444 - val_accuracy: 0.6852 - val_loss: 2.0156\n",
      "Epoch 13/50\n",
      "\u001b[1m34/34\u001b[0m \u001b[32m━━━━━━━━━━━━━━━━━━━━\u001b[0m\u001b[37m\u001b[0m \u001b[1m21s\u001b[0m 621ms/step - accuracy: 0.6921 - loss: 1.9828 - val_accuracy: 0.7000 - val_loss: 1.9411\n",
      "Epoch 14/50\n",
      "\u001b[1m34/34\u001b[0m \u001b[32m━━━━━━━━━━━━━━━━━━━━\u001b[0m\u001b[37m\u001b[0m \u001b[1m42s\u001b[0m 666ms/step - accuracy: 0.7515 - loss: 1.8675 - val_accuracy: 0.7222 - val_loss: 1.9392\n",
      "Epoch 15/50\n",
      "\u001b[1m34/34\u001b[0m \u001b[32m━━━━━━━━━━━━━━━━━━━━\u001b[0m\u001b[37m\u001b[0m \u001b[1m40s\u001b[0m 650ms/step - accuracy: 0.6994 - loss: 1.9735 - val_accuracy: 0.7037 - val_loss: 1.9126\n",
      "Epoch 16/50\n",
      "\u001b[1m34/34\u001b[0m \u001b[32m━━━━━━━━━━━━━━━━━━━━\u001b[0m\u001b[37m\u001b[0m \u001b[1m41s\u001b[0m 648ms/step - accuracy: 0.7192 - loss: 1.9196 - val_accuracy: 0.7222 - val_loss: 1.9140\n",
      "Epoch 17/50\n",
      "\u001b[1m34/34\u001b[0m \u001b[32m━━━━━━━━━━━━━━━━━━━━\u001b[0m\u001b[37m\u001b[0m \u001b[1m40s\u001b[0m 620ms/step - accuracy: 0.7303 - loss: 1.8680 - val_accuracy: 0.7111 - val_loss: 1.9333\n",
      "Epoch 18/50\n",
      "\u001b[1m34/34\u001b[0m \u001b[32m━━━━━━━━━━━━━━━━━━━━\u001b[0m\u001b[37m\u001b[0m \u001b[1m22s\u001b[0m 655ms/step - accuracy: 0.7264 - loss: 1.8963 - val_accuracy: 0.7519 - val_loss: 1.8766\n",
      "Epoch 19/50\n",
      "\u001b[1m34/34\u001b[0m \u001b[32m━━━━━━━━━━━━━━━━━━━━\u001b[0m\u001b[37m\u001b[0m \u001b[1m41s\u001b[0m 649ms/step - accuracy: 0.7729 - loss: 1.8086 - val_accuracy: 0.7259 - val_loss: 1.8540\n",
      "Epoch 20/50\n",
      "\u001b[1m34/34\u001b[0m \u001b[32m━━━━━━━━━━━━━━━━━━━━\u001b[0m\u001b[37m\u001b[0m \u001b[1m22s\u001b[0m 655ms/step - accuracy: 0.7504 - loss: 1.8046 - val_accuracy: 0.7519 - val_loss: 1.8548\n",
      "Epoch 21/50\n",
      "\u001b[1m34/34\u001b[0m \u001b[32m━━━━━━━━━━━━━━━━━━━━\u001b[0m\u001b[37m\u001b[0m \u001b[1m21s\u001b[0m 632ms/step - accuracy: 0.7654 - loss: 1.7967 - val_accuracy: 0.7333 - val_loss: 1.8726\n",
      "Epoch 22/50\n",
      "\u001b[1m34/34\u001b[0m \u001b[32m━━━━━━━━━━━━━━━━━━━━\u001b[0m\u001b[37m\u001b[0m \u001b[1m42s\u001b[0m 656ms/step - accuracy: 0.7702 - loss: 1.7662 - val_accuracy: 0.7333 - val_loss: 1.9157\n",
      "Epoch 23/50\n",
      "\u001b[1m34/34\u001b[0m \u001b[32m━━━━━━━━━━━━━━━━━━━━\u001b[0m\u001b[37m\u001b[0m \u001b[1m41s\u001b[0m 655ms/step - accuracy: 0.7462 - loss: 1.7846 - val_accuracy: 0.7000 - val_loss: 1.9127\n",
      "Epoch 24/50\n",
      "\u001b[1m34/34\u001b[0m \u001b[32m━━━━━━━━━━━━━━━━━━━━\u001b[0m\u001b[37m\u001b[0m \u001b[1m41s\u001b[0m 663ms/step - accuracy: 0.7871 - loss: 1.7610 - val_accuracy: 0.7852 - val_loss: 1.7940\n",
      "Epoch 25/50\n",
      "\u001b[1m34/34\u001b[0m \u001b[32m━━━━━━━━━━━━━━━━━━━━\u001b[0m\u001b[37m\u001b[0m \u001b[1m40s\u001b[0m 630ms/step - accuracy: 0.7806 - loss: 1.7651 - val_accuracy: 0.7667 - val_loss: 1.8265\n",
      "Epoch 26/50\n",
      "\u001b[1m34/34\u001b[0m \u001b[32m━━━━━━━━━━━━━━━━━━━━\u001b[0m\u001b[37m\u001b[0m \u001b[1m22s\u001b[0m 648ms/step - accuracy: 0.7873 - loss: 1.7324 - val_accuracy: 0.7333 - val_loss: 1.8442\n",
      "Epoch 27/50\n",
      "\u001b[1m34/34\u001b[0m \u001b[32m━━━━━━━━━━━━━━━━━━━━\u001b[0m\u001b[37m\u001b[0m \u001b[1m41s\u001b[0m 654ms/step - accuracy: 0.8129 - loss: 1.6938 - val_accuracy: 0.7519 - val_loss: 1.8382\n",
      "Epoch 28/50\n",
      "\u001b[1m34/34\u001b[0m \u001b[32m━━━━━━━━━━━━━━━━━━━━\u001b[0m\u001b[37m\u001b[0m \u001b[1m40s\u001b[0m 632ms/step - accuracy: 0.8030 - loss: 1.6650 - val_accuracy: 0.7444 - val_loss: 1.7985\n",
      "Epoch 29/50\n",
      "\u001b[1m34/34\u001b[0m \u001b[32m━━━━━━━━━━━━━━━━━━━━\u001b[0m\u001b[37m\u001b[0m \u001b[1m41s\u001b[0m 639ms/step - accuracy: 0.8046 - loss: 1.6959 - val_accuracy: 0.7963 - val_loss: 1.7111\n",
      "Epoch 30/50\n",
      "\u001b[1m34/34\u001b[0m \u001b[32m━━━━━━━━━━━━━━━━━━━━\u001b[0m\u001b[37m\u001b[0m \u001b[1m21s\u001b[0m 622ms/step - accuracy: 0.8127 - loss: 1.6477 - val_accuracy: 0.7815 - val_loss: 1.7204\n",
      "Epoch 31/50\n",
      "\u001b[1m34/34\u001b[0m \u001b[32m━━━━━━━━━━━━━━━━━━━━\u001b[0m\u001b[37m\u001b[0m \u001b[1m22s\u001b[0m 650ms/step - accuracy: 0.8068 - loss: 1.6553 - val_accuracy: 0.7889 - val_loss: 1.7707\n",
      "Epoch 32/50\n",
      "\u001b[1m34/34\u001b[0m \u001b[32m━━━━━━━━━━━━━━━━━━━━\u001b[0m\u001b[37m\u001b[0m \u001b[1m21s\u001b[0m 626ms/step - accuracy: 0.8077 - loss: 1.6618 - val_accuracy: 0.7704 - val_loss: 1.7646\n",
      "Epoch 33/50\n",
      "\u001b[1m34/34\u001b[0m \u001b[32m━━━━━━━━━━━━━━━━━━━━\u001b[0m\u001b[37m\u001b[0m \u001b[1m42s\u001b[0m 655ms/step - accuracy: 0.8350 - loss: 1.6027 - val_accuracy: 0.7889 - val_loss: 1.7321\n",
      "Epoch 34/50\n",
      "\u001b[1m34/34\u001b[0m \u001b[32m━━━━━━━━━━━━━━━━━━━━\u001b[0m\u001b[37m\u001b[0m \u001b[1m41s\u001b[0m 661ms/step - accuracy: 0.8224 - loss: 1.5758 - val_accuracy: 0.8000 - val_loss: 1.7119\n",
      "Epoch 35/50\n",
      "\u001b[1m34/34\u001b[0m \u001b[32m━━━━━━━━━━━━━━━━━━━━\u001b[0m\u001b[37m\u001b[0m \u001b[1m22s\u001b[0m 652ms/step - accuracy: 0.8260 - loss: 1.5983 - val_accuracy: 0.7778 - val_loss: 1.6941\n",
      "Epoch 36/50\n",
      "\u001b[1m34/34\u001b[0m \u001b[32m━━━━━━━━━━━━━━━━━━━━\u001b[0m\u001b[37m\u001b[0m \u001b[1m41s\u001b[0m 662ms/step - accuracy: 0.8571 - loss: 1.5495 - val_accuracy: 0.8222 - val_loss: 1.6401\n",
      "Epoch 37/50\n",
      "\u001b[1m34/34\u001b[0m \u001b[32m━━━━━━━━━━━━━━━━━━━━\u001b[0m\u001b[37m\u001b[0m \u001b[1m41s\u001b[0m 654ms/step - accuracy: 0.8276 - loss: 1.5911 - val_accuracy: 0.8037 - val_loss: 1.6326\n",
      "Epoch 38/50\n",
      "\u001b[1m34/34\u001b[0m \u001b[32m━━━━━━━━━━━━━━━━━━━━\u001b[0m\u001b[37m\u001b[0m \u001b[1m40s\u001b[0m 620ms/step - accuracy: 0.8288 - loss: 1.5763 - val_accuracy: 0.8074 - val_loss: 1.6722\n",
      "Epoch 39/50\n",
      "\u001b[1m34/34\u001b[0m \u001b[32m━━━━━━━━━━━━━━━━━━━━\u001b[0m\u001b[37m\u001b[0m \u001b[1m22s\u001b[0m 657ms/step - accuracy: 0.7987 - loss: 1.6088 - val_accuracy: 0.8111 - val_loss: 1.6207\n",
      "Epoch 40/50\n",
      "\u001b[1m34/34\u001b[0m \u001b[32m━━━━━━━━━━━━━━━━━━━━\u001b[0m\u001b[37m\u001b[0m \u001b[1m41s\u001b[0m 643ms/step - accuracy: 0.7994 - loss: 1.5842 - val_accuracy: 0.7926 - val_loss: 1.6807\n",
      "Epoch 41/50\n",
      "\u001b[1m34/34\u001b[0m \u001b[32m━━━━━━━━━━━━━━━━━━━━\u001b[0m\u001b[37m\u001b[0m \u001b[1m40s\u001b[0m 615ms/step - accuracy: 0.8219 - loss: 1.5760 - val_accuracy: 0.7778 - val_loss: 1.7290\n",
      "Epoch 42/50\n",
      "\u001b[1m34/34\u001b[0m \u001b[32m━━━━━━━━━━━━━━━━━━━━\u001b[0m\u001b[37m\u001b[0m \u001b[1m42s\u001b[0m 653ms/step - accuracy: 0.8215 - loss: 1.5364 - val_accuracy: 0.7741 - val_loss: 1.6807\n",
      "Epoch 43/50\n",
      "\u001b[1m34/34\u001b[0m \u001b[32m━━━━━━━━━━━━━━━━━━━━\u001b[0m\u001b[37m\u001b[0m \u001b[1m21s\u001b[0m 617ms/step - accuracy: 0.8382 - loss: 1.5014 - val_accuracy: 0.7667 - val_loss: 1.6404\n",
      "Epoch 44/50\n",
      "\u001b[1m34/34\u001b[0m \u001b[32m━━━━━━━━━━━━━━━━━━━━\u001b[0m\u001b[37m\u001b[0m \u001b[1m22s\u001b[0m 647ms/step - accuracy: 0.8212 - loss: 1.5385 - val_accuracy: 0.7778 - val_loss: 1.6609\n",
      "Epoch 45/50\n",
      "\u001b[1m34/34\u001b[0m \u001b[32m━━━━━━━━━━━━━━━━━━━━\u001b[0m\u001b[37m\u001b[0m \u001b[1m22s\u001b[0m 652ms/step - accuracy: 0.8421 - loss: 1.5265 - val_accuracy: 0.7926 - val_loss: 1.6377\n",
      "Epoch 46/50\n",
      "\u001b[1m34/34\u001b[0m \u001b[32m━━━━━━━━━━━━━━━━━━━━\u001b[0m\u001b[37m\u001b[0m \u001b[1m21s\u001b[0m 621ms/step - accuracy: 0.8540 - loss: 1.4800 - val_accuracy: 0.8037 - val_loss: 1.5645\n",
      "Epoch 47/50\n",
      "\u001b[1m34/34\u001b[0m \u001b[32m━━━━━━━━━━━━━━━━━━━━\u001b[0m\u001b[37m\u001b[0m \u001b[1m41s\u001b[0m 621ms/step - accuracy: 0.8358 - loss: 1.5085 - val_accuracy: 0.7667 - val_loss: 1.6375\n",
      "Epoch 48/50\n",
      "\u001b[1m34/34\u001b[0m \u001b[32m━━━━━━━━━━━━━━━━━━━━\u001b[0m\u001b[37m\u001b[0m \u001b[1m22s\u001b[0m 629ms/step - accuracy: 0.8386 - loss: 1.4513 - val_accuracy: 0.8185 - val_loss: 1.5294\n",
      "Epoch 49/50\n",
      "\u001b[1m34/34\u001b[0m \u001b[32m━━━━━━━━━━━━━━━━━━━━\u001b[0m\u001b[37m\u001b[0m \u001b[1m40s\u001b[0m 613ms/step - accuracy: 0.8595 - loss: 1.4704 - val_accuracy: 0.7963 - val_loss: 1.5957\n",
      "Epoch 50/50\n",
      "\u001b[1m34/34\u001b[0m \u001b[32m━━━━━━━━━━━━━━━━━━━━\u001b[0m\u001b[37m\u001b[0m \u001b[1m22s\u001b[0m 643ms/step - accuracy: 0.8502 - loss: 1.4604 - val_accuracy: 0.7741 - val_loss: 1.6269\n",
      "\n",
      "🔹 Training Fold 2/5...\n",
      "Found 1080 validated image filenames belonging to 3 classes.\n",
      "Found 270 validated image filenames belonging to 3 classes.\n"
     ]
    },
    {
     "name": "stderr",
     "output_type": "stream",
     "text": [
      "/usr/local/lib/python3.11/dist-packages/keras/src/layers/activations/leaky_relu.py:41: UserWarning: Argument `alpha` is deprecated. Use `negative_slope` instead.\n",
      "  warnings.warn(\n",
      "/usr/local/lib/python3.11/dist-packages/keras/src/trainers/data_adapters/py_dataset_adapter.py:121: UserWarning: Your `PyDataset` class should call `super().__init__(**kwargs)` in its constructor. `**kwargs` can include `workers`, `use_multiprocessing`, `max_queue_size`. Do not pass these arguments to `fit()`, as they will be ignored.\n",
      "  self._warn_if_super_not_called()\n"
     ]
    },
    {
     "name": "stdout",
     "output_type": "stream",
     "text": [
      "Epoch 1/50\n",
      "\u001b[1m34/34\u001b[0m \u001b[32m━━━━━━━━━━━━━━━━━━━━\u001b[0m\u001b[37m\u001b[0m \u001b[1m31s\u001b[0m 776ms/step - accuracy: 0.3921 - loss: 2.7685 - val_accuracy: 0.4148 - val_loss: 3.3707\n",
      "Epoch 2/50\n",
      "\u001b[1m34/34\u001b[0m \u001b[32m━━━━━━━━━━━━━━━━━━━━\u001b[0m\u001b[37m\u001b[0m \u001b[1m22s\u001b[0m 651ms/step - accuracy: 0.5308 - loss: 2.4684 - val_accuracy: 0.5333 - val_loss: 2.5220\n",
      "Epoch 3/50\n",
      "\u001b[1m34/34\u001b[0m \u001b[32m━━━━━━━━━━━━━━━━━━━━\u001b[0m\u001b[37m\u001b[0m \u001b[1m41s\u001b[0m 654ms/step - accuracy: 0.5605 - loss: 2.3171 - val_accuracy: 0.5370 - val_loss: 2.4506\n",
      "Epoch 4/50\n",
      "\u001b[1m34/34\u001b[0m \u001b[32m━━━━━━━━━━━━━━━━━━━━\u001b[0m\u001b[37m\u001b[0m \u001b[1m22s\u001b[0m 646ms/step - accuracy: 0.5783 - loss: 2.2415 - val_accuracy: 0.5815 - val_loss: 2.2952\n",
      "Epoch 5/50\n",
      "\u001b[1m34/34\u001b[0m \u001b[32m━━━━━━━━━━━━━━━━━━━━\u001b[0m\u001b[37m\u001b[0m \u001b[1m21s\u001b[0m 614ms/step - accuracy: 0.6285 - loss: 2.2104 - val_accuracy: 0.6000 - val_loss: 2.2481\n",
      "Epoch 6/50\n",
      "\u001b[1m34/34\u001b[0m \u001b[32m━━━━━━━━━━━━━━━━━━━━\u001b[0m\u001b[37m\u001b[0m \u001b[1m42s\u001b[0m 639ms/step - accuracy: 0.6426 - loss: 2.1380 - val_accuracy: 0.6296 - val_loss: 2.1573\n",
      "Epoch 7/50\n",
      "\u001b[1m34/34\u001b[0m \u001b[32m━━━━━━━━━━━━━━━━━━━━\u001b[0m\u001b[37m\u001b[0m \u001b[1m22s\u001b[0m 635ms/step - accuracy: 0.6469 - loss: 2.0808 - val_accuracy: 0.6593 - val_loss: 2.1029\n",
      "Epoch 8/50\n",
      "\u001b[1m34/34\u001b[0m \u001b[32m━━━━━━━━━━━━━━━━━━━━\u001b[0m\u001b[37m\u001b[0m \u001b[1m42s\u001b[0m 676ms/step - accuracy: 0.6691 - loss: 2.0790 - val_accuracy: 0.6593 - val_loss: 2.0706\n",
      "Epoch 9/50\n",
      "\u001b[1m34/34\u001b[0m \u001b[32m━━━━━━━━━━━━━━━━━━━━\u001b[0m\u001b[37m\u001b[0m \u001b[1m40s\u001b[0m 652ms/step - accuracy: 0.6908 - loss: 2.0082 - val_accuracy: 0.6148 - val_loss: 2.0929\n",
      "Epoch 10/50\n",
      "\u001b[1m34/34\u001b[0m \u001b[32m━━━━━━━━━━━━━━━━━━━━\u001b[0m\u001b[37m\u001b[0m \u001b[1m42s\u001b[0m 679ms/step - accuracy: 0.6718 - loss: 2.0138 - val_accuracy: 0.6741 - val_loss: 2.0233\n",
      "Epoch 11/50\n",
      "\u001b[1m34/34\u001b[0m \u001b[32m━━━━━━━━━━━━━━━━━━━━\u001b[0m\u001b[37m\u001b[0m \u001b[1m40s\u001b[0m 632ms/step - accuracy: 0.7265 - loss: 1.9035 - val_accuracy: 0.6630 - val_loss: 2.0292\n",
      "Epoch 12/50\n",
      "\u001b[1m34/34\u001b[0m \u001b[32m━━━━━━━━━━━━━━━━━━━━\u001b[0m\u001b[37m\u001b[0m \u001b[1m40s\u001b[0m 625ms/step - accuracy: 0.7184 - loss: 1.9386 - val_accuracy: 0.6815 - val_loss: 2.0385\n",
      "Epoch 13/50\n",
      "\u001b[1m34/34\u001b[0m \u001b[32m━━━━━━━━━━━━━━━━━━━━\u001b[0m\u001b[37m\u001b[0m \u001b[1m22s\u001b[0m 652ms/step - accuracy: 0.7298 - loss: 1.8830 - val_accuracy: 0.6704 - val_loss: 2.0229\n",
      "Epoch 14/50\n",
      "\u001b[1m34/34\u001b[0m \u001b[32m━━━━━━━━━━━━━━━━━━━━\u001b[0m\u001b[37m\u001b[0m \u001b[1m22s\u001b[0m 656ms/step - accuracy: 0.7078 - loss: 1.9401 - val_accuracy: 0.6852 - val_loss: 1.9857\n",
      "Epoch 15/50\n",
      "\u001b[1m34/34\u001b[0m \u001b[32m━━━━━━━━━━━━━━━━━━━━\u001b[0m\u001b[37m\u001b[0m \u001b[1m41s\u001b[0m 647ms/step - accuracy: 0.7235 - loss: 1.9073 - val_accuracy: 0.6741 - val_loss: 2.0095\n",
      "Epoch 16/50\n",
      "\u001b[1m34/34\u001b[0m \u001b[32m━━━━━━━━━━━━━━━━━━━━\u001b[0m\u001b[37m\u001b[0m \u001b[1m21s\u001b[0m 622ms/step - accuracy: 0.7348 - loss: 1.8471 - val_accuracy: 0.6741 - val_loss: 1.9903\n",
      "Epoch 17/50\n",
      "\u001b[1m34/34\u001b[0m \u001b[32m━━━━━━━━━━━━━━━━━━━━\u001b[0m\u001b[37m\u001b[0m \u001b[1m21s\u001b[0m 630ms/step - accuracy: 0.7402 - loss: 1.8384 - val_accuracy: 0.7407 - val_loss: 1.8887\n",
      "Epoch 18/50\n",
      "\u001b[1m34/34\u001b[0m \u001b[32m━━━━━━━━━━━━━━━━━━━━\u001b[0m\u001b[37m\u001b[0m \u001b[1m40s\u001b[0m 613ms/step - accuracy: 0.7299 - loss: 1.8621 - val_accuracy: 0.6815 - val_loss: 1.9547\n",
      "Epoch 19/50\n",
      "\u001b[1m34/34\u001b[0m \u001b[32m━━━━━━━━━━━━━━━━━━━━\u001b[0m\u001b[37m\u001b[0m \u001b[1m22s\u001b[0m 647ms/step - accuracy: 0.7736 - loss: 1.7861 - val_accuracy: 0.6741 - val_loss: 2.0097\n",
      "Epoch 20/50\n",
      "\u001b[1m34/34\u001b[0m \u001b[32m━━━━━━━━━━━━━━━━━━━━\u001b[0m\u001b[37m\u001b[0m \u001b[1m22s\u001b[0m 654ms/step - accuracy: 0.7518 - loss: 1.7778 - val_accuracy: 0.6815 - val_loss: 1.9453\n",
      "Epoch 21/50\n",
      "\u001b[1m34/34\u001b[0m \u001b[32m━━━━━━━━━━━━━━━━━━━━\u001b[0m\u001b[37m\u001b[0m \u001b[1m41s\u001b[0m 671ms/step - accuracy: 0.7426 - loss: 1.7978 - val_accuracy: 0.7333 - val_loss: 1.8807\n",
      "Epoch 22/50\n",
      "\u001b[1m34/34\u001b[0m \u001b[32m━━━━━━━━━━━━━━━━━━━━\u001b[0m\u001b[37m\u001b[0m \u001b[1m41s\u001b[0m 652ms/step - accuracy: 0.7557 - loss: 1.7730 - val_accuracy: 0.7333 - val_loss: 1.8366\n",
      "Epoch 23/50\n",
      "\u001b[1m34/34\u001b[0m \u001b[32m━━━━━━━━━━━━━━━━━━━━\u001b[0m\u001b[37m\u001b[0m \u001b[1m41s\u001b[0m 655ms/step - accuracy: 0.7643 - loss: 1.7950 - val_accuracy: 0.7000 - val_loss: 1.9395\n",
      "Epoch 24/50\n",
      "\u001b[1m34/34\u001b[0m \u001b[32m━━━━━━━━━━━━━━━━━━━━\u001b[0m\u001b[37m\u001b[0m \u001b[1m22s\u001b[0m 648ms/step - accuracy: 0.8179 - loss: 1.6713 - val_accuracy: 0.7370 - val_loss: 1.8206\n",
      "Epoch 25/50\n",
      "\u001b[1m34/34\u001b[0m \u001b[32m━━━━━━━━━━━━━━━━━━━━\u001b[0m\u001b[37m\u001b[0m \u001b[1m40s\u001b[0m 612ms/step - accuracy: 0.8117 - loss: 1.6880 - val_accuracy: 0.7481 - val_loss: 1.8195\n",
      "Epoch 26/50\n",
      "\u001b[1m34/34\u001b[0m \u001b[32m━━━━━━━━━━━━━━━━━━━━\u001b[0m\u001b[37m\u001b[0m \u001b[1m42s\u001b[0m 651ms/step - accuracy: 0.7784 - loss: 1.7175 - val_accuracy: 0.7444 - val_loss: 1.8101\n",
      "Epoch 27/50\n",
      "\u001b[1m34/34\u001b[0m \u001b[32m━━━━━━━━━━━━━━━━━━━━\u001b[0m\u001b[37m\u001b[0m \u001b[1m21s\u001b[0m 615ms/step - accuracy: 0.8064 - loss: 1.6708 - val_accuracy: 0.7481 - val_loss: 1.8063\n",
      "Epoch 28/50\n",
      "\u001b[1m34/34\u001b[0m \u001b[32m━━━━━━━━━━━━━━━━━━━━\u001b[0m\u001b[37m\u001b[0m \u001b[1m42s\u001b[0m 661ms/step - accuracy: 0.8137 - loss: 1.6700 - val_accuracy: 0.7481 - val_loss: 1.8025\n",
      "Epoch 29/50\n",
      "\u001b[1m34/34\u001b[0m \u001b[32m━━━━━━━━━━━━━━━━━━━━\u001b[0m\u001b[37m\u001b[0m \u001b[1m41s\u001b[0m 658ms/step - accuracy: 0.8087 - loss: 1.6586 - val_accuracy: 0.7296 - val_loss: 1.8056\n",
      "Epoch 30/50\n",
      "\u001b[1m34/34\u001b[0m \u001b[32m━━━━━━━━━━━━━━━━━━━━\u001b[0m\u001b[37m\u001b[0m \u001b[1m21s\u001b[0m 626ms/step - accuracy: 0.8201 - loss: 1.6333 - val_accuracy: 0.7630 - val_loss: 1.7879\n",
      "Epoch 31/50\n",
      "\u001b[1m34/34\u001b[0m \u001b[32m━━━━━━━━━━━━━━━━━━━━\u001b[0m\u001b[37m\u001b[0m \u001b[1m22s\u001b[0m 651ms/step - accuracy: 0.8156 - loss: 1.6566 - val_accuracy: 0.7296 - val_loss: 1.7812\n",
      "Epoch 32/50\n",
      "\u001b[1m34/34\u001b[0m \u001b[32m━━━━━━━━━━━━━━━━━━━━\u001b[0m\u001b[37m\u001b[0m \u001b[1m22s\u001b[0m 664ms/step - accuracy: 0.8266 - loss: 1.6001 - val_accuracy: 0.7667 - val_loss: 1.7511\n",
      "Epoch 33/50\n",
      "\u001b[1m34/34\u001b[0m \u001b[32m━━━━━━━━━━━━━━━━━━━━\u001b[0m\u001b[37m\u001b[0m \u001b[1m23s\u001b[0m 669ms/step - accuracy: 0.7810 - loss: 1.6711 - val_accuracy: 0.7556 - val_loss: 1.7776\n",
      "Epoch 34/50\n",
      "\u001b[1m34/34\u001b[0m \u001b[32m━━━━━━━━━━━━━━━━━━━━\u001b[0m\u001b[37m\u001b[0m \u001b[1m22s\u001b[0m 633ms/step - accuracy: 0.8422 - loss: 1.5581 - val_accuracy: 0.7407 - val_loss: 1.7781\n",
      "Epoch 35/50\n",
      "\u001b[1m34/34\u001b[0m \u001b[32m━━━━━━━━━━━━━━━━━━━━\u001b[0m\u001b[37m\u001b[0m \u001b[1m22s\u001b[0m 651ms/step - accuracy: 0.8155 - loss: 1.6081 - val_accuracy: 0.7481 - val_loss: 1.7912\n",
      "Epoch 36/50\n",
      "\u001b[1m34/34\u001b[0m \u001b[32m━━━━━━━━━━━━━━━━━━━━\u001b[0m\u001b[37m\u001b[0m \u001b[1m41s\u001b[0m 637ms/step - accuracy: 0.8323 - loss: 1.5465 - val_accuracy: 0.7704 - val_loss: 1.7293\n",
      "Epoch 37/50\n",
      "\u001b[1m34/34\u001b[0m \u001b[32m━━━━━━━━━━━━━━━━━━━━\u001b[0m\u001b[37m\u001b[0m \u001b[1m40s\u001b[0m 617ms/step - accuracy: 0.8381 - loss: 1.5422 - val_accuracy: 0.7556 - val_loss: 1.7333\n",
      "Epoch 38/50\n",
      "\u001b[1m34/34\u001b[0m \u001b[32m━━━━━━━━━━━━━━━━━━━━\u001b[0m\u001b[37m\u001b[0m \u001b[1m22s\u001b[0m 648ms/step - accuracy: 0.8263 - loss: 1.5702 - val_accuracy: 0.7667 - val_loss: 1.6641\n",
      "Epoch 39/50\n",
      "\u001b[1m34/34\u001b[0m \u001b[32m━━━━━━━━━━━━━━━━━━━━\u001b[0m\u001b[37m\u001b[0m \u001b[1m22s\u001b[0m 643ms/step - accuracy: 0.8460 - loss: 1.5394 - val_accuracy: 0.7370 - val_loss: 1.7273\n",
      "Epoch 40/50\n",
      "\u001b[1m34/34\u001b[0m \u001b[32m━━━━━━━━━━━━━━━━━━━━\u001b[0m\u001b[37m\u001b[0m \u001b[1m41s\u001b[0m 650ms/step - accuracy: 0.8103 - loss: 1.5742 - val_accuracy: 0.7481 - val_loss: 1.7430\n",
      "Epoch 41/50\n",
      "\u001b[1m34/34\u001b[0m \u001b[32m━━━━━━━━━━━━━━━━━━━━\u001b[0m\u001b[37m\u001b[0m \u001b[1m22s\u001b[0m 664ms/step - accuracy: 0.8325 - loss: 1.5135 - val_accuracy: 0.7481 - val_loss: 1.7061\n",
      "Epoch 42/50\n",
      "\u001b[1m34/34\u001b[0m \u001b[32m━━━━━━━━━━━━━━━━━━━━\u001b[0m\u001b[37m\u001b[0m \u001b[1m41s\u001b[0m 653ms/step - accuracy: 0.8196 - loss: 1.5146 - val_accuracy: 0.7519 - val_loss: 1.7712\n",
      "Epoch 43/50\n",
      "\u001b[1m34/34\u001b[0m \u001b[32m━━━━━━━━━━━━━━━━━━━━\u001b[0m\u001b[37m\u001b[0m \u001b[1m21s\u001b[0m 621ms/step - accuracy: 0.8421 - loss: 1.4794 - val_accuracy: 0.7556 - val_loss: 1.6858\n",
      "Epoch 44/50\n",
      "\u001b[1m34/34\u001b[0m \u001b[32m━━━━━━━━━━━━━━━━━━━━\u001b[0m\u001b[37m\u001b[0m \u001b[1m22s\u001b[0m 654ms/step - accuracy: 0.8467 - loss: 1.4653 - val_accuracy: 0.7778 - val_loss: 1.6227\n",
      "Epoch 45/50\n",
      "\u001b[1m34/34\u001b[0m \u001b[32m━━━━━━━━━━━━━━━━━━━━\u001b[0m\u001b[37m\u001b[0m \u001b[1m22s\u001b[0m 651ms/step - accuracy: 0.8490 - loss: 1.5144 - val_accuracy: 0.7815 - val_loss: 1.5975\n",
      "Epoch 46/50\n",
      "\u001b[1m34/34\u001b[0m \u001b[32m━━━━━━━━━━━━━━━━━━━━\u001b[0m\u001b[37m\u001b[0m \u001b[1m21s\u001b[0m 620ms/step - accuracy: 0.8485 - loss: 1.4474 - val_accuracy: 0.7778 - val_loss: 1.6160\n",
      "Epoch 47/50\n",
      "\u001b[1m34/34\u001b[0m \u001b[32m━━━━━━━━━━━━━━━━━━━━\u001b[0m\u001b[37m\u001b[0m \u001b[1m42s\u001b[0m 656ms/step - accuracy: 0.8511 - loss: 1.4520 - val_accuracy: 0.8000 - val_loss: 1.6115\n",
      "Epoch 48/50\n",
      "\u001b[1m34/34\u001b[0m \u001b[32m━━━━━━━━━━━━━━━━━━━━\u001b[0m\u001b[37m\u001b[0m \u001b[1m21s\u001b[0m 630ms/step - accuracy: 0.8537 - loss: 1.4408 - val_accuracy: 0.7704 - val_loss: 1.6317\n",
      "Epoch 49/50\n",
      "\u001b[1m34/34\u001b[0m \u001b[32m━━━━━━━━━━━━━━━━━━━━\u001b[0m\u001b[37m\u001b[0m \u001b[1m42s\u001b[0m 653ms/step - accuracy: 0.8558 - loss: 1.4380 - val_accuracy: 0.7963 - val_loss: 1.5830\n",
      "Epoch 50/50\n",
      "\u001b[1m34/34\u001b[0m \u001b[32m━━━━━━━━━━━━━━━━━━━━\u001b[0m\u001b[37m\u001b[0m \u001b[1m21s\u001b[0m 621ms/step - accuracy: 0.8484 - loss: 1.4060 - val_accuracy: 0.7889 - val_loss: 1.5781\n",
      "\n",
      "🔹 Training Fold 3/5...\n",
      "Found 1080 validated image filenames belonging to 3 classes.\n",
      "Found 270 validated image filenames belonging to 3 classes.\n"
     ]
    },
    {
     "name": "stderr",
     "output_type": "stream",
     "text": [
      "/usr/local/lib/python3.11/dist-packages/keras/src/layers/activations/leaky_relu.py:41: UserWarning: Argument `alpha` is deprecated. Use `negative_slope` instead.\n",
      "  warnings.warn(\n",
      "/usr/local/lib/python3.11/dist-packages/keras/src/trainers/data_adapters/py_dataset_adapter.py:121: UserWarning: Your `PyDataset` class should call `super().__init__(**kwargs)` in its constructor. `**kwargs` can include `workers`, `use_multiprocessing`, `max_queue_size`. Do not pass these arguments to `fit()`, as they will be ignored.\n",
      "  self._warn_if_super_not_called()\n"
     ]
    },
    {
     "name": "stdout",
     "output_type": "stream",
     "text": [
      "Epoch 1/50\n",
      "\u001b[1m34/34\u001b[0m \u001b[32m━━━━━━━━━━━━━━━━━━━━\u001b[0m\u001b[37m\u001b[0m \u001b[1m31s\u001b[0m 754ms/step - accuracy: 0.3988 - loss: 2.8328 - val_accuracy: 0.4037 - val_loss: 3.1054\n",
      "Epoch 2/50\n",
      "\u001b[1m34/34\u001b[0m \u001b[32m━━━━━━━━━━━━━━━━━━━━\u001b[0m\u001b[37m\u001b[0m \u001b[1m21s\u001b[0m 613ms/step - accuracy: 0.5151 - loss: 2.5249 - val_accuracy: 0.5222 - val_loss: 2.4437\n",
      "Epoch 3/50\n",
      "\u001b[1m34/34\u001b[0m \u001b[32m━━━━━━━━━━━━━━━━━━━━\u001b[0m\u001b[37m\u001b[0m \u001b[1m22s\u001b[0m 647ms/step - accuracy: 0.5710 - loss: 2.3241 - val_accuracy: 0.5630 - val_loss: 2.3886\n",
      "Epoch 4/50\n",
      "\u001b[1m34/34\u001b[0m \u001b[32m━━━━━━━━━━━━━━━━━━━━\u001b[0m\u001b[37m\u001b[0m \u001b[1m22s\u001b[0m 657ms/step - accuracy: 0.5772 - loss: 2.2752 - val_accuracy: 0.5630 - val_loss: 2.2538\n",
      "Epoch 5/50\n",
      "\u001b[1m34/34\u001b[0m \u001b[32m━━━━━━━━━━━━━━━━━━━━\u001b[0m\u001b[37m\u001b[0m \u001b[1m22s\u001b[0m 637ms/step - accuracy: 0.5890 - loss: 2.2024 - val_accuracy: 0.5815 - val_loss: 2.2123\n",
      "Epoch 6/50\n",
      "\u001b[1m34/34\u001b[0m \u001b[32m━━━━━━━━━━━━━━━━━━━━\u001b[0m\u001b[37m\u001b[0m \u001b[1m22s\u001b[0m 663ms/step - accuracy: 0.6117 - loss: 2.1708 - val_accuracy: 0.6000 - val_loss: 2.1276\n",
      "Epoch 7/50\n",
      "\u001b[1m34/34\u001b[0m \u001b[32m━━━━━━━━━━━━━━━━━━━━\u001b[0m\u001b[37m\u001b[0m \u001b[1m41s\u001b[0m 647ms/step - accuracy: 0.6717 - loss: 2.0438 - val_accuracy: 0.6407 - val_loss: 2.1163\n",
      "Epoch 8/50\n",
      "\u001b[1m34/34\u001b[0m \u001b[32m━━━━━━━━━━━━━━━━━━━━\u001b[0m\u001b[37m\u001b[0m \u001b[1m40s\u001b[0m 628ms/step - accuracy: 0.6580 - loss: 2.0477 - val_accuracy: 0.6074 - val_loss: 2.1551\n",
      "Epoch 9/50\n",
      "\u001b[1m34/34\u001b[0m \u001b[32m━━━━━━━━━━━━━━━━━━━━\u001b[0m\u001b[37m\u001b[0m \u001b[1m22s\u001b[0m 650ms/step - accuracy: 0.6857 - loss: 2.0036 - val_accuracy: 0.5852 - val_loss: 2.1358\n",
      "Epoch 10/50\n",
      "\u001b[1m34/34\u001b[0m \u001b[32m━━━━━━━━━━━━━━━━━━━━\u001b[0m\u001b[37m\u001b[0m \u001b[1m40s\u001b[0m 618ms/step - accuracy: 0.6790 - loss: 2.0387 - val_accuracy: 0.6778 - val_loss: 2.0122\n",
      "Epoch 11/50\n",
      "\u001b[1m34/34\u001b[0m \u001b[32m━━━━━━━━━━━━━━━━━━━━\u001b[0m\u001b[37m\u001b[0m \u001b[1m22s\u001b[0m 665ms/step - accuracy: 0.6702 - loss: 2.0229 - val_accuracy: 0.6741 - val_loss: 2.0096\n",
      "Epoch 12/50\n",
      "\u001b[1m34/34\u001b[0m \u001b[32m━━━━━━━━━━━━━━━━━━━━\u001b[0m\u001b[37m\u001b[0m \u001b[1m21s\u001b[0m 634ms/step - accuracy: 0.6858 - loss: 1.9776 - val_accuracy: 0.6778 - val_loss: 1.9981\n",
      "Epoch 13/50\n",
      "\u001b[1m34/34\u001b[0m \u001b[32m━━━━━━━━━━━━━━━━━━━━\u001b[0m\u001b[37m\u001b[0m \u001b[1m41s\u001b[0m 648ms/step - accuracy: 0.7255 - loss: 1.9119 - val_accuracy: 0.7333 - val_loss: 1.8904\n",
      "Epoch 14/50\n",
      "\u001b[1m34/34\u001b[0m \u001b[32m━━━━━━━━━━━━━━━━━━━━\u001b[0m\u001b[37m\u001b[0m \u001b[1m41s\u001b[0m 643ms/step - accuracy: 0.7301 - loss: 1.8828 - val_accuracy: 0.7074 - val_loss: 1.9623\n",
      "Epoch 15/50\n",
      "\u001b[1m34/34\u001b[0m \u001b[32m━━━━━━━━━━━━━━━━━━━━\u001b[0m\u001b[37m\u001b[0m \u001b[1m40s\u001b[0m 613ms/step - accuracy: 0.7091 - loss: 1.9209 - val_accuracy: 0.6926 - val_loss: 1.9500\n",
      "Epoch 16/50\n",
      "\u001b[1m34/34\u001b[0m \u001b[32m━━━━━━━━━━━━━━━━━━━━\u001b[0m\u001b[37m\u001b[0m \u001b[1m42s\u001b[0m 661ms/step - accuracy: 0.7348 - loss: 1.8500 - val_accuracy: 0.6556 - val_loss: 2.0070\n",
      "Epoch 17/50\n",
      "\u001b[1m34/34\u001b[0m \u001b[32m━━━━━━━━━━━━━━━━━━━━\u001b[0m\u001b[37m\u001b[0m \u001b[1m21s\u001b[0m 614ms/step - accuracy: 0.7595 - loss: 1.8144 - val_accuracy: 0.6778 - val_loss: 1.9764\n",
      "Epoch 18/50\n",
      "\u001b[1m34/34\u001b[0m \u001b[32m━━━━━━━━━━━━━━━━━━━━\u001b[0m\u001b[37m\u001b[0m \u001b[1m42s\u001b[0m 654ms/step - accuracy: 0.7711 - loss: 1.8265 - val_accuracy: 0.6704 - val_loss: 1.9378\n",
      "Epoch 19/50\n",
      "\u001b[1m34/34\u001b[0m \u001b[32m━━━━━━━━━━━━━━━━━━━━\u001b[0m\u001b[37m\u001b[0m \u001b[1m21s\u001b[0m 611ms/step - accuracy: 0.7616 - loss: 1.7859 - val_accuracy: 0.7407 - val_loss: 1.8650\n",
      "Epoch 20/50\n",
      "\u001b[1m34/34\u001b[0m \u001b[32m━━━━━━━━━━━━━━━━━━━━\u001b[0m\u001b[37m\u001b[0m \u001b[1m23s\u001b[0m 669ms/step - accuracy: 0.8037 - loss: 1.7632 - val_accuracy: 0.7037 - val_loss: 1.9581\n",
      "Epoch 21/50\n",
      "\u001b[1m34/34\u001b[0m \u001b[32m━━━━━━━━━━━━━━━━━━━━\u001b[0m\u001b[37m\u001b[0m \u001b[1m22s\u001b[0m 646ms/step - accuracy: 0.7496 - loss: 1.7970 - val_accuracy: 0.7000 - val_loss: 1.9043\n",
      "Epoch 22/50\n",
      "\u001b[1m34/34\u001b[0m \u001b[32m━━━━━━━━━━━━━━━━━━━━\u001b[0m\u001b[37m\u001b[0m \u001b[1m42s\u001b[0m 669ms/step - accuracy: 0.7684 - loss: 1.7648 - val_accuracy: 0.7296 - val_loss: 1.8383\n",
      "Epoch 23/50\n",
      "\u001b[1m34/34\u001b[0m \u001b[32m━━━━━━━━━━━━━━━━━━━━\u001b[0m\u001b[37m\u001b[0m \u001b[1m41s\u001b[0m 661ms/step - accuracy: 0.7574 - loss: 1.7503 - val_accuracy: 0.7222 - val_loss: 1.8771\n",
      "Epoch 24/50\n",
      "\u001b[1m34/34\u001b[0m \u001b[32m━━━━━━━━━━━━━━━━━━━━\u001b[0m\u001b[37m\u001b[0m \u001b[1m40s\u001b[0m 631ms/step - accuracy: 0.7673 - loss: 1.7467 - val_accuracy: 0.7519 - val_loss: 1.8523\n",
      "Epoch 25/50\n",
      "\u001b[1m34/34\u001b[0m \u001b[32m━━━━━━━━━━━━━━━━━━━━\u001b[0m\u001b[37m\u001b[0m \u001b[1m22s\u001b[0m 651ms/step - accuracy: 0.7916 - loss: 1.7368 - val_accuracy: 0.7481 - val_loss: 1.8419\n",
      "Epoch 26/50\n",
      "\u001b[1m34/34\u001b[0m \u001b[32m━━━━━━━━━━━━━━━━━━━━\u001b[0m\u001b[37m\u001b[0m \u001b[1m22s\u001b[0m 651ms/step - accuracy: 0.7798 - loss: 1.7030 - val_accuracy: 0.7593 - val_loss: 1.7999\n",
      "Epoch 27/50\n",
      "\u001b[1m34/34\u001b[0m \u001b[32m━━━━━━━━━━━━━━━━━━━━\u001b[0m\u001b[37m\u001b[0m \u001b[1m41s\u001b[0m 665ms/step - accuracy: 0.8149 - loss: 1.6478 - val_accuracy: 0.7111 - val_loss: 1.8993\n",
      "Epoch 28/50\n",
      "\u001b[1m34/34\u001b[0m \u001b[32m━━━━━━━━━━━━━━━━━━━━\u001b[0m\u001b[37m\u001b[0m \u001b[1m41s\u001b[0m 663ms/step - accuracy: 0.8039 - loss: 1.6538 - val_accuracy: 0.7667 - val_loss: 1.7474\n",
      "Epoch 29/50\n",
      "\u001b[1m34/34\u001b[0m \u001b[32m━━━━━━━━━━━━━━━━━━━━\u001b[0m\u001b[37m\u001b[0m \u001b[1m22s\u001b[0m 655ms/step - accuracy: 0.7960 - loss: 1.6720 - val_accuracy: 0.7074 - val_loss: 1.8568\n",
      "Epoch 30/50\n",
      "\u001b[1m34/34\u001b[0m \u001b[32m━━━━━━━━━━━━━━━━━━━━\u001b[0m\u001b[37m\u001b[0m \u001b[1m21s\u001b[0m 610ms/step - accuracy: 0.8004 - loss: 1.6659 - val_accuracy: 0.7222 - val_loss: 1.7974\n",
      "Epoch 31/50\n",
      "\u001b[1m34/34\u001b[0m \u001b[32m━━━━━━━━━━━━━━━━━━━━\u001b[0m\u001b[37m\u001b[0m \u001b[1m43s\u001b[0m 667ms/step - accuracy: 0.8084 - loss: 1.6542 - val_accuracy: 0.7074 - val_loss: 1.8340\n",
      "Epoch 32/50\n",
      "\u001b[1m34/34\u001b[0m \u001b[32m━━━━━━━━━━━━━━━━━━━━\u001b[0m\u001b[37m\u001b[0m \u001b[1m41s\u001b[0m 659ms/step - accuracy: 0.8006 - loss: 1.6252 - val_accuracy: 0.7519 - val_loss: 1.7801\n",
      "Epoch 33/50\n",
      "\u001b[1m34/34\u001b[0m \u001b[32m━━━━━━━━━━━━━━━━━━━━\u001b[0m\u001b[37m\u001b[0m \u001b[1m21s\u001b[0m 633ms/step - accuracy: 0.8137 - loss: 1.5942 - val_accuracy: 0.6963 - val_loss: 1.8769\n",
      "Epoch 34/50\n",
      "\u001b[1m34/34\u001b[0m \u001b[32m━━━━━━━━━━━━━━━━━━━━\u001b[0m\u001b[37m\u001b[0m \u001b[1m42s\u001b[0m 653ms/step - accuracy: 0.8176 - loss: 1.5970 - val_accuracy: 0.7296 - val_loss: 1.7811\n",
      "Epoch 35/50\n",
      "\u001b[1m34/34\u001b[0m \u001b[32m━━━━━━━━━━━━━━━━━━━━\u001b[0m\u001b[37m\u001b[0m \u001b[1m41s\u001b[0m 644ms/step - accuracy: 0.8138 - loss: 1.5809 - val_accuracy: 0.7556 - val_loss: 1.7009\n",
      "Epoch 36/50\n",
      "\u001b[1m34/34\u001b[0m \u001b[32m━━━━━━━━━━━━━━━━━━━━\u001b[0m\u001b[37m\u001b[0m \u001b[1m41s\u001b[0m 643ms/step - accuracy: 0.8401 - loss: 1.5549 - val_accuracy: 0.7148 - val_loss: 1.7688\n",
      "Epoch 37/50\n",
      "\u001b[1m34/34\u001b[0m \u001b[32m━━━━━━━━━━━━━━━━━━━━\u001b[0m\u001b[37m\u001b[0m \u001b[1m22s\u001b[0m 641ms/step - accuracy: 0.8210 - loss: 1.5611 - val_accuracy: 0.7519 - val_loss: 1.7003\n",
      "Epoch 38/50\n",
      "\u001b[1m34/34\u001b[0m \u001b[32m━━━━━━━━━━━━━━━━━━━━\u001b[0m\u001b[37m\u001b[0m \u001b[1m40s\u001b[0m 616ms/step - accuracy: 0.8297 - loss: 1.5450 - val_accuracy: 0.8000 - val_loss: 1.6314\n",
      "Epoch 39/50\n",
      "\u001b[1m34/34\u001b[0m \u001b[32m━━━━━━━━━━━━━━━━━━━━\u001b[0m\u001b[37m\u001b[0m \u001b[1m43s\u001b[0m 682ms/step - accuracy: 0.8333 - loss: 1.5453 - val_accuracy: 0.7370 - val_loss: 1.7007\n",
      "Epoch 40/50\n",
      "\u001b[1m34/34\u001b[0m \u001b[32m━━━━━━━━━━━━━━━━━━━━\u001b[0m\u001b[37m\u001b[0m \u001b[1m46s\u001b[0m 829ms/step - accuracy: 0.8141 - loss: 1.5530 - val_accuracy: 0.7704 - val_loss: 1.6704\n",
      "Epoch 41/50\n",
      "\u001b[1m34/34\u001b[0m \u001b[32m━━━━━━━━━━━━━━━━━━━━\u001b[0m\u001b[37m\u001b[0m \u001b[1m22s\u001b[0m 663ms/step - accuracy: 0.8365 - loss: 1.4872 - val_accuracy: 0.7185 - val_loss: 1.7275\n",
      "Epoch 42/50\n",
      "\u001b[1m34/34\u001b[0m \u001b[32m━━━━━━━━━━━━━━━━━━━━\u001b[0m\u001b[37m\u001b[0m \u001b[1m23s\u001b[0m 672ms/step - accuracy: 0.8231 - loss: 1.5132 - val_accuracy: 0.7741 - val_loss: 1.6786\n",
      "Epoch 43/50\n",
      "\u001b[1m34/34\u001b[0m \u001b[32m━━━━━━━━━━━━━━━━━━━━\u001b[0m\u001b[37m\u001b[0m \u001b[1m22s\u001b[0m 643ms/step - accuracy: 0.8287 - loss: 1.5170 - val_accuracy: 0.7815 - val_loss: 1.6307\n",
      "Epoch 44/50\n",
      "\u001b[1m34/34\u001b[0m \u001b[32m━━━━━━━━━━━━━━━━━━━━\u001b[0m\u001b[37m\u001b[0m \u001b[1m40s\u001b[0m 619ms/step - accuracy: 0.8093 - loss: 1.5257 - val_accuracy: 0.7407 - val_loss: 1.6811\n",
      "Epoch 45/50\n",
      "\u001b[1m34/34\u001b[0m \u001b[32m━━━━━━━━━━━━━━━━━━━━\u001b[0m\u001b[37m\u001b[0m \u001b[1m22s\u001b[0m 640ms/step - accuracy: 0.8435 - loss: 1.4883 - val_accuracy: 0.7963 - val_loss: 1.5869\n",
      "Epoch 46/50\n",
      "\u001b[1m34/34\u001b[0m \u001b[32m━━━━━━━━━━━━━━━━━━━━\u001b[0m\u001b[37m\u001b[0m \u001b[1m40s\u001b[0m 624ms/step - accuracy: 0.8495 - loss: 1.4818 - val_accuracy: 0.7741 - val_loss: 1.6392\n",
      "Epoch 47/50\n",
      "\u001b[1m34/34\u001b[0m \u001b[32m━━━━━━━━━━━━━━━━━━━━\u001b[0m\u001b[37m\u001b[0m \u001b[1m42s\u001b[0m 669ms/step - accuracy: 0.8557 - loss: 1.4547 - val_accuracy: 0.7741 - val_loss: 1.5971\n",
      "Epoch 48/50\n",
      "\u001b[1m34/34\u001b[0m \u001b[32m━━━━━━━━━━━━━━━━━━━━\u001b[0m\u001b[37m\u001b[0m \u001b[1m40s\u001b[0m 651ms/step - accuracy: 0.8448 - loss: 1.4486 - val_accuracy: 0.7963 - val_loss: 1.5470\n",
      "Epoch 49/50\n",
      "\u001b[1m34/34\u001b[0m \u001b[32m━━━━━━━━━━━━━━━━━━━━\u001b[0m\u001b[37m\u001b[0m \u001b[1m21s\u001b[0m 630ms/step - accuracy: 0.8528 - loss: 1.4190 - val_accuracy: 0.7556 - val_loss: 1.6311\n",
      "Epoch 50/50\n",
      "\u001b[1m34/34\u001b[0m \u001b[32m━━━━━━━━━━━━━━━━━━━━\u001b[0m\u001b[37m\u001b[0m \u001b[1m41s\u001b[0m 648ms/step - accuracy: 0.8589 - loss: 1.4348 - val_accuracy: 0.7667 - val_loss: 1.6220\n",
      "\n",
      "🔹 Training Fold 4/5...\n",
      "Found 1080 validated image filenames belonging to 3 classes.\n",
      "Found 270 validated image filenames belonging to 3 classes.\n"
     ]
    },
    {
     "name": "stderr",
     "output_type": "stream",
     "text": [
      "/usr/local/lib/python3.11/dist-packages/keras/src/layers/activations/leaky_relu.py:41: UserWarning: Argument `alpha` is deprecated. Use `negative_slope` instead.\n",
      "  warnings.warn(\n",
      "/usr/local/lib/python3.11/dist-packages/keras/src/trainers/data_adapters/py_dataset_adapter.py:121: UserWarning: Your `PyDataset` class should call `super().__init__(**kwargs)` in its constructor. `**kwargs` can include `workers`, `use_multiprocessing`, `max_queue_size`. Do not pass these arguments to `fit()`, as they will be ignored.\n",
      "  self._warn_if_super_not_called()\n"
     ]
    },
    {
     "name": "stdout",
     "output_type": "stream",
     "text": [
      "Epoch 1/50\n",
      "\u001b[1m34/34\u001b[0m \u001b[32m━━━━━━━━━━━━━━━━━━━━\u001b[0m\u001b[37m\u001b[0m \u001b[1m31s\u001b[0m 763ms/step - accuracy: 0.3735 - loss: 2.8897 - val_accuracy: 0.5370 - val_loss: 2.6379\n",
      "Epoch 2/50\n",
      "\u001b[1m34/34\u001b[0m \u001b[32m━━━━━━━━━━━━━━━━━━━━\u001b[0m\u001b[37m\u001b[0m \u001b[1m35s\u001b[0m 651ms/step - accuracy: 0.5048 - loss: 2.5077 - val_accuracy: 0.4963 - val_loss: 2.5577\n",
      "Epoch 3/50\n",
      "\u001b[1m34/34\u001b[0m \u001b[32m━━━━━━━━━━━━━━━━━━━━\u001b[0m\u001b[37m\u001b[0m \u001b[1m42s\u001b[0m 669ms/step - accuracy: 0.5084 - loss: 2.4335 - val_accuracy: 0.5815 - val_loss: 2.3736\n",
      "Epoch 4/50\n",
      "\u001b[1m34/34\u001b[0m \u001b[32m━━━━━━━━━━━━━━━━━━━━\u001b[0m\u001b[37m\u001b[0m \u001b[1m40s\u001b[0m 642ms/step - accuracy: 0.5886 - loss: 2.2333 - val_accuracy: 0.5926 - val_loss: 2.2404\n",
      "Epoch 5/50\n",
      "\u001b[1m34/34\u001b[0m \u001b[32m━━━━━━━━━━━━━━━━━━━━\u001b[0m\u001b[37m\u001b[0m \u001b[1m22s\u001b[0m 643ms/step - accuracy: 0.6268 - loss: 2.2080 - val_accuracy: 0.6000 - val_loss: 2.1822\n",
      "Epoch 6/50\n",
      "\u001b[1m34/34\u001b[0m \u001b[32m━━━━━━━━━━━━━━━━━━━━\u001b[0m\u001b[37m\u001b[0m \u001b[1m41s\u001b[0m 654ms/step - accuracy: 0.6411 - loss: 2.1240 - val_accuracy: 0.6259 - val_loss: 2.1798\n",
      "Epoch 7/50\n",
      "\u001b[1m34/34\u001b[0m \u001b[32m━━━━━━━━━━━━━━━━━━━━\u001b[0m\u001b[37m\u001b[0m \u001b[1m41s\u001b[0m 644ms/step - accuracy: 0.6483 - loss: 2.1084 - val_accuracy: 0.6778 - val_loss: 2.0337\n",
      "Epoch 8/50\n",
      "\u001b[1m34/34\u001b[0m \u001b[32m━━━━━━━━━━━━━━━━━━━━\u001b[0m\u001b[37m\u001b[0m \u001b[1m40s\u001b[0m 615ms/step - accuracy: 0.6677 - loss: 2.1102 - val_accuracy: 0.6519 - val_loss: 2.0746\n",
      "Epoch 9/50\n",
      "\u001b[1m34/34\u001b[0m \u001b[32m━━━━━━━━━━━━━━━━━━━━\u001b[0m\u001b[37m\u001b[0m \u001b[1m22s\u001b[0m 644ms/step - accuracy: 0.6836 - loss: 2.0429 - val_accuracy: 0.6593 - val_loss: 2.0483\n",
      "Epoch 10/50\n",
      "\u001b[1m34/34\u001b[0m \u001b[32m━━━━━━━━━━━━━━━━━━━━\u001b[0m\u001b[37m\u001b[0m \u001b[1m41s\u001b[0m 623ms/step - accuracy: 0.7056 - loss: 1.9892 - val_accuracy: 0.6852 - val_loss: 1.9839\n",
      "Epoch 11/50\n",
      "\u001b[1m34/34\u001b[0m \u001b[32m━━━━━━━━━━━━━━━━━━━━\u001b[0m\u001b[37m\u001b[0m \u001b[1m42s\u001b[0m 656ms/step - accuracy: 0.6693 - loss: 2.0413 - val_accuracy: 0.6815 - val_loss: 2.0003\n",
      "Epoch 12/50\n",
      "\u001b[1m34/34\u001b[0m \u001b[32m━━━━━━━━━━━━━━━━━━━━\u001b[0m\u001b[37m\u001b[0m \u001b[1m41s\u001b[0m 661ms/step - accuracy: 0.7028 - loss: 2.0069 - val_accuracy: 0.6889 - val_loss: 2.0158\n",
      "Epoch 13/50\n",
      "\u001b[1m34/34\u001b[0m \u001b[32m━━━━━━━━━━━━━━━━━━━━\u001b[0m\u001b[37m\u001b[0m \u001b[1m21s\u001b[0m 623ms/step - accuracy: 0.6986 - loss: 1.9676 - val_accuracy: 0.6259 - val_loss: 2.0630\n",
      "Epoch 14/50\n",
      "\u001b[1m34/34\u001b[0m \u001b[32m━━━━━━━━━━━━━━━━━━━━\u001b[0m\u001b[37m\u001b[0m \u001b[1m22s\u001b[0m 645ms/step - accuracy: 0.7214 - loss: 1.8997 - val_accuracy: 0.6630 - val_loss: 2.0143\n",
      "Epoch 15/50\n",
      "\u001b[1m34/34\u001b[0m \u001b[32m━━━━━━━━━━━━━━━━━━━━\u001b[0m\u001b[37m\u001b[0m \u001b[1m22s\u001b[0m 654ms/step - accuracy: 0.7204 - loss: 1.9194 - val_accuracy: 0.7111 - val_loss: 1.9455\n",
      "Epoch 16/50\n",
      "\u001b[1m34/34\u001b[0m \u001b[32m━━━━━━━━━━━━━━━━━━━━\u001b[0m\u001b[37m\u001b[0m \u001b[1m21s\u001b[0m 609ms/step - accuracy: 0.7354 - loss: 1.8875 - val_accuracy: 0.7111 - val_loss: 1.8941\n",
      "Epoch 17/50\n",
      "\u001b[1m34/34\u001b[0m \u001b[32m━━━━━━━━━━━━━━━━━━━━\u001b[0m\u001b[37m\u001b[0m \u001b[1m22s\u001b[0m 647ms/step - accuracy: 0.7535 - loss: 1.8135 - val_accuracy: 0.7222 - val_loss: 1.8777\n",
      "Epoch 18/50\n",
      "\u001b[1m34/34\u001b[0m \u001b[32m━━━━━━━━━━━━━━━━━━━━\u001b[0m\u001b[37m\u001b[0m \u001b[1m40s\u001b[0m 610ms/step - accuracy: 0.7592 - loss: 1.8464 - val_accuracy: 0.7222 - val_loss: 1.8742\n",
      "Epoch 19/50\n",
      "\u001b[1m34/34\u001b[0m \u001b[32m━━━━━━━━━━━━━━━━━━━━\u001b[0m\u001b[37m\u001b[0m \u001b[1m22s\u001b[0m 645ms/step - accuracy: 0.7199 - loss: 1.8943 - val_accuracy: 0.7259 - val_loss: 1.8454\n",
      "Epoch 20/50\n",
      "\u001b[1m34/34\u001b[0m \u001b[32m━━━━━━━━━━━━━━━━━━━━\u001b[0m\u001b[37m\u001b[0m \u001b[1m41s\u001b[0m 639ms/step - accuracy: 0.7440 - loss: 1.8968 - val_accuracy: 0.6889 - val_loss: 1.9384\n",
      "Epoch 21/50\n",
      "\u001b[1m34/34\u001b[0m \u001b[32m━━━━━━━━━━━━━━━━━━━━\u001b[0m\u001b[37m\u001b[0m \u001b[1m22s\u001b[0m 650ms/step - accuracy: 0.7604 - loss: 1.8019 - val_accuracy: 0.7333 - val_loss: 1.8532\n",
      "Epoch 22/50\n",
      "\u001b[1m34/34\u001b[0m \u001b[32m━━━━━━━━━━━━━━━━━━━━\u001b[0m\u001b[37m\u001b[0m \u001b[1m41s\u001b[0m 653ms/step - accuracy: 0.7974 - loss: 1.7155 - val_accuracy: 0.7444 - val_loss: 1.8433\n",
      "Epoch 23/50\n",
      "\u001b[1m34/34\u001b[0m \u001b[32m━━━━━━━━━━━━━━━━━━━━\u001b[0m\u001b[37m\u001b[0m \u001b[1m41s\u001b[0m 638ms/step - accuracy: 0.7645 - loss: 1.8311 - val_accuracy: 0.7333 - val_loss: 1.8716\n",
      "Epoch 24/50\n",
      "\u001b[1m34/34\u001b[0m \u001b[32m━━━━━━━━━━━━━━━━━━━━\u001b[0m\u001b[37m\u001b[0m \u001b[1m40s\u001b[0m 620ms/step - accuracy: 0.8076 - loss: 1.7021 - val_accuracy: 0.7037 - val_loss: 1.8986\n",
      "Epoch 25/50\n",
      "\u001b[1m34/34\u001b[0m \u001b[32m━━━━━━━━━━━━━━━━━━━━\u001b[0m\u001b[37m\u001b[0m \u001b[1m42s\u001b[0m 651ms/step - accuracy: 0.7736 - loss: 1.7594 - val_accuracy: 0.7519 - val_loss: 1.8591\n",
      "Epoch 26/50\n",
      "\u001b[1m34/34\u001b[0m \u001b[32m━━━━━━━━━━━━━━━━━━━━\u001b[0m\u001b[37m\u001b[0m \u001b[1m41s\u001b[0m 650ms/step - accuracy: 0.7941 - loss: 1.7058 - val_accuracy: 0.7111 - val_loss: 1.8362\n",
      "Epoch 27/50\n",
      "\u001b[1m34/34\u001b[0m \u001b[32m━━━━━━━━━━━━━━━━━━━━\u001b[0m\u001b[37m\u001b[0m \u001b[1m41s\u001b[0m 643ms/step - accuracy: 0.7941 - loss: 1.7225 - val_accuracy: 0.7296 - val_loss: 1.8171\n",
      "Epoch 28/50\n",
      "\u001b[1m34/34\u001b[0m \u001b[32m━━━━━━━━━━━━━━━━━━━━\u001b[0m\u001b[37m\u001b[0m \u001b[1m22s\u001b[0m 652ms/step - accuracy: 0.7831 - loss: 1.7125 - val_accuracy: 0.7259 - val_loss: 1.8485\n",
      "Epoch 29/50\n",
      "\u001b[1m34/34\u001b[0m \u001b[32m━━━━━━━━━━━━━━━━━━━━\u001b[0m\u001b[37m\u001b[0m \u001b[1m21s\u001b[0m 618ms/step - accuracy: 0.7814 - loss: 1.6862 - val_accuracy: 0.7667 - val_loss: 1.7576\n",
      "Epoch 30/50\n",
      "\u001b[1m34/34\u001b[0m \u001b[32m━━━━━━━━━━━━━━━━━━━━\u001b[0m\u001b[37m\u001b[0m \u001b[1m22s\u001b[0m 660ms/step - accuracy: 0.8008 - loss: 1.6991 - val_accuracy: 0.7407 - val_loss: 1.7906\n",
      "Epoch 31/50\n",
      "\u001b[1m34/34\u001b[0m \u001b[32m━━━━━━━━━━━━━━━━━━━━\u001b[0m\u001b[37m\u001b[0m \u001b[1m40s\u001b[0m 621ms/step - accuracy: 0.7976 - loss: 1.6675 - val_accuracy: 0.7222 - val_loss: 1.7849\n",
      "Epoch 32/50\n",
      "\u001b[1m34/34\u001b[0m \u001b[32m━━━━━━━━━━━━━━━━━━━━\u001b[0m\u001b[37m\u001b[0m \u001b[1m42s\u001b[0m 650ms/step - accuracy: 0.7894 - loss: 1.6551 - val_accuracy: 0.7667 - val_loss: 1.7304\n",
      "Epoch 33/50\n",
      "\u001b[1m34/34\u001b[0m \u001b[32m━━━━━━━━━━━━━━━━━━━━\u001b[0m\u001b[37m\u001b[0m \u001b[1m41s\u001b[0m 650ms/step - accuracy: 0.7815 - loss: 1.6783 - val_accuracy: 0.7704 - val_loss: 1.7153\n",
      "Epoch 34/50\n",
      "\u001b[1m34/34\u001b[0m \u001b[32m━━━━━━━━━━━━━━━━━━━━\u001b[0m\u001b[37m\u001b[0m \u001b[1m21s\u001b[0m 614ms/step - accuracy: 0.7893 - loss: 1.6631 - val_accuracy: 0.7556 - val_loss: 1.6937\n",
      "Epoch 35/50\n",
      "\u001b[1m34/34\u001b[0m \u001b[32m━━━━━━━━━━━━━━━━━━━━\u001b[0m\u001b[37m\u001b[0m \u001b[1m22s\u001b[0m 641ms/step - accuracy: 0.8064 - loss: 1.6499 - val_accuracy: 0.7593 - val_loss: 1.6972\n",
      "Epoch 36/50\n",
      "\u001b[1m34/34\u001b[0m \u001b[32m━━━━━━━━━━━━━━━━━━━━\u001b[0m\u001b[37m\u001b[0m \u001b[1m40s\u001b[0m 612ms/step - accuracy: 0.8378 - loss: 1.5979 - val_accuracy: 0.7778 - val_loss: 1.6806\n",
      "Epoch 37/50\n",
      "\u001b[1m34/34\u001b[0m \u001b[32m━━━━━━━━━━━━━━━━━━━━\u001b[0m\u001b[37m\u001b[0m \u001b[1m22s\u001b[0m 639ms/step - accuracy: 0.8215 - loss: 1.5611 - val_accuracy: 0.7778 - val_loss: 1.7229\n",
      "Epoch 38/50\n",
      "\u001b[1m34/34\u001b[0m \u001b[32m━━━━━━━━━━━━━━━━━━━━\u001b[0m\u001b[37m\u001b[0m \u001b[1m22s\u001b[0m 648ms/step - accuracy: 0.8304 - loss: 1.5578 - val_accuracy: 0.7481 - val_loss: 1.7285\n",
      "Epoch 39/50\n",
      "\u001b[1m34/34\u001b[0m \u001b[32m━━━━━━━━━━━━━━━━━━━━\u001b[0m\u001b[37m\u001b[0m \u001b[1m41s\u001b[0m 644ms/step - accuracy: 0.8282 - loss: 1.5898 - val_accuracy: 0.8000 - val_loss: 1.6320\n",
      "Epoch 40/50\n",
      "\u001b[1m34/34\u001b[0m \u001b[32m━━━━━━━━━━━━━━━━━━━━\u001b[0m\u001b[37m\u001b[0m \u001b[1m22s\u001b[0m 656ms/step - accuracy: 0.7947 - loss: 1.6087 - val_accuracy: 0.7407 - val_loss: 1.6976\n",
      "Epoch 41/50\n",
      "\u001b[1m34/34\u001b[0m \u001b[32m━━━━━━━━━━━━━━━━━━━━\u001b[0m\u001b[37m\u001b[0m \u001b[1m41s\u001b[0m 653ms/step - accuracy: 0.8476 - loss: 1.5258 - val_accuracy: 0.7556 - val_loss: 1.7185\n",
      "Epoch 42/50\n",
      "\u001b[1m34/34\u001b[0m \u001b[32m━━━━━━━━━━━━━━━━━━━━\u001b[0m\u001b[37m\u001b[0m \u001b[1m22s\u001b[0m 648ms/step - accuracy: 0.8130 - loss: 1.5802 - val_accuracy: 0.7370 - val_loss: 1.6772\n",
      "Epoch 43/50\n",
      "\u001b[1m34/34\u001b[0m \u001b[32m━━━━━━━━━━━━━━━━━━━━\u001b[0m\u001b[37m\u001b[0m \u001b[1m22s\u001b[0m 640ms/step - accuracy: 0.8149 - loss: 1.5762 - val_accuracy: 0.7815 - val_loss: 1.6288\n",
      "Epoch 44/50\n",
      "\u001b[1m34/34\u001b[0m \u001b[32m━━━━━━━━━━━━━━━━━━━━\u001b[0m\u001b[37m\u001b[0m \u001b[1m40s\u001b[0m 620ms/step - accuracy: 0.8487 - loss: 1.5161 - val_accuracy: 0.7926 - val_loss: 1.6906\n",
      "Epoch 45/50\n",
      "\u001b[1m34/34\u001b[0m \u001b[32m━━━━━━━━━━━━━━━━━━━━\u001b[0m\u001b[37m\u001b[0m \u001b[1m42s\u001b[0m 648ms/step - accuracy: 0.8469 - loss: 1.4958 - val_accuracy: 0.7704 - val_loss: 1.6474\n",
      "Epoch 46/50\n",
      "\u001b[1m34/34\u001b[0m \u001b[32m━━━━━━━━━━━━━━━━━━━━\u001b[0m\u001b[37m\u001b[0m \u001b[1m21s\u001b[0m 622ms/step - accuracy: 0.8286 - loss: 1.5070 - val_accuracy: 0.7556 - val_loss: 1.6704\n",
      "Epoch 47/50\n",
      "\u001b[1m34/34\u001b[0m \u001b[32m━━━━━━━━━━━━━━━━━━━━\u001b[0m\u001b[37m\u001b[0m \u001b[1m22s\u001b[0m 650ms/step - accuracy: 0.8226 - loss: 1.5413 - val_accuracy: 0.7741 - val_loss: 1.6323\n",
      "Epoch 48/50\n",
      "\u001b[1m34/34\u001b[0m \u001b[32m━━━━━━━━━━━━━━━━━━━━\u001b[0m\u001b[37m\u001b[0m \u001b[1m22s\u001b[0m 647ms/step - accuracy: 0.8257 - loss: 1.5568 - val_accuracy: 0.8000 - val_loss: 1.6097\n",
      "Epoch 49/50\n",
      "\u001b[1m34/34\u001b[0m \u001b[32m━━━━━━━━━━━━━━━━━━━━\u001b[0m\u001b[37m\u001b[0m \u001b[1m41s\u001b[0m 652ms/step - accuracy: 0.8568 - loss: 1.5034 - val_accuracy: 0.7704 - val_loss: 1.6030\n",
      "Epoch 50/50\n",
      "\u001b[1m34/34\u001b[0m \u001b[32m━━━━━━━━━━━━━━━━━━━━\u001b[0m\u001b[37m\u001b[0m \u001b[1m41s\u001b[0m 639ms/step - accuracy: 0.8447 - loss: 1.4907 - val_accuracy: 0.7926 - val_loss: 1.6540\n",
      "\n",
      "🔹 Training Fold 5/5...\n",
      "Found 1080 validated image filenames belonging to 3 classes.\n",
      "Found 270 validated image filenames belonging to 3 classes.\n"
     ]
    },
    {
     "name": "stderr",
     "output_type": "stream",
     "text": [
      "/usr/local/lib/python3.11/dist-packages/keras/src/layers/activations/leaky_relu.py:41: UserWarning: Argument `alpha` is deprecated. Use `negative_slope` instead.\n",
      "  warnings.warn(\n",
      "/usr/local/lib/python3.11/dist-packages/keras/src/trainers/data_adapters/py_dataset_adapter.py:121: UserWarning: Your `PyDataset` class should call `super().__init__(**kwargs)` in its constructor. `**kwargs` can include `workers`, `use_multiprocessing`, `max_queue_size`. Do not pass these arguments to `fit()`, as they will be ignored.\n",
      "  self._warn_if_super_not_called()\n"
     ]
    },
    {
     "name": "stdout",
     "output_type": "stream",
     "text": [
      "Epoch 1/50\n",
      "\u001b[1m34/34\u001b[0m \u001b[32m━━━━━━━━━━━━━━━━━━━━\u001b[0m\u001b[37m\u001b[0m \u001b[1m30s\u001b[0m 717ms/step - accuracy: 0.3715 - loss: 2.8478 - val_accuracy: 0.4704 - val_loss: 2.7984\n",
      "Epoch 2/50\n",
      "\u001b[1m34/34\u001b[0m \u001b[32m━━━━━━━━━━━━━━━━━━━━\u001b[0m\u001b[37m\u001b[0m \u001b[1m22s\u001b[0m 637ms/step - accuracy: 0.4738 - loss: 2.5159 - val_accuracy: 0.5852 - val_loss: 2.4372\n",
      "Epoch 3/50\n",
      "\u001b[1m34/34\u001b[0m \u001b[32m━━━━━━━━━━━━━━━━━━━━\u001b[0m\u001b[37m\u001b[0m \u001b[1m22s\u001b[0m 647ms/step - accuracy: 0.5506 - loss: 2.3641 - val_accuracy: 0.5963 - val_loss: 2.3059\n",
      "Epoch 4/50\n",
      "\u001b[1m34/34\u001b[0m \u001b[32m━━━━━━━━━━━━━━━━━━━━\u001b[0m\u001b[37m\u001b[0m \u001b[1m21s\u001b[0m 609ms/step - accuracy: 0.5731 - loss: 2.2409 - val_accuracy: 0.5852 - val_loss: 2.2762\n",
      "Epoch 5/50\n",
      "\u001b[1m34/34\u001b[0m \u001b[32m━━━━━━━━━━━━━━━━━━━━\u001b[0m\u001b[37m\u001b[0m \u001b[1m22s\u001b[0m 643ms/step - accuracy: 0.6243 - loss: 2.2194 - val_accuracy: 0.6630 - val_loss: 2.1035\n",
      "Epoch 6/50\n",
      "\u001b[1m34/34\u001b[0m \u001b[32m━━━━━━━━━━━━━━━━━━━━\u001b[0m\u001b[37m\u001b[0m \u001b[1m41s\u001b[0m 626ms/step - accuracy: 0.6346 - loss: 2.1049 - val_accuracy: 0.6630 - val_loss: 2.0744\n",
      "Epoch 7/50\n",
      "\u001b[1m34/34\u001b[0m \u001b[32m━━━━━━━━━━━━━━━━━━━━\u001b[0m\u001b[37m\u001b[0m \u001b[1m42s\u001b[0m 657ms/step - accuracy: 0.6716 - loss: 2.0916 - val_accuracy: 0.7037 - val_loss: 2.0785\n",
      "Epoch 8/50\n",
      "\u001b[1m34/34\u001b[0m \u001b[32m━━━━━━━━━━━━━━━━━━━━\u001b[0m\u001b[37m\u001b[0m \u001b[1m41s\u001b[0m 652ms/step - accuracy: 0.6678 - loss: 2.0691 - val_accuracy: 0.7037 - val_loss: 2.0785\n",
      "Epoch 9/50\n",
      "\u001b[1m34/34\u001b[0m \u001b[32m━━━━━━━━━━━━━━━━━━━━\u001b[0m\u001b[37m\u001b[0m \u001b[1m43s\u001b[0m 700ms/step - accuracy: 0.6600 - loss: 2.0532 - val_accuracy: 0.7481 - val_loss: 1.9766\n",
      "Epoch 10/50\n",
      "\u001b[1m34/34\u001b[0m \u001b[32m━━━━━━━━━━━━━━━━━━━━\u001b[0m\u001b[37m\u001b[0m \u001b[1m39s\u001b[0m 639ms/step - accuracy: 0.6743 - loss: 2.0368 - val_accuracy: 0.7148 - val_loss: 1.9989\n",
      "Epoch 11/50\n",
      "\u001b[1m34/34\u001b[0m \u001b[32m━━━━━━━━━━━━━━━━━━━━\u001b[0m\u001b[37m\u001b[0m \u001b[1m40s\u001b[0m 616ms/step - accuracy: 0.7008 - loss: 1.9894 - val_accuracy: 0.7037 - val_loss: 2.0132\n",
      "Epoch 12/50\n",
      "\u001b[1m34/34\u001b[0m \u001b[32m━━━━━━━━━━━━━━━━━━━━\u001b[0m\u001b[37m\u001b[0m \u001b[1m22s\u001b[0m 647ms/step - accuracy: 0.7210 - loss: 1.9369 - val_accuracy: 0.7111 - val_loss: 1.9385\n",
      "Epoch 13/50\n",
      "\u001b[1m34/34\u001b[0m \u001b[32m━━━━━━━━━━━━━━━━━━━━\u001b[0m\u001b[37m\u001b[0m \u001b[1m40s\u001b[0m 617ms/step - accuracy: 0.7172 - loss: 1.9124 - val_accuracy: 0.7074 - val_loss: 1.9747\n",
      "Epoch 14/50\n",
      "\u001b[1m34/34\u001b[0m \u001b[32m━━━━━━━━━━━━━━━━━━━━\u001b[0m\u001b[37m\u001b[0m \u001b[1m42s\u001b[0m 655ms/step - accuracy: 0.7472 - loss: 1.8630 - val_accuracy: 0.7259 - val_loss: 1.9193\n",
      "Epoch 15/50\n",
      "\u001b[1m34/34\u001b[0m \u001b[32m━━━━━━━━━━━━━━━━━━━━\u001b[0m\u001b[37m\u001b[0m \u001b[1m21s\u001b[0m 612ms/step - accuracy: 0.7564 - loss: 1.8412 - val_accuracy: 0.7111 - val_loss: 1.9204\n",
      "Epoch 16/50\n",
      "\u001b[1m34/34\u001b[0m \u001b[32m━━━━━━━━━━━━━━━━━━━━\u001b[0m\u001b[37m\u001b[0m \u001b[1m22s\u001b[0m 649ms/step - accuracy: 0.7512 - loss: 1.8581 - val_accuracy: 0.7481 - val_loss: 1.8328\n",
      "Epoch 17/50\n",
      "\u001b[1m34/34\u001b[0m \u001b[32m━━━━━━━━━━━━━━━━━━━━\u001b[0m\u001b[37m\u001b[0m \u001b[1m40s\u001b[0m 628ms/step - accuracy: 0.7401 - loss: 1.8526 - val_accuracy: 0.7185 - val_loss: 1.9083\n",
      "Epoch 18/50\n",
      "\u001b[1m34/34\u001b[0m \u001b[32m━━━━━━━━━━━━━━━━━━━━\u001b[0m\u001b[37m\u001b[0m \u001b[1m22s\u001b[0m 651ms/step - accuracy: 0.7440 - loss: 1.8386 - val_accuracy: 0.6926 - val_loss: 1.9176\n",
      "Epoch 19/50\n",
      "\u001b[1m34/34\u001b[0m \u001b[32m━━━━━━━━━━━━━━━━━━━━\u001b[0m\u001b[37m\u001b[0m \u001b[1m41s\u001b[0m 653ms/step - accuracy: 0.7784 - loss: 1.7728 - val_accuracy: 0.7630 - val_loss: 1.8235\n",
      "Epoch 20/50\n",
      "\u001b[1m34/34\u001b[0m \u001b[32m━━━━━━━━━━━━━━━━━━━━\u001b[0m\u001b[37m\u001b[0m \u001b[1m22s\u001b[0m 650ms/step - accuracy: 0.7647 - loss: 1.8230 - val_accuracy: 0.7333 - val_loss: 1.8904\n",
      "Epoch 21/50\n",
      "\u001b[1m34/34\u001b[0m \u001b[32m━━━━━━━━━━━━━━━━━━━━\u001b[0m\u001b[37m\u001b[0m \u001b[1m21s\u001b[0m 612ms/step - accuracy: 0.7466 - loss: 1.7808 - val_accuracy: 0.7481 - val_loss: 1.8158\n",
      "Epoch 22/50\n",
      "\u001b[1m34/34\u001b[0m \u001b[32m━━━━━━━━━━━━━━━━━━━━\u001b[0m\u001b[37m\u001b[0m \u001b[1m22s\u001b[0m 653ms/step - accuracy: 0.7803 - loss: 1.7567 - val_accuracy: 0.7481 - val_loss: 1.8309\n",
      "Epoch 23/50\n",
      "\u001b[1m34/34\u001b[0m \u001b[32m━━━━━━━━━━━━━━━━━━━━\u001b[0m\u001b[37m\u001b[0m \u001b[1m41s\u001b[0m 646ms/step - accuracy: 0.7835 - loss: 1.7383 - val_accuracy: 0.7444 - val_loss: 1.8183\n",
      "Epoch 24/50\n",
      "\u001b[1m34/34\u001b[0m \u001b[32m━━━━━━━━━━━━━━━━━━━━\u001b[0m\u001b[37m\u001b[0m \u001b[1m40s\u001b[0m 623ms/step - accuracy: 0.7719 - loss: 1.7714 - val_accuracy: 0.7370 - val_loss: 1.8247\n",
      "Epoch 25/50\n",
      "\u001b[1m34/34\u001b[0m \u001b[32m━━━━━━━━━━━━━━━━━━━━\u001b[0m\u001b[37m\u001b[0m \u001b[1m42s\u001b[0m 642ms/step - accuracy: 0.8003 - loss: 1.7188 - val_accuracy: 0.7259 - val_loss: 1.7756\n",
      "Epoch 26/50\n",
      "\u001b[1m34/34\u001b[0m \u001b[32m━━━━━━━━━━━━━━━━━━━━\u001b[0m\u001b[37m\u001b[0m \u001b[1m21s\u001b[0m 618ms/step - accuracy: 0.8092 - loss: 1.6834 - val_accuracy: 0.7704 - val_loss: 1.7380\n",
      "Epoch 27/50\n",
      "\u001b[1m34/34\u001b[0m \u001b[32m━━━━━━━━━━━━━━━━━━━━\u001b[0m\u001b[37m\u001b[0m \u001b[1m42s\u001b[0m 640ms/step - accuracy: 0.8376 - loss: 1.6344 - val_accuracy: 0.7667 - val_loss: 1.7544\n",
      "Epoch 28/50\n",
      "\u001b[1m34/34\u001b[0m \u001b[32m━━━━━━━━━━━━━━━━━━━━\u001b[0m\u001b[37m\u001b[0m \u001b[1m21s\u001b[0m 615ms/step - accuracy: 0.8136 - loss: 1.6593 - val_accuracy: 0.7889 - val_loss: 1.7199\n",
      "Epoch 29/50\n",
      "\u001b[1m34/34\u001b[0m \u001b[32m━━━━━━━━━━━━━━━━━━━━\u001b[0m\u001b[37m\u001b[0m \u001b[1m22s\u001b[0m 650ms/step - accuracy: 0.8094 - loss: 1.6458 - val_accuracy: 0.7778 - val_loss: 1.7287\n",
      "Epoch 30/50\n",
      "\u001b[1m34/34\u001b[0m \u001b[32m━━━━━━━━━━━━━━━━━━━━\u001b[0m\u001b[37m\u001b[0m \u001b[1m41s\u001b[0m 653ms/step - accuracy: 0.7943 - loss: 1.6582 - val_accuracy: 0.7630 - val_loss: 1.7360\n",
      "Epoch 31/50\n",
      "\u001b[1m34/34\u001b[0m \u001b[32m━━━━━━━━━━━━━━━━━━━━\u001b[0m\u001b[37m\u001b[0m \u001b[1m22s\u001b[0m 654ms/step - accuracy: 0.8007 - loss: 1.6488 - val_accuracy: 0.7556 - val_loss: 1.7639\n",
      "Epoch 32/50\n",
      "\u001b[1m34/34\u001b[0m \u001b[32m━━━━━━━━━━━━━━━━━━━━\u001b[0m\u001b[37m\u001b[0m \u001b[1m41s\u001b[0m 656ms/step - accuracy: 0.8018 - loss: 1.6572 - val_accuracy: 0.7778 - val_loss: 1.6973\n",
      "Epoch 33/50\n",
      "\u001b[1m34/34\u001b[0m \u001b[32m━━━━━━━━━━━━━━━━━━━━\u001b[0m\u001b[37m\u001b[0m \u001b[1m22s\u001b[0m 658ms/step - accuracy: 0.8029 - loss: 1.6332 - val_accuracy: 0.7778 - val_loss: 1.6692\n",
      "Epoch 34/50\n",
      "\u001b[1m34/34\u001b[0m \u001b[32m━━━━━━━━━━━━━━━━━━━━\u001b[0m\u001b[37m\u001b[0m \u001b[1m21s\u001b[0m 622ms/step - accuracy: 0.8071 - loss: 1.6203 - val_accuracy: 0.7926 - val_loss: 1.6839\n",
      "Epoch 35/50\n",
      "\u001b[1m34/34\u001b[0m \u001b[32m━━━━━━━━━━━━━━━━━━━━\u001b[0m\u001b[37m\u001b[0m \u001b[1m41s\u001b[0m 625ms/step - accuracy: 0.8038 - loss: 1.5864 - val_accuracy: 0.7778 - val_loss: 1.6548\n",
      "Epoch 36/50\n",
      "\u001b[1m34/34\u001b[0m \u001b[32m━━━━━━━━━━━━━━━━━━━━\u001b[0m\u001b[37m\u001b[0m \u001b[1m21s\u001b[0m 626ms/step - accuracy: 0.8252 - loss: 1.5530 - val_accuracy: 0.7370 - val_loss: 1.7619\n",
      "Epoch 37/50\n",
      "\u001b[1m34/34\u001b[0m \u001b[32m━━━━━━━━━━━━━━━━━━━━\u001b[0m\u001b[37m\u001b[0m \u001b[1m40s\u001b[0m 609ms/step - accuracy: 0.8117 - loss: 1.5685 - val_accuracy: 0.7778 - val_loss: 1.6346\n",
      "Epoch 38/50\n",
      "\u001b[1m34/34\u001b[0m \u001b[32m━━━━━━━━━━━━━━━━━━━━\u001b[0m\u001b[37m\u001b[0m \u001b[1m42s\u001b[0m 656ms/step - accuracy: 0.8066 - loss: 1.5726 - val_accuracy: 0.7963 - val_loss: 1.6521\n",
      "Epoch 39/50\n",
      "\u001b[1m34/34\u001b[0m \u001b[32m━━━━━━━━━━━━━━━━━━━━\u001b[0m\u001b[37m\u001b[0m \u001b[1m21s\u001b[0m 611ms/step - accuracy: 0.8434 - loss: 1.5523 - val_accuracy: 0.7815 - val_loss: 1.6544\n",
      "Epoch 40/50\n",
      "\u001b[1m34/34\u001b[0m \u001b[32m━━━━━━━━━━━━━━━━━━━━\u001b[0m\u001b[37m\u001b[0m \u001b[1m42s\u001b[0m 646ms/step - accuracy: 0.8178 - loss: 1.5731 - val_accuracy: 0.7889 - val_loss: 1.7008\n",
      "Epoch 41/50\n",
      "\u001b[1m34/34\u001b[0m \u001b[32m━━━━━━━━━━━━━━━━━━━━\u001b[0m\u001b[37m\u001b[0m \u001b[1m21s\u001b[0m 613ms/step - accuracy: 0.8277 - loss: 1.5452 - val_accuracy: 0.7741 - val_loss: 1.6164\n",
      "Epoch 42/50\n",
      "\u001b[1m34/34\u001b[0m \u001b[32m━━━━━━━━━━━━━━━━━━━━\u001b[0m\u001b[37m\u001b[0m \u001b[1m42s\u001b[0m 653ms/step - accuracy: 0.8108 - loss: 1.5469 - val_accuracy: 0.7667 - val_loss: 1.6929\n",
      "Epoch 43/50\n",
      "\u001b[1m34/34\u001b[0m \u001b[32m━━━━━━━━━━━━━━━━━━━━\u001b[0m\u001b[37m\u001b[0m \u001b[1m41s\u001b[0m 654ms/step - accuracy: 0.8194 - loss: 1.5213 - val_accuracy: 0.7852 - val_loss: 1.6140\n",
      "Epoch 44/50\n",
      "\u001b[1m34/34\u001b[0m \u001b[32m━━━━━━━━━━━━━━━━━━━━\u001b[0m\u001b[37m\u001b[0m \u001b[1m22s\u001b[0m 642ms/step - accuracy: 0.8549 - loss: 1.4764 - val_accuracy: 0.8111 - val_loss: 1.5790\n",
      "Epoch 45/50\n",
      "\u001b[1m34/34\u001b[0m \u001b[32m━━━━━━━━━━━━━━━━━━━━\u001b[0m\u001b[37m\u001b[0m \u001b[1m42s\u001b[0m 663ms/step - accuracy: 0.8505 - loss: 1.4712 - val_accuracy: 0.8074 - val_loss: 1.5844\n",
      "Epoch 46/50\n",
      "\u001b[1m34/34\u001b[0m \u001b[32m━━━━━━━━━━━━━━━━━━━━\u001b[0m\u001b[37m\u001b[0m \u001b[1m22s\u001b[0m 637ms/step - accuracy: 0.8563 - loss: 1.4674 - val_accuracy: 0.7889 - val_loss: 1.5948\n",
      "Epoch 47/50\n",
      "\u001b[1m34/34\u001b[0m \u001b[32m━━━━━━━━━━━━━━━━━━━━\u001b[0m\u001b[37m\u001b[0m \u001b[1m22s\u001b[0m 633ms/step - accuracy: 0.8535 - loss: 1.4253 - val_accuracy: 0.7815 - val_loss: 1.6029\n",
      "Epoch 48/50\n",
      "\u001b[1m34/34\u001b[0m \u001b[32m━━━━━━━━━━━━━━━━━━━━\u001b[0m\u001b[37m\u001b[0m \u001b[1m22s\u001b[0m 651ms/step - accuracy: 0.8391 - loss: 1.4541 - val_accuracy: 0.7593 - val_loss: 1.6396\n",
      "Epoch 49/50\n",
      "\u001b[1m34/34\u001b[0m \u001b[32m━━━━━━━━━━━━━━━━━━━━\u001b[0m\u001b[37m\u001b[0m \u001b[1m41s\u001b[0m 661ms/step - accuracy: 0.8413 - loss: 1.4509 - val_accuracy: 0.7815 - val_loss: 1.5782\n",
      "Epoch 50/50\n",
      "\u001b[1m34/34\u001b[0m \u001b[32m━━━━━━━━━━━━━━━━━━━━\u001b[0m\u001b[37m\u001b[0m \u001b[1m40s\u001b[0m 628ms/step - accuracy: 0.8479 - loss: 1.4458 - val_accuracy: 0.7778 - val_loss: 1.6105\n"
     ]
    }
   ],
   "source": [
    "# Getting only the class folders (dry, normal, oily) and ignore the non directory files\n",
    "class_names = sorted(\n",
    "    [d for d in os.listdir(train_dir) if os.path.isdir(os.path.join(train_dir, d))]\n",
    ")\n",
    "\n",
    "class_to_idx = {class_name: i for i, class_name in enumerate(class_names)}\n",
    "idx_to_class = {v: k for k, v in class_to_idx.items()}  \n",
    "\n",
    "image_paths = []\n",
    "labels = []\n",
    "\n",
    "# Getting the images paths and their corresponding labels\n",
    "for class_name in class_names:\n",
    "    class_path = os.path.join(train_dir, class_name)\n",
    "    for img_name in os.listdir(class_path):\n",
    "        img_path = os.path.join(class_path, img_name)\n",
    "        if os.path.isfile(img_path):  \n",
    "            image_paths.append(img_path)\n",
    "            labels.append(class_to_idx[class_name])\n",
    "\n",
    "image_paths = np.array(image_paths)\n",
    "labels = np.array(labels)\n",
    "\n",
    "# Defining the K-Fold Cross Validation\n",
    "k = 5  # The number of the folds\n",
    "skf = StratifiedKFold(n_splits=k, shuffle=True, random_state=42)\n",
    "\n",
    "# The Image data generator\n",
    "datagen = ImageDataGenerator(\n",
    "    preprocessing_function=tf.keras.applications.vgg16.preprocess_input,\n",
    "    rotation_range=30,\n",
    "    width_shift_range=0.2,\n",
    "    height_shift_range=0.2,\n",
    "    horizontal_flip=True,\n",
    "    zoom_range=0.15,\n",
    "    shear_range=0.15,\n",
    "    fill_mode='nearest'\n",
    ")\n",
    "\n",
    "# Looping over each fold\n",
    "fold_no = 1\n",
    "for train_idx, val_idx in skf.split(image_paths, labels):\n",
    "    print(f\"\\nTraining Fold {fold_no}/{k}...\")\n",
    "\n",
    "    # Splitting the data\n",
    "    train_paths, val_paths = image_paths[train_idx], image_paths[val_idx]\n",
    "    train_labels, val_labels = labels[train_idx], labels[val_idx]\n",
    "\n",
    "    # Converting the integer labels to class names\n",
    "    train_labels_str = [idx_to_class[label] for label in train_labels]\n",
    "    val_labels_str = [idx_to_class[label] for label in val_labels]\n",
    "\n",
    "    # Creating the dataframes\n",
    "    train_df = pd.DataFrame({'filename': train_paths, 'class': train_labels_str})\n",
    "    val_df = pd.DataFrame({'filename': val_paths, 'class': val_labels_str})\n",
    "\n",
    "    # Creating the data generators for each fold\n",
    "    train_generator = datagen.flow_from_dataframe(\n",
    "        dataframe=train_df,\n",
    "        x_col=\"filename\",\n",
    "        y_col=\"class\",\n",
    "        target_size=(224, 224),\n",
    "        batch_size=32,\n",
    "        class_mode='categorical'\n",
    "    )\n",
    "\n",
    "    val_generator = datagen.flow_from_dataframe(\n",
    "        dataframe=val_df,\n",
    "        x_col=\"filename\",\n",
    "        y_col=\"class\",\n",
    "        target_size=(224, 224),\n",
    "        batch_size=32,\n",
    "        class_mode='categorical'\n",
    "    )\n",
    "\n",
    "    # Loading the VGG16 model with its pre trained weights\n",
    "    base_model = VGG16(weights='imagenet', include_top=False, input_shape=(224, 224, 3))\n",
    "\n",
    "    # Freezing all the convolutional base layers\n",
    "    for layer in base_model.layers:\n",
    "        layer.trainable = False\n",
    "\n",
    "    # Adding my custom layers\n",
    "    x = base_model.output\n",
    "    x = Flatten()(x)\n",
    "    x = Dense(256, kernel_regularizer=tf.keras.regularizers.l2(0.002), dtype='float32')(x)\n",
    "    x = LeakyReLU(alpha=0.01)(x)\n",
    "    x = BatchNormalization()(x)\n",
    "    x = Dropout(0.5)(x)\n",
    "\n",
    "    x = Dense(128, kernel_regularizer=tf.keras.regularizers.l2(0.002), dtype='float32')(x)\n",
    "    x = LeakyReLU(alpha=0.01)(x)\n",
    "    x = BatchNormalization()(x)\n",
    "    predictions = Dense(3, activation='softmax', dtype='float32')(x)\n",
    "\n",
    "    # Defining the model\n",
    "    model = Model(inputs=base_model.input, outputs=predictions)\n",
    "\n",
    "    # Compiling the model\n",
    "    model.compile(optimizer=Adam(learning_rate=0.0001), loss='categorical_crossentropy', metrics=['accuracy'])\n",
    "\n",
    "    # Training the model for the fold\n",
    "    history = model.fit(\n",
    "        train_generator,\n",
    "        validation_data=val_generator,\n",
    "        epochs=50,\n",
    "        steps_per_epoch=len(train_generator),\n",
    "        validation_steps=len(val_generator)\n",
    "    )\n",
    "\n",
    "    fold_no += 1"
   ]
  },
  {
   "cell_type": "code",
   "execution_count": null,
   "metadata": {
    "colab": {
     "base_uri": "https://localhost:8080/"
    },
    "id": "749s4YMq6EIE",
    "outputId": "9165710c-1989-4219-9fd6-a40098410b58"
   },
   "outputs": [
    {
     "name": "stdout",
     "output_type": "stream",
     "text": [
      "Found 130 images belonging to 3 classes.\n"
     ]
    }
   ],
   "source": [
    "# Defining the test generator\n",
    "test_datagen = ImageDataGenerator(preprocessing_function=tf.keras.applications.vgg16.preprocess_input)\n",
    "\n",
    "test_generator = test_datagen.flow_from_directory(\n",
    "    test_dir,\n",
    "    target_size=(224, 224),\n",
    "    batch_size=32,\n",
    "    class_mode='categorical',\n",
    "    shuffle=False  # Important: No shuffling for test set\n",
    ")"
   ]
  },
  {
   "cell_type": "markdown",
   "metadata": {},
   "source": [
    "# **Evaluating the model**"
   ]
  },
  {
   "cell_type": "code",
   "execution_count": 18,
   "metadata": {
    "colab": {
     "base_uri": "https://localhost:8080/"
    },
    "id": "lyquA7tT6EFE",
    "outputId": "276941e6-cc3c-4b49-b375-ec03f80f4edf"
   },
   "outputs": [
    {
     "name": "stdout",
     "output_type": "stream",
     "text": [
      "\u001b[1m5/5\u001b[0m \u001b[32m━━━━━━━━━━━━━━━━━━━━\u001b[0m\u001b[37m\u001b[0m \u001b[1m67s\u001b[0m 17s/step - accuracy: 0.7897 - loss: 1.7484\n",
      "Test Accuracy: 0.7923076748847961\n"
     ]
    }
   ],
   "source": [
    "# Printing the test accuracy:\n",
    "test_loss, test_accuracy = model.evaluate(test_generator, steps=len(test_generator))\n",
    "print(f\"Test Accuracy: {test_accuracy}\")"
   ]
  },
  {
   "cell_type": "markdown",
   "metadata": {},
   "source": [
    "# **Plotting the training and validation loss and Acuracies**"
   ]
  },
  {
   "cell_type": "code",
   "execution_count": 19,
   "metadata": {
    "colab": {
     "base_uri": "https://localhost:8080/",
     "height": 370
    },
    "id": "wtZj4Z4J6EB7",
    "outputId": "fe907b08-84d4-46ad-a544-936a67734a4f"
   },
   "outputs": [
    {
     "data": {
      "image/png": "[encoded data removed]",
      "text/plain": [
       "<Figure size 1200x500 with 2 Axes>"
      ]
     },
     "metadata": {},
     "output_type": "display_data"
    }
   ],
   "source": [
    "# Extracting the loss and the accuracy from history\n",
    "train_loss = history.history['loss']\n",
    "val_loss = history.history['val_loss']\n",
    "train_acc = history.history['accuracy']\n",
    "val_acc = history.history['val_accuracy']\n",
    "epochs = range(1, len(train_loss) + 1)\n",
    "\n",
    "# Creating the subplots\n",
    "fig, axes = plt.subplots(1, 2, figsize=(12, 5))\n",
    "\n",
    "# Plotting the Loss\n",
    "axes[0].plot(epochs, train_loss, label='Train Loss', color='blue')\n",
    "axes[0].plot(epochs, val_loss, label='Validation Loss', color='red')\n",
    "axes[0].set_title('Loss')\n",
    "axes[0].set_xlabel('Epochs')\n",
    "axes[0].set_ylabel('Loss')\n",
    "axes[0].legend()\n",
    "\n",
    "# Plotting the Accuracy\n",
    "axes[1].plot(epochs, train_acc, label='Train Accuracy', color='blue')\n",
    "axes[1].plot(epochs, val_acc, label='Validation Accuracy', color='red')\n",
    "axes[1].set_title('Accuracy')\n",
    "axes[1].set_xlabel('Epochs')\n",
    "axes[1].set_ylabel('Accuracy')\n",
    "axes[1].legend()\n",
    "\n",
    "# Show plot\n",
    "plt.tight_layout()\n",
    "plt.show()"
   ]
  },
  {
   "cell_type": "markdown",
   "metadata": {},
   "source": [
    "# **Observations**\n",
    "### The Loss Curves shows that both the training loss (the blue line) and the validation loss (the red line) are decreasing over epochs which indicates that the model is learning.\n",
    "\n",
    "### The accuracy curves shows that both the training accuracy (the blue line) and the validation accuracy (the red line) are increase over time.\n",
    "\n",
    "### Both the loss and the accuracy curves showing that the model has a good performance"
   ]
  },
  {
   "cell_type": "markdown",
   "metadata": {},
   "source": [
    "# **Printing the classification Report**"
   ]
  },
  {
   "cell_type": "code",
   "execution_count": 20,
   "metadata": {
    "colab": {
     "base_uri": "https://localhost:8080/"
    },
    "id": "J4dayOI36D-p",
    "outputId": "03c59516-31ad-4f92-94cb-4fb619db214c"
   },
   "outputs": [
    {
     "name": "stdout",
     "output_type": "stream",
     "text": [
      "\u001b[1m5/5\u001b[0m \u001b[32m━━━━━━━━━━━━━━━━━━━━\u001b[0m\u001b[37m\u001b[0m \u001b[1m2s\u001b[0m 284ms/step\n",
      "              precision    recall  f1-score   support\n",
      "\n",
      "         dry       0.73      0.77      0.75        35\n",
      "      normal       0.86      0.80      0.83        46\n",
      "        oily       0.78      0.80      0.79        49\n",
      "\n",
      "    accuracy                           0.79       130\n",
      "   macro avg       0.79      0.79      0.79       130\n",
      "weighted avg       0.79      0.79      0.79       130\n",
      "\n"
     ]
    }
   ],
   "source": [
    "# Getting the true labels and the predictions for the test dataset\n",
    "y_true = test_generator.classes\n",
    "y_pred_probs = model.predict(test_generator)\n",
    "y_pred = np.argmax(y_pred_probs, axis=1)  # Convert probabilities to class labels\n",
    "\n",
    "# Getting the class names\n",
    "class_labels = list(test_generator.class_indices.keys())\n",
    "\n",
    "# Printing the classification report\n",
    "print(classification_report(y_true, y_pred, target_names=class_labels))"
   ]
  },
  {
   "cell_type": "markdown",
   "metadata": {},
   "source": [
    "# **Observation**\n",
    "### The Model achieved an accuracy of 79%.\n",
    "### The best performance of the model is on the \"Normal skin\" class (the Precision=0.86, the Recall=0.80, and the F1-score=0.83\n",
    "### And the Weakest Performance is on the \"Dry skin\" class (the Precision=0.73, the Recall=0.77, and the F1-score=0.75)\n",
    "### The Macro and the Weighted Averages (F1-score = 0.79) which shows that the performance of the model is fairly balanced across all the classes.\n",
    "### The model performance is overall good but also it could be improved especially in the classification of the dry skin."
   ]
  },
  {
   "cell_type": "markdown",
   "metadata": {},
   "source": [
    "# **Printing the Confusion Matrix**  "
   ]
  },
  {
   "cell_type": "code",
   "execution_count": 21,
   "metadata": {
    "colab": {
     "base_uri": "https://localhost:8080/",
     "height": 487
    },
    "id": "TYLjguuE7avL",
    "outputId": "b1495850-e5da-48a5-8b32-1a4e143b3622"
   },
   "outputs": [
    {
     "data": {
      "image/png": "[encoded data removed]",
      "text/plain": [
       "<Figure size 600x500 with 2 Axes>"
      ]
     },
     "metadata": {},
     "output_type": "display_data"
    }
   ],
   "source": [
    "# Computing the confusion matrix\n",
    "cm = confusion_matrix(y_true, y_pred)\n",
    "\n",
    "# Plottin the confusion matrix\n",
    "plt.figure(figsize=(6, 5))\n",
    "sns.heatmap(cm, annot=True, fmt=\"d\", cmap=\"Blues\", xticklabels=class_names, yticklabels=class_names)\n",
    "\n",
    "# The Labels and the title\n",
    "plt.xlabel(\"Predicted Label\")\n",
    "plt.ylabel(\"True Label\")\n",
    "plt.title(\"Confusion Matrix\")\n",
    "plt.show()"
   ]
  },
  {
   "cell_type": "markdown",
   "metadata": {},
   "source": [
    "# **Observation**\n",
    "### The model classified 27 \"Dry\" skin images from 35 images (There are 4 misclassified images as \"Normal\" skin and 4 misclassified imagesas \"Oily\").\n",
    "### It also classified 37 \"Normal\" skin images from 46 images (There are 2 misclassified images as \"Dry\" skinand 7 misclassified imagesas \"Oily\").\n",
    "### It also classified 39 \"Oily\" skin images from 49 images (There are 8 misclassified images as \"Dry\" skinand 2 misclassified imagesas \"Normal\").\n",
    "### This shows that the missclassifications between the \"Dry\" class and the \"Oily\" class is relatively high (8 images) and the \"Normal\" skin is the most accurately classified class."
   ]
  },
  {
   "cell_type": "markdown",
   "metadata": {},
   "source": [
    "# **Saving the Model**"
   ]
  },
  {
   "cell_type": "code",
   "execution_count": null,
   "metadata": {},
   "outputs": [],
   "source": [
    "# # Saving the model as .keras\n",
    "# from tensorflow.keras.models import save_model\n",
    "\n",
    "# # Saving the entire model\n",
    "# model.save('/content/drive/My Drive/Skin_1000_dataset/Best_Accuracy_Skin_Classification_Model.keras')\n",
    "# # Saving the model as .h5\n",
    "# # Saving the entire model\n",
    "# model.save('/content/drive/My Drive/Skin_1000_dataset/Best_Accuracy_Skin_Classification_Model.h5')"
   ]
  },
  {
   "cell_type": "markdown",
   "metadata": {},
   "source": [
    "# **Loading the model**"
   ]
  },
  {
   "cell_type": "code",
   "execution_count": 28,
   "metadata": {
    "colab": {
     "base_uri": "https://localhost:8080/"
    },
    "id": "EVEG8Kv212qV",
    "outputId": "af3eaec4-77cc-4cf0-8b62-d6cb6aac481c"
   },
   "outputs": [
    {
     "name": "stderr",
     "output_type": "stream",
     "text": [
      "WARNING:absl:Compiled the loaded model, but the compiled metrics have yet to be built. `model.compile_metrics` will be empty until you train or evaluate the model.\n"
     ]
    }
   ],
   "source": [
    "# Defining the custom Cast layer\n",
    "class Cast(tf.keras.layers.Layer):\n",
    "    def __init__(self, **kwargs):\n",
    "        super(Cast, self).__init__(**kwargs)\n",
    "\n",
    "    def call(self, inputs):\n",
    "        return tf.cast(inputs, tf.float32)\n",
    "\n",
    "# Creating the custom objects dictionary including the LeakyReLU\n",
    "custom_objects = {\n",
    "    'Cast': Cast,\n",
    "    'LeakyReLU': tf.keras.layers.LeakyReLU\n",
    "}\n",
    "\n",
    "# Loading the model with the custom objects\n",
    "loaded_model = load_model(\n",
    "    'Best_Accuracy_Skin_Classification_Model.h5',\n",
    "    custom_objects=custom_objects\n",
    ")"
   ]
  },
  {
   "cell_type": "markdown",
   "metadata": {},
   "source": [
    "# **Printing the classification report of the loaded model**"
   ]
  },
  {
   "cell_type": "code",
   "execution_count": 29,
   "metadata": {
    "colab": {
     "base_uri": "https://localhost:8080/"
    },
    "id": "Vj7dY03V12mq",
    "outputId": "7a61880f-e4b9-4c7e-d19c-2e60aed28a83"
   },
   "outputs": [
    {
     "name": "stdout",
     "output_type": "stream",
     "text": [
      "\u001b[1m5/5\u001b[0m \u001b[32m━━━━━━━━━━━━━━━━━━━━\u001b[0m\u001b[37m\u001b[0m \u001b[1m3s\u001b[0m 378ms/step\n",
      "              precision    recall  f1-score   support\n",
      "\n",
      "         dry       0.73      0.77      0.75        35\n",
      "      normal       0.86      0.80      0.83        46\n",
      "        oily       0.78      0.80      0.79        49\n",
      "\n",
      "    accuracy                           0.79       130\n",
      "   macro avg       0.79      0.79      0.79       130\n",
      "weighted avg       0.79      0.79      0.79       130\n",
      "\n"
     ]
    }
   ],
   "source": [
    "# Getting the true labels and the predictions of the test data\n",
    "y_true = test_generator.classes\n",
    "y_pred_probs = loaded_model.predict(test_generator)\n",
    "y_pred = np.argmax(y_pred_probs, axis=1)  # Convert probabilities to class labels\n",
    "\n",
    "# Getting the class names\n",
    "class_labels = list(test_generator.class_indices.keys())\n",
    "\n",
    "# Printing the classification report\n",
    "print(classification_report(y_true, y_pred, target_names=class_labels))"
   ]
  }
 ],
 "metadata": {
  "accelerator": "GPU",
  "colab": {
   "gpuType": "T4",
   "provenance": []
  },
  "kaggle": {
   "accelerator": "nvidiaTeslaT4",
   "dataSources": [
    {
     "datasetId": 6717264,
     "sourceId": 10818841,
     "sourceType": "datasetVersion"
    }
   ],
   "dockerImageVersionId": 30919,
   "isGpuEnabled": true,
   "isInternetEnabled": true,
   "language": "python",
   "sourceType": "notebook"
  },
  "kernelspec": {
   "display_name": "Python 3",
   "language": "python",
   "name": "python3"
  },
  "language_info": {
   "codemirror_mode": {
    "name": "ipython",
    "version": 3
   },
   "file_extension": ".py",
   "mimetype": "text/x-python",
   "name": "python",
   "nbconvert_exporter": "python",
   "pygments_lexer": "ipython3",
   "version": "3.12.7"
  }
 },
 "nbformat": 4,
 "nbformat_minor": 4
}
